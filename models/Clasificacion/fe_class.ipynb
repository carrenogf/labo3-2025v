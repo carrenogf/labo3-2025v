{
 "cells": [
  {
   "cell_type": "code",
   "execution_count": 1,
   "id": "fb271de6",
   "metadata": {},
   "outputs": [],
   "source": [
    "import pandas as pd\n",
    "import gc\n",
    "from reducirDT import optimize_memory_usage"
   ]
  },
  {
   "cell_type": "code",
   "execution_count": 2,
   "id": "ab5e1431",
   "metadata": {},
   "outputs": [
    {
     "name": "stdout",
     "output_type": "stream",
     "text": [
      "Memoria inicial: 4195.18 MB\n",
      "Memoria final:   1080.95 MB\n",
      "Reducción:       74.23%\n"
     ]
    },
    {
     "data": {
      "application/vnd.microsoft.datawrangler.viewer.v0+json": {
       "columns": [
        {
         "name": "index",
         "rawType": "int64",
         "type": "integer"
        },
        {
         "name": "product_id",
         "rawType": "uint16",
         "type": "integer"
        },
        {
         "name": "customer_id",
         "rawType": "uint16",
         "type": "integer"
        },
        {
         "name": "periodo",
         "rawType": "uint32",
         "type": "integer"
        },
        {
         "name": "periodo_producto",
         "rawType": "float16",
         "type": "float"
        },
        {
         "name": "nacimiento_producto",
         "rawType": "uint32",
         "type": "integer"
        },
        {
         "name": "tn",
         "rawType": "float16",
         "type": "float"
        },
        {
         "name": "cust_request_tn",
         "rawType": "float32",
         "type": "float"
        },
        {
         "name": "cust_request_qty",
         "rawType": "float32",
         "type": "float"
        },
        {
         "name": "cat1",
         "rawType": "category",
         "type": "unknown"
        },
        {
         "name": "cat2",
         "rawType": "category",
         "type": "unknown"
        },
        {
         "name": "cat3",
         "rawType": "category",
         "type": "unknown"
        },
        {
         "name": "brand",
         "rawType": "category",
         "type": "unknown"
        },
        {
         "name": "sku_size",
         "rawType": "float32",
         "type": "float"
        },
        {
         "name": "stock_final",
         "rawType": "float32",
         "type": "float"
        },
        {
         "name": "plan_precios_cuidados",
         "rawType": "float32",
         "type": "float"
        },
        {
         "name": "periodo_dt",
         "rawType": "datetime64[ns]",
         "type": "datetime"
        },
        {
         "name": "periodo_target_dt",
         "rawType": "datetime64[ns]",
         "type": "datetime"
        },
        {
         "name": "compro",
         "rawType": "uint8",
         "type": "integer"
        },
        {
         "name": "target",
         "rawType": "float32",
         "type": "float"
        }
       ],
       "ref": "2295a972-2b77-4a33-a0a3-1a9a0bd12a60",
       "rows": [
        [
         "0",
         "20524",
         "10234",
         "201701",
         "6.48",
         "201701",
         "0.053",
         "0.053",
         "2.0",
         "HC",
         "VAJILLA",
         "Cristalino",
         "Importado",
         "500.0",
         null,
         "0.0",
         "2017-01-01 00:00:00",
         "2017-03-01 00:00:00",
         "1",
         "1.0"
        ],
        [
         "1",
         "20524",
         "10234",
         "201702",
         "3.998",
         "201701",
         "0.0",
         null,
         null,
         null,
         null,
         null,
         null,
         null,
         null,
         null,
         "2017-02-01 00:00:00",
         "2017-04-01 00:00:00",
         "0",
         "0.0"
        ],
        [
         "2",
         "20524",
         "10234",
         "201703",
         "7.15",
         "201701",
         "0.01514",
         "0.01514",
         "1.0",
         "HC",
         "VAJILLA",
         "Cristalino",
         "Importado",
         "500.0",
         null,
         "0.0",
         "2017-03-01 00:00:00",
         "2017-05-01 00:00:00",
         "1",
         "0.0"
        ],
        [
         "3",
         "20524",
         "10234",
         "201704",
         "6.82",
         "201701",
         "0.0",
         null,
         null,
         null,
         null,
         null,
         null,
         null,
         null,
         null,
         "2017-04-01 00:00:00",
         "2017-06-01 00:00:00",
         "0",
         "1.0"
        ],
        [
         "4",
         "20524",
         "10234",
         "201705",
         "9.26",
         "201701",
         "0.0",
         null,
         null,
         null,
         null,
         null,
         null,
         null,
         null,
         null,
         "2017-05-01 00:00:00",
         "2017-07-01 00:00:00",
         "0",
         "0.0"
        ]
       ],
       "shape": {
        "columns": 19,
        "rows": 5
       }
      },
      "text/html": [
       "<div>\n",
       "<style scoped>\n",
       "    .dataframe tbody tr th:only-of-type {\n",
       "        vertical-align: middle;\n",
       "    }\n",
       "\n",
       "    .dataframe tbody tr th {\n",
       "        vertical-align: top;\n",
       "    }\n",
       "\n",
       "    .dataframe thead th {\n",
       "        text-align: right;\n",
       "    }\n",
       "</style>\n",
       "<table border=\"1\" class=\"dataframe\">\n",
       "  <thead>\n",
       "    <tr style=\"text-align: right;\">\n",
       "      <th></th>\n",
       "      <th>product_id</th>\n",
       "      <th>customer_id</th>\n",
       "      <th>periodo</th>\n",
       "      <th>periodo_producto</th>\n",
       "      <th>nacimiento_producto</th>\n",
       "      <th>tn</th>\n",
       "      <th>cust_request_tn</th>\n",
       "      <th>cust_request_qty</th>\n",
       "      <th>cat1</th>\n",
       "      <th>cat2</th>\n",
       "      <th>cat3</th>\n",
       "      <th>brand</th>\n",
       "      <th>sku_size</th>\n",
       "      <th>stock_final</th>\n",
       "      <th>plan_precios_cuidados</th>\n",
       "      <th>periodo_dt</th>\n",
       "      <th>periodo_target_dt</th>\n",
       "      <th>compro</th>\n",
       "      <th>target</th>\n",
       "    </tr>\n",
       "  </thead>\n",
       "  <tbody>\n",
       "    <tr>\n",
       "      <th>0</th>\n",
       "      <td>20524</td>\n",
       "      <td>10234</td>\n",
       "      <td>201701</td>\n",
       "      <td>6.480469</td>\n",
       "      <td>201701</td>\n",
       "      <td>0.053009</td>\n",
       "      <td>0.05300</td>\n",
       "      <td>2.0</td>\n",
       "      <td>HC</td>\n",
       "      <td>VAJILLA</td>\n",
       "      <td>Cristalino</td>\n",
       "      <td>Importado</td>\n",
       "      <td>500.0</td>\n",
       "      <td>NaN</td>\n",
       "      <td>0.0</td>\n",
       "      <td>2017-01-01</td>\n",
       "      <td>2017-03-01</td>\n",
       "      <td>1</td>\n",
       "      <td>1.0</td>\n",
       "    </tr>\n",
       "    <tr>\n",
       "      <th>1</th>\n",
       "      <td>20524</td>\n",
       "      <td>10234</td>\n",
       "      <td>201702</td>\n",
       "      <td>3.998047</td>\n",
       "      <td>201701</td>\n",
       "      <td>0.000000</td>\n",
       "      <td>NaN</td>\n",
       "      <td>NaN</td>\n",
       "      <td>NaN</td>\n",
       "      <td>NaN</td>\n",
       "      <td>NaN</td>\n",
       "      <td>NaN</td>\n",
       "      <td>NaN</td>\n",
       "      <td>NaN</td>\n",
       "      <td>NaN</td>\n",
       "      <td>2017-02-01</td>\n",
       "      <td>2017-04-01</td>\n",
       "      <td>0</td>\n",
       "      <td>0.0</td>\n",
       "    </tr>\n",
       "    <tr>\n",
       "      <th>2</th>\n",
       "      <td>20524</td>\n",
       "      <td>10234</td>\n",
       "      <td>201703</td>\n",
       "      <td>7.148438</td>\n",
       "      <td>201701</td>\n",
       "      <td>0.015137</td>\n",
       "      <td>0.01514</td>\n",
       "      <td>1.0</td>\n",
       "      <td>HC</td>\n",
       "      <td>VAJILLA</td>\n",
       "      <td>Cristalino</td>\n",
       "      <td>Importado</td>\n",
       "      <td>500.0</td>\n",
       "      <td>NaN</td>\n",
       "      <td>0.0</td>\n",
       "      <td>2017-03-01</td>\n",
       "      <td>2017-05-01</td>\n",
       "      <td>1</td>\n",
       "      <td>0.0</td>\n",
       "    </tr>\n",
       "    <tr>\n",
       "      <th>3</th>\n",
       "      <td>20524</td>\n",
       "      <td>10234</td>\n",
       "      <td>201704</td>\n",
       "      <td>6.820312</td>\n",
       "      <td>201701</td>\n",
       "      <td>0.000000</td>\n",
       "      <td>NaN</td>\n",
       "      <td>NaN</td>\n",
       "      <td>NaN</td>\n",
       "      <td>NaN</td>\n",
       "      <td>NaN</td>\n",
       "      <td>NaN</td>\n",
       "      <td>NaN</td>\n",
       "      <td>NaN</td>\n",
       "      <td>NaN</td>\n",
       "      <td>2017-04-01</td>\n",
       "      <td>2017-06-01</td>\n",
       "      <td>0</td>\n",
       "      <td>1.0</td>\n",
       "    </tr>\n",
       "    <tr>\n",
       "      <th>4</th>\n",
       "      <td>20524</td>\n",
       "      <td>10234</td>\n",
       "      <td>201705</td>\n",
       "      <td>9.257812</td>\n",
       "      <td>201701</td>\n",
       "      <td>0.000000</td>\n",
       "      <td>NaN</td>\n",
       "      <td>NaN</td>\n",
       "      <td>NaN</td>\n",
       "      <td>NaN</td>\n",
       "      <td>NaN</td>\n",
       "      <td>NaN</td>\n",
       "      <td>NaN</td>\n",
       "      <td>NaN</td>\n",
       "      <td>NaN</td>\n",
       "      <td>2017-05-01</td>\n",
       "      <td>2017-07-01</td>\n",
       "      <td>0</td>\n",
       "      <td>0.0</td>\n",
       "    </tr>\n",
       "  </tbody>\n",
       "</table>\n",
       "</div>"
      ],
      "text/plain": [
       "   product_id  customer_id  periodo  periodo_producto  nacimiento_producto  \\\n",
       "0       20524        10234   201701          6.480469               201701   \n",
       "1       20524        10234   201702          3.998047               201701   \n",
       "2       20524        10234   201703          7.148438               201701   \n",
       "3       20524        10234   201704          6.820312               201701   \n",
       "4       20524        10234   201705          9.257812               201701   \n",
       "\n",
       "         tn  cust_request_tn  cust_request_qty cat1     cat2        cat3  \\\n",
       "0  0.053009          0.05300               2.0   HC  VAJILLA  Cristalino   \n",
       "1  0.000000              NaN               NaN  NaN      NaN         NaN   \n",
       "2  0.015137          0.01514               1.0   HC  VAJILLA  Cristalino   \n",
       "3  0.000000              NaN               NaN  NaN      NaN         NaN   \n",
       "4  0.000000              NaN               NaN  NaN      NaN         NaN   \n",
       "\n",
       "       brand  sku_size  stock_final  plan_precios_cuidados periodo_dt  \\\n",
       "0  Importado     500.0          NaN                    0.0 2017-01-01   \n",
       "1        NaN       NaN          NaN                    NaN 2017-02-01   \n",
       "2  Importado     500.0          NaN                    0.0 2017-03-01   \n",
       "3        NaN       NaN          NaN                    NaN 2017-04-01   \n",
       "4        NaN       NaN          NaN                    NaN 2017-05-01   \n",
       "\n",
       "  periodo_target_dt  compro  target  \n",
       "0        2017-03-01       1     1.0  \n",
       "1        2017-04-01       0     0.0  \n",
       "2        2017-05-01       1     0.0  \n",
       "3        2017-06-01       0     1.0  \n",
       "4        2017-07-01       0     0.0  "
      ]
     },
     "execution_count": 2,
     "metadata": {},
     "output_type": "execute_result"
    }
   ],
   "source": [
    "df = pd.read_parquet(\"../../datasets/df_target_class.parquet\")\n",
    "df = optimize_memory_usage(df)\n",
    "df.head()"
   ]
  },
  {
   "cell_type": "code",
   "execution_count": 3,
   "id": "72377a0a",
   "metadata": {},
   "outputs": [
    {
     "name": "stderr",
     "output_type": "stream",
     "text": [
      "C:\\Users\\carre\\AppData\\Local\\Temp\\ipykernel_13616\\1144480579.py:11: FutureWarning: The default of observed=False is deprecated and will be changed to True in a future version of pandas. Pass observed=False to retain current behavior or observed=True to adopt the future default and silence this warning.\n",
      "  df['size_vs_category'] = df['sku_size'] / df.groupby('cat3')['sku_size'].transform('mean')\n"
     ]
    }
   ],
   "source": [
    "df[\"periodo_dt\"] = pd.to_datetime(df[\"periodo_dt\"], format='%Y-%m-%d')\n",
    "df = df.sort_values(['product_id', 'customer_id', 'periodo_dt'])\n",
    "\n",
    "\n",
    "df[\"month\"] = df[\"periodo_dt\"].dt.month\n",
    "df[\"year\"] = df[\"periodo_dt\"].dt.year\n",
    "df['quarter'] = df['month'].apply(lambda x: (x-1)//3 + 1)\n",
    "df['semester'] = df['month'].apply(lambda x: 1 if x <=6 else 2)\n",
    "df['is_month_end'] = df['month'].isin([1, 3, 5, 7, 8, 10, 12])  # Meses con 31 días\n",
    "df['season'] = df['month']%12 // 3 + 1  # 1:Invierno, 2:Primavera, etc.\n",
    "df['size_vs_category'] = df['sku_size'] / df.groupby('cat3')['sku_size'].transform('mean')\n",
    "\n",
    "\n",
    "# Crear lags\n",
    "df['lag_1m'] = df.groupby(['product_id', 'customer_id'])['tn'].shift(1)\n",
    "df['lag_3m'] = df.groupby(['product_id', 'customer_id'])['tn'].shift(3)\n",
    "df['lag_6m'] = df.groupby(['product_id', 'customer_id'])['tn'].shift(6)\n",
    "df['lag_12m'] = df.groupby(['product_id', 'customer_id'])['tn'].shift(12)\n",
    "\n"
   ]
  },
  {
   "cell_type": "code",
   "execution_count": 4,
   "id": "e3417657",
   "metadata": {},
   "outputs": [],
   "source": [
    "# Precomputar la condición (x != 0) una sola vez\n",
    "condition = (df['target'] != 0).astype(int)\n",
    "\n",
    "# Calcular los grupos de meses consecutivos\n",
    "groups = condition.ne(condition.shift()).cumsum()\n",
    "\n",
    "# Aplicar cumsum dentro de cada grupo\n",
    "df['consecutive_months'] = df.groupby(['product_id', 'customer_id', groups]).cumcount().where(condition == 1, 0)"
   ]
  },
  {
   "cell_type": "code",
   "execution_count": 5,
   "id": "6b43bee6",
   "metadata": {},
   "outputs": [],
   "source": [
    "# Precomputar la condición (x != 0) una sola vez\n",
    "condition = (df['target'] == 0).astype(int)\n",
    "\n",
    "# Calcular los grupos de meses consecutivos\n",
    "groups = condition.ne(condition.shift()).cumsum()\n",
    "\n",
    "# Aplicar cumsum dentro de cada grupo\n",
    "df['consecutive_months_0'] = df.groupby(['product_id', 'customer_id', groups]).cumcount().where(condition == 1, 0)"
   ]
  },
  {
   "cell_type": "code",
   "execution_count": null,
   "id": "8ca087c9",
   "metadata": {},
   "outputs": [],
   "source": [
    "# moda_tn demora 6 minutos\n",
    "from scipy.stats import mode\n",
    "\n",
    "moda_por_grupo = df.groupby(['product_id', 'customer_id'])['tn'].agg(\n",
    "    lambda x: mode(x, keepdims=False).mode if len(x) > 0 else 0\n",
    ").reset_index(name='moda_tn_temp')\n",
    "\n",
    "df = df.merge(moda_por_grupo, on=['product_id', 'customer_id'], how='left')"
   ]
  },
  {
   "cell_type": "code",
   "execution_count": 6,
   "id": "b942fa51",
   "metadata": {},
   "outputs": [],
   "source": [
    "# tn / moda_tn\n",
    "df['tn_moda_tn'] = df['tn'] / df['moda_tn_temp']\n"
   ]
  },
  {
   "cell_type": "code",
   "execution_count": 6,
   "id": "9f643335",
   "metadata": {},
   "outputs": [],
   "source": [
    "# demora 1 minuto y medio\n",
    "grouper = df.groupby(['product_id', 'customer_id'])['tn']\n",
    "df['rolling_3m_mean']  = grouper.rolling(3, min_periods=1).mean().reset_index(level=[0,1], drop=True)\n",
    "df['rolling_6m_mean']  = grouper.rolling(6, min_periods=1).mean().reset_index(level=[0,1], drop=True)\n",
    "df['rolling_12m_mean'] = grouper.rolling(12, min_periods=1).mean().reset_index(level=[0,1], drop=True)"
   ]
  },
  {
   "cell_type": "code",
   "execution_count": 7,
   "id": "cbbab4c5",
   "metadata": {},
   "outputs": [],
   "source": [
    "# Paso 1: Calcular las medias por grupo\n",
    "mean_tn = df.groupby(['product_id', 'month'])['tn'].mean().reset_index(name='annual_trend_temp')\n",
    "\n",
    "# Paso 2: Unir al DataFrame original\n",
    "df = df.merge(mean_tn, on=['product_id', 'month'], how='left')\n",
    "df['annual_trend'] = df['annual_trend_temp']\n",
    "df.drop(columns=['annual_trend_temp'], inplace=True)"
   ]
  },
  {
   "cell_type": "code",
   "execution_count": 8,
   "id": "540dc635",
   "metadata": {},
   "outputs": [],
   "source": [
    "# Paso 1: Calcular suma total por grupo\n",
    "sum_cliente_periodo = df.groupby(['customer_id', 'periodo'])['tn'].sum().reset_index(name='sum_tn')\n",
    "\n",
    "# Paso 2: Unir al DataFrame original\n",
    "df = df.merge(sum_cliente_periodo, on=['customer_id', 'periodo'], how='left')\n",
    "\n",
    "# Paso 3: Calcular proporción\n",
    "df['proporcion_producto_en_total_mes'] = df['tn'] / df['sum_tn']\n",
    "df['total_cliente_mes'] = df['sum_tn']  # Opcional\n",
    "df.drop(columns=['sum_tn'], inplace=True)  # Limpieza"
   ]
  },
  {
   "cell_type": "code",
   "execution_count": 9,
   "id": "a8a7c717",
   "metadata": {},
   "outputs": [],
   "source": [
    "df.to_parquet(\"../../datasets/dt_fe_class.parquet\", index=False)"
   ]
  },
  {
   "cell_type": "code",
   "execution_count": null,
   "id": "7ca01545",
   "metadata": {},
   "outputs": [],
   "source": []
  }
 ],
 "metadata": {
  "kernelspec": {
   "display_name": "py310",
   "language": "python",
   "name": "python3"
  },
  "language_info": {
   "codemirror_mode": {
    "name": "ipython",
    "version": 3
   },
   "file_extension": ".py",
   "mimetype": "text/x-python",
   "name": "python",
   "nbconvert_exporter": "python",
   "pygments_lexer": "ipython3",
   "version": "3.10.18"
  }
 },
 "nbformat": 4,
 "nbformat_minor": 5
}
