{
 "cells": [
  {
   "cell_type": "code",
   "execution_count": 1,
   "id": "5ee82db2",
   "metadata": {},
   "outputs": [],
   "source": [
    "import pandas as pd\n",
    "import gc\n",
    "import numpy as np\n",
    "from sklearn.preprocessing import StandardScaler, RobustScaler\n",
    "\n",
    "import tensorflow as tf"
   ]
  },
  {
   "cell_type": "code",
   "execution_count": 2,
   "id": "4b3b1e01",
   "metadata": {},
   "outputs": [],
   "source": [
    "config = {\n",
    "        # Arquitectura\n",
    "        \"result_name\": \"lstm_5q_share_withmonth\",\n",
    "        \"lstm_units_1\": 64,\n",
    "        \"lstm_units_2\": 32,\n",
    "        \"dense_units\": 16,\n",
    "        \"dropout_rate\": 0.3,\n",
    "        \"seed\": 42,  # Para reproducibilidad\n",
    "        # Entrenamiento\n",
    "        \"epochs\": 150,\n",
    "        \"batch_size\": 64,\n",
    "        \"early_stopping_patience\": 30,\n",
    "        \"learning_rate\": None,  # Si querés usar Adam con tasa específica\n",
    "\n",
    "        # Regularización\n",
    "        \"l2_lambda\": 0.001,\n",
    "\n",
    "        # Optimizador\n",
    "        \"optimizer\": \"rmsprop\",  # adam, sgd, rmsprop, etc.\n",
    "\n",
    "        # Preprocesamiento\n",
    "        \"scaler_name\": \"robust\",  # standard o robust\n",
    "\n",
    "        # Ventana temporal\n",
    "        \"window_size\": 6,\n",
    "        \"feature_cols\" : ['tn', \n",
    "                          \n",
    "                          #'tn_lag1', \n",
    "                          #'tn_lag6', \n",
    "                          #'tn_lag12', \n",
    "                          #'tn_diff1', \n",
    "                          #'tn_diff6',\n",
    "                        #'rolling_mean6', \n",
    "                        #'rolling_std6', \n",
    "                        # 'rolling_max3', \n",
    "                        # 'rolling_min3',\n",
    "                        # 'rolling_max6',\n",
    "                        # 'rolling_min6',\n",
    "                        #\"size\"\n",
    "                        #\"quantil_std\",\n",
    "                        #\"sin_mes\",\n",
    "                        #\"quarter\",\n",
    "                        ],\n",
    "        \"products_to_train\": None,  # Filtrar productos entre 50 y 150\n",
    "    }\n"
   ]
  },
  {
   "cell_type": "code",
   "execution_count": 3,
   "id": "f0ae8ad0",
   "metadata": {},
   "outputs": [],
   "source": [
    "df = pd.read_csv(\"../datasets/sell-in.txt.gz\", sep=\"\\t\")\n",
    "\n",
    "productos_ok = pd.read_csv(\"https://storage.googleapis.com/open-courses/austral2025-af91/labo3v/product_id_apredecir201912.txt\", sep=\"\\t\")\n",
    "\n",
    "df = df[df[\"product_id\"].isin(productos_ok[\"product_id\"])]\n",
    "\n",
    "periodos = df[\"periodo\"].unique()\n",
    "ultimos_6_meses = list(periodos[-6:])\n",
    "std6 = df.query(\"periodo in @ultimos_6_meses\").groupby(\"product_id\")[\"tn\"].std().reset_index().fillna(0)\n",
    "std6.columns = [\"product_id\", \"std6\"]\n",
    "std6.sort_values(by=\"std6\", ascending=False, inplace=True)\n",
    "std6[\"grupo\"] = pd.qcut(std6[\"std6\"], 5, labels=False)\n",
    "productos = list(df[\"product_id\"].unique())\n",
    "productos.sort()\n",
    "# Filtrar productos entre 50 y 150\n",
    "max_std = std6[\"grupo\"].max()\n",
    "#std6.loc[std6[\"product_id\"].isin(productos[:50]), \"grupo\"] = max_std + 1  # Asegurar que los productos filtrados tengan un quantil distinto\n",
    "grupo_dict = {int(r.product_id): int(r.grupo) for i, r in std6.iterrows()}\n",
    "\n"
   ]
  },
  {
   "cell_type": "code",
   "execution_count": 4,
   "id": "355de40c",
   "metadata": {},
   "outputs": [],
   "source": [
    "# import pandas as pd\n",
    "\n",
    "# df = pd.read_csv(\"../datasets/sell-in.txt.gz\", sep=\"\\t\")\n",
    "\n",
    "# # Seleccionar los últimos 6 meses (ajusté a 6 como en el nombre de la variable, aunque tu lista tenía 12)\n",
    "# periodos = df[\"periodo\"].unique()\n",
    "# ultimos_6_meses = list(periodos[-6:])  # Cambiado a 6 para coincidir con el nombre\n",
    "\n",
    "# # Calcular media y desviación estándar para cada producto\n",
    "# stats_6 = df.query(\"periodo in @ultimos_6_meses\").groupby(\"product_id\")[\"tn\"].agg(['std', 'mean']).reset_index().fillna(0)\n",
    "\n",
    "# # Calcular coeficiente de variación (en porcentaje)\n",
    "# stats_6['cv'] = (stats_6['std'] / stats_6['mean']) * 100\n",
    "# # Manejar casos donde la media es 0 (cv infinito)\n",
    "# stats_6['cv'] = stats_6['cv'].replace([float('inf'), -float('inf')], 0)\n",
    "\n",
    "# # Ordenar por CV\n",
    "# stats_6.sort_values(by=\"cv\", ascending=False, inplace=True)\n",
    "\n",
    "# # Crear quantiles basados en el CV\n",
    "# stats_6[\"quantil_cv\"] = pd.qcut(stats_6[\"cv\"], 5, labels=False) \n",
    "\n",
    "# # Crear el diccionario final\n",
    "# cv_dict = {int(r.product_id): int(r.quantil_cv) for i, r in stats_6.iterrows()}"
   ]
  },
  {
   "cell_type": "code",
   "execution_count": 5,
   "id": "57176c07",
   "metadata": {},
   "outputs": [],
   "source": [
    "# Cargar de nuevo por claridad\n",
    "\n",
    "# Agrupar y sumar las toneladas por producto y período\n",
    "df_grouped = df.groupby([\"product_id\", \"periodo\"]).agg({\"tn\": \"sum\"}).reset_index()\n",
    "\n",
    "# # Calcular el total de toneladas por período\n",
    "# total_por_periodo = df_grouped.groupby(\"periodo\")[\"tn\"].transform(\"sum\")\n",
    "\n",
    "# # Calcular la ponderación (porcentaje) de cada producto respecto al total de su período\n",
    "# df_grouped[\"tn\"] = (df_grouped[\"tn\"] / total_por_periodo) * 100\n",
    "\n",
    "# # Opcional: redondear los resultados para mejor presentación\n",
    "# df_grouped[\"tn\"] = df_grouped[\"tn\"].round(2)\n",
    "\n",
    "\n",
    "# Encontrar el primer período para cada producto\n",
    "min_periods = df_grouped.groupby(\"product_id\")[\"periodo\"].min().reset_index()\n",
    "\n",
    "# Crear todas las combinaciones relevantes\n",
    "all_periods = df_grouped[\"periodo\"].unique()\n",
    "all_periods.sort()\n",
    "\n",
    "# Usar un merge cartesiano con filtro posterior\n",
    "df = (\n",
    "    min_periods.merge(pd.DataFrame({\"periodo\": all_periods}), how=\"cross\")\n",
    "    .query(\"periodo_y >= periodo_x\")\n",
    "    .drop(columns=\"periodo_x\")\n",
    "    .rename(columns={\"periodo_y\": \"periodo\"})\n",
    "    .merge(df_grouped, on=[\"product_id\", \"periodo\"], how=\"left\")\n",
    "    .fillna(0)\n",
    "    .sort_values([\"product_id\", \"periodo\"])\n",
    "    .reset_index(drop=True)\n",
    ")"
   ]
  },
  {
   "cell_type": "code",
   "execution_count": 6,
   "id": "6f76caaa",
   "metadata": {},
   "outputs": [
    {
     "name": "stdout",
     "output_type": "stream",
     "text": [
      "(22375, 11)\n"
     ]
    }
   ],
   "source": [
    "\n",
    "\n",
    "# Agregación mensual por producto\n",
    "# df = df.groupby([\"product_id\", \"periodo\"]).agg({\"tn\": \"sum\"}).sort_values([\"product_id\", \"periodo\"]).reset_index()\n",
    "df[\"periodo\"] = pd.to_datetime(df[\"periodo\"], format=\"%Y%m\")\n",
    "\n",
    "# Crear características por producto\n",
    "def agregar_features(df):\n",
    "    df = df.copy()\n",
    "    df = df.sort_values([\"product_id\", \"periodo\"])\n",
    "    # quantil de la desviación estándar de los últimos 6 meses\n",
    "    df[\"grupo\"] = df.product_id.map(grupo_dict).fillna(0)\n",
    "    df[\"grupo\"] = df[\"grupo\"].astype(int)\n",
    "    # Crear features con groupby + transform\n",
    "    df[\"tn_lag1\"] = df.groupby(\"product_id\")[\"tn\"].shift(1)\n",
    "    #df[\"tn_lag6\"] = df.groupby(\"product_id\")[\"tn\"].shift(6)\n",
    "    #df[\"tn_lag12\"] = df.groupby(\"product_id\")[\"tn\"].shift(12)\n",
    "\n",
    "    df[\"tn_diff1\"] = df[\"tn\"] - df[\"tn_lag1\"]\n",
    "    #df[\"tn_diff6\"] = df[\"tn\"] - df[\"tn_lag6\"]\n",
    "    #df[\"size\"] = df.groupby(\"product_id\")[\"tn\"].transform(\"size\")\n",
    "    \n",
    "    df[\"sin_mes\"] = df[\"periodo\"].dt.month.apply(lambda x: np.sin(2 * np.pi * x / 12))\n",
    "    df[\"quarter\"] = df[\"periodo\"].dt.quarter\n",
    "    df[\"month\"] = df[\"periodo\"].dt.month\n",
    "\n",
    "    df[\"rolling_mean6\"] = df.groupby(\"product_id\")[\"tn\"].transform(lambda x: x.shift(1).rolling(6).mean())\n",
    "    df[\"rolling_std6\"] = df.groupby(\"product_id\")[\"tn\"].transform(lambda x: x.shift(1).rolling(6).std())\n",
    "    \n",
    "    # df[\"rolling_max3\"] = df.groupby(\"product_id\")[\"tn\"].transform(lambda x: x.shift(1).rolling(3).max())\n",
    "    # df[\"rolling_min3\"] = df.groupby(\"product_id\")[\"tn\"].transform(lambda x: x.shift(1).rolling(3).min())\n",
    "    # df[\"rolling_max6\"] = df.groupby(\"product_id\")[\"tn\"].transform(lambda x: x.shift(1).rolling(6).max())\n",
    "    # df[\"rolling_min6\"] = df.groupby(\"product_id\")[\"tn\"].transform(lambda x: x.shift(1).rolling(6).min())\n",
    "\n",
    "    return df\n",
    "\n",
    "df_features = agregar_features(df).fillna(0)\n",
    "df = df_features.copy()\n",
    "print(df_features.shape)"
   ]
  },
  {
   "cell_type": "code",
   "execution_count": 7,
   "id": "6f4cac10",
   "metadata": {},
   "outputs": [
    {
     "data": {
      "application/vnd.microsoft.datawrangler.viewer.v0+json": {
       "columns": [
        {
         "name": "index",
         "rawType": "int64",
         "type": "integer"
        },
        {
         "name": "product_id",
         "rawType": "int64",
         "type": "integer"
        },
        {
         "name": "periodo",
         "rawType": "datetime64[ns]",
         "type": "datetime"
        },
        {
         "name": "tn",
         "rawType": "float64",
         "type": "float"
        },
        {
         "name": "grupo",
         "rawType": "int32",
         "type": "integer"
        },
        {
         "name": "tn_lag1",
         "rawType": "float64",
         "type": "float"
        },
        {
         "name": "tn_diff1",
         "rawType": "float64",
         "type": "float"
        },
        {
         "name": "sin_mes",
         "rawType": "float64",
         "type": "float"
        },
        {
         "name": "quarter",
         "rawType": "int32",
         "type": "integer"
        },
        {
         "name": "month",
         "rawType": "int32",
         "type": "integer"
        },
        {
         "name": "rolling_mean6",
         "rawType": "float64",
         "type": "float"
        },
        {
         "name": "rolling_std6",
         "rawType": "float64",
         "type": "float"
        }
       ],
       "ref": "f1d8dfc7-0765-434e-97ba-c2200c6496ae",
       "rows": [
        [
         "0",
         "20001",
         "2017-01-01 00:00:00",
         "934.77222",
         "4",
         "0.0",
         "0.0",
         "0.49999999999999994",
         "1",
         "1",
         "0.0",
         "0.0"
        ],
        [
         "1",
         "20001",
         "2017-02-01 00:00:00",
         "798.0162",
         "4",
         "934.77222",
         "-136.75601999999992",
         "0.8660254037844386",
         "1",
         "2",
         "0.0",
         "0.0"
        ],
        [
         "2",
         "20001",
         "2017-03-01 00:00:00",
         "1303.35771",
         "4",
         "798.0162",
         "505.34150999999997",
         "1.0",
         "1",
         "3",
         "0.0",
         "0.0"
        ],
        [
         "3",
         "20001",
         "2017-04-01 00:00:00",
         "1069.9613",
         "4",
         "1303.35771",
         "-233.39641000000006",
         "0.8660254037844387",
         "2",
         "4",
         "0.0",
         "0.0"
        ],
        [
         "4",
         "20001",
         "2017-05-01 00:00:00",
         "1502.2013200000001",
         "4",
         "1069.9613",
         "432.2400200000002",
         "0.49999999999999994",
         "2",
         "5",
         "0.0",
         "0.0"
        ],
        [
         "5",
         "20001",
         "2017-06-01 00:00:00",
         "1520.06539",
         "4",
         "1502.2013200000001",
         "17.864069999999856",
         "1.2246467991473532e-16",
         "2",
         "6",
         "0.0",
         "0.0"
        ],
        [
         "6",
         "20001",
         "2017-07-01 00:00:00",
         "1030.67391",
         "4",
         "1520.06539",
         "-489.39148",
         "-0.4999999999999997",
         "3",
         "7",
         "1188.0623566666666",
         "300.81292464778636"
        ],
        [
         "7",
         "20001",
         "2017-08-01 00:00:00",
         "1267.39462",
         "4",
         "1030.67391",
         "236.72071000000005",
         "-0.8660254037844385",
         "3",
         "8",
         "1204.0459716666667",
         "286.88828916374126"
        ],
        [
         "8",
         "20001",
         "2017-09-01 00:00:00",
         "1316.94604",
         "4",
         "1267.39462",
         "49.55142000000001",
         "-1.0",
         "3",
         "9",
         "1282.2757083333333",
         "206.86129549475947"
        ],
        [
         "9",
         "20001",
         "2017-10-01 00:00:00",
         "1439.75563",
         "4",
         "1316.94604",
         "122.80959000000007",
         "-0.8660254037844386",
         "4",
         "10",
         "1284.54043",
         "207.21234769534826"
        ],
        [
         "10",
         "20001",
         "2017-11-01 00:00:00",
         "1580.47401",
         "4",
         "1439.75563",
         "140.7183799999998",
         "-0.5000000000000004",
         "4",
         "11",
         "1346.1728183333335",
         "184.3589068727344"
        ],
        [
         "11",
         "20001",
         "2017-12-01 00:00:00",
         "1049.3886",
         "4",
         "1580.47401",
         "-531.0854099999999",
         "-2.4492935982947064e-16",
         "4",
         "12",
         "1359.2182666666668",
         "199.73586831979716"
        ],
        [
         "12",
         "20001",
         "2018-01-01 00:00:00",
         "1169.07532",
         "4",
         "1049.3886",
         "119.68671999999992",
         "0.49999999999999994",
         "1",
         "1",
         "1280.772135",
         "215.7183058012008"
        ],
        [
         "13",
         "20001",
         "2018-02-01 00:00:00",
         "1043.7647",
         "4",
         "1169.07532",
         "-125.31061999999997",
         "0.8660254037844386",
         "1",
         "2",
         "1303.8390366666665",
         "189.42360038110223"
        ],
        [
         "14",
         "20001",
         "2018-03-01 00:00:00",
         "1856.83534",
         "4",
         "1043.7647",
         "813.0706400000001",
         "1.0",
         "1",
         "3",
         "1266.5673833333333",
         "217.89075709627042"
        ],
        [
         "15",
         "20001",
         "2018-04-01 00:00:00",
         "1251.28462",
         "4",
         "1856.83534",
         "-605.5507200000002",
         "0.8660254037844387",
         "2",
         "4",
         "1356.5489333333333",
         "327.0107294011677"
        ],
        [
         "16",
         "20001",
         "2018-05-01 00:00:00",
         "1293.89788",
         "4",
         "1251.28462",
         "42.61326000000008",
         "0.49999999999999994",
         "2",
         "5",
         "1325.1370983333334",
         "326.4711585241106"
        ],
        [
         "17",
         "20001",
         "2018-06-01 00:00:00",
         "1150.79169",
         "4",
         "1293.89788",
         "-143.10618999999997",
         "1.2246467991473532e-16",
         "2",
         "6",
         "1277.37441",
         "301.6648440445186"
        ],
        [
         "18",
         "20001",
         "2018-07-01 00:00:00",
         "1470.4100899999999",
         "4",
         "1150.79169",
         "319.61839999999984",
         "-0.4999999999999997",
         "3",
         "7",
         "1294.274925",
         "288.90838743784144"
        ],
        [
         "19",
         "20001",
         "2018-08-01 00:00:00",
         "1800.96168",
         "4",
         "1470.4100899999999",
         "330.55159000000003",
         "-0.8660254037844385",
         "3",
         "8",
         "1344.4973866666667",
         "288.98275484254475"
        ],
        [
         "20",
         "20001",
         "2018-09-01 00:00:00",
         "1438.67455",
         "4",
         "1800.96168",
         "-362.28712999999993",
         "-1.0",
         "3",
         "9",
         "1470.6968833333333",
         "296.61988722503384"
        ],
        [
         "21",
         "20001",
         "2018-10-01 00:00:00",
         "2295.19832",
         "4",
         "1438.67455",
         "856.52377",
         "-0.8660254037844386",
         "4",
         "10",
         "1401.0034183333335",
         "229.21441281905362"
        ],
        [
         "22",
         "20001",
         "2018-11-01 00:00:00",
         "1813.01511",
         "4",
         "2295.19832",
         "-482.1832099999999",
         "-0.5000000000000004",
         "4",
         "11",
         "1574.9890349999998",
         "414.3040115593664"
        ],
        [
         "23",
         "20001",
         "2018-12-01 00:00:00",
         "1486.68669",
         "4",
         "1813.01511",
         "-326.32842000000005",
         "-2.4492935982947064e-16",
         "4",
         "12",
         "1661.5085733333333",
         "397.73595810565354"
        ],
        [
         "24",
         "20001",
         "2019-01-01 00:00:00",
         "1275.77351",
         "4",
         "1486.68669",
         "-210.91318",
         "0.49999999999999994",
         "1",
         "1",
         "1717.4910733333334",
         "329.2100168537132"
        ],
        [
         "25",
         "20001",
         "2019-02-01 00:00:00",
         "1259.09363",
         "4",
         "1275.77351",
         "-16.679879999999912",
         "0.8660254037844386",
         "1",
         "2",
         "1685.0516433333335",
         "365.9638423953743"
        ],
        [
         "26",
         "20001",
         "2019-03-01 00:00:00",
         "1470.65653",
         "4",
         "1259.09363",
         "211.5628999999999",
         "1.0",
         "1",
         "3",
         "1594.7403016666667",
         "397.16896445340336"
        ],
        [
         "27",
         "20001",
         "2019-04-01 00:00:00",
         "1647.6384799999998",
         "4",
         "1470.65653",
         "176.98194999999987",
         "0.8660254037844387",
         "2",
         "4",
         "1600.0706316666667",
         "394.8634499837214"
        ],
        [
         "28",
         "20001",
         "2019-05-01 00:00:00",
         "1629.78233",
         "4",
         "1647.6384799999998",
         "-17.856149999999843",
         "0.49999999999999994",
         "2",
         "5",
         "1492.1439916666666",
         "213.8957503282925"
        ],
        [
         "29",
         "20001",
         "2019-06-01 00:00:00",
         "1109.93769",
         "4",
         "1629.78233",
         "-519.84464",
         "1.2246467991473532e-16",
         "2",
         "6",
         "1461.605195",
         "166.82163470611675"
        ],
        [
         "30",
         "20001",
         "2019-07-01 00:00:00",
         "1678.99318",
         "4",
         "1109.93769",
         "569.05549",
         "-0.4999999999999997",
         "3",
         "7",
         "1398.813695",
         "218.41776799431653"
        ],
        [
         "31",
         "20001",
         "2019-08-01 00:00:00",
         "1261.34529",
         "4",
         "1678.99318",
         "-417.64788999999996",
         "-0.8660254037844385",
         "3",
         "8",
         "1466.0169733333332",
         "234.43360674427268"
        ],
        [
         "32",
         "20001",
         "2019-09-01 00:00:00",
         "1660.00561",
         "4",
         "1261.34529",
         "398.66031999999996",
         "-1.0",
         "3",
         "9",
         "1466.3922499999999",
         "234.0375879222985"
        ],
        [
         "33",
         "20001",
         "2019-10-01 00:00:00",
         "1561.50552",
         "4",
         "1660.00561",
         "-98.50009",
         "-0.8660254037844386",
         "4",
         "10",
         "1497.9504299999999",
         "247.1276591316863"
        ],
        [
         "34",
         "20001",
         "2019-11-01 00:00:00",
         "1397.37231",
         "4",
         "1561.50552",
         "-164.13320999999996",
         "-0.5000000000000004",
         "4",
         "11",
         "1483.5949366666666",
         "239.06344578733908"
        ],
        [
         "35",
         "20001",
         "2019-12-01 00:00:00",
         "1504.68856",
         "4",
         "1397.37231",
         "107.31625000000008",
         "-2.4492935982947064e-16",
         "4",
         "12",
         "1444.8599333333332",
         "229.2674595483994"
        ],
        [
         "36",
         "20002",
         "2017-01-01 00:00:00",
         "550.15707",
         "4",
         "0.0",
         "0.0",
         "0.49999999999999994",
         "1",
         "1",
         "0.0",
         "0.0"
        ],
        [
         "37",
         "20002",
         "2017-02-01 00:00:00",
         "505.88633",
         "4",
         "550.15707",
         "-44.27073999999999",
         "0.8660254037844386",
         "1",
         "2",
         "0.0",
         "0.0"
        ],
        [
         "38",
         "20002",
         "2017-03-01 00:00:00",
         "834.73521",
         "4",
         "505.88633",
         "328.84888000000007",
         "1.0",
         "1",
         "3",
         "0.0",
         "0.0"
        ],
        [
         "39",
         "20002",
         "2017-04-01 00:00:00",
         "522.35365",
         "4",
         "834.73521",
         "-312.38156000000004",
         "0.8660254037844387",
         "2",
         "4",
         "0.0",
         "0.0"
        ],
        [
         "40",
         "20002",
         "2017-05-01 00:00:00",
         "843.43785",
         "4",
         "522.35365",
         "321.0842",
         "0.49999999999999994",
         "2",
         "5",
         "0.0",
         "0.0"
        ],
        [
         "41",
         "20002",
         "2017-06-01 00:00:00",
         "968.15756",
         "4",
         "843.43785",
         "124.71970999999996",
         "1.2246467991473532e-16",
         "2",
         "6",
         "0.0",
         "0.0"
        ],
        [
         "42",
         "20002",
         "2017-07-01 00:00:00",
         "845.39319",
         "4",
         "968.15756",
         "-122.76436999999999",
         "-0.4999999999999997",
         "3",
         "7",
         "704.1212783333334",
         "201.1098243354072"
        ],
        [
         "43",
         "20002",
         "2017-08-01 00:00:00",
         "619.71078",
         "4",
         "845.39319",
         "-225.68241",
         "-0.8660254037844385",
         "3",
         "8",
         "753.3272983333333",
         "191.80781442573905"
        ],
        [
         "44",
         "20002",
         "2017-09-01 00:00:00",
         "1065.34529",
         "4",
         "619.71078",
         "445.63451",
         "-1.0",
         "3",
         "9",
         "772.29804",
         "166.3840108299939"
        ],
        [
         "45",
         "20002",
         "2017-10-01 00:00:00",
         "857.45269",
         "4",
         "1065.34529",
         "-207.89260000000002",
         "-0.8660254037844386",
         "4",
         "10",
         "810.7330533333334",
         "205.68567491914948"
        ],
        [
         "46",
         "20002",
         "2017-11-01 00:00:00",
         "750.41853",
         "4",
         "857.45269",
         "-107.03415999999993",
         "-0.5000000000000004",
         "4",
         "11",
         "866.5828933333333",
         "149.55788227302008"
        ],
        [
         "47",
         "20002",
         "2017-12-01 00:00:00",
         "820.58984",
         "4",
         "750.41853",
         "70.17130999999995",
         "-2.4492935982947064e-16",
         "4",
         "12",
         "851.0796733333333",
         "157.0695183958231"
        ],
        [
         "48",
         "20002",
         "2018-01-01 00:00:00",
         "984.80167",
         "4",
         "820.58984",
         "164.21182999999996",
         "0.49999999999999994",
         "1",
         "1",
         "826.4850533333333",
         "146.2512867896719"
        ],
        [
         "49",
         "20002",
         "2018-02-01 00:00:00",
         "712.00087",
         "4",
         "984.80167",
         "-272.8008",
         "0.8660254037844386",
         "1",
         "2",
         "849.7197999999999",
         "160.2589824020882"
        ]
       ],
       "shape": {
        "columns": 11,
        "rows": 22375
       }
      },
      "text/html": [
       "<div>\n",
       "<style scoped>\n",
       "    .dataframe tbody tr th:only-of-type {\n",
       "        vertical-align: middle;\n",
       "    }\n",
       "\n",
       "    .dataframe tbody tr th {\n",
       "        vertical-align: top;\n",
       "    }\n",
       "\n",
       "    .dataframe thead th {\n",
       "        text-align: right;\n",
       "    }\n",
       "</style>\n",
       "<table border=\"1\" class=\"dataframe\">\n",
       "  <thead>\n",
       "    <tr style=\"text-align: right;\">\n",
       "      <th></th>\n",
       "      <th>product_id</th>\n",
       "      <th>periodo</th>\n",
       "      <th>tn</th>\n",
       "      <th>grupo</th>\n",
       "      <th>tn_lag1</th>\n",
       "      <th>tn_diff1</th>\n",
       "      <th>sin_mes</th>\n",
       "      <th>quarter</th>\n",
       "      <th>month</th>\n",
       "      <th>rolling_mean6</th>\n",
       "      <th>rolling_std6</th>\n",
       "    </tr>\n",
       "  </thead>\n",
       "  <tbody>\n",
       "    <tr>\n",
       "      <th>0</th>\n",
       "      <td>20001</td>\n",
       "      <td>2017-01-01</td>\n",
       "      <td>934.77222</td>\n",
       "      <td>4</td>\n",
       "      <td>0.00000</td>\n",
       "      <td>0.00000</td>\n",
       "      <td>5.000000e-01</td>\n",
       "      <td>1</td>\n",
       "      <td>1</td>\n",
       "      <td>0.000000</td>\n",
       "      <td>0.000000</td>\n",
       "    </tr>\n",
       "    <tr>\n",
       "      <th>1</th>\n",
       "      <td>20001</td>\n",
       "      <td>2017-02-01</td>\n",
       "      <td>798.01620</td>\n",
       "      <td>4</td>\n",
       "      <td>934.77222</td>\n",
       "      <td>-136.75602</td>\n",
       "      <td>8.660254e-01</td>\n",
       "      <td>1</td>\n",
       "      <td>2</td>\n",
       "      <td>0.000000</td>\n",
       "      <td>0.000000</td>\n",
       "    </tr>\n",
       "    <tr>\n",
       "      <th>2</th>\n",
       "      <td>20001</td>\n",
       "      <td>2017-03-01</td>\n",
       "      <td>1303.35771</td>\n",
       "      <td>4</td>\n",
       "      <td>798.01620</td>\n",
       "      <td>505.34151</td>\n",
       "      <td>1.000000e+00</td>\n",
       "      <td>1</td>\n",
       "      <td>3</td>\n",
       "      <td>0.000000</td>\n",
       "      <td>0.000000</td>\n",
       "    </tr>\n",
       "    <tr>\n",
       "      <th>3</th>\n",
       "      <td>20001</td>\n",
       "      <td>2017-04-01</td>\n",
       "      <td>1069.96130</td>\n",
       "      <td>4</td>\n",
       "      <td>1303.35771</td>\n",
       "      <td>-233.39641</td>\n",
       "      <td>8.660254e-01</td>\n",
       "      <td>2</td>\n",
       "      <td>4</td>\n",
       "      <td>0.000000</td>\n",
       "      <td>0.000000</td>\n",
       "    </tr>\n",
       "    <tr>\n",
       "      <th>4</th>\n",
       "      <td>20001</td>\n",
       "      <td>2017-05-01</td>\n",
       "      <td>1502.20132</td>\n",
       "      <td>4</td>\n",
       "      <td>1069.96130</td>\n",
       "      <td>432.24002</td>\n",
       "      <td>5.000000e-01</td>\n",
       "      <td>2</td>\n",
       "      <td>5</td>\n",
       "      <td>0.000000</td>\n",
       "      <td>0.000000</td>\n",
       "    </tr>\n",
       "    <tr>\n",
       "      <th>...</th>\n",
       "      <td>...</td>\n",
       "      <td>...</td>\n",
       "      <td>...</td>\n",
       "      <td>...</td>\n",
       "      <td>...</td>\n",
       "      <td>...</td>\n",
       "      <td>...</td>\n",
       "      <td>...</td>\n",
       "      <td>...</td>\n",
       "      <td>...</td>\n",
       "      <td>...</td>\n",
       "    </tr>\n",
       "    <tr>\n",
       "      <th>22370</th>\n",
       "      <td>21276</td>\n",
       "      <td>2019-08-01</td>\n",
       "      <td>0.01265</td>\n",
       "      <td>0</td>\n",
       "      <td>0.00223</td>\n",
       "      <td>0.01042</td>\n",
       "      <td>-8.660254e-01</td>\n",
       "      <td>3</td>\n",
       "      <td>8</td>\n",
       "      <td>0.000000</td>\n",
       "      <td>0.000000</td>\n",
       "    </tr>\n",
       "    <tr>\n",
       "      <th>22371</th>\n",
       "      <td>21276</td>\n",
       "      <td>2019-09-01</td>\n",
       "      <td>0.01856</td>\n",
       "      <td>0</td>\n",
       "      <td>0.01265</td>\n",
       "      <td>0.00591</td>\n",
       "      <td>-1.000000e+00</td>\n",
       "      <td>3</td>\n",
       "      <td>9</td>\n",
       "      <td>0.062132</td>\n",
       "      <td>0.050285</td>\n",
       "    </tr>\n",
       "    <tr>\n",
       "      <th>22372</th>\n",
       "      <td>21276</td>\n",
       "      <td>2019-10-01</td>\n",
       "      <td>0.02079</td>\n",
       "      <td>0</td>\n",
       "      <td>0.01856</td>\n",
       "      <td>0.00223</td>\n",
       "      <td>-8.660254e-01</td>\n",
       "      <td>4</td>\n",
       "      <td>10</td>\n",
       "      <td>0.044810</td>\n",
       "      <td>0.042656</td>\n",
       "    </tr>\n",
       "    <tr>\n",
       "      <th>22373</th>\n",
       "      <td>21276</td>\n",
       "      <td>2019-11-01</td>\n",
       "      <td>0.03341</td>\n",
       "      <td>0</td>\n",
       "      <td>0.02079</td>\n",
       "      <td>0.01262</td>\n",
       "      <td>-5.000000e-01</td>\n",
       "      <td>4</td>\n",
       "      <td>11</td>\n",
       "      <td>0.031320</td>\n",
       "      <td>0.032689</td>\n",
       "    </tr>\n",
       "    <tr>\n",
       "      <th>22374</th>\n",
       "      <td>21276</td>\n",
       "      <td>2019-12-01</td>\n",
       "      <td>0.00892</td>\n",
       "      <td>0</td>\n",
       "      <td>0.03341</td>\n",
       "      <td>-0.02449</td>\n",
       "      <td>-2.449294e-16</td>\n",
       "      <td>4</td>\n",
       "      <td>12</td>\n",
       "      <td>0.021417</td>\n",
       "      <td>0.013967</td>\n",
       "    </tr>\n",
       "  </tbody>\n",
       "</table>\n",
       "<p>22375 rows × 11 columns</p>\n",
       "</div>"
      ],
      "text/plain": [
       "       product_id    periodo          tn  grupo     tn_lag1   tn_diff1  \\\n",
       "0           20001 2017-01-01   934.77222      4     0.00000    0.00000   \n",
       "1           20001 2017-02-01   798.01620      4   934.77222 -136.75602   \n",
       "2           20001 2017-03-01  1303.35771      4   798.01620  505.34151   \n",
       "3           20001 2017-04-01  1069.96130      4  1303.35771 -233.39641   \n",
       "4           20001 2017-05-01  1502.20132      4  1069.96130  432.24002   \n",
       "...           ...        ...         ...    ...         ...        ...   \n",
       "22370       21276 2019-08-01     0.01265      0     0.00223    0.01042   \n",
       "22371       21276 2019-09-01     0.01856      0     0.01265    0.00591   \n",
       "22372       21276 2019-10-01     0.02079      0     0.01856    0.00223   \n",
       "22373       21276 2019-11-01     0.03341      0     0.02079    0.01262   \n",
       "22374       21276 2019-12-01     0.00892      0     0.03341   -0.02449   \n",
       "\n",
       "            sin_mes  quarter  month  rolling_mean6  rolling_std6  \n",
       "0      5.000000e-01        1      1       0.000000      0.000000  \n",
       "1      8.660254e-01        1      2       0.000000      0.000000  \n",
       "2      1.000000e+00        1      3       0.000000      0.000000  \n",
       "3      8.660254e-01        2      4       0.000000      0.000000  \n",
       "4      5.000000e-01        2      5       0.000000      0.000000  \n",
       "...             ...      ...    ...            ...           ...  \n",
       "22370 -8.660254e-01        3      8       0.000000      0.000000  \n",
       "22371 -1.000000e+00        3      9       0.062132      0.050285  \n",
       "22372 -8.660254e-01        4     10       0.044810      0.042656  \n",
       "22373 -5.000000e-01        4     11       0.031320      0.032689  \n",
       "22374 -2.449294e-16        4     12       0.021417      0.013967  \n",
       "\n",
       "[22375 rows x 11 columns]"
      ]
     },
     "execution_count": 7,
     "metadata": {},
     "output_type": "execute_result"
    }
   ],
   "source": [
    "df_features"
   ]
  },
  {
   "cell_type": "code",
   "execution_count": 8,
   "id": "d921303a",
   "metadata": {},
   "outputs": [
    {
     "name": "stdout",
     "output_type": "stream",
     "text": [
      "(22375, 11)\n"
     ]
    }
   ],
   "source": [
    "# Último período disponible\n",
    "ultimo_mes = df_features[\"periodo\"].max()\n",
    "\n",
    "# Definir los 3 meses anteriores\n",
    "ultimos_3_meses = pd.date_range(end=ultimo_mes - pd.DateOffset(months=1), periods=3, freq='MS')\n",
    "\n",
    "# Filtrar productos con datos en al menos 3 de esos meses\n",
    "df_filtrado = df_features[df_features[\"periodo\"].isin(ultimos_3_meses)]\n",
    "\n",
    "# Contar cuántos meses tiene cada producto\n",
    "conteo_por_producto = df_filtrado[df_filtrado[\"tn\"] > 0].groupby(\"product_id\").size()\n",
    "\n",
    "# Seleccionar productos válidos\n",
    "productos_validos = conteo_por_producto[conteo_por_producto >= 3].index\n",
    "\n",
    "# Filtrar el dataframe original\n",
    "df_features = df_features[df_features[\"product_id\"].isin(productos_validos)].copy()\n",
    "print(df_features.shape)"
   ]
  },
  {
   "cell_type": "code",
   "execution_count": 9,
   "id": "5382a179",
   "metadata": {},
   "outputs": [
    {
     "data": {
      "application/vnd.microsoft.datawrangler.viewer.v0+json": {
       "columns": [
        {
         "name": "index",
         "rawType": "int64",
         "type": "integer"
        },
        {
         "name": "product_id",
         "rawType": "int64",
         "type": "integer"
        },
        {
         "name": "periodo",
         "rawType": "datetime64[ns]",
         "type": "datetime"
        },
        {
         "name": "tn",
         "rawType": "float64",
         "type": "float"
        },
        {
         "name": "grupo",
         "rawType": "int32",
         "type": "integer"
        },
        {
         "name": "tn_lag1",
         "rawType": "float64",
         "type": "float"
        },
        {
         "name": "tn_diff1",
         "rawType": "float64",
         "type": "float"
        },
        {
         "name": "sin_mes",
         "rawType": "float64",
         "type": "float"
        },
        {
         "name": "quarter",
         "rawType": "int32",
         "type": "integer"
        },
        {
         "name": "month",
         "rawType": "int32",
         "type": "integer"
        },
        {
         "name": "rolling_mean6",
         "rawType": "float64",
         "type": "float"
        },
        {
         "name": "rolling_std6",
         "rawType": "float64",
         "type": "float"
        }
       ],
       "ref": "2c42078b-aaf0-4481-b982-0cc642647a87",
       "rows": [
        [
         "34",
         "20001",
         "2019-11-01 00:00:00",
         "1397.37231",
         "4",
         "1561.50552",
         "-164.13320999999996",
         "-0.5000000000000004",
         "4",
         "11",
         "1483.5949366666666",
         "239.06344578733908"
        ],
        [
         "35",
         "20001",
         "2019-12-01 00:00:00",
         "1504.68856",
         "4",
         "1397.37231",
         "107.31625000000008",
         "-2.4492935982947064e-16",
         "4",
         "12",
         "1444.8599333333332",
         "229.2674595483994"
        ],
        [
         "70",
         "20002",
         "2019-11-01 00:00:00",
         "1423.5773900000002",
         "4",
         "1979.53635",
         "-555.9589599999999",
         "-0.5000000000000004",
         "4",
         "11",
         "1152.2182966666667",
         "418.1032013492098"
        ],
        [
         "71",
         "20002",
         "2019-12-01 00:00:00",
         "1087.30855",
         "4",
         "1423.5773900000002",
         "-336.2688400000002",
         "-2.4492935982947064e-16",
         "4",
         "12",
         "1216.9829833333333",
         "426.32798639066016"
        ],
        [
         "106",
         "20003",
         "2019-11-01 00:00:00",
         "948.29393",
         "4",
         "1081.36645",
         "-133.07251999999994",
         "-0.5000000000000004",
         "4",
         "11",
         "775.4080116666668",
         "200.44443985747202"
        ],
        [
         "107",
         "20003",
         "2019-12-01 00:00:00",
         "892.5012899999999",
         "4",
         "948.29393",
         "-55.79264000000012",
         "-2.4492935982947064e-16",
         "4",
         "12",
         "835.1028083333334",
         "187.1196712187158"
        ],
        [
         "142",
         "20004",
         "2019-11-01 00:00:00",
         "723.94206",
         "4",
         "1064.69633",
         "-340.75427",
         "-0.5000000000000004",
         "4",
         "11",
         "687.5369266666667",
         "214.0902470601029"
        ],
        [
         "143",
         "20004",
         "2019-12-01 00:00:00",
         "637.90002",
         "4",
         "723.94206",
         "-86.04203999999993",
         "-2.4492935982947064e-16",
         "4",
         "12",
         "707.642135",
         "210.22804190820494"
        ],
        [
         "178",
         "20005",
         "2019-11-01 00:00:00",
         "606.91173",
         "4",
         "996.78275",
         "-389.87101999999993",
         "-0.5000000000000004",
         "4",
         "11",
         "822.0647566666667",
         "161.0654865016116"
        ],
        [
         "179",
         "20005",
         "2019-12-01 00:00:00",
         "593.24443",
         "4",
         "606.91173",
         "-13.667300000000068",
         "-2.4492935982947064e-16",
         "4",
         "12",
         "773.6728833333333",
         "176.80264018223812"
        ],
        [
         "214",
         "20006",
         "2019-11-01 00:00:00",
         "399.6142",
         "4",
         "528.3263",
         "-128.71209999999996",
         "-0.5000000000000004",
         "4",
         "11",
         "421.64300499999996",
         "105.36342209464105"
        ],
        [
         "215",
         "20006",
         "2019-12-01 00:00:00",
         "417.23228",
         "4",
         "399.6142",
         "17.61808000000002",
         "-2.4492935982947064e-16",
         "4",
         "12",
         "400.297295",
         "91.665748552678"
        ],
        [
         "250",
         "20007",
         "2019-11-01 00:00:00",
         "357.85913",
         "4",
         "445.34884",
         "-87.48971",
         "-0.5000000000000004",
         "4",
         "11",
         "437.85212333333334",
         "101.47914066732757"
        ],
        [
         "251",
         "20007",
         "2019-12-01 00:00:00",
         "390.43432",
         "4",
         "357.85913",
         "32.57519000000002",
         "-2.4492935982947064e-16",
         "4",
         "12",
         "431.7158933333333",
         "105.63986504813047"
        ],
        [
         "286",
         "20008",
         "2019-11-01 00:00:00",
         "396.49833",
         "4",
         "452.77197",
         "-56.27364",
         "-0.5000000000000004",
         "4",
         "11",
         "432.36381666666665",
         "126.55821702948985"
        ],
        [
         "287",
         "20008",
         "2019-12-01 00:00:00",
         "195.36854",
         "4",
         "396.49833",
         "-201.12979",
         "-2.4492935982947064e-16",
         "4",
         "12",
         "417.38573500000007",
         "124.18442951574411"
        ],
        [
         "322",
         "20009",
         "2019-11-01 00:00:00",
         "711.89025",
         "4",
         "556.15182",
         "155.73843",
         "-0.5000000000000004",
         "4",
         "11",
         "589.998",
         "68.4500812903845"
        ],
        [
         "323",
         "20009",
         "2019-12-01 00:00:00",
         "495.03574",
         "4",
         "711.89025",
         "-216.85451000000006",
         "-2.4492935982947064e-16",
         "4",
         "12",
         "612.2321016666667",
         "83.88816681636578"
        ],
        [
         "358",
         "20010",
         "2019-11-01 00:00:00",
         "470.96657999999996",
         "4",
         "448.82077999999996",
         "22.14580000000001",
         "-0.5000000000000004",
         "4",
         "11",
         "441.0355683333333",
         "135.79624503119484"
        ],
        [
         "359",
         "20010",
         "2019-12-01 00:00:00",
         "359.59997999999996",
         "4",
         "470.96657999999996",
         "-111.3666",
         "-2.4492935982947064e-16",
         "4",
         "12",
         "451.4605316666666",
         "135.1909043328433"
        ],
        [
         "394",
         "20011",
         "2019-11-01 00:00:00",
         "294.15204",
         "4",
         "423.68508",
         "-129.53304000000003",
         "-0.5000000000000004",
         "4",
         "11",
         "379.88223",
         "73.50057533090849"
        ],
        [
         "395",
         "20011",
         "2019-12-01 00:00:00",
         "392.3829",
         "4",
         "294.15204",
         "98.23086",
         "-2.4492935982947064e-16",
         "4",
         "12",
         "381.12438000000003",
         "71.65053030595902"
        ],
        [
         "430",
         "20012",
         "2019-11-01 00:00:00",
         "357.11018",
         "4",
         "282.29947",
         "74.81071000000003",
         "-0.5000000000000004",
         "4",
         "11",
         "321.59672333333333",
         "58.88030549661518"
        ],
        [
         "431",
         "20012",
         "2019-12-01 00:00:00",
         "173.13004",
         "4",
         "357.11018",
         "-183.98014",
         "-2.4492935982947064e-16",
         "4",
         "12",
         "326.27157166666666",
         "60.6775336840851"
        ],
        [
         "466",
         "20013",
         "2019-11-01 00:00:00",
         "336.1995",
         "4",
         "527.29677",
         "-191.09727000000004",
         "-0.5000000000000004",
         "4",
         "11",
         "433.5403800000001",
         "137.61697515330465"
        ],
        [
         "467",
         "20013",
         "2019-12-01 00:00:00",
         "318.09141",
         "4",
         "336.1995",
         "-18.108090000000004",
         "-2.4492935982947064e-16",
         "4",
         "12",
         "419.92723499999994",
         "143.3947009571236"
        ],
        [
         "502",
         "20014",
         "2019-11-01 00:00:00",
         "415.85544",
         "4",
         "512.00604",
         "-96.1506",
         "-0.5000000000000004",
         "4",
         "11",
         "449.16508000000005",
         "97.54654666578315"
        ],
        [
         "503",
         "20014",
         "2019-12-01 00:00:00",
         "272.02812",
         "4",
         "415.85544",
         "-143.82732",
         "-2.4492935982947064e-16",
         "4",
         "12",
         "445.46502000000004",
         "98.46889578226076"
        ],
        [
         "538",
         "20015",
         "2019-11-01 00:00:00",
         "322.45923",
         "4",
         "472.56925",
         "-150.11002000000002",
         "-0.5000000000000004",
         "4",
         "11",
         "401.137865",
         "86.84169230568317"
        ],
        [
         "539",
         "20015",
         "2019-12-01 00:00:00",
         "297.27663",
         "4",
         "322.45923",
         "-25.18259999999998",
         "-2.4492935982947064e-16",
         "4",
         "12",
         "402.81967166666664",
         "84.85367957169339"
        ],
        [
         "574",
         "20016",
         "2019-11-01 00:00:00",
         "302.11272",
         "4",
         "268.73028",
         "33.38244000000003",
         "-0.5000000000000004",
         "4",
         "11",
         "291.88068",
         "61.0209771968477"
        ],
        [
         "575",
         "20016",
         "2019-12-01 00:00:00",
         "273.20202",
         "4",
         "302.11272",
         "-28.91070000000002",
         "-2.4492935982947064e-16",
         "4",
         "12",
         "292.65327",
         "61.13524474270801"
        ],
        [
         "610",
         "20017",
         "2019-11-01 00:00:00",
         "216.83455",
         "4",
         "302.15469",
         "-85.32014000000001",
         "-0.5000000000000004",
         "4",
         "11",
         "277.1668466666667",
         "90.74363697337564"
        ],
        [
         "611",
         "20017",
         "2019-12-01 00:00:00",
         "216.90773",
         "4",
         "216.83455",
         "0.07317999999997937",
         "-2.4492935982947064e-16",
         "4",
         "12",
         "240.32026166666665",
         "46.53242466377186"
        ],
        [
         "646",
         "20018",
         "2019-11-01 00:00:00",
         "254.22485",
         "4",
         "277.84472",
         "-23.61986999999999",
         "-0.5000000000000004",
         "4",
         "11",
         "254.35207",
         "79.76752712163062"
        ],
        [
         "647",
         "20018",
         "2019-12-01 00:00:00",
         "141.63569999999999",
         "4",
         "254.22485",
         "-112.58915000000002",
         "-2.4492935982947064e-16",
         "4",
         "12",
         "235.31885166666666",
         "57.66851130853762"
        ],
        [
         "682",
         "20019",
         "2019-11-01 00:00:00",
         "375.38656",
         "4",
         "455.61906",
         "-80.23250000000002",
         "-0.5000000000000004",
         "4",
         "11",
         "291.85853833333334",
         "93.52738366557273"
        ],
        [
         "683",
         "20019",
         "2019-12-01 00:00:00",
         "351.54708",
         "4",
         "375.38656",
         "-23.83947999999998",
         "-2.4492935982947064e-16",
         "4",
         "12",
         "318.79175166666664",
         "89.73993383068687"
        ],
        [
         "718",
         "20020",
         "2019-11-01 00:00:00",
         "320.50638",
         "4",
         "239.20917",
         "81.29720999999998",
         "-0.5000000000000004",
         "4",
         "11",
         "266.7886933333333",
         "40.04572674927539"
        ],
        [
         "719",
         "20020",
         "2019-12-01 00:00:00",
         "266.06358",
         "4",
         "320.50638",
         "-54.44279999999998",
         "-2.4492935982947064e-16",
         "4",
         "12",
         "279.147225",
         "43.74920142584771"
        ],
        [
         "754",
         "20021",
         "2019-11-01 00:00:00",
         "284.14722",
         "4",
         "246.39019",
         "37.757030000000015",
         "-0.5000000000000004",
         "4",
         "11",
         "275.23357833333336",
         "70.21705373268192"
        ],
        [
         "755",
         "20021",
         "2019-12-01 00:00:00",
         "203.76721",
         "4",
         "284.14722",
         "-80.38001",
         "-2.4492935982947064e-16",
         "4",
         "12",
         "272.79187",
         "69.48467104946906"
        ],
        [
         "790",
         "20022",
         "2019-11-01 00:00:00",
         "346.19018",
         "4",
         "166.05387000000002",
         "180.13630999999998",
         "-0.5000000000000004",
         "4",
         "11",
         "304.9242516666667",
         "86.8142373262612"
        ],
        [
         "791",
         "20022",
         "2019-12-01 00:00:00",
         "210.8346",
         "4",
         "346.19018",
         "-135.35558",
         "-2.4492935982947064e-16",
         "4",
         "12",
         "295.6582666666667",
         "76.7972255494685"
        ],
        [
         "826",
         "20023",
         "2019-11-01 00:00:00",
         "276.31695",
         "4",
         "386.37963",
         "-110.06268",
         "-0.5000000000000004",
         "4",
         "11",
         "304.814965",
         "57.77715649080255"
        ],
        [
         "827",
         "20023",
         "2019-12-01 00:00:00",
         "181.13277",
         "4",
         "276.31695",
         "-95.18418000000003",
         "-2.4492935982947064e-16",
         "4",
         "12",
         "306.94209",
         "56.16678240165566"
        ],
        [
         "862",
         "20024",
         "2019-11-01 00:00:00",
         "158.4765",
         "4",
         "201.83436",
         "-43.35786000000002",
         "-0.5000000000000004",
         "4",
         "11",
         "221.19552",
         "40.210136989394826"
        ],
        [
         "863",
         "20024",
         "2019-12-01 00:00:00",
         "270.45018",
         "4",
         "158.4765",
         "111.97368",
         "-2.4492935982947064e-16",
         "4",
         "12",
         "216.71832000000003",
         "46.06959801512813"
        ],
        [
         "898",
         "20025",
         "2019-11-01 00:00:00",
         "243.78354",
         "4",
         "144.56988",
         "99.21365999999998",
         "-0.5000000000000004",
         "4",
         "11",
         "214.65717000000004",
         "62.61989157337911"
        ],
        [
         "899",
         "20025",
         "2019-12-01 00:00:00",
         "241.83432000000002",
         "4",
         "243.78354",
         "-1.9492199999999684",
         "-2.4492935982947064e-16",
         "4",
         "12",
         "230.62494",
         "53.81175655929799"
        ]
       ],
       "shape": {
        "columns": 11,
        "rows": 1560
       }
      },
      "text/html": [
       "<div>\n",
       "<style scoped>\n",
       "    .dataframe tbody tr th:only-of-type {\n",
       "        vertical-align: middle;\n",
       "    }\n",
       "\n",
       "    .dataframe tbody tr th {\n",
       "        vertical-align: top;\n",
       "    }\n",
       "\n",
       "    .dataframe thead th {\n",
       "        text-align: right;\n",
       "    }\n",
       "</style>\n",
       "<table border=\"1\" class=\"dataframe\">\n",
       "  <thead>\n",
       "    <tr style=\"text-align: right;\">\n",
       "      <th></th>\n",
       "      <th>product_id</th>\n",
       "      <th>periodo</th>\n",
       "      <th>tn</th>\n",
       "      <th>grupo</th>\n",
       "      <th>tn_lag1</th>\n",
       "      <th>tn_diff1</th>\n",
       "      <th>sin_mes</th>\n",
       "      <th>quarter</th>\n",
       "      <th>month</th>\n",
       "      <th>rolling_mean6</th>\n",
       "      <th>rolling_std6</th>\n",
       "    </tr>\n",
       "  </thead>\n",
       "  <tbody>\n",
       "    <tr>\n",
       "      <th>34</th>\n",
       "      <td>20001</td>\n",
       "      <td>2019-11-01</td>\n",
       "      <td>1397.37231</td>\n",
       "      <td>4</td>\n",
       "      <td>1561.50552</td>\n",
       "      <td>-164.13321</td>\n",
       "      <td>-5.000000e-01</td>\n",
       "      <td>4</td>\n",
       "      <td>11</td>\n",
       "      <td>1483.594937</td>\n",
       "      <td>239.063446</td>\n",
       "    </tr>\n",
       "    <tr>\n",
       "      <th>35</th>\n",
       "      <td>20001</td>\n",
       "      <td>2019-12-01</td>\n",
       "      <td>1504.68856</td>\n",
       "      <td>4</td>\n",
       "      <td>1397.37231</td>\n",
       "      <td>107.31625</td>\n",
       "      <td>-2.449294e-16</td>\n",
       "      <td>4</td>\n",
       "      <td>12</td>\n",
       "      <td>1444.859933</td>\n",
       "      <td>229.267460</td>\n",
       "    </tr>\n",
       "    <tr>\n",
       "      <th>70</th>\n",
       "      <td>20002</td>\n",
       "      <td>2019-11-01</td>\n",
       "      <td>1423.57739</td>\n",
       "      <td>4</td>\n",
       "      <td>1979.53635</td>\n",
       "      <td>-555.95896</td>\n",
       "      <td>-5.000000e-01</td>\n",
       "      <td>4</td>\n",
       "      <td>11</td>\n",
       "      <td>1152.218297</td>\n",
       "      <td>418.103201</td>\n",
       "    </tr>\n",
       "    <tr>\n",
       "      <th>71</th>\n",
       "      <td>20002</td>\n",
       "      <td>2019-12-01</td>\n",
       "      <td>1087.30855</td>\n",
       "      <td>4</td>\n",
       "      <td>1423.57739</td>\n",
       "      <td>-336.26884</td>\n",
       "      <td>-2.449294e-16</td>\n",
       "      <td>4</td>\n",
       "      <td>12</td>\n",
       "      <td>1216.982983</td>\n",
       "      <td>426.327986</td>\n",
       "    </tr>\n",
       "    <tr>\n",
       "      <th>106</th>\n",
       "      <td>20003</td>\n",
       "      <td>2019-11-01</td>\n",
       "      <td>948.29393</td>\n",
       "      <td>4</td>\n",
       "      <td>1081.36645</td>\n",
       "      <td>-133.07252</td>\n",
       "      <td>-5.000000e-01</td>\n",
       "      <td>4</td>\n",
       "      <td>11</td>\n",
       "      <td>775.408012</td>\n",
       "      <td>200.444440</td>\n",
       "    </tr>\n",
       "    <tr>\n",
       "      <th>...</th>\n",
       "      <td>...</td>\n",
       "      <td>...</td>\n",
       "      <td>...</td>\n",
       "      <td>...</td>\n",
       "      <td>...</td>\n",
       "      <td>...</td>\n",
       "      <td>...</td>\n",
       "      <td>...</td>\n",
       "      <td>...</td>\n",
       "      <td>...</td>\n",
       "      <td>...</td>\n",
       "    </tr>\n",
       "    <tr>\n",
       "      <th>22354</th>\n",
       "      <td>21266</td>\n",
       "      <td>2019-12-01</td>\n",
       "      <td>0.05121</td>\n",
       "      <td>0</td>\n",
       "      <td>0.06713</td>\n",
       "      <td>-0.01592</td>\n",
       "      <td>-2.449294e-16</td>\n",
       "      <td>4</td>\n",
       "      <td>12</td>\n",
       "      <td>0.056698</td>\n",
       "      <td>0.036011</td>\n",
       "    </tr>\n",
       "    <tr>\n",
       "      <th>22363</th>\n",
       "      <td>21267</td>\n",
       "      <td>2019-11-01</td>\n",
       "      <td>0.04052</td>\n",
       "      <td>0</td>\n",
       "      <td>0.09676</td>\n",
       "      <td>-0.05624</td>\n",
       "      <td>-5.000000e-01</td>\n",
       "      <td>4</td>\n",
       "      <td>11</td>\n",
       "      <td>0.088908</td>\n",
       "      <td>0.080884</td>\n",
       "    </tr>\n",
       "    <tr>\n",
       "      <th>22364</th>\n",
       "      <td>21267</td>\n",
       "      <td>2019-12-01</td>\n",
       "      <td>0.01569</td>\n",
       "      <td>0</td>\n",
       "      <td>0.04052</td>\n",
       "      <td>-0.02483</td>\n",
       "      <td>-2.449294e-16</td>\n",
       "      <td>4</td>\n",
       "      <td>12</td>\n",
       "      <td>0.054910</td>\n",
       "      <td>0.027947</td>\n",
       "    </tr>\n",
       "    <tr>\n",
       "      <th>22373</th>\n",
       "      <td>21276</td>\n",
       "      <td>2019-11-01</td>\n",
       "      <td>0.03341</td>\n",
       "      <td>0</td>\n",
       "      <td>0.02079</td>\n",
       "      <td>0.01262</td>\n",
       "      <td>-5.000000e-01</td>\n",
       "      <td>4</td>\n",
       "      <td>11</td>\n",
       "      <td>0.031320</td>\n",
       "      <td>0.032689</td>\n",
       "    </tr>\n",
       "    <tr>\n",
       "      <th>22374</th>\n",
       "      <td>21276</td>\n",
       "      <td>2019-12-01</td>\n",
       "      <td>0.00892</td>\n",
       "      <td>0</td>\n",
       "      <td>0.03341</td>\n",
       "      <td>-0.02449</td>\n",
       "      <td>-2.449294e-16</td>\n",
       "      <td>4</td>\n",
       "      <td>12</td>\n",
       "      <td>0.021417</td>\n",
       "      <td>0.013967</td>\n",
       "    </tr>\n",
       "  </tbody>\n",
       "</table>\n",
       "<p>1560 rows × 11 columns</p>\n",
       "</div>"
      ],
      "text/plain": [
       "       product_id    periodo          tn  grupo     tn_lag1   tn_diff1  \\\n",
       "34          20001 2019-11-01  1397.37231      4  1561.50552 -164.13321   \n",
       "35          20001 2019-12-01  1504.68856      4  1397.37231  107.31625   \n",
       "70          20002 2019-11-01  1423.57739      4  1979.53635 -555.95896   \n",
       "71          20002 2019-12-01  1087.30855      4  1423.57739 -336.26884   \n",
       "106         20003 2019-11-01   948.29393      4  1081.36645 -133.07252   \n",
       "...           ...        ...         ...    ...         ...        ...   \n",
       "22354       21266 2019-12-01     0.05121      0     0.06713   -0.01592   \n",
       "22363       21267 2019-11-01     0.04052      0     0.09676   -0.05624   \n",
       "22364       21267 2019-12-01     0.01569      0     0.04052   -0.02483   \n",
       "22373       21276 2019-11-01     0.03341      0     0.02079    0.01262   \n",
       "22374       21276 2019-12-01     0.00892      0     0.03341   -0.02449   \n",
       "\n",
       "            sin_mes  quarter  month  rolling_mean6  rolling_std6  \n",
       "34    -5.000000e-01        4     11    1483.594937    239.063446  \n",
       "35    -2.449294e-16        4     12    1444.859933    229.267460  \n",
       "70    -5.000000e-01        4     11    1152.218297    418.103201  \n",
       "71    -2.449294e-16        4     12    1216.982983    426.327986  \n",
       "106   -5.000000e-01        4     11     775.408012    200.444440  \n",
       "...             ...      ...    ...            ...           ...  \n",
       "22354 -2.449294e-16        4     12       0.056698      0.036011  \n",
       "22363 -5.000000e-01        4     11       0.088908      0.080884  \n",
       "22364 -2.449294e-16        4     12       0.054910      0.027947  \n",
       "22373 -5.000000e-01        4     11       0.031320      0.032689  \n",
       "22374 -2.449294e-16        4     12       0.021417      0.013967  \n",
       "\n",
       "[1560 rows x 11 columns]"
      ]
     },
     "execution_count": 9,
     "metadata": {},
     "output_type": "execute_result"
    }
   ],
   "source": [
    "df_test = df_features[df_features[\"periodo\"] == pd.to_datetime(201912, format=\"%Y%m\")].copy()\n",
    "df_features[df_features[\"periodo\"].isin(pd.to_datetime([201911, 201912], format=\"%Y%m\")) ]"
   ]
  },
  {
   "cell_type": "code",
   "execution_count": 10,
   "id": "384dbeff",
   "metadata": {},
   "outputs": [],
   "source": [
    "# ================================\n",
    "# 2. SCALING Y VENTANAS TEMPORALES\n",
    "# ================================\n",
    "\n",
    "window_size = config[\"window_size\"]\n",
    "\n",
    "def get_window_size(q):\n",
    "  window_size = 3 if q >= 3 else 6\n",
    "  return window_size\n",
    "\n",
    "scaler_name = config[\"scaler_name\"]\n",
    "\n",
    "feature_cols = config[\"feature_cols\"]\n",
    "\n",
    "# Agrupar por producto\n",
    "productos = df_features[\"product_id\"].unique()\n",
    "productos = list(productos)\n",
    "scalers = {}  # Guardamos los scalers por producto\n"
   ]
  },
  {
   "cell_type": "code",
   "execution_count": 11,
   "id": "d46a0c19",
   "metadata": {},
   "outputs": [
    {
     "name": "stdout",
     "output_type": "stream",
     "text": [
      "grupo 0: 156 productos, 2363 muestras de entrenamiento, 122 muestras de test\n",
      "grupo 1: 156 productos, 2947 muestras de entrenamiento, 132 muestras de test\n",
      "grupo 2: 156 productos, 2668 muestras de entrenamiento, 129 muestras de test\n",
      "grupo 3: 156 productos, 3362 muestras de entrenamiento, 149 muestras de test\n",
      "grupo 4: 156 productos, 3749 muestras de entrenamiento, 146 muestras de test\n"
     ]
    }
   ],
   "source": [
    "\n",
    "# ================================\n",
    "# 3. TRAIN / TEST SPLIT\n",
    "# ================================\n",
    "from sklearn.model_selection import train_test_split\n",
    "grupos = df_features[\"grupo\"].unique()\n",
    "grupos.sort()\n",
    "sets = {}\n",
    "modelos = {}\n",
    "metricas = {}\n",
    "seed = config.get(\"seed\", 42)\n",
    "for grupo in grupos:\n",
    "    window_size = get_window_size(grupo)\n",
    "    df_grupo = df_features[df_features[\"grupo\"] == grupo].copy()\n",
    "    sets[grupo] = {}\n",
    "    X, y, productos_list = [], [], []\n",
    "    periodos = []\n",
    "    productos_train = df_grupo[\"product_id\"].unique()\n",
    "    \n",
    "    for producto in productos_train:\n",
    "        df_prod = df_features[df_features[\"product_id\"] == producto].copy()\n",
    "        df_prod = df_prod.sort_values('periodo')\n",
    "        if len(df_prod) < window_size + 2:\n",
    "            continue\n",
    "\n",
    "        scaler = StandardScaler() if scaler_name == \"standard\" else RobustScaler()\n",
    "        scaled_features = scaler.fit_transform(df_prod[feature_cols])\n",
    "        scalers[producto] = scaler\n",
    "\n",
    "        for i in range(window_size, len(df_prod) - 2):\n",
    "            X_window = scaled_features[i - window_size:i]\n",
    "            y_target = scaled_features[i][0]  # TN target\n",
    "            mes_ultimo_valor = df_prod.iloc[i - 1][\"month\"]  # el último mes dentro de la ventana\n",
    "            quarter_ultimo_valor = df_prod.iloc[i - 1][\"quarter\"]\n",
    "            mes_scaled = (mes_ultimo_valor - 1) / 11  # Normalizado a [0, 1]\n",
    "            \n",
    "            quarter_scaled = (quarter_ultimo_valor - 1) / 3  # quarter ∈ [0, 3]\n",
    "            \n",
    "                # Crear una feature adicional repetida en la ventana\n",
    "            mes_feature = np.full((window_size, 1), mes_scaled)\n",
    "            quarter_feature = np.full((window_size, 1), quarter_scaled)\n",
    "            \n",
    "            X_with_extra = np.concatenate([X_window, mes_feature, quarter_feature], axis=1)\n",
    "            \n",
    "            X.append(X_with_extra)\n",
    "            y.append(y_target)\n",
    "            productos_list.append(producto)\n",
    "            periodo_target = df_prod.iloc[i + 2][\"periodo\"]\n",
    "            periodos.append(periodo_target)\n",
    "    \n",
    "\n",
    "    \n",
    "    \n",
    "    X = np.array(X)\n",
    "    y = np.array(y).reshape(-1, 1)\n",
    "    productos_list = np.array(productos_list)\n",
    "    periodos = np.array(periodos)\n",
    "\n",
    "    # Ahora sí, aplicá las máscaras\n",
    "    train_mask = periodos <= pd.to_datetime(\"2019-09-30\")\n",
    "    test_mask = periodos == pd.to_datetime(\"2019-10-01\")\n",
    "\n",
    "    X_train, X_test = X[train_mask], X[test_mask]\n",
    "    y_train, y_test = y[train_mask], y[test_mask]\n",
    "    productos_test = productos_list[test_mask]\n",
    "    \n",
    "    sets[grupo][\"X\"] = X\n",
    "    sets[grupo][\"y\"] = y\n",
    "    sets[grupo][\"X_train\"] = X_train\n",
    "    sets[grupo][\"X_test\"] = X_test\n",
    "    sets[grupo][\"y_train\"] = y_train\n",
    "    sets[grupo][\"y_test\"] = y_test\n",
    "    sets[grupo][\"productos_train\"] = productos_train\n",
    "    print(f\"grupo {grupo}: {len(productos_train)} productos, {len(X_train)} muestras de entrenamiento, {len(X_test)} muestras de test\")\n",
    "    \n",
    "    \n",
    "    \n",
    "# ================================\n"
   ]
  },
  {
   "cell_type": "code",
   "execution_count": 15,
   "id": "e8dbdc91",
   "metadata": {},
   "outputs": [
    {
     "name": "stdout",
     "output_type": "stream",
     "text": [
      "WARNING:tensorflow:Layer lstm will not use cuDNN kernels since it doesn't meet the criteria. It will use a generic GPU kernel as fallback when running on GPU.\n",
      "WARNING:tensorflow:Layer lstm_1 will not use cuDNN kernels since it doesn't meet the criteria. It will use a generic GPU kernel as fallback when running on GPU.\n",
      "Epoch 1/150\n",
      "37/37 [==============================] - 16s 165ms/step - loss: 5.9865 - custom_mape_loss: 5.9863 - val_loss: 5.8289 - val_custom_mape_loss: 5.8304 - lr: 0.0010\n",
      "Epoch 2/150\n",
      "37/37 [==============================] - 5s 137ms/step - loss: 5.9391 - custom_mape_loss: 5.9388 - val_loss: 5.5856 - val_custom_mape_loss: 5.5887 - lr: 0.0010\n",
      "Epoch 3/150\n",
      "37/37 [==============================] - 5s 131ms/step - loss: 5.8983 - custom_mape_loss: 5.8981 - val_loss: 5.6190 - val_custom_mape_loss: 5.6230 - lr: 0.0010\n",
      "Epoch 4/150\n",
      "37/37 [==============================] - 5s 131ms/step - loss: 5.8638 - custom_mape_loss: 5.8637 - val_loss: 5.5855 - val_custom_mape_loss: 5.5917 - lr: 0.0010\n",
      "Epoch 5/150\n",
      "37/37 [==============================] - 5s 129ms/step - loss: 5.8364 - custom_mape_loss: 5.8361 - val_loss: 5.5802 - val_custom_mape_loss: 5.5895 - lr: 0.0010\n",
      "Epoch 6/150\n",
      "37/37 [==============================] - 5s 135ms/step - loss: 5.8099 - custom_mape_loss: 5.8095 - val_loss: 5.5547 - val_custom_mape_loss: 5.5657 - lr: 0.0010\n",
      "Epoch 7/150\n",
      "37/37 [==============================] - 5s 131ms/step - loss: 5.7990 - custom_mape_loss: 5.7989 - val_loss: 5.5782 - val_custom_mape_loss: 5.5904 - lr: 0.0010\n",
      "Epoch 8/150\n",
      "37/37 [==============================] - 5s 130ms/step - loss: 5.7807 - custom_mape_loss: 5.7804 - val_loss: 5.5989 - val_custom_mape_loss: 5.6117 - lr: 0.0010\n",
      "Epoch 9/150\n",
      "37/37 [==============================] - 5s 136ms/step - loss: 5.7754 - custom_mape_loss: 5.7753 - val_loss: 5.4733 - val_custom_mape_loss: 5.4876 - lr: 0.0010\n",
      "Epoch 10/150\n",
      "37/37 [==============================] - 5s 131ms/step - loss: 5.7771 - custom_mape_loss: 5.7773 - val_loss: 5.3576 - val_custom_mape_loss: 5.3735 - lr: 0.0010\n",
      "Epoch 11/150\n",
      "37/37 [==============================] - 5s 133ms/step - loss: 5.7715 - custom_mape_loss: 5.7709 - val_loss: 5.3746 - val_custom_mape_loss: 5.3908 - lr: 0.0010\n",
      "Epoch 12/150\n",
      "37/37 [==============================] - 5s 131ms/step - loss: 5.7630 - custom_mape_loss: 5.7626 - val_loss: 5.3552 - val_custom_mape_loss: 5.3714 - lr: 0.0010\n",
      "Epoch 13/150\n",
      "37/37 [==============================] - 5s 127ms/step - loss: 5.7632 - custom_mape_loss: 5.7630 - val_loss: 5.5515 - val_custom_mape_loss: 5.5655 - lr: 0.0010\n",
      "Epoch 14/150\n",
      "37/37 [==============================] - 5s 133ms/step - loss: 5.7628 - custom_mape_loss: 5.7622 - val_loss: 5.5014 - val_custom_mape_loss: 5.5163 - lr: 0.0010\n",
      "Epoch 15/150\n",
      "37/37 [==============================] - 5s 133ms/step - loss: 5.7564 - custom_mape_loss: 5.7560 - val_loss: 5.3304 - val_custom_mape_loss: 5.3464 - lr: 0.0010\n",
      "Epoch 16/150\n",
      "37/37 [==============================] - 5s 128ms/step - loss: 5.7559 - custom_mape_loss: 5.7559 - val_loss: 5.5578 - val_custom_mape_loss: 5.5720 - lr: 0.0010\n",
      "Epoch 17/150\n",
      "37/37 [==============================] - 5s 129ms/step - loss: 5.7631 - custom_mape_loss: 5.7624 - val_loss: 5.7333 - val_custom_mape_loss: 5.7463 - lr: 0.0010\n",
      "Epoch 18/150\n",
      "37/37 [==============================] - 5s 135ms/step - loss: 5.7536 - custom_mape_loss: 5.7533 - val_loss: 5.5317 - val_custom_mape_loss: 5.5465 - lr: 0.0010\n",
      "Epoch 19/150\n",
      "37/37 [==============================] - 5s 144ms/step - loss: 5.7548 - custom_mape_loss: 5.7545 - val_loss: 5.3477 - val_custom_mape_loss: 5.3656 - lr: 0.0010\n",
      "Epoch 20/150\n",
      "37/37 [==============================] - 5s 130ms/step - loss: 5.7456 - custom_mape_loss: 5.7456 - val_loss: 5.3218 - val_custom_mape_loss: 5.3377 - lr: 0.0010\n",
      "Epoch 21/150\n",
      "37/37 [==============================] - 5s 124ms/step - loss: 5.7414 - custom_mape_loss: 5.7418 - val_loss: 5.3479 - val_custom_mape_loss: 5.3652 - lr: 0.0010\n",
      "Epoch 22/150\n",
      "37/37 [==============================] - 5s 132ms/step - loss: 5.7250 - custom_mape_loss: 5.7249 - val_loss: 5.5039 - val_custom_mape_loss: 5.5189 - lr: 0.0010\n",
      "Epoch 23/150\n",
      "37/37 [==============================] - 5s 123ms/step - loss: 5.7293 - custom_mape_loss: 5.7299 - val_loss: 5.3872 - val_custom_mape_loss: 5.4029 - lr: 0.0010\n",
      "Epoch 24/150\n",
      "37/37 [==============================] - 5s 122ms/step - loss: 5.7279 - custom_mape_loss: 5.7275 - val_loss: 5.4538 - val_custom_mape_loss: 5.4689 - lr: 0.0010\n",
      "Epoch 25/150\n",
      "37/37 [==============================] - 5s 122ms/step - loss: 5.7277 - custom_mape_loss: 5.7276 - val_loss: 5.5302 - val_custom_mape_loss: 5.5468 - lr: 0.0010\n",
      "Epoch 26/150\n",
      "37/37 [==============================] - 5s 123ms/step - loss: 5.7372 - custom_mape_loss: 5.7369 - val_loss: 5.4856 - val_custom_mape_loss: 5.5013 - lr: 0.0010\n",
      "Epoch 27/150\n",
      "37/37 [==============================] - 5s 125ms/step - loss: 5.7232 - custom_mape_loss: 5.7229 - val_loss: 5.5168 - val_custom_mape_loss: 5.5316 - lr: 0.0010\n",
      "Epoch 28/150\n",
      "37/37 [==============================] - 4s 120ms/step - loss: 5.7112 - custom_mape_loss: 5.7105 - val_loss: 5.4625 - val_custom_mape_loss: 5.4793 - lr: 0.0010\n",
      "Epoch 29/150\n",
      "37/37 [==============================] - 5s 123ms/step - loss: 5.7012 - custom_mape_loss: 5.7009 - val_loss: 5.3830 - val_custom_mape_loss: 5.3992 - lr: 0.0010\n",
      "Epoch 30/150\n",
      "37/37 [==============================] - 5s 124ms/step - loss: 5.6986 - custom_mape_loss: 5.6990 - val_loss: 5.3893 - val_custom_mape_loss: 5.4064 - lr: 0.0010\n",
      "Epoch 31/150\n",
      "37/37 [==============================] - 4s 119ms/step - loss: 5.6858 - custom_mape_loss: 5.6858 - val_loss: 5.5047 - val_custom_mape_loss: 5.5201 - lr: 0.0010\n",
      "Epoch 32/150\n",
      "37/37 [==============================] - 5s 126ms/step - loss: 5.6817 - custom_mape_loss: 5.6814 - val_loss: 5.4862 - val_custom_mape_loss: 5.5021 - lr: 0.0010\n",
      "Epoch 33/150\n",
      "37/37 [==============================] - 5s 125ms/step - loss: 5.6796 - custom_mape_loss: 5.6784 - val_loss: 5.4322 - val_custom_mape_loss: 5.4497 - lr: 0.0010\n",
      "Epoch 34/150\n",
      "37/37 [==============================] - 4s 121ms/step - loss: 5.6833 - custom_mape_loss: 5.6829 - val_loss: 5.2179 - val_custom_mape_loss: 5.2359 - lr: 0.0010\n",
      "Epoch 35/150\n",
      "37/37 [==============================] - 4s 120ms/step - loss: 5.6748 - custom_mape_loss: 5.6750 - val_loss: 5.4862 - val_custom_mape_loss: 5.5006 - lr: 0.0010\n",
      "Epoch 36/150\n",
      "37/37 [==============================] - 5s 129ms/step - loss: 5.6805 - custom_mape_loss: 5.6807 - val_loss: 5.4982 - val_custom_mape_loss: 5.5133 - lr: 0.0010\n",
      "Epoch 37/150\n",
      "37/37 [==============================] - 5s 122ms/step - loss: 5.6827 - custom_mape_loss: 5.6830 - val_loss: 5.3232 - val_custom_mape_loss: 5.3421 - lr: 0.0010\n",
      "Epoch 38/150\n",
      "37/37 [==============================] - 5s 122ms/step - loss: 5.6919 - custom_mape_loss: 5.6910 - val_loss: 5.4750 - val_custom_mape_loss: 5.4912 - lr: 0.0010\n",
      "Epoch 39/150\n",
      "37/37 [==============================] - 4s 120ms/step - loss: 5.6836 - custom_mape_loss: 5.6841 - val_loss: 5.5276 - val_custom_mape_loss: 5.5420 - lr: 0.0010\n",
      "Epoch 40/150\n",
      "37/37 [==============================] - 5s 123ms/step - loss: 5.6671 - custom_mape_loss: 5.6672 - val_loss: 5.3885 - val_custom_mape_loss: 5.4049 - lr: 0.0010\n",
      "Epoch 41/150\n",
      "37/37 [==============================] - 4s 119ms/step - loss: 5.6676 - custom_mape_loss: 5.6679 - val_loss: 5.2546 - val_custom_mape_loss: 5.2732 - lr: 0.0010\n",
      "Epoch 42/150\n",
      "37/37 [==============================] - 4s 120ms/step - loss: 5.6713 - custom_mape_loss: 5.6703 - val_loss: 5.2753 - val_custom_mape_loss: 5.2946 - lr: 0.0010\n",
      "Epoch 43/150\n",
      "37/37 [==============================] - 5s 122ms/step - loss: 5.6780 - custom_mape_loss: 5.6777 - val_loss: 5.4908 - val_custom_mape_loss: 5.5061 - lr: 0.0010\n",
      "Epoch 44/150\n",
      "37/37 [==============================] - 4s 121ms/step - loss: 5.6662 - custom_mape_loss: 5.6664 - val_loss: 5.6372 - val_custom_mape_loss: 5.6515 - lr: 0.0010\n",
      "Epoch 45/150\n",
      "37/37 [==============================] - 4s 120ms/step - loss: 5.6463 - custom_mape_loss: 5.6463 - val_loss: 5.6011 - val_custom_mape_loss: 5.6150 - lr: 0.0010\n",
      "Epoch 46/150\n",
      "37/37 [==============================] - 4s 120ms/step - loss: 5.6605 - custom_mape_loss: 5.6603 - val_loss: 5.5201 - val_custom_mape_loss: 5.5338 - lr: 0.0010\n",
      "Epoch 47/150\n",
      "37/37 [==============================] - 4s 120ms/step - loss: 5.6510 - custom_mape_loss: 5.6512 - val_loss: 5.4343 - val_custom_mape_loss: 5.4501 - lr: 0.0010\n",
      "Epoch 48/150\n",
      "37/37 [==============================] - 5s 122ms/step - loss: 5.6398 - custom_mape_loss: 5.6394 - val_loss: 5.5597 - val_custom_mape_loss: 5.5741 - lr: 0.0010\n",
      "Epoch 49/150\n",
      "37/37 [==============================] - 5s 131ms/step - loss: 5.6519 - custom_mape_loss: 5.6522 - val_loss: 5.5541 - val_custom_mape_loss: 5.5695 - lr: 0.0010\n",
      "Epoch 50/150\n",
      "37/37 [==============================] - 5s 129ms/step - loss: 5.6234 - custom_mape_loss: 5.6237 - val_loss: 5.5067 - val_custom_mape_loss: 5.5225 - lr: 1.0000e-04\n",
      "Epoch 51/150\n",
      "37/37 [==============================] - 5s 122ms/step - loss: 5.6304 - custom_mape_loss: 5.6299 - val_loss: 5.4849 - val_custom_mape_loss: 5.5006 - lr: 1.0000e-04\n",
      "Epoch 52/150\n",
      "37/37 [==============================] - 5s 126ms/step - loss: 5.6143 - custom_mape_loss: 5.6148 - val_loss: 5.4637 - val_custom_mape_loss: 5.4797 - lr: 1.0000e-04\n",
      "Epoch 53/150\n",
      "37/37 [==============================] - 5s 121ms/step - loss: 5.6181 - custom_mape_loss: 5.6182 - val_loss: 5.4803 - val_custom_mape_loss: 5.4961 - lr: 1.0000e-04\n",
      "Epoch 54/150\n",
      "37/37 [==============================] - 5s 131ms/step - loss: 5.6350 - custom_mape_loss: 5.6344 - val_loss: 5.4606 - val_custom_mape_loss: 5.4763 - lr: 1.0000e-04\n",
      "Epoch 55/150\n",
      "37/37 [==============================] - 5s 121ms/step - loss: 5.6092 - custom_mape_loss: 5.6090 - val_loss: 5.4870 - val_custom_mape_loss: 5.5024 - lr: 1.0000e-04\n",
      "Epoch 56/150\n",
      "37/37 [==============================] - 5s 122ms/step - loss: 5.6266 - custom_mape_loss: 5.6260 - val_loss: 5.4951 - val_custom_mape_loss: 5.5105 - lr: 1.0000e-04\n",
      "Epoch 57/150\n",
      "37/37 [==============================] - 5s 125ms/step - loss: 5.6156 - custom_mape_loss: 5.6160 - val_loss: 5.4752 - val_custom_mape_loss: 5.4906 - lr: 1.0000e-04\n",
      "Epoch 58/150\n",
      "37/37 [==============================] - 5s 134ms/step - loss: 5.6308 - custom_mape_loss: 5.6303 - val_loss: 5.4566 - val_custom_mape_loss: 5.4720 - lr: 1.0000e-04\n",
      "Epoch 59/150\n",
      "37/37 [==============================] - 4s 120ms/step - loss: 5.6182 - custom_mape_loss: 5.6177 - val_loss: 5.4726 - val_custom_mape_loss: 5.4879 - lr: 1.0000e-04\n",
      "Epoch 60/150\n",
      "37/37 [==============================] - 5s 125ms/step - loss: 5.6154 - custom_mape_loss: 5.6154 - val_loss: 5.4687 - val_custom_mape_loss: 5.4841 - lr: 1.0000e-04\n",
      "Epoch 61/150\n",
      "37/37 [==============================] - 4s 120ms/step - loss: 5.6174 - custom_mape_loss: 5.6169 - val_loss: 5.5087 - val_custom_mape_loss: 5.5235 - lr: 1.0000e-04\n",
      "Epoch 62/150\n",
      "37/37 [==============================] - 5s 122ms/step - loss: 5.6221 - custom_mape_loss: 5.6216 - val_loss: 5.4802 - val_custom_mape_loss: 5.4955 - lr: 1.0000e-04\n",
      "Epoch 63/150\n",
      "37/37 [==============================] - 5s 125ms/step - loss: 5.6185 - custom_mape_loss: 5.6177 - val_loss: 5.4766 - val_custom_mape_loss: 5.4918 - lr: 1.0000e-04\n",
      "Epoch 64/150\n",
      "37/37 [==============================] - 5s 123ms/step - loss: 5.6088 - custom_mape_loss: 5.6084 - val_loss: 5.4908 - val_custom_mape_loss: 5.5058 - lr: 1.0000e-04\n",
      "WARNING:tensorflow:Layer lstm_2 will not use cuDNN kernels since it doesn't meet the criteria. It will use a generic GPU kernel as fallback when running on GPU.\n",
      "WARNING:tensorflow:Layer lstm_3 will not use cuDNN kernels since it doesn't meet the criteria. It will use a generic GPU kernel as fallback when running on GPU.\n",
      "Epoch 1/150\n",
      "47/47 [==============================] - 12s 142ms/step - loss: 5.9767 - custom_mape_loss: 5.9748 - val_loss: 5.5387 - val_custom_mape_loss: 5.5429 - lr: 0.0010\n",
      "Epoch 2/150\n",
      "47/47 [==============================] - 6s 126ms/step - loss: 5.9458 - custom_mape_loss: 5.9495 - val_loss: 5.3694 - val_custom_mape_loss: 5.3909 - lr: 0.0010\n",
      "Epoch 3/150\n",
      "47/47 [==============================] - 6s 123ms/step - loss: 5.9097 - custom_mape_loss: 5.9183 - val_loss: 5.4603 - val_custom_mape_loss: 5.4813 - lr: 0.0010\n",
      "Epoch 4/150\n",
      "47/47 [==============================] - 6s 123ms/step - loss: 5.8804 - custom_mape_loss: 5.8946 - val_loss: 5.4618 - val_custom_mape_loss: 5.4896 - lr: 0.0010\n",
      "Epoch 5/150\n",
      "47/47 [==============================] - 6s 122ms/step - loss: 5.8548 - custom_mape_loss: 5.8658 - val_loss: 5.2636 - val_custom_mape_loss: 5.3169 - lr: 0.0010\n",
      "Epoch 6/150\n",
      "47/47 [==============================] - 6s 125ms/step - loss: 5.8327 - custom_mape_loss: 5.8064 - val_loss: 5.5281 - val_custom_mape_loss: 5.6388 - lr: 0.0010\n",
      "Epoch 7/150\n",
      "47/47 [==============================] - 6s 121ms/step - loss: 5.8227 - custom_mape_loss: 5.8384 - val_loss: 5.4312 - val_custom_mape_loss: 5.5364 - lr: 0.0010\n",
      "Epoch 8/150\n",
      "47/47 [==============================] - 6s 124ms/step - loss: 5.8070 - custom_mape_loss: 5.7820 - val_loss: 5.1524 - val_custom_mape_loss: 5.2610 - lr: 0.0010\n",
      "Epoch 9/150\n",
      "47/47 [==============================] - 6s 131ms/step - loss: 5.8074 - custom_mape_loss: 5.8010 - val_loss: 5.4297 - val_custom_mape_loss: 5.5321 - lr: 0.0010\n",
      "Epoch 10/150\n",
      "47/47 [==============================] - 6s 129ms/step - loss: 5.7851 - custom_mape_loss: 5.8033 - val_loss: 5.5109 - val_custom_mape_loss: 5.6244 - lr: 0.0010\n",
      "Epoch 11/150\n",
      "47/47 [==============================] - 6s 124ms/step - loss: 5.7758 - custom_mape_loss: 5.7858 - val_loss: 5.4595 - val_custom_mape_loss: 5.5760 - lr: 0.0010\n",
      "Epoch 12/150\n",
      "47/47 [==============================] - 6s 124ms/step - loss: 5.7720 - custom_mape_loss: 5.7622 - val_loss: 5.5069 - val_custom_mape_loss: 5.6489 - lr: 0.0010\n",
      "Epoch 13/150\n",
      "47/47 [==============================] - 6s 121ms/step - loss: 5.7535 - custom_mape_loss: 5.7233 - val_loss: 5.4470 - val_custom_mape_loss: 5.5680 - lr: 0.0010\n",
      "Epoch 14/150\n",
      "47/47 [==============================] - 6s 124ms/step - loss: 5.7477 - custom_mape_loss: 5.7341 - val_loss: 5.3436 - val_custom_mape_loss: 5.4573 - lr: 0.0010\n",
      "Epoch 15/150\n",
      "47/47 [==============================] - 6s 123ms/step - loss: 5.7475 - custom_mape_loss: 5.7287 - val_loss: 5.3234 - val_custom_mape_loss: 5.4381 - lr: 0.0010\n",
      "Epoch 16/150\n",
      "47/47 [==============================] - 6s 122ms/step - loss: 5.7443 - custom_mape_loss: 5.7980 - val_loss: 5.4799 - val_custom_mape_loss: 5.6103 - lr: 0.0010\n",
      "Epoch 17/150\n",
      "47/47 [==============================] - 6s 123ms/step - loss: 5.7539 - custom_mape_loss: 5.7702 - val_loss: 5.5689 - val_custom_mape_loss: 5.7119 - lr: 0.0010\n",
      "Epoch 18/150\n",
      "47/47 [==============================] - 6s 126ms/step - loss: 5.7254 - custom_mape_loss: 5.6990 - val_loss: 5.1401 - val_custom_mape_loss: 5.2424 - lr: 0.0010\n",
      "Epoch 19/150\n",
      "47/47 [==============================] - 6s 122ms/step - loss: 5.7432 - custom_mape_loss: 5.7580 - val_loss: 5.3243 - val_custom_mape_loss: 5.4121 - lr: 0.0010\n",
      "Epoch 20/150\n",
      "47/47 [==============================] - 6s 127ms/step - loss: 5.7203 - custom_mape_loss: 5.6929 - val_loss: 5.5149 - val_custom_mape_loss: 5.6488 - lr: 0.0010\n",
      "Epoch 21/150\n",
      "47/47 [==============================] - 6s 124ms/step - loss: 5.7250 - custom_mape_loss: 5.7372 - val_loss: 5.4479 - val_custom_mape_loss: 5.5844 - lr: 0.0010\n",
      "Epoch 22/150\n",
      "47/47 [==============================] - 6s 125ms/step - loss: 5.7197 - custom_mape_loss: 5.7983 - val_loss: 5.6051 - val_custom_mape_loss: 5.7216 - lr: 0.0010\n",
      "Epoch 23/150\n",
      "47/47 [==============================] - 6s 122ms/step - loss: 5.7447 - custom_mape_loss: 5.7537 - val_loss: 5.4718 - val_custom_mape_loss: 5.6011 - lr: 0.0010\n",
      "Epoch 24/150\n",
      "47/47 [==============================] - 6s 124ms/step - loss: 5.7077 - custom_mape_loss: 5.7058 - val_loss: 5.5320 - val_custom_mape_loss: 5.6619 - lr: 0.0010\n",
      "Epoch 25/150\n",
      "47/47 [==============================] - 6s 119ms/step - loss: 5.7107 - custom_mape_loss: 5.6993 - val_loss: 5.2704 - val_custom_mape_loss: 5.3876 - lr: 0.0010\n",
      "Epoch 26/150\n",
      "47/47 [==============================] - 6s 125ms/step - loss: 5.6971 - custom_mape_loss: 5.6944 - val_loss: 5.3235 - val_custom_mape_loss: 5.4543 - lr: 0.0010\n",
      "Epoch 27/150\n",
      "47/47 [==============================] - 6s 119ms/step - loss: 5.6983 - custom_mape_loss: 5.6849 - val_loss: 5.4505 - val_custom_mape_loss: 5.5887 - lr: 0.0010\n",
      "Epoch 28/150\n",
      "47/47 [==============================] - 6s 126ms/step - loss: 5.6940 - custom_mape_loss: 5.6859 - val_loss: 5.5589 - val_custom_mape_loss: 5.7075 - lr: 0.0010\n",
      "Epoch 29/150\n",
      "47/47 [==============================] - 6s 125ms/step - loss: 5.6934 - custom_mape_loss: 5.6944 - val_loss: 5.5737 - val_custom_mape_loss: 5.7225 - lr: 0.0010\n",
      "Epoch 30/150\n",
      "47/47 [==============================] - 6s 120ms/step - loss: 5.6923 - custom_mape_loss: 5.6779 - val_loss: 5.3715 - val_custom_mape_loss: 5.5222 - lr: 0.0010\n",
      "Epoch 31/150\n",
      "47/47 [==============================] - 6s 121ms/step - loss: 5.6950 - custom_mape_loss: 5.7041 - val_loss: 5.3708 - val_custom_mape_loss: 5.5169 - lr: 0.0010\n",
      "Epoch 32/150\n",
      "47/47 [==============================] - 6s 122ms/step - loss: 5.6816 - custom_mape_loss: 5.6846 - val_loss: 5.4462 - val_custom_mape_loss: 5.6050 - lr: 0.0010\n",
      "Epoch 33/150\n",
      "47/47 [==============================] - 6s 121ms/step - loss: 5.6747 - custom_mape_loss: 5.6705 - val_loss: 5.3714 - val_custom_mape_loss: 5.5371 - lr: 0.0010\n",
      "Epoch 34/150\n",
      "47/47 [==============================] - 6s 120ms/step - loss: 5.6694 - custom_mape_loss: 5.6773 - val_loss: 5.3993 - val_custom_mape_loss: 5.5673 - lr: 1.0000e-04\n",
      "Epoch 35/150\n",
      "47/47 [==============================] - 6s 123ms/step - loss: 5.6725 - custom_mape_loss: 5.6831 - val_loss: 5.4194 - val_custom_mape_loss: 5.5851 - lr: 1.0000e-04\n",
      "Epoch 36/150\n",
      "47/47 [==============================] - 6s 124ms/step - loss: 5.6746 - custom_mape_loss: 5.6822 - val_loss: 5.4277 - val_custom_mape_loss: 5.5894 - lr: 1.0000e-04\n",
      "Epoch 37/150\n",
      "47/47 [==============================] - 6s 123ms/step - loss: 5.6647 - custom_mape_loss: 5.6757 - val_loss: 5.4363 - val_custom_mape_loss: 5.5970 - lr: 1.0000e-04\n",
      "Epoch 38/150\n",
      "47/47 [==============================] - 6s 125ms/step - loss: 5.6631 - custom_mape_loss: 5.6129 - val_loss: 5.4050 - val_custom_mape_loss: 5.5694 - lr: 1.0000e-04\n",
      "Epoch 39/150\n",
      "47/47 [==============================] - 6s 126ms/step - loss: 5.6607 - custom_mape_loss: 5.6208 - val_loss: 5.3479 - val_custom_mape_loss: 5.5130 - lr: 1.0000e-04\n",
      "Epoch 40/150\n",
      "47/47 [==============================] - 6s 123ms/step - loss: 5.6694 - custom_mape_loss: 5.6791 - val_loss: 5.3814 - val_custom_mape_loss: 5.5501 - lr: 1.0000e-04\n",
      "Epoch 41/150\n",
      "47/47 [==============================] - 6s 125ms/step - loss: 5.6594 - custom_mape_loss: 5.6865 - val_loss: 5.4369 - val_custom_mape_loss: 5.6032 - lr: 1.0000e-04\n",
      "Epoch 42/150\n",
      "47/47 [==============================] - 6s 125ms/step - loss: 5.6676 - custom_mape_loss: 5.6060 - val_loss: 5.4226 - val_custom_mape_loss: 5.5921 - lr: 1.0000e-04\n",
      "Epoch 43/150\n",
      "47/47 [==============================] - 6s 127ms/step - loss: 5.6635 - custom_mape_loss: 5.6743 - val_loss: 5.3861 - val_custom_mape_loss: 5.5541 - lr: 1.0000e-04\n",
      "Epoch 44/150\n",
      "47/47 [==============================] - 7s 159ms/step - loss: 5.6769 - custom_mape_loss: 5.6726 - val_loss: 5.3631 - val_custom_mape_loss: 5.5277 - lr: 1.0000e-04\n",
      "Epoch 45/150\n",
      "47/47 [==============================] - 9s 201ms/step - loss: 5.6550 - custom_mape_loss: 5.6282 - val_loss: 5.4125 - val_custom_mape_loss: 5.5773 - lr: 1.0000e-04\n",
      "Epoch 46/150\n",
      "47/47 [==============================] - 8s 174ms/step - loss: 5.6638 - custom_mape_loss: 5.6743 - val_loss: 5.3960 - val_custom_mape_loss: 5.5583 - lr: 1.0000e-04\n",
      "Epoch 47/150\n",
      "47/47 [==============================] - 9s 184ms/step - loss: 5.6647 - custom_mape_loss: 5.6611 - val_loss: 5.4101 - val_custom_mape_loss: 5.5738 - lr: 1.0000e-04\n",
      "Epoch 48/150\n",
      "47/47 [==============================] - 9s 193ms/step - loss: 5.6692 - custom_mape_loss: 5.6910 - val_loss: 5.3929 - val_custom_mape_loss: 5.5569 - lr: 1.0000e-04\n",
      "WARNING:tensorflow:Layer lstm_4 will not use cuDNN kernels since it doesn't meet the criteria. It will use a generic GPU kernel as fallback when running on GPU.\n",
      "WARNING:tensorflow:Layer lstm_5 will not use cuDNN kernels since it doesn't meet the criteria. It will use a generic GPU kernel as fallback when running on GPU.\n",
      "Epoch 1/150\n",
      "42/42 [==============================] - 15s 217ms/step - loss: 5.9609 - custom_mape_loss: 5.9595 - val_loss: 5.6959 - val_custom_mape_loss: 5.8088 - lr: 0.0010\n",
      "Epoch 2/150\n",
      "42/42 [==============================] - 10s 232ms/step - loss: 5.9288 - custom_mape_loss: 5.9292 - val_loss: 5.6423 - val_custom_mape_loss: 5.7777 - lr: 0.0010\n",
      "Epoch 3/150\n",
      "42/42 [==============================] - 10s 233ms/step - loss: 5.9031 - custom_mape_loss: 5.9023 - val_loss: 5.2892 - val_custom_mape_loss: 5.5613 - lr: 0.0010\n",
      "Epoch 4/150\n",
      "42/42 [==============================] - 8s 199ms/step - loss: 5.8985 - custom_mape_loss: 5.8982 - val_loss: 5.6029 - val_custom_mape_loss: 5.7580 - lr: 0.0010\n",
      "Epoch 5/150\n",
      "42/42 [==============================] - 8s 201ms/step - loss: 5.8734 - custom_mape_loss: 5.8729 - val_loss: 5.4409 - val_custom_mape_loss: 5.6594 - lr: 0.0010\n",
      "Epoch 6/150\n",
      "42/42 [==============================] - 9s 216ms/step - loss: 5.8620 - custom_mape_loss: 5.8610 - val_loss: 5.5151 - val_custom_mape_loss: 5.7045 - lr: 0.0010\n",
      "Epoch 7/150\n",
      "42/42 [==============================] - 5s 130ms/step - loss: 5.8606 - custom_mape_loss: 5.8600 - val_loss: 5.3619 - val_custom_mape_loss: 5.6098 - lr: 0.0010\n",
      "Epoch 8/150\n",
      "42/42 [==============================] - 5s 115ms/step - loss: 5.8450 - custom_mape_loss: 5.8459 - val_loss: 5.8780 - val_custom_mape_loss: 5.9353 - lr: 0.0010\n",
      "Epoch 9/150\n",
      "42/42 [==============================] - 5s 127ms/step - loss: 5.8516 - custom_mape_loss: 5.8497 - val_loss: 5.4397 - val_custom_mape_loss: 5.6586 - lr: 0.0010\n",
      "Epoch 10/150\n",
      "42/42 [==============================] - 6s 139ms/step - loss: 5.8375 - custom_mape_loss: 5.8369 - val_loss: 5.8249 - val_custom_mape_loss: 5.9010 - lr: 0.0010\n",
      "Epoch 11/150\n",
      "42/42 [==============================] - 6s 143ms/step - loss: 5.8348 - custom_mape_loss: 5.8328 - val_loss: 5.5728 - val_custom_mape_loss: 5.7444 - lr: 0.0010\n",
      "Epoch 12/150\n",
      "42/42 [==============================] - 6s 141ms/step - loss: 5.8269 - custom_mape_loss: 5.8272 - val_loss: 5.4124 - val_custom_mape_loss: 5.6423 - lr: 0.0010\n",
      "Epoch 13/150\n",
      "42/42 [==============================] - 6s 145ms/step - loss: 5.8276 - custom_mape_loss: 5.8288 - val_loss: 5.3732 - val_custom_mape_loss: 5.6195 - lr: 0.0010\n",
      "Epoch 14/150\n",
      "42/42 [==============================] - 6s 140ms/step - loss: 5.8340 - custom_mape_loss: 5.8341 - val_loss: 5.6527 - val_custom_mape_loss: 5.7926 - lr: 0.0010\n",
      "Epoch 15/150\n",
      "42/42 [==============================] - 6s 144ms/step - loss: 5.8190 - custom_mape_loss: 5.8197 - val_loss: 5.4659 - val_custom_mape_loss: 5.6748 - lr: 0.0010\n",
      "Epoch 16/150\n",
      "42/42 [==============================] - 6s 138ms/step - loss: 5.8173 - custom_mape_loss: 5.8149 - val_loss: 5.5657 - val_custom_mape_loss: 5.7374 - lr: 0.0010\n",
      "Epoch 17/150\n",
      "42/42 [==============================] - 6s 139ms/step - loss: 5.8043 - custom_mape_loss: 5.8047 - val_loss: 5.5276 - val_custom_mape_loss: 5.7178 - lr: 0.0010\n",
      "Epoch 18/150\n",
      "42/42 [==============================] - 6s 143ms/step - loss: 5.8176 - custom_mape_loss: 5.8144 - val_loss: 5.6013 - val_custom_mape_loss: 5.7613 - lr: 0.0010\n",
      "Epoch 19/150\n",
      "42/42 [==============================] - 6s 143ms/step - loss: 5.7961 - custom_mape_loss: 5.7969 - val_loss: 5.5439 - val_custom_mape_loss: 5.7256 - lr: 1.0000e-04\n",
      "Epoch 20/150\n",
      "42/42 [==============================] - 6s 141ms/step - loss: 5.7880 - custom_mape_loss: 5.7872 - val_loss: 5.5151 - val_custom_mape_loss: 5.7076 - lr: 1.0000e-04\n",
      "Epoch 21/150\n",
      "42/42 [==============================] - 6s 144ms/step - loss: 5.7829 - custom_mape_loss: 5.7825 - val_loss: 5.5213 - val_custom_mape_loss: 5.7118 - lr: 1.0000e-04\n",
      "Epoch 22/150\n",
      "42/42 [==============================] - 6s 139ms/step - loss: 5.7927 - custom_mape_loss: 5.7921 - val_loss: 5.5316 - val_custom_mape_loss: 5.7180 - lr: 1.0000e-04\n",
      "Epoch 23/150\n",
      "42/42 [==============================] - 6s 139ms/step - loss: 5.7831 - custom_mape_loss: 5.7836 - val_loss: 5.5297 - val_custom_mape_loss: 5.7173 - lr: 1.0000e-04\n",
      "Epoch 24/150\n",
      "42/42 [==============================] - 6s 144ms/step - loss: 5.7967 - custom_mape_loss: 5.7971 - val_loss: 5.5682 - val_custom_mape_loss: 5.7412 - lr: 1.0000e-04\n",
      "Epoch 25/150\n",
      "42/42 [==============================] - 7s 158ms/step - loss: 5.7953 - custom_mape_loss: 5.7957 - val_loss: 5.5631 - val_custom_mape_loss: 5.7380 - lr: 1.0000e-04\n",
      "Epoch 26/150\n",
      "42/42 [==============================] - 6s 135ms/step - loss: 5.7906 - custom_mape_loss: 5.7907 - val_loss: 5.5273 - val_custom_mape_loss: 5.7151 - lr: 1.0000e-04\n",
      "Epoch 27/150\n",
      "42/42 [==============================] - 6s 146ms/step - loss: 5.7865 - custom_mape_loss: 5.7888 - val_loss: 5.5491 - val_custom_mape_loss: 5.7289 - lr: 1.0000e-04\n",
      "Epoch 28/150\n",
      "42/42 [==============================] - 6s 149ms/step - loss: 5.7856 - custom_mape_loss: 5.7860 - val_loss: 5.5311 - val_custom_mape_loss: 5.7176 - lr: 1.0000e-04\n",
      "Epoch 29/150\n",
      "42/42 [==============================] - 7s 157ms/step - loss: 5.7886 - custom_mape_loss: 5.7887 - val_loss: 5.5119 - val_custom_mape_loss: 5.7055 - lr: 1.0000e-04\n",
      "Epoch 30/150\n",
      "42/42 [==============================] - 7s 157ms/step - loss: 5.7827 - custom_mape_loss: 5.7840 - val_loss: 5.5244 - val_custom_mape_loss: 5.7132 - lr: 1.0000e-04\n",
      "Epoch 31/150\n",
      "42/42 [==============================] - 6s 139ms/step - loss: 5.7817 - custom_mape_loss: 5.7814 - val_loss: 5.5707 - val_custom_mape_loss: 5.7423 - lr: 1.0000e-04\n",
      "Epoch 32/150\n",
      "42/42 [==============================] - 6s 151ms/step - loss: 5.7787 - custom_mape_loss: 5.7766 - val_loss: 5.5411 - val_custom_mape_loss: 5.7238 - lr: 1.0000e-04\n",
      "Epoch 33/150\n",
      "42/42 [==============================] - 6s 149ms/step - loss: 5.7795 - custom_mape_loss: 5.7790 - val_loss: 5.5170 - val_custom_mape_loss: 5.7087 - lr: 1.0000e-04\n",
      "WARNING:tensorflow:Layer lstm_6 will not use cuDNN kernels since it doesn't meet the criteria. It will use a generic GPU kernel as fallback when running on GPU.\n",
      "WARNING:tensorflow:Layer lstm_7 will not use cuDNN kernels since it doesn't meet the criteria. It will use a generic GPU kernel as fallback when running on GPU.\n",
      "Epoch 1/150\n",
      "53/53 [==============================] - 12s 101ms/step - loss: 2.9871 - custom_mape_loss: 2.9874 - val_loss: 2.9303 - val_custom_mape_loss: 2.9278 - lr: 0.0010\n",
      "Epoch 2/150\n",
      "53/53 [==============================] - 5s 98ms/step - loss: 2.9362 - custom_mape_loss: 2.9363 - val_loss: 3.0068 - val_custom_mape_loss: 3.0274 - lr: 0.0010\n",
      "Epoch 3/150\n",
      "53/53 [==============================] - 5s 98ms/step - loss: 2.9101 - custom_mape_loss: 2.9094 - val_loss: 2.9802 - val_custom_mape_loss: 2.9989 - lr: 0.0010\n",
      "Epoch 4/150\n",
      "53/53 [==============================] - 5s 96ms/step - loss: 2.9011 - custom_mape_loss: 2.9004 - val_loss: 2.9030 - val_custom_mape_loss: 2.9186 - lr: 0.0010\n",
      "Epoch 5/150\n",
      "53/53 [==============================] - 5s 100ms/step - loss: 2.8920 - custom_mape_loss: 2.8907 - val_loss: 2.8277 - val_custom_mape_loss: 2.8382 - lr: 0.0010\n",
      "Epoch 6/150\n",
      "53/53 [==============================] - 5s 98ms/step - loss: 2.8888 - custom_mape_loss: 2.8891 - val_loss: 2.8841 - val_custom_mape_loss: 2.9032 - lr: 0.0010\n",
      "Epoch 7/150\n",
      "53/53 [==============================] - 6s 105ms/step - loss: 2.8854 - custom_mape_loss: 2.8842 - val_loss: 2.7638 - val_custom_mape_loss: 2.7660 - lr: 0.0010\n",
      "Epoch 8/150\n",
      "53/53 [==============================] - 6s 103ms/step - loss: 2.8866 - custom_mape_loss: 2.8865 - val_loss: 2.8415 - val_custom_mape_loss: 2.8564 - lr: 0.0010\n",
      "Epoch 9/150\n",
      "53/53 [==============================] - 5s 97ms/step - loss: 2.8778 - custom_mape_loss: 2.8777 - val_loss: 2.9721 - val_custom_mape_loss: 3.0069 - lr: 0.0010\n",
      "Epoch 10/150\n",
      "53/53 [==============================] - 5s 97ms/step - loss: 2.8797 - custom_mape_loss: 2.8817 - val_loss: 2.8714 - val_custom_mape_loss: 2.8914 - lr: 0.0010\n",
      "Epoch 11/150\n",
      "53/53 [==============================] - 5s 99ms/step - loss: 2.8810 - custom_mape_loss: 2.8801 - val_loss: 2.8645 - val_custom_mape_loss: 2.8859 - lr: 0.0010\n",
      "Epoch 12/150\n",
      "53/53 [==============================] - 5s 99ms/step - loss: 2.8750 - custom_mape_loss: 2.8723 - val_loss: 2.8808 - val_custom_mape_loss: 2.9025 - lr: 0.0010\n",
      "Epoch 13/150\n",
      "53/53 [==============================] - 5s 99ms/step - loss: 2.8788 - custom_mape_loss: 2.8783 - val_loss: 2.9674 - val_custom_mape_loss: 3.0027 - lr: 0.0010\n",
      "Epoch 14/150\n",
      "53/53 [==============================] - 5s 97ms/step - loss: 2.8769 - custom_mape_loss: 2.8780 - val_loss: 2.9348 - val_custom_mape_loss: 2.9667 - lr: 0.0010\n",
      "Epoch 15/150\n",
      "53/53 [==============================] - 5s 96ms/step - loss: 2.8749 - custom_mape_loss: 2.8760 - val_loss: 2.9179 - val_custom_mape_loss: 2.9477 - lr: 0.0010\n",
      "Epoch 16/150\n",
      "53/53 [==============================] - 5s 96ms/step - loss: 2.8707 - custom_mape_loss: 2.8730 - val_loss: 2.9082 - val_custom_mape_loss: 2.9397 - lr: 0.0010\n",
      "Epoch 17/150\n",
      "53/53 [==============================] - 5s 97ms/step - loss: 2.8700 - custom_mape_loss: 2.8693 - val_loss: 2.8928 - val_custom_mape_loss: 2.9163 - lr: 0.0010\n",
      "Epoch 18/150\n",
      "53/53 [==============================] - 5s 98ms/step - loss: 2.8660 - custom_mape_loss: 2.8665 - val_loss: 2.9221 - val_custom_mape_loss: 2.9577 - lr: 0.0010\n",
      "Epoch 19/150\n",
      "53/53 [==============================] - 5s 99ms/step - loss: 2.8705 - custom_mape_loss: 2.8693 - val_loss: 2.9108 - val_custom_mape_loss: 2.9423 - lr: 0.0010\n",
      "Epoch 20/150\n",
      "53/53 [==============================] - 5s 96ms/step - loss: 2.8656 - custom_mape_loss: 2.8670 - val_loss: 2.9310 - val_custom_mape_loss: 2.9643 - lr: 0.0010\n",
      "Epoch 21/150\n",
      "53/53 [==============================] - 5s 101ms/step - loss: 2.8691 - custom_mape_loss: 2.8677 - val_loss: 2.8861 - val_custom_mape_loss: 2.9178 - lr: 0.0010\n",
      "Epoch 22/150\n",
      "53/53 [==============================] - 5s 101ms/step - loss: 2.8596 - custom_mape_loss: 2.8601 - val_loss: 2.9418 - val_custom_mape_loss: 2.9815 - lr: 0.0010\n",
      "Epoch 23/150\n",
      "53/53 [==============================] - 5s 102ms/step - loss: 2.8559 - custom_mape_loss: 2.8567 - val_loss: 2.9330 - val_custom_mape_loss: 2.9708 - lr: 1.0000e-04\n",
      "Epoch 24/150\n",
      "53/53 [==============================] - 5s 102ms/step - loss: 2.8613 - custom_mape_loss: 2.8583 - val_loss: 2.9122 - val_custom_mape_loss: 2.9470 - lr: 1.0000e-04\n",
      "Epoch 25/150\n",
      "53/53 [==============================] - 5s 99ms/step - loss: 2.8605 - custom_mape_loss: 2.8598 - val_loss: 2.9085 - val_custom_mape_loss: 2.9434 - lr: 1.0000e-04\n",
      "Epoch 26/150\n",
      "53/53 [==============================] - 5s 103ms/step - loss: 2.8585 - custom_mape_loss: 2.8586 - val_loss: 2.9053 - val_custom_mape_loss: 2.9398 - lr: 1.0000e-04\n",
      "Epoch 27/150\n",
      "53/53 [==============================] - 5s 89ms/step - loss: 2.8555 - custom_mape_loss: 2.8580 - val_loss: 2.8960 - val_custom_mape_loss: 2.9289 - lr: 1.0000e-04\n",
      "Epoch 28/150\n",
      "53/53 [==============================] - 4s 70ms/step - loss: 2.8612 - custom_mape_loss: 2.8615 - val_loss: 2.9011 - val_custom_mape_loss: 2.9350 - lr: 1.0000e-04\n",
      "Epoch 29/150\n",
      "53/53 [==============================] - 4s 69ms/step - loss: 2.8533 - custom_mape_loss: 2.8524 - val_loss: 2.9011 - val_custom_mape_loss: 2.9350 - lr: 1.0000e-04\n",
      "Epoch 30/150\n",
      "53/53 [==============================] - 4s 69ms/step - loss: 2.8602 - custom_mape_loss: 2.8576 - val_loss: 2.9040 - val_custom_mape_loss: 2.9386 - lr: 1.0000e-04\n",
      "Epoch 31/150\n",
      "53/53 [==============================] - 4s 69ms/step - loss: 2.8556 - custom_mape_loss: 2.8556 - val_loss: 2.9060 - val_custom_mape_loss: 2.9411 - lr: 1.0000e-04\n",
      "Epoch 32/150\n",
      "53/53 [==============================] - 4s 68ms/step - loss: 2.8568 - custom_mape_loss: 2.8578 - val_loss: 2.9061 - val_custom_mape_loss: 2.9411 - lr: 1.0000e-04\n",
      "Epoch 33/150\n",
      "53/53 [==============================] - 4s 69ms/step - loss: 2.8565 - custom_mape_loss: 2.8570 - val_loss: 2.9066 - val_custom_mape_loss: 2.9421 - lr: 1.0000e-04\n",
      "Epoch 34/150\n",
      "53/53 [==============================] - 4s 69ms/step - loss: 2.8557 - custom_mape_loss: 2.8558 - val_loss: 2.9096 - val_custom_mape_loss: 2.9456 - lr: 1.0000e-04\n",
      "Epoch 35/150\n",
      "53/53 [==============================] - 4s 70ms/step - loss: 2.8584 - custom_mape_loss: 2.8605 - val_loss: 2.9023 - val_custom_mape_loss: 2.9369 - lr: 1.0000e-04\n",
      "Epoch 36/150\n",
      "53/53 [==============================] - 4s 69ms/step - loss: 2.8594 - custom_mape_loss: 2.8626 - val_loss: 2.8913 - val_custom_mape_loss: 2.9243 - lr: 1.0000e-04\n",
      "Epoch 37/150\n",
      "53/53 [==============================] - 4s 72ms/step - loss: 2.8596 - custom_mape_loss: 2.8602 - val_loss: 2.9012 - val_custom_mape_loss: 2.9358 - lr: 1.0000e-04\n",
      "WARNING:tensorflow:Layer lstm_8 will not use cuDNN kernels since it doesn't meet the criteria. It will use a generic GPU kernel as fallback when running on GPU.\n",
      "WARNING:tensorflow:Layer lstm_9 will not use cuDNN kernels since it doesn't meet the criteria. It will use a generic GPU kernel as fallback when running on GPU.\n",
      "Epoch 1/150\n",
      "59/59 [==============================] - 10s 83ms/step - loss: 2.9380 - custom_mape_loss: 2.9369 - val_loss: 2.8653 - val_custom_mape_loss: 2.8825 - lr: 0.0010\n",
      "Epoch 2/150\n",
      "59/59 [==============================] - 4s 69ms/step - loss: 2.8927 - custom_mape_loss: 2.8937 - val_loss: 2.7698 - val_custom_mape_loss: 2.7950 - lr: 0.0010\n",
      "Epoch 3/150\n",
      "59/59 [==============================] - 4s 68ms/step - loss: 2.8873 - custom_mape_loss: 2.8878 - val_loss: 2.8299 - val_custom_mape_loss: 2.8607 - lr: 0.0010\n",
      "Epoch 4/150\n",
      "59/59 [==============================] - 4s 69ms/step - loss: 2.8727 - custom_mape_loss: 2.8733 - val_loss: 2.7892 - val_custom_mape_loss: 2.8233 - lr: 0.0010\n",
      "Epoch 5/150\n",
      "59/59 [==============================] - 4s 71ms/step - loss: 2.8700 - custom_mape_loss: 2.8707 - val_loss: 2.6765 - val_custom_mape_loss: 2.7212 - lr: 0.0010\n",
      "Epoch 6/150\n",
      "59/59 [==============================] - 4s 64ms/step - loss: 2.8705 - custom_mape_loss: 2.8695 - val_loss: 2.8512 - val_custom_mape_loss: 2.8918 - lr: 0.0010\n",
      "Epoch 7/150\n",
      "59/59 [==============================] - 4s 66ms/step - loss: 2.8617 - custom_mape_loss: 2.8621 - val_loss: 2.8063 - val_custom_mape_loss: 2.8467 - lr: 0.0010\n",
      "Epoch 8/150\n",
      "59/59 [==============================] - 4s 66ms/step - loss: 2.8643 - custom_mape_loss: 2.8616 - val_loss: 2.8200 - val_custom_mape_loss: 2.8612 - lr: 0.0010\n",
      "Epoch 9/150\n",
      "59/59 [==============================] - 4s 66ms/step - loss: 2.8646 - custom_mape_loss: 2.8646 - val_loss: 2.8353 - val_custom_mape_loss: 2.8766 - lr: 0.0010\n",
      "Epoch 10/150\n",
      "59/59 [==============================] - 4s 67ms/step - loss: 2.8647 - custom_mape_loss: 2.8632 - val_loss: 2.7477 - val_custom_mape_loss: 2.7928 - lr: 0.0010\n",
      "Epoch 11/150\n",
      "59/59 [==============================] - 4s 67ms/step - loss: 2.8617 - custom_mape_loss: 2.8624 - val_loss: 2.9380 - val_custom_mape_loss: 2.9793 - lr: 0.0010\n",
      "Epoch 12/150\n",
      "59/59 [==============================] - 4s 66ms/step - loss: 2.8657 - custom_mape_loss: 2.8646 - val_loss: 2.7501 - val_custom_mape_loss: 2.7930 - lr: 0.0010\n",
      "Epoch 13/150\n",
      "59/59 [==============================] - 4s 66ms/step - loss: 2.8558 - custom_mape_loss: 2.8566 - val_loss: 2.8522 - val_custom_mape_loss: 2.8916 - lr: 0.0010\n",
      "Epoch 14/150\n",
      "59/59 [==============================] - 4s 66ms/step - loss: 2.8586 - custom_mape_loss: 2.8575 - val_loss: 2.7748 - val_custom_mape_loss: 2.8167 - lr: 0.0010\n",
      "Epoch 15/150\n",
      "59/59 [==============================] - 4s 67ms/step - loss: 2.8634 - custom_mape_loss: 2.8630 - val_loss: 2.8646 - val_custom_mape_loss: 2.9020 - lr: 0.0010\n",
      "Epoch 16/150\n",
      "59/59 [==============================] - 4s 68ms/step - loss: 2.8557 - custom_mape_loss: 2.8567 - val_loss: 2.7057 - val_custom_mape_loss: 2.7504 - lr: 0.0010\n",
      "Epoch 17/150\n",
      "59/59 [==============================] - 4s 69ms/step - loss: 2.8595 - custom_mape_loss: 2.8569 - val_loss: 2.7827 - val_custom_mape_loss: 2.8222 - lr: 0.0010\n",
      "Epoch 18/150\n",
      "59/59 [==============================] - 4s 65ms/step - loss: 2.8567 - custom_mape_loss: 2.8560 - val_loss: 2.7881 - val_custom_mape_loss: 2.8286 - lr: 0.0010\n",
      "Epoch 19/150\n",
      "59/59 [==============================] - 4s 67ms/step - loss: 2.8571 - custom_mape_loss: 2.8551 - val_loss: 2.8742 - val_custom_mape_loss: 2.9139 - lr: 0.0010\n",
      "Epoch 20/150\n",
      "59/59 [==============================] - 4s 66ms/step - loss: 2.8553 - custom_mape_loss: 2.8574 - val_loss: 2.9062 - val_custom_mape_loss: 2.9455 - lr: 0.0010\n",
      "Epoch 21/150\n",
      "59/59 [==============================] - 4s 68ms/step - loss: 2.8485 - custom_mape_loss: 2.8491 - val_loss: 2.8436 - val_custom_mape_loss: 2.8830 - lr: 1.0000e-04\n",
      "Epoch 22/150\n",
      "59/59 [==============================] - 4s 68ms/step - loss: 2.8463 - custom_mape_loss: 2.8460 - val_loss: 2.8538 - val_custom_mape_loss: 2.8933 - lr: 1.0000e-04\n",
      "Epoch 23/150\n",
      "59/59 [==============================] - 4s 67ms/step - loss: 2.8511 - custom_mape_loss: 2.8510 - val_loss: 2.8442 - val_custom_mape_loss: 2.8837 - lr: 1.0000e-04\n",
      "Epoch 24/150\n",
      "59/59 [==============================] - 4s 67ms/step - loss: 2.8481 - custom_mape_loss: 2.8488 - val_loss: 2.8390 - val_custom_mape_loss: 2.8786 - lr: 1.0000e-04\n",
      "Epoch 25/150\n",
      "59/59 [==============================] - 4s 67ms/step - loss: 2.8491 - custom_mape_loss: 2.8495 - val_loss: 2.8452 - val_custom_mape_loss: 2.8848 - lr: 1.0000e-04\n",
      "Epoch 26/150\n",
      "59/59 [==============================] - 4s 66ms/step - loss: 2.8485 - custom_mape_loss: 2.8472 - val_loss: 2.8544 - val_custom_mape_loss: 2.8937 - lr: 1.0000e-04\n",
      "Epoch 27/150\n",
      "59/59 [==============================] - 4s 66ms/step - loss: 2.8435 - custom_mape_loss: 2.8429 - val_loss: 2.8409 - val_custom_mape_loss: 2.8803 - lr: 1.0000e-04\n",
      "Epoch 28/150\n",
      "59/59 [==============================] - 4s 67ms/step - loss: 2.8472 - custom_mape_loss: 2.8465 - val_loss: 2.8574 - val_custom_mape_loss: 2.8968 - lr: 1.0000e-04\n",
      "Epoch 29/150\n",
      "59/59 [==============================] - 4s 66ms/step - loss: 2.8486 - custom_mape_loss: 2.8485 - val_loss: 2.8440 - val_custom_mape_loss: 2.8833 - lr: 1.0000e-04\n",
      "Epoch 30/150\n",
      "59/59 [==============================] - 4s 66ms/step - loss: 2.8441 - custom_mape_loss: 2.8427 - val_loss: 2.8519 - val_custom_mape_loss: 2.8908 - lr: 1.0000e-04\n",
      "Epoch 31/150\n",
      "59/59 [==============================] - 4s 67ms/step - loss: 2.8493 - custom_mape_loss: 2.8488 - val_loss: 2.8587 - val_custom_mape_loss: 2.8974 - lr: 1.0000e-04\n",
      "Epoch 32/150\n",
      "59/59 [==============================] - 4s 67ms/step - loss: 2.8421 - custom_mape_loss: 2.8411 - val_loss: 2.8415 - val_custom_mape_loss: 2.8801 - lr: 1.0000e-04\n",
      "Epoch 33/150\n",
      "59/59 [==============================] - 4s 66ms/step - loss: 2.8467 - custom_mape_loss: 2.8461 - val_loss: 2.8663 - val_custom_mape_loss: 2.9047 - lr: 1.0000e-04\n",
      "Epoch 34/150\n",
      "59/59 [==============================] - 4s 66ms/step - loss: 2.8479 - custom_mape_loss: 2.8464 - val_loss: 2.8576 - val_custom_mape_loss: 2.8956 - lr: 1.0000e-04\n",
      "Epoch 35/150\n",
      "59/59 [==============================] - 4s 65ms/step - loss: 2.8453 - custom_mape_loss: 2.8462 - val_loss: 2.8624 - val_custom_mape_loss: 2.9007 - lr: 1.0000e-04\n"
     ]
    }
   ],
   "source": [
    "\n",
    "# ================================\n",
    "# 4. MODELO LSTM\n",
    "# ================================\n",
    "from tensorflow.keras.models import Sequential\n",
    "from tensorflow.keras.layers import LSTM, Dense, Dropout\n",
    "from tensorflow.keras.regularizers import l2\n",
    "from tensorflow.keras.callbacks import EarlyStopping, ReduceLROnPlateau\n",
    "from tensorflow.keras import regularizers\n",
    "\n",
    "tf.random.set_seed(seed)\n",
    "\n",
    "def custom_mape_loss(y_true, y_pred):\n",
    "    \"\"\"\n",
    "    Pérdida personalizada: Mean Absolute Percentage Error (MAPE) modificado\n",
    "    donde el denominador es la suma total de los valores reales.\n",
    "    \"\"\"\n",
    "    numerator = tf.reduce_sum(tf.abs(y_true - y_pred))\n",
    "    denominator = tf.reduce_sum(tf.abs(y_true))\n",
    "    return numerator / (denominator + tf.keras.backend.epsilon())  # Evita división por cero\n",
    "\n",
    "for grupo in sets:\n",
    "    window_size = get_window_size(grupo)\n",
    "    set_data = sets[grupo]\n",
    "    X_train = set_data[\"X_train\"]\n",
    "    y_train = set_data[\"y_train\"]\n",
    "    X_test = set_data[\"X_test\"]\n",
    "    y_test = set_data[\"y_test\"]\n",
    "    \n",
    "    \n",
    "    \n",
    "    l2_lambda = config[\"l2_lambda\"]\n",
    "    optimizer = config[\"optimizer\"]\n",
    "    epochs = config[\"epochs\"]\n",
    "    batch_size = config[\"batch_size\"]\n",
    "    early_stopping_patience = config[\"early_stopping_patience\"]\n",
    "\n",
    "    def get_reg(l2_lambda):\n",
    "        return l2(l2_lambda) if l2_lambda > 0 else None\n",
    "    reg = regularizers.l1_l2(l1=3.3692472030315245e-07, l2=8.7876011262569e-08)\n",
    "    n_features = X_train.shape[2] \n",
    "    model = Sequential([\n",
    "        LSTM(32, activation='tanh', return_sequences=True,recurrent_dropout=0.26612587287797906,\n",
    "             input_shape=(window_size, n_features),\n",
    "             kernel_regularizer=reg\n",
    "             ),\n",
    "        Dropout(0.18703491200890998),\n",
    "        LSTM(32, return_sequences=True, activation='relu', recurrent_dropout=0.10895054417461136, kernel_regularizer=reg),\n",
    "        Dense(8, activation='relu',kernel_regularizer=reg),\n",
    "        Dense(1)\n",
    "    ])\n",
    "\n",
    "    model.compile(optimizer=\"adam\", loss=custom_mape_loss, metrics=custom_mape_loss)\n",
    "\n",
    "    callbacks = [\n",
    "         EarlyStopping(patience=early_stopping_patience, restore_best_weights=True),\n",
    "        ReduceLROnPlateau(factor=0.1, patience=15)\n",
    "    ]\n",
    "\n",
    "    model.fit(\n",
    "        X_train, y_train,\n",
    "        epochs=epochs,\n",
    "        batch_size=batch_size,\n",
    "        validation_data=(X_test, y_test),\n",
    "        callbacks=callbacks,\n",
    "        verbose=1,\n",
    "    )\n",
    "    modelos[grupo] = model\n",
    "    # Evaluar el modelo\n",
    "    \n",
    "    loss, mae = model.evaluate(X_test, y_test, verbose=0)\n",
    "    metricas[grupo] = {\n",
    "        \"loss\": loss,\n",
    "        \"mae\": mae\n",
    "    }"
   ]
  },
  {
   "cell_type": "code",
   "execution_count": 16,
   "id": "6c8495f9",
   "metadata": {},
   "outputs": [],
   "source": [
    "def predecir_todos_t2(df_features_full, scalers, feature_cols):\n",
    "    \"\"\"\n",
    "    Predice tn en t+2 para todos los productos que tengan suficientes datos.\n",
    "\n",
    "    Args:\n",
    "        df_features_full (pd.DataFrame): dataframe completo con features\n",
    "        model: modelo LSTM ya entrenado\n",
    "        scalers (dict): diccionario con los StandardScaler por producto\n",
    "        feature_cols (list): lista de columnas de features\n",
    "        window_size (int): tamaño de la ventana temporal\n",
    "\n",
    "    Returns:\n",
    "        pd.DataFrame: dataframe con columnas [\"product_id\", \"tn_t2_pred\"]\n",
    "    \"\"\"\n",
    "    productos = df_features_full[\"product_id\"].unique()\n",
    "    resultados = []\n",
    "    errores = []\n",
    "    for pid in productos:\n",
    "        y_pred = None\n",
    "        df_prod = df_features_full[df_features_full[\"product_id\"] == pid]\n",
    "        grupo = df_prod[\"grupo\"].iloc[0] if not df_prod.empty else 0\n",
    "        window_size = get_window_size(grupo)\n",
    "        if len(df_prod) < window_size:\n",
    "            y_pred = np.mean(df_prod[\"tn\"][-12:])  # Valor por defecto si falla la predicción\n",
    "            resultados.append({\"product_id\": pid, \"tn_t2_pred\": y_pred})\n",
    "            continue  # no hay suficientes datos\n",
    "\n",
    "        try:\n",
    "            ultimos = df_prod[feature_cols].iloc[-window_size:]\n",
    "            scaler = scalers[pid]\n",
    "            ultimos_scaled = scaler.transform(ultimos)\n",
    "\n",
    "            # Agregar la feature extra\n",
    "            mes_ultimo_valor = df_prod.iloc[-1][\"month\"]\n",
    "            quarter_ultimo_valor = df_prod.iloc[-1][\"quarter\"]\n",
    "            \n",
    "            mes_scaled = (mes_ultimo_valor - 1) / 11\n",
    "            quarter_scaled = (quarter_ultimo_valor - 1) / 3\n",
    "\n",
    "\n",
    "            mes_feature = np.full((window_size, 1), mes_scaled)\n",
    "            quarter_feature = np.full((window_size, 1), quarter_scaled)\n",
    "\n",
    "            X_new = np.concatenate([ultimos_scaled, mes_feature, quarter_feature], axis=1).reshape(1, window_size, -1)\n",
    "            model = modelos[int(df_prod[\"grupo\"].iloc[0])]  # Obtener el modelo según el quantil\n",
    "            y_pred_scaled = model.predict(X_new, verbose=0)\n",
    "\n",
    "            # Desescalar\n",
    "            tn_mean = scaler.center_[0]\n",
    "            tn_std = scaler.scale_[0]\n",
    "            y_pred = y_pred_scaled[0][0] * tn_std + tn_mean\n",
    "\n",
    "            \n",
    "\n",
    "        except Exception as e:\n",
    "            errores.append(pid)\n",
    "            #print(f\"Error al predecir producto {pid}: {e}\")\n",
    "            \n",
    "        if y_pred is None or y_pred < 0:\n",
    "            y_pred = np.mean(df_prod[\"tn\"][-12:])  # Valor por defecto si falla la predicción\n",
    "\n",
    "            \n",
    "        resultados.append({\"product_id\": pid, \"tn_t2_pred\": y_pred})\n",
    "\n",
    "    print(f\"Errores en predicciones: {errores} de {len(productos)} productos\")\n",
    "    return pd.DataFrame(resultados), errores\n",
    "\n",
    "\n",
    "\n"
   ]
  },
  {
   "cell_type": "code",
   "execution_count": 17,
   "id": "ba8a4591",
   "metadata": {},
   "outputs": [
    {
     "name": "stdout",
     "output_type": "stream",
     "text": [
      "Errores en predicciones: [20127, 20210, 20621, 20662, 20673, 20711, 20720, 20732, 20774, 20827, 20904, 20910, 20912, 20927, 20933, 21006, 21007, 21035, 21039, 21079, 21109, 21111, 21112, 21114, 21119, 21140, 21227] de 780 productos\n",
      "Errores: 27 de 780 productos\n",
      "   product_id   tn_t2_pred\n",
      "0       20001  [1387.1389]\n",
      "1       20002  [1094.6986]\n",
      "2       20003   [803.6937]\n",
      "3       20004   [649.9756]\n",
      "4       20005  [615.47546]\n"
     ]
    }
   ],
   "source": [
    "df_preds_t2, errores = predecir_todos_t2(\n",
    "    df_features_full=df_features,\n",
    "    scalers=scalers,\n",
    "    feature_cols=feature_cols,\n",
    "    #window_size=window_size\n",
    ")\n",
    "print(f\"Errores: {len(errores)} de {len(df_features['product_id'].unique())} productos\")\n",
    "print(df_preds_t2.head())"
   ]
  },
  {
   "cell_type": "code",
   "execution_count": 18,
   "id": "fac38ee6",
   "metadata": {},
   "outputs": [
    {
     "data": {
      "application/vnd.microsoft.datawrangler.viewer.v0+json": {
       "columns": [
        {
         "name": "index",
         "rawType": "int64",
         "type": "integer"
        },
        {
         "name": "product_id",
         "rawType": "int64",
         "type": "integer"
        },
        {
         "name": "tn_t2_pred",
         "rawType": "object",
         "type": "unknown"
        }
       ],
       "ref": "579d8027-ebf6-4bd3-b44b-06532a0e288f",
       "rows": [
        [
         "0",
         "20001",
         "[1387.1389]"
        ],
        [
         "1",
         "20002",
         "[1094.6986]"
        ],
        [
         "2",
         "20003",
         "[803.6937]"
        ],
        [
         "3",
         "20004",
         "[649.9756]"
        ],
        [
         "4",
         "20005",
         "[615.47546]"
        ],
        [
         "5",
         "20006",
         "[506.7486]"
        ],
        [
         "6",
         "20007",
         "[520.34326]"
        ],
        [
         "7",
         "20008",
         "[498.25372]"
        ],
        [
         "8",
         "20009",
         "[455.0971]"
        ],
        [
         "9",
         "20010",
         "[434.9653]"
        ],
        [
         "10",
         "20011",
         "[392.18134]"
        ],
        [
         "11",
         "20012",
         "[407.38376]"
        ],
        [
         "12",
         "20013",
         "[429.99405]"
        ],
        [
         "13",
         "20014",
         "[439.05917]"
        ],
        [
         "14",
         "20015",
         "[412.40094]"
        ],
        [
         "15",
         "20016",
         "[356.4876]"
        ],
        [
         "16",
         "20017",
         "[313.77216]"
        ],
        [
         "17",
         "20018",
         "[308.17484]"
        ],
        [
         "18",
         "20019",
         "[344.40842]"
        ],
        [
         "19",
         "20020",
         "[287.6722]"
        ],
        [
         "20",
         "20021",
         "[277.7862]"
        ],
        [
         "21",
         "20022",
         "[272.91046]"
        ],
        [
         "22",
         "20023",
         "[271.82416]"
        ],
        [
         "23",
         "20024",
         "[243.60529]"
        ],
        [
         "24",
         "20025",
         "[232.86058]"
        ],
        [
         "25",
         "20026",
         "[259.18347]"
        ],
        [
         "26",
         "20027",
         "[229.39809]"
        ],
        [
         "27",
         "20028",
         "[243.54106]"
        ],
        [
         "28",
         "20029",
         "[202.47089]"
        ],
        [
         "29",
         "20030",
         "[189.5997]"
        ],
        [
         "30",
         "20031",
         "[195.62184]"
        ],
        [
         "31",
         "20032",
         "[601.6483]"
        ],
        [
         "32",
         "20033",
         "[196.72365]"
        ],
        [
         "33",
         "20035",
         "[181.7731]"
        ],
        [
         "34",
         "20037",
         "[114.1134]"
        ],
        [
         "35",
         "20038",
         "[171.98613]"
        ],
        [
         "36",
         "20039",
         "[172.2196]"
        ],
        [
         "37",
         "20041",
         "[165.33044]"
        ],
        [
         "38",
         "20042",
         "[164.54193]"
        ],
        [
         "39",
         "20043",
         "[163.28699]"
        ],
        [
         "40",
         "20044",
         "[163.0712]"
        ],
        [
         "41",
         "20045",
         "[170.04095]"
        ],
        [
         "42",
         "20046",
         "[161.02202]"
        ],
        [
         "43",
         "20047",
         "[158.41946]"
        ],
        [
         "44",
         "20049",
         "[210.12701]"
        ],
        [
         "45",
         "20050",
         "[151.56178]"
        ],
        [
         "46",
         "20051",
         "[157.80428]"
        ],
        [
         "47",
         "20052",
         "[150.64305]"
        ],
        [
         "48",
         "20053",
         "[144.06732]"
        ],
        [
         "49",
         "20054",
         "[138.74013]"
        ]
       ],
       "shape": {
        "columns": 2,
        "rows": 780
       }
      },
      "text/html": [
       "<div>\n",
       "<style scoped>\n",
       "    .dataframe tbody tr th:only-of-type {\n",
       "        vertical-align: middle;\n",
       "    }\n",
       "\n",
       "    .dataframe tbody tr th {\n",
       "        vertical-align: top;\n",
       "    }\n",
       "\n",
       "    .dataframe thead th {\n",
       "        text-align: right;\n",
       "    }\n",
       "</style>\n",
       "<table border=\"1\" class=\"dataframe\">\n",
       "  <thead>\n",
       "    <tr style=\"text-align: right;\">\n",
       "      <th></th>\n",
       "      <th>product_id</th>\n",
       "      <th>tn_t2_pred</th>\n",
       "    </tr>\n",
       "  </thead>\n",
       "  <tbody>\n",
       "    <tr>\n",
       "      <th>0</th>\n",
       "      <td>20001</td>\n",
       "      <td>[1387.1389]</td>\n",
       "    </tr>\n",
       "    <tr>\n",
       "      <th>1</th>\n",
       "      <td>20002</td>\n",
       "      <td>[1094.6986]</td>\n",
       "    </tr>\n",
       "    <tr>\n",
       "      <th>2</th>\n",
       "      <td>20003</td>\n",
       "      <td>[803.6937]</td>\n",
       "    </tr>\n",
       "    <tr>\n",
       "      <th>3</th>\n",
       "      <td>20004</td>\n",
       "      <td>[649.9756]</td>\n",
       "    </tr>\n",
       "    <tr>\n",
       "      <th>4</th>\n",
       "      <td>20005</td>\n",
       "      <td>[615.47546]</td>\n",
       "    </tr>\n",
       "    <tr>\n",
       "      <th>...</th>\n",
       "      <td>...</td>\n",
       "      <td>...</td>\n",
       "    </tr>\n",
       "    <tr>\n",
       "      <th>775</th>\n",
       "      <td>21263</td>\n",
       "      <td>[0.02887841]</td>\n",
       "    </tr>\n",
       "    <tr>\n",
       "      <th>776</th>\n",
       "      <td>21265</td>\n",
       "      <td>[0.042210963]</td>\n",
       "    </tr>\n",
       "    <tr>\n",
       "      <th>777</th>\n",
       "      <td>21266</td>\n",
       "      <td>[0.047470763]</td>\n",
       "    </tr>\n",
       "    <tr>\n",
       "      <th>778</th>\n",
       "      <td>21267</td>\n",
       "      <td>[0.057873696]</td>\n",
       "    </tr>\n",
       "    <tr>\n",
       "      <th>779</th>\n",
       "      <td>21276</td>\n",
       "      <td>[0.020426456]</td>\n",
       "    </tr>\n",
       "  </tbody>\n",
       "</table>\n",
       "<p>780 rows × 2 columns</p>\n",
       "</div>"
      ],
      "text/plain": [
       "     product_id     tn_t2_pred\n",
       "0         20001    [1387.1389]\n",
       "1         20002    [1094.6986]\n",
       "2         20003     [803.6937]\n",
       "3         20004     [649.9756]\n",
       "4         20005    [615.47546]\n",
       "..          ...            ...\n",
       "775       21263   [0.02887841]\n",
       "776       21265  [0.042210963]\n",
       "777       21266  [0.047470763]\n",
       "778       21267  [0.057873696]\n",
       "779       21276  [0.020426456]\n",
       "\n",
       "[780 rows x 2 columns]"
      ]
     },
     "execution_count": 18,
     "metadata": {},
     "output_type": "execute_result"
    }
   ],
   "source": [
    "df_preds_t2"
   ]
  },
  {
   "cell_type": "code",
   "execution_count": 19,
   "id": "54a1ea64",
   "metadata": {},
   "outputs": [],
   "source": [
    "dforig = pd.read_csv(\"../datasets/sell-in.txt.gz\", sep=\"\\t\")\n",
    "total_diciembre = dforig.query(\"periodo == 201912\")[\"tn\"].sum()\n",
    "df_preds_t2[\"tn_t2_pred\"] = df_preds_t2[\"tn_t2_pred\"]"
   ]
  },
  {
   "cell_type": "code",
   "execution_count": 20,
   "id": "8f1d8260",
   "metadata": {},
   "outputs": [
    {
     "data": {
      "application/vnd.microsoft.datawrangler.viewer.v0+json": {
       "columns": [
        {
         "name": "index",
         "rawType": "int64",
         "type": "integer"
        },
        {
         "name": "product_id",
         "rawType": "int64",
         "type": "integer"
        },
        {
         "name": "periodo",
         "rawType": "datetime64[ns]",
         "type": "datetime"
        },
        {
         "name": "tn",
         "rawType": "float64",
         "type": "float"
        },
        {
         "name": "grupo",
         "rawType": "int32",
         "type": "integer"
        },
        {
         "name": "tn_lag1",
         "rawType": "float64",
         "type": "float"
        },
        {
         "name": "tn_diff1",
         "rawType": "float64",
         "type": "float"
        },
        {
         "name": "sin_mes",
         "rawType": "float64",
         "type": "float"
        },
        {
         "name": "quarter",
         "rawType": "int32",
         "type": "integer"
        },
        {
         "name": "month",
         "rawType": "int32",
         "type": "integer"
        },
        {
         "name": "rolling_mean6",
         "rawType": "float64",
         "type": "float"
        },
        {
         "name": "rolling_std6",
         "rawType": "float64",
         "type": "float"
        },
        {
         "name": "tn_t2_pred",
         "rawType": "object",
         "type": "unknown"
        }
       ],
       "ref": "e651a907-bfa8-43fc-8557-68eef0f69ecb",
       "rows": [
        [
         "0",
         "20001",
         "2019-12-01 00:00:00",
         "1504.68856",
         "4",
         "1397.37231",
         "107.31625000000008",
         "-2.4492935982947064e-16",
         "4",
         "12",
         "1444.8599333333332",
         "229.2674595483994",
         "[1387.1389]"
        ],
        [
         "1",
         "20002",
         "2019-12-01 00:00:00",
         "1087.30855",
         "4",
         "1423.5773900000002",
         "-336.2688400000002",
         "-2.4492935982947064e-16",
         "4",
         "12",
         "1216.9829833333333",
         "426.32798639066016",
         "[1094.6986]"
        ],
        [
         "2",
         "20003",
         "2019-12-01 00:00:00",
         "892.5012899999999",
         "4",
         "948.29393",
         "-55.79264000000012",
         "-2.4492935982947064e-16",
         "4",
         "12",
         "835.1028083333334",
         "187.1196712187158",
         "[803.6937]"
        ],
        [
         "3",
         "20004",
         "2019-12-01 00:00:00",
         "637.90002",
         "4",
         "723.94206",
         "-86.04203999999993",
         "-2.4492935982947064e-16",
         "4",
         "12",
         "707.642135",
         "210.22804190820494",
         "[649.9756]"
        ],
        [
         "4",
         "20005",
         "2019-12-01 00:00:00",
         "593.24443",
         "4",
         "606.91173",
         "-13.667300000000068",
         "-2.4492935982947064e-16",
         "4",
         "12",
         "773.6728833333333",
         "176.80264018223812",
         "[615.47546]"
        ],
        [
         "5",
         "20006",
         "2019-12-01 00:00:00",
         "417.23228",
         "4",
         "399.6142",
         "17.61808000000002",
         "-2.4492935982947064e-16",
         "4",
         "12",
         "400.297295",
         "91.665748552678",
         "[506.7486]"
        ],
        [
         "6",
         "20007",
         "2019-12-01 00:00:00",
         "390.43432",
         "4",
         "357.85913",
         "32.57519000000002",
         "-2.4492935982947064e-16",
         "4",
         "12",
         "431.7158933333333",
         "105.63986504813047",
         "[520.34326]"
        ],
        [
         "7",
         "20008",
         "2019-12-01 00:00:00",
         "195.36854",
         "4",
         "396.49833",
         "-201.12979",
         "-2.4492935982947064e-16",
         "4",
         "12",
         "417.38573500000007",
         "124.18442951574411",
         "[498.25372]"
        ],
        [
         "8",
         "20009",
         "2019-12-01 00:00:00",
         "495.03574",
         "4",
         "711.89025",
         "-216.85451000000006",
         "-2.4492935982947064e-16",
         "4",
         "12",
         "612.2321016666667",
         "83.88816681636578",
         "[455.0971]"
        ],
        [
         "9",
         "20010",
         "2019-12-01 00:00:00",
         "359.59997999999996",
         "4",
         "470.96657999999996",
         "-111.3666",
         "-2.4492935982947064e-16",
         "4",
         "12",
         "451.4605316666666",
         "135.1909043328433",
         "[434.9653]"
        ],
        [
         "10",
         "20011",
         "2019-12-01 00:00:00",
         "392.3829",
         "4",
         "294.15204",
         "98.23086",
         "-2.4492935982947064e-16",
         "4",
         "12",
         "381.12438000000003",
         "71.65053030595902",
         "[392.18134]"
        ],
        [
         "11",
         "20012",
         "2019-12-01 00:00:00",
         "173.13004",
         "4",
         "357.11018",
         "-183.98014",
         "-2.4492935982947064e-16",
         "4",
         "12",
         "326.27157166666666",
         "60.6775336840851",
         "[407.38376]"
        ],
        [
         "12",
         "20013",
         "2019-12-01 00:00:00",
         "318.09141",
         "4",
         "336.1995",
         "-18.108090000000004",
         "-2.4492935982947064e-16",
         "4",
         "12",
         "419.92723499999994",
         "143.3947009571236",
         "[429.99405]"
        ],
        [
         "13",
         "20014",
         "2019-12-01 00:00:00",
         "272.02812",
         "4",
         "415.85544",
         "-143.82732",
         "-2.4492935982947064e-16",
         "4",
         "12",
         "445.46502000000004",
         "98.46889578226076",
         "[439.05917]"
        ],
        [
         "14",
         "20015",
         "2019-12-01 00:00:00",
         "297.27663",
         "4",
         "322.45923",
         "-25.18259999999998",
         "-2.4492935982947064e-16",
         "4",
         "12",
         "402.81967166666664",
         "84.85367957169339",
         "[412.40094]"
        ],
        [
         "15",
         "20016",
         "2019-12-01 00:00:00",
         "273.20202",
         "4",
         "302.11272",
         "-28.91070000000002",
         "-2.4492935982947064e-16",
         "4",
         "12",
         "292.65327",
         "61.13524474270801",
         "[356.4876]"
        ],
        [
         "16",
         "20017",
         "2019-12-01 00:00:00",
         "216.90773",
         "4",
         "216.83455",
         "0.07317999999997937",
         "-2.4492935982947064e-16",
         "4",
         "12",
         "240.32026166666665",
         "46.53242466377186",
         "[313.77216]"
        ],
        [
         "17",
         "20018",
         "2019-12-01 00:00:00",
         "141.63569999999999",
         "4",
         "254.22485",
         "-112.58915000000002",
         "-2.4492935982947064e-16",
         "4",
         "12",
         "235.31885166666666",
         "57.66851130853762",
         "[308.17484]"
        ],
        [
         "18",
         "20019",
         "2019-12-01 00:00:00",
         "351.54708",
         "4",
         "375.38656",
         "-23.83947999999998",
         "-2.4492935982947064e-16",
         "4",
         "12",
         "318.79175166666664",
         "89.73993383068687",
         "[344.40842]"
        ],
        [
         "19",
         "20020",
         "2019-12-01 00:00:00",
         "266.06358",
         "4",
         "320.50638",
         "-54.44279999999998",
         "-2.4492935982947064e-16",
         "4",
         "12",
         "279.147225",
         "43.74920142584771",
         "[287.6722]"
        ],
        [
         "20",
         "20021",
         "2019-12-01 00:00:00",
         "203.76721",
         "4",
         "284.14722",
         "-80.38001",
         "-2.4492935982947064e-16",
         "4",
         "12",
         "272.79187",
         "69.48467104946906",
         "[277.7862]"
        ],
        [
         "21",
         "20022",
         "2019-12-01 00:00:00",
         "210.8346",
         "4",
         "346.19018",
         "-135.35558",
         "-2.4492935982947064e-16",
         "4",
         "12",
         "295.6582666666667",
         "76.7972255494685",
         "[272.91046]"
        ],
        [
         "22",
         "20023",
         "2019-12-01 00:00:00",
         "181.13277",
         "4",
         "276.31695",
         "-95.18418000000003",
         "-2.4492935982947064e-16",
         "4",
         "12",
         "306.94209",
         "56.16678240165566",
         "[271.82416]"
        ],
        [
         "23",
         "20024",
         "2019-12-01 00:00:00",
         "270.45018",
         "4",
         "158.4765",
         "111.97368",
         "-2.4492935982947064e-16",
         "4",
         "12",
         "216.71832000000003",
         "46.06959801512813",
         "[243.60529]"
        ],
        [
         "24",
         "20025",
         "2019-12-01 00:00:00",
         "241.83432000000002",
         "4",
         "243.78354",
         "-1.9492199999999684",
         "-2.4492935982947064e-16",
         "4",
         "12",
         "230.62494",
         "53.81175655929799",
         "[232.86058]"
        ],
        [
         "25",
         "20026",
         "2019-12-01 00:00:00",
         "235.10419",
         "4",
         "310.41326",
         "-75.30906999999999",
         "-2.4492935982947064e-16",
         "4",
         "12",
         "248.04866",
         "87.32980153235015",
         "[259.18347]"
        ],
        [
         "26",
         "20027",
         "2019-12-01 00:00:00",
         "155.25876",
         "4",
         "280.99034",
         "-125.73158000000001",
         "-2.4492935982947064e-16",
         "4",
         "12",
         "230.1280416666667",
         "28.02897160765439",
         "[229.39809]"
        ],
        [
         "27",
         "20028",
         "2019-12-01 00:00:00",
         "109.92618",
         "4",
         "320.29452",
         "-210.36834",
         "-2.4492935982947064e-16",
         "4",
         "12",
         "204.68448",
         "107.52089425437491",
         "[243.54106]"
        ],
        [
         "28",
         "20029",
         "2019-12-01 00:00:00",
         "150.64869000000002",
         "4",
         "160.46681",
         "-9.818119999999993",
         "-2.4492935982947064e-16",
         "4",
         "12",
         "151.22551166666668",
         "35.44840340730645",
         "[202.47089]"
        ],
        [
         "29",
         "20030",
         "2019-12-01 00:00:00",
         "102.7572",
         "4",
         "96.5328",
         "6.224400000000003",
         "-2.4492935982947064e-16",
         "4",
         "12",
         "122.9046",
         "29.644020102812608",
         "[189.5997]"
        ],
        [
         "30",
         "20031",
         "2019-12-01 00:00:00",
         "139.91577",
         "4",
         "349.59721",
         "-209.68144",
         "-2.4492935982947064e-16",
         "4",
         "12",
         "193.49655833333335",
         "85.04666530311685",
         "[195.62184]"
        ],
        [
         "31",
         "20032",
         "2019-12-01 00:00:00",
         "527.79811",
         "4",
         "906.69823",
         "-378.90012",
         "-2.4492935982947064e-16",
         "4",
         "12",
         "715.7471999999999",
         "107.42726438165965",
         "[601.6483]"
        ],
        [
         "32",
         "20033",
         "2019-12-01 00:00:00",
         "96.76212",
         "4",
         "184.6026",
         "-87.84048",
         "-2.4492935982947064e-16",
         "4",
         "12",
         "214.01061500000003",
         "38.572931815571245",
         "[196.72365]"
        ],
        [
         "33",
         "20035",
         "2019-12-01 00:00:00",
         "179.97912",
         "4",
         "189.03836",
         "-9.059240000000017",
         "-2.4492935982947064e-16",
         "4",
         "12",
         "169.557105",
         "39.46174258803521",
         "[181.7731]"
        ],
        [
         "34",
         "20037",
         "2019-12-01 00:00:00",
         "63.37274",
         "4",
         "93.49887",
         "-30.126129999999996",
         "-2.4492935982947064e-16",
         "4",
         "12",
         "155.50215666666668",
         "63.524731393672106",
         "[114.1134]"
        ],
        [
         "35",
         "20038",
         "2019-12-01 00:00:00",
         "157.68477",
         "4",
         "135.39051",
         "22.29425999999998",
         "-2.4492935982947064e-16",
         "4",
         "12",
         "159.851315",
         "33.24478701705807",
         "[171.98613]"
        ],
        [
         "36",
         "20039",
         "2019-12-01 00:00:00",
         "128.40394",
         "4",
         "114.01792999999999",
         "14.386010000000013",
         "-2.4492935982947064e-16",
         "4",
         "12",
         "141.00379166666667",
         "40.172054860908126",
         "[172.2196]"
        ],
        [
         "37",
         "20041",
         "2019-12-01 00:00:00",
         "113.11379",
         "4",
         "97.96554",
         "15.14824999999999",
         "-2.4492935982947064e-16",
         "4",
         "12",
         "150.95088666666666",
         "48.042141898876785",
         "[165.33044]"
        ],
        [
         "38",
         "20042",
         "2019-12-01 00:00:00",
         "124.20086",
         "4",
         "204.14113",
         "-79.94027",
         "-2.4492935982947064e-16",
         "4",
         "12",
         "182.31316666666666",
         "49.00659511785472",
         "[164.54193]"
        ],
        [
         "39",
         "20043",
         "2019-12-01 00:00:00",
         "93.77222",
         "4",
         "152.42573",
         "-58.65350999999998",
         "-2.4492935982947064e-16",
         "4",
         "12",
         "138.65195666666668",
         "30.85762028440181",
         "[163.28699]"
        ],
        [
         "40",
         "20044",
         "2019-12-01 00:00:00",
         "59.617470000000004",
         "4",
         "228.48682",
         "-168.86935",
         "-2.4492935982947064e-16",
         "4",
         "12",
         "174.39177166666664",
         "57.102185784528885",
         "[163.0712]"
        ],
        [
         "41",
         "20045",
         "2019-12-01 00:00:00",
         "149.89961",
         "4",
         "137.49552",
         "12.404089999999997",
         "-2.4492935982947064e-16",
         "4",
         "12",
         "142.99554166666667",
         "40.34049493395465",
         "[170.04095]"
        ],
        [
         "42",
         "20046",
         "2019-12-01 00:00:00",
         "149.9563",
         "4",
         "145.50198",
         "4.454319999999996",
         "-2.4492935982947064e-16",
         "4",
         "12",
         "162.09178999999997",
         "54.71279680968506",
         "[161.02202]"
        ],
        [
         "43",
         "20047",
         "2019-12-01 00:00:00",
         "71.49763",
         "4",
         "251.43491",
         "-179.93728",
         "-2.4492935982947064e-16",
         "4",
         "12",
         "162.87339999999998",
         "53.311120381881295",
         "[158.41946]"
        ],
        [
         "44",
         "20049",
         "2019-12-01 00:00:00",
         "124.84836",
         "4",
         "153.36048",
         "-28.512119999999996",
         "-2.4492935982947064e-16",
         "4",
         "12",
         "220.34922000000003",
         "37.81001502273819",
         "[210.12701]"
        ],
        [
         "45",
         "20050",
         "2019-12-01 00:00:00",
         "117.02742",
         "4",
         "145.10495",
         "-28.077529999999996",
         "-2.4492935982947064e-16",
         "4",
         "12",
         "134.46449333333334",
         "14.589157317325236",
         "[151.56178]"
        ],
        [
         "46",
         "20051",
         "2019-12-01 00:00:00",
         "132.46038000000001",
         "4",
         "105.18797",
         "27.272410000000008",
         "-2.4492935982947064e-16",
         "4",
         "12",
         "144.85285666666667",
         "27.57238923518634",
         "[157.80428]"
        ],
        [
         "47",
         "20052",
         "2019-12-01 00:00:00",
         "95.51068",
         "4",
         "79.25908",
         "16.251599999999996",
         "-2.4492935982947064e-16",
         "4",
         "12",
         "122.56823666666668",
         "32.955038864234986",
         "[150.64305]"
        ],
        [
         "48",
         "20053",
         "2019-12-01 00:00:00",
         "146.36584",
         "4",
         "174.10464",
         "-27.738799999999998",
         "-2.4492935982947064e-16",
         "4",
         "12",
         "144.35303166666668",
         "37.13530255265544",
         "[144.06732]"
        ],
        [
         "49",
         "20054",
         "2019-12-01 00:00:00",
         "121.2091",
         "4",
         "170.27657",
         "-49.067469999999986",
         "-2.4492935982947064e-16",
         "4",
         "12",
         "139.303465",
         "41.05774891084048",
         "[138.74013]"
        ]
       ],
       "shape": {
        "columns": 12,
        "rows": 780
       }
      },
      "text/html": [
       "<div>\n",
       "<style scoped>\n",
       "    .dataframe tbody tr th:only-of-type {\n",
       "        vertical-align: middle;\n",
       "    }\n",
       "\n",
       "    .dataframe tbody tr th {\n",
       "        vertical-align: top;\n",
       "    }\n",
       "\n",
       "    .dataframe thead th {\n",
       "        text-align: right;\n",
       "    }\n",
       "</style>\n",
       "<table border=\"1\" class=\"dataframe\">\n",
       "  <thead>\n",
       "    <tr style=\"text-align: right;\">\n",
       "      <th></th>\n",
       "      <th>product_id</th>\n",
       "      <th>periodo</th>\n",
       "      <th>tn</th>\n",
       "      <th>grupo</th>\n",
       "      <th>tn_lag1</th>\n",
       "      <th>tn_diff1</th>\n",
       "      <th>sin_mes</th>\n",
       "      <th>quarter</th>\n",
       "      <th>month</th>\n",
       "      <th>rolling_mean6</th>\n",
       "      <th>rolling_std6</th>\n",
       "      <th>tn_t2_pred</th>\n",
       "    </tr>\n",
       "  </thead>\n",
       "  <tbody>\n",
       "    <tr>\n",
       "      <th>0</th>\n",
       "      <td>20001</td>\n",
       "      <td>2019-12-01</td>\n",
       "      <td>1504.68856</td>\n",
       "      <td>4</td>\n",
       "      <td>1397.37231</td>\n",
       "      <td>107.31625</td>\n",
       "      <td>-2.449294e-16</td>\n",
       "      <td>4</td>\n",
       "      <td>12</td>\n",
       "      <td>1444.859933</td>\n",
       "      <td>229.267460</td>\n",
       "      <td>[1387.1389]</td>\n",
       "    </tr>\n",
       "    <tr>\n",
       "      <th>1</th>\n",
       "      <td>20002</td>\n",
       "      <td>2019-12-01</td>\n",
       "      <td>1087.30855</td>\n",
       "      <td>4</td>\n",
       "      <td>1423.57739</td>\n",
       "      <td>-336.26884</td>\n",
       "      <td>-2.449294e-16</td>\n",
       "      <td>4</td>\n",
       "      <td>12</td>\n",
       "      <td>1216.982983</td>\n",
       "      <td>426.327986</td>\n",
       "      <td>[1094.6986]</td>\n",
       "    </tr>\n",
       "    <tr>\n",
       "      <th>2</th>\n",
       "      <td>20003</td>\n",
       "      <td>2019-12-01</td>\n",
       "      <td>892.50129</td>\n",
       "      <td>4</td>\n",
       "      <td>948.29393</td>\n",
       "      <td>-55.79264</td>\n",
       "      <td>-2.449294e-16</td>\n",
       "      <td>4</td>\n",
       "      <td>12</td>\n",
       "      <td>835.102808</td>\n",
       "      <td>187.119671</td>\n",
       "      <td>[803.6937]</td>\n",
       "    </tr>\n",
       "    <tr>\n",
       "      <th>3</th>\n",
       "      <td>20004</td>\n",
       "      <td>2019-12-01</td>\n",
       "      <td>637.90002</td>\n",
       "      <td>4</td>\n",
       "      <td>723.94206</td>\n",
       "      <td>-86.04204</td>\n",
       "      <td>-2.449294e-16</td>\n",
       "      <td>4</td>\n",
       "      <td>12</td>\n",
       "      <td>707.642135</td>\n",
       "      <td>210.228042</td>\n",
       "      <td>[649.9756]</td>\n",
       "    </tr>\n",
       "    <tr>\n",
       "      <th>4</th>\n",
       "      <td>20005</td>\n",
       "      <td>2019-12-01</td>\n",
       "      <td>593.24443</td>\n",
       "      <td>4</td>\n",
       "      <td>606.91173</td>\n",
       "      <td>-13.66730</td>\n",
       "      <td>-2.449294e-16</td>\n",
       "      <td>4</td>\n",
       "      <td>12</td>\n",
       "      <td>773.672883</td>\n",
       "      <td>176.802640</td>\n",
       "      <td>[615.47546]</td>\n",
       "    </tr>\n",
       "    <tr>\n",
       "      <th>...</th>\n",
       "      <td>...</td>\n",
       "      <td>...</td>\n",
       "      <td>...</td>\n",
       "      <td>...</td>\n",
       "      <td>...</td>\n",
       "      <td>...</td>\n",
       "      <td>...</td>\n",
       "      <td>...</td>\n",
       "      <td>...</td>\n",
       "      <td>...</td>\n",
       "      <td>...</td>\n",
       "      <td>...</td>\n",
       "    </tr>\n",
       "    <tr>\n",
       "      <th>775</th>\n",
       "      <td>21263</td>\n",
       "      <td>2019-12-01</td>\n",
       "      <td>0.01270</td>\n",
       "      <td>0</td>\n",
       "      <td>0.03247</td>\n",
       "      <td>-0.01977</td>\n",
       "      <td>-2.449294e-16</td>\n",
       "      <td>4</td>\n",
       "      <td>12</td>\n",
       "      <td>0.022817</td>\n",
       "      <td>0.011760</td>\n",
       "      <td>[0.02887841]</td>\n",
       "    </tr>\n",
       "    <tr>\n",
       "      <th>776</th>\n",
       "      <td>21265</td>\n",
       "      <td>2019-12-01</td>\n",
       "      <td>0.05007</td>\n",
       "      <td>0</td>\n",
       "      <td>0.06600</td>\n",
       "      <td>-0.01593</td>\n",
       "      <td>-2.449294e-16</td>\n",
       "      <td>4</td>\n",
       "      <td>12</td>\n",
       "      <td>0.048168</td>\n",
       "      <td>0.035791</td>\n",
       "      <td>[0.042210963]</td>\n",
       "    </tr>\n",
       "    <tr>\n",
       "      <th>777</th>\n",
       "      <td>21266</td>\n",
       "      <td>2019-12-01</td>\n",
       "      <td>0.05121</td>\n",
       "      <td>0</td>\n",
       "      <td>0.06713</td>\n",
       "      <td>-0.01592</td>\n",
       "      <td>-2.449294e-16</td>\n",
       "      <td>4</td>\n",
       "      <td>12</td>\n",
       "      <td>0.056698</td>\n",
       "      <td>0.036011</td>\n",
       "      <td>[0.047470763]</td>\n",
       "    </tr>\n",
       "    <tr>\n",
       "      <th>778</th>\n",
       "      <td>21267</td>\n",
       "      <td>2019-12-01</td>\n",
       "      <td>0.01569</td>\n",
       "      <td>0</td>\n",
       "      <td>0.04052</td>\n",
       "      <td>-0.02483</td>\n",
       "      <td>-2.449294e-16</td>\n",
       "      <td>4</td>\n",
       "      <td>12</td>\n",
       "      <td>0.054910</td>\n",
       "      <td>0.027947</td>\n",
       "      <td>[0.057873696]</td>\n",
       "    </tr>\n",
       "    <tr>\n",
       "      <th>779</th>\n",
       "      <td>21276</td>\n",
       "      <td>2019-12-01</td>\n",
       "      <td>0.00892</td>\n",
       "      <td>0</td>\n",
       "      <td>0.03341</td>\n",
       "      <td>-0.02449</td>\n",
       "      <td>-2.449294e-16</td>\n",
       "      <td>4</td>\n",
       "      <td>12</td>\n",
       "      <td>0.021417</td>\n",
       "      <td>0.013967</td>\n",
       "      <td>[0.020426456]</td>\n",
       "    </tr>\n",
       "  </tbody>\n",
       "</table>\n",
       "<p>780 rows × 12 columns</p>\n",
       "</div>"
      ],
      "text/plain": [
       "     product_id    periodo          tn  grupo     tn_lag1   tn_diff1  \\\n",
       "0         20001 2019-12-01  1504.68856      4  1397.37231  107.31625   \n",
       "1         20002 2019-12-01  1087.30855      4  1423.57739 -336.26884   \n",
       "2         20003 2019-12-01   892.50129      4   948.29393  -55.79264   \n",
       "3         20004 2019-12-01   637.90002      4   723.94206  -86.04204   \n",
       "4         20005 2019-12-01   593.24443      4   606.91173  -13.66730   \n",
       "..          ...        ...         ...    ...         ...        ...   \n",
       "775       21263 2019-12-01     0.01270      0     0.03247   -0.01977   \n",
       "776       21265 2019-12-01     0.05007      0     0.06600   -0.01593   \n",
       "777       21266 2019-12-01     0.05121      0     0.06713   -0.01592   \n",
       "778       21267 2019-12-01     0.01569      0     0.04052   -0.02483   \n",
       "779       21276 2019-12-01     0.00892      0     0.03341   -0.02449   \n",
       "\n",
       "          sin_mes  quarter  month  rolling_mean6  rolling_std6     tn_t2_pred  \n",
       "0   -2.449294e-16        4     12    1444.859933    229.267460    [1387.1389]  \n",
       "1   -2.449294e-16        4     12    1216.982983    426.327986    [1094.6986]  \n",
       "2   -2.449294e-16        4     12     835.102808    187.119671     [803.6937]  \n",
       "3   -2.449294e-16        4     12     707.642135    210.228042     [649.9756]  \n",
       "4   -2.449294e-16        4     12     773.672883    176.802640    [615.47546]  \n",
       "..            ...      ...    ...            ...           ...            ...  \n",
       "775 -2.449294e-16        4     12       0.022817      0.011760   [0.02887841]  \n",
       "776 -2.449294e-16        4     12       0.048168      0.035791  [0.042210963]  \n",
       "777 -2.449294e-16        4     12       0.056698      0.036011  [0.047470763]  \n",
       "778 -2.449294e-16        4     12       0.054910      0.027947  [0.057873696]  \n",
       "779 -2.449294e-16        4     12       0.021417      0.013967  [0.020426456]  \n",
       "\n",
       "[780 rows x 12 columns]"
      ]
     },
     "execution_count": 20,
     "metadata": {},
     "output_type": "execute_result"
    }
   ],
   "source": [
    "df_final = df_test.merge(df_preds_t2, on=\"product_id\", how=\"left\")\n",
    "df_final"
   ]
  },
  {
   "cell_type": "code",
   "execution_count": 21,
   "id": "2ba72dab",
   "metadata": {},
   "outputs": [
    {
     "data": {
      "text/plain": [
       "array([0.31193483], dtype=float32)"
      ]
     },
     "execution_count": 21,
     "metadata": {},
     "output_type": "execute_result"
    }
   ],
   "source": [
    "numerador = (df_final[\"tn\"]- df_final[\"tn_t2_pred\"]).abs().sum()\n",
    "denominador = df_final[\"tn\"].sum()\n",
    "porcentaje_error = (numerador / denominador)\n",
    "porcentaje_error"
   ]
  },
  {
   "cell_type": "code",
   "execution_count": 22,
   "id": "83438dba",
   "metadata": {},
   "outputs": [
    {
     "data": {
      "image/png": "[encoded data removed]",
      "text/plain": [
       "<Figure size 640x480 with 1 Axes>"
      ]
     },
     "metadata": {},
     "output_type": "display_data"
    }
   ],
   "source": [
    "import matplotlib.pyplot as plt\n",
    "df_final.plot(kind=\"scatter\", x=\"tn\", y=\"tn_t2_pred\", title=\"Predicciones vs TN\")\n",
    "plt.plot([0, 6], [0, 6], 'r--')\n",
    "plt.show()"
   ]
  },
  {
   "cell_type": "code",
   "execution_count": 23,
   "id": "8efe03d7",
   "metadata": {},
   "outputs": [
    {
     "data": {
      "application/vnd.plotly.v1+json": {
       "config": {
        "plotlyServerURL": "https://plot.ly"
       },
       "data": [
        {
         "customdata": {
          "bdata": "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",
          "dtype": "i2"
         },
         "hovertemplate": "<b>TN Real</b>: %{x}<br><b>TN Predicho</b>: %{y}<br><b>Product ID</b>: %{customdata}<br><extra></extra>",
         "marker": {
          "opacity": 0.7,
          "size": 8
         },
         "mode": "markers",
         "name": "Datos",
         "type": "scatter",
         "x": {
          "bdata": "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",
          "dtype": "f8"
         },
         "y": [
          [
           1387.138916015625
          ],
          [
           1094.6986083984375
          ],
          [
           803.6937255859375
          ],
          [
           649.9755859375
          ],
          [
           615.4754638671875
          ],
          [
           506.74859619140625
          ],
          [
           520.34326171875
          ],
          [
           498.25372314453125
          ],
          [
           455.09710693359375
          ],
          [
           434.9653015136719
          ],
          [
           392.18133544921875
          ],
          [
           407.3837585449219
          ],
          [
           429.9940490722656
          ],
          [
           439.0591735839844
          ],
          [
           412.40093994140625
          ],
          [
           356.48760986328125
          ],
          [
           313.77215576171875
          ],
          [
           308.1748352050781
          ],
          [
           344.4084167480469
          ],
          [
           287.6722106933594
          ],
          [
           277.78619384765625
          ],
          [
           272.91046142578125
          ],
          [
           271.82415771484375
          ],
          [
           243.60528564453125
          ],
          [
           232.86058044433594
          ],
          [
           259.1834716796875
          ],
          [
           229.39808654785156
          ],
          [
           243.5410614013672
          ],
          [
           202.47088623046875
          ],
          [
           189.59970092773438
          ],
          [
           195.62184143066406
          ],
          [
           601.6483154296875
          ],
          [
           196.72364807128906
          ],
          [
           181.77310180664062
          ],
          [
           114.1134033203125
          ],
          [
           171.9861297607422
          ],
          [
           172.2196044921875
          ],
          [
           165.3304443359375
          ],
          [
           164.54193115234375
          ],
          [
           163.2869873046875
          ],
          [
           163.07119750976562
          ],
          [
           170.04095458984375
          ],
          [
           161.0220184326172
          ],
          [
           158.41946411132812
          ],
          [
           210.12701416015625
          ],
          [
           151.56178283691406
          ],
          [
           157.8042755126953
          ],
          [
           150.64305114746094
          ],
          [
           144.06732177734375
          ],
          [
           138.74012756347656
          ],
          [
           145.82064819335938
          ],
          [
           138.5597686767578
          ],
          [
           130.3038330078125
          ],
          [
           130.20628356933594
          ],
          [
           138.9173583984375
          ],
          [
           141.89744567871094
          ],
          [
           111.89521789550781
          ],
          [
           124.6413345336914
          ],
          [
           130.84512329101562
          ],
          [
           119.36601257324219
          ],
          [
           118.69583892822266
          ],
          [
           117.13455200195312
          ],
          [
           119.4857177734375
          ],
          [
           113.94873809814453
          ],
          [
           113.20500183105469
          ],
          [
           104.9585952758789
          ],
          [
           95.91287231445312
          ],
          [
           107.30204010009766
          ],
          [
           120.48046112060547
          ],
          [
           92.6601333618164
          ],
          [
           114.32416534423828
          ],
          [
           96.08050537109375
          ],
          [
           107.34051513671875
          ],
          [
           92.76942443847656
          ],
          [
           88.74693298339844
          ],
          [
           103.20830535888672
          ],
          [
           180.4426727294922
          ],
          [
           72.72160339355469
          ],
          [
           90.2601318359375
          ],
          [
           168.33018493652344
          ],
          [
           65.79790496826172
          ],
          [
           89.76570129394531
          ],
          [
           75.29991149902344
          ],
          [
           87.68106079101562
          ],
          [
           100.1631088256836
          ],
          [
           96.89026641845703
          ],
          [
           75.12147521972656
          ],
          [
           70.8323974609375
          ],
          [
           84.11251831054688
          ],
          [
           95.00566864013672
          ],
          [
           84.3634033203125
          ],
          [
           61.018436431884766
          ],
          [
           77.3622055053711
          ],
          [
           74.73945617675781
          ],
          [
           86.83609771728516
          ],
          [
           75.03630065917969
          ],
          [
           67.70965576171875
          ],
          [
           74.05781555175781
          ],
          [
           70.77873992919922
          ],
          [
           63.75981903076172
          ],
          [
           76.99567413330078
          ],
          [
           63.2606201171875
          ],
          [
           67.96531677246094
          ],
          [
           86.156982421875
          ],
          [
           75.81198120117188
          ],
          [
           84.38274383544922
          ],
          [
           67.75975036621094
          ],
          [
           63.89784240722656
          ],
          [
           65.67430877685547
          ],
          [
           65.03729248046875
          ],
          [
           83.76851654052734
          ],
          208.43745,
          [
           64.0739974975586
          ],
          [
           90.46715545654297
          ],
          [
           68.52114868164062
          ],
          [
           62.304115295410156
          ],
          [
           63.45306396484375
          ],
          [
           93.4778823852539
          ],
          [
           59.23158645629883
          ],
          [
           51.41545104980469
          ],
          [
           56.19108963012695
          ],
          [
           59.68967056274414
          ],
          [
           46.25346755981445
          ],
          [
           106.16166687011719
          ],
          [
           54.11964797973633
          ],
          [
           53.374149322509766
          ],
          [
           56.54413986206055
          ],
          [
           38.814247131347656
          ],
          [
           64.19112396240234
          ],
          [
           60.792808532714844
          ],
          [
           33.01460266113281
          ],
          [
           44.12681198120117
          ],
          [
           45.041107177734375
          ],
          [
           41.06219482421875
          ],
          [
           54.32695770263672
          ],
          [
           70.1956558227539
          ],
          [
           46.894859313964844
          ],
          [
           56.21703338623047
          ],
          [
           25.46125602722168
          ],
          [
           55.49757766723633
          ],
          [
           46.77449417114258
          ],
          [
           38.00507736206055
          ],
          [
           46.905548095703125
          ],
          [
           68.26005554199219
          ],
          [
           116.3356704711914
          ],
          [
           44.30503845214844
          ],
          [
           38.112884521484375
          ],
          [
           35.12628936767578
          ],
          [
           36.20504379272461
          ],
          [
           38.1229133605957
          ],
          [
           39.074310302734375
          ],
          [
           40.990901947021484
          ],
          [
           28.12034797668457
          ],
          [
           35.80074691772461
          ],
          [
           39.54728698730469
          ],
          [
           37.574825286865234
          ],
          [
           35.458892822265625
          ],
          [
           25.098665237426758
          ],
          [
           33.74561309814453
          ],
          [
           35.103145599365234
          ],
          [
           33.729156494140625
          ],
          [
           33.20362854003906
          ],
          [
           33.295658111572266
          ],
          [
           34.89725112915039
          ],
          [
           34.756351470947266
          ],
          [
           35.06793212890625
          ],
          [
           31.817705154418945
          ],
          [
           33.406349182128906
          ],
          [
           28.81161117553711
          ],
          [
           29.186967849731445
          ],
          [
           26.663541793823242
          ],
          82.17732,
          [
           35.8985595703125
          ],
          [
           32.248191833496094
          ],
          [
           81.51815795898438
          ],
          [
           26.7491397857666
          ],
          [
           29.030181884765625
          ],
          [
           29.387012481689453
          ],
          [
           27.80005645751953
          ],
          [
           27.40470314025879
          ],
          [
           26.02686309814453
          ],
          [
           31.052806854248047
          ],
          [
           21.388654708862305
          ],
          [
           25.118715286254883
          ],
          [
           29.085147857666016
          ],
          [
           26.956159591674805
          ],
          [
           19.877429962158203
          ],
          [
           26.09067153930664
          ],
          [
           28.27651023864746
          ],
          [
           19.367862701416016
          ],
          [
           17.713361740112305
          ],
          [
           25.523130416870117
          ],
          [
           89.85472106933594
          ],
          [
           43.32058334350586
          ],
          [
           23.16261100769043
          ],
          [
           19.39889144897461
          ],
          [
           20.255842208862305
          ],
          [
           22.120786666870117
          ],
          [
           25.58950424194336
          ],
          [
           21.32016944885254
          ],
          [
           22.822284698486328
          ],
          [
           18.614517211914062
          ],
          [
           21.90481948852539
          ],
          [
           19.849281311035156
          ],
          [
           22.1095027923584
          ],
          [
           22.705575942993164
          ],
          [
           17.91165542602539
          ],
          [
           19.994056701660156
          ],
          [
           57.4765739440918
          ],
          [
           17.51580810546875
          ],
          [
           58.22880554199219
          ],
          [
           23.054256439208984
          ],
          [
           21.86357879638672
          ],
          [
           20.270198822021484
          ],
          [
           8.86708927154541
          ],
          [
           33.88480758666992
          ],
          [
           21.922542572021484
          ],
          [
           21.360763549804688
          ],
          [
           18.70693016052246
          ],
          [
           21.174972534179688
          ],
          [
           17.19625473022461
          ],
          [
           19.913246154785156
          ],
          [
           18.501087188720703
          ],
          [
           19.529584884643555
          ],
          [
           20.028635025024414
          ],
          [
           18.792938232421875
          ],
          [
           17.17031478881836
          ],
          [
           20.16534423828125
          ],
          [
           18.291242599487305
          ],
          [
           18.14649200439453
          ],
          [
           19.223649978637695
          ],
          [
           21.26710319519043
          ],
          [
           15.901357650756836
          ],
          [
           47.55332565307617
          ],
          [
           18.77364730834961
          ],
          [
           21.138147354125977
          ],
          [
           20.599441528320312
          ],
          [
           18.992530822753906
          ],
          [
           18.864011764526367
          ],
          [
           19.66660499572754
          ],
          [
           17.75640106201172
          ],
          [
           21.77967643737793
          ],
          [
           18.277109146118164
          ],
          [
           18.45524787902832
          ],
          [
           17.88763427734375
          ],
          [
           17.52935791015625
          ],
          [
           11.614289283752441
          ],
          [
           18.81878662109375
          ],
          [
           16.427095413208008
          ],
          [
           11.631036758422852
          ],
          [
           24.130531311035156
          ],
          [
           15.881096839904785
          ],
          [
           17.89118003845215
          ],
          [
           14.184454917907715
          ],
          [
           19.09082794189453
          ],
          [
           16.125314712524414
          ],
          [
           16.598726272583008
          ],
          [
           16.646902084350586
          ],
          [
           17.558366775512695
          ],
          [
           17.109882354736328
          ],
          [
           16.027061462402344
          ],
          [
           15.769121170043945
          ],
          [
           16.770700454711914
          ],
          [
           16.553768157958984
          ],
          [
           23.078630447387695
          ],
          [
           16.34233856201172
          ],
          [
           14.450155258178711
          ],
          [
           16.596527099609375
          ],
          [
           14.56566047668457
          ],
          [
           17.263626098632812
          ],
          [
           15.070862770080566
          ],
          [
           15.819231033325195
          ],
          [
           16.263973236083984
          ],
          [
           18.19768714904785
          ],
          [
           13.973319053649902
          ],
          [
           15.55463981628418
          ],
          [
           18.56537437438965
          ],
          [
           15.350909233093262
          ],
          [
           17.83690643310547
          ],
          [
           12.483872413635254
          ],
          [
           15.727059364318848
          ],
          [
           16.102245330810547
          ],
          [
           19.58229637145996
          ],
          [
           14.780868530273438
          ],
          [
           17.778945922851562
          ],
          [
           13.896444320678711
          ],
          [
           9.71246337890625
          ],
          [
           21.921281814575195
          ],
          [
           14.363109588623047
          ],
          [
           15.064542770385742
          ],
          [
           13.858125686645508
          ],
          [
           40.46357727050781
          ],
          [
           14.753276824951172
          ],
          [
           14.715167045593262
          ],
          [
           12.311010360717773
          ],
          [
           13.804494857788086
          ],
          [
           13.635456085205078
          ],
          [
           11.428545951843262
          ],
          [
           26.763736724853516
          ],
          [
           14.053954124450684
          ],
          [
           15.350198745727539
          ],
          [
           13.621222496032715
          ],
          [
           20.0190486907959
          ],
          [
           14.096599578857422
          ],
          [
           16.310115814208984
          ],
          [
           13.834689140319824
          ],
          [
           20.385154724121094
          ],
          [
           11.58194351196289
          ],
          [
           13.434656143188477
          ],
          [
           13.439947128295898
          ],
          [
           12.697827339172363
          ],
          [
           11.311203002929688
          ],
          [
           13.482918739318848
          ],
          [
           10.656240463256836
          ],
          [
           13.0499906539917
          ],
          [
           16.51120948791504
          ],
          [
           11.032612800598145
          ],
          [
           26.873170852661133
          ],
          [
           12.73546314239502
          ],
          [
           13.963727951049805
          ],
          [
           11.534518241882324
          ],
          [
           6.697002410888672
          ],
          [
           12.877694129943848
          ],
          [
           12.372123718261719
          ],
          [
           14.269124984741211
          ],
          [
           14.565260887145996
          ],
          [
           11.661624908447266
          ],
          [
           11.686365127563477
          ],
          [
           10.939531326293945
          ],
          [
           16.567764282226562
          ],
          [
           10.967752456665039
          ],
          [
           10.81939697265625
          ],
          [
           10.90568733215332
          ],
          [
           31.553546905517578
          ],
          [
           11.580700874328613
          ],
          [
           4.793515682220459
          ],
          [
           11.766291618347168
          ],
          [
           8.256486892700195
          ],
          [
           10.670541763305664
          ],
          [
           11.802047729492188
          ],
          [
           4.664219379425049
          ],
          [
           9.177611351013184
          ],
          [
           8.67027759552002
          ],
          [
           7.833935737609863
          ],
          [
           4.957048416137695
          ],
          [
           9.676247596740723
          ],
          [
           11.193412780761719
          ],
          [
           11.974466323852539
          ],
          [
           10.876384735107422
          ],
          [
           32.45683288574219
          ],
          [
           27.710407257080078
          ],
          [
           9.920243263244629
          ],
          [
           10.420689582824707
          ],
          [
           4.842547416687012
          ],
          [
           9.712427139282227
          ],
          [
           10.621914863586426
          ],
          [
           9.76723575592041
          ],
          [
           24.868759155273438
          ],
          [
           16.710697174072266
          ],
          [
           15.194046020507812
          ],
          [
           9.065512657165527
          ],
          [
           9.351454734802246
          ],
          [
           10.042718887329102
          ],
          [
           8.146984100341797
          ],
          [
           8.422224044799805
          ],
          [
           9.895421028137207
          ],
          [
           8.459511756896973
          ],
          [
           8.568988800048828
          ],
          [
           21.648624420166016
          ],
          [
           13.37221622467041
          ],
          [
           8.109395980834961
          ],
          [
           11.58470630645752
          ],
          [
           8.569463729858398
          ],
          [
           8.830336570739746
          ],
          [
           9.475668907165527
          ],
          [
           8.350505828857422
          ],
          [
           6.666076183319092
          ],
          [
           12.676368713378906
          ],
          [
           5.975766658782959
          ],
          [
           13.504960060119629
          ],
          [
           15.572559356689453
          ],
          [
           9.343551635742188
          ],
          [
           7.510867595672607
          ],
          [
           7.9392991065979
          ],
          [
           7.680420398712158
          ],
          [
           15.300291061401367
          ],
          [
           7.476661205291748
          ],
          [
           7.799018383026123
          ],
          [
           4.158487319946289
          ],
          [
           13.642487525939941
          ],
          [
           8.130261421203613
          ],
          [
           7.474854469299316
          ],
          [
           6.310987949371338
          ],
          [
           8.23128604888916
          ],
          [
           14.199132919311523
          ],
          [
           12.741523742675781
          ],
          [
           14.476618766784668
          ],
          [
           7.259615421295166
          ],
          [
           18.590559005737305
          ],
          [
           16.90003776550293
          ],
          [
           13.66160774230957
          ],
          [
           7.6636457443237305
          ],
          [
           17.121580123901367
          ],
          [
           6.940733909606934
          ],
          [
           6.864943981170654
          ],
          [
           17.52364158630371
          ],
          [
           6.470223426818848
          ],
          [
           5.993160724639893
          ],
          [
           13.475762367248535
          ],
          [
           10.208025932312012
          ],
          [
           7.66570520401001
          ],
          [
           7.279627323150635
          ],
          [
           13.708581924438477
          ],
          [
           20.127277374267578
          ],
          [
           5.645319938659668
          ],
          [
           6.5083746910095215
          ],
          [
           5.813248157501221
          ],
          [
           12.321853637695312
          ],
          [
           6.267181396484375
          ],
          [
           16.08568572998047
          ],
          [
           12.491290092468262
          ],
          [
           5.952256202697754
          ],
          [
           4.146604061126709
          ],
          [
           4.777207374572754
          ],
          [
           5.156188488006592
          ],
          [
           8.407539367675781
          ],
          [
           5.036928653717041
          ],
          [
           9.813639640808105
          ],
          [
           5.9436821937561035
          ],
          [
           9.741788864135742
          ],
          [
           5.657771587371826
          ],
          [
           4.261149883270264
          ],
          [
           14.247696876525879
          ],
          [
           4.593856334686279
          ],
          [
           17.16811180114746
          ],
          [
           5.4523749351501465
          ],
          [
           6.7006916999816895
          ],
          [
           13.48249340057373
          ],
          [
           5.519576549530029
          ],
          [
           4.574839115142822
          ],
          [
           3.1460275650024414
          ],
          [
           5.047065734863281
          ],
          [
           5.951807022094727
          ],
          [
           14.606910705566406
          ],
          [
           9.537986755371094
          ],
          [
           6.122548580169678
          ],
          [
           2.1447343826293945
          ],
          [
           5.453973293304443
          ],
          [
           5.089004993438721
          ],
          [
           3.1689233779907227
          ],
          [
           5.117034435272217
          ],
          [
           13.349896430969238
          ],
          [
           4.676560878753662
          ],
          [
           4.691132545471191
          ],
          [
           5.505605220794678
          ],
          [
           5.9863810539245605
          ],
          [
           10.806037902832031
          ],
          [
           4.161263465881348
          ],
          [
           5.145694732666016
          ],
          [
           13.576373100280762
          ],
          [
           5.2122297286987305
          ],
          [
           11.299429893493652
          ],
          12.558663333333334,
          [
           4.870352268218994
          ],
          [
           13.44538688659668
          ],
          [
           5.353209972381592
          ],
          [
           7.60017728805542
          ],
          [
           4.412908554077148
          ],
          [
           3.598165512084961
          ],
          [
           4.6368255615234375
          ],
          [
           14.244014739990234
          ],
          [
           3.0724611282348633
          ],
          [
           4.741662979125977
          ],
          [
           6.16904354095459
          ],
          [
           4.20583438873291
          ],
          [
           4.628425598144531
          ],
          [
           3.8324737548828125
          ],
          [
           4.958674430847168
          ],
          [
           4.176595687866211
          ],
          [
           5.913280963897705
          ],
          [
           3.4201080799102783
          ],
          [
           8.832671165466309
          ],
          [
           3.9850590229034424
          ],
          [
           4.348024845123291
          ],
          [
           4.379334449768066
          ],
          [
           5.133855819702148
          ],
          [
           4.028216361999512
          ],
          [
           1.7785844802856445
          ],
          [
           3.737978935241699
          ],
          [
           11.573136329650879
          ],
          [
           4.298354148864746
          ],
          [
           3.9860198497772217
          ],
          10.89349,
          [
           2.287750482559204
          ],
          [
           4.2695512771606445
          ],
          [
           4.076603412628174
          ],
          [
           3.9022226333618164
          ],
          [
           2.057526111602783
          ],
          [
           4.41712760925293
          ],
          11.385031666666668,
          [
           7.963964939117432
          ],
          [
           3.0942296981811523
          ],
          [
           3.428246021270752
          ],
          [
           2.872650384902954
          ],
          [
           6.303162097930908
          ],
          [
           4.208452224731445
          ],
          [
           10.61953067779541
          ],
          [
           7.457010746002197
          ],
          [
           5.000756740570068
          ],
          [
           1.523970365524292
          ],
          12.4984025,
          [
           9.92289924621582
          ],
          [
           9.056705474853516
          ],
          [
           3.5017144680023193
          ],
          8.77797,
          [
           3.1739823818206787
          ],
          [
           3.363476037979126
          ],
          [
           2.8656537532806396
          ],
          [
           3.343655586242676
          ],
          [
           3.632192850112915
          ],
          [
           3.011894941329956
          ],
          12.166954999999998,
          [
           3.2281713485717773
          ],
          [
           3.563750743865967
          ],
          [
           3.0063929557800293
          ],
          [
           6.5988688468933105
          ],
          11.252979999999999,
          [
           3.4974124431610107
          ],
          [
           3.3108625411987305
          ],
          [
           3.3950552940368652
          ],
          [
           7.542332172393799
          ],
          9.745626666666666,
          [
           2.890089273452759
          ],
          [
           2.8414459228515625
          ],
          [
           1.314247488975525
          ],
          [
           2.904773235321045
          ],
          10.110184285714286,
          [
           2.8678395748138428
          ],
          [
           2.6457276344299316
          ],
          [
           3.2629966735839844
          ],
          [
           3.2563135623931885
          ],
          [
           1.0786608457565308
          ],
          [
           2.315521240234375
          ],
          [
           2.67026424407959
          ],
          [
           2.6238796710968018
          ],
          [
           2.8566508293151855
          ],
          [
           6.977217674255371
          ],
          [
           2.6511826515197754
          ],
          [
           3.144650459289551
          ],
          [
           2.0299558639526367
          ],
          [
           8.813263893127441
          ],
          [
           2.8184850215911865
          ],
          [
           4.487991809844971
          ],
          [
           2.0088202953338623
          ],
          [
           2.518608570098877
          ],
          [
           2.761488914489746
          ],
          6.8208,
          [
           1.276952862739563
          ],
          [
           2.614553451538086
          ],
          [
           2.431459665298462
          ],
          [
           8.29792594909668
          ],
          [
           1.334808111190796
          ],
          7.696732857142856,
          [
           2.625178098678589
          ],
          [
           3.1255733966827393
          ],
          [
           2.590686559677124
          ],
          [
           3.239431142807007
          ],
          [
           6.547878265380859
          ],
          [
           2.1630935668945312
          ],
          [
           2.1755313873291016
          ],
          [
           2.0807173252105713
          ],
          [
           1.909205675125122
          ],
          [
           6.658611297607422
          ],
          [
           1.8612494468688965
          ],
          [
           2.026448965072632
          ],
          [
           2.563600540161133
          ],
          [
           2.109292984008789
          ],
          [
           1.962239384651184
          ],
          [
           2.535168409347534
          ],
          [
           2.4057350158691406
          ],
          [
           3.5444495677948
          ],
          [
           2.2811384201049805
          ],
          7.4642219999999995,
          [
           6.4119791984558105
          ],
          [
           2.1997978687286377
          ],
          [
           1.981199026107788
          ],
          [
           5.863977909088135
          ],
          [
           1.9823800325393677
          ],
          [
           2.2024829387664795
          ],
          [
           1.7394256591796875
          ],
          6.934788571428571,
          [
           2.1087100505828857
          ],
          [
           2.031002998352051
          ],
          [
           1.408257007598877
          ],
          [
           2.786702871322632
          ],
          [
           6.48477029800415
          ],
          [
           2.0810701847076416
          ],
          [
           2.317809581756592
          ],
          [
           1.862207055091858
          ],
          [
           0.8404332399368286
          ],
          [
           2.0395123958587646
          ],
          [
           2.124088764190674
          ],
          [
           2.1389944553375244
          ],
          [
           1.900448203086853
          ],
          [
           3.1878950595855713
          ],
          [
           2.158869504928589
          ],
          [
           3.0435707569122314
          ],
          [
           1.800157904624939
          ],
          [
           1.7137763500213623
          ],
          [
           1.6391777992248535
          ],
          [
           1.692988634109497
          ],
          [
           1.4842846393585205
          ],
          [
           1.9487953186035156
          ],
          [
           1.6761894226074219
          ],
          [
           1.5354596376419067
          ],
          [
           1.4485620260238647
          ],
          [
           1.2209750413894653
          ],
          [
           1.5138016939163208
          ],
          [
           0.6917036771774292
          ],
          [
           1.4387218952178955
          ],
          [
           1.6001617908477783
          ],
          3.022482,
          [
           1.266019344329834
          ],
          [
           2.4898786544799805
          ],
          5.292086666666666,
          [
           1.0671453475952148
          ],
          [
           5.208484649658203
          ],
          [
           2.491771936416626
          ],
          4.859635,
          4.67572,
          [
           1.1367624998092651
          ],
          [
           1.1596393585205078
          ],
          [
           2.208315134048462
          ],
          [
           1.3471276760101318
          ],
          [
           3.6377296447753906
          ],
          [
           0.8962653279304504
          ],
          [
           2.7317492961883545
          ],
          [
           1.213187336921692
          ],
          3.734815714285714,
          [
           4.263812065124512
          ],
          [
           1.016519546508789
          ],
          [
           2.29166316986084
          ],
          3.5741266666666665,
          [
           1.03180730342865
          ],
          [
           1.0280903577804565
          ],
          [
           0.9892116785049438
          ],
          2.347294,
          [
           1.0151225328445435
          ],
          [
           2.9812979698181152
          ],
          [
           1.1604318618774414
          ],
          [
           1.1573556661605835
          ],
          [
           1.1244590282440186
          ],
          [
           0.8804653882980347
          ],
          [
           1.2134678363800049
          ],
          [
           0.7139666080474854
          ],
          [
           0.9660605192184448
          ],
          [
           0.9752786159515381
          ],
          3.9156825,
          [
           1.013516902923584
          ],
          [
           1.271432876586914
          ],
          [
           1.7144895792007446
          ],
          2.9682959999999996,
          [
           0.9291916489601135
          ],
          3.58399,
          [
           0.8310879468917847
          ],
          [
           0.8290132880210876
          ],
          [
           0.7081952095031738
          ],
          [
           0.8654574155807495
          ],
          [
           0.9895492196083069
          ],
          [
           1.1211457252502441
          ],
          [
           0.46651312708854675
          ],
          [
           0.6750909090042114
          ],
          3.3653225,
          [
           0.8646507859230042
          ],
          [
           1.6101078987121582
          ],
          [
           0.7899733185768127
          ],
          [
           0.8783715963363647
          ],
          2.3958500000000003,
          2.1303714285714284,
          [
           0.7037730813026428
          ],
          [
           0.9400191307067871
          ],
          [
           0.76887446641922
          ],
          [
           1.1956453323364258
          ],
          [
           0.7017286419868469
          ],
          [
           0.48808833956718445
          ],
          [
           0.5957414507865906
          ],
          [
           0.6455009579658508
          ],
          [
           1.207716703414917
          ],
          [
           0.8881208896636963
          ],
          1.89825,
          [
           0.7321705222129822
          ],
          [
           0.5833642482757568
          ],
          1.9819533333333335,
          [
           0.6612109541893005
          ],
          [
           1.4357446432113647
          ],
          [
           1.4557839632034302
          ],
          [
           0.5287092924118042
          ],
          [
           0.47579148411750793
          ],
          [
           0.49292367696762085
          ],
          [
           1.159858226776123
          ],
          [
           0.4690445363521576
          ],
          1.6437800000000002,
          [
           1.4925055503845215
          ],
          [
           0.563761830329895
          ],
          [
           1.186739206314087
          ],
          [
           1.098889946937561
          ],
          [
           0.325425386428833
          ],
          1.8997366666666666,
          [
           0.4766154885292053
          ],
          [
           0.7560250163078308
          ],
          [
           1.4121007919311523
          ],
          0.9074225,
          [
           0.4707440137863159
          ],
          [
           0.9963323473930359
          ],
          [
           0.7977073788642883
          ],
          1.378714,
          [
           0.5178602337837219
          ],
          [
           0.8199551105499268
          ],
          1.2232383333333332,
          1.391452,
          1.2599700000000003,
          1.0800566666666664,
          1.2802257142857143,
          [
           0.3975525200366974
          ],
          1.1571742857142857,
          [
           0.4396917223930359
          ],
          0.927806,
          [
           0.3063701093196869
          ],
          [
           0.53010493516922
          ],
          0.8307242857142857,
          [
           0.2912018895149231
          ],
          1.1794200000000001,
          1.1963380000000001,
          [
           0.47042742371559143
          ],
          1.1963219999999999,
          [
           0.29881465435028076
          ],
          [
           0.2405325472354889
          ],
          [
           0.3901693820953369
          ],
          [
           0.6656295657157898
          ],
          [
           0.34320083260536194
          ],
          [
           0.23996543884277344
          ],
          [
           0.373318076133728
          ],
          [
           0.19883930683135986
          ],
          [
           0.408139169216156
          ],
          [
           0.3197450637817383
          ],
          [
           0.5008077025413513
          ],
          [
           0.1338416486978531
          ],
          [
           0.08608479797840118
          ],
          [
           0.2973979711532593
          ],
          [
           0.1479145884513855
          ],
          [
           0.14062872529029846
          ],
          [
           0.0824703648686409
          ],
          [
           0.17074361443519592
          ],
          [
           0.47147196531295776
          ],
          [
           0.14303191006183624
          ],
          [
           0.2791164517402649
          ],
          [
           0.13668343424797058
          ],
          [
           0.17121852934360504
          ],
          [
           0.11958024650812149
          ],
          [
           0.15760131180286407
          ],
          0.4110625,
          [
           0.06915367394685745
          ],
          [
           0.077976293861866
          ],
          [
           0.08437848091125488
          ],
          [
           0.12118285149335861
          ],
          0.3401,
          [
           0.0427018478512764
          ],
          [
           0.042754948139190674
          ],
          [
           0.03125419095158577
          ],
          [
           0.03177706524729729
          ],
          [
           0.02487424947321415
          ],
          [
           0.12216292321681976
          ],
          [
           0.023554880172014236
          ],
          [
           0.02631501294672489
          ],
          [
           0.02110947296023369
          ],
          [
           0.028878409415483475
          ],
          [
           0.04221096262335777
          ],
          [
           0.04747076332569122
          ],
          [
           0.057873696088790894
          ],
          [
           0.02042645588517189
          ]
         ]
        },
        {
         "line": {
          "color": "red",
          "dash": "dash"
         },
         "mode": "lines",
         "name": "y = x",
         "type": "scatter",
         "x": [
          0,
          1400
         ],
         "y": [
          0,
          1400
         ]
        }
       ],
       "layout": {
        "height": 600,
        "showlegend": true,
        "template": {
         "data": {
          "bar": [
           {
            "error_x": {
             "color": "#2a3f5f"
            },
            "error_y": {
             "color": "#2a3f5f"
            },
            "marker": {
             "line": {
              "color": "#E5ECF6",
              "width": 0.5
             },
             "pattern": {
              "fillmode": "overlay",
              "size": 10,
              "solidity": 0.2
             }
            },
            "type": "bar"
           }
          ],
          "barpolar": [
           {
            "marker": {
             "line": {
              "color": "#E5ECF6",
              "width": 0.5
             },
             "pattern": {
              "fillmode": "overlay",
              "size": 10,
              "solidity": 0.2
             }
            },
            "type": "barpolar"
           }
          ],
          "carpet": [
           {
            "aaxis": {
             "endlinecolor": "#2a3f5f",
             "gridcolor": "white",
             "linecolor": "white",
             "minorgridcolor": "white",
             "startlinecolor": "#2a3f5f"
            },
            "baxis": {
             "endlinecolor": "#2a3f5f",
             "gridcolor": "white",
             "linecolor": "white",
             "minorgridcolor": "white",
             "startlinecolor": "#2a3f5f"
            },
            "type": "carpet"
           }
          ],
          "choropleth": [
           {
            "colorbar": {
             "outlinewidth": 0,
             "ticks": ""
            },
            "type": "choropleth"
           }
          ],
          "contour": [
           {
            "colorbar": {
             "outlinewidth": 0,
             "ticks": ""
            },
            "colorscale": [
             [
              0,
              "#0d0887"
             ],
             [
              0.1111111111111111,
              "#46039f"
             ],
             [
              0.2222222222222222,
              "#7201a8"
             ],
             [
              0.3333333333333333,
              "#9c179e"
             ],
             [
              0.4444444444444444,
              "#bd3786"
             ],
             [
              0.5555555555555556,
              "#d8576b"
             ],
             [
              0.6666666666666666,
              "#ed7953"
             ],
             [
              0.7777777777777778,
              "#fb9f3a"
             ],
             [
              0.8888888888888888,
              "#fdca26"
             ],
             [
              1,
              "#f0f921"
             ]
            ],
            "type": "contour"
           }
          ],
          "contourcarpet": [
           {
            "colorbar": {
             "outlinewidth": 0,
             "ticks": ""
            },
            "type": "contourcarpet"
           }
          ],
          "heatmap": [
           {
            "colorbar": {
             "outlinewidth": 0,
             "ticks": ""
            },
            "colorscale": [
             [
              0,
              "#0d0887"
             ],
             [
              0.1111111111111111,
              "#46039f"
             ],
             [
              0.2222222222222222,
              "#7201a8"
             ],
             [
              0.3333333333333333,
              "#9c179e"
             ],
             [
              0.4444444444444444,
              "#bd3786"
             ],
             [
              0.5555555555555556,
              "#d8576b"
             ],
             [
              0.6666666666666666,
              "#ed7953"
             ],
             [
              0.7777777777777778,
              "#fb9f3a"
             ],
             [
              0.8888888888888888,
              "#fdca26"
             ],
             [
              1,
              "#f0f921"
             ]
            ],
            "type": "heatmap"
           }
          ],
          "histogram": [
           {
            "marker": {
             "pattern": {
              "fillmode": "overlay",
              "size": 10,
              "solidity": 0.2
             }
            },
            "type": "histogram"
           }
          ],
          "histogram2d": [
           {
            "colorbar": {
             "outlinewidth": 0,
             "ticks": ""
            },
            "colorscale": [
             [
              0,
              "#0d0887"
             ],
             [
              0.1111111111111111,
              "#46039f"
             ],
             [
              0.2222222222222222,
              "#7201a8"
             ],
             [
              0.3333333333333333,
              "#9c179e"
             ],
             [
              0.4444444444444444,
              "#bd3786"
             ],
             [
              0.5555555555555556,
              "#d8576b"
             ],
             [
              0.6666666666666666,
              "#ed7953"
             ],
             [
              0.7777777777777778,
              "#fb9f3a"
             ],
             [
              0.8888888888888888,
              "#fdca26"
             ],
             [
              1,
              "#f0f921"
             ]
            ],
            "type": "histogram2d"
           }
          ],
          "histogram2dcontour": [
           {
            "colorbar": {
             "outlinewidth": 0,
             "ticks": ""
            },
            "colorscale": [
             [
              0,
              "#0d0887"
             ],
             [
              0.1111111111111111,
              "#46039f"
             ],
             [
              0.2222222222222222,
              "#7201a8"
             ],
             [
              0.3333333333333333,
              "#9c179e"
             ],
             [
              0.4444444444444444,
              "#bd3786"
             ],
             [
              0.5555555555555556,
              "#d8576b"
             ],
             [
              0.6666666666666666,
              "#ed7953"
             ],
             [
              0.7777777777777778,
              "#fb9f3a"
             ],
             [
              0.8888888888888888,
              "#fdca26"
             ],
             [
              1,
              "#f0f921"
             ]
            ],
            "type": "histogram2dcontour"
           }
          ],
          "mesh3d": [
           {
            "colorbar": {
             "outlinewidth": 0,
             "ticks": ""
            },
            "type": "mesh3d"
           }
          ],
          "parcoords": [
           {
            "line": {
             "colorbar": {
              "outlinewidth": 0,
              "ticks": ""
             }
            },
            "type": "parcoords"
           }
          ],
          "pie": [
           {
            "automargin": true,
            "type": "pie"
           }
          ],
          "scatter": [
           {
            "fillpattern": {
             "fillmode": "overlay",
             "size": 10,
             "solidity": 0.2
            },
            "type": "scatter"
           }
          ],
          "scatter3d": [
           {
            "line": {
             "colorbar": {
              "outlinewidth": 0,
              "ticks": ""
             }
            },
            "marker": {
             "colorbar": {
              "outlinewidth": 0,
              "ticks": ""
             }
            },
            "type": "scatter3d"
           }
          ],
          "scattercarpet": [
           {
            "marker": {
             "colorbar": {
              "outlinewidth": 0,
              "ticks": ""
             }
            },
            "type": "scattercarpet"
           }
          ],
          "scattergeo": [
           {
            "marker": {
             "colorbar": {
              "outlinewidth": 0,
              "ticks": ""
             }
            },
            "type": "scattergeo"
           }
          ],
          "scattergl": [
           {
            "marker": {
             "colorbar": {
              "outlinewidth": 0,
              "ticks": ""
             }
            },
            "type": "scattergl"
           }
          ],
          "scattermap": [
           {
            "marker": {
             "colorbar": {
              "outlinewidth": 0,
              "ticks": ""
             }
            },
            "type": "scattermap"
           }
          ],
          "scattermapbox": [
           {
            "marker": {
             "colorbar": {
              "outlinewidth": 0,
              "ticks": ""
             }
            },
            "type": "scattermapbox"
           }
          ],
          "scatterpolar": [
           {
            "marker": {
             "colorbar": {
              "outlinewidth": 0,
              "ticks": ""
             }
            },
            "type": "scatterpolar"
           }
          ],
          "scatterpolargl": [
           {
            "marker": {
             "colorbar": {
              "outlinewidth": 0,
              "ticks": ""
             }
            },
            "type": "scatterpolargl"
           }
          ],
          "scatterternary": [
           {
            "marker": {
             "colorbar": {
              "outlinewidth": 0,
              "ticks": ""
             }
            },
            "type": "scatterternary"
           }
          ],
          "surface": [
           {
            "colorbar": {
             "outlinewidth": 0,
             "ticks": ""
            },
            "colorscale": [
             [
              0,
              "#0d0887"
             ],
             [
              0.1111111111111111,
              "#46039f"
             ],
             [
              0.2222222222222222,
              "#7201a8"
             ],
             [
              0.3333333333333333,
              "#9c179e"
             ],
             [
              0.4444444444444444,
              "#bd3786"
             ],
             [
              0.5555555555555556,
              "#d8576b"
             ],
             [
              0.6666666666666666,
              "#ed7953"
             ],
             [
              0.7777777777777778,
              "#fb9f3a"
             ],
             [
              0.8888888888888888,
              "#fdca26"
             ],
             [
              1,
              "#f0f921"
             ]
            ],
            "type": "surface"
           }
          ],
          "table": [
           {
            "cells": {
             "fill": {
              "color": "#EBF0F8"
             },
             "line": {
              "color": "white"
             }
            },
            "header": {
             "fill": {
              "color": "#C8D4E3"
             },
             "line": {
              "color": "white"
             }
            },
            "type": "table"
           }
          ]
         },
         "layout": {
          "annotationdefaults": {
           "arrowcolor": "#2a3f5f",
           "arrowhead": 0,
           "arrowwidth": 1
          },
          "autotypenumbers": "strict",
          "coloraxis": {
           "colorbar": {
            "outlinewidth": 0,
            "ticks": ""
           }
          },
          "colorscale": {
           "diverging": [
            [
             0,
             "#8e0152"
            ],
            [
             0.1,
             "#c51b7d"
            ],
            [
             0.2,
             "#de77ae"
            ],
            [
             0.3,
             "#f1b6da"
            ],
            [
             0.4,
             "#fde0ef"
            ],
            [
             0.5,
             "#f7f7f7"
            ],
            [
             0.6,
             "#e6f5d0"
            ],
            [
             0.7,
             "#b8e186"
            ],
            [
             0.8,
             "#7fbc41"
            ],
            [
             0.9,
             "#4d9221"
            ],
            [
             1,
             "#276419"
            ]
           ],
           "sequential": [
            [
             0,
             "#0d0887"
            ],
            [
             0.1111111111111111,
             "#46039f"
            ],
            [
             0.2222222222222222,
             "#7201a8"
            ],
            [
             0.3333333333333333,
             "#9c179e"
            ],
            [
             0.4444444444444444,
             "#bd3786"
            ],
            [
             0.5555555555555556,
             "#d8576b"
            ],
            [
             0.6666666666666666,
             "#ed7953"
            ],
            [
             0.7777777777777778,
             "#fb9f3a"
            ],
            [
             0.8888888888888888,
             "#fdca26"
            ],
            [
             1,
             "#f0f921"
            ]
           ],
           "sequentialminus": [
            [
             0,
             "#0d0887"
            ],
            [
             0.1111111111111111,
             "#46039f"
            ],
            [
             0.2222222222222222,
             "#7201a8"
            ],
            [
             0.3333333333333333,
             "#9c179e"
            ],
            [
             0.4444444444444444,
             "#bd3786"
            ],
            [
             0.5555555555555556,
             "#d8576b"
            ],
            [
             0.6666666666666666,
             "#ed7953"
            ],
            [
             0.7777777777777778,
             "#fb9f3a"
            ],
            [
             0.8888888888888888,
             "#fdca26"
            ],
            [
             1,
             "#f0f921"
            ]
           ]
          },
          "colorway": [
           "#636efa",
           "#EF553B",
           "#00cc96",
           "#ab63fa",
           "#FFA15A",
           "#19d3f3",
           "#FF6692",
           "#B6E880",
           "#FF97FF",
           "#FECB52"
          ],
          "font": {
           "color": "#2a3f5f"
          },
          "geo": {
           "bgcolor": "white",
           "lakecolor": "white",
           "landcolor": "#E5ECF6",
           "showlakes": true,
           "showland": true,
           "subunitcolor": "white"
          },
          "hoverlabel": {
           "align": "left"
          },
          "hovermode": "closest",
          "mapbox": {
           "style": "light"
          },
          "paper_bgcolor": "white",
          "plot_bgcolor": "#E5ECF6",
          "polar": {
           "angularaxis": {
            "gridcolor": "white",
            "linecolor": "white",
            "ticks": ""
           },
           "bgcolor": "#E5ECF6",
           "radialaxis": {
            "gridcolor": "white",
            "linecolor": "white",
            "ticks": ""
           }
          },
          "scene": {
           "xaxis": {
            "backgroundcolor": "#E5ECF6",
            "gridcolor": "white",
            "gridwidth": 2,
            "linecolor": "white",
            "showbackground": true,
            "ticks": "",
            "zerolinecolor": "white"
           },
           "yaxis": {
            "backgroundcolor": "#E5ECF6",
            "gridcolor": "white",
            "gridwidth": 2,
            "linecolor": "white",
            "showbackground": true,
            "ticks": "",
            "zerolinecolor": "white"
           },
           "zaxis": {
            "backgroundcolor": "#E5ECF6",
            "gridcolor": "white",
            "gridwidth": 2,
            "linecolor": "white",
            "showbackground": true,
            "ticks": "",
            "zerolinecolor": "white"
           }
          },
          "shapedefaults": {
           "line": {
            "color": "#2a3f5f"
           }
          },
          "ternary": {
           "aaxis": {
            "gridcolor": "white",
            "linecolor": "white",
            "ticks": ""
           },
           "baxis": {
            "gridcolor": "white",
            "linecolor": "white",
            "ticks": ""
           },
           "bgcolor": "#E5ECF6",
           "caxis": {
            "gridcolor": "white",
            "linecolor": "white",
            "ticks": ""
           }
          },
          "title": {
           "x": 0.05
          },
          "xaxis": {
           "automargin": true,
           "gridcolor": "white",
           "linecolor": "white",
           "ticks": "",
           "title": {
            "standoff": 15
           },
           "zerolinecolor": "white",
           "zerolinewidth": 2
          },
          "yaxis": {
           "automargin": true,
           "gridcolor": "white",
           "linecolor": "white",
           "ticks": "",
           "title": {
            "standoff": 15
           },
           "zerolinecolor": "white",
           "zerolinewidth": 2
          }
         }
        },
        "title": {
         "text": "Predicciones vs TN"
        },
        "width": 600,
        "xaxis": {
         "range": [
          0,
          1500
         ],
         "scaleanchor": "y",
         "scaleratio": 1,
         "title": {
          "text": "TN Real"
         }
        },
        "yaxis": {
         "range": [
          0,
          1500
         ],
         "scaleanchor": "x",
         "scaleratio": 1,
         "title": {
          "text": "TN Predicho"
         }
        }
       }
      }
     },
     "metadata": {},
     "output_type": "display_data"
    }
   ],
   "source": [
    "import plotly.graph_objects as go\n",
    "\n",
    "# Crear el gráfico de dispersión\n",
    "fig = go.Figure()\n",
    "\n",
    "# Añadir los puntos de dispersión con el product_id en el hover\n",
    "fig.add_trace(go.Scatter(\n",
    "    x=df_final[\"tn\"],\n",
    "    y=df_final[\"tn_t2_pred\"],\n",
    "    mode='markers',\n",
    "    name='Datos',\n",
    "    customdata=df_final[\"product_id\"],  # Pasamos el product_id como dato adicional\n",
    "    hovertemplate=(\n",
    "        \"<b>TN Real</b>: %{x}<br>\"\n",
    "        \"<b>TN Predicho</b>: %{y}<br>\"\n",
    "        \"<b>Product ID</b>: %{customdata}<br>\"\n",
    "        \"<extra></extra>\"  # Elimina información adicional automática\n",
    "    ),\n",
    "    marker=dict(size=8, opacity=0.7)  # Opcional: ajustar tamaño y transparencia\n",
    "))\n",
    "\n",
    "# Añadir la línea de referencia y=x\n",
    "fig.add_trace(go.Scatter(\n",
    "    x=[0, 1400],\n",
    "    y=[0, 1400],\n",
    "    mode='lines',\n",
    "    name='y = x',\n",
    "    line=dict(color='red', dash='dash')\n",
    "))\n",
    "\n",
    "# Configurar el diseño del gráfico para que sea cuadrado\n",
    "fig.update_layout(\n",
    "    title='Predicciones vs TN',\n",
    "    xaxis_title='TN Real',\n",
    "    yaxis_title='TN Predicho',\n",
    "    showlegend=True,\n",
    "    # Forzar misma escala en ejes X e Y\n",
    "    xaxis=dict(scaleanchor=\"y\", scaleratio=1),\n",
    "    yaxis=dict(scaleanchor=\"x\", scaleratio=1),\n",
    "    # Tamaño cuadrado (opcional)\n",
    "    width=600,\n",
    "    height=600,\n",
    "    # Rango fijo para ambos ejes (opcional)\n",
    "    xaxis_range=[0, 1500],\n",
    "    yaxis_range=[0, 1500]\n",
    ")\n",
    "\n",
    "# Mostrar el gráfico\n",
    "fig.show()"
   ]
  },
  {
   "cell_type": "code",
   "execution_count": 24,
   "id": "84871a94",
   "metadata": {},
   "outputs": [
    {
     "name": "stdout",
     "output_type": "stream",
     "text": [
      "[31150.934] | 25145.252080000002\n"
     ]
    }
   ],
   "source": [
    "print(df_final[\"tn_t2_pred\"].sum(),\"|\",df_final[\"tn\"].sum())"
   ]
  },
  {
   "cell_type": "code",
   "execution_count": 25,
   "id": "4750dc95",
   "metadata": {},
   "outputs": [
    {
     "data": {
      "application/vnd.microsoft.datawrangler.viewer.v0+json": {
       "columns": [
        {
         "name": "index",
         "rawType": "int64",
         "type": "integer"
        },
        {
         "name": "product_id",
         "rawType": "int64",
         "type": "integer"
        },
        {
         "name": "tn",
         "rawType": "float64",
         "type": "float"
        },
        {
         "name": "tn_t2_pred",
         "rawType": "object",
         "type": "unknown"
        },
        {
         "name": "error",
         "rawType": "object",
         "type": "unknown"
        },
        {
         "name": "error_relativo",
         "rawType": "object",
         "type": "unknown"
        }
       ],
       "ref": "d39e078a-b1c7-4972-adf6-58628de1591e",
       "rows": [
        [
         "7",
         "20008",
         "195.36854",
         "[498.25372]",
         "[302.8852]",
         "[1.5503273]"
        ],
        [
         "11",
         "20012",
         "173.13004",
         "[407.38376]",
         "[234.25372]",
         "[1.3530507]"
        ],
        [
         "13",
         "20014",
         "272.02812",
         "[439.05917]",
         "[167.03107]",
         "[0.61402136]"
        ],
        [
         "17",
         "20018",
         "141.63569999999999",
         "[308.17484]",
         "[166.53914]",
         "[1.1758274]"
        ],
        [
         "27",
         "20028",
         "109.92618",
         "[243.54106]",
         "[133.61488]",
         "[1.2154965]"
        ],
        [
         "6",
         "20007",
         "390.43432",
         "[520.34326]",
         "[129.90894]",
         "[0.33272928]"
        ],
        [
         "0",
         "20001",
         "1504.68856",
         "[1387.1389]",
         "[117.54968]",
         "[0.07812227]"
        ],
        [
         "14",
         "20015",
         "297.27663",
         "[412.40094]",
         "[115.1243]",
         "[0.38726318]"
        ],
        [
         "12",
         "20013",
         "318.09141",
         "[429.99405]",
         "[111.90265]",
         "[0.351794]"
        ],
        [
         "40",
         "20044",
         "59.617470000000004",
         "[163.0712]",
         "[103.45373]",
         "[1.7352922]"
        ],
        [
         "32",
         "20033",
         "96.76212",
         "[196.72365]",
         "[99.961525]",
         "[1.0330646]"
        ],
        [
         "72",
         "20080",
         "8.84426",
         "[107.340515]",
         "[98.496254]",
         "[11.136744]"
        ],
        [
         "16",
         "20017",
         "216.90773",
         "[313.77216]",
         "[96.864426]",
         "[0.44656974]"
        ],
        [
         "89",
         "20100",
         "1.3792",
         "[95.00567]",
         "[93.626465]",
         "[67.88462]"
        ],
        [
         "22",
         "20023",
         "181.13277",
         "[271.82416]",
         "[90.69139]",
         "[0.50069016]"
        ],
        [
         "5",
         "20006",
         "417.23228",
         "[506.7486]",
         "[89.51633]",
         "[0.21454795]"
        ],
        [
         "2",
         "20003",
         "892.5012899999999",
         "[803.6937]",
         "[88.807556]",
         "[0.09950412]"
        ],
        [
         "43",
         "20047",
         "71.49763",
         "[158.41946]",
         "[86.92184]",
         "[1.2157304]"
        ],
        [
         "29",
         "20030",
         "102.7572",
         "[189.5997]",
         "[86.8425]",
         "[0.84512323]"
        ],
        [
         "44",
         "20049",
         "124.84836",
         "[210.12701]",
         "[85.278656]",
         "[0.6830579]"
        ]
       ],
       "shape": {
        "columns": 5,
        "rows": 20
       }
      },
      "text/html": [
       "<div>\n",
       "<style scoped>\n",
       "    .dataframe tbody tr th:only-of-type {\n",
       "        vertical-align: middle;\n",
       "    }\n",
       "\n",
       "    .dataframe tbody tr th {\n",
       "        vertical-align: top;\n",
       "    }\n",
       "\n",
       "    .dataframe thead th {\n",
       "        text-align: right;\n",
       "    }\n",
       "</style>\n",
       "<table border=\"1\" class=\"dataframe\">\n",
       "  <thead>\n",
       "    <tr style=\"text-align: right;\">\n",
       "      <th></th>\n",
       "      <th>product_id</th>\n",
       "      <th>tn</th>\n",
       "      <th>tn_t2_pred</th>\n",
       "      <th>error</th>\n",
       "      <th>error_relativo</th>\n",
       "    </tr>\n",
       "  </thead>\n",
       "  <tbody>\n",
       "    <tr>\n",
       "      <th>7</th>\n",
       "      <td>20008</td>\n",
       "      <td>195.36854</td>\n",
       "      <td>[498.25372]</td>\n",
       "      <td>[302.8852]</td>\n",
       "      <td>[1.5503273]</td>\n",
       "    </tr>\n",
       "    <tr>\n",
       "      <th>11</th>\n",
       "      <td>20012</td>\n",
       "      <td>173.13004</td>\n",
       "      <td>[407.38376]</td>\n",
       "      <td>[234.25372]</td>\n",
       "      <td>[1.3530507]</td>\n",
       "    </tr>\n",
       "    <tr>\n",
       "      <th>13</th>\n",
       "      <td>20014</td>\n",
       "      <td>272.02812</td>\n",
       "      <td>[439.05917]</td>\n",
       "      <td>[167.03107]</td>\n",
       "      <td>[0.61402136]</td>\n",
       "    </tr>\n",
       "    <tr>\n",
       "      <th>17</th>\n",
       "      <td>20018</td>\n",
       "      <td>141.63570</td>\n",
       "      <td>[308.17484]</td>\n",
       "      <td>[166.53914]</td>\n",
       "      <td>[1.1758274]</td>\n",
       "    </tr>\n",
       "    <tr>\n",
       "      <th>27</th>\n",
       "      <td>20028</td>\n",
       "      <td>109.92618</td>\n",
       "      <td>[243.54106]</td>\n",
       "      <td>[133.61488]</td>\n",
       "      <td>[1.2154965]</td>\n",
       "    </tr>\n",
       "    <tr>\n",
       "      <th>6</th>\n",
       "      <td>20007</td>\n",
       "      <td>390.43432</td>\n",
       "      <td>[520.34326]</td>\n",
       "      <td>[129.90894]</td>\n",
       "      <td>[0.33272928]</td>\n",
       "    </tr>\n",
       "    <tr>\n",
       "      <th>0</th>\n",
       "      <td>20001</td>\n",
       "      <td>1504.68856</td>\n",
       "      <td>[1387.1389]</td>\n",
       "      <td>[117.54968]</td>\n",
       "      <td>[0.078122266]</td>\n",
       "    </tr>\n",
       "    <tr>\n",
       "      <th>14</th>\n",
       "      <td>20015</td>\n",
       "      <td>297.27663</td>\n",
       "      <td>[412.40094]</td>\n",
       "      <td>[115.1243]</td>\n",
       "      <td>[0.38726318]</td>\n",
       "    </tr>\n",
       "    <tr>\n",
       "      <th>12</th>\n",
       "      <td>20013</td>\n",
       "      <td>318.09141</td>\n",
       "      <td>[429.99405]</td>\n",
       "      <td>[111.90265]</td>\n",
       "      <td>[0.351794]</td>\n",
       "    </tr>\n",
       "    <tr>\n",
       "      <th>40</th>\n",
       "      <td>20044</td>\n",
       "      <td>59.61747</td>\n",
       "      <td>[163.0712]</td>\n",
       "      <td>[103.45373]</td>\n",
       "      <td>[1.7352922]</td>\n",
       "    </tr>\n",
       "    <tr>\n",
       "      <th>32</th>\n",
       "      <td>20033</td>\n",
       "      <td>96.76212</td>\n",
       "      <td>[196.72365]</td>\n",
       "      <td>[99.961525]</td>\n",
       "      <td>[1.0330646]</td>\n",
       "    </tr>\n",
       "    <tr>\n",
       "      <th>72</th>\n",
       "      <td>20080</td>\n",
       "      <td>8.84426</td>\n",
       "      <td>[107.340515]</td>\n",
       "      <td>[98.496254]</td>\n",
       "      <td>[11.136744]</td>\n",
       "    </tr>\n",
       "    <tr>\n",
       "      <th>16</th>\n",
       "      <td>20017</td>\n",
       "      <td>216.90773</td>\n",
       "      <td>[313.77216]</td>\n",
       "      <td>[96.864426]</td>\n",
       "      <td>[0.44656974]</td>\n",
       "    </tr>\n",
       "    <tr>\n",
       "      <th>89</th>\n",
       "      <td>20100</td>\n",
       "      <td>1.37920</td>\n",
       "      <td>[95.00567]</td>\n",
       "      <td>[93.626465]</td>\n",
       "      <td>[67.88462]</td>\n",
       "    </tr>\n",
       "    <tr>\n",
       "      <th>22</th>\n",
       "      <td>20023</td>\n",
       "      <td>181.13277</td>\n",
       "      <td>[271.82416]</td>\n",
       "      <td>[90.69139]</td>\n",
       "      <td>[0.50069016]</td>\n",
       "    </tr>\n",
       "    <tr>\n",
       "      <th>5</th>\n",
       "      <td>20006</td>\n",
       "      <td>417.23228</td>\n",
       "      <td>[506.7486]</td>\n",
       "      <td>[89.51633]</td>\n",
       "      <td>[0.21454795]</td>\n",
       "    </tr>\n",
       "    <tr>\n",
       "      <th>2</th>\n",
       "      <td>20003</td>\n",
       "      <td>892.50129</td>\n",
       "      <td>[803.6937]</td>\n",
       "      <td>[88.807556]</td>\n",
       "      <td>[0.09950412]</td>\n",
       "    </tr>\n",
       "    <tr>\n",
       "      <th>43</th>\n",
       "      <td>20047</td>\n",
       "      <td>71.49763</td>\n",
       "      <td>[158.41946]</td>\n",
       "      <td>[86.92184]</td>\n",
       "      <td>[1.2157304]</td>\n",
       "    </tr>\n",
       "    <tr>\n",
       "      <th>29</th>\n",
       "      <td>20030</td>\n",
       "      <td>102.75720</td>\n",
       "      <td>[189.5997]</td>\n",
       "      <td>[86.8425]</td>\n",
       "      <td>[0.84512323]</td>\n",
       "    </tr>\n",
       "    <tr>\n",
       "      <th>44</th>\n",
       "      <td>20049</td>\n",
       "      <td>124.84836</td>\n",
       "      <td>[210.12701]</td>\n",
       "      <td>[85.278656]</td>\n",
       "      <td>[0.6830579]</td>\n",
       "    </tr>\n",
       "  </tbody>\n",
       "</table>\n",
       "</div>"
      ],
      "text/plain": [
       "    product_id          tn    tn_t2_pred        error error_relativo\n",
       "7        20008   195.36854   [498.25372]   [302.8852]    [1.5503273]\n",
       "11       20012   173.13004   [407.38376]  [234.25372]    [1.3530507]\n",
       "13       20014   272.02812   [439.05917]  [167.03107]   [0.61402136]\n",
       "17       20018   141.63570   [308.17484]  [166.53914]    [1.1758274]\n",
       "27       20028   109.92618   [243.54106]  [133.61488]    [1.2154965]\n",
       "6        20007   390.43432   [520.34326]  [129.90894]   [0.33272928]\n",
       "0        20001  1504.68856   [1387.1389]  [117.54968]  [0.078122266]\n",
       "14       20015   297.27663   [412.40094]   [115.1243]   [0.38726318]\n",
       "12       20013   318.09141   [429.99405]  [111.90265]     [0.351794]\n",
       "40       20044    59.61747    [163.0712]  [103.45373]    [1.7352922]\n",
       "32       20033    96.76212   [196.72365]  [99.961525]    [1.0330646]\n",
       "72       20080     8.84426  [107.340515]  [98.496254]    [11.136744]\n",
       "16       20017   216.90773   [313.77216]  [96.864426]   [0.44656974]\n",
       "89       20100     1.37920    [95.00567]  [93.626465]     [67.88462]\n",
       "22       20023   181.13277   [271.82416]   [90.69139]   [0.50069016]\n",
       "5        20006   417.23228    [506.7486]   [89.51633]   [0.21454795]\n",
       "2        20003   892.50129    [803.6937]  [88.807556]   [0.09950412]\n",
       "43       20047    71.49763   [158.41946]   [86.92184]    [1.2157304]\n",
       "29       20030   102.75720    [189.5997]    [86.8425]   [0.84512323]\n",
       "44       20049   124.84836   [210.12701]  [85.278656]    [0.6830579]"
      ]
     },
     "execution_count": 25,
     "metadata": {},
     "output_type": "execute_result"
    }
   ],
   "source": [
    "df_final[\"error\"] = (df_final[\"tn\"] - df_final[\"tn_t2_pred\"]).abs()\n",
    "df_final[\"error_relativo\"] = df_final[\"error\"] / df_final[\"tn\"]\n",
    "df_final.sort_values(by=\"error\", ascending=False, inplace=True)\n",
    "df_final[[\"product_id\" ,\"tn\", \"tn_t2_pred\", \"error\", \"error_relativo\"]].head(20)\n"
   ]
  },
  {
   "cell_type": "code",
   "execution_count": 26,
   "id": "7f3a5e1f",
   "metadata": {},
   "outputs": [],
   "source": [
    "sellin = pd.read_csv(\"../datasets/sell-in.txt.gz\", sep=\"\\t\")"
   ]
  },
  {
   "cell_type": "code",
   "execution_count": 27,
   "id": "44148a78",
   "metadata": {},
   "outputs": [],
   "source": [
    "\n",
    "# prod = 20995\n",
    "# prod_s = sellin[sellin[\"product_id\"] == prod]\n",
    "# prod_s[\"periodo\"] = pd.to_datetime(prod_s[\"periodo\"], format='%Y%m')\n",
    "# prod_s = prod_s.groupby(\"periodo\").agg({\"tn\": \"sum\"}).reset_index()\n",
    "# #prod_s.plot(kind=\"line\", x=\"periodo\", y=\"tn\", title=\"TN por periodo para producto 20002\")\n",
    "\n",
    "# import matplotlib.pyplot as plt\n",
    "\n",
    "# ax = plt.gca()\n",
    "# prod_s.plot(kind=\"line\", x=\"periodo\", y=\"tn\", title=f\"TN por periodo para producto {prod}\", ax=ax)\n",
    "# #plt.axhline(y=813.82, color='red', linestyle='--', label='predict')\n",
    "# prediccion = df_final[df_final[\"product_id\"] == prod][\"tn_t2_pred\"].values[0]\n",
    "# plt.scatter(prod_s[\"periodo\"].iloc[-1], prediccion, color='red', label='prediccion')\n",
    "# plt.legend()\n",
    "# plt.show()"
   ]
  },
  {
   "cell_type": "code",
   "execution_count": 28,
   "id": "99387317",
   "metadata": {},
   "outputs": [],
   "source": [
    "df_final[\"volumen_cuartil\"] = pd.qcut(df_final[\"tn\"], q=10, labels=False)\n"
   ]
  },
  {
   "cell_type": "code",
   "execution_count": 29,
   "id": "96bf2943",
   "metadata": {},
   "outputs": [
    {
     "name": "stdout",
     "output_type": "stream",
     "text": [
      "                       error\n",
      "volumen_cuartil             \n",
      "0                 [58.48562]\n",
      "1                [104.11715]\n",
      "2                [192.54189]\n",
      "3                 [159.3838]\n",
      "4                [307.52478]\n",
      "5                [420.04825]\n",
      "6                 [360.8734]\n",
      "7                [771.74615]\n",
      "8                [1660.9097]\n",
      "9                 [3808.051]\n"
     ]
    }
   ],
   "source": [
    "print(df_final.groupby(\"volumen_cuartil\")[[\"error\"]].sum())"
   ]
  },
  {
   "cell_type": "code",
   "execution_count": 30,
   "id": "37239e0b",
   "metadata": {},
   "outputs": [
    {
     "data": {
      "text/plain": [
       "{0: {'loss': 5.223657131195068, 'mae': 5.252960681915283},\n",
       " 1: {'loss': 5.14612340927124, 'mae': 5.202258110046387},\n",
       " 2: {'loss': 5.2921061515808105, 'mae': 5.452145576477051},\n",
       " 3: {'loss': 2.7693138122558594, 'mae': 2.7694931030273438},\n",
       " 4: {'loss': 2.6786465644836426, 'mae': 2.6946804523468018}}"
      ]
     },
     "execution_count": 30,
     "metadata": {},
     "output_type": "execute_result"
    }
   ],
   "source": [
    "metricas"
   ]
  },
  {
   "cell_type": "code",
   "execution_count": 31,
   "id": "230e5ee0",
   "metadata": {},
   "outputs": [
    {
     "name": "stdout",
     "output_type": "stream",
     "text": [
      "Errores en predicciones: [20127, 20210, 20621, 20662, 20673, 20711, 20720, 20732, 20774, 20827, 20904, 20910, 20912, 20927, 20933, 21006, 21007, 21035, 21039, 21079, 21109, 21111, 21112, 21114, 21119, 21140, 21227] de 780 productos\n"
     ]
    }
   ],
   "source": [
    "df_preds_t2, errores = predecir_todos_t2(\n",
    "    df_features_full=df,\n",
    "    scalers=scalers,\n",
    "    feature_cols=feature_cols,\n",
    "    #window_size=window_size\n",
    ")"
   ]
  },
  {
   "cell_type": "code",
   "execution_count": 32,
   "id": "19d30b6f",
   "metadata": {},
   "outputs": [],
   "source": [
    "total_diciembre = sellin.query(\"periodo == 201912\")[\"tn\"].sum()"
   ]
  },
  {
   "cell_type": "code",
   "execution_count": 52,
   "id": "ec11390c",
   "metadata": {},
   "outputs": [
    {
     "name": "stdout",
     "output_type": "stream",
     "text": [
      "<class 'numpy.float64'>\n",
      "<class 'numpy.float64'>\n",
      "<class 'numpy.float64'>\n",
      "<class 'numpy.float64'>\n",
      "<class 'numpy.float64'>\n",
      "<class 'numpy.float64'>\n",
      "<class 'numpy.float64'>\n",
      "<class 'numpy.float64'>\n",
      "<class 'numpy.float64'>\n",
      "<class 'numpy.float64'>\n",
      "<class 'numpy.float64'>\n",
      "<class 'numpy.float64'>\n",
      "<class 'numpy.float64'>\n",
      "<class 'numpy.float64'>\n",
      "<class 'numpy.float64'>\n",
      "<class 'numpy.float64'>\n",
      "<class 'numpy.float64'>\n",
      "<class 'numpy.float64'>\n",
      "<class 'numpy.float64'>\n",
      "<class 'numpy.float64'>\n",
      "<class 'numpy.float64'>\n",
      "<class 'numpy.float64'>\n",
      "<class 'numpy.float64'>\n",
      "<class 'numpy.float64'>\n",
      "<class 'numpy.float64'>\n",
      "<class 'numpy.float64'>\n",
      "<class 'numpy.float64'>\n",
      "<class 'numpy.float64'>\n",
      "<class 'numpy.float64'>\n",
      "<class 'numpy.float64'>\n",
      "<class 'numpy.float64'>\n",
      "<class 'numpy.float64'>\n",
      "<class 'numpy.float64'>\n",
      "<class 'numpy.float64'>\n",
      "<class 'numpy.float64'>\n",
      "<class 'numpy.float64'>\n",
      "<class 'numpy.float64'>\n",
      "<class 'numpy.float64'>\n",
      "<class 'numpy.float64'>\n",
      "<class 'numpy.float64'>\n",
      "<class 'numpy.float64'>\n",
      "<class 'numpy.float64'>\n",
      "<class 'numpy.float64'>\n",
      "<class 'numpy.float64'>\n",
      "<class 'numpy.float64'>\n",
      "<class 'numpy.float64'>\n",
      "<class 'numpy.float64'>\n"
     ]
    }
   ],
   "source": [
    "productos_ok = pd.read_csv(\"https://storage.googleapis.com/open-courses/austral2025-af91/labo3v/product_id_apredecir201912.txt\", sep=\"\\t\")\n",
    "\n",
    "def aplanar_lista(lista):\n",
    "    lista_plana = []\n",
    "    for elemento in lista:\n",
    "        if isinstance(elemento, np.ndarray):  # Si es una lista, aplana recursivamente\n",
    "            lista_plana.append(elemento[0])  # Tomar el primer elemento de la lista\n",
    "        else:\n",
    "            lista_plana.append(elemento)\n",
    "            print(type(elemento))\n",
    "    return lista_plana\n",
    "\n",
    "\n",
    "\n",
    "pred = pd.DataFrame({\"product_id\": df_preds_t2[\"product_id\"],  \"tn\": df_preds_t2[\"tn_t2_pred\"]})\n",
    "#pred[\"tn\"] = pred[\"tn\"] * total_diciembre/100 *0.9\n",
    "pred = pred[pred[\"product_id\"].isin(productos_ok[\"product_id\"])]\n",
    "result_name = config[\"result_name\"]\n",
    "result_name = \"LSTM_Q5_withmonth_opt\"  # IGNORE\n",
    "# Ejemplo con niveles mixtos\n",
    "pred[\"tn\"] = aplanar_lista(pred[\"tn\"].to_list())  # Asegurar que no haya valores negativos\n",
    "pred.to_csv(f\"{result_name}.csv\", sep=\",\", index=False)"
   ]
  },
  {
   "cell_type": "code",
   "execution_count": 53,
   "id": "b71080c2",
   "metadata": {},
   "outputs": [
    {
     "data": {
      "application/vnd.microsoft.datawrangler.viewer.v0+json": {
       "columns": [
        {
         "name": "index",
         "rawType": "int64",
         "type": "integer"
        },
        {
         "name": "product_id",
         "rawType": "int64",
         "type": "integer"
        },
        {
         "name": "tn",
         "rawType": "float64",
         "type": "float"
        }
       ],
       "ref": "5573004f-ca74-4f89-bec5-7fbe1023b8d8",
       "rows": [
        [
         "0",
         "20001",
         "1387.138916015625"
        ],
        [
         "1",
         "20002",
         "1094.6986083984375"
        ],
        [
         "2",
         "20003",
         "803.6937255859375"
        ],
        [
         "3",
         "20004",
         "649.9755859375"
        ],
        [
         "4",
         "20005",
         "615.4754638671875"
        ],
        [
         "5",
         "20006",
         "506.74859619140625"
        ],
        [
         "6",
         "20007",
         "520.34326171875"
        ],
        [
         "7",
         "20008",
         "498.25372314453125"
        ],
        [
         "8",
         "20009",
         "455.09710693359375"
        ],
        [
         "9",
         "20010",
         "434.9653015136719"
        ],
        [
         "10",
         "20011",
         "392.18133544921875"
        ],
        [
         "11",
         "20012",
         "407.3837585449219"
        ],
        [
         "12",
         "20013",
         "429.9940490722656"
        ],
        [
         "13",
         "20014",
         "439.0591735839844"
        ],
        [
         "14",
         "20015",
         "412.40093994140625"
        ],
        [
         "15",
         "20016",
         "356.48760986328125"
        ],
        [
         "16",
         "20017",
         "313.77215576171875"
        ],
        [
         "17",
         "20018",
         "308.1748352050781"
        ],
        [
         "18",
         "20019",
         "344.4084167480469"
        ],
        [
         "19",
         "20020",
         "287.6722106933594"
        ],
        [
         "20",
         "20021",
         "277.78619384765625"
        ],
        [
         "21",
         "20022",
         "272.91046142578125"
        ],
        [
         "22",
         "20023",
         "271.82415771484375"
        ],
        [
         "23",
         "20024",
         "243.60528564453125"
        ],
        [
         "24",
         "20025",
         "232.86058044433594"
        ],
        [
         "25",
         "20026",
         "259.1834716796875"
        ],
        [
         "26",
         "20027",
         "229.39808654785156"
        ],
        [
         "27",
         "20028",
         "243.5410614013672"
        ],
        [
         "28",
         "20029",
         "202.47088623046875"
        ],
        [
         "29",
         "20030",
         "189.59970092773438"
        ],
        [
         "30",
         "20031",
         "195.62184143066406"
        ],
        [
         "31",
         "20032",
         "601.6483154296875"
        ],
        [
         "32",
         "20033",
         "196.72364807128906"
        ],
        [
         "33",
         "20035",
         "181.77310180664062"
        ],
        [
         "34",
         "20037",
         "114.1134033203125"
        ],
        [
         "35",
         "20038",
         "171.9861297607422"
        ],
        [
         "36",
         "20039",
         "172.2196044921875"
        ],
        [
         "37",
         "20041",
         "165.3304443359375"
        ],
        [
         "38",
         "20042",
         "164.54193115234375"
        ],
        [
         "39",
         "20043",
         "163.2869873046875"
        ],
        [
         "40",
         "20044",
         "163.07119750976562"
        ],
        [
         "41",
         "20045",
         "170.04095458984375"
        ],
        [
         "42",
         "20046",
         "161.0220184326172"
        ],
        [
         "43",
         "20047",
         "158.41946411132812"
        ],
        [
         "44",
         "20049",
         "210.12701416015625"
        ],
        [
         "45",
         "20050",
         "151.56178283691406"
        ],
        [
         "46",
         "20051",
         "157.8042755126953"
        ],
        [
         "47",
         "20052",
         "150.64305114746094"
        ],
        [
         "48",
         "20053",
         "144.06732177734375"
        ],
        [
         "49",
         "20054",
         "138.74012756347656"
        ]
       ],
       "shape": {
        "columns": 2,
        "rows": 780
       }
      },
      "text/html": [
       "<div>\n",
       "<style scoped>\n",
       "    .dataframe tbody tr th:only-of-type {\n",
       "        vertical-align: middle;\n",
       "    }\n",
       "\n",
       "    .dataframe tbody tr th {\n",
       "        vertical-align: top;\n",
       "    }\n",
       "\n",
       "    .dataframe thead th {\n",
       "        text-align: right;\n",
       "    }\n",
       "</style>\n",
       "<table border=\"1\" class=\"dataframe\">\n",
       "  <thead>\n",
       "    <tr style=\"text-align: right;\">\n",
       "      <th></th>\n",
       "      <th>product_id</th>\n",
       "      <th>tn</th>\n",
       "    </tr>\n",
       "  </thead>\n",
       "  <tbody>\n",
       "    <tr>\n",
       "      <th>0</th>\n",
       "      <td>20001</td>\n",
       "      <td>1387.138916</td>\n",
       "    </tr>\n",
       "    <tr>\n",
       "      <th>1</th>\n",
       "      <td>20002</td>\n",
       "      <td>1094.698608</td>\n",
       "    </tr>\n",
       "    <tr>\n",
       "      <th>2</th>\n",
       "      <td>20003</td>\n",
       "      <td>803.693726</td>\n",
       "    </tr>\n",
       "    <tr>\n",
       "      <th>3</th>\n",
       "      <td>20004</td>\n",
       "      <td>649.975586</td>\n",
       "    </tr>\n",
       "    <tr>\n",
       "      <th>4</th>\n",
       "      <td>20005</td>\n",
       "      <td>615.475464</td>\n",
       "    </tr>\n",
       "    <tr>\n",
       "      <th>...</th>\n",
       "      <td>...</td>\n",
       "      <td>...</td>\n",
       "    </tr>\n",
       "    <tr>\n",
       "      <th>775</th>\n",
       "      <td>21263</td>\n",
       "      <td>0.028878</td>\n",
       "    </tr>\n",
       "    <tr>\n",
       "      <th>776</th>\n",
       "      <td>21265</td>\n",
       "      <td>0.042211</td>\n",
       "    </tr>\n",
       "    <tr>\n",
       "      <th>777</th>\n",
       "      <td>21266</td>\n",
       "      <td>0.047471</td>\n",
       "    </tr>\n",
       "    <tr>\n",
       "      <th>778</th>\n",
       "      <td>21267</td>\n",
       "      <td>0.057874</td>\n",
       "    </tr>\n",
       "    <tr>\n",
       "      <th>779</th>\n",
       "      <td>21276</td>\n",
       "      <td>0.020426</td>\n",
       "    </tr>\n",
       "  </tbody>\n",
       "</table>\n",
       "<p>780 rows × 2 columns</p>\n",
       "</div>"
      ],
      "text/plain": [
       "     product_id           tn\n",
       "0         20001  1387.138916\n",
       "1         20002  1094.698608\n",
       "2         20003   803.693726\n",
       "3         20004   649.975586\n",
       "4         20005   615.475464\n",
       "..          ...          ...\n",
       "775       21263     0.028878\n",
       "776       21265     0.042211\n",
       "777       21266     0.047471\n",
       "778       21267     0.057874\n",
       "779       21276     0.020426\n",
       "\n",
       "[780 rows x 2 columns]"
      ]
     },
     "execution_count": 53,
     "metadata": {},
     "output_type": "execute_result"
    }
   ],
   "source": [
    "pred"
   ]
  },
  {
   "cell_type": "code",
   "execution_count": null,
   "id": "38827deb",
   "metadata": {},
   "outputs": [
    {
     "data": {
      "text/plain": [
       "780"
      ]
     },
     "execution_count": 94,
     "metadata": {},
     "output_type": "execute_result"
    }
   ],
   "source": [
    "df_preds_t2[df_preds_t2[\"product_id\"].isin(productos_ok[\"product_id\"])].product_id.nunique()"
   ]
  },
  {
   "cell_type": "code",
   "execution_count": null,
   "id": "461d2c70",
   "metadata": {},
   "outputs": [],
   "source": [
    "pred.drop_duplicates(subset=[\"product_id\"], inplace=True)"
   ]
  },
  {
   "cell_type": "code",
   "execution_count": null,
   "id": "5cf04764",
   "metadata": {},
   "outputs": [
    {
     "data": {
      "application/vnd.microsoft.datawrangler.viewer.v0+json": {
       "columns": [
        {
         "name": "index",
         "rawType": "int64",
         "type": "integer"
        },
        {
         "name": "product_id",
         "rawType": "int64",
         "type": "integer"
        },
        {
         "name": "tn",
         "rawType": "float64",
         "type": "float"
        }
       ],
       "ref": "3fa0bd3a-fac2-46fc-a70d-3048baa2c877",
       "rows": [
        [
         "0",
         "20001",
         "1282.4233693682477"
        ],
        [
         "1",
         "20002",
         "895.8476871741894"
        ],
        [
         "2",
         "20003",
         "712.3729815728595"
        ],
        [
         "3",
         "20004",
         "482.1335385283979"
        ],
        [
         "4",
         "20005",
         "437.6714621909422"
        ],
        [
         "5",
         "20006",
         "408.3545164616612"
        ],
        [
         "6",
         "20007",
         "378.35519543669557"
        ],
        [
         "7",
         "20008",
         "396.21578239410155"
        ],
        [
         "8",
         "20009",
         "424.1584555170208"
        ],
        [
         "9",
         "20010",
         "348.1473651447052"
        ],
        [
         "10",
         "20011",
         "303.8786243323812"
        ],
        [
         "11",
         "20012",
         "270.52896218247236"
        ],
        [
         "12",
         "20013",
         "346.465621130586"
        ],
        [
         "13",
         "20014",
         "352.25246408853064"
        ],
        [
         "14",
         "20015",
         "335.1802533524519"
        ],
        [
         "15",
         "20016",
         "282.1355670594155"
        ],
        [
         "16",
         "20017",
         "237.5023422161591"
        ],
        [
         "17",
         "20018",
         "228.34208380316727"
        ],
        [
         "18",
         "20019",
         "279.84874663212463"
        ],
        [
         "19",
         "20020",
         "246.28254486026523"
        ],
        [
         "20",
         "20021",
         "199.4619442781362"
        ],
        [
         "21",
         "20022",
         "216.84385090047334"
        ],
        [
         "22",
         "20023",
         "204.6940895960426"
        ],
        [
         "23",
         "20024",
         "196.09293389652373"
        ],
        [
         "24",
         "20025",
         "208.28613806650583"
        ],
        [
         "25",
         "20026",
         "204.9713839759545"
        ],
        [
         "26",
         "20027",
         "212.24897881219866"
        ],
        [
         "27",
         "20028",
         "210.1018373805419"
        ],
        [
         "28",
         "20029",
         "153.83777609589873"
        ],
        [
         "29",
         "20030",
         "101.85647963929179"
        ],
        [
         "30",
         "20031",
         "165.5878073446753"
        ],
        [
         "31",
         "20032",
         "530.639969567064"
        ],
        [
         "32",
         "20033",
         "157.51405273851515"
        ],
        [
         "33",
         "20035",
         "166.27208892857163"
        ],
        [
         "34",
         "20037",
         "60.78389589705108"
        ],
        [
         "35",
         "20038",
         "138.84366403676955"
        ],
        [
         "36",
         "20039",
         "128.0939696361297"
        ],
        [
         "37",
         "20041",
         "113.74942791114063"
        ],
        [
         "38",
         "20042",
         "133.74088461536053"
        ],
        [
         "39",
         "20043",
         "124.45342046320468"
        ],
        [
         "40",
         "20044",
         "129.59535294561624"
        ],
        [
         "41",
         "20045",
         "137.54237578942477"
        ],
        [
         "42",
         "20046",
         "119.15065693913166"
        ],
        [
         "43",
         "20047",
         "144.49167703011986"
        ],
        [
         "44",
         "20049",
         "155.47090552755"
        ],
        [
         "45",
         "20050",
         "125.73148065479248"
        ],
        [
         "46",
         "20051",
         "120.85229139062793"
        ],
        [
         "47",
         "20052",
         "107.67640584774018"
        ],
        [
         "48",
         "20053",
         "134.07468867919744"
        ],
        [
         "49",
         "20054",
         "114.47647097480788"
        ]
       ],
       "shape": {
        "columns": 2,
        "rows": 780
       }
      },
      "text/html": [
       "<div>\n",
       "<style scoped>\n",
       "    .dataframe tbody tr th:only-of-type {\n",
       "        vertical-align: middle;\n",
       "    }\n",
       "\n",
       "    .dataframe tbody tr th {\n",
       "        vertical-align: top;\n",
       "    }\n",
       "\n",
       "    .dataframe thead th {\n",
       "        text-align: right;\n",
       "    }\n",
       "</style>\n",
       "<table border=\"1\" class=\"dataframe\">\n",
       "  <thead>\n",
       "    <tr style=\"text-align: right;\">\n",
       "      <th></th>\n",
       "      <th>product_id</th>\n",
       "      <th>tn</th>\n",
       "    </tr>\n",
       "  </thead>\n",
       "  <tbody>\n",
       "    <tr>\n",
       "      <th>0</th>\n",
       "      <td>20001</td>\n",
       "      <td>1282.423369</td>\n",
       "    </tr>\n",
       "    <tr>\n",
       "      <th>1</th>\n",
       "      <td>20002</td>\n",
       "      <td>895.847687</td>\n",
       "    </tr>\n",
       "    <tr>\n",
       "      <th>2</th>\n",
       "      <td>20003</td>\n",
       "      <td>712.372982</td>\n",
       "    </tr>\n",
       "    <tr>\n",
       "      <th>3</th>\n",
       "      <td>20004</td>\n",
       "      <td>482.133539</td>\n",
       "    </tr>\n",
       "    <tr>\n",
       "      <th>4</th>\n",
       "      <td>20005</td>\n",
       "      <td>437.671462</td>\n",
       "    </tr>\n",
       "    <tr>\n",
       "      <th>...</th>\n",
       "      <td>...</td>\n",
       "      <td>...</td>\n",
       "    </tr>\n",
       "    <tr>\n",
       "      <th>775</th>\n",
       "      <td>21263</td>\n",
       "      <td>0.011982</td>\n",
       "    </tr>\n",
       "    <tr>\n",
       "      <th>776</th>\n",
       "      <td>21265</td>\n",
       "      <td>0.024516</td>\n",
       "    </tr>\n",
       "    <tr>\n",
       "      <th>777</th>\n",
       "      <td>21266</td>\n",
       "      <td>0.029611</td>\n",
       "    </tr>\n",
       "    <tr>\n",
       "      <th>778</th>\n",
       "      <td>21267</td>\n",
       "      <td>0.025542</td>\n",
       "    </tr>\n",
       "    <tr>\n",
       "      <th>779</th>\n",
       "      <td>21276</td>\n",
       "      <td>0.045447</td>\n",
       "    </tr>\n",
       "  </tbody>\n",
       "</table>\n",
       "<p>780 rows × 2 columns</p>\n",
       "</div>"
      ],
      "text/plain": [
       "     product_id           tn\n",
       "0         20001  1282.423369\n",
       "1         20002   895.847687\n",
       "2         20003   712.372982\n",
       "3         20004   482.133539\n",
       "4         20005   437.671462\n",
       "..          ...          ...\n",
       "775       21263     0.011982\n",
       "776       21265     0.024516\n",
       "777       21266     0.029611\n",
       "778       21267     0.025542\n",
       "779       21276     0.045447\n",
       "\n",
       "[780 rows x 2 columns]"
      ]
     },
     "execution_count": 96,
     "metadata": {},
     "output_type": "execute_result"
    }
   ],
   "source": [
    "pred"
   ]
  },
  {
   "cell_type": "code",
   "execution_count": null,
   "id": "f9a2ae52",
   "metadata": {},
   "outputs": [],
   "source": []
  }
 ],
 "metadata": {
  "kernelspec": {
   "display_name": "tf",
   "language": "python",
   "name": "python3"
  },
  "language_info": {
   "codemirror_mode": {
    "name": "ipython",
    "version": 3
   },
   "file_extension": ".py",
   "mimetype": "text/x-python",
   "name": "python",
   "nbconvert_exporter": "python",
   "pygments_lexer": "ipython3",
   "version": "3.10.18"
  }
 },
 "nbformat": 4,
 "nbformat_minor": 5
}
