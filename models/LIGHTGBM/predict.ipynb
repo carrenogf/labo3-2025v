{
 "cells": [
  {
   "cell_type": "code",
   "execution_count": 11,
   "id": "56287df7",
   "metadata": {},
   "outputs": [],
   "source": [
    "import pandas as pd\n",
    "from sklearn.preprocessing import LabelEncoder\n",
    "from sklearn.model_selection import train_test_split\n",
    "import lightgbm as lgb\n",
    "import optuna\n"
   ]
  },
  {
   "cell_type": "code",
   "execution_count": null,
   "id": "fc58258b",
   "metadata": {},
   "outputs": [
    {
     "ename": "KeyboardInterrupt",
     "evalue": "",
     "output_type": "error",
     "traceback": [
      "\u001b[1;31m---------------------------------------------------------------------------\u001b[0m",
      "\u001b[1;31mKeyboardInterrupt\u001b[0m                         Traceback (most recent call last)",
      "Cell \u001b[1;32mIn[10], line 58\u001b[0m\n\u001b[0;32m      1\u001b[0m \u001b[38;5;66;03m# Ejemplo: definir manualmente tipos de columnas\u001b[39;00m\n\u001b[0;32m      3\u001b[0m dtype_mapping \u001b[38;5;241m=\u001b[39m {\n\u001b[0;32m      4\u001b[0m     \u001b[38;5;66;03m# IDs - verificados contra los valores máximos\u001b[39;00m\n\u001b[0;32m      5\u001b[0m     \u001b[38;5;124m'\u001b[39m\u001b[38;5;124mproduct_id\u001b[39m\u001b[38;5;124m'\u001b[39m: \u001b[38;5;124m'\u001b[39m\u001b[38;5;124muint16\u001b[39m\u001b[38;5;124m'\u001b[39m,   \u001b[38;5;66;03m# Máx 21299 < 65535\u001b[39;00m\n\u001b[1;32m   (...)\u001b[0m\n\u001b[0;32m     55\u001b[0m     \n\u001b[0;32m     56\u001b[0m }\n\u001b[1;32m---> 58\u001b[0m df \u001b[38;5;241m=\u001b[39m \u001b[43mpd\u001b[49m\u001b[38;5;241;43m.\u001b[39;49m\u001b[43mread_csv\u001b[49m\u001b[43m(\u001b[49m\u001b[38;5;124;43m'\u001b[39;49m\u001b[38;5;124;43m../datasets/dt_fe2.csv\u001b[39;49m\u001b[38;5;124;43m'\u001b[39;49m\u001b[43m,\u001b[49m\u001b[43m \u001b[49m\u001b[43msep\u001b[49m\u001b[38;5;241;43m=\u001b[39;49m\u001b[38;5;124;43m'\u001b[39;49m\u001b[38;5;124;43m,\u001b[39;49m\u001b[38;5;124;43m'\u001b[39;49m\u001b[43m)\u001b[49m\n",
      "File \u001b[1;32mc:\\Users\\carre\\AppData\\Local\\Programs\\Python\\Python312\\Lib\\site-packages\\pandas\\io\\parsers\\readers.py:948\u001b[0m, in \u001b[0;36mread_csv\u001b[1;34m(filepath_or_buffer, sep, delimiter, header, names, index_col, usecols, dtype, engine, converters, true_values, false_values, skipinitialspace, skiprows, skipfooter, nrows, na_values, keep_default_na, na_filter, verbose, skip_blank_lines, parse_dates, infer_datetime_format, keep_date_col, date_parser, date_format, dayfirst, cache_dates, iterator, chunksize, compression, thousands, decimal, lineterminator, quotechar, quoting, doublequote, escapechar, comment, encoding, encoding_errors, dialect, on_bad_lines, delim_whitespace, low_memory, memory_map, float_precision, storage_options, dtype_backend)\u001b[0m\n\u001b[0;32m    935\u001b[0m kwds_defaults \u001b[38;5;241m=\u001b[39m _refine_defaults_read(\n\u001b[0;32m    936\u001b[0m     dialect,\n\u001b[0;32m    937\u001b[0m     delimiter,\n\u001b[1;32m   (...)\u001b[0m\n\u001b[0;32m    944\u001b[0m     dtype_backend\u001b[38;5;241m=\u001b[39mdtype_backend,\n\u001b[0;32m    945\u001b[0m )\n\u001b[0;32m    946\u001b[0m kwds\u001b[38;5;241m.\u001b[39mupdate(kwds_defaults)\n\u001b[1;32m--> 948\u001b[0m \u001b[38;5;28;01mreturn\u001b[39;00m \u001b[43m_read\u001b[49m\u001b[43m(\u001b[49m\u001b[43mfilepath_or_buffer\u001b[49m\u001b[43m,\u001b[49m\u001b[43m \u001b[49m\u001b[43mkwds\u001b[49m\u001b[43m)\u001b[49m\n",
      "File \u001b[1;32mc:\\Users\\carre\\AppData\\Local\\Programs\\Python\\Python312\\Lib\\site-packages\\pandas\\io\\parsers\\readers.py:617\u001b[0m, in \u001b[0;36m_read\u001b[1;34m(filepath_or_buffer, kwds)\u001b[0m\n\u001b[0;32m    614\u001b[0m     \u001b[38;5;28;01mreturn\u001b[39;00m parser\n\u001b[0;32m    616\u001b[0m \u001b[38;5;28;01mwith\u001b[39;00m parser:\n\u001b[1;32m--> 617\u001b[0m     \u001b[38;5;28;01mreturn\u001b[39;00m \u001b[43mparser\u001b[49m\u001b[38;5;241;43m.\u001b[39;49m\u001b[43mread\u001b[49m\u001b[43m(\u001b[49m\u001b[43mnrows\u001b[49m\u001b[43m)\u001b[49m\n",
      "File \u001b[1;32mc:\\Users\\carre\\AppData\\Local\\Programs\\Python\\Python312\\Lib\\site-packages\\pandas\\io\\parsers\\readers.py:1748\u001b[0m, in \u001b[0;36mTextFileReader.read\u001b[1;34m(self, nrows)\u001b[0m\n\u001b[0;32m   1741\u001b[0m nrows \u001b[38;5;241m=\u001b[39m validate_integer(\u001b[38;5;124m\"\u001b[39m\u001b[38;5;124mnrows\u001b[39m\u001b[38;5;124m\"\u001b[39m, nrows)\n\u001b[0;32m   1742\u001b[0m \u001b[38;5;28;01mtry\u001b[39;00m:\n\u001b[0;32m   1743\u001b[0m     \u001b[38;5;66;03m# error: \"ParserBase\" has no attribute \"read\"\u001b[39;00m\n\u001b[0;32m   1744\u001b[0m     (\n\u001b[0;32m   1745\u001b[0m         index,\n\u001b[0;32m   1746\u001b[0m         columns,\n\u001b[0;32m   1747\u001b[0m         col_dict,\n\u001b[1;32m-> 1748\u001b[0m     ) \u001b[38;5;241m=\u001b[39m \u001b[38;5;28;43mself\u001b[39;49m\u001b[38;5;241;43m.\u001b[39;49m\u001b[43m_engine\u001b[49m\u001b[38;5;241;43m.\u001b[39;49m\u001b[43mread\u001b[49m\u001b[43m(\u001b[49m\u001b[43m  \u001b[49m\u001b[38;5;66;43;03m# type: ignore[attr-defined]\u001b[39;49;00m\n\u001b[0;32m   1749\u001b[0m \u001b[43m        \u001b[49m\u001b[43mnrows\u001b[49m\n\u001b[0;32m   1750\u001b[0m \u001b[43m    \u001b[49m\u001b[43m)\u001b[49m\n\u001b[0;32m   1751\u001b[0m \u001b[38;5;28;01mexcept\u001b[39;00m \u001b[38;5;167;01mException\u001b[39;00m:\n\u001b[0;32m   1752\u001b[0m     \u001b[38;5;28mself\u001b[39m\u001b[38;5;241m.\u001b[39mclose()\n",
      "File \u001b[1;32mc:\\Users\\carre\\AppData\\Local\\Programs\\Python\\Python312\\Lib\\site-packages\\pandas\\io\\parsers\\c_parser_wrapper.py:234\u001b[0m, in \u001b[0;36mCParserWrapper.read\u001b[1;34m(self, nrows)\u001b[0m\n\u001b[0;32m    232\u001b[0m \u001b[38;5;28;01mtry\u001b[39;00m:\n\u001b[0;32m    233\u001b[0m     \u001b[38;5;28;01mif\u001b[39;00m \u001b[38;5;28mself\u001b[39m\u001b[38;5;241m.\u001b[39mlow_memory:\n\u001b[1;32m--> 234\u001b[0m         chunks \u001b[38;5;241m=\u001b[39m \u001b[38;5;28;43mself\u001b[39;49m\u001b[38;5;241;43m.\u001b[39;49m\u001b[43m_reader\u001b[49m\u001b[38;5;241;43m.\u001b[39;49m\u001b[43mread_low_memory\u001b[49m\u001b[43m(\u001b[49m\u001b[43mnrows\u001b[49m\u001b[43m)\u001b[49m\n\u001b[0;32m    235\u001b[0m         \u001b[38;5;66;03m# destructive to chunks\u001b[39;00m\n\u001b[0;32m    236\u001b[0m         data \u001b[38;5;241m=\u001b[39m _concatenate_chunks(chunks)\n",
      "File \u001b[1;32mparsers.pyx:843\u001b[0m, in \u001b[0;36mpandas._libs.parsers.TextReader.read_low_memory\u001b[1;34m()\u001b[0m\n",
      "File \u001b[1;32mparsers.pyx:904\u001b[0m, in \u001b[0;36mpandas._libs.parsers.TextReader._read_rows\u001b[1;34m()\u001b[0m\n",
      "File \u001b[1;32mparsers.pyx:879\u001b[0m, in \u001b[0;36mpandas._libs.parsers.TextReader._tokenize_rows\u001b[1;34m()\u001b[0m\n",
      "File \u001b[1;32mparsers.pyx:890\u001b[0m, in \u001b[0;36mpandas._libs.parsers.TextReader._check_tokenize_status\u001b[1;34m()\u001b[0m\n",
      "File \u001b[1;32mparsers.pyx:2050\u001b[0m, in \u001b[0;36mpandas._libs.parsers.raise_parser_error\u001b[1;34m()\u001b[0m\n",
      "File \u001b[1;32m<frozen codecs>:331\u001b[0m, in \u001b[0;36mgetstate\u001b[1;34m(self)\u001b[0m\n",
      "\u001b[1;31mKeyboardInterrupt\u001b[0m: "
     ]
    }
   ],
   "source": [
    "# Ejemplo: definir manualmente tipos de columnas\n",
    "\n",
    "dtype_mapping = {\n",
    "    # IDs - verificados contra los valores máximos\n",
    "    'product_id': 'uint16',   # Máx 21299 < 65535\n",
    "    'customer_id': 'uint16',  # Máx 10637 < 65535\n",
    "    \n",
    "    # Fechas en formato YYYYMM\n",
    "    'periodo': 'uint32',\n",
    "    'nacimiento_producto': 'uint32',\n",
    "    'muerte_cliente': 'uint32',\n",
    "    \n",
    "    # Variables float - convertidas a 32 bits\n",
    "    'periodo_producto': 'float32',\n",
    "    'tn': 'float32',\n",
    "    'cust_request_tn': 'float32',\n",
    "    'lag_1m': 'float32',\n",
    "    'lag_2m': 'float32',\n",
    "    'lag_3m': 'float32',\n",
    "    'lag_11m': 'float32',\n",
    "    'rolling_3m_mean': 'float32',\n",
    "    'rolling_6m_mean': 'float32',\n",
    "    'rolling_12m_mean': 'float32',\n",
    "    'annual_trend': 'float32',\n",
    "    'seasonal_variation': 'float32',\n",
    "    'size_vs_category': 'float32',\n",
    "\n",
    "    \n",
    "    # Variables enteras - ajustadas al rango\n",
    "    'cust_request_qty': 'float32',   # Máx 142 < 255\n",
    "    'sku_size': 'float32',         # Máx 10000 < 65535\n",
    "    \n",
    "    # Variables categóricas\n",
    "    'cat1': 'category',\n",
    "    'cat2': 'category',\n",
    "    'cat3': 'category',\n",
    "    \n",
    "    # variables 2da tanda\n",
    "    # 'tn_por_unidad': 'float32',\n",
    "    # 'ratio_entregado_sobre_pedido': 'float32',\n",
    "    # 'proporcion_producto_en_total_mes': 'float32',\n",
    "    # 'total_cliente_mes': 'float32',\n",
    "    # 'productos_distintos_cliente_mes':'int16',\n",
    "    # 'meses_hasta_muerte_cliente': 'int16',\n",
    "    # 'meses_desde_nacimiento_producto': 'int16',\n",
    "    # 'participacion_producto': 'float32',\n",
    "    # 'trend_3m': 'float32',\n",
    "    # 'modo_6m': 'float32',\n",
    "    # 'freq_compra_12m': 'float32',\n",
    "    # 'freq_compra_6m': 'float32',\n",
    "    # 'freq_compra_3m': 'float32',\n",
    "    # 'periodos_desde_ultima_compra': 'int16',\n",
    "    # 'comprado': 'int8',\n",
    "    \n",
    "    \n",
    "}\n",
    "\n",
    "df = pd.read_csv('../datasets/dt_fe.csv', sep=',')"
   ]
  },
  {
   "cell_type": "code",
   "execution_count": 26,
   "id": "5eded281",
   "metadata": {},
   "outputs": [
    {
     "data": {
      "application/vnd.microsoft.datawrangler.viewer.v0+json": {
       "columns": [
        {
         "name": "index",
         "rawType": "object",
         "type": "string"
        },
        {
         "name": "0",
         "rawType": "object",
         "type": "unknown"
        }
       ],
       "ref": "aa7289d3-965c-4f7c-9bec-e3a125dc3308",
       "rows": [
        [
         "product_id",
         "uint16"
        ],
        [
         "customer_id",
         "uint16"
        ],
        [
         "periodo",
         "uint32"
        ],
        [
         "periodo_producto",
         "float16"
        ],
        [
         "nacimiento_producto",
         "uint32"
        ],
        [
         "muerte_cliente",
         "uint32"
        ],
        [
         "tn",
         "float16"
        ],
        [
         "cust_request_tn",
         "float32"
        ],
        [
         "cust_request_qty",
         "float32"
        ],
        [
         "cat1",
         "int32"
        ],
        [
         "cat2",
         "int32"
        ],
        [
         "cat3",
         "int32"
        ],
        [
         "brand",
         "int32"
        ],
        [
         "sku_size",
         "float32"
        ],
        [
         "stock_final",
         "float32"
        ],
        [
         "plan_precios_cuidados",
         "int32"
        ],
        [
         "target",
         "float32"
        ],
        [
         "month",
         "uint8"
        ],
        [
         "year",
         "uint16"
        ],
        [
         "quarter",
         "uint8"
        ],
        [
         "semester",
         "uint8"
        ],
        [
         "is_month_end",
         "bool"
        ],
        [
         "season",
         "uint8"
        ],
        [
         "size_vs_category",
         "float32"
        ],
        [
         "lag_1m",
         "float32"
        ],
        [
         "lag_2m",
         "float32"
        ],
        [
         "lag_3m",
         "float32"
        ],
        [
         "lag_11m",
         "float32"
        ],
        [
         "rolling_3m_mean",
         "float16"
        ],
        [
         "rolling_6m_mean",
         "float16"
        ],
        [
         "rolling_12m_mean",
         "float16"
        ],
        [
         "annual_trend",
         "float16"
        ],
        [
         "seasonal_variation",
         "float16"
        ],
        [
         "std_6m",
         "float32"
        ],
        [
         "mean_6m",
         "float16"
        ],
        [
         "cv_6m",
         "float32"
        ],
        [
         "comprado",
         "uint8"
        ],
        [
         "periodos_desde_ultima_compra",
         "float16"
        ],
        [
         "freq_compra_3m",
         "float32"
        ],
        [
         "freq_compra_6m",
         "float32"
        ],
        [
         "freq_compra_12m",
         "float32"
        ],
        [
         "modo_6m",
         "float32"
        ],
        [
         "modo_diff",
         "float32"
        ],
        [
         "trend_3m",
         "float32"
        ],
        [
         "media_historica_cliente_producto",
         "float16"
        ],
        [
         "participacion_producto",
         "float16"
        ],
        [
         "stock_vs_venta",
         "float32"
        ],
        [
         "meses_desde_nacimiento",
         "uint8"
        ],
        [
         "meses_hasta_muerte_cliente",
         "uint8"
        ],
        [
         "productos_distintos_cliente_mes",
         "uint16"
        ]
       ],
       "shape": {
        "columns": 1,
        "rows": 54
       }
      },
      "text/plain": [
       "product_id                           uint16\n",
       "customer_id                          uint16\n",
       "periodo                              uint32\n",
       "periodo_producto                    float16\n",
       "nacimiento_producto                  uint32\n",
       "muerte_cliente                       uint32\n",
       "tn                                  float16\n",
       "cust_request_tn                     float32\n",
       "cust_request_qty                    float32\n",
       "cat1                                  int32\n",
       "cat2                                  int32\n",
       "cat3                                  int32\n",
       "brand                                 int32\n",
       "sku_size                            float32\n",
       "stock_final                         float32\n",
       "plan_precios_cuidados                 int32\n",
       "target                              float32\n",
       "month                                 uint8\n",
       "year                                 uint16\n",
       "quarter                               uint8\n",
       "semester                              uint8\n",
       "is_month_end                           bool\n",
       "season                                uint8\n",
       "size_vs_category                    float32\n",
       "lag_1m                              float32\n",
       "lag_2m                              float32\n",
       "lag_3m                              float32\n",
       "lag_11m                             float32\n",
       "rolling_3m_mean                     float16\n",
       "rolling_6m_mean                     float16\n",
       "rolling_12m_mean                    float16\n",
       "annual_trend                        float16\n",
       "seasonal_variation                  float16\n",
       "std_6m                              float32\n",
       "mean_6m                             float16\n",
       "cv_6m                               float32\n",
       "comprado                              uint8\n",
       "periodos_desde_ultima_compra        float16\n",
       "freq_compra_3m                      float32\n",
       "freq_compra_6m                      float32\n",
       "freq_compra_12m                     float32\n",
       "modo_6m                             float32\n",
       "modo_diff                           float32\n",
       "trend_3m                            float32\n",
       "media_historica_cliente_producto    float16\n",
       "participacion_producto              float16\n",
       "stock_vs_venta                      float32\n",
       "meses_desde_nacimiento                uint8\n",
       "meses_hasta_muerte_cliente            uint8\n",
       "productos_distintos_cliente_mes      uint16\n",
       "total_cliente_mes                   float16\n",
       "proporcion_producto_en_total_mes    float16\n",
       "ratio_entregado_sobre_pedido        float32\n",
       "tn_por_unidad                       float32\n",
       "dtype: object"
      ]
     },
     "execution_count": 26,
     "metadata": {},
     "output_type": "execute_result"
    }
   ],
   "source": [
    "df.dtypes"
   ]
  },
  {
   "cell_type": "code",
   "execution_count": 17,
   "id": "96fa2d20",
   "metadata": {},
   "outputs": [
    {
     "name": "stdout",
     "output_type": "stream",
     "text": [
      "Memoria inicial: 6598.18 MB\n",
      "Memoria final:   2382.99 MB\n",
      "Reducción:       63.88%\n"
     ]
    }
   ],
   "source": [
    "def optimize_memory_usage(df, verbose=True, convert_bool=True):\n",
    "    \"\"\"\n",
    "    Optimiza el uso de memoria de un DataFrame reduciendo tipos numéricos, booleanos, categóricos y fechas.\n",
    "    \n",
    "    Parámetros:\n",
    "    -----------\n",
    "    df : pd.DataFrame\n",
    "        DataFrame original a optimizar.\n",
    "    verbose : bool, opcional (default=True)\n",
    "        Si True, muestra información sobre la reducción de memoria.\n",
    "    convert_bool : bool, opcional (default=True)\n",
    "        Si True, convierte columnas binarias a booleanas.\n",
    "    \n",
    "    Retorna:\n",
    "    --------\n",
    "    pd.DataFrame\n",
    "        DataFrame optimizado con tipos de datos reducidos.\n",
    "    \"\"\"\n",
    "    import pandas as pd\n",
    "    import numpy as np\n",
    "\n",
    "    df_optimized = df.copy()\n",
    "    start_mem = df_optimized.memory_usage(deep=True).sum() / 1024**2\n",
    "\n",
    "    for col in df_optimized.columns:\n",
    "        col_type = df_optimized[col].dtypes\n",
    "\n",
    "        if pd.api.types.is_numeric_dtype(col_type):\n",
    "            col_min = df_optimized[col].min()\n",
    "            col_max = df_optimized[col].max()\n",
    "\n",
    "            if pd.api.types.is_integer_dtype(col_type):\n",
    "                if col_min >= 0:\n",
    "                    if col_max <= np.iinfo(np.uint8).max:\n",
    "                        df_optimized[col] = df_optimized[col].astype(np.uint8)\n",
    "                    elif col_max <= np.iinfo(np.uint16).max:\n",
    "                        df_optimized[col] = df_optimized[col].astype(np.uint16)\n",
    "                    elif col_max <= np.iinfo(np.uint32).max:\n",
    "                        df_optimized[col] = df_optimized[col].astype(np.uint32)\n",
    "                    else:\n",
    "                        df_optimized[col] = df_optimized[col].astype(np.uint64)\n",
    "                else:\n",
    "                    if col_min >= np.iinfo(np.int8).min and col_max <= np.iinfo(np.int8).max:\n",
    "                        df_optimized[col] = df_optimized[col].astype(np.int8)\n",
    "                    elif col_min >= np.iinfo(np.int16).min and col_max <= np.iinfo(np.int16).max:\n",
    "                        df_optimized[col] = df_optimized[col].astype(np.int16)\n",
    "                    elif col_min >= np.iinfo(np.int32).min and col_max <= np.iinfo(np.int32).max:\n",
    "                        df_optimized[col] = df_optimized[col].astype(np.int32)\n",
    "                    else:\n",
    "                        df_optimized[col] = df_optimized[col].astype(np.int64)\n",
    "\n",
    "            elif pd.api.types.is_float_dtype(col_type):\n",
    "                if not df_optimized[col].isnull().any():\n",
    "                    if col_min >= np.finfo(np.float16).min and col_max <= np.finfo(np.float16).max:\n",
    "                        df_optimized[col] = df_optimized[col].astype(np.float16)\n",
    "                    elif col_min >= np.finfo(np.float32).min and col_max <= np.finfo(np.float32).max:\n",
    "                        df_optimized[col] = df_optimized[col].astype(np.float32)\n",
    "                    else:\n",
    "                        df_optimized[col] = df_optimized[col].astype(np.float64)\n",
    "                else:\n",
    "                    # Con NaNs, evitamos float16\n",
    "                    if col_min >= np.finfo(np.float32).min and col_max <= np.finfo(np.float32).max:\n",
    "                        df_optimized[col] = df_optimized[col].astype(np.float32)\n",
    "\n",
    "        elif pd.api.types.is_object_dtype(col_type):\n",
    "            num_unique = df_optimized[col].nunique()\n",
    "            num_total = len(df_optimized[col])\n",
    "            if num_unique / num_total < 0.5:\n",
    "                df_optimized[col] = df_optimized[col].astype('category')\n",
    "\n",
    "        elif pd.api.types.is_bool_dtype(col_type):\n",
    "            df_optimized[col] = df_optimized[col].astype('bool')\n",
    "\n",
    "        elif convert_bool and df_optimized[col].dropna().nunique() == 2:\n",
    "            # Convertir columnas binarias a booleanas si no lo son aún\n",
    "            unique_vals = df_optimized[col].dropna().unique()\n",
    "            if set(unique_vals) <= {0, 1} or set(unique_vals) <= {True, False}:\n",
    "                df_optimized[col] = df_optimized[col].astype('bool')\n",
    "\n",
    "        elif pd.api.types.is_datetime64_any_dtype(col_type):\n",
    "            # Ya está optimizada\n",
    "            continue\n",
    "\n",
    "        elif col_type == 'object':\n",
    "            try:\n",
    "                parsed_dates = pd.to_datetime(df_optimized[col], errors='coerce')\n",
    "                if parsed_dates.notna().sum() > 0.9 * len(df_optimized[col]):\n",
    "                    df_optimized[col] = parsed_dates\n",
    "            except Exception:\n",
    "                pass\n",
    "\n",
    "    end_mem = df_optimized.memory_usage(deep=True).sum() / 1024**2\n",
    "\n",
    "    if verbose:\n",
    "        print(f\"Memoria inicial: {start_mem:.2f} MB\")\n",
    "        print(f\"Memoria final:   {end_mem:.2f} MB\")\n",
    "        print(f\"Reducción:       {100 * (start_mem - end_mem) / start_mem:.2f}%\")\n",
    "\n",
    "    return df_optimized\n",
    "# Optimizar el uso de memoria del DataFrame\n",
    "df = optimize_memory_usage(df)"
   ]
  },
  {
   "cell_type": "code",
   "execution_count": 18,
   "id": "874ab677",
   "metadata": {},
   "outputs": [],
   "source": [
    "# Codificar categóricas\n",
    "cat_cols = ['cat1', 'cat2', 'cat3', 'brand', 'plan_precios_cuidados']\n",
    "for col in cat_cols:\n",
    "    if col in df.columns:\n",
    "        le = LabelEncoder()\n",
    "        df[col] = le.fit_transform(df[col].astype(str))\n",
    "        \n",
    "\n",
    "df = df.drop(['periodo_dt'], axis=1, errors='ignore')\n",
    "df_kgl = df[df[\"periodo\"] == 201912]\n",
    "df = df[~df[\"periodo\"].isin([201911, 201912])]\n",
    "# Separar features y target\n",
    "X = df.drop(columns=[\"target\"])\n",
    "y = df[\"target\"]\n",
    "X_train, X_val, y_train, y_val = train_test_split(X, y, test_size=0.2, shuffle=False)"
   ]
  },
  {
   "cell_type": "code",
   "execution_count": 19,
   "id": "816bcf6f",
   "metadata": {},
   "outputs": [
    {
     "name": "stderr",
     "output_type": "stream",
     "text": [
      "[I 2025-06-01 13:47:47,648] Study name was omitted but trying to load 'lightgbm_sin_cv' because that was the only study found in the storage.\n"
     ]
    },
    {
     "name": "stdout",
     "output_type": "stream",
     "text": [
      "Mejores hiperparámetros encontrados:\n",
      "{'num_leaves': 232, 'learning_rate': 0.004648054506981842, 'feature_fraction': 0.5703341269914189, 'bagging_fraction': 0.5990528265244626, 'bagging_freq': 6, 'min_child_samples': 100, 'lambda_l1': 3.392866762405977e-06, 'lambda_l2': 0.0011444820553097982, 'max_depth': 11}\n",
      "Mejor valor objetivo: 0.04338014011658282\n"
     ]
    }
   ],
   "source": [
    "\n",
    "\n",
    "# Ruta a la base de datos\n",
    "DB_PATH = \"optuna_storage/optuna_simple.db\"\n",
    "\n",
    "# Cargar el estudio almacenado\n",
    "study = optuna.load_study(\n",
    "    study_name=None,  # Usar None si solo hay un estudio en la DB, o especificar el nombre\n",
    "    storage=f\"sqlite:///{DB_PATH}\"\n",
    ")\n",
    "\n",
    "# Obtener los mejores hiperparámetros\n",
    "best_params = study.best_params\n",
    "best_value = study.best_value\n",
    "\n",
    "print(\"Mejores hiperparámetros encontrados:\")\n",
    "print(best_params)\n",
    "print(f\"Mejor valor objetivo: {best_value}\")"
   ]
  },
  {
   "cell_type": "code",
   "execution_count": 20,
   "id": "4aa89aa2",
   "metadata": {},
   "outputs": [
    {
     "name": "stdout",
     "output_type": "stream",
     "text": [
      "Predicciones para periodo 201912:\n",
      "[-3.79978071e+01 -3.06113639e+01 -1.14435794e+01 ...  8.67822939e-03\n",
      "  8.67822939e-03  8.67822939e-03]\n"
     ]
    }
   ],
   "source": [
    "\n",
    "# Entrenar con los mejores hiperparámetros\n",
    "best_params = study.best_params.copy()\n",
    "best_params.update({\n",
    "    \"objective\": \"regression\",\n",
    "    \"metric\": \"rmse\",\n",
    "    \"verbosity\": -1,\n",
    "    \"n_jobs\": -1,\n",
    "    \"seed\": 42\n",
    "})\n",
    "\n",
    "# Entrenar una vez el modelo con esos parámetros (ej. sobre X_train si no querés usar todo)\n",
    "model = lgb.train(\n",
    "    #best_params,\n",
    "    {\n",
    "    \"objective\": \"regression\",\n",
    "    \"metric\": \"rmse\",\n",
    "    \"verbosity\": -1,\n",
    "    \"n_jobs\": -1,\n",
    "    \"seed\": 42\n",
    "},\n",
    "    lgb.Dataset(X_train, label=y_train),\n",
    "    valid_sets=[lgb.Dataset(X_val, label=y_val)],\n",
    "    num_boost_round=1000,\n",
    "    callbacks=[lgb.early_stopping(stopping_rounds=50, verbose=False)]\n",
    ")\n",
    "\n",
    "\n",
    "# Asegurar las mismas columnas\n",
    "X_kgl = df_kgl[X.columns]  # Misma estructura\n",
    "\n",
    "# === 9. Hacer predicción sobre nuevos datos ===\n",
    "preds_kgl = model.predict(X_kgl)\n",
    "\n",
    "# Mostrar o guardar resultados\n",
    "print(\"Predicciones para periodo 201912:\")\n",
    "print(preds_kgl)"
   ]
  },
  {
   "cell_type": "code",
   "execution_count": 21,
   "id": "dc82021c",
   "metadata": {},
   "outputs": [
    {
     "data": {
      "application/vnd.microsoft.datawrangler.viewer.v0+json": {
       "columns": [
        {
         "name": "index",
         "rawType": "int64",
         "type": "integer"
        },
        {
         "name": "product_id",
         "rawType": "uint16",
         "type": "integer"
        },
        {
         "name": "tn",
         "rawType": "float64",
         "type": "float"
        }
       ],
       "ref": "f31c3b6d-510b-4522-9135-ba9fee9f36aa",
       "rows": [
        [
         "0",
         "20001",
         "1135.7870955246647"
        ],
        [
         "1",
         "20002",
         "750.3337302180427"
        ],
        [
         "2",
         "20003",
         "589.6393844584256"
        ],
        [
         "3",
         "20004",
         "368.052707909332"
        ],
        [
         "4",
         "20005",
         "293.27364752857403"
        ],
        [
         "5",
         "20006",
         "272.99113780385795"
        ],
        [
         "6",
         "20007",
         "289.36960038414526"
        ],
        [
         "7",
         "20008",
         "186.58448381889713"
        ],
        [
         "8",
         "20009",
         "364.0616104142981"
        ],
        [
         "9",
         "20010",
         "428.1041497554835"
        ],
        [
         "10",
         "20011",
         "261.9861851004004"
        ],
        [
         "11",
         "20012",
         "158.7040474495787"
        ],
        [
         "12",
         "20013",
         "261.7979973023119"
        ],
        [
         "13",
         "20014",
         "262.2217822466638"
        ],
        [
         "14",
         "20015",
         "215.42558054637786"
        ],
        [
         "15",
         "20016",
         "193.43553359886428"
        ],
        [
         "16",
         "20017",
         "138.2192901362825"
        ],
        [
         "17",
         "20018",
         "118.32692470522976"
        ],
        [
         "18",
         "20019",
         "223.66088227200024"
        ],
        [
         "19",
         "20020",
         "362.0402549175738"
        ],
        [
         "20",
         "20021",
         "223.52766784993497"
        ],
        [
         "21",
         "20022",
         "298.6435843455222"
        ],
        [
         "22",
         "20023",
         "150.15216545406935"
        ],
        [
         "23",
         "20024",
         "163.56812180733158"
        ],
        [
         "24",
         "20025",
         "116.35922009011854"
        ],
        [
         "25",
         "20026",
         "142.8865933880775"
        ],
        [
         "26",
         "20027",
         "121.83037699679909"
        ],
        [
         "27",
         "20028",
         "99.46161438457426"
        ],
        [
         "28",
         "20029",
         "78.18805580413799"
        ],
        [
         "29",
         "20030",
         "77.95224338124227"
        ],
        [
         "30",
         "20031",
         "101.06235289489463"
        ],
        [
         "31",
         "20032",
         "360.326986782757"
        ],
        [
         "32",
         "20033",
         "99.02856562218966"
        ],
        [
         "33",
         "20035",
         "100.94740545845823"
        ],
        [
         "34",
         "20037",
         "142.3471898319445"
        ],
        [
         "35",
         "20038",
         "90.5391997375711"
        ],
        [
         "36",
         "20039",
         "69.39909523288364"
        ],
        [
         "37",
         "20041",
         "82.8284289364684"
        ],
        [
         "38",
         "20042",
         "96.96895051446432"
        ],
        [
         "39",
         "20043",
         "79.95653085335204"
        ],
        [
         "40",
         "20044",
         "73.08136137741192"
        ],
        [
         "41",
         "20045",
         "99.79410209766912"
        ],
        [
         "42",
         "20046",
         "103.28042974301923"
        ],
        [
         "43",
         "20047",
         "77.88334630329764"
        ],
        [
         "44",
         "20049",
         "89.71709264542226"
        ],
        [
         "45",
         "20050",
         "73.16385759745383"
        ],
        [
         "46",
         "20051",
         "78.36801080510821"
        ],
        [
         "47",
         "20052",
         "73.94783283795942"
        ],
        [
         "48",
         "20053",
         "91.81688205615738"
        ],
        [
         "49",
         "20054",
         "83.14477606070147"
        ]
       ],
       "shape": {
        "columns": 2,
        "rows": 780
       }
      },
      "text/html": [
       "<div>\n",
       "<style scoped>\n",
       "    .dataframe tbody tr th:only-of-type {\n",
       "        vertical-align: middle;\n",
       "    }\n",
       "\n",
       "    .dataframe tbody tr th {\n",
       "        vertical-align: top;\n",
       "    }\n",
       "\n",
       "    .dataframe thead th {\n",
       "        text-align: right;\n",
       "    }\n",
       "</style>\n",
       "<table border=\"1\" class=\"dataframe\">\n",
       "  <thead>\n",
       "    <tr style=\"text-align: right;\">\n",
       "      <th></th>\n",
       "      <th>product_id</th>\n",
       "      <th>tn</th>\n",
       "    </tr>\n",
       "  </thead>\n",
       "  <tbody>\n",
       "    <tr>\n",
       "      <th>0</th>\n",
       "      <td>20001</td>\n",
       "      <td>1135.787096</td>\n",
       "    </tr>\n",
       "    <tr>\n",
       "      <th>1</th>\n",
       "      <td>20002</td>\n",
       "      <td>750.333730</td>\n",
       "    </tr>\n",
       "    <tr>\n",
       "      <th>2</th>\n",
       "      <td>20003</td>\n",
       "      <td>589.639384</td>\n",
       "    </tr>\n",
       "    <tr>\n",
       "      <th>3</th>\n",
       "      <td>20004</td>\n",
       "      <td>368.052708</td>\n",
       "    </tr>\n",
       "    <tr>\n",
       "      <th>4</th>\n",
       "      <td>20005</td>\n",
       "      <td>293.273648</td>\n",
       "    </tr>\n",
       "    <tr>\n",
       "      <th>...</th>\n",
       "      <td>...</td>\n",
       "      <td>...</td>\n",
       "    </tr>\n",
       "    <tr>\n",
       "      <th>775</th>\n",
       "      <td>21263</td>\n",
       "      <td>3.450091</td>\n",
       "    </tr>\n",
       "    <tr>\n",
       "      <th>776</th>\n",
       "      <td>21265</td>\n",
       "      <td>3.255710</td>\n",
       "    </tr>\n",
       "    <tr>\n",
       "      <th>777</th>\n",
       "      <td>21266</td>\n",
       "      <td>3.256849</td>\n",
       "    </tr>\n",
       "    <tr>\n",
       "      <th>778</th>\n",
       "      <td>21267</td>\n",
       "      <td>3.307555</td>\n",
       "    </tr>\n",
       "    <tr>\n",
       "      <th>779</th>\n",
       "      <td>21276</td>\n",
       "      <td>3.300785</td>\n",
       "    </tr>\n",
       "  </tbody>\n",
       "</table>\n",
       "<p>780 rows × 2 columns</p>\n",
       "</div>"
      ],
      "text/plain": [
       "     product_id           tn\n",
       "0         20001  1135.787096\n",
       "1         20002   750.333730\n",
       "2         20003   589.639384\n",
       "3         20004   368.052708\n",
       "4         20005   293.273648\n",
       "..          ...          ...\n",
       "775       21263     3.450091\n",
       "776       21265     3.255710\n",
       "777       21266     3.256849\n",
       "778       21267     3.307555\n",
       "779       21276     3.300785\n",
       "\n",
       "[780 rows x 2 columns]"
      ]
     },
     "execution_count": 21,
     "metadata": {},
     "output_type": "execute_result"
    }
   ],
   "source": [
    "productos_ok = pd.read_csv(\"https://storage.googleapis.com/open-courses/austral2025-af91/labo3v/product_id_apredecir201912.txt\", sep=\"\\t\")\n",
    "result = pd.DataFrame({\"product_id\": X_kgl[\"product_id\"], \"tn\": X_kgl[\"tn\"],  \"ypred\": preds_kgl})\n",
    "result[\"tn\"] = result[\"ypred\"] + result[\"tn\"]\n",
    "result = result[result[\"product_id\"].isin(productos_ok[\"product_id\"])]\n",
    "result = result.groupby(\"product_id\").agg({\"tn\":\"sum\"}).reset_index()\n",
    "result"
   ]
  },
  {
   "cell_type": "code",
   "execution_count": 22,
   "id": "712f53c2",
   "metadata": {},
   "outputs": [],
   "source": [
    "result.to_csv(\"../results/resultados-01-06_2.csv\", index=False,sep=\",\")"
   ]
  },
  {
   "cell_type": "code",
   "execution_count": 23,
   "id": "9389ea04",
   "metadata": {},
   "outputs": [
    {
     "data": {
      "image/png": "[encoded data removed]",
      "text/plain": [
       "<Figure size 640x480 with 1 Axes>"
      ]
     },
     "metadata": {},
     "output_type": "display_data"
    }
   ],
   "source": [
    "import matplotlib.pyplot as plt\n",
    "from lightgbm import plot_importance  # Importación específica\n",
    "# Visualizar importancia de características\n",
    "plot_importance(model, importance_type='gain', max_num_features=10)  # Usar la función importada\n",
    "plt.show()"
   ]
  },
  {
   "cell_type": "code",
   "execution_count": null,
   "id": "20bc3d11",
   "metadata": {},
   "outputs": [],
   "source": []
  }
 ],
 "metadata": {
  "kernelspec": {
   "display_name": "Python 3",
   "language": "python",
   "name": "python3"
  },
  "language_info": {
   "codemirror_mode": {
    "name": "ipython",
    "version": 3
   },
   "file_extension": ".py",
   "mimetype": "text/x-python",
   "name": "python",
   "nbconvert_exporter": "python",
   "pygments_lexer": "ipython3",
   "version": "3.12.6"
  }
 },
 "nbformat": 4,
 "nbformat_minor": 5
}
