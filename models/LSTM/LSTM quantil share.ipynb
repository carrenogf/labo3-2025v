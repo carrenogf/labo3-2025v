{
 "cells": [
  {
   "cell_type": "code",
   "execution_count": 1,
   "id": "5ee82db2",
   "metadata": {},
   "outputs": [],
   "source": [
    "import pandas as pd\n",
    "import gc\n",
    "import numpy as np\n",
    "from sklearn.preprocessing import StandardScaler, RobustScaler\n",
    "\n",
    "import tensorflow as tf"
   ]
  },
  {
   "cell_type": "code",
   "execution_count": 2,
   "id": "4b3b1e01",
   "metadata": {},
   "outputs": [],
   "source": [
    "config = {\n",
    "        # Arquitectura\n",
    "        \"result_name\": \"lstm_5q_mean\",\n",
    "        \"lstm_units_1\": 64,\n",
    "        \"lstm_units_2\": 32,\n",
    "        \"dense_units\": 16,\n",
    "        \"dropout_rate\": 0.3,\n",
    "        \"seed\": 42,  # Para reproducibilidad\n",
    "        # Entrenamiento\n",
    "        \"epochs\": 150,\n",
    "        \"batch_size\": 64,\n",
    "        \"early_stopping_patience\": 30,\n",
    "        \"learning_rate\": None,  # Si querés usar Adam con tasa específica\n",
    "\n",
    "        # Regularización\n",
    "        \"l2_lambda\": 0.001,\n",
    "\n",
    "        # Optimizador\n",
    "        \"optimizer\": \"rmsprop\",  # adam, sgd, rmsprop, etc.\n",
    "\n",
    "        # Preprocesamiento\n",
    "        \"scaler_name\": \"robust\",  # standard o robust\n",
    "\n",
    "        # Ventana temporal\n",
    "        \"window_size\": 6,\n",
    "        \"feature_cols\" : ['tn', \n",
    "                          \n",
    "                          #'tn_lag1', \n",
    "                          #'tn_lag6', \n",
    "                          #'tn_lag12', \n",
    "                          #'tn_diff1', \n",
    "                          #'tn_diff6',\n",
    "                        #'rolling_mean6', \n",
    "                        #'rolling_std6', \n",
    "                        # 'rolling_max3', \n",
    "                        # 'rolling_min3',\n",
    "                        # 'rolling_max6',\n",
    "                        # 'rolling_min6',\n",
    "                        #\"size\"\n",
    "                        #\"quantil_std\",\n",
    "                        #\"sin_mes\",\n",
    "                        \"quarter\",\n",
    "                        \"month\"\n",
    "                        ],\n",
    "        \"products_to_train\": None,  # Filtrar productos entre 50 y 150\n",
    "    }\n"
   ]
  },
  {
   "cell_type": "code",
   "execution_count": 3,
   "id": "f0ae8ad0",
   "metadata": {},
   "outputs": [],
   "source": [
    "df = pd.read_csv(\"../datasets/sell-in.txt.gz\", sep=\"\\t\")\n",
    "\n",
    "productos_ok = pd.read_csv(\"https://storage.googleapis.com/open-courses/austral2025-af91/labo3v/product_id_apredecir201912.txt\", sep=\"\\t\")\n",
    "\n",
    "df = df[df[\"product_id\"].isin(productos_ok[\"product_id\"])]\n",
    "\n",
    "periodos = df[\"periodo\"].unique()\n",
    "ultimos_6_meses = list(periodos[-6:])\n",
    "std6 = df.query(\"periodo in @ultimos_6_meses\").groupby(\"product_id\")[\"tn\"].std().reset_index().fillna(0)\n",
    "std6.columns = [\"product_id\", \"std6\"]\n",
    "std6.sort_values(by=\"std6\", ascending=False, inplace=True)\n",
    "std6[\"grupo\"] = pd.qcut(std6[\"std6\"], 5, labels=False)\n",
    "productos = list(df[\"product_id\"].unique())\n",
    "productos.sort()\n",
    "# Filtrar productos entre 50 y 150\n",
    "max_std = std6[\"grupo\"].max()\n",
    "#std6.loc[std6[\"product_id\"].isin(productos[:50]), \"grupo\"] = max_std + 1  # Asegurar que los productos filtrados tengan un quantil distinto\n",
    "grupo_dict = {int(r.product_id): int(r.grupo) for i, r in std6.iterrows()}\n",
    "\n"
   ]
  },
  {
   "cell_type": "code",
   "execution_count": 4,
   "id": "355de40c",
   "metadata": {},
   "outputs": [],
   "source": [
    "# import pandas as pd\n",
    "\n",
    "# df = pd.read_csv(\"../datasets/sell-in.txt.gz\", sep=\"\\t\")\n",
    "\n",
    "# # Seleccionar los últimos 6 meses (ajusté a 6 como en el nombre de la variable, aunque tu lista tenía 12)\n",
    "# periodos = df[\"periodo\"].unique()\n",
    "# ultimos_6_meses = list(periodos[-6:])  # Cambiado a 6 para coincidir con el nombre\n",
    "\n",
    "# # Calcular media y desviación estándar para cada producto\n",
    "# stats_6 = df.query(\"periodo in @ultimos_6_meses\").groupby(\"product_id\")[\"tn\"].agg(['std', 'mean']).reset_index().fillna(0)\n",
    "\n",
    "# # Calcular coeficiente de variación (en porcentaje)\n",
    "# stats_6['cv'] = (stats_6['std'] / stats_6['mean']) * 100\n",
    "# # Manejar casos donde la media es 0 (cv infinito)\n",
    "# stats_6['cv'] = stats_6['cv'].replace([float('inf'), -float('inf')], 0)\n",
    "\n",
    "# # Ordenar por CV\n",
    "# stats_6.sort_values(by=\"cv\", ascending=False, inplace=True)\n",
    "\n",
    "# # Crear quantiles basados en el CV\n",
    "# stats_6[\"quantil_cv\"] = pd.qcut(stats_6[\"cv\"], 5, labels=False) \n",
    "\n",
    "# # Crear el diccionario final\n",
    "# cv_dict = {int(r.product_id): int(r.quantil_cv) for i, r in stats_6.iterrows()}"
   ]
  },
  {
   "cell_type": "code",
   "execution_count": 5,
   "id": "57176c07",
   "metadata": {},
   "outputs": [],
   "source": [
    "# Cargar de nuevo por claridad\n",
    "\n",
    "# Agrupar y sumar las toneladas por producto y período\n",
    "df_grouped = df.groupby([\"product_id\", \"periodo\"]).agg({\"tn\": \"sum\"}).reset_index()\n",
    "\n",
    "# Calcular el total de toneladas por período\n",
    "total_por_periodo = df_grouped.groupby(\"periodo\")[\"tn\"].transform(\"sum\")\n",
    "\n",
    "# Calcular la ponderación (porcentaje) de cada producto respecto al total de su período\n",
    "df_grouped[\"tn\"] = (df_grouped[\"tn\"] / total_por_periodo) * 100\n",
    "\n",
    "# Opcional: redondear los resultados para mejor presentación\n",
    "df_grouped[\"tn\"] = df_grouped[\"tn\"].round(2)\n",
    "\n",
    "\n",
    "# Encontrar el primer período para cada producto\n",
    "min_periods = df_grouped.groupby(\"product_id\")[\"periodo\"].min().reset_index()\n",
    "\n",
    "# Crear todas las combinaciones relevantes\n",
    "all_periods = df_grouped[\"periodo\"].unique()\n",
    "all_periods.sort()\n",
    "\n",
    "# Usar un merge cartesiano con filtro posterior\n",
    "df = (\n",
    "    min_periods.merge(pd.DataFrame({\"periodo\": all_periods}), how=\"cross\")\n",
    "    .query(\"periodo_y >= periodo_x\")\n",
    "    .drop(columns=\"periodo_x\")\n",
    "    .rename(columns={\"periodo_y\": \"periodo\"})\n",
    "    .merge(df_grouped, on=[\"product_id\", \"periodo\"], how=\"left\")\n",
    "    .fillna(0)\n",
    "    .sort_values([\"product_id\", \"periodo\"])\n",
    "    .reset_index(drop=True)\n",
    ")"
   ]
  },
  {
   "cell_type": "code",
   "execution_count": 6,
   "id": "6f76caaa",
   "metadata": {},
   "outputs": [
    {
     "name": "stdout",
     "output_type": "stream",
     "text": [
      "(22375, 11)\n"
     ]
    }
   ],
   "source": [
    "\n",
    "\n",
    "# Agregación mensual por producto\n",
    "# df = df.groupby([\"product_id\", \"periodo\"]).agg({\"tn\": \"sum\"}).sort_values([\"product_id\", \"periodo\"]).reset_index()\n",
    "df[\"periodo\"] = pd.to_datetime(df[\"periodo\"], format=\"%Y%m\")\n",
    "\n",
    "# Crear características por producto\n",
    "def agregar_features(df):\n",
    "    df = df.copy()\n",
    "    df = df.sort_values([\"product_id\", \"periodo\"])\n",
    "    # quantil de la desviación estándar de los últimos 6 meses\n",
    "    df[\"grupo\"] = df.product_id.map(grupo_dict).fillna(0)\n",
    "    df[\"grupo\"] = df[\"grupo\"].astype(int)\n",
    "    # Crear features con groupby + transform\n",
    "    df[\"tn_lag1\"] = df.groupby(\"product_id\")[\"tn\"].shift(1)\n",
    "    #df[\"tn_lag6\"] = df.groupby(\"product_id\")[\"tn\"].shift(6)\n",
    "    #df[\"tn_lag12\"] = df.groupby(\"product_id\")[\"tn\"].shift(12)\n",
    "\n",
    "    df[\"tn_diff1\"] = df[\"tn\"] - df[\"tn_lag1\"]\n",
    "    #df[\"tn_diff6\"] = df[\"tn\"] - df[\"tn_lag6\"]\n",
    "    #df[\"size\"] = df.groupby(\"product_id\")[\"tn\"].transform(\"size\")\n",
    "    \n",
    "    df[\"sin_mes\"] = df[\"periodo\"].dt.month.apply(lambda x: np.sin(2 * np.pi * x / 12))\n",
    "    df[\"quarter\"] = df[\"periodo\"].dt.quarter\n",
    "    df[\"month\"] = df[\"periodo\"].dt.month\n",
    "\n",
    "    df[\"rolling_mean6\"] = df.groupby(\"product_id\")[\"tn\"].transform(lambda x: x.shift(1).rolling(6).mean())\n",
    "    df[\"rolling_std6\"] = df.groupby(\"product_id\")[\"tn\"].transform(lambda x: x.shift(1).rolling(6).std())\n",
    "    \n",
    "    # df[\"rolling_max3\"] = df.groupby(\"product_id\")[\"tn\"].transform(lambda x: x.shift(1).rolling(3).max())\n",
    "    # df[\"rolling_min3\"] = df.groupby(\"product_id\")[\"tn\"].transform(lambda x: x.shift(1).rolling(3).min())\n",
    "    # df[\"rolling_max6\"] = df.groupby(\"product_id\")[\"tn\"].transform(lambda x: x.shift(1).rolling(6).max())\n",
    "    # df[\"rolling_min6\"] = df.groupby(\"product_id\")[\"tn\"].transform(lambda x: x.shift(1).rolling(6).min())\n",
    "\n",
    "    return df\n",
    "\n",
    "df_features = agregar_features(df).fillna(0)\n",
    "df = df_features.copy()\n",
    "print(df_features.shape)"
   ]
  },
  {
   "cell_type": "code",
   "execution_count": 7,
   "id": "6f4cac10",
   "metadata": {},
   "outputs": [
    {
     "data": {
      "application/vnd.microsoft.datawrangler.viewer.v0+json": {
       "columns": [
        {
         "name": "index",
         "rawType": "int64",
         "type": "integer"
        },
        {
         "name": "product_id",
         "rawType": "int64",
         "type": "integer"
        },
        {
         "name": "periodo",
         "rawType": "datetime64[ns]",
         "type": "datetime"
        },
        {
         "name": "tn",
         "rawType": "float64",
         "type": "float"
        },
        {
         "name": "grupo",
         "rawType": "int32",
         "type": "integer"
        },
        {
         "name": "tn_lag1",
         "rawType": "float64",
         "type": "float"
        },
        {
         "name": "tn_diff1",
         "rawType": "float64",
         "type": "float"
        },
        {
         "name": "sin_mes",
         "rawType": "float64",
         "type": "float"
        },
        {
         "name": "quarter",
         "rawType": "int32",
         "type": "integer"
        },
        {
         "name": "month",
         "rawType": "int32",
         "type": "integer"
        },
        {
         "name": "rolling_mean6",
         "rawType": "float64",
         "type": "float"
        },
        {
         "name": "rolling_std6",
         "rawType": "float64",
         "type": "float"
        }
       ],
       "ref": "b5cb2efa-9b06-4107-b630-84d751027122",
       "rows": [
        [
         "0",
         "20001",
         "2017-01-01 00:00:00",
         "3.44",
         "4",
         "0.0",
         "0.0",
         "0.49999999999999994",
         "1",
         "1",
         "0.0",
         "0.0"
        ],
        [
         "1",
         "20001",
         "2017-02-01 00:00:00",
         "2.92",
         "4",
         "3.44",
         "-0.52",
         "0.8660254037844386",
         "1",
         "2",
         "0.0",
         "0.0"
        ],
        [
         "2",
         "20001",
         "2017-03-01 00:00:00",
         "3.56",
         "4",
         "2.92",
         "0.6400000000000001",
         "1.0",
         "1",
         "3",
         "0.0",
         "0.0"
        ],
        [
         "3",
         "20001",
         "2017-04-01 00:00:00",
         "3.44",
         "4",
         "3.56",
         "-0.1200000000000001",
         "0.8660254037844387",
         "2",
         "4",
         "0.0",
         "0.0"
        ],
        [
         "4",
         "20001",
         "2017-05-01 00:00:00",
         "4.2",
         "4",
         "3.44",
         "0.7600000000000002",
         "0.49999999999999994",
         "2",
         "5",
         "0.0",
         "0.0"
        ],
        [
         "5",
         "20001",
         "2017-06-01 00:00:00",
         "4.31",
         "4",
         "4.2",
         "0.10999999999999943",
         "1.2246467991473532e-16",
         "2",
         "6",
         "0.0",
         "0.0"
        ],
        [
         "6",
         "20001",
         "2017-07-01 00:00:00",
         "3.5",
         "4",
         "4.31",
         "-0.8099999999999996",
         "-0.4999999999999997",
         "3",
         "7",
         "3.645",
         "0.5229053451629654"
        ],
        [
         "7",
         "20001",
         "2017-08-01 00:00:00",
         "3.92",
         "4",
         "3.5",
         "0.41999999999999993",
         "-0.8660254037844385",
         "3",
         "8",
         "3.655",
         "0.5187581324663739"
        ],
        [
         "8",
         "20001",
         "2017-09-01 00:00:00",
         "3.35",
         "4",
         "3.92",
         "-0.5699999999999998",
         "-1.0",
         "3",
         "9",
         "3.8216666666666668",
         "0.376532424455938"
        ],
        [
         "9",
         "20001",
         "2017-10-01 00:00:00",
         "3.53",
         "4",
         "3.35",
         "0.17999999999999972",
         "-0.8660254037844386",
         "4",
         "10",
         "3.7866666666666666",
         "0.4136504160117171"
        ],
        [
         "10",
         "20001",
         "2017-11-01 00:00:00",
         "4.43",
         "4",
         "3.53",
         "0.8999999999999999",
         "-0.5000000000000004",
         "4",
         "11",
         "3.801666666666667",
         "0.3999708322698877"
        ],
        [
         "11",
         "20001",
         "2017-12-01 00:00:00",
         "3.53",
         "4",
         "4.43",
         "-0.8999999999999999",
         "-2.4492935982947064e-16",
         "4",
         "12",
         "3.84",
         "0.45325489517488937"
        ],
        [
         "12",
         "20001",
         "2018-01-01 00:00:00",
         "4.7",
         "4",
         "3.53",
         "1.1700000000000004",
         "0.49999999999999994",
         "1",
         "1",
         "3.7099999999999995",
         "0.40024992192378983"
        ],
        [
         "13",
         "20001",
         "2018-02-01 00:00:00",
         "3.7",
         "4",
         "4.7",
         "-1.0",
         "0.8660254037844386",
         "1",
         "2",
         "3.91",
         "0.5471745608121783"
        ],
        [
         "14",
         "20001",
         "2018-03-01 00:00:00",
         "4.63",
         "4",
         "3.7",
         "0.9299999999999997",
         "1.0",
         "1",
         "3",
         "3.8733333333333335",
         "0.5537026879713217"
        ],
        [
         "15",
         "20001",
         "2018-04-01 00:00:00",
         "4.07",
         "4",
         "4.63",
         "-0.5599999999999996",
         "0.8660254037844387",
         "2",
         "4",
         "4.086666666666667",
         "0.5583069645514617"
        ],
        [
         "16",
         "20001",
         "2018-05-01 00:00:00",
         "3.78",
         "4",
         "4.07",
         "-0.2900000000000005",
         "0.49999999999999994",
         "2",
         "5",
         "4.176666666666667",
         "0.4899659852139403"
        ],
        [
         "17",
         "20001",
         "2018-06-01 00:00:00",
         "3.83",
         "4",
         "3.78",
         "0.050000000000000266",
         "1.2246467991473532e-16",
         "2",
         "6",
         "4.068333333333334",
         "0.494587370104279"
        ],
        [
         "18",
         "20001",
         "2018-07-01 00:00:00",
         "5.19",
         "4",
         "3.83",
         "1.3600000000000003",
         "-0.4999999999999997",
         "3",
         "7",
         "4.118333333333333",
         "0.4416069141970799"
        ],
        [
         "19",
         "20001",
         "2018-08-01 00:00:00",
         "5.66",
         "4",
         "5.19",
         "0.46999999999999975",
         "-0.8660254037844385",
         "3",
         "8",
         "4.2",
         "0.5907960731081416"
        ],
        [
         "20",
         "20001",
         "2018-09-01 00:00:00",
         "5.01",
         "4",
         "5.66",
         "-0.6500000000000004",
         "-1.0",
         "3",
         "9",
         "4.526666666666666",
         "0.7728561746319093"
        ],
        [
         "21",
         "20001",
         "2018-10-01 00:00:00",
         "7.15",
         "4",
         "5.01",
         "2.1400000000000006",
         "-0.8660254037844386",
         "4",
         "10",
         "4.59",
         "0.7981729135970487"
        ],
        [
         "22",
         "20001",
         "2018-11-01 00:00:00",
         "6.01",
         "4",
         "7.15",
         "-1.1400000000000006",
         "-0.5000000000000004",
         "4",
         "11",
         "5.1033333333333335",
         "1.2559883226633397"
        ],
        [
         "23",
         "20001",
         "2018-12-01 00:00:00",
         "6.19",
         "4",
         "6.01",
         "0.1800000000000006",
         "-2.4492935982947064e-16",
         "4",
         "12",
         "5.4750000000000005",
         "1.1072082008366824"
        ],
        [
         "24",
         "20001",
         "2019-01-01 00:00:00",
         "4.83",
         "4",
         "6.19",
         "-1.3600000000000003",
         "0.49999999999999994",
         "1",
         "1",
         "5.868333333333333",
         "0.7754332122540732"
        ],
        [
         "25",
         "20001",
         "2019-02-01 00:00:00",
         "4.63",
         "4",
         "4.83",
         "-0.20000000000000018",
         "0.8660254037844386",
         "1",
         "2",
         "5.808333333333334",
         "0.8488678735036864"
        ],
        [
         "26",
         "20001",
         "2019-03-01 00:00:00",
         "4.6",
         "4",
         "4.63",
         "-0.03000000000000025",
         "1.0",
         "1",
         "3",
         "5.636666666666667",
         "0.9790335370489973"
        ],
        [
         "27",
         "20001",
         "2019-04-01 00:00:00",
         "5.33",
         "4",
         "4.6",
         "0.7300000000000004",
         "0.8660254037844387",
         "2",
         "4",
         "5.568333333333334",
         "1.0436937609599235"
        ],
        [
         "28",
         "20001",
         "2019-05-01 00:00:00",
         "5.26",
         "4",
         "5.33",
         "-0.07000000000000028",
         "0.49999999999999994",
         "2",
         "5",
         "5.265",
         "0.69993571133355"
        ],
        [
         "29",
         "20001",
         "2019-06-01 00:00:00",
         "3.61",
         "4",
         "5.26",
         "-1.65",
         "1.2246467991473532e-16",
         "2",
         "6",
         "5.14",
         "0.6001333185218117"
        ],
        [
         "30",
         "20001",
         "2019-07-01 00:00:00",
         "5.32",
         "4",
         "3.61",
         "1.7100000000000004",
         "-0.4999999999999997",
         "3",
         "7",
         "4.71",
         "0.6212567907073541"
        ],
        [
         "31",
         "20001",
         "2019-08-01 00:00:00",
         "5.26",
         "4",
         "5.32",
         "-0.0600000000000005",
         "-0.8660254037844385",
         "3",
         "8",
         "4.791666666666667",
         "0.6704451257684465"
        ],
        [
         "32",
         "20001",
         "2019-09-01 00:00:00",
         "5.08",
         "4",
         "5.26",
         "-0.17999999999999972",
         "-1.0",
         "3",
         "9",
         "4.8966666666666665",
         "0.6891347231613483"
        ],
        [
         "33",
         "20001",
         "2019-10-01 00:00:00",
         "4.47",
         "4",
         "5.08",
         "-0.6100000000000003",
         "-0.8660254037844386",
         "4",
         "10",
         "4.976666666666667",
         "0.675534356392529"
        ],
        [
         "34",
         "20001",
         "2019-11-01 00:00:00",
         "4.35",
         "4",
         "4.47",
         "-0.1200000000000001",
         "-0.5000000000000004",
         "4",
         "11",
         "4.833333333333333",
         "0.6768062253456805"
        ],
        [
         "35",
         "20001",
         "2019-12-01 00:00:00",
         "5.98",
         "4",
         "4.35",
         "1.6300000000000008",
         "-2.4492935982947064e-16",
         "4",
         "12",
         "4.681666666666667",
         "0.6639101344810664"
        ],
        [
         "36",
         "20002",
         "2017-01-01 00:00:00",
         "2.02",
         "4",
         "0.0",
         "0.0",
         "0.49999999999999994",
         "1",
         "1",
         "0.0",
         "0.0"
        ],
        [
         "37",
         "20002",
         "2017-02-01 00:00:00",
         "1.85",
         "4",
         "2.02",
         "-0.16999999999999993",
         "0.8660254037844386",
         "1",
         "2",
         "0.0",
         "0.0"
        ],
        [
         "38",
         "20002",
         "2017-03-01 00:00:00",
         "2.28",
         "4",
         "1.85",
         "0.4299999999999997",
         "1.0",
         "1",
         "3",
         "0.0",
         "0.0"
        ],
        [
         "39",
         "20002",
         "2017-04-01 00:00:00",
         "1.68",
         "4",
         "2.28",
         "-0.5999999999999999",
         "0.8660254037844387",
         "2",
         "4",
         "0.0",
         "0.0"
        ],
        [
         "40",
         "20002",
         "2017-05-01 00:00:00",
         "2.36",
         "4",
         "1.68",
         "0.6799999999999999",
         "0.49999999999999994",
         "2",
         "5",
         "0.0",
         "0.0"
        ],
        [
         "41",
         "20002",
         "2017-06-01 00:00:00",
         "2.74",
         "4",
         "2.36",
         "0.38000000000000034",
         "1.2246467991473532e-16",
         "2",
         "6",
         "0.0",
         "0.0"
        ],
        [
         "42",
         "20002",
         "2017-07-01 00:00:00",
         "2.87",
         "4",
         "2.74",
         "0.1299999999999999",
         "-0.4999999999999997",
         "3",
         "7",
         "2.155",
         "0.3838619543533848"
        ],
        [
         "43",
         "20002",
         "2017-08-01 00:00:00",
         "1.92",
         "4",
         "2.87",
         "-0.9500000000000002",
         "-0.8660254037844385",
         "3",
         "8",
         "2.296666666666667",
         "0.471027246204152"
        ],
        [
         "44",
         "20002",
         "2017-09-01 00:00:00",
         "2.71",
         "4",
         "1.92",
         "0.79",
         "-1.0",
         "3",
         "9",
         "2.308333333333333",
         "0.4584502881083911"
        ],
        [
         "45",
         "20002",
         "2017-10-01 00:00:00",
         "2.1",
         "4",
         "2.71",
         "-0.6099999999999999",
         "-0.8660254037844386",
         "4",
         "10",
         "2.38",
         "0.48592180440889876"
        ],
        [
         "46",
         "20002",
         "2017-11-01 00:00:00",
         "2.1",
         "4",
         "2.1",
         "0.0",
         "-0.5000000000000004",
         "4",
         "11",
         "2.4499999999999997",
         "0.38460369212996376"
        ],
        [
         "47",
         "20002",
         "2017-12-01 00:00:00",
         "2.76",
         "4",
         "2.1",
         "0.6599999999999997",
         "-2.4492935982947064e-16",
         "4",
         "12",
         "2.4066666666666667",
         "0.41054435407963735"
        ],
        [
         "48",
         "20002",
         "2018-01-01 00:00:00",
         "3.96",
         "4",
         "2.76",
         "1.2000000000000002",
         "0.49999999999999994",
         "1",
         "1",
         "2.41",
         "0.4138598796694359"
        ],
        [
         "49",
         "20002",
         "2018-02-01 00:00:00",
         "2.53",
         "4",
         "3.96",
         "-1.4300000000000002",
         "0.8660254037844386",
         "1",
         "2",
         "2.5916666666666663",
         "0.7548885127399053"
        ]
       ],
       "shape": {
        "columns": 11,
        "rows": 22375
       }
      },
      "text/html": [
       "<div>\n",
       "<style scoped>\n",
       "    .dataframe tbody tr th:only-of-type {\n",
       "        vertical-align: middle;\n",
       "    }\n",
       "\n",
       "    .dataframe tbody tr th {\n",
       "        vertical-align: top;\n",
       "    }\n",
       "\n",
       "    .dataframe thead th {\n",
       "        text-align: right;\n",
       "    }\n",
       "</style>\n",
       "<table border=\"1\" class=\"dataframe\">\n",
       "  <thead>\n",
       "    <tr style=\"text-align: right;\">\n",
       "      <th></th>\n",
       "      <th>product_id</th>\n",
       "      <th>periodo</th>\n",
       "      <th>tn</th>\n",
       "      <th>grupo</th>\n",
       "      <th>tn_lag1</th>\n",
       "      <th>tn_diff1</th>\n",
       "      <th>sin_mes</th>\n",
       "      <th>quarter</th>\n",
       "      <th>month</th>\n",
       "      <th>rolling_mean6</th>\n",
       "      <th>rolling_std6</th>\n",
       "    </tr>\n",
       "  </thead>\n",
       "  <tbody>\n",
       "    <tr>\n",
       "      <th>0</th>\n",
       "      <td>20001</td>\n",
       "      <td>2017-01-01</td>\n",
       "      <td>3.44</td>\n",
       "      <td>4</td>\n",
       "      <td>0.00</td>\n",
       "      <td>0.00</td>\n",
       "      <td>5.000000e-01</td>\n",
       "      <td>1</td>\n",
       "      <td>1</td>\n",
       "      <td>0.0</td>\n",
       "      <td>0.0</td>\n",
       "    </tr>\n",
       "    <tr>\n",
       "      <th>1</th>\n",
       "      <td>20001</td>\n",
       "      <td>2017-02-01</td>\n",
       "      <td>2.92</td>\n",
       "      <td>4</td>\n",
       "      <td>3.44</td>\n",
       "      <td>-0.52</td>\n",
       "      <td>8.660254e-01</td>\n",
       "      <td>1</td>\n",
       "      <td>2</td>\n",
       "      <td>0.0</td>\n",
       "      <td>0.0</td>\n",
       "    </tr>\n",
       "    <tr>\n",
       "      <th>2</th>\n",
       "      <td>20001</td>\n",
       "      <td>2017-03-01</td>\n",
       "      <td>3.56</td>\n",
       "      <td>4</td>\n",
       "      <td>2.92</td>\n",
       "      <td>0.64</td>\n",
       "      <td>1.000000e+00</td>\n",
       "      <td>1</td>\n",
       "      <td>3</td>\n",
       "      <td>0.0</td>\n",
       "      <td>0.0</td>\n",
       "    </tr>\n",
       "    <tr>\n",
       "      <th>3</th>\n",
       "      <td>20001</td>\n",
       "      <td>2017-04-01</td>\n",
       "      <td>3.44</td>\n",
       "      <td>4</td>\n",
       "      <td>3.56</td>\n",
       "      <td>-0.12</td>\n",
       "      <td>8.660254e-01</td>\n",
       "      <td>2</td>\n",
       "      <td>4</td>\n",
       "      <td>0.0</td>\n",
       "      <td>0.0</td>\n",
       "    </tr>\n",
       "    <tr>\n",
       "      <th>4</th>\n",
       "      <td>20001</td>\n",
       "      <td>2017-05-01</td>\n",
       "      <td>4.20</td>\n",
       "      <td>4</td>\n",
       "      <td>3.44</td>\n",
       "      <td>0.76</td>\n",
       "      <td>5.000000e-01</td>\n",
       "      <td>2</td>\n",
       "      <td>5</td>\n",
       "      <td>0.0</td>\n",
       "      <td>0.0</td>\n",
       "    </tr>\n",
       "    <tr>\n",
       "      <th>...</th>\n",
       "      <td>...</td>\n",
       "      <td>...</td>\n",
       "      <td>...</td>\n",
       "      <td>...</td>\n",
       "      <td>...</td>\n",
       "      <td>...</td>\n",
       "      <td>...</td>\n",
       "      <td>...</td>\n",
       "      <td>...</td>\n",
       "      <td>...</td>\n",
       "      <td>...</td>\n",
       "    </tr>\n",
       "    <tr>\n",
       "      <th>22370</th>\n",
       "      <td>21276</td>\n",
       "      <td>2019-08-01</td>\n",
       "      <td>0.00</td>\n",
       "      <td>0</td>\n",
       "      <td>0.00</td>\n",
       "      <td>0.00</td>\n",
       "      <td>-8.660254e-01</td>\n",
       "      <td>3</td>\n",
       "      <td>8</td>\n",
       "      <td>0.0</td>\n",
       "      <td>0.0</td>\n",
       "    </tr>\n",
       "    <tr>\n",
       "      <th>22371</th>\n",
       "      <td>21276</td>\n",
       "      <td>2019-09-01</td>\n",
       "      <td>0.00</td>\n",
       "      <td>0</td>\n",
       "      <td>0.00</td>\n",
       "      <td>0.00</td>\n",
       "      <td>-1.000000e+00</td>\n",
       "      <td>3</td>\n",
       "      <td>9</td>\n",
       "      <td>0.0</td>\n",
       "      <td>0.0</td>\n",
       "    </tr>\n",
       "    <tr>\n",
       "      <th>22372</th>\n",
       "      <td>21276</td>\n",
       "      <td>2019-10-01</td>\n",
       "      <td>0.00</td>\n",
       "      <td>0</td>\n",
       "      <td>0.00</td>\n",
       "      <td>0.00</td>\n",
       "      <td>-8.660254e-01</td>\n",
       "      <td>4</td>\n",
       "      <td>10</td>\n",
       "      <td>0.0</td>\n",
       "      <td>0.0</td>\n",
       "    </tr>\n",
       "    <tr>\n",
       "      <th>22373</th>\n",
       "      <td>21276</td>\n",
       "      <td>2019-11-01</td>\n",
       "      <td>0.00</td>\n",
       "      <td>0</td>\n",
       "      <td>0.00</td>\n",
       "      <td>0.00</td>\n",
       "      <td>-5.000000e-01</td>\n",
       "      <td>4</td>\n",
       "      <td>11</td>\n",
       "      <td>0.0</td>\n",
       "      <td>0.0</td>\n",
       "    </tr>\n",
       "    <tr>\n",
       "      <th>22374</th>\n",
       "      <td>21276</td>\n",
       "      <td>2019-12-01</td>\n",
       "      <td>0.00</td>\n",
       "      <td>0</td>\n",
       "      <td>0.00</td>\n",
       "      <td>0.00</td>\n",
       "      <td>-2.449294e-16</td>\n",
       "      <td>4</td>\n",
       "      <td>12</td>\n",
       "      <td>0.0</td>\n",
       "      <td>0.0</td>\n",
       "    </tr>\n",
       "  </tbody>\n",
       "</table>\n",
       "<p>22375 rows × 11 columns</p>\n",
       "</div>"
      ],
      "text/plain": [
       "       product_id    periodo    tn  grupo  tn_lag1  tn_diff1       sin_mes  \\\n",
       "0           20001 2017-01-01  3.44      4     0.00      0.00  5.000000e-01   \n",
       "1           20001 2017-02-01  2.92      4     3.44     -0.52  8.660254e-01   \n",
       "2           20001 2017-03-01  3.56      4     2.92      0.64  1.000000e+00   \n",
       "3           20001 2017-04-01  3.44      4     3.56     -0.12  8.660254e-01   \n",
       "4           20001 2017-05-01  4.20      4     3.44      0.76  5.000000e-01   \n",
       "...           ...        ...   ...    ...      ...       ...           ...   \n",
       "22370       21276 2019-08-01  0.00      0     0.00      0.00 -8.660254e-01   \n",
       "22371       21276 2019-09-01  0.00      0     0.00      0.00 -1.000000e+00   \n",
       "22372       21276 2019-10-01  0.00      0     0.00      0.00 -8.660254e-01   \n",
       "22373       21276 2019-11-01  0.00      0     0.00      0.00 -5.000000e-01   \n",
       "22374       21276 2019-12-01  0.00      0     0.00      0.00 -2.449294e-16   \n",
       "\n",
       "       quarter  month  rolling_mean6  rolling_std6  \n",
       "0            1      1            0.0           0.0  \n",
       "1            1      2            0.0           0.0  \n",
       "2            1      3            0.0           0.0  \n",
       "3            2      4            0.0           0.0  \n",
       "4            2      5            0.0           0.0  \n",
       "...        ...    ...            ...           ...  \n",
       "22370        3      8            0.0           0.0  \n",
       "22371        3      9            0.0           0.0  \n",
       "22372        4     10            0.0           0.0  \n",
       "22373        4     11            0.0           0.0  \n",
       "22374        4     12            0.0           0.0  \n",
       "\n",
       "[22375 rows x 11 columns]"
      ]
     },
     "execution_count": 7,
     "metadata": {},
     "output_type": "execute_result"
    }
   ],
   "source": [
    "df_features"
   ]
  },
  {
   "cell_type": "code",
   "execution_count": 8,
   "id": "d921303a",
   "metadata": {},
   "outputs": [
    {
     "name": "stdout",
     "output_type": "stream",
     "text": [
      "(16548, 11)\n"
     ]
    }
   ],
   "source": [
    "# Último período disponible\n",
    "ultimo_mes = df_features[\"periodo\"].max()\n",
    "\n",
    "# Definir los 3 meses anteriores\n",
    "ultimos_3_meses = pd.date_range(end=ultimo_mes - pd.DateOffset(months=1), periods=3, freq='MS')\n",
    "\n",
    "# Filtrar productos con datos en al menos 3 de esos meses\n",
    "df_filtrado = df_features[df_features[\"periodo\"].isin(ultimos_3_meses)]\n",
    "\n",
    "# Contar cuántos meses tiene cada producto\n",
    "conteo_por_producto = df_filtrado[df_filtrado[\"tn\"] > 0].groupby(\"product_id\").size()\n",
    "\n",
    "# Seleccionar productos válidos\n",
    "productos_validos = conteo_por_producto[conteo_por_producto >= 3].index\n",
    "\n",
    "# Filtrar el dataframe original\n",
    "df_features = df_features[df_features[\"product_id\"].isin(productos_validos)].copy()\n",
    "print(df_features.shape)"
   ]
  },
  {
   "cell_type": "code",
   "execution_count": 9,
   "id": "5382a179",
   "metadata": {},
   "outputs": [
    {
     "data": {
      "application/vnd.microsoft.datawrangler.viewer.v0+json": {
       "columns": [
        {
         "name": "index",
         "rawType": "int64",
         "type": "integer"
        },
        {
         "name": "product_id",
         "rawType": "int64",
         "type": "integer"
        },
        {
         "name": "periodo",
         "rawType": "datetime64[ns]",
         "type": "datetime"
        },
        {
         "name": "tn",
         "rawType": "float64",
         "type": "float"
        },
        {
         "name": "grupo",
         "rawType": "int32",
         "type": "integer"
        },
        {
         "name": "tn_lag1",
         "rawType": "float64",
         "type": "float"
        },
        {
         "name": "tn_diff1",
         "rawType": "float64",
         "type": "float"
        },
        {
         "name": "sin_mes",
         "rawType": "float64",
         "type": "float"
        },
        {
         "name": "quarter",
         "rawType": "int32",
         "type": "integer"
        },
        {
         "name": "month",
         "rawType": "int32",
         "type": "integer"
        },
        {
         "name": "rolling_mean6",
         "rawType": "float64",
         "type": "float"
        },
        {
         "name": "rolling_std6",
         "rawType": "float64",
         "type": "float"
        }
       ],
       "ref": "095dd36d-e390-4528-a7b1-73f53fc15bca",
       "rows": [
        [
         "34",
         "20001",
         "2019-11-01 00:00:00",
         "4.35",
         "4",
         "4.47",
         "-0.1200000000000001",
         "-0.5000000000000004",
         "4",
         "11",
         "4.833333333333333",
         "0.6768062253456805"
        ],
        [
         "35",
         "20001",
         "2019-12-01 00:00:00",
         "5.98",
         "4",
         "4.35",
         "1.6300000000000008",
         "-2.4492935982947064e-16",
         "4",
         "12",
         "4.681666666666667",
         "0.6639101344810664"
        ],
        [
         "70",
         "20002",
         "2019-11-01 00:00:00",
         "4.43",
         "4",
         "5.67",
         "-1.2400000000000002",
         "-0.5000000000000004",
         "4",
         "11",
         "3.6899999999999995",
         "0.9799591828234466"
        ],
        [
         "71",
         "20002",
         "2019-12-01 00:00:00",
         "4.32",
         "4",
         "4.43",
         "-0.10999999999999943",
         "-2.4492935982947064e-16",
         "4",
         "12",
         "3.871666666666666",
         "1.0028642314225111"
        ],
        [
         "106",
         "20003",
         "2019-11-01 00:00:00",
         "2.95",
         "4",
         "3.1",
         "-0.1499999999999999",
         "-0.5000000000000004",
         "4",
         "11",
         "2.505",
         "0.475257824764624"
        ],
        [
         "107",
         "20003",
         "2019-12-01 00:00:00",
         "3.55",
         "4",
         "2.95",
         "0.5999999999999996",
         "-2.4492935982947064e-16",
         "4",
         "12",
         "2.6799999999999997",
         "0.3943602414037212"
        ],
        [
         "142",
         "20004",
         "2019-11-01 00:00:00",
         "2.25",
         "4",
         "3.05",
         "-0.7999999999999998",
         "-0.5000000000000004",
         "4",
         "11",
         "2.2049999999999996",
         "0.48256605765428584"
        ],
        [
         "143",
         "20004",
         "2019-12-01 00:00:00",
         "2.54",
         "4",
         "2.25",
         "0.29000000000000004",
         "-2.4492935982947064e-16",
         "4",
         "12",
         "2.255",
         "0.4661223015475654"
        ],
        [
         "178",
         "20005",
         "2019-11-01 00:00:00",
         "1.89",
         "4",
         "2.86",
         "-0.97",
         "-0.5000000000000004",
         "4",
         "11",
         "2.65",
         "0.2829840984931842"
        ],
        [
         "179",
         "20005",
         "2019-12-01 00:00:00",
         "2.36",
         "4",
         "1.89",
         "0.47",
         "-2.4492935982947064e-16",
         "4",
         "12",
         "2.4816666666666665",
         "0.3861303752188716"
        ],
        [
         "214",
         "20006",
         "2019-11-01 00:00:00",
         "1.24",
         "4",
         "1.51",
         "-0.27",
         "-0.5000000000000004",
         "4",
         "11",
         "1.3566666666666667",
         "0.24800537628580843"
        ],
        [
         "215",
         "20006",
         "2019-12-01 00:00:00",
         "1.66",
         "4",
         "1.24",
         "0.41999999999999993",
         "-2.4492935982947064e-16",
         "4",
         "12",
         "1.28",
         "0.18330302779822993"
        ],
        [
         "250",
         "20007",
         "2019-11-01 00:00:00",
         "1.11",
         "4",
         "1.28",
         "-0.16999999999999993",
         "-0.5000000000000004",
         "4",
         "11",
         "1.42",
         "0.28572714256786774"
        ],
        [
         "251",
         "20007",
         "2019-12-01 00:00:00",
         "1.55",
         "4",
         "1.11",
         "0.43999999999999995",
         "-2.4492935982947064e-16",
         "4",
         "12",
         "1.3933333333333333",
         "0.30904152903237003"
        ],
        [
         "286",
         "20008",
         "2019-11-01 00:00:00",
         "1.23",
         "4",
         "1.3",
         "-0.07000000000000006",
         "-0.5000000000000004",
         "4",
         "11",
         "1.3916666666666666",
         "0.3568426357186976"
        ],
        [
         "287",
         "20008",
         "2019-12-01 00:00:00",
         "0.78",
         "4",
         "1.23",
         "-0.44999999999999996",
         "-2.4492935982947064e-16",
         "4",
         "12",
         "1.335",
         "0.34978564864785483"
        ],
        [
         "322",
         "20009",
         "2019-11-01 00:00:00",
         "2.21",
         "4",
         "1.59",
         "0.6199999999999999",
         "-0.5000000000000004",
         "4",
         "11",
         "1.9316666666666666",
         "0.26202417191294713"
        ],
        [
         "323",
         "20009",
         "2019-12-01 00:00:00",
         "1.97",
         "4",
         "2.21",
         "-0.24",
         "-2.4492935982947064e-16",
         "4",
         "12",
         "1.9883333333333333",
         "0.28202245773460244"
        ],
        [
         "358",
         "20010",
         "2019-11-01 00:00:00",
         "1.47",
         "4",
         "1.29",
         "0.17999999999999994",
         "-0.5000000000000004",
         "4",
         "11",
         "1.4116666666666664",
         "0.3725810873711466"
        ],
        [
         "359",
         "20010",
         "2019-12-01 00:00:00",
         "1.43",
         "4",
         "1.47",
         "-0.040000000000000036",
         "-2.4492935982947064e-16",
         "4",
         "12",
         "1.4366666666666665",
         "0.3702251567177276"
        ],
        [
         "394",
         "20011",
         "2019-11-01 00:00:00",
         "0.92",
         "4",
         "1.21",
         "-0.2899999999999999",
         "-0.5000000000000004",
         "4",
         "11",
         "1.2333333333333334",
         "0.1820622604129323"
        ],
        [
         "395",
         "20011",
         "2019-12-01 00:00:00",
         "1.56",
         "4",
         "0.92",
         "0.64",
         "-2.4492935982947064e-16",
         "4",
         "12",
         "1.2316666666666667",
         "0.18540945678866105"
        ],
        [
         "430",
         "20012",
         "2019-11-01 00:00:00",
         "1.11",
         "4",
         "0.81",
         "0.30000000000000004",
         "-0.5000000000000004",
         "4",
         "11",
         "1.0566666666666666",
         "0.22060522810365765"
        ],
        [
         "431",
         "20012",
         "2019-12-01 00:00:00",
         "0.69",
         "4",
         "1.11",
         "-0.42000000000000015",
         "-2.4492935982947064e-16",
         "4",
         "12",
         "1.065",
         "0.22169799277395402"
        ],
        [
         "466",
         "20013",
         "2019-11-01 00:00:00",
         "1.05",
         "4",
         "1.51",
         "-0.45999999999999996",
         "-0.5000000000000004",
         "4",
         "11",
         "1.3800000000000001",
         "0.3489412558010301"
        ],
        [
         "467",
         "20013",
         "2019-12-01 00:00:00",
         "1.27",
         "4",
         "1.05",
         "0.21999999999999997",
         "-2.4492935982947064e-16",
         "4",
         "12",
         "1.33",
         "0.37464650005038064"
        ],
        [
         "502",
         "20014",
         "2019-11-01 00:00:00",
         "1.29",
         "4",
         "1.47",
         "-0.17999999999999994",
         "-0.5000000000000004",
         "4",
         "11",
         "1.4416666666666667",
         "0.19198090182793406"
        ],
        [
         "503",
         "20014",
         "2019-12-01 00:00:00",
         "1.08",
         "4",
         "1.29",
         "-0.20999999999999996",
         "-2.4492935982947064e-16",
         "4",
         "12",
         "1.4216666666666666",
         "0.20193233190023555"
        ],
        [
         "538",
         "20015",
         "2019-11-01 00:00:00",
         "1.0",
         "4",
         "1.35",
         "-0.3500000000000001",
         "-0.5000000000000004",
         "4",
         "11",
         "1.295",
         "0.19685019685029512"
        ],
        [
         "539",
         "20015",
         "2019-12-01 00:00:00",
         "1.18",
         "4",
         "1.0",
         "0.17999999999999994",
         "-2.4492935982947064e-16",
         "4",
         "12",
         "1.2933333333333332",
         "0.19976653039652714"
        ],
        [
         "574",
         "20016",
         "2019-11-01 00:00:00",
         "0.94",
         "4",
         "0.77",
         "0.16999999999999993",
         "-0.5000000000000004",
         "4",
         "11",
         "0.9433333333333334",
         "0.1441758185919763"
        ],
        [
         "575",
         "20016",
         "2019-12-01 00:00:00",
         "1.09",
         "4",
         "0.94",
         "0.15000000000000013",
         "-2.4492935982947064e-16",
         "4",
         "12",
         "0.9400000000000001",
         "0.14394443372357194"
        ],
        [
         "610",
         "20017",
         "2019-11-01 00:00:00",
         "0.67",
         "4",
         "0.87",
         "-0.19999999999999996",
         "-0.5000000000000004",
         "4",
         "11",
         "0.8933333333333332",
         "0.2615084447329892"
        ],
        [
         "611",
         "20017",
         "2019-12-01 00:00:00",
         "0.86",
         "4",
         "0.67",
         "0.18999999999999995",
         "-2.4492935982947064e-16",
         "4",
         "12",
         "0.77",
         "0.08197560612767825"
        ],
        [
         "646",
         "20018",
         "2019-11-01 00:00:00",
         "0.79",
         "4",
         "0.8",
         "-0.010000000000000009",
         "-0.5000000000000004",
         "4",
         "11",
         "0.8166666666666668",
         "0.22624470527874518"
        ],
        [
         "647",
         "20018",
         "2019-12-01 00:00:00",
         "0.56",
         "4",
         "0.79",
         "-0.22999999999999998",
         "-2.4492935982947064e-16",
         "4",
         "12",
         "0.75",
         "0.13461054936370906"
        ],
        [
         "682",
         "20019",
         "2019-11-01 00:00:00",
         "1.17",
         "4",
         "1.31",
         "-0.14000000000000012",
         "-0.5000000000000004",
         "4",
         "11",
         "0.9416666666666668",
         "0.2278961751909557"
        ],
        [
         "683",
         "20019",
         "2019-12-01 00:00:00",
         "1.4",
         "4",
         "1.17",
         "0.22999999999999998",
         "-2.4492935982947064e-16",
         "4",
         "12",
         "1.0216666666666667",
         "0.2049796737890534"
        ],
        [
         "718",
         "20020",
         "2019-11-01 00:00:00",
         "1.0",
         "4",
         "0.69",
         "0.31000000000000005",
         "-0.5000000000000004",
         "4",
         "11",
         "0.8733333333333334",
         "0.1355974434370582"
        ],
        [
         "719",
         "20020",
         "2019-12-01 00:00:00",
         "1.06",
         "4",
         "1.0",
         "0.06000000000000005",
         "-2.4492935982947064e-16",
         "4",
         "12",
         "0.9066666666666666",
         "0.1385159437273061"
        ],
        [
         "754",
         "20021",
         "2019-11-01 00:00:00",
         "0.88",
         "4",
         "0.71",
         "0.17000000000000004",
         "-0.5000000000000004",
         "4",
         "11",
         "0.8916666666666666",
         "0.20370730636544895"
        ],
        [
         "755",
         "20021",
         "2019-12-01 00:00:00",
         "0.81",
         "4",
         "0.88",
         "-0.06999999999999995",
         "-2.4492935982947064e-16",
         "4",
         "12",
         "0.8783333333333333",
         "0.20093946020298473"
        ],
        [
         "790",
         "20022",
         "2019-11-01 00:00:00",
         "1.08",
         "4",
         "0.48",
         "0.6000000000000001",
         "-0.5000000000000004",
         "4",
         "11",
         "1.0016666666666667",
         "0.28477476479959896"
        ],
        [
         "791",
         "20022",
         "2019-12-01 00:00:00",
         "0.84",
         "4",
         "1.08",
         "-0.2400000000000001",
         "-2.4492935982947064e-16",
         "4",
         "12",
         "0.9649999999999999",
         "0.2508186595929422"
        ],
        [
         "826",
         "20023",
         "2019-11-01 00:00:00",
         "0.86",
         "4",
         "1.11",
         "-0.2500000000000001",
         "-0.5000000000000004",
         "4",
         "11",
         "0.9900000000000001",
         "0.13740451229854142"
        ],
        [
         "827",
         "20023",
         "2019-12-01 00:00:00",
         "0.72",
         "4",
         "0.86",
         "-0.14",
         "-2.4492935982947064e-16",
         "4",
         "12",
         "0.9916666666666667",
         "0.1354129486669081"
        ],
        [
         "862",
         "20024",
         "2019-11-01 00:00:00",
         "0.49",
         "4",
         "0.58",
         "-0.08999999999999997",
         "-0.5000000000000004",
         "4",
         "11",
         "0.7233333333333333",
         "0.12404300329590082"
        ],
        [
         "863",
         "20024",
         "2019-12-01 00:00:00",
         "1.08",
         "4",
         "0.49",
         "0.5900000000000001",
         "-2.4492935982947064e-16",
         "4",
         "12",
         "0.705",
         "0.15109599597606885"
        ],
        [
         "898",
         "20025",
         "2019-11-01 00:00:00",
         "0.76",
         "4",
         "0.41",
         "0.35000000000000003",
         "-0.5000000000000004",
         "4",
         "11",
         "0.7050000000000001",
         "0.21049940617493437"
        ],
        [
         "899",
         "20025",
         "2019-12-01 00:00:00",
         "0.96",
         "4",
         "0.76",
         "0.19999999999999996",
         "-2.4492935982947064e-16",
         "4",
         "12",
         "0.7516666666666666",
         "0.179378556875304"
        ]
       ],
       "shape": {
        "columns": 11,
        "rows": 1116
       }
      },
      "text/html": [
       "<div>\n",
       "<style scoped>\n",
       "    .dataframe tbody tr th:only-of-type {\n",
       "        vertical-align: middle;\n",
       "    }\n",
       "\n",
       "    .dataframe tbody tr th {\n",
       "        vertical-align: top;\n",
       "    }\n",
       "\n",
       "    .dataframe thead th {\n",
       "        text-align: right;\n",
       "    }\n",
       "</style>\n",
       "<table border=\"1\" class=\"dataframe\">\n",
       "  <thead>\n",
       "    <tr style=\"text-align: right;\">\n",
       "      <th></th>\n",
       "      <th>product_id</th>\n",
       "      <th>periodo</th>\n",
       "      <th>tn</th>\n",
       "      <th>grupo</th>\n",
       "      <th>tn_lag1</th>\n",
       "      <th>tn_diff1</th>\n",
       "      <th>sin_mes</th>\n",
       "      <th>quarter</th>\n",
       "      <th>month</th>\n",
       "      <th>rolling_mean6</th>\n",
       "      <th>rolling_std6</th>\n",
       "    </tr>\n",
       "  </thead>\n",
       "  <tbody>\n",
       "    <tr>\n",
       "      <th>34</th>\n",
       "      <td>20001</td>\n",
       "      <td>2019-11-01</td>\n",
       "      <td>4.35</td>\n",
       "      <td>4</td>\n",
       "      <td>4.47</td>\n",
       "      <td>-0.12</td>\n",
       "      <td>-5.000000e-01</td>\n",
       "      <td>4</td>\n",
       "      <td>11</td>\n",
       "      <td>4.833333</td>\n",
       "      <td>0.676806</td>\n",
       "    </tr>\n",
       "    <tr>\n",
       "      <th>35</th>\n",
       "      <td>20001</td>\n",
       "      <td>2019-12-01</td>\n",
       "      <td>5.98</td>\n",
       "      <td>4</td>\n",
       "      <td>4.35</td>\n",
       "      <td>1.63</td>\n",
       "      <td>-2.449294e-16</td>\n",
       "      <td>4</td>\n",
       "      <td>12</td>\n",
       "      <td>4.681667</td>\n",
       "      <td>0.663910</td>\n",
       "    </tr>\n",
       "    <tr>\n",
       "      <th>70</th>\n",
       "      <td>20002</td>\n",
       "      <td>2019-11-01</td>\n",
       "      <td>4.43</td>\n",
       "      <td>4</td>\n",
       "      <td>5.67</td>\n",
       "      <td>-1.24</td>\n",
       "      <td>-5.000000e-01</td>\n",
       "      <td>4</td>\n",
       "      <td>11</td>\n",
       "      <td>3.690000</td>\n",
       "      <td>0.979959</td>\n",
       "    </tr>\n",
       "    <tr>\n",
       "      <th>71</th>\n",
       "      <td>20002</td>\n",
       "      <td>2019-12-01</td>\n",
       "      <td>4.32</td>\n",
       "      <td>4</td>\n",
       "      <td>4.43</td>\n",
       "      <td>-0.11</td>\n",
       "      <td>-2.449294e-16</td>\n",
       "      <td>4</td>\n",
       "      <td>12</td>\n",
       "      <td>3.871667</td>\n",
       "      <td>1.002864</td>\n",
       "    </tr>\n",
       "    <tr>\n",
       "      <th>106</th>\n",
       "      <td>20003</td>\n",
       "      <td>2019-11-01</td>\n",
       "      <td>2.95</td>\n",
       "      <td>4</td>\n",
       "      <td>3.10</td>\n",
       "      <td>-0.15</td>\n",
       "      <td>-5.000000e-01</td>\n",
       "      <td>4</td>\n",
       "      <td>11</td>\n",
       "      <td>2.505000</td>\n",
       "      <td>0.475258</td>\n",
       "    </tr>\n",
       "    <tr>\n",
       "      <th>...</th>\n",
       "      <td>...</td>\n",
       "      <td>...</td>\n",
       "      <td>...</td>\n",
       "      <td>...</td>\n",
       "      <td>...</td>\n",
       "      <td>...</td>\n",
       "      <td>...</td>\n",
       "      <td>...</td>\n",
       "      <td>...</td>\n",
       "      <td>...</td>\n",
       "      <td>...</td>\n",
       "    </tr>\n",
       "    <tr>\n",
       "      <th>20405</th>\n",
       "      <td>20995</td>\n",
       "      <td>2019-12-01</td>\n",
       "      <td>0.01</td>\n",
       "      <td>1</td>\n",
       "      <td>0.01</td>\n",
       "      <td>0.00</td>\n",
       "      <td>-2.449294e-16</td>\n",
       "      <td>4</td>\n",
       "      <td>12</td>\n",
       "      <td>0.000000</td>\n",
       "      <td>0.000000</td>\n",
       "    </tr>\n",
       "    <tr>\n",
       "      <th>20508</th>\n",
       "      <td>21007</td>\n",
       "      <td>2019-11-01</td>\n",
       "      <td>0.01</td>\n",
       "      <td>1</td>\n",
       "      <td>0.01</td>\n",
       "      <td>0.00</td>\n",
       "      <td>-5.000000e-01</td>\n",
       "      <td>4</td>\n",
       "      <td>11</td>\n",
       "      <td>0.000000</td>\n",
       "      <td>0.000000</td>\n",
       "    </tr>\n",
       "    <tr>\n",
       "      <th>20509</th>\n",
       "      <td>21007</td>\n",
       "      <td>2019-12-01</td>\n",
       "      <td>0.01</td>\n",
       "      <td>1</td>\n",
       "      <td>0.01</td>\n",
       "      <td>0.00</td>\n",
       "      <td>-2.449294e-16</td>\n",
       "      <td>4</td>\n",
       "      <td>12</td>\n",
       "      <td>0.008333</td>\n",
       "      <td>0.004082</td>\n",
       "    </tr>\n",
       "    <tr>\n",
       "      <th>20805</th>\n",
       "      <td>21035</td>\n",
       "      <td>2019-11-01</td>\n",
       "      <td>0.01</td>\n",
       "      <td>0</td>\n",
       "      <td>0.01</td>\n",
       "      <td>0.00</td>\n",
       "      <td>-5.000000e-01</td>\n",
       "      <td>4</td>\n",
       "      <td>11</td>\n",
       "      <td>0.000000</td>\n",
       "      <td>0.000000</td>\n",
       "    </tr>\n",
       "    <tr>\n",
       "      <th>20806</th>\n",
       "      <td>21035</td>\n",
       "      <td>2019-12-01</td>\n",
       "      <td>0.01</td>\n",
       "      <td>0</td>\n",
       "      <td>0.01</td>\n",
       "      <td>0.00</td>\n",
       "      <td>-2.449294e-16</td>\n",
       "      <td>4</td>\n",
       "      <td>12</td>\n",
       "      <td>0.000000</td>\n",
       "      <td>0.000000</td>\n",
       "    </tr>\n",
       "  </tbody>\n",
       "</table>\n",
       "<p>1116 rows × 11 columns</p>\n",
       "</div>"
      ],
      "text/plain": [
       "       product_id    periodo    tn  grupo  tn_lag1  tn_diff1       sin_mes  \\\n",
       "34          20001 2019-11-01  4.35      4     4.47     -0.12 -5.000000e-01   \n",
       "35          20001 2019-12-01  5.98      4     4.35      1.63 -2.449294e-16   \n",
       "70          20002 2019-11-01  4.43      4     5.67     -1.24 -5.000000e-01   \n",
       "71          20002 2019-12-01  4.32      4     4.43     -0.11 -2.449294e-16   \n",
       "106         20003 2019-11-01  2.95      4     3.10     -0.15 -5.000000e-01   \n",
       "...           ...        ...   ...    ...      ...       ...           ...   \n",
       "20405       20995 2019-12-01  0.01      1     0.01      0.00 -2.449294e-16   \n",
       "20508       21007 2019-11-01  0.01      1     0.01      0.00 -5.000000e-01   \n",
       "20509       21007 2019-12-01  0.01      1     0.01      0.00 -2.449294e-16   \n",
       "20805       21035 2019-11-01  0.01      0     0.01      0.00 -5.000000e-01   \n",
       "20806       21035 2019-12-01  0.01      0     0.01      0.00 -2.449294e-16   \n",
       "\n",
       "       quarter  month  rolling_mean6  rolling_std6  \n",
       "34           4     11       4.833333      0.676806  \n",
       "35           4     12       4.681667      0.663910  \n",
       "70           4     11       3.690000      0.979959  \n",
       "71           4     12       3.871667      1.002864  \n",
       "106          4     11       2.505000      0.475258  \n",
       "...        ...    ...            ...           ...  \n",
       "20405        4     12       0.000000      0.000000  \n",
       "20508        4     11       0.000000      0.000000  \n",
       "20509        4     12       0.008333      0.004082  \n",
       "20805        4     11       0.000000      0.000000  \n",
       "20806        4     12       0.000000      0.000000  \n",
       "\n",
       "[1116 rows x 11 columns]"
      ]
     },
     "execution_count": 9,
     "metadata": {},
     "output_type": "execute_result"
    }
   ],
   "source": [
    "df_test = df_features[df_features[\"periodo\"] == pd.to_datetime(201912, format=\"%Y%m\")].copy()\n",
    "df_features[df_features[\"periodo\"].isin(pd.to_datetime([201911, 201912], format=\"%Y%m\")) ]"
   ]
  },
  {
   "cell_type": "code",
   "execution_count": 10,
   "id": "384dbeff",
   "metadata": {},
   "outputs": [],
   "source": [
    "# ================================\n",
    "# 2. SCALING Y VENTANAS TEMPORALES\n",
    "# ================================\n",
    "\n",
    "window_size = config[\"window_size\"]\n",
    "\n",
    "def get_window_size(q):\n",
    "  window_size = 3 if q >= 3 else 6\n",
    "  return window_size\n",
    "\n",
    "scaler_name = config[\"scaler_name\"]\n",
    "\n",
    "feature_cols = config[\"feature_cols\"]\n",
    "\n",
    "# Agrupar por producto\n",
    "productos = df_features[\"product_id\"].unique()\n",
    "productos = list(productos)\n",
    "scalers = {}  # Guardamos los scalers por producto\n"
   ]
  },
  {
   "cell_type": "code",
   "execution_count": 11,
   "id": "d46a0c19",
   "metadata": {},
   "outputs": [
    {
     "name": "stdout",
     "output_type": "stream",
     "text": [
      "grupo 0: 16 productos, 347 muestras de entrenamiento, 15 muestras de test\n",
      "grupo 1: 96 productos, 1708 muestras de entrenamiento, 77 muestras de test\n",
      "grupo 2: 140 productos, 2418 muestras de entrenamiento, 116 muestras de test\n",
      "grupo 3: 152 productos, 3307 muestras de entrenamiento, 146 muestras de test\n",
      "grupo 4: 154 productos, 3749 muestras de entrenamiento, 146 muestras de test\n"
     ]
    }
   ],
   "source": [
    "\n",
    "# ================================\n",
    "# 3. TRAIN / TEST SPLIT\n",
    "# ================================\n",
    "from sklearn.model_selection import train_test_split\n",
    "grupos = df_features[\"grupo\"].unique()\n",
    "grupos.sort()\n",
    "sets = {}\n",
    "modelos = {}\n",
    "metricas = {}\n",
    "seed = config.get(\"seed\", 42)\n",
    "for grupo in grupos:\n",
    "    window_size = get_window_size(grupo)\n",
    "    df_grupo = df_features[df_features[\"grupo\"] == grupo].copy()\n",
    "    sets[grupo] = {}\n",
    "    X, y, productos_list = [], [], []\n",
    "    periodos = []\n",
    "    productos_train = df_grupo[\"product_id\"].unique()\n",
    "    \n",
    "    for producto in productos_train:\n",
    "        df_prod = df_features[df_features[\"product_id\"] == producto].copy()\n",
    "        df_prod = df_prod.sort_values('periodo')\n",
    "        if len(df_prod) < window_size + 2:\n",
    "            continue\n",
    "\n",
    "        scaler = StandardScaler() if scaler_name == \"standard\" else RobustScaler()\n",
    "        scaled_features = scaler.fit_transform(df_prod[feature_cols])\n",
    "        scalers[producto] = scaler\n",
    "\n",
    "        for i in range(window_size, len(df_prod) - 2):\n",
    "            X.append(scaled_features[i - window_size:i])\n",
    "            y.append(scaled_features[i][0])\n",
    "            productos_list.append(producto)\n",
    "            periodo_target = df_prod.iloc[i + 2][\"periodo\"]\n",
    "            periodos.append(periodo_target)\n",
    "    \n",
    "\n",
    "    \n",
    "    \n",
    "    X = np.array(X)\n",
    "    y = np.array(y).reshape(-1, 1)\n",
    "    productos_list = np.array(productos_list)\n",
    "    periodos = np.array(periodos)\n",
    "\n",
    "    # Ahora sí, aplicá las máscaras\n",
    "    train_mask = periodos <= pd.to_datetime(\"2019-09-30\")\n",
    "    test_mask = periodos == pd.to_datetime(\"2019-10-01\")\n",
    "\n",
    "    X_train, X_test = X[train_mask], X[test_mask]\n",
    "    y_train, y_test = y[train_mask], y[test_mask]\n",
    "    productos_test = productos_list[test_mask]\n",
    "    \n",
    "    sets[grupo][\"X\"] = X\n",
    "    sets[grupo][\"y\"] = y\n",
    "    sets[grupo][\"X_train\"] = X_train\n",
    "    sets[grupo][\"X_test\"] = X_test\n",
    "    sets[grupo][\"y_train\"] = y_train\n",
    "    sets[grupo][\"y_test\"] = y_test\n",
    "    sets[grupo][\"productos_train\"] = productos_train\n",
    "    print(f\"grupo {grupo}: {len(productos_train)} productos, {len(X_train)} muestras de entrenamiento, {len(X_test)} muestras de test\")\n",
    "    \n",
    "    \n",
    "    \n",
    "# ================================\n"
   ]
  },
  {
   "cell_type": "code",
   "execution_count": 12,
   "id": "e8dbdc91",
   "metadata": {},
   "outputs": [
    {
     "name": "stdout",
     "output_type": "stream",
     "text": [
      "Epoch 1/150\n",
      "6/6 [==============================] - 9s 308ms/step - loss: 1.0605 - custom_mape_loss: 1.0346 - val_loss: 1.0451 - val_custom_mape_loss: 1.0163 - lr: 0.0010\n",
      "Epoch 2/150\n",
      "6/6 [==============================] - 0s 32ms/step - loss: 1.0441 - custom_mape_loss: 1.0148 - val_loss: 1.0367 - val_custom_mape_loss: 1.0088 - lr: 0.0010\n",
      "Epoch 3/150\n",
      "6/6 [==============================] - 0s 32ms/step - loss: 1.0332 - custom_mape_loss: 1.0060 - val_loss: 1.0388 - val_custom_mape_loss: 1.0118 - lr: 0.0010\n",
      "Epoch 4/150\n",
      "6/6 [==============================] - 0s 32ms/step - loss: 1.0387 - custom_mape_loss: 1.0109 - val_loss: 1.0266 - val_custom_mape_loss: 1.0005 - lr: 0.0010\n",
      "Epoch 5/150\n",
      "6/6 [==============================] - 0s 31ms/step - loss: 1.0326 - custom_mape_loss: 1.0105 - val_loss: 1.0370 - val_custom_mape_loss: 1.0117 - lr: 0.0010\n",
      "Epoch 6/150\n",
      "6/6 [==============================] - 0s 31ms/step - loss: 1.0333 - custom_mape_loss: 1.0077 - val_loss: 1.0309 - val_custom_mape_loss: 1.0064 - lr: 0.0010\n",
      "Epoch 7/150\n",
      "6/6 [==============================] - 0s 33ms/step - loss: 1.0277 - custom_mape_loss: 1.0036 - val_loss: 1.0248 - val_custom_mape_loss: 1.0011 - lr: 0.0010\n",
      "Epoch 8/150\n",
      "6/6 [==============================] - 0s 32ms/step - loss: 1.0269 - custom_mape_loss: 1.0035 - val_loss: 1.0263 - val_custom_mape_loss: 1.0034 - lr: 0.0010\n",
      "Epoch 9/150\n",
      "6/6 [==============================] - 0s 32ms/step - loss: 1.0257 - custom_mape_loss: 1.0035 - val_loss: 1.0233 - val_custom_mape_loss: 1.0014 - lr: 0.0010\n",
      "Epoch 10/150\n",
      "6/6 [==============================] - 0s 32ms/step - loss: 1.0256 - custom_mape_loss: 1.0036 - val_loss: 1.0232 - val_custom_mape_loss: 1.0022 - lr: 0.0010\n",
      "Epoch 11/150\n",
      "6/6 [==============================] - 0s 31ms/step - loss: 1.0263 - custom_mape_loss: 1.0051 - val_loss: 1.0243 - val_custom_mape_loss: 1.0041 - lr: 0.0010\n",
      "Epoch 12/150\n",
      "6/6 [==============================] - 0s 32ms/step - loss: 1.0234 - custom_mape_loss: 1.0037 - val_loss: 1.0265 - val_custom_mape_loss: 1.0072 - lr: 0.0010\n",
      "Epoch 13/150\n",
      "6/6 [==============================] - 0s 32ms/step - loss: 1.0232 - custom_mape_loss: 1.0041 - val_loss: 1.0189 - val_custom_mape_loss: 1.0006 - lr: 0.0010\n",
      "Epoch 14/150\n",
      "6/6 [==============================] - 0s 32ms/step - loss: 1.0219 - custom_mape_loss: 1.0036 - val_loss: 1.0197 - val_custom_mape_loss: 1.0023 - lr: 0.0010\n",
      "Epoch 15/150\n",
      "6/6 [==============================] - 0s 33ms/step - loss: 1.0208 - custom_mape_loss: 1.0037 - val_loss: 1.0178 - val_custom_mape_loss: 1.0013 - lr: 0.0010\n",
      "Epoch 16/150\n",
      "6/6 [==============================] - 0s 32ms/step - loss: 1.0209 - custom_mape_loss: 1.0045 - val_loss: 1.0172 - val_custom_mape_loss: 1.0016 - lr: 0.0010\n",
      "Epoch 17/150\n",
      "6/6 [==============================] - 0s 31ms/step - loss: 1.0177 - custom_mape_loss: 1.0024 - val_loss: 1.0184 - val_custom_mape_loss: 1.0037 - lr: 0.0010\n",
      "Epoch 18/150\n",
      "6/6 [==============================] - 0s 32ms/step - loss: 1.0171 - custom_mape_loss: 1.0027 - val_loss: 1.0161 - val_custom_mape_loss: 1.0022 - lr: 0.0010\n",
      "Epoch 19/150\n",
      "6/6 [==============================] - 0s 31ms/step - loss: 1.0158 - custom_mape_loss: 1.0021 - val_loss: 1.0170 - val_custom_mape_loss: 1.0039 - lr: 0.0010\n",
      "Epoch 20/150\n",
      "6/6 [==============================] - 0s 32ms/step - loss: 1.0159 - custom_mape_loss: 1.0029 - val_loss: 1.0147 - val_custom_mape_loss: 1.0024 - lr: 0.0010\n",
      "Epoch 21/150\n",
      "6/6 [==============================] - 0s 33ms/step - loss: 1.0143 - custom_mape_loss: 1.0023 - val_loss: 1.0125 - val_custom_mape_loss: 1.0009 - lr: 0.0010\n",
      "Epoch 22/150\n",
      "6/6 [==============================] - 0s 32ms/step - loss: 1.0140 - custom_mape_loss: 1.0024 - val_loss: 1.0112 - val_custom_mape_loss: 1.0004 - lr: 0.0010\n",
      "Epoch 23/150\n",
      "6/6 [==============================] - 0s 31ms/step - loss: 1.0123 - custom_mape_loss: 1.0016 - val_loss: 1.0129 - val_custom_mape_loss: 1.0027 - lr: 0.0010\n",
      "Epoch 24/150\n",
      "6/6 [==============================] - 0s 31ms/step - loss: 1.0120 - custom_mape_loss: 1.0021 - val_loss: 1.0136 - val_custom_mape_loss: 1.0041 - lr: 0.0010\n",
      "Epoch 25/150\n",
      "6/6 [==============================] - 0s 33ms/step - loss: 1.0132 - custom_mape_loss: 1.0037 - val_loss: 1.0098 - val_custom_mape_loss: 1.0010 - lr: 0.0010\n",
      "Epoch 26/150\n",
      "6/6 [==============================] - 0s 32ms/step - loss: 1.0102 - custom_mape_loss: 1.0015 - val_loss: 1.0097 - val_custom_mape_loss: 1.0016 - lr: 0.0010\n",
      "Epoch 27/150\n",
      "6/6 [==============================] - 0s 31ms/step - loss: 1.0094 - custom_mape_loss: 1.0014 - val_loss: 1.0086 - val_custom_mape_loss: 1.0011 - lr: 0.0010\n",
      "Epoch 28/150\n",
      "6/6 [==============================] - 0s 31ms/step - loss: 1.0090 - custom_mape_loss: 1.0016 - val_loss: 1.0081 - val_custom_mape_loss: 1.0011 - lr: 0.0010\n",
      "Epoch 29/150\n",
      "6/6 [==============================] - 0s 31ms/step - loss: 1.0098 - custom_mape_loss: 1.0043 - val_loss: 1.0097 - val_custom_mape_loss: 1.0033 - lr: 0.0010\n",
      "Epoch 30/150\n",
      "6/6 [==============================] - 0s 32ms/step - loss: 1.0087 - custom_mape_loss: 1.0023 - val_loss: 1.0063 - val_custom_mape_loss: 1.0005 - lr: 0.0010\n",
      "Epoch 31/150\n",
      "6/6 [==============================] - 0s 31ms/step - loss: 1.0066 - custom_mape_loss: 1.0009 - val_loss: 1.0070 - val_custom_mape_loss: 1.0016 - lr: 0.0010\n",
      "Epoch 32/150\n",
      "6/6 [==============================] - 0s 31ms/step - loss: 1.0065 - custom_mape_loss: 1.0015 - val_loss: 1.0086 - val_custom_mape_loss: 1.0038 - lr: 0.0010\n",
      "Epoch 33/150\n",
      "6/6 [==============================] - 0s 31ms/step - loss: 1.0068 - custom_mape_loss: 1.0022 - val_loss: 1.0074 - val_custom_mape_loss: 1.0030 - lr: 0.0010\n",
      "Epoch 34/150\n",
      "6/6 [==============================] - 0s 39ms/step - loss: 1.0063 - custom_mape_loss: 1.0020 - val_loss: 1.0042 - val_custom_mape_loss: 1.0003 - lr: 0.0010\n",
      "Epoch 35/150\n",
      "6/6 [==============================] - 0s 33ms/step - loss: 1.0052 - custom_mape_loss: 1.0015 - val_loss: 1.0055 - val_custom_mape_loss: 1.0020 - lr: 0.0010\n",
      "Epoch 36/150\n",
      "6/6 [==============================] - 0s 33ms/step - loss: 1.0052 - custom_mape_loss: 1.0019 - val_loss: 1.0041 - val_custom_mape_loss: 1.0009 - lr: 0.0010\n",
      "Epoch 37/150\n",
      "6/6 [==============================] - 0s 32ms/step - loss: 1.0049 - custom_mape_loss: 1.0017 - val_loss: 1.0039 - val_custom_mape_loss: 1.0010 - lr: 0.0010\n",
      "Epoch 38/150\n",
      "6/6 [==============================] - 0s 31ms/step - loss: 1.0045 - custom_mape_loss: 1.0018 - val_loss: 1.0051 - val_custom_mape_loss: 1.0025 - lr: 0.0010\n",
      "Epoch 39/150\n",
      "6/6 [==============================] - 0s 32ms/step - loss: 1.0052 - custom_mape_loss: 1.0026 - val_loss: 1.0038 - val_custom_mape_loss: 1.0015 - lr: 0.0010\n",
      "Epoch 40/150\n",
      "6/6 [==============================] - 0s 33ms/step - loss: 1.0035 - custom_mape_loss: 1.0012 - val_loss: 1.0037 - val_custom_mape_loss: 1.0017 - lr: 0.0010\n",
      "Epoch 41/150\n",
      "6/6 [==============================] - 0s 31ms/step - loss: 1.0035 - custom_mape_loss: 1.0017 - val_loss: 1.0043 - val_custom_mape_loss: 1.0024 - lr: 0.0010\n",
      "Epoch 42/150\n",
      "6/6 [==============================] - 0s 33ms/step - loss: 1.0034 - custom_mape_loss: 1.0017 - val_loss: 1.0031 - val_custom_mape_loss: 1.0015 - lr: 0.0010\n",
      "Epoch 43/150\n",
      "6/6 [==============================] - 0s 32ms/step - loss: 1.0038 - custom_mape_loss: 1.0023 - val_loss: 1.0016 - val_custom_mape_loss: 1.0002 - lr: 0.0010\n",
      "Epoch 44/150\n",
      "6/6 [==============================] - 0s 30ms/step - loss: 1.0029 - custom_mape_loss: 1.0021 - val_loss: 1.0024 - val_custom_mape_loss: 1.0012 - lr: 0.0010\n",
      "Epoch 45/150\n",
      "6/6 [==============================] - 0s 32ms/step - loss: 1.0023 - custom_mape_loss: 1.0013 - val_loss: 1.0019 - val_custom_mape_loss: 1.0008 - lr: 0.0010\n",
      "Epoch 46/150\n",
      "6/6 [==============================] - 0s 31ms/step - loss: 1.0024 - custom_mape_loss: 1.0014 - val_loss: 1.0035 - val_custom_mape_loss: 1.0026 - lr: 0.0010\n",
      "Epoch 47/150\n",
      "6/6 [==============================] - 0s 32ms/step - loss: 1.0027 - custom_mape_loss: 1.0022 - val_loss: 1.0009 - val_custom_mape_loss: 1.0001 - lr: 0.0010\n",
      "Epoch 48/150\n",
      "6/6 [==============================] - 0s 31ms/step - loss: 1.0020 - custom_mape_loss: 1.0012 - val_loss: 1.0013 - val_custom_mape_loss: 1.0006 - lr: 0.0010\n",
      "Epoch 49/150\n",
      "6/6 [==============================] - 0s 31ms/step - loss: 1.0034 - custom_mape_loss: 1.0026 - val_loss: 1.0021 - val_custom_mape_loss: 1.0015 - lr: 0.0010\n",
      "Epoch 50/150\n",
      "6/6 [==============================] - 0s 30ms/step - loss: 1.0021 - custom_mape_loss: 1.0015 - val_loss: 1.0017 - val_custom_mape_loss: 1.0012 - lr: 0.0010\n",
      "Epoch 51/150\n",
      "6/6 [==============================] - 0s 31ms/step - loss: 1.0017 - custom_mape_loss: 1.0013 - val_loss: 1.0056 - val_custom_mape_loss: 1.0051 - lr: 0.0010\n",
      "Epoch 52/150\n",
      "6/6 [==============================] - 0s 31ms/step - loss: 1.0034 - custom_mape_loss: 1.0036 - val_loss: 1.0061 - val_custom_mape_loss: 1.0057 - lr: 0.0010\n",
      "Epoch 53/150\n",
      "6/6 [==============================] - 0s 31ms/step - loss: 1.0057 - custom_mape_loss: 1.0050 - val_loss: 1.0006 - val_custom_mape_loss: 1.0003 - lr: 0.0010\n",
      "Epoch 54/150\n",
      "6/6 [==============================] - 0s 31ms/step - loss: 1.0011 - custom_mape_loss: 1.0008 - val_loss: 1.0015 - val_custom_mape_loss: 1.0012 - lr: 0.0010\n",
      "Epoch 55/150\n",
      "6/6 [==============================] - 0s 30ms/step - loss: 1.0015 - custom_mape_loss: 1.0013 - val_loss: 1.0018 - val_custom_mape_loss: 1.0015 - lr: 0.0010\n",
      "Epoch 56/150\n",
      "6/6 [==============================] - 0s 30ms/step - loss: 1.0016 - custom_mape_loss: 1.0012 - val_loss: 1.0010 - val_custom_mape_loss: 1.0008 - lr: 0.0010\n",
      "Epoch 57/150\n",
      "6/6 [==============================] - 0s 32ms/step - loss: 1.0014 - custom_mape_loss: 1.0011 - val_loss: 1.0015 - val_custom_mape_loss: 1.0013 - lr: 0.0010\n",
      "Epoch 58/150\n",
      "6/6 [==============================] - 0s 31ms/step - loss: 1.0031 - custom_mape_loss: 1.0034 - val_loss: 1.0010 - val_custom_mape_loss: 1.0008 - lr: 0.0010\n",
      "Epoch 59/150\n",
      "6/6 [==============================] - 0s 31ms/step - loss: 1.0024 - custom_mape_loss: 1.0022 - val_loss: 1.0013 - val_custom_mape_loss: 1.0012 - lr: 0.0010\n",
      "Epoch 60/150\n",
      "6/6 [==============================] - 0s 32ms/step - loss: 1.0014 - custom_mape_loss: 1.0012 - val_loss: 1.0002 - val_custom_mape_loss: 1.0001 - lr: 0.0010\n",
      "Epoch 61/150\n",
      "6/6 [==============================] - 0s 32ms/step - loss: 1.0015 - custom_mape_loss: 1.0012 - val_loss: 1.0014 - val_custom_mape_loss: 1.0013 - lr: 0.0010\n",
      "Epoch 62/150\n",
      "6/6 [==============================] - 0s 32ms/step - loss: 1.0015 - custom_mape_loss: 1.0013 - val_loss: 1.0001 - val_custom_mape_loss: 1.0001 - lr: 0.0010\n",
      "Epoch 63/150\n",
      "6/6 [==============================] - 0s 31ms/step - loss: 1.0013 - custom_mape_loss: 1.0014 - val_loss: 1.0014 - val_custom_mape_loss: 1.0013 - lr: 0.0010\n",
      "Epoch 64/150\n",
      "6/6 [==============================] - 0s 31ms/step - loss: 1.0023 - custom_mape_loss: 1.0022 - val_loss: 1.0012 - val_custom_mape_loss: 1.0012 - lr: 0.0010\n",
      "Epoch 65/150\n",
      "6/6 [==============================] - 0s 32ms/step - loss: 1.0015 - custom_mape_loss: 1.0015 - val_loss: 1.0009 - val_custom_mape_loss: 1.0009 - lr: 0.0010\n",
      "Epoch 66/150\n",
      "6/6 [==============================] - 0s 30ms/step - loss: 1.0017 - custom_mape_loss: 1.0020 - val_loss: 1.0026 - val_custom_mape_loss: 1.0026 - lr: 0.0010\n",
      "Epoch 67/150\n",
      "6/6 [==============================] - 0s 31ms/step - loss: 1.0015 - custom_mape_loss: 1.0015 - val_loss: 1.0007 - val_custom_mape_loss: 1.0006 - lr: 0.0010\n",
      "Epoch 68/150\n",
      "6/6 [==============================] - 0s 31ms/step - loss: 1.0016 - custom_mape_loss: 1.0015 - val_loss: 1.0042 - val_custom_mape_loss: 1.0042 - lr: 0.0010\n",
      "Epoch 69/150\n",
      "6/6 [==============================] - 0s 32ms/step - loss: 1.0025 - custom_mape_loss: 1.0024 - val_loss: 1.0017 - val_custom_mape_loss: 1.0016 - lr: 0.0010\n",
      "Epoch 70/150\n",
      "6/6 [==============================] - 0s 32ms/step - loss: 1.0015 - custom_mape_loss: 1.0016 - val_loss: 1.0044 - val_custom_mape_loss: 1.0044 - lr: 0.0010\n",
      "Epoch 71/150\n",
      "6/6 [==============================] - 0s 30ms/step - loss: 1.0026 - custom_mape_loss: 1.0025 - val_loss: 1.0013 - val_custom_mape_loss: 1.0012 - lr: 0.0010\n",
      "Epoch 72/150\n",
      "6/6 [==============================] - 0s 31ms/step - loss: 1.0013 - custom_mape_loss: 1.0012 - val_loss: 1.0005 - val_custom_mape_loss: 1.0004 - lr: 0.0010\n",
      "Epoch 73/150\n",
      "6/6 [==============================] - 0s 31ms/step - loss: 1.0015 - custom_mape_loss: 1.0017 - val_loss: 1.0047 - val_custom_mape_loss: 1.0047 - lr: 0.0010\n",
      "Epoch 74/150\n",
      "6/6 [==============================] - 0s 31ms/step - loss: 1.0033 - custom_mape_loss: 1.0031 - val_loss: 1.0000 - val_custom_mape_loss: 1.0000 - lr: 0.0010\n",
      "Epoch 75/150\n",
      "6/6 [==============================] - 0s 31ms/step - loss: 1.0018 - custom_mape_loss: 1.0016 - val_loss: 1.0016 - val_custom_mape_loss: 1.0015 - lr: 0.0010\n",
      "Epoch 76/150\n",
      "6/6 [==============================] - 0s 31ms/step - loss: 1.0012 - custom_mape_loss: 1.0012 - val_loss: 1.0017 - val_custom_mape_loss: 1.0017 - lr: 0.0010\n",
      "Epoch 77/150\n",
      "6/6 [==============================] - 0s 30ms/step - loss: 1.0017 - custom_mape_loss: 1.0016 - val_loss: 1.0002 - val_custom_mape_loss: 1.0001 - lr: 0.0010\n",
      "Epoch 78/150\n",
      "6/6 [==============================] - 0s 31ms/step - loss: 1.0012 - custom_mape_loss: 1.0012 - val_loss: 1.0011 - val_custom_mape_loss: 1.0011 - lr: 0.0010\n",
      "Epoch 79/150\n",
      "6/6 [==============================] - 0s 31ms/step - loss: 1.0023 - custom_mape_loss: 1.0020 - val_loss: 1.0012 - val_custom_mape_loss: 1.0012 - lr: 0.0010\n",
      "Epoch 80/150\n",
      "6/6 [==============================] - 0s 31ms/step - loss: 1.0016 - custom_mape_loss: 1.0017 - val_loss: 1.0005 - val_custom_mape_loss: 1.0005 - lr: 0.0010\n",
      "Epoch 81/150\n",
      "6/6 [==============================] - 0s 31ms/step - loss: 1.0014 - custom_mape_loss: 1.0013 - val_loss: 1.0018 - val_custom_mape_loss: 1.0018 - lr: 0.0010\n",
      "Epoch 82/150\n",
      "6/6 [==============================] - 0s 31ms/step - loss: 1.0019 - custom_mape_loss: 1.0024 - val_loss: 1.0020 - val_custom_mape_loss: 1.0019 - lr: 0.0010\n",
      "Epoch 83/150\n",
      "6/6 [==============================] - 0s 31ms/step - loss: 1.0010 - custom_mape_loss: 1.0011 - val_loss: 1.0002 - val_custom_mape_loss: 1.0002 - lr: 0.0010\n",
      "Epoch 84/150\n",
      "6/6 [==============================] - 0s 31ms/step - loss: 1.0039 - custom_mape_loss: 1.0034 - val_loss: 1.0020 - val_custom_mape_loss: 1.0019 - lr: 0.0010\n",
      "Epoch 85/150\n",
      "6/6 [==============================] - 0s 34ms/step - loss: 1.0011 - custom_mape_loss: 1.0009 - val_loss: 1.0020 - val_custom_mape_loss: 1.0020 - lr: 0.0010\n",
      "Epoch 86/150\n",
      "6/6 [==============================] - 0s 31ms/step - loss: 1.0017 - custom_mape_loss: 1.0016 - val_loss: 1.0008 - val_custom_mape_loss: 1.0008 - lr: 0.0010\n",
      "Epoch 87/150\n",
      "6/6 [==============================] - 0s 31ms/step - loss: 1.0014 - custom_mape_loss: 1.0012 - val_loss: 1.0010 - val_custom_mape_loss: 1.0010 - lr: 0.0010\n",
      "Epoch 88/150\n",
      "6/6 [==============================] - 0s 32ms/step - loss: 1.0019 - custom_mape_loss: 1.0018 - val_loss: 1.0013 - val_custom_mape_loss: 1.0012 - lr: 0.0010\n",
      "Epoch 89/150\n",
      "6/6 [==============================] - 0s 31ms/step - loss: 1.0014 - custom_mape_loss: 1.0017 - val_loss: 1.0002 - val_custom_mape_loss: 1.0002 - lr: 0.0010\n",
      "Epoch 90/150\n",
      "6/6 [==============================] - 0s 31ms/step - loss: 0.9999 - custom_mape_loss: 0.9999 - val_loss: 1.0003 - val_custom_mape_loss: 1.0003 - lr: 1.0000e-04\n",
      "Epoch 91/150\n",
      "6/6 [==============================] - 0s 31ms/step - loss: 0.9999 - custom_mape_loss: 0.9998 - val_loss: 1.0002 - val_custom_mape_loss: 1.0002 - lr: 1.0000e-04\n",
      "Epoch 92/150\n",
      "6/6 [==============================] - 0s 31ms/step - loss: 0.9997 - custom_mape_loss: 0.9996 - val_loss: 1.0001 - val_custom_mape_loss: 1.0001 - lr: 1.0000e-04\n",
      "Epoch 93/150\n",
      "6/6 [==============================] - 0s 31ms/step - loss: 0.9998 - custom_mape_loss: 0.9998 - val_loss: 1.0001 - val_custom_mape_loss: 1.0000 - lr: 1.0000e-04\n",
      "Epoch 94/150\n",
      "6/6 [==============================] - 0s 31ms/step - loss: 1.0000 - custom_mape_loss: 1.0001 - val_loss: 1.0004 - val_custom_mape_loss: 1.0003 - lr: 1.0000e-04\n",
      "Epoch 95/150\n",
      "6/6 [==============================] - 0s 31ms/step - loss: 0.9996 - custom_mape_loss: 0.9996 - val_loss: 1.0002 - val_custom_mape_loss: 1.0002 - lr: 1.0000e-04\n",
      "Epoch 96/150\n",
      "6/6 [==============================] - 0s 31ms/step - loss: 0.9999 - custom_mape_loss: 1.0002 - val_loss: 1.0006 - val_custom_mape_loss: 1.0006 - lr: 1.0000e-04\n",
      "Epoch 97/150\n",
      "6/6 [==============================] - 0s 30ms/step - loss: 0.9998 - custom_mape_loss: 0.9999 - val_loss: 1.0002 - val_custom_mape_loss: 1.0002 - lr: 1.0000e-04\n",
      "Epoch 98/150\n",
      "6/6 [==============================] - 0s 31ms/step - loss: 0.9996 - custom_mape_loss: 0.9996 - val_loss: 1.0001 - val_custom_mape_loss: 1.0001 - lr: 1.0000e-04\n",
      "Epoch 99/150\n",
      "6/6 [==============================] - 0s 32ms/step - loss: 0.9993 - custom_mape_loss: 0.9991 - val_loss: 1.0003 - val_custom_mape_loss: 1.0003 - lr: 1.0000e-04\n",
      "Epoch 100/150\n",
      "6/6 [==============================] - 0s 30ms/step - loss: 0.9993 - custom_mape_loss: 0.9993 - val_loss: 1.0003 - val_custom_mape_loss: 1.0003 - lr: 1.0000e-04\n",
      "Epoch 101/150\n",
      "6/6 [==============================] - 0s 32ms/step - loss: 0.9992 - custom_mape_loss: 0.9990 - val_loss: 1.0001 - val_custom_mape_loss: 1.0001 - lr: 1.0000e-04\n",
      "Epoch 102/150\n",
      "6/6 [==============================] - 0s 30ms/step - loss: 0.9992 - custom_mape_loss: 0.9994 - val_loss: 1.0002 - val_custom_mape_loss: 1.0001 - lr: 1.0000e-04\n",
      "Epoch 103/150\n",
      "6/6 [==============================] - 0s 30ms/step - loss: 0.9995 - custom_mape_loss: 0.9993 - val_loss: 1.0001 - val_custom_mape_loss: 1.0001 - lr: 1.0000e-04\n",
      "Epoch 104/150\n",
      "6/6 [==============================] - 0s 36ms/step - loss: 0.9996 - custom_mape_loss: 1.0001 - val_loss: 1.0004 - val_custom_mape_loss: 1.0004 - lr: 1.0000e-04\n",
      "Epoch 1/150\n",
      "27/27 [==============================] - 7s 73ms/step - loss: 1.0330 - custom_mape_loss: 1.0051 - val_loss: 29207.6035 - val_custom_mape_loss: 86497.3984 - lr: 0.0010\n",
      "Epoch 2/150\n",
      "27/27 [==============================] - 1s 23ms/step - loss: 1.0238 - custom_mape_loss: 1.0013 - val_loss: 39602.7188 - val_custom_mape_loss: 117282.9531 - lr: 0.0010\n",
      "Epoch 3/150\n",
      "27/27 [==============================] - 1s 22ms/step - loss: 1.0186 - custom_mape_loss: 1.0011 - val_loss: 7025.9951 - val_custom_mape_loss: 20805.7461 - lr: 0.0010\n",
      "Epoch 4/150\n",
      "27/27 [==============================] - 1s 22ms/step - loss: 1.0139 - custom_mape_loss: 1.0008 - val_loss: 12736.9883 - val_custom_mape_loss: 37719.0859 - lr: 0.0010\n",
      "Epoch 5/150\n",
      "27/27 [==============================] - 1s 23ms/step - loss: 1.0101 - custom_mape_loss: 1.0007 - val_loss: 8170.6616 - val_custom_mape_loss: 24195.7441 - lr: 0.0010\n",
      "Epoch 6/150\n",
      "27/27 [==============================] - 1s 23ms/step - loss: 1.0070 - custom_mape_loss: 1.0006 - val_loss: 13812.9170 - val_custom_mape_loss: 40905.5078 - lr: 0.0010\n",
      "Epoch 7/150\n",
      "27/27 [==============================] - 1s 21ms/step - loss: 1.0047 - custom_mape_loss: 1.0006 - val_loss: 9985.2676 - val_custom_mape_loss: 29569.7812 - lr: 0.0010\n",
      "Epoch 8/150\n",
      "27/27 [==============================] - 1s 22ms/step - loss: 1.0030 - custom_mape_loss: 1.0005 - val_loss: 5552.2358 - val_custom_mape_loss: 16441.1934 - lr: 0.0010\n",
      "Epoch 9/150\n",
      "27/27 [==============================] - 1s 22ms/step - loss: 1.0020 - custom_mape_loss: 1.0006 - val_loss: 16295.2871 - val_custom_mape_loss: 48257.1562 - lr: 0.0010\n",
      "Epoch 10/150\n",
      "27/27 [==============================] - 1s 22ms/step - loss: 1.0012 - custom_mape_loss: 1.0006 - val_loss: 2861.9490 - val_custom_mape_loss: 8473.8096 - lr: 0.0010\n",
      "Epoch 11/150\n",
      "27/27 [==============================] - 1s 23ms/step - loss: 1.0009 - custom_mape_loss: 1.0006 - val_loss: 4682.5435 - val_custom_mape_loss: 13865.5703 - lr: 0.0010\n",
      "Epoch 12/150\n",
      "27/27 [==============================] - 1s 22ms/step - loss: 1.0006 - custom_mape_loss: 1.0005 - val_loss: 17996.2285 - val_custom_mape_loss: 53294.5586 - lr: 0.0010\n",
      "Epoch 13/150\n",
      "27/27 [==============================] - 1s 22ms/step - loss: 1.0007 - custom_mape_loss: 1.0006 - val_loss: 31.4897 - val_custom_mape_loss: 91.2964 - lr: 0.0010\n",
      "Epoch 14/150\n",
      "27/27 [==============================] - 1s 23ms/step - loss: 1.0006 - custom_mape_loss: 1.0005 - val_loss: 10532.2266 - val_custom_mape_loss: 31189.6289 - lr: 0.0010\n",
      "Epoch 15/150\n",
      "27/27 [==============================] - 1s 23ms/step - loss: 1.0006 - custom_mape_loss: 1.0005 - val_loss: 24434.8438 - val_custom_mape_loss: 72362.7656 - lr: 0.0010\n",
      "Epoch 16/150\n",
      "27/27 [==============================] - 1s 22ms/step - loss: 1.0005 - custom_mape_loss: 1.0005 - val_loss: 7181.8960 - val_custom_mape_loss: 21267.5000 - lr: 0.0010\n",
      "Epoch 17/150\n",
      "27/27 [==============================] - 1s 22ms/step - loss: 1.0005 - custom_mape_loss: 1.0005 - val_loss: 41.9170 - val_custom_mape_loss: 122.1773 - lr: 0.0010\n",
      "Epoch 18/150\n",
      "27/27 [==============================] - 1s 24ms/step - loss: 1.0006 - custom_mape_loss: 1.0005 - val_loss: 4902.7012 - val_custom_mape_loss: 14517.5762 - lr: 0.0010\n",
      "Epoch 19/150\n",
      "27/27 [==============================] - 1s 23ms/step - loss: 1.0004 - custom_mape_loss: 1.0004 - val_loss: 8864.0830 - val_custom_mape_loss: 26249.3613 - lr: 0.0010\n",
      "Epoch 20/150\n",
      "27/27 [==============================] - 1s 21ms/step - loss: 1.0003 - custom_mape_loss: 1.0003 - val_loss: 4820.8647 - val_custom_mape_loss: 14275.2139 - lr: 0.0010\n",
      "Epoch 21/150\n",
      "27/27 [==============================] - 1s 21ms/step - loss: 1.0003 - custom_mape_loss: 1.0003 - val_loss: 8435.1689 - val_custom_mape_loss: 24979.1152 - lr: 0.0010\n",
      "Epoch 22/150\n",
      "27/27 [==============================] - 1s 21ms/step - loss: 0.9998 - custom_mape_loss: 1.0000 - val_loss: 24091.9668 - val_custom_mape_loss: 71347.3281 - lr: 0.0010\n",
      "Epoch 23/150\n",
      "27/27 [==============================] - 1s 22ms/step - loss: 0.9978 - custom_mape_loss: 0.9978 - val_loss: 8467.3662 - val_custom_mape_loss: 25074.4688 - lr: 0.0010\n",
      "Epoch 24/150\n",
      "27/27 [==============================] - 1s 22ms/step - loss: 0.9999 - custom_mape_loss: 0.9997 - val_loss: 4867.4277 - val_custom_mape_loss: 14413.1113 - lr: 0.0010\n",
      "Epoch 25/150\n",
      "27/27 [==============================] - 1s 22ms/step - loss: 0.9995 - custom_mape_loss: 0.9995 - val_loss: 1657.6727 - val_custom_mape_loss: 4907.2998 - lr: 0.0010\n",
      "Epoch 26/150\n",
      "27/27 [==============================] - 1s 22ms/step - loss: 0.9978 - custom_mape_loss: 0.9976 - val_loss: 30003.1133 - val_custom_mape_loss: 88853.4062 - lr: 0.0010\n",
      "Epoch 27/150\n",
      "27/27 [==============================] - 1s 21ms/step - loss: 0.9958 - custom_mape_loss: 0.9955 - val_loss: 1822.1989 - val_custom_mape_loss: 5394.5498 - lr: 0.0010\n",
      "Epoch 28/150\n",
      "27/27 [==============================] - 1s 21ms/step - loss: 0.9935 - custom_mape_loss: 0.9929 - val_loss: 5741.5669 - val_custom_mape_loss: 17001.9082 - lr: 0.0010\n",
      "Epoch 29/150\n",
      "27/27 [==============================] - 1s 25ms/step - loss: 0.9922 - custom_mape_loss: 0.9914 - val_loss: 2027.9630 - val_custom_mape_loss: 6003.9282 - lr: 1.0000e-04\n",
      "Epoch 30/150\n",
      "27/27 [==============================] - 1s 21ms/step - loss: 0.9888 - custom_mape_loss: 0.9888 - val_loss: 745.9902 - val_custom_mape_loss: 2207.3162 - lr: 1.0000e-04\n",
      "Epoch 31/150\n",
      "27/27 [==============================] - 1s 22ms/step - loss: 0.9893 - custom_mape_loss: 0.9890 - val_loss: 2207.2373 - val_custom_mape_loss: 6534.8555 - lr: 1.0000e-04\n",
      "Epoch 32/150\n",
      "27/27 [==============================] - 1s 21ms/step - loss: 0.9894 - custom_mape_loss: 0.9893 - val_loss: 671.5700 - val_custom_mape_loss: 1986.9182 - lr: 1.0000e-04\n",
      "Epoch 33/150\n",
      "27/27 [==============================] - 1s 22ms/step - loss: 0.9878 - custom_mape_loss: 0.9876 - val_loss: 469.9564 - val_custom_mape_loss: 1389.8315 - lr: 1.0000e-04\n",
      "Epoch 34/150\n",
      "27/27 [==============================] - 1s 21ms/step - loss: 0.9909 - custom_mape_loss: 0.9905 - val_loss: 1984.7770 - val_custom_mape_loss: 5876.0312 - lr: 1.0000e-04\n",
      "Epoch 35/150\n",
      "27/27 [==============================] - 1s 21ms/step - loss: 0.9870 - custom_mape_loss: 0.9863 - val_loss: 1105.5591 - val_custom_mape_loss: 3272.1931 - lr: 1.0000e-04\n",
      "Epoch 36/150\n",
      "27/27 [==============================] - 1s 23ms/step - loss: 0.9865 - custom_mape_loss: 0.9863 - val_loss: 1569.0668 - val_custom_mape_loss: 4644.8892 - lr: 1.0000e-04\n",
      "Epoch 37/150\n",
      "27/27 [==============================] - 1s 21ms/step - loss: 0.9871 - custom_mape_loss: 0.9875 - val_loss: 985.6218 - val_custom_mape_loss: 2916.9941 - lr: 1.0000e-04\n",
      "Epoch 38/150\n",
      "27/27 [==============================] - 1s 21ms/step - loss: 0.9886 - custom_mape_loss: 0.9885 - val_loss: 861.0035 - val_custom_mape_loss: 2547.9329 - lr: 1.0000e-04\n",
      "Epoch 39/150\n",
      "27/27 [==============================] - 1s 22ms/step - loss: 0.9889 - custom_mape_loss: 0.9888 - val_loss: 1214.7871 - val_custom_mape_loss: 3595.6763 - lr: 1.0000e-04\n",
      "Epoch 40/150\n",
      "27/27 [==============================] - 1s 22ms/step - loss: 0.9878 - custom_mape_loss: 0.9876 - val_loss: 2574.2698 - val_custom_mape_loss: 7621.8369 - lr: 1.0000e-04\n",
      "Epoch 41/150\n",
      "27/27 [==============================] - 1s 25ms/step - loss: 0.9882 - custom_mape_loss: 0.9877 - val_loss: 1343.3956 - val_custom_mape_loss: 3976.5552 - lr: 1.0000e-04\n",
      "Epoch 42/150\n",
      "27/27 [==============================] - 1s 21ms/step - loss: 0.9865 - custom_mape_loss: 0.9877 - val_loss: 1409.2639 - val_custom_mape_loss: 4171.6270 - lr: 1.0000e-04\n",
      "Epoch 43/150\n",
      "27/27 [==============================] - 1s 22ms/step - loss: 0.9870 - custom_mape_loss: 0.9865 - val_loss: 1020.1627 - val_custom_mape_loss: 3019.2886 - lr: 1.0000e-04\n",
      "Epoch 1/150\n",
      "38/38 [==============================] - 7s 58ms/step - loss: 1.0276 - custom_mape_loss: 1.0015 - val_loss: 1.0242 - val_custom_mape_loss: 1.0034 - lr: 0.0010\n",
      "Epoch 2/150\n",
      "38/38 [==============================] - 1s 22ms/step - loss: 1.0190 - custom_mape_loss: 1.0002 - val_loss: 1.0162 - val_custom_mape_loss: 1.0008 - lr: 0.0010\n",
      "Epoch 3/150\n",
      "38/38 [==============================] - 1s 21ms/step - loss: 1.0134 - custom_mape_loss: 1.0002 - val_loss: 1.0115 - val_custom_mape_loss: 1.0012 - lr: 0.0010\n",
      "Epoch 4/150\n",
      "38/38 [==============================] - 1s 22ms/step - loss: 1.0077 - custom_mape_loss: 0.9989 - val_loss: 1.0078 - val_custom_mape_loss: 1.0014 - lr: 0.0010\n",
      "Epoch 5/150\n",
      "38/38 [==============================] - 1s 22ms/step - loss: 1.0020 - custom_mape_loss: 0.9956 - val_loss: 1.0088 - val_custom_mape_loss: 1.0059 - lr: 0.0010\n",
      "Epoch 6/150\n",
      "38/38 [==============================] - 1s 21ms/step - loss: 0.9926 - custom_mape_loss: 0.9873 - val_loss: 1.0054 - val_custom_mape_loss: 1.0020 - lr: 0.0010\n",
      "Epoch 7/150\n",
      "38/38 [==============================] - 1s 21ms/step - loss: 0.9876 - custom_mape_loss: 0.9834 - val_loss: 1.0061 - val_custom_mape_loss: 1.0044 - lr: 0.0010\n",
      "Epoch 8/150\n",
      "38/38 [==============================] - 1s 21ms/step - loss: 0.9823 - custom_mape_loss: 0.9787 - val_loss: 1.0055 - val_custom_mape_loss: 1.0048 - lr: 0.0010\n",
      "Epoch 9/150\n",
      "38/38 [==============================] - 1s 22ms/step - loss: 0.9793 - custom_mape_loss: 0.9758 - val_loss: 1.0048 - val_custom_mape_loss: 1.0028 - lr: 0.0010\n",
      "Epoch 10/150\n",
      "38/38 [==============================] - 1s 21ms/step - loss: 0.9776 - custom_mape_loss: 0.9742 - val_loss: 1.0060 - val_custom_mape_loss: 1.0071 - lr: 0.0010\n",
      "Epoch 11/150\n",
      "38/38 [==============================] - 1s 22ms/step - loss: 0.9739 - custom_mape_loss: 0.9705 - val_loss: 1.0050 - val_custom_mape_loss: 1.0050 - lr: 0.0010\n",
      "Epoch 12/150\n",
      "38/38 [==============================] - 1s 22ms/step - loss: 0.9712 - custom_mape_loss: 0.9680 - val_loss: 1.0031 - val_custom_mape_loss: 1.0050 - lr: 0.0010\n",
      "Epoch 13/150\n",
      "38/38 [==============================] - 1s 21ms/step - loss: 0.9734 - custom_mape_loss: 0.9702 - val_loss: 1.0037 - val_custom_mape_loss: 1.0053 - lr: 0.0010\n",
      "Epoch 14/150\n",
      "38/38 [==============================] - 1s 21ms/step - loss: 0.9696 - custom_mape_loss: 0.9667 - val_loss: 1.0041 - val_custom_mape_loss: 1.0072 - lr: 0.0010\n",
      "Epoch 15/150\n",
      "38/38 [==============================] - 1s 21ms/step - loss: 0.9688 - custom_mape_loss: 0.9658 - val_loss: 0.9996 - val_custom_mape_loss: 1.0009 - lr: 0.0010\n",
      "Epoch 16/150\n",
      "38/38 [==============================] - 1s 22ms/step - loss: 0.9703 - custom_mape_loss: 0.9672 - val_loss: 0.9960 - val_custom_mape_loss: 1.0013 - lr: 0.0010\n",
      "Epoch 17/150\n",
      "38/38 [==============================] - 1s 21ms/step - loss: 0.9648 - custom_mape_loss: 0.9622 - val_loss: 1.0020 - val_custom_mape_loss: 1.0173 - lr: 0.0010\n",
      "Epoch 18/150\n",
      "38/38 [==============================] - 1s 21ms/step - loss: 0.9640 - custom_mape_loss: 0.9605 - val_loss: 1.0066 - val_custom_mape_loss: 1.0058 - lr: 0.0010\n",
      "Epoch 19/150\n",
      "38/38 [==============================] - 1s 25ms/step - loss: 0.9596 - custom_mape_loss: 0.9566 - val_loss: 0.9823 - val_custom_mape_loss: 0.9975 - lr: 0.0010\n",
      "Epoch 20/150\n",
      "38/38 [==============================] - 1s 23ms/step - loss: 0.9585 - custom_mape_loss: 0.9558 - val_loss: 1.0003 - val_custom_mape_loss: 1.0029 - lr: 0.0010\n",
      "Epoch 21/150\n",
      "38/38 [==============================] - 1s 22ms/step - loss: 0.9523 - custom_mape_loss: 0.9493 - val_loss: 0.9942 - val_custom_mape_loss: 1.0099 - lr: 0.0010\n",
      "Epoch 22/150\n",
      "38/38 [==============================] - 1s 22ms/step - loss: 0.9515 - custom_mape_loss: 0.9486 - val_loss: 0.9991 - val_custom_mape_loss: 1.0171 - lr: 0.0010\n",
      "Epoch 23/150\n",
      "38/38 [==============================] - 1s 23ms/step - loss: 0.9478 - custom_mape_loss: 0.9455 - val_loss: 0.9919 - val_custom_mape_loss: 1.0085 - lr: 0.0010\n",
      "Epoch 24/150\n",
      "38/38 [==============================] - 1s 22ms/step - loss: 0.9472 - custom_mape_loss: 0.9444 - val_loss: 0.9731 - val_custom_mape_loss: 0.9817 - lr: 0.0010\n",
      "Epoch 25/150\n",
      "38/38 [==============================] - 1s 23ms/step - loss: 0.9524 - custom_mape_loss: 0.9496 - val_loss: 0.9828 - val_custom_mape_loss: 0.9980 - lr: 0.0010\n",
      "Epoch 26/150\n",
      "38/38 [==============================] - 1s 23ms/step - loss: 0.9465 - custom_mape_loss: 0.9437 - val_loss: 0.9752 - val_custom_mape_loss: 0.9840 - lr: 0.0010\n",
      "Epoch 27/150\n",
      "38/38 [==============================] - 1s 22ms/step - loss: 0.9452 - custom_mape_loss: 0.9423 - val_loss: 0.9677 - val_custom_mape_loss: 0.9822 - lr: 0.0010\n",
      "Epoch 28/150\n",
      "38/38 [==============================] - 1s 22ms/step - loss: 0.9414 - custom_mape_loss: 0.9381 - val_loss: 0.9693 - val_custom_mape_loss: 0.9823 - lr: 0.0010\n",
      "Epoch 29/150\n",
      "38/38 [==============================] - 1s 23ms/step - loss: 0.9424 - custom_mape_loss: 0.9397 - val_loss: 0.9624 - val_custom_mape_loss: 0.9770 - lr: 0.0010\n",
      "Epoch 30/150\n",
      "38/38 [==============================] - 1s 22ms/step - loss: 0.9415 - custom_mape_loss: 0.9395 - val_loss: 0.9491 - val_custom_mape_loss: 0.9600 - lr: 0.0010\n",
      "Epoch 31/150\n",
      "38/38 [==============================] - 1s 22ms/step - loss: 0.9352 - custom_mape_loss: 0.9322 - val_loss: 0.9487 - val_custom_mape_loss: 0.9603 - lr: 0.0010\n",
      "Epoch 32/150\n",
      "38/38 [==============================] - 1s 23ms/step - loss: 0.9388 - custom_mape_loss: 0.9366 - val_loss: 0.9407 - val_custom_mape_loss: 0.9537 - lr: 0.0010\n",
      "Epoch 33/150\n",
      "38/38 [==============================] - 1s 23ms/step - loss: 0.9365 - custom_mape_loss: 0.9344 - val_loss: 0.9512 - val_custom_mape_loss: 0.9651 - lr: 0.0010\n",
      "Epoch 34/150\n",
      "38/38 [==============================] - 1s 22ms/step - loss: 0.9359 - custom_mape_loss: 0.9338 - val_loss: 0.9710 - val_custom_mape_loss: 0.9795 - lr: 0.0010\n",
      "Epoch 35/150\n",
      "38/38 [==============================] - 1s 22ms/step - loss: 0.9350 - custom_mape_loss: 0.9330 - val_loss: 0.9391 - val_custom_mape_loss: 0.9526 - lr: 0.0010\n",
      "Epoch 36/150\n",
      "38/38 [==============================] - 1s 23ms/step - loss: 0.9330 - custom_mape_loss: 0.9298 - val_loss: 0.9496 - val_custom_mape_loss: 0.9595 - lr: 0.0010\n",
      "Epoch 37/150\n",
      "38/38 [==============================] - 1s 23ms/step - loss: 0.9328 - custom_mape_loss: 0.9313 - val_loss: 0.9470 - val_custom_mape_loss: 0.9559 - lr: 0.0010\n",
      "Epoch 38/150\n",
      "38/38 [==============================] - 1s 22ms/step - loss: 0.9292 - custom_mape_loss: 0.9266 - val_loss: 0.9584 - val_custom_mape_loss: 0.9693 - lr: 0.0010\n",
      "Epoch 39/150\n",
      "38/38 [==============================] - 1s 23ms/step - loss: 0.9302 - custom_mape_loss: 0.9278 - val_loss: 0.9655 - val_custom_mape_loss: 0.9828 - lr: 0.0010\n",
      "Epoch 40/150\n",
      "38/38 [==============================] - 1s 22ms/step - loss: 0.9252 - custom_mape_loss: 0.9231 - val_loss: 0.9615 - val_custom_mape_loss: 0.9758 - lr: 0.0010\n",
      "Epoch 41/150\n",
      "38/38 [==============================] - 1s 22ms/step - loss: 0.9282 - custom_mape_loss: 0.9269 - val_loss: 0.9626 - val_custom_mape_loss: 0.9759 - lr: 0.0010\n",
      "Epoch 42/150\n",
      "38/38 [==============================] - 1s 22ms/step - loss: 0.9248 - custom_mape_loss: 0.9219 - val_loss: 0.9694 - val_custom_mape_loss: 0.9809 - lr: 0.0010\n",
      "Epoch 43/150\n",
      "38/38 [==============================] - 1s 23ms/step - loss: 0.9203 - custom_mape_loss: 0.9184 - val_loss: 0.9533 - val_custom_mape_loss: 0.9659 - lr: 0.0010\n",
      "Epoch 44/150\n",
      "38/38 [==============================] - 1s 22ms/step - loss: 0.9205 - custom_mape_loss: 0.9186 - val_loss: 0.9554 - val_custom_mape_loss: 0.9660 - lr: 0.0010\n",
      "Epoch 45/150\n",
      "38/38 [==============================] - 1s 21ms/step - loss: 0.9192 - custom_mape_loss: 0.9167 - val_loss: 0.9638 - val_custom_mape_loss: 0.9775 - lr: 0.0010\n",
      "Epoch 46/150\n",
      "38/38 [==============================] - 1s 23ms/step - loss: 0.9202 - custom_mape_loss: 0.9171 - val_loss: 0.9978 - val_custom_mape_loss: 1.0130 - lr: 0.0010\n",
      "Epoch 47/150\n",
      "38/38 [==============================] - 1s 23ms/step - loss: 0.9120 - custom_mape_loss: 0.9094 - val_loss: 1.0271 - val_custom_mape_loss: 1.0479 - lr: 0.0010\n",
      "Epoch 48/150\n",
      "38/38 [==============================] - 1s 22ms/step - loss: 0.9155 - custom_mape_loss: 0.9134 - val_loss: 0.9830 - val_custom_mape_loss: 0.9896 - lr: 0.0010\n",
      "Epoch 49/150\n",
      "38/38 [==============================] - 1s 22ms/step - loss: 0.9104 - custom_mape_loss: 0.9080 - val_loss: 0.9856 - val_custom_mape_loss: 1.0005 - lr: 0.0010\n",
      "Epoch 50/150\n",
      "38/38 [==============================] - 1s 22ms/step - loss: 0.9134 - custom_mape_loss: 0.9109 - val_loss: 0.9901 - val_custom_mape_loss: 1.0057 - lr: 0.0010\n",
      "Epoch 51/150\n",
      "38/38 [==============================] - 1s 23ms/step - loss: 0.9033 - custom_mape_loss: 0.9008 - val_loss: 0.9846 - val_custom_mape_loss: 0.9985 - lr: 1.0000e-04\n",
      "Epoch 52/150\n",
      "38/38 [==============================] - 1s 22ms/step - loss: 0.9015 - custom_mape_loss: 0.8994 - val_loss: 0.9855 - val_custom_mape_loss: 0.9991 - lr: 1.0000e-04\n",
      "Epoch 53/150\n",
      "38/38 [==============================] - 1s 23ms/step - loss: 0.8991 - custom_mape_loss: 0.8972 - val_loss: 0.9846 - val_custom_mape_loss: 0.9979 - lr: 1.0000e-04\n",
      "Epoch 54/150\n",
      "38/38 [==============================] - 1s 23ms/step - loss: 0.8999 - custom_mape_loss: 0.8972 - val_loss: 0.9854 - val_custom_mape_loss: 0.9988 - lr: 1.0000e-04\n",
      "Epoch 55/150\n",
      "38/38 [==============================] - 1s 22ms/step - loss: 0.9024 - custom_mape_loss: 0.8999 - val_loss: 0.9868 - val_custom_mape_loss: 1.0004 - lr: 1.0000e-04\n",
      "Epoch 56/150\n",
      "38/38 [==============================] - 1s 22ms/step - loss: 0.8958 - custom_mape_loss: 0.8937 - val_loss: 0.9893 - val_custom_mape_loss: 1.0036 - lr: 1.0000e-04\n",
      "Epoch 57/150\n",
      "38/38 [==============================] - 1s 23ms/step - loss: 0.8961 - custom_mape_loss: 0.8940 - val_loss: 0.9924 - val_custom_mape_loss: 1.0070 - lr: 1.0000e-04\n",
      "Epoch 58/150\n",
      "38/38 [==============================] - 1s 24ms/step - loss: 0.8972 - custom_mape_loss: 0.8945 - val_loss: 0.9921 - val_custom_mape_loss: 1.0055 - lr: 1.0000e-04\n",
      "Epoch 59/150\n",
      "38/38 [==============================] - 1s 23ms/step - loss: 0.8956 - custom_mape_loss: 0.8932 - val_loss: 0.9907 - val_custom_mape_loss: 1.0046 - lr: 1.0000e-04\n",
      "Epoch 60/150\n",
      "38/38 [==============================] - 1s 22ms/step - loss: 0.8969 - custom_mape_loss: 0.8946 - val_loss: 0.9943 - val_custom_mape_loss: 1.0075 - lr: 1.0000e-04\n",
      "Epoch 61/150\n",
      "38/38 [==============================] - 1s 22ms/step - loss: 0.8972 - custom_mape_loss: 0.8945 - val_loss: 0.9966 - val_custom_mape_loss: 1.0103 - lr: 1.0000e-04\n",
      "Epoch 62/150\n",
      "38/38 [==============================] - 1s 22ms/step - loss: 0.8963 - custom_mape_loss: 0.8934 - val_loss: 0.9949 - val_custom_mape_loss: 1.0079 - lr: 1.0000e-04\n",
      "Epoch 63/150\n",
      "38/38 [==============================] - 1s 22ms/step - loss: 0.8947 - custom_mape_loss: 0.8925 - val_loss: 0.9977 - val_custom_mape_loss: 1.0112 - lr: 1.0000e-04\n",
      "Epoch 64/150\n",
      "38/38 [==============================] - 1s 24ms/step - loss: 0.8966 - custom_mape_loss: 0.8941 - val_loss: 0.9983 - val_custom_mape_loss: 1.0117 - lr: 1.0000e-04\n",
      "Epoch 65/150\n",
      "38/38 [==============================] - 1s 23ms/step - loss: 0.8941 - custom_mape_loss: 0.8911 - val_loss: 0.9988 - val_custom_mape_loss: 1.0128 - lr: 1.0000e-04\n",
      "Epoch 1/150\n",
      "52/52 [==============================] - 8s 49ms/step - loss: 1.0238 - custom_mape_loss: 0.9998 - val_loss: 1.0267 - val_custom_mape_loss: 1.0100 - lr: 0.0010\n",
      "Epoch 2/150\n",
      "52/52 [==============================] - 1s 21ms/step - loss: 1.0127 - custom_mape_loss: 0.9961 - val_loss: 1.0223 - val_custom_mape_loss: 1.0124 - lr: 0.0010\n",
      "Epoch 3/150\n",
      "52/52 [==============================] - 1s 21ms/step - loss: 1.0008 - custom_mape_loss: 0.9881 - val_loss: 1.0543 - val_custom_mape_loss: 1.0488 - lr: 0.0010\n",
      "Epoch 4/150\n",
      "52/52 [==============================] - 1s 21ms/step - loss: 0.9930 - custom_mape_loss: 0.9823 - val_loss: 1.0448 - val_custom_mape_loss: 1.0344 - lr: 0.0010\n",
      "Epoch 5/150\n",
      "52/52 [==============================] - 1s 21ms/step - loss: 0.9849 - custom_mape_loss: 0.9754 - val_loss: 1.0224 - val_custom_mape_loss: 1.0101 - lr: 0.0010\n",
      "Epoch 6/150\n",
      "52/52 [==============================] - 1s 21ms/step - loss: 0.9820 - custom_mape_loss: 0.9738 - val_loss: 1.0173 - val_custom_mape_loss: 1.0058 - lr: 0.0010\n",
      "Epoch 7/150\n",
      "52/52 [==============================] - 1s 22ms/step - loss: 0.9810 - custom_mape_loss: 0.9730 - val_loss: 1.0510 - val_custom_mape_loss: 1.0307 - lr: 0.0010\n",
      "Epoch 8/150\n",
      "52/52 [==============================] - 1s 21ms/step - loss: 0.9803 - custom_mape_loss: 0.9729 - val_loss: 1.0443 - val_custom_mape_loss: 1.0281 - lr: 0.0010\n",
      "Epoch 9/150\n",
      "52/52 [==============================] - 1s 21ms/step - loss: 0.9737 - custom_mape_loss: 0.9669 - val_loss: 1.0148 - val_custom_mape_loss: 1.0002 - lr: 0.0010\n",
      "Epoch 10/150\n",
      "52/52 [==============================] - 1s 20ms/step - loss: 0.9770 - custom_mape_loss: 0.9707 - val_loss: 1.0489 - val_custom_mape_loss: 1.0356 - lr: 0.0010\n",
      "Epoch 11/150\n",
      "52/52 [==============================] - 1s 21ms/step - loss: 0.9737 - custom_mape_loss: 0.9679 - val_loss: 1.0323 - val_custom_mape_loss: 1.0142 - lr: 0.0010\n",
      "Epoch 12/150\n",
      "52/52 [==============================] - 1s 21ms/step - loss: 0.9714 - custom_mape_loss: 0.9659 - val_loss: 1.0347 - val_custom_mape_loss: 1.0183 - lr: 0.0010\n",
      "Epoch 13/150\n",
      "52/52 [==============================] - 1s 20ms/step - loss: 0.9717 - custom_mape_loss: 0.9656 - val_loss: 1.0662 - val_custom_mape_loss: 1.0414 - lr: 0.0010\n",
      "Epoch 14/150\n",
      "52/52 [==============================] - 1s 20ms/step - loss: 0.9680 - custom_mape_loss: 0.9627 - val_loss: 1.0491 - val_custom_mape_loss: 1.0277 - lr: 0.0010\n",
      "Epoch 15/150\n",
      "52/52 [==============================] - 1s 20ms/step - loss: 0.9651 - custom_mape_loss: 0.9599 - val_loss: 1.0363 - val_custom_mape_loss: 1.0229 - lr: 0.0010\n",
      "Epoch 16/150\n",
      "52/52 [==============================] - 1s 22ms/step - loss: 0.9660 - custom_mape_loss: 0.9612 - val_loss: 1.0304 - val_custom_mape_loss: 1.0185 - lr: 0.0010\n",
      "Epoch 17/150\n",
      "52/52 [==============================] - 1s 21ms/step - loss: 0.9656 - custom_mape_loss: 0.9609 - val_loss: 1.0598 - val_custom_mape_loss: 1.0347 - lr: 0.0010\n",
      "Epoch 18/150\n",
      "52/52 [==============================] - 1s 21ms/step - loss: 0.9656 - custom_mape_loss: 0.9617 - val_loss: 1.0378 - val_custom_mape_loss: 1.0214 - lr: 0.0010\n",
      "Epoch 19/150\n",
      "52/52 [==============================] - 1s 21ms/step - loss: 0.9648 - custom_mape_loss: 0.9603 - val_loss: 1.0395 - val_custom_mape_loss: 1.0197 - lr: 0.0010\n",
      "Epoch 20/150\n",
      "52/52 [==============================] - 1s 21ms/step - loss: 0.9601 - custom_mape_loss: 0.9558 - val_loss: 1.0339 - val_custom_mape_loss: 1.0171 - lr: 0.0010\n",
      "Epoch 21/150\n",
      "52/52 [==============================] - 1s 21ms/step - loss: 0.9624 - custom_mape_loss: 0.9585 - val_loss: 1.0282 - val_custom_mape_loss: 1.0182 - lr: 0.0010\n",
      "Epoch 22/150\n",
      "52/52 [==============================] - 1s 20ms/step - loss: 0.9591 - custom_mape_loss: 0.9555 - val_loss: 1.0403 - val_custom_mape_loss: 1.0301 - lr: 0.0010\n",
      "Epoch 23/150\n",
      "52/52 [==============================] - 1s 21ms/step - loss: 0.9606 - custom_mape_loss: 0.9568 - val_loss: 1.0385 - val_custom_mape_loss: 1.0228 - lr: 0.0010\n",
      "Epoch 24/150\n",
      "52/52 [==============================] - 1s 21ms/step - loss: 0.9579 - custom_mape_loss: 0.9541 - val_loss: 1.0349 - val_custom_mape_loss: 1.0302 - lr: 0.0010\n",
      "Epoch 25/150\n",
      "52/52 [==============================] - 1s 21ms/step - loss: 0.9559 - custom_mape_loss: 0.9521 - val_loss: 1.0392 - val_custom_mape_loss: 1.0307 - lr: 1.0000e-04\n",
      "Epoch 26/150\n",
      "52/52 [==============================] - 1s 22ms/step - loss: 0.9531 - custom_mape_loss: 0.9497 - val_loss: 1.0413 - val_custom_mape_loss: 1.0305 - lr: 1.0000e-04\n",
      "Epoch 27/150\n",
      "52/52 [==============================] - 1s 21ms/step - loss: 0.9523 - custom_mape_loss: 0.9479 - val_loss: 1.0485 - val_custom_mape_loss: 1.0344 - lr: 1.0000e-04\n",
      "Epoch 28/150\n",
      "52/52 [==============================] - 1s 21ms/step - loss: 0.9540 - custom_mape_loss: 0.9503 - val_loss: 1.0493 - val_custom_mape_loss: 1.0345 - lr: 1.0000e-04\n",
      "Epoch 29/150\n",
      "52/52 [==============================] - 1s 21ms/step - loss: 0.9506 - custom_mape_loss: 0.9467 - val_loss: 1.0501 - val_custom_mape_loss: 1.0354 - lr: 1.0000e-04\n",
      "Epoch 30/150\n",
      "52/52 [==============================] - 1s 21ms/step - loss: 0.9492 - custom_mape_loss: 0.9458 - val_loss: 1.0509 - val_custom_mape_loss: 1.0363 - lr: 1.0000e-04\n",
      "Epoch 31/150\n",
      "52/52 [==============================] - 1s 21ms/step - loss: 0.9516 - custom_mape_loss: 0.9474 - val_loss: 1.0489 - val_custom_mape_loss: 1.0348 - lr: 1.0000e-04\n",
      "Epoch 32/150\n",
      "52/52 [==============================] - 1s 20ms/step - loss: 0.9501 - custom_mape_loss: 0.9463 - val_loss: 1.0479 - val_custom_mape_loss: 1.0340 - lr: 1.0000e-04\n",
      "Epoch 33/150\n",
      "52/52 [==============================] - 1s 21ms/step - loss: 0.9497 - custom_mape_loss: 0.9461 - val_loss: 1.0464 - val_custom_mape_loss: 1.0322 - lr: 1.0000e-04\n",
      "Epoch 34/150\n",
      "52/52 [==============================] - 1s 22ms/step - loss: 0.9516 - custom_mape_loss: 0.9482 - val_loss: 1.0483 - val_custom_mape_loss: 1.0341 - lr: 1.0000e-04\n",
      "Epoch 35/150\n",
      "52/52 [==============================] - 1s 20ms/step - loss: 0.9502 - custom_mape_loss: 0.9463 - val_loss: 1.0499 - val_custom_mape_loss: 1.0357 - lr: 1.0000e-04\n",
      "Epoch 36/150\n",
      "52/52 [==============================] - 1s 21ms/step - loss: 0.9462 - custom_mape_loss: 0.9426 - val_loss: 1.0527 - val_custom_mape_loss: 1.0375 - lr: 1.0000e-04\n",
      "Epoch 37/150\n",
      "52/52 [==============================] - 1s 21ms/step - loss: 0.9489 - custom_mape_loss: 0.9454 - val_loss: 1.0521 - val_custom_mape_loss: 1.0365 - lr: 1.0000e-04\n",
      "Epoch 38/150\n",
      "52/52 [==============================] - 1s 22ms/step - loss: 0.9491 - custom_mape_loss: 0.9457 - val_loss: 1.0488 - val_custom_mape_loss: 1.0349 - lr: 1.0000e-04\n",
      "Epoch 39/150\n",
      "52/52 [==============================] - 1s 21ms/step - loss: 0.9485 - custom_mape_loss: 0.9448 - val_loss: 1.0501 - val_custom_mape_loss: 1.0358 - lr: 1.0000e-04\n",
      "Epoch 1/150\n",
      "59/59 [==============================] - 8s 44ms/step - loss: 1.0010 - custom_mape_loss: 0.9763 - val_loss: 1.0153 - val_custom_mape_loss: 0.9924 - lr: 0.0010\n",
      "Epoch 2/150\n",
      "59/59 [==============================] - 1s 23ms/step - loss: 0.9817 - custom_mape_loss: 0.9651 - val_loss: 0.9934 - val_custom_mape_loss: 0.9869 - lr: 0.0010\n",
      "Epoch 3/150\n",
      "59/59 [==============================] - 1s 22ms/step - loss: 0.9732 - custom_mape_loss: 0.9612 - val_loss: 0.9839 - val_custom_mape_loss: 0.9824 - lr: 0.0010\n",
      "Epoch 4/150\n",
      "59/59 [==============================] - 1s 21ms/step - loss: 0.9625 - custom_mape_loss: 0.9529 - val_loss: 0.9665 - val_custom_mape_loss: 0.9784 - lr: 0.0010\n",
      "Epoch 5/150\n",
      "59/59 [==============================] - 1s 20ms/step - loss: 0.9583 - custom_mape_loss: 0.9504 - val_loss: 0.9634 - val_custom_mape_loss: 0.9745 - lr: 0.0010\n",
      "Epoch 6/150\n",
      "59/59 [==============================] - 1s 22ms/step - loss: 0.9569 - custom_mape_loss: 0.9498 - val_loss: 0.9608 - val_custom_mape_loss: 0.9748 - lr: 0.0010\n",
      "Epoch 7/150\n",
      "59/59 [==============================] - 1s 21ms/step - loss: 0.9551 - custom_mape_loss: 0.9489 - val_loss: 0.9559 - val_custom_mape_loss: 0.9768 - lr: 0.0010\n",
      "Epoch 8/150\n",
      "59/59 [==============================] - 1s 21ms/step - loss: 0.9541 - custom_mape_loss: 0.9476 - val_loss: 0.9555 - val_custom_mape_loss: 0.9733 - lr: 0.0010\n",
      "Epoch 9/150\n",
      "59/59 [==============================] - 1s 21ms/step - loss: 0.9542 - custom_mape_loss: 0.9488 - val_loss: 0.9526 - val_custom_mape_loss: 0.9708 - lr: 0.0010\n",
      "Epoch 10/150\n",
      "59/59 [==============================] - 1s 21ms/step - loss: 0.9526 - custom_mape_loss: 0.9481 - val_loss: 0.9516 - val_custom_mape_loss: 0.9736 - lr: 0.0010\n",
      "Epoch 11/150\n",
      "59/59 [==============================] - 1s 21ms/step - loss: 0.9521 - custom_mape_loss: 0.9480 - val_loss: 0.9552 - val_custom_mape_loss: 0.9694 - lr: 0.0010\n",
      "Epoch 12/150\n",
      "59/59 [==============================] - 1s 21ms/step - loss: 0.9491 - custom_mape_loss: 0.9453 - val_loss: 0.9545 - val_custom_mape_loss: 0.9743 - lr: 0.0010\n",
      "Epoch 13/150\n",
      "59/59 [==============================] - 1s 21ms/step - loss: 0.9488 - custom_mape_loss: 0.9450 - val_loss: 0.9491 - val_custom_mape_loss: 0.9711 - lr: 0.0010\n",
      "Epoch 14/150\n",
      "59/59 [==============================] - 1s 21ms/step - loss: 0.9465 - custom_mape_loss: 0.9423 - val_loss: 0.9540 - val_custom_mape_loss: 0.9798 - lr: 0.0010\n",
      "Epoch 15/150\n",
      "59/59 [==============================] - 1s 21ms/step - loss: 0.9441 - custom_mape_loss: 0.9407 - val_loss: 0.9444 - val_custom_mape_loss: 0.9702 - lr: 0.0010\n",
      "Epoch 16/150\n",
      "59/59 [==============================] - 1s 20ms/step - loss: 0.9464 - custom_mape_loss: 0.9431 - val_loss: 0.9471 - val_custom_mape_loss: 0.9786 - lr: 0.0010\n",
      "Epoch 17/150\n",
      "59/59 [==============================] - 1s 21ms/step - loss: 0.9465 - custom_mape_loss: 0.9429 - val_loss: 0.9446 - val_custom_mape_loss: 0.9709 - lr: 0.0010\n",
      "Epoch 18/150\n",
      "59/59 [==============================] - 1s 21ms/step - loss: 0.9445 - custom_mape_loss: 0.9418 - val_loss: 0.9387 - val_custom_mape_loss: 0.9628 - lr: 0.0010\n",
      "Epoch 19/150\n",
      "59/59 [==============================] - 1s 20ms/step - loss: 0.9444 - custom_mape_loss: 0.9413 - val_loss: 0.9436 - val_custom_mape_loss: 0.9693 - lr: 0.0010\n",
      "Epoch 20/150\n",
      "59/59 [==============================] - 1s 21ms/step - loss: 0.9450 - custom_mape_loss: 0.9428 - val_loss: 0.9428 - val_custom_mape_loss: 0.9659 - lr: 0.0010\n",
      "Epoch 21/150\n",
      "59/59 [==============================] - 1s 22ms/step - loss: 0.9439 - custom_mape_loss: 0.9416 - val_loss: 0.9454 - val_custom_mape_loss: 0.9637 - lr: 0.0010\n",
      "Epoch 22/150\n",
      "59/59 [==============================] - 1s 20ms/step - loss: 0.9440 - custom_mape_loss: 0.9418 - val_loss: 0.9408 - val_custom_mape_loss: 0.9667 - lr: 0.0010\n",
      "Epoch 23/150\n",
      "59/59 [==============================] - 1s 21ms/step - loss: 0.9429 - custom_mape_loss: 0.9405 - val_loss: 0.9369 - val_custom_mape_loss: 0.9616 - lr: 0.0010\n",
      "Epoch 24/150\n",
      "59/59 [==============================] - 1s 21ms/step - loss: 0.9408 - custom_mape_loss: 0.9393 - val_loss: 0.9322 - val_custom_mape_loss: 0.9552 - lr: 0.0010\n",
      "Epoch 25/150\n",
      "59/59 [==============================] - 1s 22ms/step - loss: 0.9430 - custom_mape_loss: 0.9403 - val_loss: 0.9425 - val_custom_mape_loss: 0.9680 - lr: 0.0010\n",
      "Epoch 26/150\n",
      "59/59 [==============================] - 1s 20ms/step - loss: 0.9433 - custom_mape_loss: 0.9416 - val_loss: 0.9384 - val_custom_mape_loss: 0.9629 - lr: 0.0010\n",
      "Epoch 27/150\n",
      "59/59 [==============================] - 1s 21ms/step - loss: 0.9403 - custom_mape_loss: 0.9382 - val_loss: 0.9370 - val_custom_mape_loss: 0.9663 - lr: 0.0010\n",
      "Epoch 28/150\n",
      "59/59 [==============================] - 1s 22ms/step - loss: 0.9397 - custom_mape_loss: 0.9374 - val_loss: 0.9395 - val_custom_mape_loss: 0.9733 - lr: 0.0010\n",
      "Epoch 29/150\n",
      "59/59 [==============================] - 1s 20ms/step - loss: 0.9414 - custom_mape_loss: 0.9392 - val_loss: 0.9333 - val_custom_mape_loss: 0.9639 - lr: 0.0010\n",
      "Epoch 30/150\n",
      "59/59 [==============================] - 1s 21ms/step - loss: 0.9408 - custom_mape_loss: 0.9387 - val_loss: 0.9343 - val_custom_mape_loss: 0.9543 - lr: 0.0010\n",
      "Epoch 31/150\n",
      "59/59 [==============================] - 1s 20ms/step - loss: 0.9397 - custom_mape_loss: 0.9373 - val_loss: 0.9393 - val_custom_mape_loss: 0.9743 - lr: 0.0010\n",
      "Epoch 32/150\n",
      "59/59 [==============================] - 1s 21ms/step - loss: 0.9404 - custom_mape_loss: 0.9392 - val_loss: 0.9373 - val_custom_mape_loss: 0.9578 - lr: 0.0010\n",
      "Epoch 33/150\n",
      "59/59 [==============================] - 1s 21ms/step - loss: 0.9412 - custom_mape_loss: 0.9395 - val_loss: 0.9308 - val_custom_mape_loss: 0.9616 - lr: 0.0010\n",
      "Epoch 34/150\n",
      "59/59 [==============================] - 1s 20ms/step - loss: 0.9378 - custom_mape_loss: 0.9355 - val_loss: 0.9351 - val_custom_mape_loss: 0.9558 - lr: 0.0010\n",
      "Epoch 35/150\n",
      "59/59 [==============================] - 1s 21ms/step - loss: 0.9401 - custom_mape_loss: 0.9386 - val_loss: 0.9364 - val_custom_mape_loss: 0.9709 - lr: 0.0010\n",
      "Epoch 36/150\n",
      "59/59 [==============================] - 1s 22ms/step - loss: 0.9370 - custom_mape_loss: 0.9351 - val_loss: 0.9381 - val_custom_mape_loss: 0.9716 - lr: 0.0010\n",
      "Epoch 37/150\n",
      "59/59 [==============================] - 1s 21ms/step - loss: 0.9387 - custom_mape_loss: 0.9372 - val_loss: 0.9333 - val_custom_mape_loss: 0.9677 - lr: 0.0010\n",
      "Epoch 38/150\n",
      "59/59 [==============================] - 1s 21ms/step - loss: 0.9392 - custom_mape_loss: 0.9376 - val_loss: 0.9355 - val_custom_mape_loss: 0.9650 - lr: 0.0010\n",
      "Epoch 39/150\n",
      "59/59 [==============================] - 1s 22ms/step - loss: 0.9382 - custom_mape_loss: 0.9366 - val_loss: 0.9383 - val_custom_mape_loss: 0.9730 - lr: 0.0010\n",
      "Epoch 40/150\n",
      "59/59 [==============================] - 1s 21ms/step - loss: 0.9372 - custom_mape_loss: 0.9357 - val_loss: 0.9331 - val_custom_mape_loss: 0.9713 - lr: 0.0010\n",
      "Epoch 41/150\n",
      "59/59 [==============================] - 1s 20ms/step - loss: 0.9381 - custom_mape_loss: 0.9367 - val_loss: 0.9368 - val_custom_mape_loss: 0.9704 - lr: 0.0010\n",
      "Epoch 42/150\n",
      "59/59 [==============================] - 1s 20ms/step - loss: 0.9390 - custom_mape_loss: 0.9384 - val_loss: 0.9348 - val_custom_mape_loss: 0.9632 - lr: 0.0010\n",
      "Epoch 43/150\n",
      "59/59 [==============================] - 1s 21ms/step - loss: 0.9342 - custom_mape_loss: 0.9327 - val_loss: 0.9294 - val_custom_mape_loss: 0.9550 - lr: 0.0010\n",
      "Epoch 44/150\n",
      "59/59 [==============================] - 1s 20ms/step - loss: 0.9371 - custom_mape_loss: 0.9348 - val_loss: 0.9350 - val_custom_mape_loss: 0.9687 - lr: 0.0010\n",
      "Epoch 45/150\n",
      "59/59 [==============================] - 1s 21ms/step - loss: 0.9333 - custom_mape_loss: 0.9320 - val_loss: 0.9337 - val_custom_mape_loss: 0.9602 - lr: 0.0010\n",
      "Epoch 46/150\n",
      "59/59 [==============================] - 1s 21ms/step - loss: 0.9344 - custom_mape_loss: 0.9329 - val_loss: 0.9334 - val_custom_mape_loss: 0.9583 - lr: 0.0010\n",
      "Epoch 47/150\n",
      "59/59 [==============================] - 1s 22ms/step - loss: 0.9327 - custom_mape_loss: 0.9311 - val_loss: 0.9302 - val_custom_mape_loss: 0.9621 - lr: 0.0010\n",
      "Epoch 48/150\n",
      "59/59 [==============================] - 1s 21ms/step - loss: 0.9337 - custom_mape_loss: 0.9327 - val_loss: 0.9346 - val_custom_mape_loss: 0.9670 - lr: 0.0010\n",
      "Epoch 49/150\n",
      "59/59 [==============================] - 1s 21ms/step - loss: 0.9341 - custom_mape_loss: 0.9326 - val_loss: 0.9335 - val_custom_mape_loss: 0.9611 - lr: 0.0010\n",
      "Epoch 50/150\n",
      "59/59 [==============================] - 1s 22ms/step - loss: 0.9321 - custom_mape_loss: 0.9302 - val_loss: 0.9329 - val_custom_mape_loss: 0.9544 - lr: 0.0010\n",
      "Epoch 51/150\n",
      "59/59 [==============================] - 1s 21ms/step - loss: 0.9321 - custom_mape_loss: 0.9313 - val_loss: 0.9364 - val_custom_mape_loss: 0.9670 - lr: 0.0010\n",
      "Epoch 52/150\n",
      "59/59 [==============================] - 1s 20ms/step - loss: 0.9321 - custom_mape_loss: 0.9310 - val_loss: 0.9361 - val_custom_mape_loss: 0.9696 - lr: 0.0010\n",
      "Epoch 53/150\n",
      "59/59 [==============================] - 1s 20ms/step - loss: 0.9330 - custom_mape_loss: 0.9317 - val_loss: 0.9394 - val_custom_mape_loss: 0.9749 - lr: 0.0010\n",
      "Epoch 54/150\n",
      "59/59 [==============================] - 1s 22ms/step - loss: 0.9327 - custom_mape_loss: 0.9312 - val_loss: 0.9368 - val_custom_mape_loss: 0.9758 - lr: 0.0010\n",
      "Epoch 55/150\n",
      "59/59 [==============================] - 1s 21ms/step - loss: 0.9322 - custom_mape_loss: 0.9308 - val_loss: 0.9394 - val_custom_mape_loss: 0.9683 - lr: 0.0010\n",
      "Epoch 56/150\n",
      "59/59 [==============================] - 1s 21ms/step - loss: 0.9313 - custom_mape_loss: 0.9300 - val_loss: 0.9372 - val_custom_mape_loss: 0.9683 - lr: 0.0010\n",
      "Epoch 57/150\n",
      "59/59 [==============================] - 1s 21ms/step - loss: 0.9295 - custom_mape_loss: 0.9285 - val_loss: 0.9357 - val_custom_mape_loss: 0.9648 - lr: 0.0010\n",
      "Epoch 58/150\n",
      "59/59 [==============================] - 1s 22ms/step - loss: 0.9309 - custom_mape_loss: 0.9299 - val_loss: 0.9346 - val_custom_mape_loss: 0.9632 - lr: 0.0010\n",
      "Epoch 59/150\n",
      "59/59 [==============================] - 1s 21ms/step - loss: 0.9256 - custom_mape_loss: 0.9248 - val_loss: 0.9361 - val_custom_mape_loss: 0.9659 - lr: 1.0000e-04\n",
      "Epoch 60/150\n",
      "59/59 [==============================] - 1s 21ms/step - loss: 0.9256 - custom_mape_loss: 0.9234 - val_loss: 0.9371 - val_custom_mape_loss: 0.9677 - lr: 1.0000e-04\n",
      "Epoch 61/150\n",
      "59/59 [==============================] - 1s 22ms/step - loss: 0.9255 - custom_mape_loss: 0.9234 - val_loss: 0.9366 - val_custom_mape_loss: 0.9672 - lr: 1.0000e-04\n",
      "Epoch 62/150\n",
      "59/59 [==============================] - 1s 21ms/step - loss: 0.9249 - custom_mape_loss: 0.9235 - val_loss: 0.9368 - val_custom_mape_loss: 0.9677 - lr: 1.0000e-04\n",
      "Epoch 63/150\n",
      "59/59 [==============================] - 1s 20ms/step - loss: 0.9240 - custom_mape_loss: 0.9229 - val_loss: 0.9374 - val_custom_mape_loss: 0.9684 - lr: 1.0000e-04\n",
      "Epoch 64/150\n",
      "59/59 [==============================] - 1s 22ms/step - loss: 0.9241 - custom_mape_loss: 0.9224 - val_loss: 0.9378 - val_custom_mape_loss: 0.9678 - lr: 1.0000e-04\n",
      "Epoch 65/150\n",
      "59/59 [==============================] - 1s 21ms/step - loss: 0.9232 - custom_mape_loss: 0.9210 - val_loss: 0.9374 - val_custom_mape_loss: 0.9683 - lr: 1.0000e-04\n",
      "Epoch 66/150\n",
      "59/59 [==============================] - 1s 21ms/step - loss: 0.9238 - custom_mape_loss: 0.9231 - val_loss: 0.9386 - val_custom_mape_loss: 0.9701 - lr: 1.0000e-04\n",
      "Epoch 67/150\n",
      "59/59 [==============================] - 1s 21ms/step - loss: 0.9232 - custom_mape_loss: 0.9223 - val_loss: 0.9390 - val_custom_mape_loss: 0.9706 - lr: 1.0000e-04\n",
      "Epoch 68/150\n",
      "59/59 [==============================] - 1s 22ms/step - loss: 0.9240 - custom_mape_loss: 0.9223 - val_loss: 0.9386 - val_custom_mape_loss: 0.9711 - lr: 1.0000e-04\n",
      "Epoch 69/150\n",
      "59/59 [==============================] - 1s 21ms/step - loss: 0.9230 - custom_mape_loss: 0.9217 - val_loss: 0.9392 - val_custom_mape_loss: 0.9714 - lr: 1.0000e-04\n",
      "Epoch 70/150\n",
      "59/59 [==============================] - 1s 20ms/step - loss: 0.9236 - custom_mape_loss: 0.9229 - val_loss: 0.9393 - val_custom_mape_loss: 0.9717 - lr: 1.0000e-04\n",
      "Epoch 71/150\n",
      "59/59 [==============================] - 1s 22ms/step - loss: 0.9235 - custom_mape_loss: 0.9218 - val_loss: 0.9394 - val_custom_mape_loss: 0.9725 - lr: 1.0000e-04\n",
      "Epoch 72/150\n",
      "59/59 [==============================] - 1s 21ms/step - loss: 0.9232 - custom_mape_loss: 0.9219 - val_loss: 0.9384 - val_custom_mape_loss: 0.9705 - lr: 1.0000e-04\n",
      "Epoch 73/150\n",
      "59/59 [==============================] - 1s 21ms/step - loss: 0.9227 - custom_mape_loss: 0.9213 - val_loss: 0.9391 - val_custom_mape_loss: 0.9710 - lr: 1.0000e-04\n"
     ]
    }
   ],
   "source": [
    "\n",
    "# ================================\n",
    "# 4. MODELO LSTM\n",
    "# ================================\n",
    "from tensorflow.keras.models import Sequential\n",
    "from tensorflow.keras.layers import LSTM, Dense, Dropout\n",
    "from tensorflow.keras.regularizers import l2\n",
    "from tensorflow.keras.callbacks import EarlyStopping, ReduceLROnPlateau\n",
    "\n",
    "tf.random.set_seed(seed)\n",
    "\n",
    "def custom_mape_loss(y_true, y_pred):\n",
    "    \"\"\"\n",
    "    Pérdida personalizada: Mean Absolute Percentage Error (MAPE) modificado\n",
    "    donde el denominador es la suma total de los valores reales.\n",
    "    \"\"\"\n",
    "    numerator = tf.reduce_sum(tf.abs(y_true - y_pred))\n",
    "    denominator = tf.reduce_sum(tf.abs(y_true))\n",
    "    return numerator / (denominator + tf.keras.backend.epsilon())  # Evita división por cero\n",
    "\n",
    "for grupo in sets:\n",
    "    window_size = get_window_size(grupo)\n",
    "    set_data = sets[grupo]\n",
    "    X_train = set_data[\"X_train\"]\n",
    "    y_train = set_data[\"y_train\"]\n",
    "    X_test = set_data[\"X_test\"]\n",
    "    y_test = set_data[\"y_test\"]\n",
    "    \n",
    "    \n",
    "    \n",
    "    l2_lambda = config[\"l2_lambda\"]\n",
    "    optimizer = config[\"optimizer\"]\n",
    "    epochs = config[\"epochs\"]\n",
    "    batch_size = config[\"batch_size\"]\n",
    "    early_stopping_patience = config[\"early_stopping_patience\"]\n",
    "\n",
    "    def get_reg(l2_lambda):\n",
    "        return l2(l2_lambda) if l2_lambda > 0 else None\n",
    "\n",
    "    n_features = X.shape[2]\n",
    "    model = Sequential([\n",
    "        LSTM(128, activation='tanh', return_sequences=True, input_shape=(window_size, n_features)),\n",
    "        Dropout(0.3),\n",
    "        LSTM(64, return_sequences=True),\n",
    "        LSTM(32),\n",
    "        Dense(32, activation='relu', kernel_regularizer=get_reg(l2_lambda)),\n",
    "        Dense(1)\n",
    "    ])\n",
    "\n",
    "    model.compile(optimizer=optimizer, loss=custom_mape_loss, metrics=custom_mape_loss)\n",
    "\n",
    "    callbacks = [\n",
    "         EarlyStopping(patience=early_stopping_patience, restore_best_weights=True),\n",
    "        ReduceLROnPlateau(factor=0.1, patience=15)\n",
    "    ]\n",
    "\n",
    "    model.fit(\n",
    "        X_train, y_train,\n",
    "        epochs=epochs,\n",
    "        batch_size=batch_size,\n",
    "        validation_data=(X_test, y_test),\n",
    "        callbacks=callbacks,\n",
    "        verbose=1,\n",
    "    )\n",
    "    modelos[grupo] = model\n",
    "    # Evaluar el modelo\n",
    "    \n",
    "    loss, mae = model.evaluate(X_test, y_test, verbose=0)\n",
    "    metricas[grupo] = {\n",
    "        \"loss\": loss,\n",
    "        \"mae\": mae\n",
    "    }"
   ]
  },
  {
   "cell_type": "code",
   "execution_count": 13,
   "id": "865dbf29",
   "metadata": {},
   "outputs": [],
   "source": [
    "# ================================\n",
    "# 5. PREDICCIÓN t+2\n",
    "# ================================\n",
    "\n",
    "def predecir_t2(product_id, df_features_full):\n",
    "    \"\"\"\n",
    "    product_id: ID del producto a predecir.\n",
    "    df_features_full: dataframe con las features ya procesadas.\n",
    "    \"\"\"\n",
    "    df_prod = df_features_full[df_features_full[\"product_id\"] == product_id].copy()\n",
    "    scaler = scalers[product_id]\n",
    "\n",
    "    ultimos = df_prod[feature_cols].iloc[-window_size:]\n",
    "    ultimos_scaled = scaler.transform(ultimos)\n",
    "\n",
    "    X_new = ultimos_scaled.reshape(1, window_size, len(feature_cols))\n",
    "    y_pred_scaled = model.predict(X_new)\n",
    "\n",
    "    # Inversión del escalado solo sobre la primera columna (tn)\n",
    "    tn_mean = scaler.center_[0]\n",
    "    tn_std = scaler.scale_[0]\n",
    "\n",
    "    y_pred = y_pred_scaled[0][0] * tn_std + tn_mean\n",
    "    return y_pred"
   ]
  },
  {
   "cell_type": "code",
   "execution_count": 14,
   "id": "6c8495f9",
   "metadata": {},
   "outputs": [],
   "source": [
    "def predecir_todos_t2(df_features_full, scalers, feature_cols):\n",
    "    \"\"\"\n",
    "    Predice tn en t+2 para todos los productos que tengan suficientes datos.\n",
    "\n",
    "    Args:\n",
    "        df_features_full (pd.DataFrame): dataframe completo con features\n",
    "        model: modelo LSTM ya entrenado\n",
    "        scalers (dict): diccionario con los StandardScaler por producto\n",
    "        feature_cols (list): lista de columnas de features\n",
    "        window_size (int): tamaño de la ventana temporal\n",
    "\n",
    "    Returns:\n",
    "        pd.DataFrame: dataframe con columnas [\"product_id\", \"tn_t2_pred\"]\n",
    "    \"\"\"\n",
    "    productos = df_features_full[\"product_id\"].unique()\n",
    "    resultados = []\n",
    "    errores = []\n",
    "    for pid in productos:\n",
    "        y_pred = None\n",
    "        df_prod = df_features_full[df_features_full[\"product_id\"] == pid]\n",
    "        grupo = df_prod[\"grupo\"].iloc[0] if not df_prod.empty else 0\n",
    "        window_size = get_window_size(grupo)\n",
    "        if len(df_prod) < window_size:\n",
    "            y_pred = np.mean(df_prod[\"tn\"][-12:])  # Valor por defecto si falla la predicción\n",
    "            resultados.append({\"product_id\": pid, \"tn_t2_pred\": y_pred})\n",
    "            continue  # no hay suficientes datos\n",
    "\n",
    "        try:\n",
    "            ultimos = df_prod[feature_cols].iloc[-window_size:]\n",
    "            scaler = scalers[pid]\n",
    "            ultimos_scaled = scaler.transform(ultimos)\n",
    "\n",
    "            X_new = ultimos_scaled.reshape(1, window_size, len(feature_cols))\n",
    "            model = modelos[int(df_prod[\"grupo\"].iloc[0])]  # Obtener el modelo según el quantil\n",
    "            y_pred_scaled = model.predict(X_new, verbose=0)\n",
    "\n",
    "            # Desescalar\n",
    "            tn_mean = scaler.center_[0]\n",
    "            tn_std = scaler.scale_[0]\n",
    "            y_pred = y_pred_scaled[0][0] * tn_std + tn_mean\n",
    "\n",
    "            \n",
    "\n",
    "        except Exception as e:\n",
    "            errores.append(pid)\n",
    "            #print(f\"Error al predecir producto {pid}: {e}\")\n",
    "            \n",
    "        if y_pred is None or y_pred < 0:\n",
    "            y_pred = np.mean(df_prod[\"tn\"][-12:])  # Valor por defecto si falla la predicción\n",
    "\n",
    "            \n",
    "        resultados.append({\"product_id\": pid, \"tn_t2_pred\": y_pred})\n",
    "\n",
    "    print(f\"Errores en predicciones: {errores} de {len(productos)} productos\")\n",
    "    return pd.DataFrame(resultados), errores\n",
    "\n",
    "\n",
    "\n"
   ]
  },
  {
   "cell_type": "code",
   "execution_count": 15,
   "id": "ba8a4591",
   "metadata": {},
   "outputs": [
    {
     "name": "stdout",
     "output_type": "stream",
     "text": [
      "Errores en predicciones: [20127, 20210, 20621, 20662, 20673, 20711, 20720, 20732, 20774, 20827, 20904, 20910, 20912, 20927, 20933, 21007, 21035] de 558 productos\n",
      "Errores: 17 de 558 productos\n",
      "   product_id  tn_t2_pred\n",
      "0       20001    5.093401\n",
      "1       20002    3.630157\n",
      "2       20003    3.209207\n",
      "3       20004    2.110017\n",
      "4       20005    1.961916\n"
     ]
    }
   ],
   "source": [
    "df_preds_t2, errores = predecir_todos_t2(\n",
    "    df_features_full=df_features,\n",
    "    scalers=scalers,\n",
    "    feature_cols=feature_cols,\n",
    "    #window_size=window_size\n",
    ")\n",
    "print(f\"Errores: {len(errores)} de {len(df_features['product_id'].unique())} productos\")\n",
    "print(df_preds_t2.head())"
   ]
  },
  {
   "cell_type": "code",
   "execution_count": 16,
   "id": "fac38ee6",
   "metadata": {},
   "outputs": [
    {
     "data": {
      "application/vnd.microsoft.datawrangler.viewer.v0+json": {
       "columns": [
        {
         "name": "index",
         "rawType": "int64",
         "type": "integer"
        },
        {
         "name": "product_id",
         "rawType": "int64",
         "type": "integer"
        },
        {
         "name": "tn_t2_pred",
         "rawType": "float64",
         "type": "float"
        }
       ],
       "ref": "3155bc62-8f5a-46cf-a737-f88ac3569ede",
       "rows": [
        [
         "0",
         "20001",
         "5.093401493728161"
        ],
        [
         "1",
         "20002",
         "3.63015729226172"
        ],
        [
         "2",
         "20003",
         "3.209206802994013"
        ],
        [
         "3",
         "20004",
         "2.110016584098339"
        ],
        [
         "4",
         "20005",
         "1.961916268938221"
        ],
        [
         "5",
         "20006",
         "1.7202788638696076"
        ],
        [
         "6",
         "20007",
         "1.7343013096973303"
        ],
        [
         "7",
         "20008",
         "1.5640937528014187"
        ],
        [
         "8",
         "20009",
         "1.8692247089743614"
        ],
        [
         "9",
         "20010",
         "1.6210798251628875"
        ],
        [
         "10",
         "20011",
         "1.348047947473824"
        ],
        [
         "11",
         "20012",
         "1.4387872018665075"
        ],
        [
         "12",
         "20013",
         "1.3825551825761795"
        ],
        [
         "13",
         "20014",
         "1.3967316319048404"
        ],
        [
         "14",
         "20015",
         "1.234679959267378"
        ],
        [
         "15",
         "20016",
         "1.1894313972070811"
        ],
        [
         "16",
         "20017",
         "1.0634180806577207"
        ],
        [
         "17",
         "20018",
         "1.0290475107729435"
        ],
        [
         "18",
         "20019",
         "1.2770894452184438"
        ],
        [
         "19",
         "20020",
         "1.053109047524631"
        ],
        [
         "20",
         "20021",
         "1.0019888503570111"
        ],
        [
         "21",
         "20022",
         "1.0650344791635873"
        ],
        [
         "22",
         "20023",
         "0.8979530768934637"
        ],
        [
         "23",
         "20024",
         "0.8449338550120593"
        ],
        [
         "24",
         "20025",
         "0.8192793292924762"
        ],
        [
         "25",
         "20026",
         "0.8364243573322893"
        ],
        [
         "26",
         "20027",
         "0.7643925336794928"
        ],
        [
         "27",
         "20028",
         "0.8209714230895042"
        ],
        [
         "28",
         "20029",
         "0.7111304128170014"
        ],
        [
         "29",
         "20030",
         "0.6370318138971924"
        ],
        [
         "30",
         "20031",
         "0.7392861485737375"
        ],
        [
         "31",
         "20032",
         "2.051240581944585"
        ],
        [
         "32",
         "20033",
         "0.6327757529914378"
        ],
        [
         "33",
         "20035",
         "0.6393488392978907"
        ],
        [
         "34",
         "20037",
         "0.44318221241235733"
        ],
        [
         "35",
         "20038",
         "0.5865801861882209"
        ],
        [
         "36",
         "20039",
         "0.5381403089687228"
        ],
        [
         "37",
         "20041",
         "0.5193404833972455"
        ],
        [
         "38",
         "20042",
         "0.5455649105319754"
        ],
        [
         "39",
         "20043",
         "0.5289379570633174"
        ],
        [
         "40",
         "20044",
         "0.5650020967889576"
        ],
        [
         "41",
         "20045",
         "0.5441450534062461"
        ],
        [
         "42",
         "20046",
         "0.5398275467567146"
        ],
        [
         "43",
         "20047",
         "0.5541543701570482"
        ],
        [
         "44",
         "20049",
         "0.6135366830229758"
        ],
        [
         "45",
         "20050",
         "0.5164137096703053"
        ],
        [
         "46",
         "20051",
         "0.5153016205132008"
        ],
        [
         "47",
         "20052",
         "0.4665279208123684"
        ],
        [
         "48",
         "20053",
         "0.5427753444015979"
        ],
        [
         "49",
         "20054",
         "0.45843208029866217"
        ]
       ],
       "shape": {
        "columns": 2,
        "rows": 558
       }
      },
      "text/html": [
       "<div>\n",
       "<style scoped>\n",
       "    .dataframe tbody tr th:only-of-type {\n",
       "        vertical-align: middle;\n",
       "    }\n",
       "\n",
       "    .dataframe tbody tr th {\n",
       "        vertical-align: top;\n",
       "    }\n",
       "\n",
       "    .dataframe thead th {\n",
       "        text-align: right;\n",
       "    }\n",
       "</style>\n",
       "<table border=\"1\" class=\"dataframe\">\n",
       "  <thead>\n",
       "    <tr style=\"text-align: right;\">\n",
       "      <th></th>\n",
       "      <th>product_id</th>\n",
       "      <th>tn_t2_pred</th>\n",
       "    </tr>\n",
       "  </thead>\n",
       "  <tbody>\n",
       "    <tr>\n",
       "      <th>0</th>\n",
       "      <td>20001</td>\n",
       "      <td>5.093401</td>\n",
       "    </tr>\n",
       "    <tr>\n",
       "      <th>1</th>\n",
       "      <td>20002</td>\n",
       "      <td>3.630157</td>\n",
       "    </tr>\n",
       "    <tr>\n",
       "      <th>2</th>\n",
       "      <td>20003</td>\n",
       "      <td>3.209207</td>\n",
       "    </tr>\n",
       "    <tr>\n",
       "      <th>3</th>\n",
       "      <td>20004</td>\n",
       "      <td>2.110017</td>\n",
       "    </tr>\n",
       "    <tr>\n",
       "      <th>4</th>\n",
       "      <td>20005</td>\n",
       "      <td>1.961916</td>\n",
       "    </tr>\n",
       "    <tr>\n",
       "      <th>...</th>\n",
       "      <td>...</td>\n",
       "      <td>...</td>\n",
       "    </tr>\n",
       "    <tr>\n",
       "      <th>553</th>\n",
       "      <td>20968</td>\n",
       "      <td>0.010000</td>\n",
       "    </tr>\n",
       "    <tr>\n",
       "      <th>554</th>\n",
       "      <td>20975</td>\n",
       "      <td>0.012500</td>\n",
       "    </tr>\n",
       "    <tr>\n",
       "      <th>555</th>\n",
       "      <td>20995</td>\n",
       "      <td>0.012500</td>\n",
       "    </tr>\n",
       "    <tr>\n",
       "      <th>556</th>\n",
       "      <td>21007</td>\n",
       "      <td>0.008571</td>\n",
       "    </tr>\n",
       "    <tr>\n",
       "      <th>557</th>\n",
       "      <td>21035</td>\n",
       "      <td>0.008333</td>\n",
       "    </tr>\n",
       "  </tbody>\n",
       "</table>\n",
       "<p>558 rows × 2 columns</p>\n",
       "</div>"
      ],
      "text/plain": [
       "     product_id  tn_t2_pred\n",
       "0         20001    5.093401\n",
       "1         20002    3.630157\n",
       "2         20003    3.209207\n",
       "3         20004    2.110017\n",
       "4         20005    1.961916\n",
       "..          ...         ...\n",
       "553       20968    0.010000\n",
       "554       20975    0.012500\n",
       "555       20995    0.012500\n",
       "556       21007    0.008571\n",
       "557       21035    0.008333\n",
       "\n",
       "[558 rows x 2 columns]"
      ]
     },
     "execution_count": 16,
     "metadata": {},
     "output_type": "execute_result"
    }
   ],
   "source": [
    "df_preds_t2"
   ]
  },
  {
   "cell_type": "code",
   "execution_count": 17,
   "id": "54a1ea64",
   "metadata": {},
   "outputs": [],
   "source": [
    "dforig = pd.read_csv(\"../datasets/sell-in.txt.gz\", sep=\"\\t\")\n",
    "total_diciembre = dforig.query(\"periodo == 201912\")[\"tn\"].sum()\n",
    "df_preds_t2[\"tn_t2_pred\"] = df_preds_t2[\"tn_t2_pred\"]"
   ]
  },
  {
   "cell_type": "code",
   "execution_count": 18,
   "id": "8f1d8260",
   "metadata": {},
   "outputs": [
    {
     "data": {
      "application/vnd.microsoft.datawrangler.viewer.v0+json": {
       "columns": [
        {
         "name": "index",
         "rawType": "int64",
         "type": "integer"
        },
        {
         "name": "product_id",
         "rawType": "int64",
         "type": "integer"
        },
        {
         "name": "periodo",
         "rawType": "datetime64[ns]",
         "type": "datetime"
        },
        {
         "name": "tn",
         "rawType": "float64",
         "type": "float"
        },
        {
         "name": "grupo",
         "rawType": "int32",
         "type": "integer"
        },
        {
         "name": "tn_lag1",
         "rawType": "float64",
         "type": "float"
        },
        {
         "name": "tn_diff1",
         "rawType": "float64",
         "type": "float"
        },
        {
         "name": "sin_mes",
         "rawType": "float64",
         "type": "float"
        },
        {
         "name": "quarter",
         "rawType": "int32",
         "type": "integer"
        },
        {
         "name": "month",
         "rawType": "int32",
         "type": "integer"
        },
        {
         "name": "rolling_mean6",
         "rawType": "float64",
         "type": "float"
        },
        {
         "name": "rolling_std6",
         "rawType": "float64",
         "type": "float"
        },
        {
         "name": "tn_t2_pred",
         "rawType": "float64",
         "type": "float"
        }
       ],
       "ref": "0feee31e-5756-4eac-991e-65bc2828288a",
       "rows": [
        [
         "0",
         "20001",
         "2019-12-01 00:00:00",
         "5.98",
         "4",
         "4.35",
         "1.6300000000000008",
         "-2.4492935982947064e-16",
         "4",
         "12",
         "4.681666666666667",
         "0.6639101344810664",
         "5.093401493728161"
        ],
        [
         "1",
         "20002",
         "2019-12-01 00:00:00",
         "4.32",
         "4",
         "4.43",
         "-0.10999999999999943",
         "-2.4492935982947064e-16",
         "4",
         "12",
         "3.871666666666666",
         "1.0028642314225111",
         "3.63015729226172"
        ],
        [
         "2",
         "20003",
         "2019-12-01 00:00:00",
         "3.55",
         "4",
         "2.95",
         "0.5999999999999996",
         "-2.4492935982947064e-16",
         "4",
         "12",
         "2.6799999999999997",
         "0.3943602414037212",
         "3.209206802994013"
        ],
        [
         "3",
         "20004",
         "2019-12-01 00:00:00",
         "2.54",
         "4",
         "2.25",
         "0.29000000000000004",
         "-2.4492935982947064e-16",
         "4",
         "12",
         "2.255",
         "0.4661223015475654",
         "2.110016584098339"
        ],
        [
         "4",
         "20005",
         "2019-12-01 00:00:00",
         "2.36",
         "4",
         "1.89",
         "0.47",
         "-2.4492935982947064e-16",
         "4",
         "12",
         "2.4816666666666665",
         "0.3861303752188716",
         "1.961916268938221"
        ],
        [
         "5",
         "20006",
         "2019-12-01 00:00:00",
         "1.66",
         "4",
         "1.24",
         "0.41999999999999993",
         "-2.4492935982947064e-16",
         "4",
         "12",
         "1.28",
         "0.18330302779822993",
         "1.7202788638696076"
        ],
        [
         "6",
         "20007",
         "2019-12-01 00:00:00",
         "1.55",
         "4",
         "1.11",
         "0.43999999999999995",
         "-2.4492935982947064e-16",
         "4",
         "12",
         "1.3933333333333333",
         "0.30904152903237003",
         "1.7343013096973303"
        ],
        [
         "7",
         "20008",
         "2019-12-01 00:00:00",
         "0.78",
         "4",
         "1.23",
         "-0.44999999999999996",
         "-2.4492935982947064e-16",
         "4",
         "12",
         "1.335",
         "0.34978564864785483",
         "1.5640937528014187"
        ],
        [
         "8",
         "20009",
         "2019-12-01 00:00:00",
         "1.97",
         "4",
         "2.21",
         "-0.24",
         "-2.4492935982947064e-16",
         "4",
         "12",
         "1.9883333333333333",
         "0.28202245773460244",
         "1.8692247089743614"
        ],
        [
         "9",
         "20010",
         "2019-12-01 00:00:00",
         "1.43",
         "4",
         "1.47",
         "-0.040000000000000036",
         "-2.4492935982947064e-16",
         "4",
         "12",
         "1.4366666666666665",
         "0.3702251567177276",
         "1.6210798251628875"
        ],
        [
         "10",
         "20011",
         "2019-12-01 00:00:00",
         "1.56",
         "4",
         "0.92",
         "0.64",
         "-2.4492935982947064e-16",
         "4",
         "12",
         "1.2316666666666667",
         "0.18540945678866105",
         "1.348047947473824"
        ],
        [
         "11",
         "20012",
         "2019-12-01 00:00:00",
         "0.69",
         "4",
         "1.11",
         "-0.42000000000000015",
         "-2.4492935982947064e-16",
         "4",
         "12",
         "1.065",
         "0.22169799277395402",
         "1.4387872018665075"
        ],
        [
         "12",
         "20013",
         "2019-12-01 00:00:00",
         "1.27",
         "4",
         "1.05",
         "0.21999999999999997",
         "-2.4492935982947064e-16",
         "4",
         "12",
         "1.33",
         "0.37464650005038064",
         "1.3825551825761795"
        ],
        [
         "13",
         "20014",
         "2019-12-01 00:00:00",
         "1.08",
         "4",
         "1.29",
         "-0.20999999999999996",
         "-2.4492935982947064e-16",
         "4",
         "12",
         "1.4216666666666666",
         "0.20193233190023555",
         "1.3967316319048404"
        ],
        [
         "14",
         "20015",
         "2019-12-01 00:00:00",
         "1.18",
         "4",
         "1.0",
         "0.17999999999999994",
         "-2.4492935982947064e-16",
         "4",
         "12",
         "1.2933333333333332",
         "0.19976653039652714",
         "1.234679959267378"
        ],
        [
         "15",
         "20016",
         "2019-12-01 00:00:00",
         "1.09",
         "4",
         "0.94",
         "0.15000000000000013",
         "-2.4492935982947064e-16",
         "4",
         "12",
         "0.9400000000000001",
         "0.14394443372357194",
         "1.1894313972070811"
        ],
        [
         "16",
         "20017",
         "2019-12-01 00:00:00",
         "0.86",
         "4",
         "0.67",
         "0.18999999999999995",
         "-2.4492935982947064e-16",
         "4",
         "12",
         "0.77",
         "0.08197560612767825",
         "1.0634180806577207"
        ],
        [
         "17",
         "20018",
         "2019-12-01 00:00:00",
         "0.56",
         "4",
         "0.79",
         "-0.22999999999999998",
         "-2.4492935982947064e-16",
         "4",
         "12",
         "0.75",
         "0.13461054936370906",
         "1.0290475107729435"
        ],
        [
         "18",
         "20019",
         "2019-12-01 00:00:00",
         "1.4",
         "4",
         "1.17",
         "0.22999999999999998",
         "-2.4492935982947064e-16",
         "4",
         "12",
         "1.0216666666666667",
         "0.2049796737890534",
         "1.2770894452184438"
        ],
        [
         "19",
         "20020",
         "2019-12-01 00:00:00",
         "1.06",
         "4",
         "1.0",
         "0.06000000000000005",
         "-2.4492935982947064e-16",
         "4",
         "12",
         "0.9066666666666666",
         "0.1385159437273061",
         "1.053109047524631"
        ],
        [
         "20",
         "20021",
         "2019-12-01 00:00:00",
         "0.81",
         "4",
         "0.88",
         "-0.06999999999999995",
         "-2.4492935982947064e-16",
         "4",
         "12",
         "0.8783333333333333",
         "0.20093946020298473",
         "1.0019888503570111"
        ],
        [
         "21",
         "20022",
         "2019-12-01 00:00:00",
         "0.84",
         "4",
         "1.08",
         "-0.2400000000000001",
         "-2.4492935982947064e-16",
         "4",
         "12",
         "0.9649999999999999",
         "0.2508186595929422",
         "1.0650344791635873"
        ],
        [
         "22",
         "20023",
         "2019-12-01 00:00:00",
         "0.72",
         "4",
         "0.86",
         "-0.14",
         "-2.4492935982947064e-16",
         "4",
         "12",
         "0.9916666666666667",
         "0.1354129486669081",
         "0.8979530768934637"
        ],
        [
         "23",
         "20024",
         "2019-12-01 00:00:00",
         "1.08",
         "4",
         "0.49",
         "0.5900000000000001",
         "-2.4492935982947064e-16",
         "4",
         "12",
         "0.705",
         "0.15109599597606885",
         "0.8449338550120593"
        ],
        [
         "24",
         "20025",
         "2019-12-01 00:00:00",
         "0.96",
         "4",
         "0.76",
         "0.19999999999999996",
         "-2.4492935982947064e-16",
         "4",
         "12",
         "0.7516666666666666",
         "0.179378556875304",
         "0.8192793292924762"
        ],
        [
         "25",
         "20026",
         "2019-12-01 00:00:00",
         "0.93",
         "4",
         "0.97",
         "-0.039999999999999925",
         "-2.4492935982947064e-16",
         "4",
         "12",
         "0.7833333333333333",
         "0.21011108173217946",
         "0.8364243573322893"
        ],
        [
         "26",
         "20027",
         "2019-12-01 00:00:00",
         "0.62",
         "4",
         "0.87",
         "-0.25",
         "-2.4492935982947064e-16",
         "4",
         "12",
         "0.75",
         "0.11781341180018522",
         "0.7643925336794928"
        ],
        [
         "27",
         "20028",
         "2019-12-01 00:00:00",
         "0.44",
         "4",
         "1.0",
         "-0.56",
         "-2.4492935982947064e-16",
         "4",
         "12",
         "0.6516666666666666",
         "0.3268893798621588",
         "0.8209714230895042"
        ],
        [
         "28",
         "20029",
         "2019-12-01 00:00:00",
         "0.6",
         "4",
         "0.5",
         "0.09999999999999998",
         "-2.4492935982947064e-16",
         "4",
         "12",
         "0.48333333333333334",
         "0.07201851613763575",
         "0.7111304128170014"
        ],
        [
         "29",
         "20030",
         "2019-12-01 00:00:00",
         "0.41",
         "4",
         "0.3",
         "0.10999999999999999",
         "-2.4492935982947064e-16",
         "4",
         "12",
         "0.40499999999999997",
         "0.10709808588391935",
         "0.6370318138971924"
        ],
        [
         "30",
         "20031",
         "2019-12-01 00:00:00",
         "0.56",
         "4",
         "1.09",
         "-0.53",
         "-2.4492935982947064e-16",
         "4",
         "12",
         "0.625",
         "0.2559492137124083",
         "0.7392861485737375"
        ],
        [
         "31",
         "20032",
         "2019-12-01 00:00:00",
         "2.1",
         "4",
         "2.82",
         "-0.7199999999999998",
         "-2.4492935982947064e-16",
         "4",
         "12",
         "2.3349999999999995",
         "0.4327470392735233",
         "2.051240581944585"
        ],
        [
         "32",
         "20033",
         "2019-12-01 00:00:00",
         "0.38",
         "4",
         "0.57",
         "-0.18999999999999995",
         "-2.4492935982947064e-16",
         "4",
         "12",
         "0.7016666666666667",
         "0.16857243744653724",
         "0.6327757529914378"
        ],
        [
         "33",
         "20035",
         "2019-12-01 00:00:00",
         "0.72",
         "4",
         "0.59",
         "0.13",
         "-2.4492935982947064e-16",
         "4",
         "12",
         "0.5466666666666667",
         "0.11604596790352804",
         "0.6393488392978907"
        ],
        [
         "34",
         "20037",
         "2019-12-01 00:00:00",
         "0.25",
         "4",
         "0.29",
         "-0.03999999999999998",
         "-2.4492935982947064e-16",
         "4",
         "12",
         "0.5",
         "0.20099751242241773",
         "0.44318221241235733"
        ],
        [
         "35",
         "20038",
         "2019-12-01 00:00:00",
         "0.63",
         "4",
         "0.42",
         "0.21000000000000002",
         "-2.4492935982947064e-16",
         "4",
         "12",
         "0.5166666666666667",
         "0.0898146239020498",
         "0.5865801861882209"
        ],
        [
         "36",
         "20039",
         "2019-12-01 00:00:00",
         "0.51",
         "4",
         "0.35",
         "0.16000000000000003",
         "-2.4492935982947064e-16",
         "4",
         "12",
         "0.45166666666666666",
         "0.10303721010715874",
         "0.5381403089687228"
        ],
        [
         "37",
         "20041",
         "2019-12-01 00:00:00",
         "0.45",
         "4",
         "0.3",
         "0.15000000000000002",
         "-2.4492935982947064e-16",
         "4",
         "12",
         "0.48333333333333334",
         "0.12628011192055008",
         "0.5193404833972455"
        ],
        [
         "38",
         "20042",
         "2019-12-01 00:00:00",
         "0.49",
         "4",
         "0.64",
         "-0.15000000000000002",
         "-2.4492935982947064e-16",
         "4",
         "12",
         "0.5833333333333334",
         "0.11129540272026826",
         "0.5455649105319754"
        ],
        [
         "39",
         "20043",
         "2019-12-01 00:00:00",
         "0.37",
         "4",
         "0.47",
         "-0.09999999999999998",
         "-2.4492935982947064e-16",
         "4",
         "12",
         "0.4416666666666667",
         "0.058109092805400143",
         "0.5289379570633174"
        ],
        [
         "40",
         "20044",
         "2019-12-01 00:00:00",
         "0.24",
         "4",
         "0.71",
         "-0.47",
         "-2.4492935982947064e-16",
         "4",
         "12",
         "0.5499999999999999",
         "0.14818906842274165",
         "0.5650020967889576"
        ],
        [
         "41",
         "20045",
         "2019-12-01 00:00:00",
         "0.6",
         "4",
         "0.43",
         "0.16999999999999998",
         "-2.4492935982947064e-16",
         "4",
         "12",
         "0.45999999999999996",
         "0.09695359714832626",
         "0.5441450534062461"
        ],
        [
         "42",
         "20046",
         "2019-12-01 00:00:00",
         "0.6",
         "4",
         "0.45",
         "0.14999999999999997",
         "-2.4492935982947064e-16",
         "4",
         "12",
         "0.5216666666666666",
         "0.15791347841988232",
         "0.5398275467567146"
        ],
        [
         "43",
         "20047",
         "2019-12-01 00:00:00",
         "0.28",
         "4",
         "0.78",
         "-0.5",
         "-2.4492935982947064e-16",
         "4",
         "12",
         "0.525",
         "0.15681198933755022",
         "0.5541543701570482"
        ],
        [
         "44",
         "20049",
         "2019-12-01 00:00:00",
         "0.5",
         "4",
         "0.48",
         "0.020000000000000018",
         "-2.4492935982947064e-16",
         "4",
         "12",
         "0.7200000000000001",
         "0.13579396157414372",
         "0.6135366830229758"
        ],
        [
         "45",
         "20050",
         "2019-12-01 00:00:00",
         "0.47",
         "4",
         "0.45",
         "0.019999999999999962",
         "-2.4492935982947064e-16",
         "4",
         "12",
         "0.435",
         "0.03331666249791557",
         "0.5164137096703053"
        ],
        [
         "46",
         "20051",
         "2019-12-01 00:00:00",
         "0.53",
         "4",
         "0.33",
         "0.2",
         "-2.4492935982947064e-16",
         "4",
         "12",
         "0.47000000000000003",
         "0.08809086218218112",
         "0.5153016205132008"
        ],
        [
         "47",
         "20052",
         "2019-12-01 00:00:00",
         "0.38",
         "4",
         "0.25",
         "0.13",
         "-2.4492935982947064e-16",
         "4",
         "12",
         "0.395",
         "0.09049861877399132",
         "0.4665279208123684"
        ],
        [
         "48",
         "20053",
         "2019-12-01 00:00:00",
         "0.58",
         "4",
         "0.54",
         "0.039999999999999925",
         "-2.4492935982947064e-16",
         "4",
         "12",
         "0.465",
         "0.10540398474441094",
         "0.5427753444015979"
        ],
        [
         "49",
         "20054",
         "2019-12-01 00:00:00",
         "0.48",
         "4",
         "0.53",
         "-0.050000000000000044",
         "-2.4492935982947064e-16",
         "4",
         "12",
         "0.44",
         "0.09838699100999095",
         "0.45843208029866217"
        ]
       ],
       "shape": {
        "columns": 12,
        "rows": 558
       }
      },
      "text/html": [
       "<div>\n",
       "<style scoped>\n",
       "    .dataframe tbody tr th:only-of-type {\n",
       "        vertical-align: middle;\n",
       "    }\n",
       "\n",
       "    .dataframe tbody tr th {\n",
       "        vertical-align: top;\n",
       "    }\n",
       "\n",
       "    .dataframe thead th {\n",
       "        text-align: right;\n",
       "    }\n",
       "</style>\n",
       "<table border=\"1\" class=\"dataframe\">\n",
       "  <thead>\n",
       "    <tr style=\"text-align: right;\">\n",
       "      <th></th>\n",
       "      <th>product_id</th>\n",
       "      <th>periodo</th>\n",
       "      <th>tn</th>\n",
       "      <th>grupo</th>\n",
       "      <th>tn_lag1</th>\n",
       "      <th>tn_diff1</th>\n",
       "      <th>sin_mes</th>\n",
       "      <th>quarter</th>\n",
       "      <th>month</th>\n",
       "      <th>rolling_mean6</th>\n",
       "      <th>rolling_std6</th>\n",
       "      <th>tn_t2_pred</th>\n",
       "    </tr>\n",
       "  </thead>\n",
       "  <tbody>\n",
       "    <tr>\n",
       "      <th>0</th>\n",
       "      <td>20001</td>\n",
       "      <td>2019-12-01</td>\n",
       "      <td>5.98</td>\n",
       "      <td>4</td>\n",
       "      <td>4.35</td>\n",
       "      <td>1.63</td>\n",
       "      <td>-2.449294e-16</td>\n",
       "      <td>4</td>\n",
       "      <td>12</td>\n",
       "      <td>4.681667</td>\n",
       "      <td>0.663910</td>\n",
       "      <td>5.093401</td>\n",
       "    </tr>\n",
       "    <tr>\n",
       "      <th>1</th>\n",
       "      <td>20002</td>\n",
       "      <td>2019-12-01</td>\n",
       "      <td>4.32</td>\n",
       "      <td>4</td>\n",
       "      <td>4.43</td>\n",
       "      <td>-0.11</td>\n",
       "      <td>-2.449294e-16</td>\n",
       "      <td>4</td>\n",
       "      <td>12</td>\n",
       "      <td>3.871667</td>\n",
       "      <td>1.002864</td>\n",
       "      <td>3.630157</td>\n",
       "    </tr>\n",
       "    <tr>\n",
       "      <th>2</th>\n",
       "      <td>20003</td>\n",
       "      <td>2019-12-01</td>\n",
       "      <td>3.55</td>\n",
       "      <td>4</td>\n",
       "      <td>2.95</td>\n",
       "      <td>0.60</td>\n",
       "      <td>-2.449294e-16</td>\n",
       "      <td>4</td>\n",
       "      <td>12</td>\n",
       "      <td>2.680000</td>\n",
       "      <td>0.394360</td>\n",
       "      <td>3.209207</td>\n",
       "    </tr>\n",
       "    <tr>\n",
       "      <th>3</th>\n",
       "      <td>20004</td>\n",
       "      <td>2019-12-01</td>\n",
       "      <td>2.54</td>\n",
       "      <td>4</td>\n",
       "      <td>2.25</td>\n",
       "      <td>0.29</td>\n",
       "      <td>-2.449294e-16</td>\n",
       "      <td>4</td>\n",
       "      <td>12</td>\n",
       "      <td>2.255000</td>\n",
       "      <td>0.466122</td>\n",
       "      <td>2.110017</td>\n",
       "    </tr>\n",
       "    <tr>\n",
       "      <th>4</th>\n",
       "      <td>20005</td>\n",
       "      <td>2019-12-01</td>\n",
       "      <td>2.36</td>\n",
       "      <td>4</td>\n",
       "      <td>1.89</td>\n",
       "      <td>0.47</td>\n",
       "      <td>-2.449294e-16</td>\n",
       "      <td>4</td>\n",
       "      <td>12</td>\n",
       "      <td>2.481667</td>\n",
       "      <td>0.386130</td>\n",
       "      <td>1.961916</td>\n",
       "    </tr>\n",
       "    <tr>\n",
       "      <th>...</th>\n",
       "      <td>...</td>\n",
       "      <td>...</td>\n",
       "      <td>...</td>\n",
       "      <td>...</td>\n",
       "      <td>...</td>\n",
       "      <td>...</td>\n",
       "      <td>...</td>\n",
       "      <td>...</td>\n",
       "      <td>...</td>\n",
       "      <td>...</td>\n",
       "      <td>...</td>\n",
       "      <td>...</td>\n",
       "    </tr>\n",
       "    <tr>\n",
       "      <th>553</th>\n",
       "      <td>20968</td>\n",
       "      <td>2019-12-01</td>\n",
       "      <td>0.01</td>\n",
       "      <td>1</td>\n",
       "      <td>0.01</td>\n",
       "      <td>0.00</td>\n",
       "      <td>-2.449294e-16</td>\n",
       "      <td>4</td>\n",
       "      <td>12</td>\n",
       "      <td>0.000000</td>\n",
       "      <td>0.000000</td>\n",
       "      <td>0.010000</td>\n",
       "    </tr>\n",
       "    <tr>\n",
       "      <th>554</th>\n",
       "      <td>20975</td>\n",
       "      <td>2019-12-01</td>\n",
       "      <td>0.01</td>\n",
       "      <td>1</td>\n",
       "      <td>0.01</td>\n",
       "      <td>0.00</td>\n",
       "      <td>-2.449294e-16</td>\n",
       "      <td>4</td>\n",
       "      <td>12</td>\n",
       "      <td>0.000000</td>\n",
       "      <td>0.000000</td>\n",
       "      <td>0.012500</td>\n",
       "    </tr>\n",
       "    <tr>\n",
       "      <th>555</th>\n",
       "      <td>20995</td>\n",
       "      <td>2019-12-01</td>\n",
       "      <td>0.01</td>\n",
       "      <td>1</td>\n",
       "      <td>0.01</td>\n",
       "      <td>0.00</td>\n",
       "      <td>-2.449294e-16</td>\n",
       "      <td>4</td>\n",
       "      <td>12</td>\n",
       "      <td>0.000000</td>\n",
       "      <td>0.000000</td>\n",
       "      <td>0.012500</td>\n",
       "    </tr>\n",
       "    <tr>\n",
       "      <th>556</th>\n",
       "      <td>21007</td>\n",
       "      <td>2019-12-01</td>\n",
       "      <td>0.01</td>\n",
       "      <td>1</td>\n",
       "      <td>0.01</td>\n",
       "      <td>0.00</td>\n",
       "      <td>-2.449294e-16</td>\n",
       "      <td>4</td>\n",
       "      <td>12</td>\n",
       "      <td>0.008333</td>\n",
       "      <td>0.004082</td>\n",
       "      <td>0.008571</td>\n",
       "    </tr>\n",
       "    <tr>\n",
       "      <th>557</th>\n",
       "      <td>21035</td>\n",
       "      <td>2019-12-01</td>\n",
       "      <td>0.01</td>\n",
       "      <td>0</td>\n",
       "      <td>0.01</td>\n",
       "      <td>0.00</td>\n",
       "      <td>-2.449294e-16</td>\n",
       "      <td>4</td>\n",
       "      <td>12</td>\n",
       "      <td>0.000000</td>\n",
       "      <td>0.000000</td>\n",
       "      <td>0.008333</td>\n",
       "    </tr>\n",
       "  </tbody>\n",
       "</table>\n",
       "<p>558 rows × 12 columns</p>\n",
       "</div>"
      ],
      "text/plain": [
       "     product_id    periodo    tn  grupo  tn_lag1  tn_diff1       sin_mes  \\\n",
       "0         20001 2019-12-01  5.98      4     4.35      1.63 -2.449294e-16   \n",
       "1         20002 2019-12-01  4.32      4     4.43     -0.11 -2.449294e-16   \n",
       "2         20003 2019-12-01  3.55      4     2.95      0.60 -2.449294e-16   \n",
       "3         20004 2019-12-01  2.54      4     2.25      0.29 -2.449294e-16   \n",
       "4         20005 2019-12-01  2.36      4     1.89      0.47 -2.449294e-16   \n",
       "..          ...        ...   ...    ...      ...       ...           ...   \n",
       "553       20968 2019-12-01  0.01      1     0.01      0.00 -2.449294e-16   \n",
       "554       20975 2019-12-01  0.01      1     0.01      0.00 -2.449294e-16   \n",
       "555       20995 2019-12-01  0.01      1     0.01      0.00 -2.449294e-16   \n",
       "556       21007 2019-12-01  0.01      1     0.01      0.00 -2.449294e-16   \n",
       "557       21035 2019-12-01  0.01      0     0.01      0.00 -2.449294e-16   \n",
       "\n",
       "     quarter  month  rolling_mean6  rolling_std6  tn_t2_pred  \n",
       "0          4     12       4.681667      0.663910    5.093401  \n",
       "1          4     12       3.871667      1.002864    3.630157  \n",
       "2          4     12       2.680000      0.394360    3.209207  \n",
       "3          4     12       2.255000      0.466122    2.110017  \n",
       "4          4     12       2.481667      0.386130    1.961916  \n",
       "..       ...    ...            ...           ...         ...  \n",
       "553        4     12       0.000000      0.000000    0.010000  \n",
       "554        4     12       0.000000      0.000000    0.012500  \n",
       "555        4     12       0.000000      0.000000    0.012500  \n",
       "556        4     12       0.008333      0.004082    0.008571  \n",
       "557        4     12       0.000000      0.000000    0.008333  \n",
       "\n",
       "[558 rows x 12 columns]"
      ]
     },
     "execution_count": 18,
     "metadata": {},
     "output_type": "execute_result"
    }
   ],
   "source": [
    "df_final = df_test.merge(df_preds_t2, on=\"product_id\", how=\"left\")\n",
    "df_final"
   ]
  },
  {
   "cell_type": "code",
   "execution_count": 19,
   "id": "2ba72dab",
   "metadata": {},
   "outputs": [
    {
     "data": {
      "text/plain": [
       "0.23342133285724606"
      ]
     },
     "execution_count": 19,
     "metadata": {},
     "output_type": "execute_result"
    }
   ],
   "source": [
    "numerador = (df_final[\"tn\"]- df_final[\"tn_t2_pred\"]).abs().sum()\n",
    "denominador = df_final[\"tn\"].sum()\n",
    "porcentaje_error = (numerador / denominador)\n",
    "porcentaje_error"
   ]
  },
  {
   "cell_type": "code",
   "execution_count": 20,
   "id": "83438dba",
   "metadata": {},
   "outputs": [
    {
     "data": {
      "image/png": "[encoded data removed]",
      "text/plain": [
       "<Figure size 640x480 with 1 Axes>"
      ]
     },
     "metadata": {},
     "output_type": "display_data"
    }
   ],
   "source": [
    "import matplotlib.pyplot as plt\n",
    "df_final.plot(kind=\"scatter\", x=\"tn\", y=\"tn_t2_pred\", title=\"Predicciones vs TN\")\n",
    "plt.plot([0, 6], [0, 6], 'r--')\n",
    "plt.show()"
   ]
  },
  {
   "cell_type": "code",
   "execution_count": 23,
   "id": "8efe03d7",
   "metadata": {},
   "outputs": [
    {
     "data": {
      "application/vnd.plotly.v1+json": {
       "config": {
        "plotlyServerURL": "https://plot.ly"
       },
       "data": [
        {
         "customdata": {
          "bdata": "IU4oTixOIk4yTiROAVElTjxOI05MTi5OcE5PToROb05BTjhOr04+TjZOaE4rTjFOf05FTjVOKk55TidOWE5tTnpOP043TjtRV051TktOhk47TjlOlE7ITo9OgE4zTpBOl05lTnZOWU5RTi1Oqk49TmZOKU6yTjBODE+2TmFOOk6lTlROfk6uTqROQ04qTwRPlU7PTmlOwk5uT2xOSU4ST5xOY04mTmJOTk4pT8RO+E64Tk1OSk7vTi9O807WTp5Oh058TttOUE9ATtBOSU90TlJOmk+KTtNOdE+pTgJPi04DTy9Pe05GToxO0U4XUOtOYU9STy5PmU7BTtxOTlBiT6tPNk89TxlPCk++TrtOg05HT/FOZ07gTphOVU6wTthOcU41T8ZOkk5+T05Pck5qTlxPg09aTrFOd04RTzlPuU/yTlVPTU+XT/VOZU/9T15O6E7hTglP8E5HTkFPS09WTwBPpU/+TpBPHE8NT6dOgU6dTuZOQk+UTz5PfFC9TqtOHU/RTyVPQ08pUNdOVk7RUDpPjU4kUfFP8E+BUKNP5U8IUHBPrE8sT+lOfU9ET3JPf0/kTplPgU88T79PL1CbTjxQK1ALT0pPe1B8T3VPYVBkTiNPYFBoTxRPtE6fT9pPX1D8TtZPoE9ZT5lQ6k7/TwhPRFCdT6lQKE9PUKxOpE+hTxlQaVCFTztP7k7sT5tPU07dTltPG0/ATuVOX062UPpOcVDiT4BPFlH8UC5Qhk99TrJPIVAzT7dOEE+HUFtRs1DCUPdOdk+MT35Q01BrTv1Q1U7tTm9PQE8eUJNQBFBgUYpPPVDST3hQelBjUGJQolCJUGdQEVDITxZQ0E+NUNZQhlB9UG1Qn1AOT8hQMlCEUGRPtk8wT3FPs09MTzFPLFBYUOhPAFBIUAdPjk8iUP5PaU9TTwJQS1DBTxxQylAfTzFRY0+rUcdQXU/FTwpRX09FUEhPLU/YUM5O6lDkUAhRJk9ZUIdP8k9JUA9PhU6cT+dQ9U/DT7hPmk4aUXBQV08rT1pQFk9aTzRO2E8hTx5P8FA4T55QAU8mUb5Px05dTrlOlFChUCpQmFCfTq5RsFELUGxPeE+3T/tOj1A5UPlPjFDqT9dR0VH8TzpQT08zUMFQLVBWUcpOulABUDRQpk4SUb9OBk/vUQNS4lGmT9ROek9nT09Rg1BXUKhRxVErUqJOZFBmTw9Sv1H6T+VQQVE5UdVQR1HZUN5QKFB3TydPdFCWTvZPoU7vT1tO9E7JUN9PIE/rT4lPuk+0TzRPA1APUNxQj09eUI5QQ1BgT7VQnk+sUKBQq1BVULtQok8lULJQflFfUa1QOFDAUBRQhE9qT9tPgk/SUS9RKVEnUcRRdVF7UUtRvFG4UbVRDlGmUUlRrFEDURlRF1ENUf9Q3VC7T7FPplCNT3dQnVCuUFtQUFBHUEBQkFA+ULBP71A7UBBQFVGkUFdRxVCVUK9QXFBUUehR31CjUc5Q",
          "dtype": "i2"
         },
         "hovertemplate": "<b>TN Real</b>: %{x}<br><b>TN Predicho</b>: %{y}<br><b>Product ID</b>: %{customdata}<br><extra></extra>",
         "marker": {
          "opacity": 0.7,
          "size": 8
         },
         "mode": "markers",
         "name": "Datos",
         "type": "scatter",
         "x": {
          "bdata": "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",
          "dtype": "f8"
         },
         "y": {
          "bdata": "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",
          "dtype": "f8"
         }
        },
        {
         "line": {
          "color": "red",
          "dash": "dash"
         },
         "mode": "lines",
         "name": "y = x",
         "type": "scatter",
         "x": [
          0,
          1400
         ],
         "y": [
          0,
          1400
         ]
        }
       ],
       "layout": {
        "height": 600,
        "showlegend": true,
        "template": {
         "data": {
          "bar": [
           {
            "error_x": {
             "color": "#2a3f5f"
            },
            "error_y": {
             "color": "#2a3f5f"
            },
            "marker": {
             "line": {
              "color": "#E5ECF6",
              "width": 0.5
             },
             "pattern": {
              "fillmode": "overlay",
              "size": 10,
              "solidity": 0.2
             }
            },
            "type": "bar"
           }
          ],
          "barpolar": [
           {
            "marker": {
             "line": {
              "color": "#E5ECF6",
              "width": 0.5
             },
             "pattern": {
              "fillmode": "overlay",
              "size": 10,
              "solidity": 0.2
             }
            },
            "type": "barpolar"
           }
          ],
          "carpet": [
           {
            "aaxis": {
             "endlinecolor": "#2a3f5f",
             "gridcolor": "white",
             "linecolor": "white",
             "minorgridcolor": "white",
             "startlinecolor": "#2a3f5f"
            },
            "baxis": {
             "endlinecolor": "#2a3f5f",
             "gridcolor": "white",
             "linecolor": "white",
             "minorgridcolor": "white",
             "startlinecolor": "#2a3f5f"
            },
            "type": "carpet"
           }
          ],
          "choropleth": [
           {
            "colorbar": {
             "outlinewidth": 0,
             "ticks": ""
            },
            "type": "choropleth"
           }
          ],
          "contour": [
           {
            "colorbar": {
             "outlinewidth": 0,
             "ticks": ""
            },
            "colorscale": [
             [
              0,
              "#0d0887"
             ],
             [
              0.1111111111111111,
              "#46039f"
             ],
             [
              0.2222222222222222,
              "#7201a8"
             ],
             [
              0.3333333333333333,
              "#9c179e"
             ],
             [
              0.4444444444444444,
              "#bd3786"
             ],
             [
              0.5555555555555556,
              "#d8576b"
             ],
             [
              0.6666666666666666,
              "#ed7953"
             ],
             [
              0.7777777777777778,
              "#fb9f3a"
             ],
             [
              0.8888888888888888,
              "#fdca26"
             ],
             [
              1,
              "#f0f921"
             ]
            ],
            "type": "contour"
           }
          ],
          "contourcarpet": [
           {
            "colorbar": {
             "outlinewidth": 0,
             "ticks": ""
            },
            "type": "contourcarpet"
           }
          ],
          "heatmap": [
           {
            "colorbar": {
             "outlinewidth": 0,
             "ticks": ""
            },
            "colorscale": [
             [
              0,
              "#0d0887"
             ],
             [
              0.1111111111111111,
              "#46039f"
             ],
             [
              0.2222222222222222,
              "#7201a8"
             ],
             [
              0.3333333333333333,
              "#9c179e"
             ],
             [
              0.4444444444444444,
              "#bd3786"
             ],
             [
              0.5555555555555556,
              "#d8576b"
             ],
             [
              0.6666666666666666,
              "#ed7953"
             ],
             [
              0.7777777777777778,
              "#fb9f3a"
             ],
             [
              0.8888888888888888,
              "#fdca26"
             ],
             [
              1,
              "#f0f921"
             ]
            ],
            "type": "heatmap"
           }
          ],
          "histogram": [
           {
            "marker": {
             "pattern": {
              "fillmode": "overlay",
              "size": 10,
              "solidity": 0.2
             }
            },
            "type": "histogram"
           }
          ],
          "histogram2d": [
           {
            "colorbar": {
             "outlinewidth": 0,
             "ticks": ""
            },
            "colorscale": [
             [
              0,
              "#0d0887"
             ],
             [
              0.1111111111111111,
              "#46039f"
             ],
             [
              0.2222222222222222,
              "#7201a8"
             ],
             [
              0.3333333333333333,
              "#9c179e"
             ],
             [
              0.4444444444444444,
              "#bd3786"
             ],
             [
              0.5555555555555556,
              "#d8576b"
             ],
             [
              0.6666666666666666,
              "#ed7953"
             ],
             [
              0.7777777777777778,
              "#fb9f3a"
             ],
             [
              0.8888888888888888,
              "#fdca26"
             ],
             [
              1,
              "#f0f921"
             ]
            ],
            "type": "histogram2d"
           }
          ],
          "histogram2dcontour": [
           {
            "colorbar": {
             "outlinewidth": 0,
             "ticks": ""
            },
            "colorscale": [
             [
              0,
              "#0d0887"
             ],
             [
              0.1111111111111111,
              "#46039f"
             ],
             [
              0.2222222222222222,
              "#7201a8"
             ],
             [
              0.3333333333333333,
              "#9c179e"
             ],
             [
              0.4444444444444444,
              "#bd3786"
             ],
             [
              0.5555555555555556,
              "#d8576b"
             ],
             [
              0.6666666666666666,
              "#ed7953"
             ],
             [
              0.7777777777777778,
              "#fb9f3a"
             ],
             [
              0.8888888888888888,
              "#fdca26"
             ],
             [
              1,
              "#f0f921"
             ]
            ],
            "type": "histogram2dcontour"
           }
          ],
          "mesh3d": [
           {
            "colorbar": {
             "outlinewidth": 0,
             "ticks": ""
            },
            "type": "mesh3d"
           }
          ],
          "parcoords": [
           {
            "line": {
             "colorbar": {
              "outlinewidth": 0,
              "ticks": ""
             }
            },
            "type": "parcoords"
           }
          ],
          "pie": [
           {
            "automargin": true,
            "type": "pie"
           }
          ],
          "scatter": [
           {
            "fillpattern": {
             "fillmode": "overlay",
             "size": 10,
             "solidity": 0.2
            },
            "type": "scatter"
           }
          ],
          "scatter3d": [
           {
            "line": {
             "colorbar": {
              "outlinewidth": 0,
              "ticks": ""
             }
            },
            "marker": {
             "colorbar": {
              "outlinewidth": 0,
              "ticks": ""
             }
            },
            "type": "scatter3d"
           }
          ],
          "scattercarpet": [
           {
            "marker": {
             "colorbar": {
              "outlinewidth": 0,
              "ticks": ""
             }
            },
            "type": "scattercarpet"
           }
          ],
          "scattergeo": [
           {
            "marker": {
             "colorbar": {
              "outlinewidth": 0,
              "ticks": ""
             }
            },
            "type": "scattergeo"
           }
          ],
          "scattergl": [
           {
            "marker": {
             "colorbar": {
              "outlinewidth": 0,
              "ticks": ""
             }
            },
            "type": "scattergl"
           }
          ],
          "scattermap": [
           {
            "marker": {
             "colorbar": {
              "outlinewidth": 0,
              "ticks": ""
             }
            },
            "type": "scattermap"
           }
          ],
          "scattermapbox": [
           {
            "marker": {
             "colorbar": {
              "outlinewidth": 0,
              "ticks": ""
             }
            },
            "type": "scattermapbox"
           }
          ],
          "scatterpolar": [
           {
            "marker": {
             "colorbar": {
              "outlinewidth": 0,
              "ticks": ""
             }
            },
            "type": "scatterpolar"
           }
          ],
          "scatterpolargl": [
           {
            "marker": {
             "colorbar": {
              "outlinewidth": 0,
              "ticks": ""
             }
            },
            "type": "scatterpolargl"
           }
          ],
          "scatterternary": [
           {
            "marker": {
             "colorbar": {
              "outlinewidth": 0,
              "ticks": ""
             }
            },
            "type": "scatterternary"
           }
          ],
          "surface": [
           {
            "colorbar": {
             "outlinewidth": 0,
             "ticks": ""
            },
            "colorscale": [
             [
              0,
              "#0d0887"
             ],
             [
              0.1111111111111111,
              "#46039f"
             ],
             [
              0.2222222222222222,
              "#7201a8"
             ],
             [
              0.3333333333333333,
              "#9c179e"
             ],
             [
              0.4444444444444444,
              "#bd3786"
             ],
             [
              0.5555555555555556,
              "#d8576b"
             ],
             [
              0.6666666666666666,
              "#ed7953"
             ],
             [
              0.7777777777777778,
              "#fb9f3a"
             ],
             [
              0.8888888888888888,
              "#fdca26"
             ],
             [
              1,
              "#f0f921"
             ]
            ],
            "type": "surface"
           }
          ],
          "table": [
           {
            "cells": {
             "fill": {
              "color": "#EBF0F8"
             },
             "line": {
              "color": "white"
             }
            },
            "header": {
             "fill": {
              "color": "#C8D4E3"
             },
             "line": {
              "color": "white"
             }
            },
            "type": "table"
           }
          ]
         },
         "layout": {
          "annotationdefaults": {
           "arrowcolor": "#2a3f5f",
           "arrowhead": 0,
           "arrowwidth": 1
          },
          "autotypenumbers": "strict",
          "coloraxis": {
           "colorbar": {
            "outlinewidth": 0,
            "ticks": ""
           }
          },
          "colorscale": {
           "diverging": [
            [
             0,
             "#8e0152"
            ],
            [
             0.1,
             "#c51b7d"
            ],
            [
             0.2,
             "#de77ae"
            ],
            [
             0.3,
             "#f1b6da"
            ],
            [
             0.4,
             "#fde0ef"
            ],
            [
             0.5,
             "#f7f7f7"
            ],
            [
             0.6,
             "#e6f5d0"
            ],
            [
             0.7,
             "#b8e186"
            ],
            [
             0.8,
             "#7fbc41"
            ],
            [
             0.9,
             "#4d9221"
            ],
            [
             1,
             "#276419"
            ]
           ],
           "sequential": [
            [
             0,
             "#0d0887"
            ],
            [
             0.1111111111111111,
             "#46039f"
            ],
            [
             0.2222222222222222,
             "#7201a8"
            ],
            [
             0.3333333333333333,
             "#9c179e"
            ],
            [
             0.4444444444444444,
             "#bd3786"
            ],
            [
             0.5555555555555556,
             "#d8576b"
            ],
            [
             0.6666666666666666,
             "#ed7953"
            ],
            [
             0.7777777777777778,
             "#fb9f3a"
            ],
            [
             0.8888888888888888,
             "#fdca26"
            ],
            [
             1,
             "#f0f921"
            ]
           ],
           "sequentialminus": [
            [
             0,
             "#0d0887"
            ],
            [
             0.1111111111111111,
             "#46039f"
            ],
            [
             0.2222222222222222,
             "#7201a8"
            ],
            [
             0.3333333333333333,
             "#9c179e"
            ],
            [
             0.4444444444444444,
             "#bd3786"
            ],
            [
             0.5555555555555556,
             "#d8576b"
            ],
            [
             0.6666666666666666,
             "#ed7953"
            ],
            [
             0.7777777777777778,
             "#fb9f3a"
            ],
            [
             0.8888888888888888,
             "#fdca26"
            ],
            [
             1,
             "#f0f921"
            ]
           ]
          },
          "colorway": [
           "#636efa",
           "#EF553B",
           "#00cc96",
           "#ab63fa",
           "#FFA15A",
           "#19d3f3",
           "#FF6692",
           "#B6E880",
           "#FF97FF",
           "#FECB52"
          ],
          "font": {
           "color": "#2a3f5f"
          },
          "geo": {
           "bgcolor": "white",
           "lakecolor": "white",
           "landcolor": "#E5ECF6",
           "showlakes": true,
           "showland": true,
           "subunitcolor": "white"
          },
          "hoverlabel": {
           "align": "left"
          },
          "hovermode": "closest",
          "mapbox": {
           "style": "light"
          },
          "paper_bgcolor": "white",
          "plot_bgcolor": "#E5ECF6",
          "polar": {
           "angularaxis": {
            "gridcolor": "white",
            "linecolor": "white",
            "ticks": ""
           },
           "bgcolor": "#E5ECF6",
           "radialaxis": {
            "gridcolor": "white",
            "linecolor": "white",
            "ticks": ""
           }
          },
          "scene": {
           "xaxis": {
            "backgroundcolor": "#E5ECF6",
            "gridcolor": "white",
            "gridwidth": 2,
            "linecolor": "white",
            "showbackground": true,
            "ticks": "",
            "zerolinecolor": "white"
           },
           "yaxis": {
            "backgroundcolor": "#E5ECF6",
            "gridcolor": "white",
            "gridwidth": 2,
            "linecolor": "white",
            "showbackground": true,
            "ticks": "",
            "zerolinecolor": "white"
           },
           "zaxis": {
            "backgroundcolor": "#E5ECF6",
            "gridcolor": "white",
            "gridwidth": 2,
            "linecolor": "white",
            "showbackground": true,
            "ticks": "",
            "zerolinecolor": "white"
           }
          },
          "shapedefaults": {
           "line": {
            "color": "#2a3f5f"
           }
          },
          "ternary": {
           "aaxis": {
            "gridcolor": "white",
            "linecolor": "white",
            "ticks": ""
           },
           "baxis": {
            "gridcolor": "white",
            "linecolor": "white",
            "ticks": ""
           },
           "bgcolor": "#E5ECF6",
           "caxis": {
            "gridcolor": "white",
            "linecolor": "white",
            "ticks": ""
           }
          },
          "title": {
           "x": 0.05
          },
          "xaxis": {
           "automargin": true,
           "gridcolor": "white",
           "linecolor": "white",
           "ticks": "",
           "title": {
            "standoff": 15
           },
           "zerolinecolor": "white",
           "zerolinewidth": 2
          },
          "yaxis": {
           "automargin": true,
           "gridcolor": "white",
           "linecolor": "white",
           "ticks": "",
           "title": {
            "standoff": 15
           },
           "zerolinecolor": "white",
           "zerolinewidth": 2
          }
         }
        },
        "title": {
         "text": "Predicciones vs TN"
        },
        "width": 600,
        "xaxis": {
         "range": [
          0,
          7
         ],
         "scaleanchor": "y",
         "scaleratio": 1,
         "title": {
          "text": "TN Real"
         }
        },
        "yaxis": {
         "range": [
          0,
          7
         ],
         "scaleanchor": "x",
         "scaleratio": 1,
         "title": {
          "text": "TN Predicho"
         }
        }
       }
      }
     },
     "metadata": {},
     "output_type": "display_data"
    }
   ],
   "source": [
    "import plotly.graph_objects as go\n",
    "\n",
    "# Crear el gráfico de dispersión\n",
    "fig = go.Figure()\n",
    "\n",
    "# Añadir los puntos de dispersión con el product_id en el hover\n",
    "fig.add_trace(go.Scatter(\n",
    "    x=df_final[\"tn\"],\n",
    "    y=df_final[\"tn_t2_pred\"],\n",
    "    mode='markers',\n",
    "    name='Datos',\n",
    "    customdata=df_final[\"product_id\"],  # Pasamos el product_id como dato adicional\n",
    "    hovertemplate=(\n",
    "        \"<b>TN Real</b>: %{x}<br>\"\n",
    "        \"<b>TN Predicho</b>: %{y}<br>\"\n",
    "        \"<b>Product ID</b>: %{customdata}<br>\"\n",
    "        \"<extra></extra>\"  # Elimina información adicional automática\n",
    "    ),\n",
    "    marker=dict(size=8, opacity=0.7)  # Opcional: ajustar tamaño y transparencia\n",
    "))\n",
    "\n",
    "# Añadir la línea de referencia y=x\n",
    "fig.add_trace(go.Scatter(\n",
    "    x=[0, 1400],\n",
    "    y=[0, 1400],\n",
    "    mode='lines',\n",
    "    name='y = x',\n",
    "    line=dict(color='red', dash='dash')\n",
    "))\n",
    "\n",
    "# Configurar el diseño del gráfico para que sea cuadrado\n",
    "fig.update_layout(\n",
    "    title='Predicciones vs TN',\n",
    "    xaxis_title='TN Real',\n",
    "    yaxis_title='TN Predicho',\n",
    "    showlegend=True,\n",
    "    # Forzar misma escala en ejes X e Y\n",
    "    xaxis=dict(scaleanchor=\"y\", scaleratio=1),\n",
    "    yaxis=dict(scaleanchor=\"x\", scaleratio=1),\n",
    "    # Tamaño cuadrado (opcional)\n",
    "    width=600,\n",
    "    height=600,\n",
    "    # Rango fijo para ambos ejes (opcional)\n",
    "    xaxis_range=[0, 7],\n",
    "    yaxis_range=[0, 7]\n",
    ")\n",
    "\n",
    "# Mostrar el gráfico\n",
    "fig.show()"
   ]
  },
  {
   "cell_type": "code",
   "execution_count": 21,
   "id": "84871a94",
   "metadata": {},
   "outputs": [
    {
     "name": "stdout",
     "output_type": "stream",
     "text": [
      "108.16608214931304 | 99.19\n"
     ]
    }
   ],
   "source": [
    "print(df_final[\"tn_t2_pred\"].sum(),\"|\",df_final[\"tn\"].sum())"
   ]
  },
  {
   "cell_type": "code",
   "execution_count": 24,
   "id": "4750dc95",
   "metadata": {},
   "outputs": [
    {
     "data": {
      "application/vnd.microsoft.datawrangler.viewer.v0+json": {
       "columns": [
        {
         "name": "index",
         "rawType": "int64",
         "type": "integer"
        },
        {
         "name": "product_id",
         "rawType": "int64",
         "type": "integer"
        },
        {
         "name": "tn",
         "rawType": "float64",
         "type": "float"
        },
        {
         "name": "tn_t2_pred",
         "rawType": "float64",
         "type": "float"
        },
        {
         "name": "error",
         "rawType": "float64",
         "type": "float"
        },
        {
         "name": "error_relativo",
         "rawType": "float64",
         "type": "float"
        }
       ],
       "ref": "df48bf17-4d65-4d24-bf4e-1a107c9f982e",
       "rows": [
        [
         "0",
         "20001",
         "5.98",
         "5.093401493728161",
         "0.8865985062718398",
         "0.14826061977789962"
        ],
        [
         "7",
         "20008",
         "0.78",
         "1.5640937528014187",
         "0.7840937528014187",
         "1.0052484010274598"
        ],
        [
         "11",
         "20012",
         "0.69",
         "1.4387872018665075",
         "0.7487872018665076",
         "1.0851988432847937"
        ],
        [
         "1",
         "20002",
         "4.32",
         "3.63015729226172",
         "0.6898427077382805",
         "0.15968581197645382"
        ],
        [
         "17",
         "20018",
         "0.56",
         "1.0290475107729435",
         "0.4690475107729435",
         "0.8375848406659704"
        ],
        [
         "3",
         "20004",
         "2.54",
         "2.110016584098339",
         "0.4299834159016611",
         "0.1692848094101028"
        ],
        [
         "502",
         "20737",
         "0.01",
         "0.4254516160488129",
         "0.41545161604881287",
         "41.54516160488129"
        ],
        [
         "4",
         "20005",
         "2.36",
         "1.961916268938221",
         "0.39808373106177886",
         "0.1686795470600758"
        ],
        [
         "27",
         "20028",
         "0.44",
         "0.8209714230895042",
         "0.3809714230895042",
         "0.8658441433852369"
        ],
        [
         "2",
         "20003",
         "3.55",
         "3.209206802994013",
         "0.34079319700598676",
         "0.09599808366365825"
        ],
        [
         "40",
         "20044",
         "0.24",
         "0.5650020967889576",
         "0.32500209678895764",
         "1.3541754032873234"
        ],
        [
         "13",
         "20014",
         "1.08",
         "1.3967316319048404",
         "0.3167316319048403",
         "0.2932700295415188"
        ],
        [
         "72",
         "20080",
         "0.04",
         "0.3340747376345098",
         "0.2940747376345098",
         "7.351868440862745"
        ],
        [
         "43",
         "20047",
         "0.28",
         "0.5541543701570482",
         "0.27415437015704813",
         "0.979122750560886"
        ],
        [
         "89",
         "20100",
         "0.01",
         "0.27398310355842115",
         "0.26398310355842114",
         "26.398310355842113"
        ],
        [
         "71",
         "20079",
         "0.11",
         "0.36761257264763114",
         "0.25761257264763116",
         "2.3419324786148286"
        ],
        [
         "32",
         "20033",
         "0.38",
         "0.6327757529914378",
         "0.25277575299143784",
         "0.665199349977468"
        ],
        [
         "23",
         "20024",
         "1.08",
         "0.8449338550120593",
         "0.23506614498794076",
         "0.217653837951797"
        ],
        [
         "123",
         "20143",
         "0.12",
         "0.34999399461783465",
         "0.22999399461783465",
         "1.916616621815289"
        ],
        [
         "29",
         "20030",
         "0.41",
         "0.6370318138971924",
         "0.22703181389719246",
         "0.553736131456567"
        ]
       ],
       "shape": {
        "columns": 5,
        "rows": 20
       }
      },
      "text/html": [
       "<div>\n",
       "<style scoped>\n",
       "    .dataframe tbody tr th:only-of-type {\n",
       "        vertical-align: middle;\n",
       "    }\n",
       "\n",
       "    .dataframe tbody tr th {\n",
       "        vertical-align: top;\n",
       "    }\n",
       "\n",
       "    .dataframe thead th {\n",
       "        text-align: right;\n",
       "    }\n",
       "</style>\n",
       "<table border=\"1\" class=\"dataframe\">\n",
       "  <thead>\n",
       "    <tr style=\"text-align: right;\">\n",
       "      <th></th>\n",
       "      <th>product_id</th>\n",
       "      <th>tn</th>\n",
       "      <th>tn_t2_pred</th>\n",
       "      <th>error</th>\n",
       "      <th>error_relativo</th>\n",
       "    </tr>\n",
       "  </thead>\n",
       "  <tbody>\n",
       "    <tr>\n",
       "      <th>0</th>\n",
       "      <td>20001</td>\n",
       "      <td>5.98</td>\n",
       "      <td>5.093401</td>\n",
       "      <td>0.886599</td>\n",
       "      <td>0.148261</td>\n",
       "    </tr>\n",
       "    <tr>\n",
       "      <th>7</th>\n",
       "      <td>20008</td>\n",
       "      <td>0.78</td>\n",
       "      <td>1.564094</td>\n",
       "      <td>0.784094</td>\n",
       "      <td>1.005248</td>\n",
       "    </tr>\n",
       "    <tr>\n",
       "      <th>11</th>\n",
       "      <td>20012</td>\n",
       "      <td>0.69</td>\n",
       "      <td>1.438787</td>\n",
       "      <td>0.748787</td>\n",
       "      <td>1.085199</td>\n",
       "    </tr>\n",
       "    <tr>\n",
       "      <th>1</th>\n",
       "      <td>20002</td>\n",
       "      <td>4.32</td>\n",
       "      <td>3.630157</td>\n",
       "      <td>0.689843</td>\n",
       "      <td>0.159686</td>\n",
       "    </tr>\n",
       "    <tr>\n",
       "      <th>17</th>\n",
       "      <td>20018</td>\n",
       "      <td>0.56</td>\n",
       "      <td>1.029048</td>\n",
       "      <td>0.469048</td>\n",
       "      <td>0.837585</td>\n",
       "    </tr>\n",
       "    <tr>\n",
       "      <th>3</th>\n",
       "      <td>20004</td>\n",
       "      <td>2.54</td>\n",
       "      <td>2.110017</td>\n",
       "      <td>0.429983</td>\n",
       "      <td>0.169285</td>\n",
       "    </tr>\n",
       "    <tr>\n",
       "      <th>502</th>\n",
       "      <td>20737</td>\n",
       "      <td>0.01</td>\n",
       "      <td>0.425452</td>\n",
       "      <td>0.415452</td>\n",
       "      <td>41.545162</td>\n",
       "    </tr>\n",
       "    <tr>\n",
       "      <th>4</th>\n",
       "      <td>20005</td>\n",
       "      <td>2.36</td>\n",
       "      <td>1.961916</td>\n",
       "      <td>0.398084</td>\n",
       "      <td>0.168680</td>\n",
       "    </tr>\n",
       "    <tr>\n",
       "      <th>27</th>\n",
       "      <td>20028</td>\n",
       "      <td>0.44</td>\n",
       "      <td>0.820971</td>\n",
       "      <td>0.380971</td>\n",
       "      <td>0.865844</td>\n",
       "    </tr>\n",
       "    <tr>\n",
       "      <th>2</th>\n",
       "      <td>20003</td>\n",
       "      <td>3.55</td>\n",
       "      <td>3.209207</td>\n",
       "      <td>0.340793</td>\n",
       "      <td>0.095998</td>\n",
       "    </tr>\n",
       "    <tr>\n",
       "      <th>40</th>\n",
       "      <td>20044</td>\n",
       "      <td>0.24</td>\n",
       "      <td>0.565002</td>\n",
       "      <td>0.325002</td>\n",
       "      <td>1.354175</td>\n",
       "    </tr>\n",
       "    <tr>\n",
       "      <th>13</th>\n",
       "      <td>20014</td>\n",
       "      <td>1.08</td>\n",
       "      <td>1.396732</td>\n",
       "      <td>0.316732</td>\n",
       "      <td>0.293270</td>\n",
       "    </tr>\n",
       "    <tr>\n",
       "      <th>72</th>\n",
       "      <td>20080</td>\n",
       "      <td>0.04</td>\n",
       "      <td>0.334075</td>\n",
       "      <td>0.294075</td>\n",
       "      <td>7.351868</td>\n",
       "    </tr>\n",
       "    <tr>\n",
       "      <th>43</th>\n",
       "      <td>20047</td>\n",
       "      <td>0.28</td>\n",
       "      <td>0.554154</td>\n",
       "      <td>0.274154</td>\n",
       "      <td>0.979123</td>\n",
       "    </tr>\n",
       "    <tr>\n",
       "      <th>89</th>\n",
       "      <td>20100</td>\n",
       "      <td>0.01</td>\n",
       "      <td>0.273983</td>\n",
       "      <td>0.263983</td>\n",
       "      <td>26.398310</td>\n",
       "    </tr>\n",
       "    <tr>\n",
       "      <th>71</th>\n",
       "      <td>20079</td>\n",
       "      <td>0.11</td>\n",
       "      <td>0.367613</td>\n",
       "      <td>0.257613</td>\n",
       "      <td>2.341932</td>\n",
       "    </tr>\n",
       "    <tr>\n",
       "      <th>32</th>\n",
       "      <td>20033</td>\n",
       "      <td>0.38</td>\n",
       "      <td>0.632776</td>\n",
       "      <td>0.252776</td>\n",
       "      <td>0.665199</td>\n",
       "    </tr>\n",
       "    <tr>\n",
       "      <th>23</th>\n",
       "      <td>20024</td>\n",
       "      <td>1.08</td>\n",
       "      <td>0.844934</td>\n",
       "      <td>0.235066</td>\n",
       "      <td>0.217654</td>\n",
       "    </tr>\n",
       "    <tr>\n",
       "      <th>123</th>\n",
       "      <td>20143</td>\n",
       "      <td>0.12</td>\n",
       "      <td>0.349994</td>\n",
       "      <td>0.229994</td>\n",
       "      <td>1.916617</td>\n",
       "    </tr>\n",
       "    <tr>\n",
       "      <th>29</th>\n",
       "      <td>20030</td>\n",
       "      <td>0.41</td>\n",
       "      <td>0.637032</td>\n",
       "      <td>0.227032</td>\n",
       "      <td>0.553736</td>\n",
       "    </tr>\n",
       "  </tbody>\n",
       "</table>\n",
       "</div>"
      ],
      "text/plain": [
       "     product_id    tn  tn_t2_pred     error  error_relativo\n",
       "0         20001  5.98    5.093401  0.886599        0.148261\n",
       "7         20008  0.78    1.564094  0.784094        1.005248\n",
       "11        20012  0.69    1.438787  0.748787        1.085199\n",
       "1         20002  4.32    3.630157  0.689843        0.159686\n",
       "17        20018  0.56    1.029048  0.469048        0.837585\n",
       "3         20004  2.54    2.110017  0.429983        0.169285\n",
       "502       20737  0.01    0.425452  0.415452       41.545162\n",
       "4         20005  2.36    1.961916  0.398084        0.168680\n",
       "27        20028  0.44    0.820971  0.380971        0.865844\n",
       "2         20003  3.55    3.209207  0.340793        0.095998\n",
       "40        20044  0.24    0.565002  0.325002        1.354175\n",
       "13        20014  1.08    1.396732  0.316732        0.293270\n",
       "72        20080  0.04    0.334075  0.294075        7.351868\n",
       "43        20047  0.28    0.554154  0.274154        0.979123\n",
       "89        20100  0.01    0.273983  0.263983       26.398310\n",
       "71        20079  0.11    0.367613  0.257613        2.341932\n",
       "32        20033  0.38    0.632776  0.252776        0.665199\n",
       "23        20024  1.08    0.844934  0.235066        0.217654\n",
       "123       20143  0.12    0.349994  0.229994        1.916617\n",
       "29        20030  0.41    0.637032  0.227032        0.553736"
      ]
     },
     "execution_count": 24,
     "metadata": {},
     "output_type": "execute_result"
    }
   ],
   "source": [
    "df_final[\"error\"] = (df_final[\"tn\"] - df_final[\"tn_t2_pred\"]).abs()\n",
    "df_final[\"error_relativo\"] = df_final[\"error\"] / df_final[\"tn\"]\n",
    "df_final.sort_values(by=\"error\", ascending=False, inplace=True)\n",
    "df_final[[\"product_id\" ,\"tn\", \"tn_t2_pred\", \"error\", \"error_relativo\"]].head(20)\n"
   ]
  },
  {
   "cell_type": "code",
   "execution_count": 25,
   "id": "7f3a5e1f",
   "metadata": {},
   "outputs": [],
   "source": [
    "sellin = pd.read_csv(\"../datasets/sell-in.txt.gz\", sep=\"\\t\")"
   ]
  },
  {
   "cell_type": "code",
   "execution_count": null,
   "id": "44148a78",
   "metadata": {},
   "outputs": [
    {
     "name": "stderr",
     "output_type": "stream",
     "text": [
      "C:\\Users\\carre\\AppData\\Local\\Temp\\ipykernel_8168\\1229155525.py:3: SettingWithCopyWarning:\n",
      "\n",
      "\n",
      "A value is trying to be set on a copy of a slice from a DataFrame.\n",
      "Try using .loc[row_indexer,col_indexer] = value instead\n",
      "\n",
      "See the caveats in the documentation: https://pandas.pydata.org/pandas-docs/stable/user_guide/indexing.html#returning-a-view-versus-a-copy\n",
      "\n"
     ]
    },
    {
     "data": {
      "image/png": "[encoded data removed]",
      "text/plain": [
       "<Figure size 640x480 with 1 Axes>"
      ]
     },
     "metadata": {},
     "output_type": "display_data"
    }
   ],
   "source": [
    "\n",
    "prod = 20995\n",
    "prod_s = sellin[sellin[\"product_id\"] == prod]\n",
    "prod_s[\"periodo\"] = pd.to_datetime(prod_s[\"periodo\"], format='%Y%m')\n",
    "prod_s = prod_s.groupby(\"periodo\").agg({\"tn\": \"sum\"}).reset_index()\n",
    "#prod_s.plot(kind=\"line\", x=\"periodo\", y=\"tn\", title=\"TN por periodo para producto 20002\")\n",
    "\n",
    "import matplotlib.pyplot as plt\n",
    "\n",
    "ax = plt.gca()\n",
    "prod_s.plot(kind=\"line\", x=\"periodo\", y=\"tn\", title=f\"TN por periodo para producto {prod}\", ax=ax)\n",
    "#plt.axhline(y=813.82, color='red', linestyle='--', label='predict')\n",
    "prediccion = df_final[df_final[\"product_id\"] == prod][\"tn_t2_pred\"].values[0]\n",
    "plt.scatter(prod_s[\"periodo\"].iloc[-1], prediccion, color='red', label='prediccion')\n",
    "plt.legend()\n",
    "plt.show()"
   ]
  },
  {
   "cell_type": "code",
   "execution_count": 26,
   "id": "99387317",
   "metadata": {},
   "outputs": [],
   "source": [
    "df_final[\"volumen_cuartil\"] = pd.qcut(df_final[\"tn\"], q=10, labels=False)\n"
   ]
  },
  {
   "cell_type": "code",
   "execution_count": 27,
   "id": "96bf2943",
   "metadata": {},
   "outputs": [
    {
     "name": "stdout",
     "output_type": "stream",
     "text": [
      "                    error\n",
      "volumen_cuartil          \n",
      "0                1.475759\n",
      "1                0.852890\n",
      "2                0.854710\n",
      "3                0.786593\n",
      "4                0.461755\n",
      "5                0.653065\n",
      "6                1.768342\n",
      "7                2.749106\n",
      "8                3.710746\n",
      "9                9.840097\n"
     ]
    }
   ],
   "source": [
    "print(df_final.groupby(\"volumen_cuartil\")[[\"error\"]].sum())"
   ]
  },
  {
   "cell_type": "code",
   "execution_count": 28,
   "id": "37239e0b",
   "metadata": {},
   "outputs": [
    {
     "data": {
      "text/plain": [
       "{0: {'loss': 1.0000289678573608, 'mae': 1.0000019073486328},\n",
       " 1: {'loss': 31.48974609375, 'mae': 61.19758987426758},\n",
       " 2: {'loss': 0.936298131942749, 'mae': 0.9527264833450317},\n",
       " 3: {'loss': 1.0079106092453003, 'mae': 0.999066948890686},\n",
       " 4: {'loss': 0.9290066957473755, 'mae': 0.937457263469696}}"
      ]
     },
     "execution_count": 28,
     "metadata": {},
     "output_type": "execute_result"
    }
   ],
   "source": [
    "metricas"
   ]
  },
  {
   "cell_type": "code",
   "execution_count": 29,
   "id": "230e5ee0",
   "metadata": {},
   "outputs": [
    {
     "name": "stdout",
     "output_type": "stream",
     "text": [
      "Errores en predicciones: [20127, 20210, 20305, 20398, 20416, 20418, 20422, 20426, 20428, 20429, 20449, 20490, 20509, 20561, 20563, 20586, 20588, 20597, 20601, 20621, 20636, 20647, 20657, 20660, 20662, 20663, 20664, 20670, 20673, 20676, 20678, 20684, 20685, 20699, 20705, 20706, 20711, 20713, 20715, 20720, 20721, 20724, 20729, 20730, 20732, 20741, 20742, 20743, 20745, 20751, 20756, 20765, 20768, 20771, 20773, 20774, 20781, 20786, 20788, 20789, 20800, 20802, 20803, 20810, 20812, 20817, 20818, 20824, 20826, 20827, 20828, 20830, 20835, 20838, 20840, 20843, 20845, 20846, 20847, 20849, 20852, 20855, 20863, 20864, 20865, 20870, 20877, 20878, 20879, 20882, 20883, 20885, 20886, 20892, 20894, 20901, 20904, 20906, 20910, 20912, 20913, 20914, 20919, 20922, 20925, 20927, 20928, 20931, 20933, 20936, 20937, 20941, 20947, 20948, 20949, 20953, 20956, 20957, 20961, 20965, 20966, 20967, 20970, 20976, 20982, 20985, 20986, 20987, 20990, 20991, 20994, 20996, 20997, 21001, 21003, 21006, 21007, 21008, 21014, 21016, 21022, 21024, 21027, 21028, 21032, 21033, 21034, 21035, 21037, 21038, 21039, 21040, 21042, 21044, 21048, 21049, 21055, 21056, 21057, 21064, 21065, 21073, 21074, 21077, 21079, 21080, 21084, 21086, 21088, 21092, 21093, 21099, 21105, 21109, 21111, 21112, 21114, 21118, 21119, 21126, 21131, 21135, 21140, 21142, 21153, 21155, 21157, 21159, 21163, 21164, 21167, 21168, 21170, 21171, 21176, 21179, 21180, 21182, 21184, 21190, 21191, 21192, 21194, 21196, 21200, 21201, 21202, 21207, 21209, 21212, 21218, 21222, 21224, 21226, 21227, 21233, 21244, 21245, 21246, 21248, 21252, 21256, 21259, 21262, 21263, 21265, 21266, 21267, 21276] de 780 productos\n"
     ]
    }
   ],
   "source": [
    "df_preds_t2, errores = predecir_todos_t2(\n",
    "    df_features_full=df,\n",
    "    scalers=scalers,\n",
    "    feature_cols=feature_cols,\n",
    "    #window_size=window_size\n",
    ")"
   ]
  },
  {
   "cell_type": "code",
   "execution_count": 30,
   "id": "19d30b6f",
   "metadata": {},
   "outputs": [],
   "source": [
    "total_diciembre = sellin.query(\"periodo == 201912\")[\"tn\"].sum()"
   ]
  },
  {
   "cell_type": "code",
   "execution_count": 33,
   "id": "ec11390c",
   "metadata": {},
   "outputs": [],
   "source": [
    "productos_ok = pd.read_csv(\"https://storage.googleapis.com/open-courses/austral2025-af91/labo3v/product_id_apredecir201912.txt\", sep=\"\\t\")\n",
    "\n",
    "pred = pd.DataFrame({\"product_id\": df_preds_t2[\"product_id\"],  \"tn\": df_preds_t2[\"tn_t2_pred\"]})\n",
    "pred[\"tn\"] = pred[\"tn\"] * total_diciembre/100\n",
    "pred = pred[pred[\"product_id\"].isin(productos_ok[\"product_id\"])]\n",
    "result_name = config[\"result_name\"]\n",
    "result_name = \"LSTM_Q5_Share\"\n",
    "pred.to_csv(f\"{result_name}.csv\", sep=\",\", index=False)"
   ]
  },
  {
   "cell_type": "code",
   "execution_count": 32,
   "id": "b71080c2",
   "metadata": {},
   "outputs": [
    {
     "data": {
      "application/vnd.microsoft.datawrangler.viewer.v0+json": {
       "columns": [
        {
         "name": "index",
         "rawType": "int64",
         "type": "integer"
        },
        {
         "name": "product_id",
         "rawType": "int64",
         "type": "integer"
        },
        {
         "name": "tn",
         "rawType": "float64",
         "type": "float"
        }
       ],
       "ref": "4ddcb0cf-0e89-4f50-8cf8-1360a1d1a7a3",
       "rows": [
        [
         "0",
         "20001",
         "1335.3404964512372"
        ],
        [
         "1",
         "20002",
         "951.7207796820815"
        ],
        [
         "2",
         "20003",
         "841.3599066952776"
        ],
        [
         "3",
         "20004",
         "553.1844674722194"
        ],
        [
         "4",
         "20005",
         "514.3569082047992"
        ],
        [
         "5",
         "20006",
         "451.0066671443147"
        ],
        [
         "6",
         "20007",
         "454.6829412012703"
        ],
        [
         "7",
         "20008",
         "410.05951149422486"
        ],
        [
         "8",
         "20009",
         "490.0558995661926"
        ],
        [
         "9",
         "20010",
         "424.9995884254606"
        ],
        [
         "10",
         "20011",
         "353.41863735587157"
        ],
        [
         "11",
         "20012",
         "377.2078087293718"
        ],
        [
         "12",
         "20013",
         "362.46542239912384"
        ],
        [
         "13",
         "20014",
         "366.182071657534"
        ],
        [
         "14",
         "20015",
         "323.6968756138051"
        ],
        [
         "15",
         "20016",
         "311.8340296552245"
        ],
        [
         "16",
         "20017",
         "278.79703367371934"
        ],
        [
         "17",
         "20018",
         "269.7860782425079"
        ],
        [
         "18",
         "20019",
         "334.8153990786982"
        ],
        [
         "19",
         "20020",
         "276.0943075212997"
        ],
        [
         "20",
         "20021",
         "262.69209103619613"
        ],
        [
         "21",
         "20022",
         "279.22080595751527"
        ],
        [
         "22",
         "20023",
         "235.41696231198955"
        ],
        [
         "23",
         "20024",
         "221.51687724000928"
        ],
        [
         "24",
         "20025",
         "214.79101297174125"
        ],
        [
         "25",
         "20026",
         "219.2859365081139"
        ],
        [
         "26",
         "20027",
         "200.4013048380493"
        ],
        [
         "27",
         "20028",
         "215.2346303409488"
        ],
        [
         "28",
         "20029",
         "186.43753877677503"
        ],
        [
         "29",
         "20030",
         "167.01105924443135"
        ],
        [
         "30",
         "20031",
         "193.81914696329753"
        ],
        [
         "31",
         "20032",
         "537.7751234430755"
        ],
        [
         "32",
         "20033",
         "165.8952448932919"
        ],
        [
         "33",
         "20035",
         "167.6185153526271"
        ],
        [
         "34",
         "20037",
         "116.18937880114025"
        ],
        [
         "35",
         "20038",
         "153.78412206411517"
        ],
        [
         "36",
         "20039",
         "141.08460686312995"
        ],
        [
         "37",
         "20041",
         "136.1558439445331"
        ],
        [
         "38",
         "20042",
         "143.03111965023982"
        ],
        [
         "39",
         "20043",
         "138.67202007274744"
        ],
        [
         "40",
         "20044",
         "148.12697984857175"
        ],
        [
         "41",
         "20045",
         "142.65887475230747"
        ],
        [
         "42",
         "20046",
         "141.52695112918136"
        ],
        [
         "43",
         "20047",
         "145.28302405913357"
        ],
        [
         "44",
         "20049",
         "160.85132497561392"
        ],
        [
         "45",
         "20050",
         "135.38852970740783"
        ],
        [
         "46",
         "20051",
         "135.09697254487617"
        ],
        [
         "47",
         "20052",
         "122.30993887936376"
        ],
        [
         "48",
         "20053",
         "142.29977722101864"
        ],
        [
         "49",
         "20054",
         "120.1874469250039"
        ]
       ],
       "shape": {
        "columns": 2,
        "rows": 780
       }
      },
      "text/html": [
       "<div>\n",
       "<style scoped>\n",
       "    .dataframe tbody tr th:only-of-type {\n",
       "        vertical-align: middle;\n",
       "    }\n",
       "\n",
       "    .dataframe tbody tr th {\n",
       "        vertical-align: top;\n",
       "    }\n",
       "\n",
       "    .dataframe thead th {\n",
       "        text-align: right;\n",
       "    }\n",
       "</style>\n",
       "<table border=\"1\" class=\"dataframe\">\n",
       "  <thead>\n",
       "    <tr style=\"text-align: right;\">\n",
       "      <th></th>\n",
       "      <th>product_id</th>\n",
       "      <th>tn</th>\n",
       "    </tr>\n",
       "  </thead>\n",
       "  <tbody>\n",
       "    <tr>\n",
       "      <th>0</th>\n",
       "      <td>20001</td>\n",
       "      <td>1335.340496</td>\n",
       "    </tr>\n",
       "    <tr>\n",
       "      <th>1</th>\n",
       "      <td>20002</td>\n",
       "      <td>951.720780</td>\n",
       "    </tr>\n",
       "    <tr>\n",
       "      <th>2</th>\n",
       "      <td>20003</td>\n",
       "      <td>841.359907</td>\n",
       "    </tr>\n",
       "    <tr>\n",
       "      <th>3</th>\n",
       "      <td>20004</td>\n",
       "      <td>553.184467</td>\n",
       "    </tr>\n",
       "    <tr>\n",
       "      <th>4</th>\n",
       "      <td>20005</td>\n",
       "      <td>514.356908</td>\n",
       "    </tr>\n",
       "    <tr>\n",
       "      <th>...</th>\n",
       "      <td>...</td>\n",
       "      <td>...</td>\n",
       "    </tr>\n",
       "    <tr>\n",
       "      <th>775</th>\n",
       "      <td>21263</td>\n",
       "      <td>0.000000</td>\n",
       "    </tr>\n",
       "    <tr>\n",
       "      <th>776</th>\n",
       "      <td>21265</td>\n",
       "      <td>0.000000</td>\n",
       "    </tr>\n",
       "    <tr>\n",
       "      <th>777</th>\n",
       "      <td>21266</td>\n",
       "      <td>0.000000</td>\n",
       "    </tr>\n",
       "    <tr>\n",
       "      <th>778</th>\n",
       "      <td>21267</td>\n",
       "      <td>0.000000</td>\n",
       "    </tr>\n",
       "    <tr>\n",
       "      <th>779</th>\n",
       "      <td>21276</td>\n",
       "      <td>0.000000</td>\n",
       "    </tr>\n",
       "  </tbody>\n",
       "</table>\n",
       "<p>780 rows × 2 columns</p>\n",
       "</div>"
      ],
      "text/plain": [
       "     product_id           tn\n",
       "0         20001  1335.340496\n",
       "1         20002   951.720780\n",
       "2         20003   841.359907\n",
       "3         20004   553.184467\n",
       "4         20005   514.356908\n",
       "..          ...          ...\n",
       "775       21263     0.000000\n",
       "776       21265     0.000000\n",
       "777       21266     0.000000\n",
       "778       21267     0.000000\n",
       "779       21276     0.000000\n",
       "\n",
       "[780 rows x 2 columns]"
      ]
     },
     "execution_count": 32,
     "metadata": {},
     "output_type": "execute_result"
    }
   ],
   "source": [
    "pred"
   ]
  },
  {
   "cell_type": "code",
   "execution_count": 246,
   "id": "38827deb",
   "metadata": {},
   "outputs": [
    {
     "data": {
      "text/plain": [
       "780"
      ]
     },
     "execution_count": 246,
     "metadata": {},
     "output_type": "execute_result"
    }
   ],
   "source": [
    "df_preds_t2[df_preds_t2[\"product_id\"].isin(productos_ok[\"product_id\"])].product_id.nunique()"
   ]
  },
  {
   "cell_type": "code",
   "execution_count": 247,
   "id": "461d2c70",
   "metadata": {},
   "outputs": [],
   "source": [
    "pred.drop_duplicates(subset=[\"product_id\"], inplace=True)"
   ]
  },
  {
   "cell_type": "code",
   "execution_count": 248,
   "id": "5cf04764",
   "metadata": {},
   "outputs": [
    {
     "data": {
      "application/vnd.microsoft.datawrangler.viewer.v0+json": {
       "columns": [
        {
         "name": "index",
         "rawType": "int64",
         "type": "integer"
        },
        {
         "name": "product_id",
         "rawType": "int64",
         "type": "integer"
        },
        {
         "name": "tn",
         "rawType": "float64",
         "type": "float"
        }
       ],
       "ref": "237b39eb-c6db-4b90-a915-631fd9d54895",
       "rows": [
        [
         "0",
         "20001",
         "1271.242494861746"
        ],
        [
         "1",
         "20002",
         "944.6600382417898"
        ],
        [
         "2",
         "20003",
         "706.079340977396"
        ],
        [
         "3",
         "20004",
         "495.4782342372567"
        ],
        [
         "4",
         "20005",
         "450.4617498217275"
        ],
        [
         "5",
         "20006",
         "425.74755754556895"
        ],
        [
         "6",
         "20007",
         "406.12482092425785"
        ],
        [
         "7",
         "20008",
         "429.0126498722004"
        ],
        [
         "8",
         "20009",
         "434.96457447413314"
        ],
        [
         "9",
         "20010",
         "358.75709253506307"
        ],
        [
         "10",
         "20011",
         "309.8769550639424"
        ],
        [
         "11",
         "20012",
         "303.89035408765557"
        ],
        [
         "12",
         "20013",
         "363.6873560346495"
        ],
        [
         "13",
         "20014",
         "371.43883494277367"
        ],
        [
         "14",
         "20015",
         "352.2457402335698"
        ],
        [
         "15",
         "20016",
         "298.4576145883762"
        ],
        [
         "16",
         "20017",
         "254.65025542767347"
        ],
        [
         "17",
         "20018",
         "249.44429643796917"
        ],
        [
         "18",
         "20019",
         "282.0226241703549"
        ],
        [
         "19",
         "20020",
         "250.34741374226212"
        ],
        [
         "20",
         "20021",
         "210.94570540738954"
        ],
        [
         "21",
         "20022",
         "225.96418773647386"
        ],
        [
         "22",
         "20023",
         "216.95169007997987"
        ],
        [
         "23",
         "20024",
         "198.816898551102"
        ],
        [
         "24",
         "20025",
         "210.54914626454655"
        ],
        [
         "25",
         "20026",
         "212.24373651253802"
        ],
        [
         "26",
         "20027",
         "217.22367027472995"
        ],
        [
         "27",
         "20028",
         "224.83515710475956"
        ],
        [
         "28",
         "20029",
         "162.94414033169804"
        ],
        [
         "29",
         "20030",
         "121.42120639438632"
        ],
        [
         "30",
         "20031",
         "172.04554387640587"
        ],
        [
         "31",
         "20032",
         "580.0374649888703"
        ],
        [
         "32",
         "20033",
         "167.94111645482184"
        ],
        [
         "34",
         "20035",
         "168.25281715636103"
        ],
        [
         "36",
         "20037",
         "68.94595195881068"
        ],
        [
         "37",
         "20038",
         "143.2302702531521"
        ],
        [
         "38",
         "20039",
         "136.2661444639188"
        ],
        [
         "40",
         "20041",
         "123.21842639754414"
        ],
        [
         "41",
         "20042",
         "139.30881836192117"
        ],
        [
         "42",
         "20043",
         "133.11080308513448"
        ],
        [
         "43",
         "20044",
         "138.18734606890618"
        ],
        [
         "44",
         "20045",
         "141.81607146197211"
        ],
        [
         "45",
         "20046",
         "122.67918700878722"
        ],
        [
         "46",
         "20047",
         "149.20989086102782"
        ],
        [
         "48",
         "20049",
         "167.11041342299285"
        ],
        [
         "49",
         "20050",
         "130.79068936150014"
        ],
        [
         "50",
         "20051",
         "126.92335995300085"
        ],
        [
         "51",
         "20052",
         "117.68995877467842"
        ],
        [
         "52",
         "20053",
         "134.61611390249536"
        ],
        [
         "53",
         "20054",
         "117.9691793376994"
        ]
       ],
       "shape": {
        "columns": 2,
        "rows": 780
       }
      },
      "text/html": [
       "<div>\n",
       "<style scoped>\n",
       "    .dataframe tbody tr th:only-of-type {\n",
       "        vertical-align: middle;\n",
       "    }\n",
       "\n",
       "    .dataframe tbody tr th {\n",
       "        vertical-align: top;\n",
       "    }\n",
       "\n",
       "    .dataframe thead th {\n",
       "        text-align: right;\n",
       "    }\n",
       "</style>\n",
       "<table border=\"1\" class=\"dataframe\">\n",
       "  <thead>\n",
       "    <tr style=\"text-align: right;\">\n",
       "      <th></th>\n",
       "      <th>product_id</th>\n",
       "      <th>tn</th>\n",
       "    </tr>\n",
       "  </thead>\n",
       "  <tbody>\n",
       "    <tr>\n",
       "      <th>0</th>\n",
       "      <td>20001</td>\n",
       "      <td>1271.242495</td>\n",
       "    </tr>\n",
       "    <tr>\n",
       "      <th>1</th>\n",
       "      <td>20002</td>\n",
       "      <td>944.660038</td>\n",
       "    </tr>\n",
       "    <tr>\n",
       "      <th>2</th>\n",
       "      <td>20003</td>\n",
       "      <td>706.079341</td>\n",
       "    </tr>\n",
       "    <tr>\n",
       "      <th>3</th>\n",
       "      <td>20004</td>\n",
       "      <td>495.478234</td>\n",
       "    </tr>\n",
       "    <tr>\n",
       "      <th>4</th>\n",
       "      <td>20005</td>\n",
       "      <td>450.461750</td>\n",
       "    </tr>\n",
       "    <tr>\n",
       "      <th>...</th>\n",
       "      <td>...</td>\n",
       "      <td>...</td>\n",
       "    </tr>\n",
       "    <tr>\n",
       "      <th>1197</th>\n",
       "      <td>21263</td>\n",
       "      <td>0.014723</td>\n",
       "    </tr>\n",
       "    <tr>\n",
       "      <th>1199</th>\n",
       "      <td>21265</td>\n",
       "      <td>0.040548</td>\n",
       "    </tr>\n",
       "    <tr>\n",
       "      <th>1200</th>\n",
       "      <td>21266</td>\n",
       "      <td>0.044690</td>\n",
       "    </tr>\n",
       "    <tr>\n",
       "      <th>1201</th>\n",
       "      <td>21267</td>\n",
       "      <td>0.029089</td>\n",
       "    </tr>\n",
       "    <tr>\n",
       "      <th>1210</th>\n",
       "      <td>21276</td>\n",
       "      <td>0.003486</td>\n",
       "    </tr>\n",
       "  </tbody>\n",
       "</table>\n",
       "<p>780 rows × 2 columns</p>\n",
       "</div>"
      ],
      "text/plain": [
       "      product_id           tn\n",
       "0          20001  1271.242495\n",
       "1          20002   944.660038\n",
       "2          20003   706.079341\n",
       "3          20004   495.478234\n",
       "4          20005   450.461750\n",
       "...          ...          ...\n",
       "1197       21263     0.014723\n",
       "1199       21265     0.040548\n",
       "1200       21266     0.044690\n",
       "1201       21267     0.029089\n",
       "1210       21276     0.003486\n",
       "\n",
       "[780 rows x 2 columns]"
      ]
     },
     "execution_count": 248,
     "metadata": {},
     "output_type": "execute_result"
    }
   ],
   "source": [
    "pred"
   ]
  },
  {
   "cell_type": "code",
   "execution_count": null,
   "id": "f9a2ae52",
   "metadata": {},
   "outputs": [],
   "source": []
  }
 ],
 "metadata": {
  "kernelspec": {
   "display_name": "tf",
   "language": "python",
   "name": "python3"
  },
  "language_info": {
   "codemirror_mode": {
    "name": "ipython",
    "version": 3
   },
   "file_extension": ".py",
   "mimetype": "text/x-python",
   "name": "python",
   "nbconvert_exporter": "python",
   "pygments_lexer": "ipython3",
   "version": "3.10.18"
  }
 },
 "nbformat": 4,
 "nbformat_minor": 5
}
