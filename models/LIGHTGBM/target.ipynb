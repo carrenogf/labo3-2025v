{
 "cells": [
  {
   "cell_type": "markdown",
   "metadata": {
    "id": "Rt_Crsy38UcU"
   },
   "source": [
    "# Pandas"
   ]
  },
  {
   "cell_type": "markdown",
   "metadata": {
    "id": "70xXhXloZb4v"
   },
   "source": [
    "# Target de todas las combinaciones producto-cliente desde el periodo en que se dio la primer interaccion producto-cliente"
   ]
  },
  {
   "cell_type": "code",
   "execution_count": 1,
   "metadata": {
    "colab": {
     "base_uri": "https://localhost:8080/"
    },
    "executionInfo": {
     "elapsed": 56224,
     "status": "ok",
     "timestamp": 1748520374642,
     "user": {
      "displayName": "Francisco Carreño",
      "userId": "08299402938014877271"
     },
     "user_tz": 180
    },
    "id": "5ieM7pBnM6PB",
    "outputId": "61881e83-cdbf-4381-8459-3b26f3dcb4f3"
   },
   "outputs": [
    {
     "data": {
      "text/plain": [
       "(18581028, 17)"
      ]
     },
     "execution_count": 1,
     "metadata": {},
     "output_type": "execute_result"
    }
   ],
   "source": [
    "import pandas as pd\n",
    "import gc\n",
    "\n",
    "# Cargar datos\n",
    "sellin = pd.read_csv(\"../datasets/sell-in.txt.gz\", sep=\"\\t\")\n",
    "productos = pd.read_csv(\"../datasets/tb_productos.txt\", sep=\"\\t\")\n",
    "productos = productos.drop_duplicates(subset=[\"product_id\"],keep=\"first\")  # Eliminar duplicados por si acaso\n",
    "stocks = pd.read_csv(\"../datasets/tb_stocks.txt\", sep=\"\\t\")\n",
    "\n",
    "df = pd.merge(sellin, productos, how=\"left\", on=\"product_id\")\n",
    "df = df.merge(stocks, how=\"left\", on=[\"product_id\", \"periodo\"])\n",
    "del sellin, productos, stocks\n",
    "\n",
    "# Agrupar ventas por periodo, cliente y producto\n",
    "dt = df.groupby(by=[\"periodo\",\"customer_id\",\"product_id\"]).agg({\"tn\":\"sum\",\n",
    "                                                                \"cust_request_tn\":\"sum\",\n",
    "                                                                \"cust_request_qty\":\"sum\",\n",
    "                                                                \"cat1\":\"first\",\n",
    "                                                                \"cat2\":\"first\",\n",
    "                                                                \"cat3\":\"first\",\n",
    "                                                                \"brand\":\"first\",\n",
    "                                                                \"sku_size\":\"first\",\n",
    "                                                                \"stock_final\":\"first\",\n",
    "                                                                \"plan_precios_cuidados\":\"first\"\n",
    "                                                                }).reset_index()\n",
    "# 1. Calcular primeros períodos\n",
    "\n",
    "periodo_producto =  df.groupby(['periodo', 'product_id'])[\"tn\"].sum().rename('periodo_producto')\n",
    "nacimiento_producto = df.groupby('product_id')['periodo'].min().rename('nacimiento_producto')\n",
    "#muerte_cliente = df.groupby('customer_id')['periodo'].max().rename('muerte_cliente')\n",
    "\n",
    "# 2. Crear todas las combinaciones posibles\n",
    "productos = df['product_id'].unique()\n",
    "clientes = df['customer_id'].unique()\n",
    "periodos = df['periodo'].unique()\n",
    "\n",
    "# 3. Crear matriz de combinaciones válidas usando broadcasting\n",
    "idx = pd.MultiIndex.from_product([productos, clientes, periodos], names=['product_id', 'customer_id', 'periodo'])\n",
    "completo = idx.to_frame(index=False)\n",
    "# 4 filtrar combinaciones periodo_producto\n",
    "completo = completo.merge(periodo_producto, on=['periodo', 'product_id'], how='left')\n",
    "completo = completo[completo['periodo_producto'].notna()]\n",
    "# 5 Filtrar combinaciones nacimiento_producto\n",
    "completo = completo.merge(nacimiento_producto, on='product_id', how='left')\n",
    "completo = completo[completo['periodo'] >= completo['nacimiento_producto']]\n",
    "completo = completo[completo['nacimiento_producto'] < 201910]\n",
    "\n",
    "# 6. Filtrar combinaciones muerte_cliente\n",
    "# completo = completo.merge(muerte_cliente, on='customer_id', how='left')\n",
    "# completo = completo[completo['periodo'] <= completo['muerte_cliente']]\n",
    "\n",
    "\n",
    "# 7. Unir con datos reales\n",
    "df_completo = completo.merge(dt, how='left')\n",
    "df_completo['tn'] = df_completo['tn'].fillna(0)\n",
    "\n",
    "# Convertir periodo a datetime con día fijo\n",
    "df_completo['periodo_dt'] = pd.to_datetime(df_completo['periodo'], format='%Y%m')\n",
    "\n",
    "# Crear columna periodo_target_dt desplazada 2 meses\n",
    "df_completo['periodo_target_dt'] = df_completo['periodo_dt'] + pd.DateOffset(months=2)\n",
    "\n",
    "# DataFrame auxiliar con ventas futuras\n",
    "ventas_futuras = df_completo[['periodo_dt', 'customer_id', 'product_id', 'tn']].copy()\n",
    "ventas_futuras = ventas_futuras.rename(columns={\n",
    "    'periodo_dt': 'periodo_target_dt',\n",
    "    'tn': 'target'\n",
    "})\n",
    "\n",
    "# Hacemos el merge usando fechas datetime directamente\n",
    "dt = pd.merge(\n",
    "    df_completo,\n",
    "    ventas_futuras,\n",
    "    how='left',\n",
    "    on=['periodo_target_dt', 'customer_id', 'product_id']\n",
    ")\n",
    "dt = dt.drop(columns=['periodo_target_dt']) # Ya usamos esta para hacer el merge\n",
    "del df_completo, ventas_futuras, completo, idx, periodo_producto, nacimiento_producto#, muerte_cliente\n",
    "gc.collect()\n",
    "\n",
    "dt.shape"
   ]
  },
  {
   "cell_type": "code",
   "execution_count": 2,
   "metadata": {},
   "outputs": [
    {
     "data": {
      "text/plain": [
       "(17514786, 17)"
      ]
     },
     "execution_count": 2,
     "metadata": {},
     "output_type": "execute_result"
    }
   ],
   "source": [
    "dt[dt['periodo'] <= 201910].shape"
   ]
  },
  {
   "cell_type": "code",
   "execution_count": 3,
   "metadata": {
    "colab": {
     "base_uri": "https://localhost:8080/",
     "height": 1000
    },
    "executionInfo": {
     "elapsed": 99,
     "status": "ok",
     "timestamp": 1748481116277,
     "user": {
      "displayName": "Francisco Carreño",
      "userId": "08299402938014877271"
     },
     "user_tz": 180
    },
    "id": "AQcazuMQX7hQ",
    "outputId": "667ac637-57dd-4f7b-babf-10cbddca3644"
   },
   "outputs": [
    {
     "data": {
      "application/vnd.microsoft.datawrangler.viewer.v0+json": {
       "columns": [
        {
         "name": "index",
         "rawType": "int64",
         "type": "integer"
        },
        {
         "name": "periodo",
         "rawType": "int64",
         "type": "integer"
        },
        {
         "name": "tn",
         "rawType": "float64",
         "type": "float"
        },
        {
         "name": "target",
         "rawType": "float64",
         "type": "float"
        }
       ],
       "ref": "4d40c492-4020-4417-8d8d-130319830f07",
       "rows": [
        [
         "7998033",
         "201701",
         "0.1679",
         "0.0"
        ],
        [
         "7998034",
         "201702",
         "0.1679",
         "0.02239"
        ],
        [
         "7998035",
         "201703",
         "0.0",
         "0.12312"
        ],
        [
         "7998036",
         "201704",
         "0.02239",
         "0.17909"
        ],
        [
         "7998037",
         "201705",
         "0.12312",
         "0.22386"
        ],
        [
         "7998038",
         "201706",
         "0.17909",
         "0.83947"
        ],
        [
         "7998039",
         "201707",
         "0.22386",
         "0.24625"
        ],
        [
         "7998040",
         "201708",
         "0.83947",
         "0.0"
        ],
        [
         "7998041",
         "201709",
         "0.24625",
         "0.30221"
        ],
        [
         "7998042",
         "201710",
         "0.0",
         "0.12312"
        ],
        [
         "7998043",
         "201711",
         "0.30221",
         "0.07835"
        ],
        [
         "7998044",
         "201712",
         "0.12312",
         "0.49289"
        ],
        [
         "7998045",
         "201801",
         "0.07835",
         "0.86256"
        ],
        [
         "7998046",
         "201802",
         "0.49289",
         "0.0"
        ],
        [
         "7998047",
         "201803",
         "0.86256",
         "0.73934"
        ],
        [
         "7998048",
         "201804",
         "0.0",
         "0.49289"
        ],
        [
         "7998049",
         "201805",
         "0.73934",
         "0.0"
        ],
        [
         "7998050",
         "201806",
         "0.49289",
         "0.0"
        ],
        [
         "7998051",
         "201807",
         "0.0",
         "0.0"
        ],
        [
         "7998052",
         "201808",
         "0.0",
         "0.0"
        ],
        [
         "7998053",
         "201809",
         "0.0",
         "0.0"
        ],
        [
         "7998054",
         "201810",
         "0.0",
         "0.0224"
        ],
        [
         "7998055",
         "201811",
         "0.0",
         "0.11202"
        ],
        [
         "7998056",
         "201812",
         "0.0224",
         "0.0"
        ],
        [
         "7998057",
         "201901",
         "0.11202",
         "0.03361"
        ],
        [
         "7998058",
         "201902",
         "0.0",
         "0.0"
        ],
        [
         "7998059",
         "201903",
         "0.03361",
         "0.0"
        ],
        [
         "7998060",
         "201904",
         "0.0",
         "0.0"
        ],
        [
         "7998061",
         "201905",
         "0.0",
         "0.21284"
        ],
        [
         "7998062",
         "201906",
         "0.0",
         "0.0"
        ],
        [
         "7998063",
         "201907",
         "0.21284",
         "0.24645"
        ],
        [
         "7998064",
         "201908",
         "0.0",
         "0.06721"
        ],
        [
         "7998065",
         "201909",
         "0.24645",
         "0.0"
        ],
        [
         "7998066",
         "201910",
         "0.06721",
         "0.0"
        ],
        [
         "7998067",
         "201911",
         "0.0",
         null
        ],
        [
         "7998068",
         "201912",
         "0.0",
         null
        ]
       ],
       "shape": {
        "columns": 3,
        "rows": 36
       }
      },
      "text/html": [
       "<div>\n",
       "<style scoped>\n",
       "    .dataframe tbody tr th:only-of-type {\n",
       "        vertical-align: middle;\n",
       "    }\n",
       "\n",
       "    .dataframe tbody tr th {\n",
       "        vertical-align: top;\n",
       "    }\n",
       "\n",
       "    .dataframe thead th {\n",
       "        text-align: right;\n",
       "    }\n",
       "</style>\n",
       "<table border=\"1\" class=\"dataframe\">\n",
       "  <thead>\n",
       "    <tr style=\"text-align: right;\">\n",
       "      <th></th>\n",
       "      <th>periodo</th>\n",
       "      <th>tn</th>\n",
       "      <th>target</th>\n",
       "    </tr>\n",
       "  </thead>\n",
       "  <tbody>\n",
       "    <tr>\n",
       "      <th>7998033</th>\n",
       "      <td>201701</td>\n",
       "      <td>0.16790</td>\n",
       "      <td>0.00000</td>\n",
       "    </tr>\n",
       "    <tr>\n",
       "      <th>7998034</th>\n",
       "      <td>201702</td>\n",
       "      <td>0.16790</td>\n",
       "      <td>0.02239</td>\n",
       "    </tr>\n",
       "    <tr>\n",
       "      <th>7998035</th>\n",
       "      <td>201703</td>\n",
       "      <td>0.00000</td>\n",
       "      <td>0.12312</td>\n",
       "    </tr>\n",
       "    <tr>\n",
       "      <th>7998036</th>\n",
       "      <td>201704</td>\n",
       "      <td>0.02239</td>\n",
       "      <td>0.17909</td>\n",
       "    </tr>\n",
       "    <tr>\n",
       "      <th>7998037</th>\n",
       "      <td>201705</td>\n",
       "      <td>0.12312</td>\n",
       "      <td>0.22386</td>\n",
       "    </tr>\n",
       "    <tr>\n",
       "      <th>7998038</th>\n",
       "      <td>201706</td>\n",
       "      <td>0.17909</td>\n",
       "      <td>0.83947</td>\n",
       "    </tr>\n",
       "    <tr>\n",
       "      <th>7998039</th>\n",
       "      <td>201707</td>\n",
       "      <td>0.22386</td>\n",
       "      <td>0.24625</td>\n",
       "    </tr>\n",
       "    <tr>\n",
       "      <th>7998040</th>\n",
       "      <td>201708</td>\n",
       "      <td>0.83947</td>\n",
       "      <td>0.00000</td>\n",
       "    </tr>\n",
       "    <tr>\n",
       "      <th>7998041</th>\n",
       "      <td>201709</td>\n",
       "      <td>0.24625</td>\n",
       "      <td>0.30221</td>\n",
       "    </tr>\n",
       "    <tr>\n",
       "      <th>7998042</th>\n",
       "      <td>201710</td>\n",
       "      <td>0.00000</td>\n",
       "      <td>0.12312</td>\n",
       "    </tr>\n",
       "    <tr>\n",
       "      <th>7998043</th>\n",
       "      <td>201711</td>\n",
       "      <td>0.30221</td>\n",
       "      <td>0.07835</td>\n",
       "    </tr>\n",
       "    <tr>\n",
       "      <th>7998044</th>\n",
       "      <td>201712</td>\n",
       "      <td>0.12312</td>\n",
       "      <td>0.49289</td>\n",
       "    </tr>\n",
       "    <tr>\n",
       "      <th>7998045</th>\n",
       "      <td>201801</td>\n",
       "      <td>0.07835</td>\n",
       "      <td>0.86256</td>\n",
       "    </tr>\n",
       "    <tr>\n",
       "      <th>7998046</th>\n",
       "      <td>201802</td>\n",
       "      <td>0.49289</td>\n",
       "      <td>0.00000</td>\n",
       "    </tr>\n",
       "    <tr>\n",
       "      <th>7998047</th>\n",
       "      <td>201803</td>\n",
       "      <td>0.86256</td>\n",
       "      <td>0.73934</td>\n",
       "    </tr>\n",
       "    <tr>\n",
       "      <th>7998048</th>\n",
       "      <td>201804</td>\n",
       "      <td>0.00000</td>\n",
       "      <td>0.49289</td>\n",
       "    </tr>\n",
       "    <tr>\n",
       "      <th>7998049</th>\n",
       "      <td>201805</td>\n",
       "      <td>0.73934</td>\n",
       "      <td>0.00000</td>\n",
       "    </tr>\n",
       "    <tr>\n",
       "      <th>7998050</th>\n",
       "      <td>201806</td>\n",
       "      <td>0.49289</td>\n",
       "      <td>0.00000</td>\n",
       "    </tr>\n",
       "    <tr>\n",
       "      <th>7998051</th>\n",
       "      <td>201807</td>\n",
       "      <td>0.00000</td>\n",
       "      <td>0.00000</td>\n",
       "    </tr>\n",
       "    <tr>\n",
       "      <th>7998052</th>\n",
       "      <td>201808</td>\n",
       "      <td>0.00000</td>\n",
       "      <td>0.00000</td>\n",
       "    </tr>\n",
       "    <tr>\n",
       "      <th>7998053</th>\n",
       "      <td>201809</td>\n",
       "      <td>0.00000</td>\n",
       "      <td>0.00000</td>\n",
       "    </tr>\n",
       "    <tr>\n",
       "      <th>7998054</th>\n",
       "      <td>201810</td>\n",
       "      <td>0.00000</td>\n",
       "      <td>0.02240</td>\n",
       "    </tr>\n",
       "    <tr>\n",
       "      <th>7998055</th>\n",
       "      <td>201811</td>\n",
       "      <td>0.00000</td>\n",
       "      <td>0.11202</td>\n",
       "    </tr>\n",
       "    <tr>\n",
       "      <th>7998056</th>\n",
       "      <td>201812</td>\n",
       "      <td>0.02240</td>\n",
       "      <td>0.00000</td>\n",
       "    </tr>\n",
       "    <tr>\n",
       "      <th>7998057</th>\n",
       "      <td>201901</td>\n",
       "      <td>0.11202</td>\n",
       "      <td>0.03361</td>\n",
       "    </tr>\n",
       "    <tr>\n",
       "      <th>7998058</th>\n",
       "      <td>201902</td>\n",
       "      <td>0.00000</td>\n",
       "      <td>0.00000</td>\n",
       "    </tr>\n",
       "    <tr>\n",
       "      <th>7998059</th>\n",
       "      <td>201903</td>\n",
       "      <td>0.03361</td>\n",
       "      <td>0.00000</td>\n",
       "    </tr>\n",
       "    <tr>\n",
       "      <th>7998060</th>\n",
       "      <td>201904</td>\n",
       "      <td>0.00000</td>\n",
       "      <td>0.00000</td>\n",
       "    </tr>\n",
       "    <tr>\n",
       "      <th>7998061</th>\n",
       "      <td>201905</td>\n",
       "      <td>0.00000</td>\n",
       "      <td>0.21284</td>\n",
       "    </tr>\n",
       "    <tr>\n",
       "      <th>7998062</th>\n",
       "      <td>201906</td>\n",
       "      <td>0.00000</td>\n",
       "      <td>0.00000</td>\n",
       "    </tr>\n",
       "    <tr>\n",
       "      <th>7998063</th>\n",
       "      <td>201907</td>\n",
       "      <td>0.21284</td>\n",
       "      <td>0.24645</td>\n",
       "    </tr>\n",
       "    <tr>\n",
       "      <th>7998064</th>\n",
       "      <td>201908</td>\n",
       "      <td>0.00000</td>\n",
       "      <td>0.06721</td>\n",
       "    </tr>\n",
       "    <tr>\n",
       "      <th>7998065</th>\n",
       "      <td>201909</td>\n",
       "      <td>0.24645</td>\n",
       "      <td>0.00000</td>\n",
       "    </tr>\n",
       "    <tr>\n",
       "      <th>7998066</th>\n",
       "      <td>201910</td>\n",
       "      <td>0.06721</td>\n",
       "      <td>0.00000</td>\n",
       "    </tr>\n",
       "    <tr>\n",
       "      <th>7998067</th>\n",
       "      <td>201911</td>\n",
       "      <td>0.00000</td>\n",
       "      <td>NaN</td>\n",
       "    </tr>\n",
       "    <tr>\n",
       "      <th>7998068</th>\n",
       "      <td>201912</td>\n",
       "      <td>0.00000</td>\n",
       "      <td>NaN</td>\n",
       "    </tr>\n",
       "  </tbody>\n",
       "</table>\n",
       "</div>"
      ],
      "text/plain": [
       "         periodo       tn   target\n",
       "7998033   201701  0.16790  0.00000\n",
       "7998034   201702  0.16790  0.02239\n",
       "7998035   201703  0.00000  0.12312\n",
       "7998036   201704  0.02239  0.17909\n",
       "7998037   201705  0.12312  0.22386\n",
       "7998038   201706  0.17909  0.83947\n",
       "7998039   201707  0.22386  0.24625\n",
       "7998040   201708  0.83947  0.00000\n",
       "7998041   201709  0.24625  0.30221\n",
       "7998042   201710  0.00000  0.12312\n",
       "7998043   201711  0.30221  0.07835\n",
       "7998044   201712  0.12312  0.49289\n",
       "7998045   201801  0.07835  0.86256\n",
       "7998046   201802  0.49289  0.00000\n",
       "7998047   201803  0.86256  0.73934\n",
       "7998048   201804  0.00000  0.49289\n",
       "7998049   201805  0.73934  0.00000\n",
       "7998050   201806  0.49289  0.00000\n",
       "7998051   201807  0.00000  0.00000\n",
       "7998052   201808  0.00000  0.00000\n",
       "7998053   201809  0.00000  0.00000\n",
       "7998054   201810  0.00000  0.02240\n",
       "7998055   201811  0.00000  0.11202\n",
       "7998056   201812  0.02240  0.00000\n",
       "7998057   201901  0.11202  0.03361\n",
       "7998058   201902  0.00000  0.00000\n",
       "7998059   201903  0.03361  0.00000\n",
       "7998060   201904  0.00000  0.00000\n",
       "7998061   201905  0.00000  0.21284\n",
       "7998062   201906  0.00000  0.00000\n",
       "7998063   201907  0.21284  0.24645\n",
       "7998064   201908  0.00000  0.06721\n",
       "7998065   201909  0.24645  0.00000\n",
       "7998066   201910  0.06721  0.00000\n",
       "7998067   201911  0.00000      NaN\n",
       "7998068   201912  0.00000      NaN"
      ]
     },
     "execution_count": 3,
     "metadata": {},
     "output_type": "execute_result"
    }
   ],
   "source": [
    "#Prueba target\n",
    "dt[\n",
    "    (dt['customer_id'] == 10050) &\n",
    "    (dt['product_id'] == 20001)\n",
    "][[\"periodo\",\"tn\",\"target\"]].head(50)"
   ]
  },
  {
   "cell_type": "markdown",
   "metadata": {},
   "source": [
    "# nuevo target delta"
   ]
  },
  {
   "cell_type": "code",
   "execution_count": 4,
   "metadata": {},
   "outputs": [],
   "source": [
    "dt[\"target\"] = dt[\"target\"]-dt[\"tn\"]"
   ]
  },
  {
   "cell_type": "code",
   "execution_count": 5,
   "metadata": {},
   "outputs": [],
   "source": [
    "#dt.to_csv(\"../datasets/dt_target.csv.gz\", index=False, sep=\"\\t\",compression='gzip')\n",
    "dt.to_csv(\"../datasets/dt_target2.csv\", index=False, sep=\",\")"
   ]
  },
  {
   "cell_type": "code",
   "execution_count": null,
   "metadata": {
    "id": "NSVIjWcnhulL"
   },
   "outputs": [],
   "source": [
    "\n",
    "# crear alguans variables nuevas de prueba\n",
    "dt[\"month\"] = dt[\"periodo_dt\"].dt.month\n",
    "dt[\"year\"] = dt[\"periodo_dt\"].dt.year\n",
    "\n",
    "\n",
    "# Convertir columnas categóricas a tipo 'category' para LightGBM\n",
    "for col in ['cat1', 'cat2', 'cat3', 'brand', 'plan_precios_cuidados','descripcion']:\n",
    "    if col in dt.columns:\n",
    "        dt[col] = dt[col].astype('category')\n",
    "\n",
    "dt_kgl = dt[dt[\"periodo\"].isin([201912])]\n",
    "dt = dt.drop(dt[dt[\"periodo\"].isin([201911,201912])].index,axis=0)"
   ]
  },
  {
   "cell_type": "code",
   "execution_count": null,
   "metadata": {
    "colab": {
     "base_uri": "https://localhost:8080/"
    },
    "executionInfo": {
     "elapsed": 21,
     "status": "ok",
     "timestamp": 1748481118668,
     "user": {
      "displayName": "Francisco Carreño",
      "userId": "08299402938014877271"
     },
     "user_tz": 180
    },
    "id": "RzlDXio-iJN7",
    "outputId": "b1d17862-c28a-4331-91cd-f5b934430eab"
   },
   "outputs": [
    {
     "data": {
      "text/plain": [
       "(9349922, 17)"
      ]
     },
     "execution_count": 47,
     "metadata": {},
     "output_type": "execute_result"
    }
   ],
   "source": [
    "dt.shape"
   ]
  },
  {
   "cell_type": "code",
   "execution_count": null,
   "metadata": {
    "colab": {
     "base_uri": "https://localhost:8080/"
    },
    "executionInfo": {
     "elapsed": 19,
     "status": "ok",
     "timestamp": 1748481118669,
     "user": {
      "displayName": "Francisco Carreño",
      "userId": "08299402938014877271"
     },
     "user_tz": 180
    },
    "id": "L_Ka2ghbjU97",
    "outputId": "b77fd082-1b68-409a-bedd-1793e0fc73c9"
   },
   "outputs": [
    {
     "data": {
      "text/plain": [
       "Index(['product_id', 'customer_id', 'periodo', 'plan_precios_cuidados',\n",
       "       'cust_request_qty', 'cust_request_tn', 'tn', 'cat1', 'cat2', 'cat3',\n",
       "       'brand', 'sku_size', 'descripcion', 'stock_final', 'periodo_dt',\n",
       "       'periodo_target_dt', 'target'],\n",
       "      dtype='object')"
      ]
     },
     "execution_count": 48,
     "metadata": {},
     "output_type": "execute_result"
    }
   ],
   "source": [
    "dt.columns"
   ]
  },
  {
   "cell_type": "code",
   "execution_count": null,
   "metadata": {
    "colab": {
     "base_uri": "https://localhost:8080/"
    },
    "executionInfo": {
     "elapsed": 46501,
     "status": "ok",
     "timestamp": 1748481322912,
     "user": {
      "displayName": "Francisco Carreño",
      "userId": "08299402938014877271"
     },
     "user_tz": 180
    },
    "id": "AcDkc8WFaLAQ",
    "outputId": "857cd44a-ea99-47e8-dc3e-2e4f319cff83"
   },
   "outputs": [
    {
     "name": "stdout",
     "output_type": "stream",
     "text": [
      "[LightGBM] [Warning] Categorical features with more bins than the configured maximum bin number found.\n",
      "[LightGBM] [Warning] For categorical features, max_bin and max_bin_by_feature may be ignored with a large number of categories.\n",
      "[LightGBM] [Info] Auto-choosing row-wise multi-threading, the overhead of testing was 0.798021 seconds.\n",
      "You can set `force_row_wise=true` to remove the overhead.\n",
      "And if memory is not enough, you can set `force_col_wise=true`.\n",
      "[LightGBM] [Info] Total Bins 2099\n",
      "[LightGBM] [Info] Number of data points in the train set: 9349922, number of used features: 15\n",
      "[LightGBM] [Info] Start training from score 0.129384\n",
      "Modelo LightGBM entrenado con éxito.\n"
     ]
    }
   ],
   "source": [
    "# prompt: ajustar un modelo lightgbm de regresion, teniendo como objetivo la columna target\n",
    "\n",
    "import lightgbm as lgb\n",
    "from sklearn.model_selection import train_test_split\n",
    "import numpy as np\n",
    "\n",
    "\n",
    "\n",
    "# Columnas a utilizar como features (X) y la columna target (y)\n",
    "# Se excluyen las columnas de identificación y las que no son numéricas o son el target\n",
    "feature_columns = [col for col in dt.columns if col not in ['periodo','periodo_dt', 'target']]\n",
    "X = dt[feature_columns]\n",
    "y = dt['target']\n",
    "\n",
    "\n",
    "\n",
    "# Dividir los datos en conjuntos de entrenamiento y prueba (opcional, pero recomendado)\n",
    "# Para este caso, vamos a entrenar con todos los datos disponibles antes de 201911\n",
    "# Si quisieras validación, podrías usar un periodo anterior como validación\n",
    "\n",
    "# Definir el modelo LightGBM\n",
    "lgb_reg = lgb.LGBMRegressor(random_state=42)\n",
    "\n",
    "# Entrenar el modelo\n",
    "lgb_reg.fit(X, y)\n",
    "\n",
    "print(\"Modelo LightGBM entrenado con éxito.\")\n",
    "\n",
    "# Ahora puedes usar lgb_reg para hacer predicciones\n",
    "# Por ejemplo, si tuvieras un dataframe 'X_pred' con los mismos features:\n",
    "# predictions = lgb_reg.predict(X_pred)\n",
    "\n"
   ]
  },
  {
   "cell_type": "code",
   "execution_count": null,
   "metadata": {
    "colab": {
     "base_uri": "https://localhost:8080/"
    },
    "executionInfo": {
     "elapsed": 31154,
     "status": "ok",
     "timestamp": 1748481361380,
     "user": {
      "displayName": "Francisco Carreño",
      "userId": "08299402938014877271"
     },
     "user_tz": 180
    },
    "id": "k6gRK-Zfj9dN",
    "outputId": "1cba8f07-ba0c-4172-b21c-06622de3964c"
   },
   "outputs": [
    {
     "name": "stdout",
     "output_type": "stream",
     "text": [
      "Mean Absolute Error (MAE): 0.1174\n",
      "Mean Squared Error (MSE): 1.0259\n",
      "Root Mean Squared Error (RMSE): 1.0129\n"
     ]
    }
   ],
   "source": [
    "# prompt: calcular accuracy del modelo entrenado\n",
    "\n",
    "import numpy as np\n",
    "from sklearn.metrics import accuracy_score\n",
    "\n",
    "# Para calcular la precisión (accuracy), necesitas tener etiquetas binarias (0 o 1).\n",
    "# Tu target 'tn' es una variable continua representando ventas.\n",
    "# Accuracy es adecuada para problemas de clasificación.\n",
    "\n",
    "# Si quieres evaluar un modelo de regresión como LGBMRegressor,\n",
    "# deberías usar métricas de regresión como Mean Absolute Error (MAE),\n",
    "# Mean Squared Error (MSE), R-squared, etc.\n",
    "\n",
    "# Si deseas adaptar esto a un problema de clasificación (ej: predecir si hay venta o no > 0),\n",
    "# puedes binarizar el target:\n",
    "# y_binary = (y > 0).astype(int)\n",
    "# Si ya has entrenado el modelo con el target continuo, no puedes calcular accuracy directamente.\n",
    "\n",
    "# Asumiendo que quieres evaluar cómo se desempeña el modelo en los datos de entrenamiento\n",
    "# (lo cual no es una métrica de rendimiento generalizable, pero ilustra el proceso):\n",
    "\n",
    "# Hacer predicciones en el conjunto de entrenamiento\n",
    "y_pred = lgb_reg.predict(X)\n",
    "\n",
    "# Para un problema de regresión, puedes calcular MAE o MSE\n",
    "from sklearn.metrics import mean_absolute_error, mean_squared_error\n",
    "\n",
    "mae = mean_absolute_error(y, y_pred)\n",
    "mse = mean_squared_error(y, y_pred)\n",
    "rmse = np.sqrt(mse)\n",
    "\n",
    "print(f\"Mean Absolute Error (MAE): {mae:.4f}\")\n",
    "print(f\"Mean Squared Error (MSE): {mse:.4f}\")\n",
    "print(f\"Root Mean Squared Error (RMSE): {rmse:.4f}\")\n",
    "\n",
    "# Si binarizaras el problema a Clasificación (¿Hay venta o no?):\n",
    "# y_binary = (y > 0).astype(int)\n",
    "# # Entrenar un clasificador (si es necesario, si el modelo no soporta clasificación binaria)\n",
    "# from sklearn.ensemble import RandomForestClassifier\n",
    "# clf = RandomForestClassifier(random_state=42)\n",
    "# clf.fit(X, y_binary)\n",
    "# y_pred_binary = clf.predict(X)\n",
    "# accuracy = accuracy_score(y_binary, y_pred_binary)\n",
    "# print(f\"Accuracy (binary classification): {accuracy:.4f}\")\n",
    "\n",
    "# Nota: Evaluar en el mismo conjunto de entrenamiento no da una idea realista del rendimiento\n",
    "# en datos no vistos. Lo ideal sería dividir los datos en entrenamiento y prueba\n",
    "# ANTES de entrenar y evaluar en el conjunto de prueba.\n",
    "# O usar validación cruzada."
   ]
  },
  {
   "cell_type": "code",
   "execution_count": null,
   "metadata": {
    "id": "L37oxETOkn1s"
   },
   "outputs": [],
   "source": [
    "\n",
    "\n",
    "# Columnas a utilizar como features (X) y la columna target (y)\n",
    "# Se excluyen las columnas de identificación y las que no son numéricas o son el target\n",
    "X_kgl = dt_kgl[feature_columns]\n",
    "y_pred = lgb_reg.predict(X_kgl)"
   ]
  },
  {
   "cell_type": "code",
   "execution_count": null,
   "metadata": {
    "colab": {
     "base_uri": "https://localhost:8080/",
     "height": 424
    },
    "executionInfo": {
     "elapsed": 70,
     "status": "ok",
     "timestamp": 1748481637591,
     "user": {
      "displayName": "Francisco Carreño",
      "userId": "08299402938014877271"
     },
     "user_tz": 180
    },
    "id": "rJpKUQeslzJi",
    "outputId": "a4963c7d-36c2-42f5-ba41-d067b6b9964c"
   },
   "outputs": [
    {
     "data": {
      "application/vnd.google.colaboratory.intrinsic+json": {
       "summary": "{\n  \"name\": \"result\",\n  \"rows\": 780,\n  \"fields\": [\n    {\n      \"column\": \"product_id\",\n      \"properties\": {\n        \"dtype\": \"number\",\n        \"std\": 353,\n        \"min\": 20001,\n        \"max\": 21276,\n        \"num_unique_values\": 780,\n        \"samples\": [\n          20835,\n          20823,\n          20743\n        ],\n        \"semantic_type\": \"\",\n        \"description\": \"\"\n      }\n    },\n    {\n      \"column\": \"tn\",\n      \"properties\": {\n        \"dtype\": \"number\",\n        \"std\": 90.54240248982993,\n        \"min\": 0.07188874973608352,\n        \"max\": 1445.9872900566918,\n        \"num_unique_values\": 774,\n        \"samples\": [\n          7.733830057552337,\n          5.1929034684746265,\n          3.3401256769878214\n        ],\n        \"semantic_type\": \"\",\n        \"description\": \"\"\n      }\n    }\n  ]\n}",
       "type": "dataframe",
       "variable_name": "result"
      },
      "text/html": [
       "\n",
       "  <div id=\"df-078db90c-314f-4e9b-8ce2-f1f13cd73165\" class=\"colab-df-container\">\n",
       "    <div>\n",
       "<style scoped>\n",
       "    .dataframe tbody tr th:only-of-type {\n",
       "        vertical-align: middle;\n",
       "    }\n",
       "\n",
       "    .dataframe tbody tr th {\n",
       "        vertical-align: top;\n",
       "    }\n",
       "\n",
       "    .dataframe thead th {\n",
       "        text-align: right;\n",
       "    }\n",
       "</style>\n",
       "<table border=\"1\" class=\"dataframe\">\n",
       "  <thead>\n",
       "    <tr style=\"text-align: right;\">\n",
       "      <th></th>\n",
       "      <th>product_id</th>\n",
       "      <th>tn</th>\n",
       "    </tr>\n",
       "  </thead>\n",
       "  <tbody>\n",
       "    <tr>\n",
       "      <th>0</th>\n",
       "      <td>20001</td>\n",
       "      <td>1445.987290</td>\n",
       "    </tr>\n",
       "    <tr>\n",
       "      <th>1</th>\n",
       "      <td>20002</td>\n",
       "      <td>971.359486</td>\n",
       "    </tr>\n",
       "    <tr>\n",
       "      <th>2</th>\n",
       "      <td>20003</td>\n",
       "      <td>772.756700</td>\n",
       "    </tr>\n",
       "    <tr>\n",
       "      <th>3</th>\n",
       "      <td>20004</td>\n",
       "      <td>516.712323</td>\n",
       "    </tr>\n",
       "    <tr>\n",
       "      <th>4</th>\n",
       "      <td>20005</td>\n",
       "      <td>478.195130</td>\n",
       "    </tr>\n",
       "    <tr>\n",
       "      <th>...</th>\n",
       "      <td>...</td>\n",
       "      <td>...</td>\n",
       "    </tr>\n",
       "    <tr>\n",
       "      <th>775</th>\n",
       "      <td>21263</td>\n",
       "      <td>0.382548</td>\n",
       "    </tr>\n",
       "    <tr>\n",
       "      <th>776</th>\n",
       "      <td>21265</td>\n",
       "      <td>0.712950</td>\n",
       "    </tr>\n",
       "    <tr>\n",
       "      <th>777</th>\n",
       "      <td>21266</td>\n",
       "      <td>0.712950</td>\n",
       "    </tr>\n",
       "    <tr>\n",
       "      <th>778</th>\n",
       "      <td>21267</td>\n",
       "      <td>0.088928</td>\n",
       "    </tr>\n",
       "    <tr>\n",
       "      <th>779</th>\n",
       "      <td>21276</td>\n",
       "      <td>0.088928</td>\n",
       "    </tr>\n",
       "  </tbody>\n",
       "</table>\n",
       "<p>780 rows × 2 columns</p>\n",
       "</div>\n",
       "    <div class=\"colab-df-buttons\">\n",
       "\n",
       "  <div class=\"colab-df-container\">\n",
       "    <button class=\"colab-df-convert\" onclick=\"convertToInteractive('df-078db90c-314f-4e9b-8ce2-f1f13cd73165')\"\n",
       "            title=\"Convert this dataframe to an interactive table.\"\n",
       "            style=\"display:none;\">\n",
       "\n",
       "  <svg xmlns=\"http://www.w3.org/2000/svg\" height=\"24px\" viewBox=\"0 -960 960 960\">\n",
       "    <path d=\"M120-120v-720h720v720H120Zm60-500h600v-160H180v160Zm220 220h160v-160H400v160Zm0 220h160v-160H400v160ZM180-400h160v-160H180v160Zm440 0h160v-160H620v160ZM180-180h160v-160H180v160Zm440 0h160v-160H620v160Z\"/>\n",
       "  </svg>\n",
       "    </button>\n",
       "\n",
       "  <style>\n",
       "    .colab-df-container {\n",
       "      display:flex;\n",
       "      gap: 12px;\n",
       "    }\n",
       "\n",
       "    .colab-df-convert {\n",
       "      background-color: #E8F0FE;\n",
       "      border: none;\n",
       "      border-radius: 50%;\n",
       "      cursor: pointer;\n",
       "      display: none;\n",
       "      fill: #1967D2;\n",
       "      height: 32px;\n",
       "      padding: 0 0 0 0;\n",
       "      width: 32px;\n",
       "    }\n",
       "\n",
       "    .colab-df-convert:hover {\n",
       "      background-color: #E2EBFA;\n",
       "      box-shadow: 0px 1px 2px rgba(60, 64, 67, 0.3), 0px 1px 3px 1px rgba(60, 64, 67, 0.15);\n",
       "      fill: #174EA6;\n",
       "    }\n",
       "\n",
       "    .colab-df-buttons div {\n",
       "      margin-bottom: 4px;\n",
       "    }\n",
       "\n",
       "    [theme=dark] .colab-df-convert {\n",
       "      background-color: #3B4455;\n",
       "      fill: #D2E3FC;\n",
       "    }\n",
       "\n",
       "    [theme=dark] .colab-df-convert:hover {\n",
       "      background-color: #434B5C;\n",
       "      box-shadow: 0px 1px 3px 1px rgba(0, 0, 0, 0.15);\n",
       "      filter: drop-shadow(0px 1px 2px rgba(0, 0, 0, 0.3));\n",
       "      fill: #FFFFFF;\n",
       "    }\n",
       "  </style>\n",
       "\n",
       "    <script>\n",
       "      const buttonEl =\n",
       "        document.querySelector('#df-078db90c-314f-4e9b-8ce2-f1f13cd73165 button.colab-df-convert');\n",
       "      buttonEl.style.display =\n",
       "        google.colab.kernel.accessAllowed ? 'block' : 'none';\n",
       "\n",
       "      async function convertToInteractive(key) {\n",
       "        const element = document.querySelector('#df-078db90c-314f-4e9b-8ce2-f1f13cd73165');\n",
       "        const dataTable =\n",
       "          await google.colab.kernel.invokeFunction('convertToInteractive',\n",
       "                                                    [key], {});\n",
       "        if (!dataTable) return;\n",
       "\n",
       "        const docLinkHtml = 'Like what you see? Visit the ' +\n",
       "          '<a target=\"_blank\" href=https://colab.research.google.com/notebooks/data_table.ipynb>data table notebook</a>'\n",
       "          + ' to learn more about interactive tables.';\n",
       "        element.innerHTML = '';\n",
       "        dataTable['output_type'] = 'display_data';\n",
       "        await google.colab.output.renderOutput(dataTable, element);\n",
       "        const docLink = document.createElement('div');\n",
       "        docLink.innerHTML = docLinkHtml;\n",
       "        element.appendChild(docLink);\n",
       "      }\n",
       "    </script>\n",
       "  </div>\n",
       "\n",
       "\n",
       "    <div id=\"df-6bc0ee44-8578-497f-b04c-637b70961913\">\n",
       "      <button class=\"colab-df-quickchart\" onclick=\"quickchart('df-6bc0ee44-8578-497f-b04c-637b70961913')\"\n",
       "                title=\"Suggest charts\"\n",
       "                style=\"display:none;\">\n",
       "\n",
       "<svg xmlns=\"http://www.w3.org/2000/svg\" height=\"24px\"viewBox=\"0 0 24 24\"\n",
       "     width=\"24px\">\n",
       "    <g>\n",
       "        <path d=\"M19 3H5c-1.1 0-2 .9-2 2v14c0 1.1.9 2 2 2h14c1.1 0 2-.9 2-2V5c0-1.1-.9-2-2-2zM9 17H7v-7h2v7zm4 0h-2V7h2v10zm4 0h-2v-4h2v4z\"/>\n",
       "    </g>\n",
       "</svg>\n",
       "      </button>\n",
       "\n",
       "<style>\n",
       "  .colab-df-quickchart {\n",
       "      --bg-color: #E8F0FE;\n",
       "      --fill-color: #1967D2;\n",
       "      --hover-bg-color: #E2EBFA;\n",
       "      --hover-fill-color: #174EA6;\n",
       "      --disabled-fill-color: #AAA;\n",
       "      --disabled-bg-color: #DDD;\n",
       "  }\n",
       "\n",
       "  [theme=dark] .colab-df-quickchart {\n",
       "      --bg-color: #3B4455;\n",
       "      --fill-color: #D2E3FC;\n",
       "      --hover-bg-color: #434B5C;\n",
       "      --hover-fill-color: #FFFFFF;\n",
       "      --disabled-bg-color: #3B4455;\n",
       "      --disabled-fill-color: #666;\n",
       "  }\n",
       "\n",
       "  .colab-df-quickchart {\n",
       "    background-color: var(--bg-color);\n",
       "    border: none;\n",
       "    border-radius: 50%;\n",
       "    cursor: pointer;\n",
       "    display: none;\n",
       "    fill: var(--fill-color);\n",
       "    height: 32px;\n",
       "    padding: 0;\n",
       "    width: 32px;\n",
       "  }\n",
       "\n",
       "  .colab-df-quickchart:hover {\n",
       "    background-color: var(--hover-bg-color);\n",
       "    box-shadow: 0 1px 2px rgba(60, 64, 67, 0.3), 0 1px 3px 1px rgba(60, 64, 67, 0.15);\n",
       "    fill: var(--button-hover-fill-color);\n",
       "  }\n",
       "\n",
       "  .colab-df-quickchart-complete:disabled,\n",
       "  .colab-df-quickchart-complete:disabled:hover {\n",
       "    background-color: var(--disabled-bg-color);\n",
       "    fill: var(--disabled-fill-color);\n",
       "    box-shadow: none;\n",
       "  }\n",
       "\n",
       "  .colab-df-spinner {\n",
       "    border: 2px solid var(--fill-color);\n",
       "    border-color: transparent;\n",
       "    border-bottom-color: var(--fill-color);\n",
       "    animation:\n",
       "      spin 1s steps(1) infinite;\n",
       "  }\n",
       "\n",
       "  @keyframes spin {\n",
       "    0% {\n",
       "      border-color: transparent;\n",
       "      border-bottom-color: var(--fill-color);\n",
       "      border-left-color: var(--fill-color);\n",
       "    }\n",
       "    20% {\n",
       "      border-color: transparent;\n",
       "      border-left-color: var(--fill-color);\n",
       "      border-top-color: var(--fill-color);\n",
       "    }\n",
       "    30% {\n",
       "      border-color: transparent;\n",
       "      border-left-color: var(--fill-color);\n",
       "      border-top-color: var(--fill-color);\n",
       "      border-right-color: var(--fill-color);\n",
       "    }\n",
       "    40% {\n",
       "      border-color: transparent;\n",
       "      border-right-color: var(--fill-color);\n",
       "      border-top-color: var(--fill-color);\n",
       "    }\n",
       "    60% {\n",
       "      border-color: transparent;\n",
       "      border-right-color: var(--fill-color);\n",
       "    }\n",
       "    80% {\n",
       "      border-color: transparent;\n",
       "      border-right-color: var(--fill-color);\n",
       "      border-bottom-color: var(--fill-color);\n",
       "    }\n",
       "    90% {\n",
       "      border-color: transparent;\n",
       "      border-bottom-color: var(--fill-color);\n",
       "    }\n",
       "  }\n",
       "</style>\n",
       "\n",
       "      <script>\n",
       "        async function quickchart(key) {\n",
       "          const quickchartButtonEl =\n",
       "            document.querySelector('#' + key + ' button');\n",
       "          quickchartButtonEl.disabled = true;  // To prevent multiple clicks.\n",
       "          quickchartButtonEl.classList.add('colab-df-spinner');\n",
       "          try {\n",
       "            const charts = await google.colab.kernel.invokeFunction(\n",
       "                'suggestCharts', [key], {});\n",
       "          } catch (error) {\n",
       "            console.error('Error during call to suggestCharts:', error);\n",
       "          }\n",
       "          quickchartButtonEl.classList.remove('colab-df-spinner');\n",
       "          quickchartButtonEl.classList.add('colab-df-quickchart-complete');\n",
       "        }\n",
       "        (() => {\n",
       "          let quickchartButtonEl =\n",
       "            document.querySelector('#df-6bc0ee44-8578-497f-b04c-637b70961913 button');\n",
       "          quickchartButtonEl.style.display =\n",
       "            google.colab.kernel.accessAllowed ? 'block' : 'none';\n",
       "        })();\n",
       "      </script>\n",
       "    </div>\n",
       "\n",
       "  <div id=\"id_d7ca60ed-a8a3-4b01-ae39-482fc37dc69a\">\n",
       "    <style>\n",
       "      .colab-df-generate {\n",
       "        background-color: #E8F0FE;\n",
       "        border: none;\n",
       "        border-radius: 50%;\n",
       "        cursor: pointer;\n",
       "        display: none;\n",
       "        fill: #1967D2;\n",
       "        height: 32px;\n",
       "        padding: 0 0 0 0;\n",
       "        width: 32px;\n",
       "      }\n",
       "\n",
       "      .colab-df-generate:hover {\n",
       "        background-color: #E2EBFA;\n",
       "        box-shadow: 0px 1px 2px rgba(60, 64, 67, 0.3), 0px 1px 3px 1px rgba(60, 64, 67, 0.15);\n",
       "        fill: #174EA6;\n",
       "      }\n",
       "\n",
       "      [theme=dark] .colab-df-generate {\n",
       "        background-color: #3B4455;\n",
       "        fill: #D2E3FC;\n",
       "      }\n",
       "\n",
       "      [theme=dark] .colab-df-generate:hover {\n",
       "        background-color: #434B5C;\n",
       "        box-shadow: 0px 1px 3px 1px rgba(0, 0, 0, 0.15);\n",
       "        filter: drop-shadow(0px 1px 2px rgba(0, 0, 0, 0.3));\n",
       "        fill: #FFFFFF;\n",
       "      }\n",
       "    </style>\n",
       "    <button class=\"colab-df-generate\" onclick=\"generateWithVariable('result')\"\n",
       "            title=\"Generate code using this dataframe.\"\n",
       "            style=\"display:none;\">\n",
       "\n",
       "  <svg xmlns=\"http://www.w3.org/2000/svg\" height=\"24px\"viewBox=\"0 0 24 24\"\n",
       "       width=\"24px\">\n",
       "    <path d=\"M7,19H8.4L18.45,9,17,7.55,7,17.6ZM5,21V16.75L18.45,3.32a2,2,0,0,1,2.83,0l1.4,1.43a1.91,1.91,0,0,1,.58,1.4,1.91,1.91,0,0,1-.58,1.4L9.25,21ZM18.45,9,17,7.55Zm-12,3A5.31,5.31,0,0,0,4.9,8.1,5.31,5.31,0,0,0,1,6.5,5.31,5.31,0,0,0,4.9,4.9,5.31,5.31,0,0,0,6.5,1,5.31,5.31,0,0,0,8.1,4.9,5.31,5.31,0,0,0,12,6.5,5.46,5.46,0,0,0,6.5,12Z\"/>\n",
       "  </svg>\n",
       "    </button>\n",
       "    <script>\n",
       "      (() => {\n",
       "      const buttonEl =\n",
       "        document.querySelector('#id_d7ca60ed-a8a3-4b01-ae39-482fc37dc69a button.colab-df-generate');\n",
       "      buttonEl.style.display =\n",
       "        google.colab.kernel.accessAllowed ? 'block' : 'none';\n",
       "\n",
       "      buttonEl.onclick = () => {\n",
       "        google.colab.notebook.generateWithVariable('result');\n",
       "      }\n",
       "      })();\n",
       "    </script>\n",
       "  </div>\n",
       "\n",
       "    </div>\n",
       "  </div>\n"
      ],
      "text/plain": [
       "     product_id           tn\n",
       "0         20001  1445.987290\n",
       "1         20002   971.359486\n",
       "2         20003   772.756700\n",
       "3         20004   516.712323\n",
       "4         20005   478.195130\n",
       "..          ...          ...\n",
       "775       21263     0.382548\n",
       "776       21265     0.712950\n",
       "777       21266     0.712950\n",
       "778       21267     0.088928\n",
       "779       21276     0.088928\n",
       "\n",
       "[780 rows x 2 columns]"
      ]
     },
     "execution_count": 62,
     "metadata": {},
     "output_type": "execute_result"
    }
   ],
   "source": [
    "productos_ok = pd.read_csv(\"https://storage.googleapis.com/open-courses/austral2025-af91/labo3v/product_id_apredecir201912.txt\", sep=\"\\t\")\n",
    "result = pd.DataFrame({\"product_id\": X_kgl[\"product_id\"],  \"tn\": y_pred})\n",
    "result = result[result[\"product_id\"].isin(productos_ok[\"product_id\"])]\n",
    "result = result.groupby(\"product_id\").agg({\"tn\":\"sum\"}).reset_index()\n",
    "result"
   ]
  },
  {
   "cell_type": "code",
   "execution_count": null,
   "metadata": {
    "colab": {
     "base_uri": "https://localhost:8080/",
     "height": 17
    },
    "executionInfo": {
     "elapsed": 27,
     "status": "ok",
     "timestamp": 1748481726847,
     "user": {
      "displayName": "Francisco Carreño",
      "userId": "08299402938014877271"
     },
     "user_tz": 180
    },
    "id": "A2meMDp9oHuK",
    "outputId": "0e15140b-e353-450b-b0e2-ee3820d18733"
   },
   "outputs": [
    {
     "data": {
      "application/javascript": "\n    async function download(id, filename, size) {\n      if (!google.colab.kernel.accessAllowed) {\n        return;\n      }\n      const div = document.createElement('div');\n      const label = document.createElement('label');\n      label.textContent = `Downloading \"${filename}\": `;\n      div.appendChild(label);\n      const progress = document.createElement('progress');\n      progress.max = size;\n      div.appendChild(progress);\n      document.body.appendChild(div);\n\n      const buffers = [];\n      let downloaded = 0;\n\n      const channel = await google.colab.kernel.comms.open(id);\n      // Send a message to notify the kernel that we're ready.\n      channel.send({})\n\n      for await (const message of channel.messages) {\n        // Send a message to notify the kernel that we're ready.\n        channel.send({})\n        if (message.buffers) {\n          for (const buffer of message.buffers) {\n            buffers.push(buffer);\n            downloaded += buffer.byteLength;\n            progress.value = downloaded;\n          }\n        }\n      }\n      const blob = new Blob(buffers, {type: 'application/binary'});\n      const a = document.createElement('a');\n      a.href = window.URL.createObjectURL(blob);\n      a.download = filename;\n      div.appendChild(a);\n      a.click();\n      div.remove();\n    }\n  ",
      "text/plain": [
       "<IPython.core.display.Javascript object>"
      ]
     },
     "metadata": {},
     "output_type": "display_data"
    },
    {
     "data": {
      "application/javascript": "download(\"download_3e2a1b28-1b05-4fa0-bc55-4eead5e4603d\", \"result.csv\", 19052)",
      "text/plain": [
       "<IPython.core.display.Javascript object>"
      ]
     },
     "metadata": {},
     "output_type": "display_data"
    }
   ],
   "source": [
    "# prompt: descargar en csv el dataframe result\n",
    "\n",
    "from google.colab import files\n",
    "result.to_csv('result.csv', index=False,sep=\",\")\n",
    "files.download('result.csv')"
   ]
  },
  {
   "cell_type": "code",
   "execution_count": null,
   "metadata": {
    "id": "NtcQKt7Todhh"
   },
   "outputs": [],
   "source": []
  }
 ],
 "metadata": {
  "colab": {
   "authorship_tag": "ABX9TyPdiLO1g8HvtC1neJPMbOBd",
   "provenance": []
  },
  "kernelspec": {
   "display_name": "Python 3",
   "name": "python3"
  },
  "language_info": {
   "codemirror_mode": {
    "name": "ipython",
    "version": 3
   },
   "file_extension": ".py",
   "mimetype": "text/x-python",
   "name": "python",
   "nbconvert_exporter": "python",
   "pygments_lexer": "ipython3",
   "version": "3.12.6"
  }
 },
 "nbformat": 4,
 "nbformat_minor": 0
}
