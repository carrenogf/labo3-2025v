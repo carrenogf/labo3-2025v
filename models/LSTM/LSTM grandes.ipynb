{
 "cells": [
  {
   "cell_type": "code",
   "execution_count": 73,
   "id": "6f76caaa",
   "metadata": {},
   "outputs": [
    {
     "name": "stdout",
     "output_type": "stream",
     "text": [
      "Shape de la matriz: (10, 34)\n"
     ]
    },
    {
     "data": {
      "text/plain": [
       "40"
      ]
     },
     "execution_count": 73,
     "metadata": {},
     "output_type": "execute_result"
    }
   ],
   "source": [
    "import pandas as pd\n",
    "import gc\n",
    "import numpy as np\n",
    "from sklearn.preprocessing import StandardScaler, RobustScaler\n",
    "\n",
    "import tensorflow as tf\n",
    "\n",
    "df = pd.read_csv(\"../datasets/sell-in.txt.gz\", sep=\"\\t\")\n",
    "productos = df[\"product_id\"].unique()\n",
    "\n",
    "# Option 1: Using sorted() (recommended)\n",
    "productos_grandes = sorted(productos)[:10]\n",
    "df = df[df[\"product_id\"].isin(productos_grandes)]\n",
    "df = df.groupby(by=[\"periodo\",\"product_id\"]).agg({\"tn\":\"sum\"}).reset_index()\n",
    "df = df[~df[\"periodo\"].isin([201911, 201912])]\n",
    "df_test = df[df[\"periodo\"] == 201912].copy()\n",
    "df[\"periodo\"] = pd.to_datetime(df[\"periodo\"], format=\"%Y%m\")\n",
    "df_pivot = df.pivot(index=\"product_id\", columns=\"periodo\", values=\"tn\").fillna(0)\n",
    "print(f\"Shape de la matriz: {df_pivot.shape}\")  # (800 productos x 36 meses)\n",
    "del df\n",
    "gc.collect()"
   ]
  },
  {
   "cell_type": "markdown",
   "id": "c59221bd",
   "metadata": {},
   "source": [
    "HIPERPARAMETROS"
   ]
  },
  {
   "cell_type": "code",
   "execution_count": 74,
   "id": "645761d0",
   "metadata": {},
   "outputs": [],
   "source": [
    "window_size = 12  # Ventana de  meses\n",
    "scaler_name = \"robust\"  # \"standard\" o \"robust\"\n",
    "epochs = 150  \n",
    "early_stopping_patience = 15\n",
    "l2_lambda = 0.001  # Ajusta este valor según sea necesario (típicamente 0.01, 0.001, etc.)\n",
    "optimizer = \"rmsprop\"  # \"adam\", \"sgd\", \"rmsprop\", etc.\n",
    "batch_size = 250"
   ]
  },
  {
   "cell_type": "code",
   "execution_count": 75,
   "id": "85c3b487",
   "metadata": {},
   "outputs": [],
   "source": [
    "\n",
    "scalers = {}  # Guardamos los scalers para invertir luego\n",
    "scaled_data = np.zeros_like(df_pivot.values)\n",
    "\n",
    "for i, (producto, fila) in enumerate(df_pivot.iterrows()):\n",
    "    scaler = StandardScaler() if scaler_name == \"standard\" else RobustScaler()\n",
    "    scaled_data[i] = scaler.fit_transform(fila.values.reshape(-1, 1)).flatten()\n",
    "    scalers[producto] = scaler  # Almacenar scaler para este producto"
   ]
  },
  {
   "cell_type": "code",
   "execution_count": 76,
   "id": "3483d750",
   "metadata": {},
   "outputs": [],
   "source": [
    "X, y, productos = [], [], []\n",
    "\n",
    "for i_producto, producto in enumerate(df_pivot.index):\n",
    "    serie = scaled_data[i_producto]\n",
    "    for i in range(window_size, len(serie) - 2):  # Asegurar que t+2 exista\n",
    "        X.append(serie[i-window_size:i].reshape(-1, 1))  # Shape: (12, 1)\n",
    "        y.append(serie[i+1])  # t+2 (i+1 es el offset desde el fin de la ventana)\n",
    "        productos.append(producto)  # Identificador del producto\n",
    "\n",
    "X = np.array(X)  # Shape: (n_muestras, 12, 1)\n",
    "y = np.array(y).reshape(-1, 1)  # Shape: (n_muestras, 1)"
   ]
  },
  {
   "cell_type": "code",
   "execution_count": 77,
   "id": "97d774a2",
   "metadata": {},
   "outputs": [],
   "source": [
    "from sklearn.model_selection import train_test_split\n",
    "\n",
    "productos_unicos = df_pivot.index.unique()\n",
    "productos_train, productos_test = train_test_split(productos_unicos, test_size=0.2, random_state=42)\n",
    "\n",
    "# Máscaras para filtrar\n",
    "train_mask = [p in productos_train for p in productos]\n",
    "test_mask = [p in productos_test for p in productos]\n",
    "\n",
    "X_train, X_test = X[train_mask], X[test_mask]\n",
    "y_train, y_test = y[train_mask], y[test_mask]"
   ]
  },
  {
   "cell_type": "code",
   "execution_count": 78,
   "id": "fc99ffec",
   "metadata": {},
   "outputs": [
    {
     "name": "stdout",
     "output_type": "stream",
     "text": [
      "Model: \"sequential_3\"\n",
      "_________________________________________________________________\n",
      " Layer (type)                Output Shape              Param #   \n",
      "=================================================================\n",
      " lstm_6 (LSTM)               (None, 12, 64)            16896     \n",
      "                                                                 \n",
      " dropout_3 (Dropout)         (None, 12, 64)            0         \n",
      "                                                                 \n",
      " lstm_7 (LSTM)               (None, 32)                12416     \n",
      "                                                                 \n",
      " dense_6 (Dense)             (None, 16)                528       \n",
      "                                                                 \n",
      " dense_7 (Dense)             (None, 1)                 17        \n",
      "                                                                 \n",
      "=================================================================\n",
      "Total params: 29,857\n",
      "Trainable params: 29,857\n",
      "Non-trainable params: 0\n",
      "_________________________________________________________________\n"
     ]
    }
   ],
   "source": [
    "from tensorflow.keras.models import Sequential\n",
    "from tensorflow.keras.layers import LSTM, Dense, Dropout\n",
    "from tensorflow.keras.regularizers import l2\n",
    "def get_reg(l2_lambda):\n",
    "    return l2(l2_lambda) if l2_lambda > 0 else None\n",
    "\n",
    "def custom_mape_loss(y_true, y_pred):\n",
    "    \"\"\"\n",
    "    Función de pérdida personalizada basada en el error porcentual absoluto.\n",
    "    - y_true: Valores reales (ground truth).\n",
    "    - y_pred: Predicciones del modelo.\n",
    "    \"\"\"\n",
    "    absolute_error = tf.abs(y_true - y_pred)\n",
    "    sum_absolute_error = tf.reduce_sum(absolute_error)\n",
    "    sum_true = tf.reduce_sum(y_true)\n",
    "    return (sum_absolute_error / sum_true)  # Multiplicar por 100 para porcentaje\n",
    "\n",
    "\n",
    "model = Sequential([\n",
    "    LSTM(64, activation='tanh', \n",
    "         input_shape=(window_size, 1), \n",
    "         return_sequences=True,\n",
    "         kernel_regularizer=get_reg(l2_lambda)),  # Regularización L2 en LSTM\n",
    "    Dropout(0.3),\n",
    "    LSTM(32, activation='tanh'),\n",
    "    Dense(16, activation='tanh'),\n",
    "    Dense(1)  # Salida para t+2\n",
    "])\n",
    "\n",
    "model.compile(optimizer=optimizer, loss='mse', metrics=['mae'])\n",
    "model.summary()"
   ]
  },
  {
   "cell_type": "code",
   "execution_count": 79,
   "id": "5486598f",
   "metadata": {},
   "outputs": [
    {
     "name": "stdout",
     "output_type": "stream",
     "text": [
      "Epoch 1/150\n",
      "1/1 [==============================] - 5s 5s/step - loss: 0.4601 - mae: 0.5258 - val_loss: 0.7211 - val_mae: 0.6099 - lr: 0.0010\n",
      "Epoch 2/150\n",
      "1/1 [==============================] - 0s 83ms/step - loss: 0.4424 - mae: 0.5165 - val_loss: 0.7859 - val_mae: 0.6492 - lr: 0.0010\n",
      "Epoch 3/150\n",
      "1/1 [==============================] - 0s 74ms/step - loss: 0.4334 - mae: 0.5019 - val_loss: 0.7847 - val_mae: 0.6448 - lr: 0.0010\n",
      "Epoch 4/150\n",
      "1/1 [==============================] - 0s 69ms/step - loss: 0.4293 - mae: 0.5091 - val_loss: 0.8530 - val_mae: 0.6866 - lr: 0.0010\n",
      "Epoch 5/150\n",
      "1/1 [==============================] - 0s 65ms/step - loss: 0.4264 - mae: 0.4972 - val_loss: 0.8594 - val_mae: 0.6827 - lr: 0.0010\n",
      "Epoch 6/150\n",
      "1/1 [==============================] - 0s 67ms/step - loss: 0.4192 - mae: 0.4983 - val_loss: 0.9066 - val_mae: 0.7132 - lr: 0.0010\n",
      "Epoch 7/150\n",
      "1/1 [==============================] - 0s 69ms/step - loss: 0.4180 - mae: 0.4906 - val_loss: 0.9072 - val_mae: 0.7128 - lr: 1.0000e-04\n",
      "Epoch 8/150\n",
      "1/1 [==============================] - 0s 68ms/step - loss: 0.4176 - mae: 0.4899 - val_loss: 0.9081 - val_mae: 0.7127 - lr: 1.0000e-04\n",
      "Epoch 9/150\n",
      "1/1 [==============================] - 0s 64ms/step - loss: 0.4174 - mae: 0.4906 - val_loss: 0.9095 - val_mae: 0.7130 - lr: 1.0000e-04\n",
      "Epoch 10/150\n",
      "1/1 [==============================] - 0s 62ms/step - loss: 0.4149 - mae: 0.4891 - val_loss: 0.9108 - val_mae: 0.7132 - lr: 1.0000e-04\n",
      "Epoch 11/150\n",
      "1/1 [==============================] - 0s 64ms/step - loss: 0.4101 - mae: 0.4877 - val_loss: 0.9124 - val_mae: 0.7137 - lr: 1.0000e-04\n",
      "Epoch 12/150\n",
      "1/1 [==============================] - 0s 66ms/step - loss: 0.4160 - mae: 0.4916 - val_loss: 0.9125 - val_mae: 0.7137 - lr: 1.0000e-05\n",
      "Epoch 13/150\n",
      "1/1 [==============================] - 0s 77ms/step - loss: 0.4124 - mae: 0.4874 - val_loss: 0.9127 - val_mae: 0.7138 - lr: 1.0000e-05\n",
      "Epoch 14/150\n",
      "1/1 [==============================] - 0s 77ms/step - loss: 0.4127 - mae: 0.4892 - val_loss: 0.9128 - val_mae: 0.7138 - lr: 1.0000e-05\n",
      "Epoch 15/150\n",
      "1/1 [==============================] - 0s 72ms/step - loss: 0.4153 - mae: 0.4895 - val_loss: 0.9129 - val_mae: 0.7138 - lr: 1.0000e-05\n",
      "Epoch 16/150\n",
      "1/1 [==============================] - 0s 93ms/step - loss: 0.4146 - mae: 0.4904 - val_loss: 0.9130 - val_mae: 0.7139 - lr: 1.0000e-05\n"
     ]
    }
   ],
   "source": [
    "from tensorflow.keras.callbacks import EarlyStopping, ReduceLROnPlateau\n",
    "from tensorflow.keras.optimizers import Adam\n",
    "\n",
    "callbacks = [\n",
    "    EarlyStopping(patience=15,\n",
    "                  restore_best_weights=True,\n",
    "                #   monitor='val_custom_mape_loss',\n",
    "                #   min_delta=0.001,\n",
    "                #   mode='min',\n",
    "                  ),\n",
    "    ReduceLROnPlateau(factor=0.1, patience=5)\n",
    "]\n",
    "\n",
    "# Entrenamiento del modelo\n",
    "history = model.fit(\n",
    "    X_train, y_train,\n",
    "    epochs=150,\n",
    "    batch_size=batch_size,\n",
    "    validation_data=(X_test, y_test),\n",
    "    verbose=1,\n",
    "    callbacks=callbacks,\n",
    ")"
   ]
  },
  {
   "cell_type": "code",
   "execution_count": 80,
   "id": "4312b2ac",
   "metadata": {},
   "outputs": [
    {
     "name": "stdout",
     "output_type": "stream",
     "text": [
      "1/1 [==============================] - 1s 839ms/step\n",
      "Predicción t+2 para 20009: 471.50 tn\n"
     ]
    }
   ],
   "source": [
    "def predecir_t2(product_id, ultimos_12_meses):\n",
    "    \"\"\"\n",
    "    product_id: ID del producto (ej: 'P001').\n",
    "    ultimos_12_meses: Array con las tn de los últimos 12 meses (en orden cronológico).\n",
    "    \"\"\"\n",
    "    scaler = scalers[product_id]\n",
    "    ultimos_12_scaled = scaler.transform(np.array(ultimos_12_meses).reshape(-1, 1))\n",
    "    X_new = ultimos_12_scaled.reshape(1, window_size, 1)\n",
    "    y_pred_scaled = model.predict(X_new)\n",
    "    return (y_pred_scaled * scaler.scale_) + scaler.center_\n",
    "\n",
    "# Ejemplo: Predecir para el primer producto en el test set\n",
    "producto_ejemplo = productos_test[0]\n",
    "ultimos_12_ejemplo = df_pivot.loc[producto_ejemplo].iloc[-window_size:].values\n",
    "prediccion = predecir_t2(producto_ejemplo, ultimos_12_ejemplo)\n",
    "print(f\"Predicción t+2 para {producto_ejemplo}: {prediccion[0][0]:.2f} tn\")"
   ]
  },
  {
   "cell_type": "code",
   "execution_count": 81,
   "id": "27e8b297",
   "metadata": {},
   "outputs": [
    {
     "name": "stdout",
     "output_type": "stream",
     "text": [
      "1/1 [==============================] - 0s 28ms/step\n",
      "1/1 [==============================] - 0s 28ms/step\n",
      "1/1 [==============================] - 0s 30ms/step\n",
      "1/1 [==============================] - 0s 31ms/step\n",
      "1/1 [==============================] - 0s 29ms/step\n",
      "1/1 [==============================] - 0s 29ms/step\n",
      "1/1 [==============================] - 0s 30ms/step\n",
      "1/1 [==============================] - 0s 74ms/step\n",
      "1/1 [==============================] - 0s 32ms/step\n",
      "1/1 [==============================] - 0s 30ms/step\n"
     ]
    },
    {
     "data": {
      "application/vnd.microsoft.datawrangler.viewer.v0+json": {
       "columns": [
        {
         "name": "index",
         "rawType": "int64",
         "type": "integer"
        },
        {
         "name": "product_id",
         "rawType": "int64",
         "type": "integer"
        },
        {
         "name": "prediccion_t2",
         "rawType": "float64",
         "type": "float"
        }
       ],
       "ref": "a721060f-5400-4cb2-acbb-beac9e743985",
       "rows": [
        [
         "0",
         "20001",
         "1386.596018214645"
        ],
        [
         "1",
         "20002",
         "1002.1704960667552"
        ],
        [
         "2",
         "20003",
         "769.9497583386639"
        ],
        [
         "3",
         "20004",
         "584.5935128602598"
        ],
        [
         "4",
         "20005",
         "573.2318698580807"
        ],
        [
         "5",
         "20006",
         "538.909502673301"
        ],
        [
         "6",
         "20007",
         "571.8848323067284"
        ],
        [
         "7",
         "20008",
         "514.0049858553438"
        ],
        [
         "8",
         "20009",
         "471.50020288530163"
        ],
        [
         "9",
         "20010",
         "472.0633894452934"
        ]
       ],
       "shape": {
        "columns": 2,
        "rows": 10
       }
      },
      "text/html": [
       "<div>\n",
       "<style scoped>\n",
       "    .dataframe tbody tr th:only-of-type {\n",
       "        vertical-align: middle;\n",
       "    }\n",
       "\n",
       "    .dataframe tbody tr th {\n",
       "        vertical-align: top;\n",
       "    }\n",
       "\n",
       "    .dataframe thead th {\n",
       "        text-align: right;\n",
       "    }\n",
       "</style>\n",
       "<table border=\"1\" class=\"dataframe\">\n",
       "  <thead>\n",
       "    <tr style=\"text-align: right;\">\n",
       "      <th></th>\n",
       "      <th>product_id</th>\n",
       "      <th>prediccion_t2</th>\n",
       "    </tr>\n",
       "  </thead>\n",
       "  <tbody>\n",
       "    <tr>\n",
       "      <th>0</th>\n",
       "      <td>20001</td>\n",
       "      <td>1386.596018</td>\n",
       "    </tr>\n",
       "    <tr>\n",
       "      <th>1</th>\n",
       "      <td>20002</td>\n",
       "      <td>1002.170496</td>\n",
       "    </tr>\n",
       "    <tr>\n",
       "      <th>2</th>\n",
       "      <td>20003</td>\n",
       "      <td>769.949758</td>\n",
       "    </tr>\n",
       "    <tr>\n",
       "      <th>3</th>\n",
       "      <td>20004</td>\n",
       "      <td>584.593513</td>\n",
       "    </tr>\n",
       "    <tr>\n",
       "      <th>4</th>\n",
       "      <td>20005</td>\n",
       "      <td>573.231870</td>\n",
       "    </tr>\n",
       "    <tr>\n",
       "      <th>5</th>\n",
       "      <td>20006</td>\n",
       "      <td>538.909503</td>\n",
       "    </tr>\n",
       "    <tr>\n",
       "      <th>6</th>\n",
       "      <td>20007</td>\n",
       "      <td>571.884832</td>\n",
       "    </tr>\n",
       "    <tr>\n",
       "      <th>7</th>\n",
       "      <td>20008</td>\n",
       "      <td>514.004986</td>\n",
       "    </tr>\n",
       "    <tr>\n",
       "      <th>8</th>\n",
       "      <td>20009</td>\n",
       "      <td>471.500203</td>\n",
       "    </tr>\n",
       "    <tr>\n",
       "      <th>9</th>\n",
       "      <td>20010</td>\n",
       "      <td>472.063389</td>\n",
       "    </tr>\n",
       "  </tbody>\n",
       "</table>\n",
       "</div>"
      ],
      "text/plain": [
       "   product_id  prediccion_t2\n",
       "0       20001    1386.596018\n",
       "1       20002    1002.170496\n",
       "2       20003     769.949758\n",
       "3       20004     584.593513\n",
       "4       20005     573.231870\n",
       "5       20006     538.909503\n",
       "6       20007     571.884832\n",
       "7       20008     514.004986\n",
       "8       20009     471.500203\n",
       "9       20010     472.063389"
      ]
     },
     "execution_count": 81,
     "metadata": {},
     "output_type": "execute_result"
    }
   ],
   "source": [
    "productos_ok = pd.read_csv(\"https://storage.googleapis.com/open-courses/austral2025-af91/labo3v/product_id_apredecir201912.txt\", sep=\"\\t\")\n",
    "productos_ok = productos_grandes\n",
    "def predecir_todos(productos_a_predecir):\n",
    "    predicciones = {}\n",
    "    for producto in productos_a_predecir:\n",
    "        ultimos_12 = df_pivot.loc[producto].iloc[-window_size:].values\n",
    "        prediccion = predecir_t2(producto, ultimos_12)\n",
    "        predicciones[producto] = prediccion[0][0]\n",
    "    return predicciones\n",
    "predicciones = predecir_todos(productos_ok)\n",
    "predicciones_df = pd.DataFrame.from_dict(predicciones, orient='index', columns=['prediccion_t2'])\n",
    "predicciones_df.index.name = 'product_id'\n",
    "predicciones_df.reset_index(inplace=True)\n",
    "predicciones_df"
   ]
  },
  {
   "cell_type": "code",
   "execution_count": 82,
   "id": "f97b5465",
   "metadata": {},
   "outputs": [],
   "source": [
    "predicciones_df.columns = [\"product_id\", \"y_pred\"]\n",
    "#predicciones_df.to_csv(\"../../results/LSTM_2.csv\", index=False, sep=\",\")"
   ]
  },
  {
   "cell_type": "code",
   "execution_count": 83,
   "id": "5dcc8283",
   "metadata": {},
   "outputs": [],
   "source": [
    "df = pd.read_csv(\"../datasets/sell-in.txt.gz\", sep=\"\\t\")\n",
    "df = df[df[\"product_id\"].isin(productos_grandes)]\n",
    "df = df.groupby(by=[\"periodo\",\"product_id\"]).agg({\"tn\":\"sum\"}).reset_index()\n",
    "df_test = df[df[\"periodo\"] == 201912].copy()"
   ]
  },
  {
   "cell_type": "code",
   "execution_count": 84,
   "id": "b6650190",
   "metadata": {},
   "outputs": [],
   "source": [
    "df_final = df_test.merge(predicciones_df, on=\"product_id\", how=\"left\")\n",
    "# df_final.to_csv(\"LSTM_2_test.csv\", index=False, sep=\",\")"
   ]
  },
  {
   "cell_type": "code",
   "execution_count": 85,
   "id": "b1df41fb",
   "metadata": {},
   "outputs": [
    {
     "data": {
      "application/vnd.microsoft.datawrangler.viewer.v0+json": {
       "columns": [
        {
         "name": "index",
         "rawType": "int64",
         "type": "integer"
        },
        {
         "name": "periodo",
         "rawType": "int64",
         "type": "integer"
        },
        {
         "name": "product_id",
         "rawType": "int64",
         "type": "integer"
        },
        {
         "name": "tn",
         "rawType": "float64",
         "type": "float"
        },
        {
         "name": "y_pred",
         "rawType": "float64",
         "type": "float"
        }
       ],
       "ref": "1f2a8c3f-6442-4508-9b84-749f83f90399",
       "rows": [
        [
         "0",
         "201912",
         "20001",
         "1504.68856",
         "1386.596018214645"
        ],
        [
         "1",
         "201912",
         "20002",
         "1087.30855",
         "1002.1704960667552"
        ],
        [
         "2",
         "201912",
         "20003",
         "892.5012899999999",
         "769.9497583386639"
        ],
        [
         "3",
         "201912",
         "20004",
         "637.90002",
         "584.5935128602598"
        ],
        [
         "4",
         "201912",
         "20005",
         "593.24443",
         "573.2318698580807"
        ],
        [
         "5",
         "201912",
         "20006",
         "417.23228",
         "538.909502673301"
        ],
        [
         "6",
         "201912",
         "20007",
         "390.43432",
         "571.8848323067284"
        ],
        [
         "7",
         "201912",
         "20008",
         "195.36854",
         "514.0049858553438"
        ],
        [
         "8",
         "201912",
         "20009",
         "495.03574",
         "471.50020288530163"
        ],
        [
         "9",
         "201912",
         "20010",
         "359.59997999999996",
         "472.0633894452934"
        ]
       ],
       "shape": {
        "columns": 4,
        "rows": 10
       }
      },
      "text/html": [
       "<div>\n",
       "<style scoped>\n",
       "    .dataframe tbody tr th:only-of-type {\n",
       "        vertical-align: middle;\n",
       "    }\n",
       "\n",
       "    .dataframe tbody tr th {\n",
       "        vertical-align: top;\n",
       "    }\n",
       "\n",
       "    .dataframe thead th {\n",
       "        text-align: right;\n",
       "    }\n",
       "</style>\n",
       "<table border=\"1\" class=\"dataframe\">\n",
       "  <thead>\n",
       "    <tr style=\"text-align: right;\">\n",
       "      <th></th>\n",
       "      <th>periodo</th>\n",
       "      <th>product_id</th>\n",
       "      <th>tn</th>\n",
       "      <th>y_pred</th>\n",
       "    </tr>\n",
       "  </thead>\n",
       "  <tbody>\n",
       "    <tr>\n",
       "      <th>0</th>\n",
       "      <td>201912</td>\n",
       "      <td>20001</td>\n",
       "      <td>1504.68856</td>\n",
       "      <td>1386.596018</td>\n",
       "    </tr>\n",
       "    <tr>\n",
       "      <th>1</th>\n",
       "      <td>201912</td>\n",
       "      <td>20002</td>\n",
       "      <td>1087.30855</td>\n",
       "      <td>1002.170496</td>\n",
       "    </tr>\n",
       "    <tr>\n",
       "      <th>2</th>\n",
       "      <td>201912</td>\n",
       "      <td>20003</td>\n",
       "      <td>892.50129</td>\n",
       "      <td>769.949758</td>\n",
       "    </tr>\n",
       "    <tr>\n",
       "      <th>3</th>\n",
       "      <td>201912</td>\n",
       "      <td>20004</td>\n",
       "      <td>637.90002</td>\n",
       "      <td>584.593513</td>\n",
       "    </tr>\n",
       "    <tr>\n",
       "      <th>4</th>\n",
       "      <td>201912</td>\n",
       "      <td>20005</td>\n",
       "      <td>593.24443</td>\n",
       "      <td>573.231870</td>\n",
       "    </tr>\n",
       "    <tr>\n",
       "      <th>5</th>\n",
       "      <td>201912</td>\n",
       "      <td>20006</td>\n",
       "      <td>417.23228</td>\n",
       "      <td>538.909503</td>\n",
       "    </tr>\n",
       "    <tr>\n",
       "      <th>6</th>\n",
       "      <td>201912</td>\n",
       "      <td>20007</td>\n",
       "      <td>390.43432</td>\n",
       "      <td>571.884832</td>\n",
       "    </tr>\n",
       "    <tr>\n",
       "      <th>7</th>\n",
       "      <td>201912</td>\n",
       "      <td>20008</td>\n",
       "      <td>195.36854</td>\n",
       "      <td>514.004986</td>\n",
       "    </tr>\n",
       "    <tr>\n",
       "      <th>8</th>\n",
       "      <td>201912</td>\n",
       "      <td>20009</td>\n",
       "      <td>495.03574</td>\n",
       "      <td>471.500203</td>\n",
       "    </tr>\n",
       "    <tr>\n",
       "      <th>9</th>\n",
       "      <td>201912</td>\n",
       "      <td>20010</td>\n",
       "      <td>359.59998</td>\n",
       "      <td>472.063389</td>\n",
       "    </tr>\n",
       "  </tbody>\n",
       "</table>\n",
       "</div>"
      ],
      "text/plain": [
       "   periodo  product_id          tn       y_pred\n",
       "0   201912       20001  1504.68856  1386.596018\n",
       "1   201912       20002  1087.30855  1002.170496\n",
       "2   201912       20003   892.50129   769.949758\n",
       "3   201912       20004   637.90002   584.593513\n",
       "4   201912       20005   593.24443   573.231870\n",
       "5   201912       20006   417.23228   538.909503\n",
       "6   201912       20007   390.43432   571.884832\n",
       "7   201912       20008   195.36854   514.004986\n",
       "8   201912       20009   495.03574   471.500203\n",
       "9   201912       20010   359.59998   472.063389"
      ]
     },
     "execution_count": 85,
     "metadata": {},
     "output_type": "execute_result"
    }
   ],
   "source": [
    "df_final"
   ]
  },
  {
   "cell_type": "code",
   "execution_count": 86,
   "id": "87f61250",
   "metadata": {},
   "outputs": [
    {
     "data": {
      "text/plain": [
       "0.17599408351635787"
      ]
     },
     "execution_count": 86,
     "metadata": {},
     "output_type": "execute_result"
    }
   ],
   "source": [
    "numerador = (df_final[\"tn\"]- df_final[\"y_pred\"]).abs().sum()\n",
    "denominador = df_final[\"tn\"].sum()\n",
    "porcentaje_error = (numerador / denominador)\n",
    "porcentaje_error"
   ]
  },
  {
   "cell_type": "code",
   "execution_count": 87,
   "id": "287ad1d2",
   "metadata": {},
   "outputs": [],
   "source": [
    "resultados = {\n",
    "    \"window_size\": window_size,\n",
    "    \"scaler_name\": scaler_name,\n",
    "    \"epochs\": epochs,\n",
    "    \"early_stopping_patience\": early_stopping_patience,\n",
    "    \"l2_lambda\": l2_lambda,\n",
    "    \"optimizer\": optimizer,\n",
    "    \"batch_size\": batch_size,\n",
    "    \"porcentaje_error\": porcentaje_error\n",
    "}\n",
    "with open(\"resultados.txt\", \"a\") as f:\n",
    "    f.write(\",\".join([str(v) for v in resultados.values()])  + \"\\n\")"
   ]
  },
  {
   "cell_type": "code",
   "execution_count": 88,
   "id": "0580abcb",
   "metadata": {},
   "outputs": [
    {
     "data": {
      "image/png": "[encoded data removed]",
      "text/plain": [
       "<Figure size 640x480 with 1 Axes>"
      ]
     },
     "metadata": {},
     "output_type": "display_data"
    }
   ],
   "source": [
    "import matplotlib.pyplot as plt\n",
    "df_final[\"pred_085\"] = df_final[\"y_pred\"] * 0.85\n",
    "df_final.plot(kind=\"scatter\", x=\"tn\", y=\"y_pred\", title=\"Predicciones vs TN\")\n",
    "plt.plot([0, 1400], [0, 1400], 'r--')\n",
    "plt.show()"
   ]
  },
  {
   "cell_type": "code",
   "execution_count": 89,
   "id": "1f09a1a5",
   "metadata": {},
   "outputs": [
    {
     "data": {
      "image/png": "[encoded data removed]",
      "text/plain": [
       "<Figure size 640x480 with 1 Axes>"
      ]
     },
     "metadata": {},
     "output_type": "display_data"
    }
   ],
   "source": [
    "import matplotlib.pyplot as plt\n",
    "df_final[\"pred_085\"] = df_final[\"y_pred\"] * 0.85\n",
    "df_final.plot(kind=\"scatter\", x=\"tn\", y=\"pred_085\", title=\"Predicciones vs TN*0.85\")\n",
    "plt.plot([0, 1400], [0, 1400], 'r--')\n",
    "plt.show()"
   ]
  },
  {
   "cell_type": "code",
   "execution_count": 90,
   "id": "15cb8493",
   "metadata": {},
   "outputs": [
    {
     "name": "stdout",
     "output_type": "stream",
     "text": [
      "6884.904568504373 | 6573.31371\n"
     ]
    }
   ],
   "source": [
    "print(df_final[\"y_pred\"].sum(),\"|\",df_final[\"tn\"].sum())"
   ]
  },
  {
   "cell_type": "code",
   "execution_count": 91,
   "id": "2d9d6d03",
   "metadata": {},
   "outputs": [
    {
     "data": {
      "text/plain": [
       "0.954742893615436"
      ]
     },
     "execution_count": 91,
     "metadata": {},
     "output_type": "execute_result"
    }
   ],
   "source": [
    "1/(df_final[\"y_pred\"].sum()/df_final[\"tn\"].sum())"
   ]
  },
  {
   "cell_type": "code",
   "execution_count": 92,
   "id": "ca1d5d98",
   "metadata": {},
   "outputs": [
    {
     "data": {
      "text/plain": [
       "5955.442451756283"
      ]
     },
     "execution_count": 92,
     "metadata": {},
     "output_type": "execute_result"
    }
   ],
   "source": [
    "df_final[\"y_pred\"].sum()*0.865"
   ]
  },
  {
   "cell_type": "code",
   "execution_count": 93,
   "id": "4e1b838b",
   "metadata": {},
   "outputs": [],
   "source": [
    "sellin = pd.read_csv(\"../datasets/sell-in.txt.gz\", sep=\"\\t\")"
   ]
  },
  {
   "cell_type": "code",
   "execution_count": 94,
   "id": "b30c2614",
   "metadata": {},
   "outputs": [
    {
     "name": "stderr",
     "output_type": "stream",
     "text": [
      "C:\\Users\\carre\\AppData\\Local\\Temp\\ipykernel_8696\\621086552.py:3: SettingWithCopyWarning: \n",
      "A value is trying to be set on a copy of a slice from a DataFrame.\n",
      "Try using .loc[row_indexer,col_indexer] = value instead\n",
      "\n",
      "See the caveats in the documentation: https://pandas.pydata.org/pandas-docs/stable/user_guide/indexing.html#returning-a-view-versus-a-copy\n",
      "  prod_s[\"periodo\"] = pd.to_datetime(prod_s[\"periodo\"], format='%Y%m')\n"
     ]
    },
    {
     "data": {
      "image/png": "[encoded data removed]",
      "text/plain": [
       "<Figure size 640x480 with 1 Axes>"
      ]
     },
     "metadata": {},
     "output_type": "display_data"
    }
   ],
   "source": [
    "\n",
    "\n",
    "prod = 20008\n",
    "prod_s = sellin[sellin[\"product_id\"] == prod]\n",
    "prod_s[\"periodo\"] = pd.to_datetime(prod_s[\"periodo\"], format='%Y%m')\n",
    "prod_s = prod_s.groupby(\"periodo\").agg({\"tn\": \"sum\"}).reset_index()\n",
    "#prod_s.plot(kind=\"line\", x=\"periodo\", y=\"tn\", title=\"TN por periodo para producto 20002\")\n",
    "\n",
    "import matplotlib.pyplot as plt\n",
    "\n",
    "ax = plt.gca()\n",
    "prod_s.plot(kind=\"line\", x=\"periodo\", y=\"tn\", title=f\"TN por periodo para producto {prod}\", ax=ax)\n",
    "#plt.axhline(y=813.82, color='red', linestyle='--', label='predict')\n",
    "prediccion = df_final[df_final[\"product_id\"] == prod][\"y_pred\"].values[0]\n",
    "plt.scatter(prod_s[\"periodo\"].iloc[-1], prediccion, color='red', label='prediccion')\n",
    "plt.legend()\n",
    "plt.show()"
   ]
  },
  {
   "cell_type": "code",
   "execution_count": 95,
   "id": "b0973998",
   "metadata": {},
   "outputs": [],
   "source": [
    "df_final[\"error\"] = (df_final[\"tn\"] - df_final[\"y_pred\"]).abs()\n",
    "df_final[\"error_relativo\"] = df_final[\"error\"] / df_final[\"tn\"]\n",
    "df_final.sort_values(by=\"error\", ascending=False, inplace=True)"
   ]
  },
  {
   "cell_type": "code",
   "execution_count": 96,
   "id": "871c16a7",
   "metadata": {},
   "outputs": [
    {
     "data": {
      "application/vnd.microsoft.datawrangler.viewer.v0+json": {
       "columns": [
        {
         "name": "index",
         "rawType": "int64",
         "type": "integer"
        },
        {
         "name": "periodo",
         "rawType": "int64",
         "type": "integer"
        },
        {
         "name": "product_id",
         "rawType": "int64",
         "type": "integer"
        },
        {
         "name": "tn",
         "rawType": "float64",
         "type": "float"
        },
        {
         "name": "y_pred",
         "rawType": "float64",
         "type": "float"
        },
        {
         "name": "pred_085",
         "rawType": "float64",
         "type": "float"
        },
        {
         "name": "error",
         "rawType": "float64",
         "type": "float"
        },
        {
         "name": "error_relativo",
         "rawType": "float64",
         "type": "float"
        }
       ],
       "ref": "8d20fc1e-416d-4f27-a072-7e14b3900fe0",
       "rows": [
        [
         "7",
         "201912",
         "20008",
         "195.36854",
         "514.0049858553438",
         "436.90423797704216",
         "318.63644585534377",
         "1.6309506425924245"
        ],
        [
         "6",
         "201912",
         "20007",
         "390.43432",
         "571.8848323067284",
         "486.10210746071914",
         "181.4505123067284",
         "0.46474017014367075"
        ],
        [
         "2",
         "201912",
         "20003",
         "892.5012899999999",
         "769.9497583386639",
         "654.4572945878642",
         "122.55153166133607",
         "0.13731244204849954"
        ],
        [
         "5",
         "201912",
         "20006",
         "417.23228",
         "538.909502673301",
         "458.0730772723058",
         "121.67722267330095",
         "0.291629455595576"
        ],
        [
         "0",
         "201912",
         "20001",
         "1504.68856",
         "1386.596018214645",
         "1178.6066154824482",
         "118.09254178535502",
         "0.0784830462094794"
        ],
        [
         "9",
         "201912",
         "20010",
         "359.59997999999996",
         "472.0633894452934",
         "401.2538810284994",
         "112.46340944529345",
         "0.3127458723587623"
        ],
        [
         "1",
         "201912",
         "20002",
         "1087.30855",
         "1002.1704960667552",
         "851.8449216567419",
         "85.1380539332448",
         "0.07830165037628446"
        ],
        [
         "3",
         "201912",
         "20004",
         "637.90002",
         "584.5935128602598",
         "496.90448593122085",
         "53.30650713974023",
         "0.08356561446688814"
        ],
        [
         "8",
         "201912",
         "20009",
         "495.03574",
         "471.50020288530163",
         "400.77517245250635",
         "23.535537114698343",
         "0.04754310691728711"
        ],
        [
         "4",
         "201912",
         "20005",
         "593.24443",
         "573.2318698580807",
         "487.24708937936856",
         "20.012560141919266",
         "0.0337340885643364"
        ]
       ],
       "shape": {
        "columns": 7,
        "rows": 10
       }
      },
      "text/html": [
       "<div>\n",
       "<style scoped>\n",
       "    .dataframe tbody tr th:only-of-type {\n",
       "        vertical-align: middle;\n",
       "    }\n",
       "\n",
       "    .dataframe tbody tr th {\n",
       "        vertical-align: top;\n",
       "    }\n",
       "\n",
       "    .dataframe thead th {\n",
       "        text-align: right;\n",
       "    }\n",
       "</style>\n",
       "<table border=\"1\" class=\"dataframe\">\n",
       "  <thead>\n",
       "    <tr style=\"text-align: right;\">\n",
       "      <th></th>\n",
       "      <th>periodo</th>\n",
       "      <th>product_id</th>\n",
       "      <th>tn</th>\n",
       "      <th>y_pred</th>\n",
       "      <th>pred_085</th>\n",
       "      <th>error</th>\n",
       "      <th>error_relativo</th>\n",
       "    </tr>\n",
       "  </thead>\n",
       "  <tbody>\n",
       "    <tr>\n",
       "      <th>7</th>\n",
       "      <td>201912</td>\n",
       "      <td>20008</td>\n",
       "      <td>195.36854</td>\n",
       "      <td>514.004986</td>\n",
       "      <td>436.904238</td>\n",
       "      <td>318.636446</td>\n",
       "      <td>1.630951</td>\n",
       "    </tr>\n",
       "    <tr>\n",
       "      <th>6</th>\n",
       "      <td>201912</td>\n",
       "      <td>20007</td>\n",
       "      <td>390.43432</td>\n",
       "      <td>571.884832</td>\n",
       "      <td>486.102107</td>\n",
       "      <td>181.450512</td>\n",
       "      <td>0.464740</td>\n",
       "    </tr>\n",
       "    <tr>\n",
       "      <th>2</th>\n",
       "      <td>201912</td>\n",
       "      <td>20003</td>\n",
       "      <td>892.50129</td>\n",
       "      <td>769.949758</td>\n",
       "      <td>654.457295</td>\n",
       "      <td>122.551532</td>\n",
       "      <td>0.137312</td>\n",
       "    </tr>\n",
       "    <tr>\n",
       "      <th>5</th>\n",
       "      <td>201912</td>\n",
       "      <td>20006</td>\n",
       "      <td>417.23228</td>\n",
       "      <td>538.909503</td>\n",
       "      <td>458.073077</td>\n",
       "      <td>121.677223</td>\n",
       "      <td>0.291629</td>\n",
       "    </tr>\n",
       "    <tr>\n",
       "      <th>0</th>\n",
       "      <td>201912</td>\n",
       "      <td>20001</td>\n",
       "      <td>1504.68856</td>\n",
       "      <td>1386.596018</td>\n",
       "      <td>1178.606615</td>\n",
       "      <td>118.092542</td>\n",
       "      <td>0.078483</td>\n",
       "    </tr>\n",
       "    <tr>\n",
       "      <th>9</th>\n",
       "      <td>201912</td>\n",
       "      <td>20010</td>\n",
       "      <td>359.59998</td>\n",
       "      <td>472.063389</td>\n",
       "      <td>401.253881</td>\n",
       "      <td>112.463409</td>\n",
       "      <td>0.312746</td>\n",
       "    </tr>\n",
       "    <tr>\n",
       "      <th>1</th>\n",
       "      <td>201912</td>\n",
       "      <td>20002</td>\n",
       "      <td>1087.30855</td>\n",
       "      <td>1002.170496</td>\n",
       "      <td>851.844922</td>\n",
       "      <td>85.138054</td>\n",
       "      <td>0.078302</td>\n",
       "    </tr>\n",
       "    <tr>\n",
       "      <th>3</th>\n",
       "      <td>201912</td>\n",
       "      <td>20004</td>\n",
       "      <td>637.90002</td>\n",
       "      <td>584.593513</td>\n",
       "      <td>496.904486</td>\n",
       "      <td>53.306507</td>\n",
       "      <td>0.083566</td>\n",
       "    </tr>\n",
       "    <tr>\n",
       "      <th>8</th>\n",
       "      <td>201912</td>\n",
       "      <td>20009</td>\n",
       "      <td>495.03574</td>\n",
       "      <td>471.500203</td>\n",
       "      <td>400.775172</td>\n",
       "      <td>23.535537</td>\n",
       "      <td>0.047543</td>\n",
       "    </tr>\n",
       "    <tr>\n",
       "      <th>4</th>\n",
       "      <td>201912</td>\n",
       "      <td>20005</td>\n",
       "      <td>593.24443</td>\n",
       "      <td>573.231870</td>\n",
       "      <td>487.247089</td>\n",
       "      <td>20.012560</td>\n",
       "      <td>0.033734</td>\n",
       "    </tr>\n",
       "  </tbody>\n",
       "</table>\n",
       "</div>"
      ],
      "text/plain": [
       "   periodo  product_id          tn       y_pred     pred_085       error  \\\n",
       "7   201912       20008   195.36854   514.004986   436.904238  318.636446   \n",
       "6   201912       20007   390.43432   571.884832   486.102107  181.450512   \n",
       "2   201912       20003   892.50129   769.949758   654.457295  122.551532   \n",
       "5   201912       20006   417.23228   538.909503   458.073077  121.677223   \n",
       "0   201912       20001  1504.68856  1386.596018  1178.606615  118.092542   \n",
       "9   201912       20010   359.59998   472.063389   401.253881  112.463409   \n",
       "1   201912       20002  1087.30855  1002.170496   851.844922   85.138054   \n",
       "3   201912       20004   637.90002   584.593513   496.904486   53.306507   \n",
       "8   201912       20009   495.03574   471.500203   400.775172   23.535537   \n",
       "4   201912       20005   593.24443   573.231870   487.247089   20.012560   \n",
       "\n",
       "   error_relativo  \n",
       "7        1.630951  \n",
       "6        0.464740  \n",
       "2        0.137312  \n",
       "5        0.291629  \n",
       "0        0.078483  \n",
       "9        0.312746  \n",
       "1        0.078302  \n",
       "3        0.083566  \n",
       "8        0.047543  \n",
       "4        0.033734  "
      ]
     },
     "execution_count": 96,
     "metadata": {},
     "output_type": "execute_result"
    }
   ],
   "source": [
    "df_final"
   ]
  },
  {
   "cell_type": "code",
   "execution_count": null,
   "id": "b2d06967",
   "metadata": {},
   "outputs": [],
   "source": []
  }
 ],
 "metadata": {
  "kernelspec": {
   "display_name": "py310",
   "language": "python",
   "name": "python3"
  },
  "language_info": {
   "codemirror_mode": {
    "name": "ipython",
    "version": 3
   },
   "file_extension": ".py",
   "mimetype": "text/x-python",
   "name": "python",
   "nbconvert_exporter": "python",
   "pygments_lexer": "ipython3",
   "version": "3.10.18"
  }
 },
 "nbformat": 4,
 "nbformat_minor": 5
}
