{
 "cells": [
  {
   "cell_type": "code",
   "execution_count": 45,
   "id": "6f76caaa",
   "metadata": {},
   "outputs": [
    {
     "name": "stdout",
     "output_type": "stream",
     "text": [
      "Shape de la matriz: (1156, 34)\n"
     ]
    }
   ],
   "source": [
    "import pandas as pd\n",
    "import gc\n",
    "import numpy as np\n",
    "from sklearn.preprocessing import StandardScaler, RobustScaler\n",
    "\n",
    "\n",
    "df = pd.read_csv(\"../datasets/sell-in.txt.gz\", sep=\"\\t\")\n",
    "df = df.groupby(by=[\"periodo\",\"product_id\"]).agg({\"tn\":\"sum\"}).reset_index()\n",
    "df = df[~df[\"periodo\"].isin([201911, 201912])]\n",
    "df_kgl = df.pivot(index=\"product_id\", columns=\"periodo\", values=\"tn\").fillna(0)\n",
    "df_test = df[df[\"periodo\"] == 201912].copy()\n",
    "df[\"periodo\"] = pd.to_datetime(df[\"periodo\"], format=\"%Y%m\")\n",
    "df_pivot = df.pivot(index=\"product_id\", columns=\"periodo\", values=\"tn\").fillna(0)\n",
    "\n",
    "del df\n",
    "gc.collect()\n",
    "\n",
    "\n",
    "# --- FILTRAR PRODUCTOS CON AL MENOS 3 MESES DE ANTIGÜEDAD ---\n",
    "# Opción 1: Al menos 3 meses con datos (no necesariamente consecutivos)\n",
    "productos_con_3_meses = (df_pivot > 0).sum(axis=1) >= 3\n",
    "df_pivot = df_pivot[productos_con_3_meses]\n",
    "print(f\"Shape de la matriz: {df_pivot.shape}\")  # (800 productos x 36 meses)"
   ]
  },
  {
   "cell_type": "code",
   "execution_count": 46,
   "id": "13842959",
   "metadata": {},
   "outputs": [
    {
     "data": {
      "application/vnd.microsoft.datawrangler.viewer.v0+json": {
       "columns": [
        {
         "name": "index",
         "rawType": "int64",
         "type": "integer"
        },
        {
         "name": "periodo",
         "rawType": "datetime64[ns]",
         "type": "datetime"
        },
        {
         "name": "customer_id",
         "rawType": "int64",
         "type": "integer"
        },
        {
         "name": "product_id",
         "rawType": "int64",
         "type": "integer"
        },
        {
         "name": "plan_precios_cuidados",
         "rawType": "int64",
         "type": "integer"
        },
        {
         "name": "cust_request_qty",
         "rawType": "int64",
         "type": "integer"
        },
        {
         "name": "cust_request_tn",
         "rawType": "float64",
         "type": "float"
        },
        {
         "name": "tn",
         "rawType": "float64",
         "type": "float"
        }
       ],
       "ref": "2ab76db5-549f-4b8b-b63d-e4f87cde4ee5",
       "rows": [
        [
         "2732958",
         "2019-09-01 00:00:00",
         "10217",
         "20127",
         "0",
         "1",
         "0.12322",
         "0.12322"
        ],
        [
         "2732959",
         "2019-09-01 00:00:00",
         "10109",
         "20127",
         "0",
         "1",
         "0.61612",
         "0.61612"
        ],
        [
         "2732960",
         "2019-09-01 00:00:00",
         "10027",
         "20127",
         "0",
         "4",
         "6.04913",
         "6.04913"
        ],
        [
         "2732961",
         "2019-09-01 00:00:00",
         "10343",
         "20127",
         "0",
         "1",
         "0.04481",
         "0.04481"
        ],
        [
         "2732962",
         "2019-09-01 00:00:00",
         "10208",
         "20127",
         "0",
         "1",
         "0.12322",
         "0.12322"
        ],
        [
         "2732963",
         "2019-09-01 00:00:00",
         "10034",
         "20127",
         "0",
         "1",
         "3.36063",
         "3.36063"
        ],
        [
         "2732964",
         "2019-09-01 00:00:00",
         "10092",
         "20127",
         "0",
         "1",
         "0.12322",
         "0.12322"
        ],
        [
         "2732965",
         "2019-09-01 00:00:00",
         "10059",
         "20127",
         "0",
         "1",
         "0.33606",
         "0.33606"
        ],
        [
         "2732966",
         "2019-09-01 00:00:00",
         "10135",
         "20127",
         "0",
         "1",
         "0.05601",
         "0.05601"
        ],
        [
         "2732967",
         "2019-09-01 00:00:00",
         "10076",
         "20127",
         "0",
         "1",
         "1.10901",
         "1.10901"
        ],
        [
         "2732968",
         "2019-09-01 00:00:00",
         "10073",
         "20127",
         "0",
         "1",
         "0.86256",
         "0.86256"
        ],
        [
         "2809148",
         "2019-10-01 00:00:00",
         "10145",
         "20127",
         "0",
         "2",
         "0.24645",
         "0.24645"
        ],
        [
         "2809149",
         "2019-10-01 00:00:00",
         "10251",
         "20127",
         "0",
         "1",
         "0.86256",
         "0.86256"
        ],
        [
         "2809150",
         "2019-10-01 00:00:00",
         "10334",
         "20127",
         "0",
         "1",
         "0.03361",
         "0.03361"
        ],
        [
         "2809151",
         "2019-10-01 00:00:00",
         "10336",
         "20127",
         "0",
         "1",
         "0.0112",
         "0.0112"
        ],
        [
         "2809152",
         "2019-10-01 00:00:00",
         "10036",
         "20127",
         "0",
         "5",
         "32.77734",
         "32.77734"
        ],
        [
         "2809153",
         "2019-10-01 00:00:00",
         "10217",
         "20127",
         "0",
         "1",
         "0.86256",
         "0.86256"
        ],
        [
         "2809154",
         "2019-10-01 00:00:00",
         "10276",
         "20127",
         "0",
         "1",
         "0.06721",
         "0.06721"
        ],
        [
         "2809155",
         "2019-10-01 00:00:00",
         "10032",
         "20127",
         "0",
         "2",
         "8.64802",
         "8.64802"
        ],
        [
         "2809156",
         "2019-10-01 00:00:00",
         "10038",
         "20127",
         "0",
         "1",
         "4.31281",
         "4.31281"
        ],
        [
         "2809157",
         "2019-10-01 00:00:00",
         "10048",
         "20127",
         "0",
         "1",
         "12.93843",
         "12.93843"
        ],
        [
         "2809158",
         "2019-10-01 00:00:00",
         "10068",
         "20127",
         "0",
         "2",
         "0.98578",
         "0.98578"
        ],
        [
         "2809159",
         "2019-10-01 00:00:00",
         "10156",
         "20127",
         "0",
         "1",
         "0.36967",
         "0.36967"
        ],
        [
         "2809160",
         "2019-10-01 00:00:00",
         "10140",
         "20127",
         "0",
         "1",
         "0.98578",
         "0.98578"
        ],
        [
         "2809161",
         "2019-10-01 00:00:00",
         "10015",
         "20127",
         "0",
         "2",
         "0.30246",
         "0.30246"
        ],
        [
         "2809162",
         "2019-10-01 00:00:00",
         "10089",
         "20127",
         "0",
         "2",
         "3.33823",
         "3.33823"
        ],
        [
         "2809163",
         "2019-10-01 00:00:00",
         "10081",
         "20127",
         "0",
         "1",
         "0.86256",
         "0.32486"
        ],
        [
         "2809164",
         "2019-10-01 00:00:00",
         "10034",
         "20127",
         "0",
         "8",
         "16.84796",
         "16.84796"
        ],
        [
         "2809165",
         "2019-10-01 00:00:00",
         "10277",
         "20127",
         "0",
         "1",
         "0.07841",
         "0.07841"
        ],
        [
         "2809166",
         "2019-10-01 00:00:00",
         "10098",
         "20127",
         "0",
         "1",
         "0.86256",
         "0.86256"
        ],
        [
         "2809167",
         "2019-10-01 00:00:00",
         "10017",
         "20127",
         "0",
         "4",
         "6.16116",
         "6.16116"
        ],
        [
         "2809168",
         "2019-10-01 00:00:00",
         "10399",
         "20127",
         "0",
         "1",
         "0.12322",
         "0.12322"
        ],
        [
         "2809169",
         "2019-10-01 00:00:00",
         "10106",
         "20127",
         "0",
         "4",
         "1.35545",
         "1.35545"
        ],
        [
         "2809170",
         "2019-10-01 00:00:00",
         "10184",
         "20127",
         "0",
         "2",
         "0.73934",
         "0.73934"
        ],
        [
         "2809171",
         "2019-10-01 00:00:00",
         "10220",
         "20127",
         "0",
         "1",
         "0.20164",
         "0.20164"
        ],
        [
         "2809172",
         "2019-10-01 00:00:00",
         "10042",
         "20127",
         "0",
         "1",
         "0.36967",
         "0.36967"
        ],
        [
         "2809173",
         "2019-10-01 00:00:00",
         "10288",
         "20127",
         "0",
         "2",
         "0.49289",
         "0.49289"
        ],
        [
         "2809174",
         "2019-10-01 00:00:00",
         "10126",
         "20127",
         "0",
         "1",
         "0.86256",
         "0.86256"
        ],
        [
         "2809175",
         "2019-10-01 00:00:00",
         "10367",
         "20127",
         "0",
         "1",
         "0.05601",
         "0.05601"
        ],
        [
         "2809176",
         "2019-10-01 00:00:00",
         "10271",
         "20127",
         "0",
         "2",
         "0.24645",
         "0.24645"
        ],
        [
         "2809177",
         "2019-10-01 00:00:00",
         "10203",
         "20127",
         "0",
         "1",
         "0.86256",
         "0.86256"
        ],
        [
         "2809178",
         "2019-10-01 00:00:00",
         "10159",
         "20127",
         "0",
         "1",
         "0.07841",
         "0.07841"
        ],
        [
         "2809179",
         "2019-10-01 00:00:00",
         "10328",
         "20127",
         "0",
         "1",
         "0.0112",
         "0.0112"
        ],
        [
         "2809180",
         "2019-10-01 00:00:00",
         "10290",
         "20127",
         "0",
         "1",
         "0.24645",
         "0.24645"
        ],
        [
         "2809181",
         "2019-10-01 00:00:00",
         "10385",
         "20127",
         "0",
         "1",
         "0.12322",
         "0.12322"
        ],
        [
         "2809182",
         "2019-10-01 00:00:00",
         "10131",
         "20127",
         "0",
         "1",
         "0.05601",
         "0.05601"
        ],
        [
         "2809183",
         "2019-10-01 00:00:00",
         "10026",
         "20127",
         "0",
         "1",
         "1.72512",
         "1.72512"
        ],
        [
         "2809184",
         "2019-10-01 00:00:00",
         "10253",
         "20127",
         "0",
         "2",
         "0.28005",
         "0.28005"
        ],
        [
         "2809185",
         "2019-10-01 00:00:00",
         "10218",
         "20127",
         "0",
         "1",
         "0.12322",
         "0.12322"
        ],
        [
         "2809186",
         "2019-10-01 00:00:00",
         "10111",
         "20127",
         "0",
         "1",
         "1.6131",
         "1.6131"
        ]
       ],
       "shape": {
        "columns": 7,
        "rows": 291
       }
      },
      "text/html": [
       "<div>\n",
       "<style scoped>\n",
       "    .dataframe tbody tr th:only-of-type {\n",
       "        vertical-align: middle;\n",
       "    }\n",
       "\n",
       "    .dataframe tbody tr th {\n",
       "        vertical-align: top;\n",
       "    }\n",
       "\n",
       "    .dataframe thead th {\n",
       "        text-align: right;\n",
       "    }\n",
       "</style>\n",
       "<table border=\"1\" class=\"dataframe\">\n",
       "  <thead>\n",
       "    <tr style=\"text-align: right;\">\n",
       "      <th></th>\n",
       "      <th>periodo</th>\n",
       "      <th>customer_id</th>\n",
       "      <th>product_id</th>\n",
       "      <th>plan_precios_cuidados</th>\n",
       "      <th>cust_request_qty</th>\n",
       "      <th>cust_request_tn</th>\n",
       "      <th>tn</th>\n",
       "    </tr>\n",
       "  </thead>\n",
       "  <tbody>\n",
       "    <tr>\n",
       "      <th>2732958</th>\n",
       "      <td>2019-09-01</td>\n",
       "      <td>10217</td>\n",
       "      <td>20127</td>\n",
       "      <td>0</td>\n",
       "      <td>1</td>\n",
       "      <td>0.12322</td>\n",
       "      <td>0.12322</td>\n",
       "    </tr>\n",
       "    <tr>\n",
       "      <th>2732959</th>\n",
       "      <td>2019-09-01</td>\n",
       "      <td>10109</td>\n",
       "      <td>20127</td>\n",
       "      <td>0</td>\n",
       "      <td>1</td>\n",
       "      <td>0.61612</td>\n",
       "      <td>0.61612</td>\n",
       "    </tr>\n",
       "    <tr>\n",
       "      <th>2732960</th>\n",
       "      <td>2019-09-01</td>\n",
       "      <td>10027</td>\n",
       "      <td>20127</td>\n",
       "      <td>0</td>\n",
       "      <td>4</td>\n",
       "      <td>6.04913</td>\n",
       "      <td>6.04913</td>\n",
       "    </tr>\n",
       "    <tr>\n",
       "      <th>2732961</th>\n",
       "      <td>2019-09-01</td>\n",
       "      <td>10343</td>\n",
       "      <td>20127</td>\n",
       "      <td>0</td>\n",
       "      <td>1</td>\n",
       "      <td>0.04481</td>\n",
       "      <td>0.04481</td>\n",
       "    </tr>\n",
       "    <tr>\n",
       "      <th>2732962</th>\n",
       "      <td>2019-09-01</td>\n",
       "      <td>10208</td>\n",
       "      <td>20127</td>\n",
       "      <td>0</td>\n",
       "      <td>1</td>\n",
       "      <td>0.12322</td>\n",
       "      <td>0.12322</td>\n",
       "    </tr>\n",
       "    <tr>\n",
       "      <th>...</th>\n",
       "      <td>...</td>\n",
       "      <td>...</td>\n",
       "      <td>...</td>\n",
       "      <td>...</td>\n",
       "      <td>...</td>\n",
       "      <td>...</td>\n",
       "      <td>...</td>\n",
       "    </tr>\n",
       "    <tr>\n",
       "      <th>2941559</th>\n",
       "      <td>2019-12-01</td>\n",
       "      <td>10175</td>\n",
       "      <td>20127</td>\n",
       "      <td>0</td>\n",
       "      <td>1</td>\n",
       "      <td>0.36967</td>\n",
       "      <td>0.36967</td>\n",
       "    </tr>\n",
       "    <tr>\n",
       "      <th>2941560</th>\n",
       "      <td>2019-12-01</td>\n",
       "      <td>10236</td>\n",
       "      <td>20127</td>\n",
       "      <td>0</td>\n",
       "      <td>1</td>\n",
       "      <td>1.72512</td>\n",
       "      <td>1.72512</td>\n",
       "    </tr>\n",
       "    <tr>\n",
       "      <th>2941561</th>\n",
       "      <td>2019-12-01</td>\n",
       "      <td>10092</td>\n",
       "      <td>20127</td>\n",
       "      <td>0</td>\n",
       "      <td>1</td>\n",
       "      <td>0.56011</td>\n",
       "      <td>0.56011</td>\n",
       "    </tr>\n",
       "    <tr>\n",
       "      <th>2941562</th>\n",
       "      <td>2019-12-01</td>\n",
       "      <td>10473</td>\n",
       "      <td>20127</td>\n",
       "      <td>0</td>\n",
       "      <td>1</td>\n",
       "      <td>0.03361</td>\n",
       "      <td>0.03361</td>\n",
       "    </tr>\n",
       "    <tr>\n",
       "      <th>2941563</th>\n",
       "      <td>2019-12-01</td>\n",
       "      <td>10027</td>\n",
       "      <td>20127</td>\n",
       "      <td>0</td>\n",
       "      <td>6</td>\n",
       "      <td>12.94963</td>\n",
       "      <td>12.94963</td>\n",
       "    </tr>\n",
       "  </tbody>\n",
       "</table>\n",
       "<p>291 rows × 7 columns</p>\n",
       "</div>"
      ],
      "text/plain": [
       "           periodo  customer_id  product_id  plan_precios_cuidados  \\\n",
       "2732958 2019-09-01        10217       20127                      0   \n",
       "2732959 2019-09-01        10109       20127                      0   \n",
       "2732960 2019-09-01        10027       20127                      0   \n",
       "2732961 2019-09-01        10343       20127                      0   \n",
       "2732962 2019-09-01        10208       20127                      0   \n",
       "...            ...          ...         ...                    ...   \n",
       "2941559 2019-12-01        10175       20127                      0   \n",
       "2941560 2019-12-01        10236       20127                      0   \n",
       "2941561 2019-12-01        10092       20127                      0   \n",
       "2941562 2019-12-01        10473       20127                      0   \n",
       "2941563 2019-12-01        10027       20127                      0   \n",
       "\n",
       "         cust_request_qty  cust_request_tn        tn  \n",
       "2732958                 1          0.12322   0.12322  \n",
       "2732959                 1          0.61612   0.61612  \n",
       "2732960                 4          6.04913   6.04913  \n",
       "2732961                 1          0.04481   0.04481  \n",
       "2732962                 1          0.12322   0.12322  \n",
       "...                   ...              ...       ...  \n",
       "2941559                 1          0.36967   0.36967  \n",
       "2941560                 1          1.72512   1.72512  \n",
       "2941561                 1          0.56011   0.56011  \n",
       "2941562                 1          0.03361   0.03361  \n",
       "2941563                 6         12.94963  12.94963  \n",
       "\n",
       "[291 rows x 7 columns]"
      ]
     },
     "execution_count": 46,
     "metadata": {},
     "output_type": "execute_result"
    }
   ],
   "source": [
    "df = pd.read_csv(\"../datasets/sell-in.txt.gz\", sep=\"\\t\")# Verificar si el mes 20127 está presente\n",
    "df[\"periodo\"] = pd.to_datetime(df[\"periodo\"], format=\"%Y%m\")\n",
    "df[df[\"product_id\"]==20127]"
   ]
  },
  {
   "cell_type": "markdown",
   "id": "c59221bd",
   "metadata": {},
   "source": [
    "HIPERPARAMETROS"
   ]
  },
  {
   "cell_type": "code",
   "execution_count": 47,
   "id": "645761d0",
   "metadata": {},
   "outputs": [],
   "source": [
    "window_size = 12  # Ventana de  meses\n",
    "scaler_name = \"robust\"  # \"standard\" o \"robust\"\n",
    "\n"
   ]
  },
  {
   "cell_type": "code",
   "execution_count": 48,
   "id": "85c3b487",
   "metadata": {},
   "outputs": [],
   "source": [
    "\n",
    "scalers = {}  # Guardamos los scalers para invertir luego\n",
    "scaled_data = np.zeros_like(df_pivot.values)\n",
    "\n",
    "for i, (producto, fila) in enumerate(df_pivot.iterrows()):\n",
    "    scaler = StandardScaler() if scaler_name == \"standard\" else RobustScaler()\n",
    "    scaled_data[i] = scaler.fit_transform(fila.values.reshape(-1, 1)).flatten()\n",
    "    scalers[producto] = scaler  # Almacenar scaler para este producto"
   ]
  },
  {
   "cell_type": "code",
   "execution_count": 49,
   "id": "3483d750",
   "metadata": {},
   "outputs": [],
   "source": [
    "X, y, productos = [], [], []\n",
    "\n",
    "for i_producto, producto in enumerate(df_pivot.index):\n",
    "    serie = scaled_data[i_producto]\n",
    "    for i in range(window_size, len(serie) - 2):  # Asegurar que t+2 exista\n",
    "        X.append(serie[i-window_size:i].reshape(-1, 1))  # Shape: (12, 1)\n",
    "        y.append(serie[i+2])  # t+2 (i+1 es el offset desde el fin de la ventana)\n",
    "        productos.append(producto)  # Identificador del producto\n",
    "\n",
    "X = np.array(X)  # Shape: (n_muestras, 12, 1)\n",
    "X = X.reshape(X.shape[0], X.shape[1])\n",
    "y = np.array(y).reshape(-1, 1)  # Shape: (n_muestras, 1)"
   ]
  },
  {
   "cell_type": "code",
   "execution_count": 50,
   "id": "97d774a2",
   "metadata": {},
   "outputs": [],
   "source": [
    "from sklearn.model_selection import train_test_split\n",
    "magicos = [ 20002, 20003, 20006, 20010, 20011, 20018, 20019, 20021,\n",
    "   20026, 20028, 20035, 20039, 20042, 20044, 20045, 20046,  20049,\n",
    "   20051, 20052, 20053, 20055, 20008, 20001, 20017, 20086, 20180,\n",
    "   20193, 20320, 20532, 20612, 20637, 20807, 20838\n",
    " ]\n",
    "productos_unicos = df_pivot.index.unique()\n",
    "productos_train = magicos\n",
    "\n",
    "# # Máscaras para filtrar\n",
    "# train_mask = [p in productos_unicos for p in magicos]\n",
    "# test_mask = [p in productos_unicos for p in productos_unicos]\n",
    "\n",
    "X_train, X_test = X[magicos], X[productos_unicos]\n",
    "y_train, y_test = y[magicos], y[productos_unicos]"
   ]
  },
  {
   "cell_type": "code",
   "execution_count": 51,
   "id": "fc99ffec",
   "metadata": {},
   "outputs": [
    {
     "data": {
      "text/html": [
       "<style>#sk-container-id-3 {\n",
       "  /* Definition of color scheme common for light and dark mode */\n",
       "  --sklearn-color-text: #000;\n",
       "  --sklearn-color-text-muted: #666;\n",
       "  --sklearn-color-line: gray;\n",
       "  /* Definition of color scheme for unfitted estimators */\n",
       "  --sklearn-color-unfitted-level-0: #fff5e6;\n",
       "  --sklearn-color-unfitted-level-1: #f6e4d2;\n",
       "  --sklearn-color-unfitted-level-2: #ffe0b3;\n",
       "  --sklearn-color-unfitted-level-3: chocolate;\n",
       "  /* Definition of color scheme for fitted estimators */\n",
       "  --sklearn-color-fitted-level-0: #f0f8ff;\n",
       "  --sklearn-color-fitted-level-1: #d4ebff;\n",
       "  --sklearn-color-fitted-level-2: #b3dbfd;\n",
       "  --sklearn-color-fitted-level-3: cornflowerblue;\n",
       "\n",
       "  /* Specific color for light theme */\n",
       "  --sklearn-color-text-on-default-background: var(--sg-text-color, var(--theme-code-foreground, var(--jp-content-font-color1, black)));\n",
       "  --sklearn-color-background: var(--sg-background-color, var(--theme-background, var(--jp-layout-color0, white)));\n",
       "  --sklearn-color-border-box: var(--sg-text-color, var(--theme-code-foreground, var(--jp-content-font-color1, black)));\n",
       "  --sklearn-color-icon: #696969;\n",
       "\n",
       "  @media (prefers-color-scheme: dark) {\n",
       "    /* Redefinition of color scheme for dark theme */\n",
       "    --sklearn-color-text-on-default-background: var(--sg-text-color, var(--theme-code-foreground, var(--jp-content-font-color1, white)));\n",
       "    --sklearn-color-background: var(--sg-background-color, var(--theme-background, var(--jp-layout-color0, #111)));\n",
       "    --sklearn-color-border-box: var(--sg-text-color, var(--theme-code-foreground, var(--jp-content-font-color1, white)));\n",
       "    --sklearn-color-icon: #878787;\n",
       "  }\n",
       "}\n",
       "\n",
       "#sk-container-id-3 {\n",
       "  color: var(--sklearn-color-text);\n",
       "}\n",
       "\n",
       "#sk-container-id-3 pre {\n",
       "  padding: 0;\n",
       "}\n",
       "\n",
       "#sk-container-id-3 input.sk-hidden--visually {\n",
       "  border: 0;\n",
       "  clip: rect(1px 1px 1px 1px);\n",
       "  clip: rect(1px, 1px, 1px, 1px);\n",
       "  height: 1px;\n",
       "  margin: -1px;\n",
       "  overflow: hidden;\n",
       "  padding: 0;\n",
       "  position: absolute;\n",
       "  width: 1px;\n",
       "}\n",
       "\n",
       "#sk-container-id-3 div.sk-dashed-wrapped {\n",
       "  border: 1px dashed var(--sklearn-color-line);\n",
       "  margin: 0 0.4em 0.5em 0.4em;\n",
       "  box-sizing: border-box;\n",
       "  padding-bottom: 0.4em;\n",
       "  background-color: var(--sklearn-color-background);\n",
       "}\n",
       "\n",
       "#sk-container-id-3 div.sk-container {\n",
       "  /* jupyter's `normalize.less` sets `[hidden] { display: none; }`\n",
       "     but bootstrap.min.css set `[hidden] { display: none !important; }`\n",
       "     so we also need the `!important` here to be able to override the\n",
       "     default hidden behavior on the sphinx rendered scikit-learn.org.\n",
       "     See: https://github.com/scikit-learn/scikit-learn/issues/21755 */\n",
       "  display: inline-block !important;\n",
       "  position: relative;\n",
       "}\n",
       "\n",
       "#sk-container-id-3 div.sk-text-repr-fallback {\n",
       "  display: none;\n",
       "}\n",
       "\n",
       "div.sk-parallel-item,\n",
       "div.sk-serial,\n",
       "div.sk-item {\n",
       "  /* draw centered vertical line to link estimators */\n",
       "  background-image: linear-gradient(var(--sklearn-color-text-on-default-background), var(--sklearn-color-text-on-default-background));\n",
       "  background-size: 2px 100%;\n",
       "  background-repeat: no-repeat;\n",
       "  background-position: center center;\n",
       "}\n",
       "\n",
       "/* Parallel-specific style estimator block */\n",
       "\n",
       "#sk-container-id-3 div.sk-parallel-item::after {\n",
       "  content: \"\";\n",
       "  width: 100%;\n",
       "  border-bottom: 2px solid var(--sklearn-color-text-on-default-background);\n",
       "  flex-grow: 1;\n",
       "}\n",
       "\n",
       "#sk-container-id-3 div.sk-parallel {\n",
       "  display: flex;\n",
       "  align-items: stretch;\n",
       "  justify-content: center;\n",
       "  background-color: var(--sklearn-color-background);\n",
       "  position: relative;\n",
       "}\n",
       "\n",
       "#sk-container-id-3 div.sk-parallel-item {\n",
       "  display: flex;\n",
       "  flex-direction: column;\n",
       "}\n",
       "\n",
       "#sk-container-id-3 div.sk-parallel-item:first-child::after {\n",
       "  align-self: flex-end;\n",
       "  width: 50%;\n",
       "}\n",
       "\n",
       "#sk-container-id-3 div.sk-parallel-item:last-child::after {\n",
       "  align-self: flex-start;\n",
       "  width: 50%;\n",
       "}\n",
       "\n",
       "#sk-container-id-3 div.sk-parallel-item:only-child::after {\n",
       "  width: 0;\n",
       "}\n",
       "\n",
       "/* Serial-specific style estimator block */\n",
       "\n",
       "#sk-container-id-3 div.sk-serial {\n",
       "  display: flex;\n",
       "  flex-direction: column;\n",
       "  align-items: center;\n",
       "  background-color: var(--sklearn-color-background);\n",
       "  padding-right: 1em;\n",
       "  padding-left: 1em;\n",
       "}\n",
       "\n",
       "\n",
       "/* Toggleable style: style used for estimator/Pipeline/ColumnTransformer box that is\n",
       "clickable and can be expanded/collapsed.\n",
       "- Pipeline and ColumnTransformer use this feature and define the default style\n",
       "- Estimators will overwrite some part of the style using the `sk-estimator` class\n",
       "*/\n",
       "\n",
       "/* Pipeline and ColumnTransformer style (default) */\n",
       "\n",
       "#sk-container-id-3 div.sk-toggleable {\n",
       "  /* Default theme specific background. It is overwritten whether we have a\n",
       "  specific estimator or a Pipeline/ColumnTransformer */\n",
       "  background-color: var(--sklearn-color-background);\n",
       "}\n",
       "\n",
       "/* Toggleable label */\n",
       "#sk-container-id-3 label.sk-toggleable__label {\n",
       "  cursor: pointer;\n",
       "  display: flex;\n",
       "  width: 100%;\n",
       "  margin-bottom: 0;\n",
       "  padding: 0.5em;\n",
       "  box-sizing: border-box;\n",
       "  text-align: center;\n",
       "  align-items: start;\n",
       "  justify-content: space-between;\n",
       "  gap: 0.5em;\n",
       "}\n",
       "\n",
       "#sk-container-id-3 label.sk-toggleable__label .caption {\n",
       "  font-size: 0.6rem;\n",
       "  font-weight: lighter;\n",
       "  color: var(--sklearn-color-text-muted);\n",
       "}\n",
       "\n",
       "#sk-container-id-3 label.sk-toggleable__label-arrow:before {\n",
       "  /* Arrow on the left of the label */\n",
       "  content: \"▸\";\n",
       "  float: left;\n",
       "  margin-right: 0.25em;\n",
       "  color: var(--sklearn-color-icon);\n",
       "}\n",
       "\n",
       "#sk-container-id-3 label.sk-toggleable__label-arrow:hover:before {\n",
       "  color: var(--sklearn-color-text);\n",
       "}\n",
       "\n",
       "/* Toggleable content - dropdown */\n",
       "\n",
       "#sk-container-id-3 div.sk-toggleable__content {\n",
       "  max-height: 0;\n",
       "  max-width: 0;\n",
       "  overflow: hidden;\n",
       "  text-align: left;\n",
       "  /* unfitted */\n",
       "  background-color: var(--sklearn-color-unfitted-level-0);\n",
       "}\n",
       "\n",
       "#sk-container-id-3 div.sk-toggleable__content.fitted {\n",
       "  /* fitted */\n",
       "  background-color: var(--sklearn-color-fitted-level-0);\n",
       "}\n",
       "\n",
       "#sk-container-id-3 div.sk-toggleable__content pre {\n",
       "  margin: 0.2em;\n",
       "  border-radius: 0.25em;\n",
       "  color: var(--sklearn-color-text);\n",
       "  /* unfitted */\n",
       "  background-color: var(--sklearn-color-unfitted-level-0);\n",
       "}\n",
       "\n",
       "#sk-container-id-3 div.sk-toggleable__content.fitted pre {\n",
       "  /* unfitted */\n",
       "  background-color: var(--sklearn-color-fitted-level-0);\n",
       "}\n",
       "\n",
       "#sk-container-id-3 input.sk-toggleable__control:checked~div.sk-toggleable__content {\n",
       "  /* Expand drop-down */\n",
       "  max-height: 200px;\n",
       "  max-width: 100%;\n",
       "  overflow: auto;\n",
       "}\n",
       "\n",
       "#sk-container-id-3 input.sk-toggleable__control:checked~label.sk-toggleable__label-arrow:before {\n",
       "  content: \"▾\";\n",
       "}\n",
       "\n",
       "/* Pipeline/ColumnTransformer-specific style */\n",
       "\n",
       "#sk-container-id-3 div.sk-label input.sk-toggleable__control:checked~label.sk-toggleable__label {\n",
       "  color: var(--sklearn-color-text);\n",
       "  background-color: var(--sklearn-color-unfitted-level-2);\n",
       "}\n",
       "\n",
       "#sk-container-id-3 div.sk-label.fitted input.sk-toggleable__control:checked~label.sk-toggleable__label {\n",
       "  background-color: var(--sklearn-color-fitted-level-2);\n",
       "}\n",
       "\n",
       "/* Estimator-specific style */\n",
       "\n",
       "/* Colorize estimator box */\n",
       "#sk-container-id-3 div.sk-estimator input.sk-toggleable__control:checked~label.sk-toggleable__label {\n",
       "  /* unfitted */\n",
       "  background-color: var(--sklearn-color-unfitted-level-2);\n",
       "}\n",
       "\n",
       "#sk-container-id-3 div.sk-estimator.fitted input.sk-toggleable__control:checked~label.sk-toggleable__label {\n",
       "  /* fitted */\n",
       "  background-color: var(--sklearn-color-fitted-level-2);\n",
       "}\n",
       "\n",
       "#sk-container-id-3 div.sk-label label.sk-toggleable__label,\n",
       "#sk-container-id-3 div.sk-label label {\n",
       "  /* The background is the default theme color */\n",
       "  color: var(--sklearn-color-text-on-default-background);\n",
       "}\n",
       "\n",
       "/* On hover, darken the color of the background */\n",
       "#sk-container-id-3 div.sk-label:hover label.sk-toggleable__label {\n",
       "  color: var(--sklearn-color-text);\n",
       "  background-color: var(--sklearn-color-unfitted-level-2);\n",
       "}\n",
       "\n",
       "/* Label box, darken color on hover, fitted */\n",
       "#sk-container-id-3 div.sk-label.fitted:hover label.sk-toggleable__label.fitted {\n",
       "  color: var(--sklearn-color-text);\n",
       "  background-color: var(--sklearn-color-fitted-level-2);\n",
       "}\n",
       "\n",
       "/* Estimator label */\n",
       "\n",
       "#sk-container-id-3 div.sk-label label {\n",
       "  font-family: monospace;\n",
       "  font-weight: bold;\n",
       "  display: inline-block;\n",
       "  line-height: 1.2em;\n",
       "}\n",
       "\n",
       "#sk-container-id-3 div.sk-label-container {\n",
       "  text-align: center;\n",
       "}\n",
       "\n",
       "/* Estimator-specific */\n",
       "#sk-container-id-3 div.sk-estimator {\n",
       "  font-family: monospace;\n",
       "  border: 1px dotted var(--sklearn-color-border-box);\n",
       "  border-radius: 0.25em;\n",
       "  box-sizing: border-box;\n",
       "  margin-bottom: 0.5em;\n",
       "  /* unfitted */\n",
       "  background-color: var(--sklearn-color-unfitted-level-0);\n",
       "}\n",
       "\n",
       "#sk-container-id-3 div.sk-estimator.fitted {\n",
       "  /* fitted */\n",
       "  background-color: var(--sklearn-color-fitted-level-0);\n",
       "}\n",
       "\n",
       "/* on hover */\n",
       "#sk-container-id-3 div.sk-estimator:hover {\n",
       "  /* unfitted */\n",
       "  background-color: var(--sklearn-color-unfitted-level-2);\n",
       "}\n",
       "\n",
       "#sk-container-id-3 div.sk-estimator.fitted:hover {\n",
       "  /* fitted */\n",
       "  background-color: var(--sklearn-color-fitted-level-2);\n",
       "}\n",
       "\n",
       "/* Specification for estimator info (e.g. \"i\" and \"?\") */\n",
       "\n",
       "/* Common style for \"i\" and \"?\" */\n",
       "\n",
       ".sk-estimator-doc-link,\n",
       "a:link.sk-estimator-doc-link,\n",
       "a:visited.sk-estimator-doc-link {\n",
       "  float: right;\n",
       "  font-size: smaller;\n",
       "  line-height: 1em;\n",
       "  font-family: monospace;\n",
       "  background-color: var(--sklearn-color-background);\n",
       "  border-radius: 1em;\n",
       "  height: 1em;\n",
       "  width: 1em;\n",
       "  text-decoration: none !important;\n",
       "  margin-left: 0.5em;\n",
       "  text-align: center;\n",
       "  /* unfitted */\n",
       "  border: var(--sklearn-color-unfitted-level-1) 1pt solid;\n",
       "  color: var(--sklearn-color-unfitted-level-1);\n",
       "}\n",
       "\n",
       ".sk-estimator-doc-link.fitted,\n",
       "a:link.sk-estimator-doc-link.fitted,\n",
       "a:visited.sk-estimator-doc-link.fitted {\n",
       "  /* fitted */\n",
       "  border: var(--sklearn-color-fitted-level-1) 1pt solid;\n",
       "  color: var(--sklearn-color-fitted-level-1);\n",
       "}\n",
       "\n",
       "/* On hover */\n",
       "div.sk-estimator:hover .sk-estimator-doc-link:hover,\n",
       ".sk-estimator-doc-link:hover,\n",
       "div.sk-label-container:hover .sk-estimator-doc-link:hover,\n",
       ".sk-estimator-doc-link:hover {\n",
       "  /* unfitted */\n",
       "  background-color: var(--sklearn-color-unfitted-level-3);\n",
       "  color: var(--sklearn-color-background);\n",
       "  text-decoration: none;\n",
       "}\n",
       "\n",
       "div.sk-estimator.fitted:hover .sk-estimator-doc-link.fitted:hover,\n",
       ".sk-estimator-doc-link.fitted:hover,\n",
       "div.sk-label-container:hover .sk-estimator-doc-link.fitted:hover,\n",
       ".sk-estimator-doc-link.fitted:hover {\n",
       "  /* fitted */\n",
       "  background-color: var(--sklearn-color-fitted-level-3);\n",
       "  color: var(--sklearn-color-background);\n",
       "  text-decoration: none;\n",
       "}\n",
       "\n",
       "/* Span, style for the box shown on hovering the info icon */\n",
       ".sk-estimator-doc-link span {\n",
       "  display: none;\n",
       "  z-index: 9999;\n",
       "  position: relative;\n",
       "  font-weight: normal;\n",
       "  right: .2ex;\n",
       "  padding: .5ex;\n",
       "  margin: .5ex;\n",
       "  width: min-content;\n",
       "  min-width: 20ex;\n",
       "  max-width: 50ex;\n",
       "  color: var(--sklearn-color-text);\n",
       "  box-shadow: 2pt 2pt 4pt #999;\n",
       "  /* unfitted */\n",
       "  background: var(--sklearn-color-unfitted-level-0);\n",
       "  border: .5pt solid var(--sklearn-color-unfitted-level-3);\n",
       "}\n",
       "\n",
       ".sk-estimator-doc-link.fitted span {\n",
       "  /* fitted */\n",
       "  background: var(--sklearn-color-fitted-level-0);\n",
       "  border: var(--sklearn-color-fitted-level-3);\n",
       "}\n",
       "\n",
       ".sk-estimator-doc-link:hover span {\n",
       "  display: block;\n",
       "}\n",
       "\n",
       "/* \"?\"-specific style due to the `<a>` HTML tag */\n",
       "\n",
       "#sk-container-id-3 a.estimator_doc_link {\n",
       "  float: right;\n",
       "  font-size: 1rem;\n",
       "  line-height: 1em;\n",
       "  font-family: monospace;\n",
       "  background-color: var(--sklearn-color-background);\n",
       "  border-radius: 1rem;\n",
       "  height: 1rem;\n",
       "  width: 1rem;\n",
       "  text-decoration: none;\n",
       "  /* unfitted */\n",
       "  color: var(--sklearn-color-unfitted-level-1);\n",
       "  border: var(--sklearn-color-unfitted-level-1) 1pt solid;\n",
       "}\n",
       "\n",
       "#sk-container-id-3 a.estimator_doc_link.fitted {\n",
       "  /* fitted */\n",
       "  border: var(--sklearn-color-fitted-level-1) 1pt solid;\n",
       "  color: var(--sklearn-color-fitted-level-1);\n",
       "}\n",
       "\n",
       "/* On hover */\n",
       "#sk-container-id-3 a.estimator_doc_link:hover {\n",
       "  /* unfitted */\n",
       "  background-color: var(--sklearn-color-unfitted-level-3);\n",
       "  color: var(--sklearn-color-background);\n",
       "  text-decoration: none;\n",
       "}\n",
       "\n",
       "#sk-container-id-3 a.estimator_doc_link.fitted:hover {\n",
       "  /* fitted */\n",
       "  background-color: var(--sklearn-color-fitted-level-3);\n",
       "}\n",
       "</style><div id=\"sk-container-id-3\" class=\"sk-top-container\"><div class=\"sk-text-repr-fallback\"><pre>LinearRegression()</pre><b>In a Jupyter environment, please rerun this cell to show the HTML representation or trust the notebook. <br />On GitHub, the HTML representation is unable to render, please try loading this page with nbviewer.org.</b></div><div class=\"sk-container\" hidden><div class=\"sk-item\"><div class=\"sk-estimator fitted sk-toggleable\"><input class=\"sk-toggleable__control sk-hidden--visually\" id=\"sk-estimator-id-3\" type=\"checkbox\" checked><label for=\"sk-estimator-id-3\" class=\"sk-toggleable__label fitted sk-toggleable__label-arrow\"><div><div>LinearRegression</div></div><div><a class=\"sk-estimator-doc-link fitted\" rel=\"noreferrer\" target=\"_blank\" href=\"https://scikit-learn.org/1.6/modules/generated/sklearn.linear_model.LinearRegression.html\">?<span>Documentation for LinearRegression</span></a><span class=\"sk-estimator-doc-link fitted\">i<span>Fitted</span></span></div></label><div class=\"sk-toggleable__content fitted\"><pre>LinearRegression()</pre></div> </div></div></div></div>"
      ],
      "text/plain": [
       "LinearRegression()"
      ]
     },
     "execution_count": 51,
     "metadata": {},
     "output_type": "execute_result"
    }
   ],
   "source": [
    "from sklearn.linear_model import LinearRegression\n",
    "\n",
    "reg_model = LinearRegression()\n",
    "reg_model.fit(X_train, y_train)"
   ]
  },
  {
   "cell_type": "code",
   "execution_count": 52,
   "id": "3e80989a",
   "metadata": {},
   "outputs": [
    {
     "data": {
      "text/plain": [
       "array([[-0.31384948, -0.38057991,  0.54330097,  0.64773207, -0.47393703,\n",
       "         0.39331709, -0.22958544,  0.17008053, -0.53690246, -0.01169518,\n",
       "         0.05531851,  0.53566013]])"
      ]
     },
     "execution_count": 52,
     "metadata": {},
     "output_type": "execute_result"
    }
   ],
   "source": [
    "reg_model.coef_"
   ]
  },
  {
   "cell_type": "code",
   "execution_count": null,
   "id": "5486598f",
   "metadata": {},
   "outputs": [],
   "source": [
    "def predecir_t2(product_id, ultimos_12_meses):\n",
    "    scaler = scalers[product_id]\n",
    "    ultimos_12_scaled = scaler.transform(np.array(ultimos_12_meses).reshape(-1, 1)).flatten()\n",
    "    X_new = ultimos_12_scaled.reshape(1, -1)\n",
    "    y_pred_scaled = reg_model.predict(X_new)\n",
    "    return (y_pred_scaled * scaler.scale_) + scaler.center_"
   ]
  },
  {
   "cell_type": "code",
   "execution_count": 64,
   "id": "27e8b297",
   "metadata": {},
   "outputs": [
    {
     "data": {
      "application/vnd.microsoft.datawrangler.viewer.v0+json": {
       "columns": [
        {
         "name": "index",
         "rawType": "int64",
         "type": "integer"
        },
        {
         "name": "product_id",
         "rawType": "int64",
         "type": "integer"
        },
        {
         "name": "prediccion_t2",
         "rawType": "float64",
         "type": "float"
        }
       ],
       "ref": "8fb1d1ae-3010-470d-99e3-6817a0df9a07",
       "rows": [
        [
         "0",
         "20001",
         "1055.826788402855"
        ],
        [
         "1",
         "20002",
         "1514.3646895165775"
        ],
        [
         "2",
         "20003",
         "1010.5781016662031"
        ],
        [
         "3",
         "20004",
         "692.5356348458275"
        ],
        [
         "4",
         "20005",
         "715.1518695685174"
        ],
        [
         "5",
         "20006",
         "843.8850926297123"
        ],
        [
         "6",
         "20007",
         "479.1415895403287"
        ],
        [
         "7",
         "20008",
         "574.7106669826046"
        ],
        [
         "8",
         "20009",
         "228.15090438867333"
        ],
        [
         "9",
         "20010",
         "478.25973827458864"
        ],
        [
         "10",
         "20011",
         "505.583086749683"
        ],
        [
         "11",
         "20012",
         "384.12907450599425"
        ],
        [
         "12",
         "20013",
         "450.57974135855494"
        ],
        [
         "13",
         "20014",
         "392.3023621485004"
        ],
        [
         "14",
         "20015",
         "413.6731760204969"
        ],
        [
         "15",
         "20016",
         "392.8060680194098"
        ],
        [
         "16",
         "20017",
         "421.7878217000412"
        ],
        [
         "17",
         "20018",
         "408.4383054729459"
        ],
        [
         "18",
         "20019",
         "434.13034224867283"
        ],
        [
         "19",
         "20020",
         "264.62242419178614"
        ],
        [
         "20",
         "20021",
         "266.46780040697524"
        ],
        [
         "21",
         "20022",
         "164.8390177774957"
        ],
        [
         "22",
         "20023",
         "206.09847262592965"
        ],
        [
         "23",
         "20024",
         "216.23617320688533"
        ],
        [
         "24",
         "20025",
         "259.67422651446725"
        ],
        [
         "25",
         "20026",
         "310.67870601838945"
        ],
        [
         "26",
         "20027",
         "267.01824483490435"
        ],
        [
         "27",
         "20028",
         "218.486673081459"
        ],
        [
         "28",
         "20029",
         "384.8130480900006"
        ],
        [
         "29",
         "20030",
         "251.74268058477858"
        ],
        [
         "30",
         "20031",
         "219.53980599611447"
        ],
        [
         "31",
         "20032",
         "112.62097412886087"
        ],
        [
         "32",
         "20033",
         "111.21781394422099"
        ],
        [
         "33",
         "20035",
         "197.81351099564702"
        ],
        [
         "34",
         "20037",
         "168.68226010568907"
        ],
        [
         "35",
         "20038",
         "297.5363806804396"
        ],
        [
         "36",
         "20039",
         "274.5754809908297"
        ],
        [
         "37",
         "20041",
         "227.01998757954698"
        ],
        [
         "38",
         "20042",
         "208.83490068115847"
        ],
        [
         "39",
         "20043",
         "116.94930305242916"
        ],
        [
         "40",
         "20044",
         "248.42145195119943"
        ],
        [
         "41",
         "20045",
         "130.95075635573903"
        ],
        [
         "42",
         "20046",
         "185.28766703361225"
        ],
        [
         "43",
         "20047",
         "169.53307778191478"
        ],
        [
         "44",
         "20049",
         "167.6447714144429"
        ],
        [
         "45",
         "20050",
         "74.4644416805471"
        ],
        [
         "46",
         "20051",
         "206.5782408506777"
        ],
        [
         "47",
         "20052",
         "99.49396119028954"
        ],
        [
         "48",
         "20053",
         "177.37789014440298"
        ],
        [
         "49",
         "20054",
         "183.68331869574433"
        ]
       ],
       "shape": {
        "columns": 2,
        "rows": 780
       }
      },
      "text/html": [
       "<div>\n",
       "<style scoped>\n",
       "    .dataframe tbody tr th:only-of-type {\n",
       "        vertical-align: middle;\n",
       "    }\n",
       "\n",
       "    .dataframe tbody tr th {\n",
       "        vertical-align: top;\n",
       "    }\n",
       "\n",
       "    .dataframe thead th {\n",
       "        text-align: right;\n",
       "    }\n",
       "</style>\n",
       "<table border=\"1\" class=\"dataframe\">\n",
       "  <thead>\n",
       "    <tr style=\"text-align: right;\">\n",
       "      <th></th>\n",
       "      <th>product_id</th>\n",
       "      <th>prediccion_t2</th>\n",
       "    </tr>\n",
       "  </thead>\n",
       "  <tbody>\n",
       "    <tr>\n",
       "      <th>0</th>\n",
       "      <td>20001</td>\n",
       "      <td>1055.826788</td>\n",
       "    </tr>\n",
       "    <tr>\n",
       "      <th>1</th>\n",
       "      <td>20002</td>\n",
       "      <td>1514.364690</td>\n",
       "    </tr>\n",
       "    <tr>\n",
       "      <th>2</th>\n",
       "      <td>20003</td>\n",
       "      <td>1010.578102</td>\n",
       "    </tr>\n",
       "    <tr>\n",
       "      <th>3</th>\n",
       "      <td>20004</td>\n",
       "      <td>692.535635</td>\n",
       "    </tr>\n",
       "    <tr>\n",
       "      <th>4</th>\n",
       "      <td>20005</td>\n",
       "      <td>715.151870</td>\n",
       "    </tr>\n",
       "    <tr>\n",
       "      <th>...</th>\n",
       "      <td>...</td>\n",
       "      <td>...</td>\n",
       "    </tr>\n",
       "    <tr>\n",
       "      <th>775</th>\n",
       "      <td>21263</td>\n",
       "      <td>-0.116834</td>\n",
       "    </tr>\n",
       "    <tr>\n",
       "      <th>776</th>\n",
       "      <td>21265</td>\n",
       "      <td>0.344052</td>\n",
       "    </tr>\n",
       "    <tr>\n",
       "      <th>777</th>\n",
       "      <td>21266</td>\n",
       "      <td>0.332456</td>\n",
       "    </tr>\n",
       "    <tr>\n",
       "      <th>778</th>\n",
       "      <td>21267</td>\n",
       "      <td>0.109126</td>\n",
       "    </tr>\n",
       "    <tr>\n",
       "      <th>779</th>\n",
       "      <td>21276</td>\n",
       "      <td>0.175237</td>\n",
       "    </tr>\n",
       "  </tbody>\n",
       "</table>\n",
       "<p>780 rows × 2 columns</p>\n",
       "</div>"
      ],
      "text/plain": [
       "     product_id  prediccion_t2\n",
       "0         20001    1055.826788\n",
       "1         20002    1514.364690\n",
       "2         20003    1010.578102\n",
       "3         20004     692.535635\n",
       "4         20005     715.151870\n",
       "..          ...            ...\n",
       "775       21263      -0.116834\n",
       "776       21265       0.344052\n",
       "777       21266       0.332456\n",
       "778       21267       0.109126\n",
       "779       21276       0.175237\n",
       "\n",
       "[780 rows x 2 columns]"
      ]
     },
     "execution_count": 64,
     "metadata": {},
     "output_type": "execute_result"
    }
   ],
   "source": [
    "productos_ok = pd.read_csv(\"https://storage.googleapis.com/open-courses/austral2025-af91/labo3v/product_id_apredecir201912.txt\", sep=\"\\t\")\n",
    "productos_ok = productos_ok[\"product_id\"].unique()\n",
    "\n",
    "def predecir_todos(productos_a_predecir):\n",
    "    predicciones = {}\n",
    "    for producto in productos_a_predecir:\n",
    "        try:\n",
    "            ultimos_12 = df_kgl.loc[producto].iloc[-window_size:].values\n",
    "            prediccion = predecir_t2(producto, ultimos_12)\n",
    "            predicciones[producto] = prediccion[0][0]\n",
    "        except:\n",
    "            predicciones[producto] = 0\n",
    "    return predicciones\n",
    "predicciones = predecir_todos(productos_ok)\n",
    "predicciones_df = pd.DataFrame.from_dict(predicciones, orient='index', columns=['prediccion_t2'])\n",
    "predicciones_df.index.name = 'product_id'\n",
    "predicciones_df.reset_index(inplace=True)\n",
    "predicciones_df"
   ]
  },
  {
   "cell_type": "code",
   "execution_count": 65,
   "id": "a882baff",
   "metadata": {},
   "outputs": [
    {
     "name": "stdout",
     "output_type": "stream",
     "text": [
      "False\n"
     ]
    }
   ],
   "source": [
    "print(20127 in df_pivot.index)"
   ]
  },
  {
   "cell_type": "code",
   "execution_count": 66,
   "id": "f97b5465",
   "metadata": {},
   "outputs": [],
   "source": [
    "predicciones_df.columns = [\"product_id\", \"tn\"]\n",
    "predicciones_df.to_csv(\"../results/reg_lineal.csv\", index=False, sep=\",\")"
   ]
  },
  {
   "cell_type": "code",
   "execution_count": 22,
   "id": "5dcc8283",
   "metadata": {},
   "outputs": [],
   "source": [
    "df = pd.read_csv(\"../datasets/sell-in.txt.gz\", sep=\"\\t\")\n",
    "df = df.groupby(by=[\"periodo\",\"product_id\"]).agg({\"tn\":\"sum\"}).reset_index()\n",
    "df_test = df[df[\"periodo\"] == 201912].copy()"
   ]
  },
  {
   "cell_type": "code",
   "execution_count": 23,
   "id": "b6650190",
   "metadata": {},
   "outputs": [],
   "source": [
    "df_final = df_test.merge(predicciones_df, on=\"product_id\", how=\"left\")\n",
    "# df_final.to_csv(\"LSTM_2_test.csv\", index=False, sep=\",\")"
   ]
  },
  {
   "cell_type": "code",
   "execution_count": 24,
   "id": "b1df41fb",
   "metadata": {},
   "outputs": [
    {
     "data": {
      "application/vnd.microsoft.datawrangler.viewer.v0+json": {
       "columns": [
        {
         "name": "index",
         "rawType": "int64",
         "type": "integer"
        },
        {
         "name": "periodo",
         "rawType": "int64",
         "type": "integer"
        },
        {
         "name": "product_id",
         "rawType": "int64",
         "type": "integer"
        },
        {
         "name": "tn",
         "rawType": "float64",
         "type": "float"
        },
        {
         "name": "y_pred",
         "rawType": "float64",
         "type": "float"
        }
       ],
       "ref": "132a7d81-6697-47b4-b49c-c91e84ebb70f",
       "rows": [
        [
         "0",
         "201912",
         "20001",
         "1504.68856",
         "1055.826788402855"
        ],
        [
         "1",
         "201912",
         "20002",
         "1087.30855",
         "1514.3646895165775"
        ],
        [
         "2",
         "201912",
         "20003",
         "892.5012899999999",
         "1010.5781016662031"
        ],
        [
         "3",
         "201912",
         "20004",
         "637.90002",
         "692.5356348458275"
        ],
        [
         "4",
         "201912",
         "20005",
         "593.24443",
         "715.1518695685174"
        ],
        [
         "5",
         "201912",
         "20006",
         "417.23228",
         "843.8850926297123"
        ],
        [
         "6",
         "201912",
         "20007",
         "390.43432",
         "479.1415895403287"
        ],
        [
         "7",
         "201912",
         "20008",
         "195.36854",
         "574.7106669826046"
        ],
        [
         "8",
         "201912",
         "20009",
         "495.03574",
         "228.15090438867333"
        ],
        [
         "9",
         "201912",
         "20010",
         "359.59997999999996",
         "478.25973827458864"
        ],
        [
         "10",
         "201912",
         "20011",
         "392.3829",
         "505.583086749683"
        ],
        [
         "11",
         "201912",
         "20012",
         "173.13004",
         "384.12907450599425"
        ],
        [
         "12",
         "201912",
         "20013",
         "318.09141",
         "450.57974135855494"
        ],
        [
         "13",
         "201912",
         "20014",
         "272.02812",
         "392.3023621485004"
        ],
        [
         "14",
         "201912",
         "20015",
         "297.27663",
         "413.6731760204969"
        ],
        [
         "15",
         "201912",
         "20016",
         "273.20202",
         "392.8060680194098"
        ],
        [
         "16",
         "201912",
         "20017",
         "216.90773",
         "421.7878217000412"
        ],
        [
         "17",
         "201912",
         "20018",
         "141.63569999999999",
         "408.4383054729459"
        ],
        [
         "18",
         "201912",
         "20019",
         "351.54708",
         "434.13034224867283"
        ],
        [
         "19",
         "201912",
         "20020",
         "266.06358",
         "264.62242419178614"
        ],
        [
         "20",
         "201912",
         "20021",
         "203.76721",
         "266.46780040697524"
        ],
        [
         "21",
         "201912",
         "20022",
         "210.8346",
         "164.8390177774957"
        ],
        [
         "22",
         "201912",
         "20023",
         "181.13277",
         "206.09847262592965"
        ],
        [
         "23",
         "201912",
         "20024",
         "270.45018",
         "216.23617320688533"
        ],
        [
         "24",
         "201912",
         "20025",
         "241.83432000000002",
         "259.67422651446725"
        ],
        [
         "25",
         "201912",
         "20026",
         "235.10419",
         "310.67870601838945"
        ],
        [
         "26",
         "201912",
         "20027",
         "155.25876",
         "267.01824483490435"
        ],
        [
         "27",
         "201912",
         "20028",
         "109.92618",
         "218.486673081459"
        ],
        [
         "28",
         "201912",
         "20029",
         "150.64869000000002",
         "384.8130480900006"
        ],
        [
         "29",
         "201912",
         "20030",
         "102.7572",
         "251.74268058477858"
        ],
        [
         "30",
         "201912",
         "20031",
         "139.91577",
         "219.53980599611447"
        ],
        [
         "31",
         "201912",
         "20032",
         "527.79811",
         "112.62097412886087"
        ],
        [
         "32",
         "201912",
         "20033",
         "96.76212",
         "111.21781394422099"
        ],
        [
         "33",
         "201912",
         "20035",
         "179.97912",
         "197.81351099564702"
        ],
        [
         "34",
         "201912",
         "20037",
         "63.37274",
         "168.68226010568907"
        ],
        [
         "35",
         "201912",
         "20038",
         "157.68477",
         "297.5363806804396"
        ],
        [
         "36",
         "201912",
         "20039",
         "128.40394",
         "274.5754809908297"
        ],
        [
         "37",
         "201912",
         "20041",
         "113.11379",
         "227.01998757954698"
        ],
        [
         "38",
         "201912",
         "20042",
         "124.20086",
         "208.83490068115847"
        ],
        [
         "39",
         "201912",
         "20043",
         "93.77222",
         "116.94930305242916"
        ],
        [
         "40",
         "201912",
         "20044",
         "59.617470000000004",
         "248.42145195119943"
        ],
        [
         "41",
         "201912",
         "20045",
         "149.89961",
         "130.95075635573903"
        ],
        [
         "42",
         "201912",
         "20046",
         "149.9563",
         "185.28766703361225"
        ],
        [
         "43",
         "201912",
         "20047",
         "71.49763",
         "169.53307778191478"
        ],
        [
         "44",
         "201912",
         "20048",
         "58.89241",
         null
        ],
        [
         "45",
         "201912",
         "20049",
         "124.84836",
         "167.6447714144429"
        ],
        [
         "46",
         "201912",
         "20050",
         "117.02742",
         "74.4644416805471"
        ],
        [
         "47",
         "201912",
         "20051",
         "132.46038000000001",
         "206.5782408506777"
        ],
        [
         "48",
         "201912",
         "20052",
         "95.51068",
         "99.49396119028954"
        ],
        [
         "49",
         "201912",
         "20053",
         "146.36584",
         "177.37789014440298"
        ]
       ],
       "shape": {
        "columns": 4,
        "rows": 927
       }
      },
      "text/html": [
       "<div>\n",
       "<style scoped>\n",
       "    .dataframe tbody tr th:only-of-type {\n",
       "        vertical-align: middle;\n",
       "    }\n",
       "\n",
       "    .dataframe tbody tr th {\n",
       "        vertical-align: top;\n",
       "    }\n",
       "\n",
       "    .dataframe thead th {\n",
       "        text-align: right;\n",
       "    }\n",
       "</style>\n",
       "<table border=\"1\" class=\"dataframe\">\n",
       "  <thead>\n",
       "    <tr style=\"text-align: right;\">\n",
       "      <th></th>\n",
       "      <th>periodo</th>\n",
       "      <th>product_id</th>\n",
       "      <th>tn</th>\n",
       "      <th>y_pred</th>\n",
       "    </tr>\n",
       "  </thead>\n",
       "  <tbody>\n",
       "    <tr>\n",
       "      <th>0</th>\n",
       "      <td>201912</td>\n",
       "      <td>20001</td>\n",
       "      <td>1504.68856</td>\n",
       "      <td>1055.826788</td>\n",
       "    </tr>\n",
       "    <tr>\n",
       "      <th>1</th>\n",
       "      <td>201912</td>\n",
       "      <td>20002</td>\n",
       "      <td>1087.30855</td>\n",
       "      <td>1514.364690</td>\n",
       "    </tr>\n",
       "    <tr>\n",
       "      <th>2</th>\n",
       "      <td>201912</td>\n",
       "      <td>20003</td>\n",
       "      <td>892.50129</td>\n",
       "      <td>1010.578102</td>\n",
       "    </tr>\n",
       "    <tr>\n",
       "      <th>3</th>\n",
       "      <td>201912</td>\n",
       "      <td>20004</td>\n",
       "      <td>637.90002</td>\n",
       "      <td>692.535635</td>\n",
       "    </tr>\n",
       "    <tr>\n",
       "      <th>4</th>\n",
       "      <td>201912</td>\n",
       "      <td>20005</td>\n",
       "      <td>593.24443</td>\n",
       "      <td>715.151870</td>\n",
       "    </tr>\n",
       "    <tr>\n",
       "      <th>...</th>\n",
       "      <td>...</td>\n",
       "      <td>...</td>\n",
       "      <td>...</td>\n",
       "      <td>...</td>\n",
       "    </tr>\n",
       "    <tr>\n",
       "      <th>922</th>\n",
       "      <td>201912</td>\n",
       "      <td>21265</td>\n",
       "      <td>0.05007</td>\n",
       "      <td>0.344052</td>\n",
       "    </tr>\n",
       "    <tr>\n",
       "      <th>923</th>\n",
       "      <td>201912</td>\n",
       "      <td>21266</td>\n",
       "      <td>0.05121</td>\n",
       "      <td>0.332456</td>\n",
       "    </tr>\n",
       "    <tr>\n",
       "      <th>924</th>\n",
       "      <td>201912</td>\n",
       "      <td>21267</td>\n",
       "      <td>0.01569</td>\n",
       "      <td>0.109126</td>\n",
       "    </tr>\n",
       "    <tr>\n",
       "      <th>925</th>\n",
       "      <td>201912</td>\n",
       "      <td>21271</td>\n",
       "      <td>0.00298</td>\n",
       "      <td>NaN</td>\n",
       "    </tr>\n",
       "    <tr>\n",
       "      <th>926</th>\n",
       "      <td>201912</td>\n",
       "      <td>21276</td>\n",
       "      <td>0.00892</td>\n",
       "      <td>0.175237</td>\n",
       "    </tr>\n",
       "  </tbody>\n",
       "</table>\n",
       "<p>927 rows × 4 columns</p>\n",
       "</div>"
      ],
      "text/plain": [
       "     periodo  product_id          tn       y_pred\n",
       "0     201912       20001  1504.68856  1055.826788\n",
       "1     201912       20002  1087.30855  1514.364690\n",
       "2     201912       20003   892.50129  1010.578102\n",
       "3     201912       20004   637.90002   692.535635\n",
       "4     201912       20005   593.24443   715.151870\n",
       "..       ...         ...         ...          ...\n",
       "922   201912       21265     0.05007     0.344052\n",
       "923   201912       21266     0.05121     0.332456\n",
       "924   201912       21267     0.01569     0.109126\n",
       "925   201912       21271     0.00298          NaN\n",
       "926   201912       21276     0.00892     0.175237\n",
       "\n",
       "[927 rows x 4 columns]"
      ]
     },
     "execution_count": 24,
     "metadata": {},
     "output_type": "execute_result"
    }
   ],
   "source": [
    "df_final"
   ]
  },
  {
   "cell_type": "code",
   "execution_count": 25,
   "id": "87f61250",
   "metadata": {},
   "outputs": [
    {
     "data": {
      "text/plain": [
       "np.float64(0.5271872463941866)"
      ]
     },
     "execution_count": 25,
     "metadata": {},
     "output_type": "execute_result"
    }
   ],
   "source": [
    "numerador = (df_final[\"tn\"]- df_final[\"y_pred\"]).abs().sum()\n",
    "denominador = df_final[\"tn\"].sum()\n",
    "porcentaje_error = (numerador / denominador)\n",
    "porcentaje_error"
   ]
  },
  {
   "cell_type": "code",
   "execution_count": 26,
   "id": "0580abcb",
   "metadata": {},
   "outputs": [
    {
     "data": {
      "image/png": "[encoded data removed]",
      "text/plain": [
       "<Figure size 640x480 with 1 Axes>"
      ]
     },
     "metadata": {},
     "output_type": "display_data"
    }
   ],
   "source": [
    "import matplotlib.pyplot as plt\n",
    "df_final[\"pred_085\"] = df_final[\"y_pred\"] * 0.85\n",
    "df_final.plot(kind=\"scatter\", x=\"tn\", y=\"y_pred\", title=\"Predicciones vs TN\")\n",
    "plt.plot([0, 1400], [0, 1400], 'r--')\n",
    "plt.show()"
   ]
  },
  {
   "cell_type": "code",
   "execution_count": 27,
   "id": "15cb8493",
   "metadata": {},
   "outputs": [
    {
     "name": "stdout",
     "output_type": "stream",
     "text": [
      "32317.901074611153 | 26217.067280000003\n"
     ]
    }
   ],
   "source": [
    "print(df_final[\"y_pred\"].sum(),\"|\",df_final[\"tn\"].sum())"
   ]
  },
  {
   "cell_type": "code",
   "execution_count": 28,
   "id": "2d9d6d03",
   "metadata": {},
   "outputs": [
    {
     "data": {
      "text/plain": [
       "np.float64(0.8112243186670329)"
      ]
     },
     "execution_count": 28,
     "metadata": {},
     "output_type": "execute_result"
    }
   ],
   "source": [
    "1/(df_final[\"y_pred\"].sum()/df_final[\"tn\"].sum())"
   ]
  },
  {
   "cell_type": "code",
   "execution_count": 29,
   "id": "ca1d5d98",
   "metadata": {},
   "outputs": [
    {
     "data": {
      "text/plain": [
       "np.float64(27954.984429538647)"
      ]
     },
     "execution_count": 29,
     "metadata": {},
     "output_type": "execute_result"
    }
   ],
   "source": [
    "df_final[\"y_pred\"].sum()*0.865"
   ]
  },
  {
   "cell_type": "code",
   "execution_count": 30,
   "id": "4e1b838b",
   "metadata": {},
   "outputs": [],
   "source": [
    "sellin = pd.read_csv(\"../datasets/sell-in.txt.gz\", sep=\"\\t\")"
   ]
  },
  {
   "cell_type": "code",
   "execution_count": 31,
   "id": "b30c2614",
   "metadata": {},
   "outputs": [
    {
     "name": "stderr",
     "output_type": "stream",
     "text": [
      "C:\\Users\\carre\\AppData\\Local\\Temp\\ipykernel_8536\\621086552.py:3: SettingWithCopyWarning: \n",
      "A value is trying to be set on a copy of a slice from a DataFrame.\n",
      "Try using .loc[row_indexer,col_indexer] = value instead\n",
      "\n",
      "See the caveats in the documentation: https://pandas.pydata.org/pandas-docs/stable/user_guide/indexing.html#returning-a-view-versus-a-copy\n",
      "  prod_s[\"periodo\"] = pd.to_datetime(prod_s[\"periodo\"], format='%Y%m')\n"
     ]
    },
    {
     "data": {
      "image/png": "[encoded data removed]",
      "text/plain": [
       "<Figure size 640x480 with 1 Axes>"
      ]
     },
     "metadata": {},
     "output_type": "display_data"
    }
   ],
   "source": [
    "\n",
    "\n",
    "prod = 20008\n",
    "prod_s = sellin[sellin[\"product_id\"] == prod]\n",
    "prod_s[\"periodo\"] = pd.to_datetime(prod_s[\"periodo\"], format='%Y%m')\n",
    "prod_s = prod_s.groupby(\"periodo\").agg({\"tn\": \"sum\"}).reset_index()\n",
    "#prod_s.plot(kind=\"line\", x=\"periodo\", y=\"tn\", title=\"TN por periodo para producto 20002\")\n",
    "\n",
    "import matplotlib.pyplot as plt\n",
    "\n",
    "ax = plt.gca()\n",
    "prod_s.plot(kind=\"line\", x=\"periodo\", y=\"tn\", title=f\"TN por periodo para producto {prod}\", ax=ax)\n",
    "#plt.axhline(y=813.82, color='red', linestyle='--', label='predict')\n",
    "prediccion = df_final[df_final[\"product_id\"] == prod][\"y_pred\"].values[0]\n",
    "plt.scatter(prod_s[\"periodo\"].iloc[-1], prediccion, color='red', label='prediccion')\n",
    "plt.legend()\n",
    "plt.show()"
   ]
  },
  {
   "cell_type": "code",
   "execution_count": 32,
   "id": "b0973998",
   "metadata": {},
   "outputs": [],
   "source": [
    "df_final[\"error\"] = (df_final[\"tn\"] - df_final[\"y_pred\"]).abs()\n",
    "df_final[\"error_relativo\"] = df_final[\"error\"] / df_final[\"tn\"]\n",
    "df_final.sort_values(by=\"error\", ascending=False, inplace=True)"
   ]
  },
  {
   "cell_type": "code",
   "execution_count": 33,
   "id": "871c16a7",
   "metadata": {},
   "outputs": [
    {
     "data": {
      "application/vnd.microsoft.datawrangler.viewer.v0+json": {
       "columns": [
        {
         "name": "index",
         "rawType": "int64",
         "type": "integer"
        },
        {
         "name": "periodo",
         "rawType": "int64",
         "type": "integer"
        },
        {
         "name": "product_id",
         "rawType": "int64",
         "type": "integer"
        },
        {
         "name": "tn",
         "rawType": "float64",
         "type": "float"
        },
        {
         "name": "y_pred",
         "rawType": "float64",
         "type": "float"
        },
        {
         "name": "pred_085",
         "rawType": "float64",
         "type": "float"
        },
        {
         "name": "error",
         "rawType": "float64",
         "type": "float"
        },
        {
         "name": "error_relativo",
         "rawType": "float64",
         "type": "float"
        }
       ],
       "ref": "5e7c14f9-e25d-4acc-a149-6a03d2a6818a",
       "rows": [
        [
         "0",
         "201912",
         "20001",
         "1504.68856",
         "1055.826788402855",
         "897.4527701424267",
         "448.861771597145",
         "0.2983087553992867"
        ],
        [
         "1",
         "201912",
         "20002",
         "1087.30855",
         "1514.3646895165775",
         "1287.2099860890908",
         "427.05613951657756",
         "0.3927644453054081"
        ],
        [
         "5",
         "201912",
         "20006",
         "417.23228",
         "843.8850926297123",
         "717.3023287352554",
         "426.6528126297123",
         "1.0225786284553828"
        ],
        [
         "31",
         "201912",
         "20032",
         "527.79811",
         "112.62097412886087",
         "95.72782800953173",
         "415.17713587113906",
         "0.7866211113774907"
        ],
        [
         "7",
         "201912",
         "20008",
         "195.36854",
         "574.7106669826046",
         "488.5040669352139",
         "379.3421269826046",
         "1.9416745755616776"
        ],
        [
         "8",
         "201912",
         "20009",
         "495.03574",
         "228.15090438867333",
         "193.9282687303723",
         "266.88483561132665",
         "0.539122358339878"
        ],
        [
         "17",
         "201912",
         "20018",
         "141.63569999999999",
         "408.4383054729459",
         "347.172559652004",
         "266.8026054729459",
         "1.8837242691845766"
        ],
        [
         "28",
         "201912",
         "20029",
         "150.64869000000002",
         "384.8130480900006",
         "327.0910908765005",
         "234.1643580900006",
         "1.5543736761999096"
        ],
        [
         "11",
         "201912",
         "20012",
         "173.13004",
         "384.12907450599425",
         "326.5097133300951",
         "210.99903450599425",
         "1.218731506710183"
        ],
        [
         "16",
         "201912",
         "20017",
         "216.90773",
         "421.7878217000412",
         "358.519648445035",
         "204.88009170004122",
         "0.9445495174378582"
        ],
        [
         "40",
         "201912",
         "20044",
         "59.617470000000004",
         "248.42145195119943",
         "211.15823415851952",
         "188.80398195119943",
         "3.1669237549194795"
        ],
        [
         "74",
         "201912",
         "20080",
         "8.84426",
         "180.27368102638908",
         "153.23262887243072",
         "171.4294210263891",
         "19.383127703888068"
        ],
        [
         "29",
         "201912",
         "20030",
         "102.7572",
         "251.74268058477858",
         "213.9812784970618",
         "148.9854805847786",
         "1.449878748980885"
        ],
        [
         "36",
         "201912",
         "20039",
         "128.40394",
         "274.5754809908297",
         "233.38915884220523",
         "146.1715409908297",
         "1.1383727087411002"
        ],
        [
         "59",
         "201912",
         "20065",
         "77.98518",
         "220.86867817186803",
         "187.7383764460878",
         "142.88349817186804",
         "1.8321878358409642"
        ],
        [
         "35",
         "201912",
         "20038",
         "157.68477",
         "297.5363806804396",
         "252.90592357837366",
         "139.85161068043962",
         "0.8869062667272155"
        ],
        [
         "12",
         "201912",
         "20013",
         "318.09141",
         "450.57974135855494",
         "382.9927801547717",
         "132.48833135855494",
         "0.4165102457766934"
        ],
        [
         "78",
         "201912",
         "20085",
         "221.56404",
         "91.25555072540008",
         "77.56721811659007",
         "130.30848927459994",
         "0.5881301373390733"
        ],
        [
         "71",
         "201912",
         "20077",
         "34.58847",
         "159.56700127872801",
         "135.6319510869188",
         "124.97853127872801",
         "3.613300365084897"
        ],
        [
         "4",
         "201912",
         "20005",
         "593.24443",
         "715.1518695685174",
         "607.8790891332399",
         "121.90743956851747",
         "0.20549276723679896"
        ],
        [
         "51",
         "201912",
         "20055",
         "65.85747",
         "186.9762059945097",
         "158.92977509533324",
         "121.1187359945097",
         "1.8391039922200123"
        ],
        [
         "13",
         "201912",
         "20014",
         "272.02812",
         "392.3023621485004",
         "333.4570078262253",
         "120.27424214850038",
         "0.44213900441064835"
        ],
        [
         "15",
         "201912",
         "20016",
         "273.20202",
         "392.8060680194098",
         "333.8851578164983",
         "119.60404801940979",
         "0.4377861042879909"
        ],
        [
         "9",
         "201912",
         "20010",
         "359.59997999999996",
         "478.25973827458864",
         "406.52077753340035",
         "118.65975827458868",
         "0.32997709920503526"
        ],
        [
         "2",
         "201912",
         "20003",
         "892.5012899999999",
         "1010.5781016662031",
         "858.9913864162726",
         "118.07681166620318",
         "0.1322987574238724"
        ],
        [
         "14",
         "201912",
         "20015",
         "297.27663",
         "413.6731760204969",
         "351.6221996174223",
         "116.39654602049688",
         "0.3915428737889584"
        ],
        [
         "37",
         "201912",
         "20041",
         "113.11379",
         "227.01998757954698",
         "192.96698944261493",
         "113.90619757954698",
         "1.00700540207827"
        ],
        [
         "10",
         "201912",
         "20011",
         "392.3829",
         "505.583086749683",
         "429.7456237372305",
         "113.20018674968298",
         "0.2884941896032752"
        ],
        [
         "26",
         "201912",
         "20027",
         "155.25876",
         "267.01824483490435",
         "226.9655081096687",
         "111.75948483490436",
         "0.7198272408906548"
        ],
        [
         "27",
         "201912",
         "20028",
         "109.92618",
         "218.486673081459",
         "185.71367211924016",
         "108.560493081459",
         "0.9875763269628672"
        ],
        [
         "66",
         "201912",
         "20072",
         "32.2686",
         "138.00447180360914",
         "117.30380103306776",
         "105.73587180360914",
         "3.276741842026278"
        ],
        [
         "34",
         "201912",
         "20037",
         "63.37274",
         "168.68226010568907",
         "143.3799210898357",
         "105.30952010568907",
         "1.6617479393456724"
        ],
        [
         "43",
         "201912",
         "20047",
         "71.49763",
         "169.53307778191478",
         "144.10311611462757",
         "98.03544778191478",
         "1.3711705937933156"
        ],
        [
         "6",
         "201912",
         "20007",
         "390.43432",
         "479.1415895403287",
         "407.2703511092794",
         "88.7072695403287",
         "0.22720151635319533"
        ],
        [
         "92",
         "201912",
         "20100",
         "1.3792",
         "88.21353274813076",
         "74.98150283591114",
         "86.83433274813076",
         "62.959928036637734"
        ],
        [
         "56",
         "201912",
         "20061",
         "106.44895",
         "193.0461334288316",
         "164.08921341450687",
         "86.59718342883161",
         "0.8135090428682633"
        ],
        [
         "158",
         "201912",
         "20174",
         "91.1178",
         "5.642855383558352",
         "4.7964270760245995",
         "85.47494461644165",
         "0.9380707679118859"
        ],
        [
         "38",
         "201912",
         "20042",
         "124.20086",
         "208.83490068115847",
         "177.5096655789847",
         "84.63404068115847",
         "0.6814287814203417"
        ],
        [
         "52",
         "201912",
         "20056",
         "63.7182",
         "146.52449288638482",
         "124.54581895342709",
         "82.80629288638482",
         "1.299570497697437"
        ],
        [
         "18",
         "201912",
         "20019",
         "351.54708",
         "434.13034224867283",
         "369.0107909113719",
         "82.58326224867284",
         "0.23491380514004792"
        ],
        [
         "70",
         "201912",
         "20076",
         "68.45922",
         "149.44774101941567",
         "127.03057986650332",
         "80.98852101941567",
         "1.1830184600323472"
        ],
        [
         "30",
         "201912",
         "20031",
         "139.91577",
         "219.53980599611447",
         "186.6088350966973",
         "79.62403599611446",
         "0.5690855004844304"
        ],
        [
         "80",
         "201912",
         "20087",
         "89.63007999999999",
         "167.94796977336895",
         "142.7557743073636",
         "78.31788977336896",
         "0.8737902473518819"
        ],
        [
         "151",
         "201912",
         "20166",
         "33.52579",
         "111.39628853920141",
         "94.6868452583212",
         "77.8704985392014",
         "2.3227043580241182"
        ],
        [
         "55",
         "201912",
         "20059",
         "111.51139",
         "187.47652763380717",
         "159.3550484887361",
         "75.96513763380716",
         "0.6812320932759169"
        ],
        [
         "25",
         "201912",
         "20026",
         "235.10419",
         "310.67870601838945",
         "264.076900115631",
         "75.57451601838946",
         "0.3214511660485058"
        ],
        [
         "144",
         "201912",
         "20159",
         "61.78339",
         "137.08523240644453",
         "116.52244754547785",
         "75.30184240644454",
         "1.21880399256895"
        ],
        [
         "47",
         "201912",
         "20051",
         "132.46038000000001",
         "206.5782408506777",
         "175.59150472307604",
         "74.11786085067769",
         "0.5595473971211443"
        ],
        [
         "214",
         "201912",
         "20236",
         "34.70341",
         "-38.44400412457261",
         "-32.677403505886716",
         "73.1474141245726",
         "2.1077875091978746"
        ],
        [
         "256",
         "201912",
         "20286",
         "50.55931",
         "-21.499025331043864",
         "-18.274171531387285",
         "72.05833533104386",
         "1.4252238673954185"
        ]
       ],
       "shape": {
        "columns": 7,
        "rows": 927
       }
      },
      "text/html": [
       "<div>\n",
       "<style scoped>\n",
       "    .dataframe tbody tr th:only-of-type {\n",
       "        vertical-align: middle;\n",
       "    }\n",
       "\n",
       "    .dataframe tbody tr th {\n",
       "        vertical-align: top;\n",
       "    }\n",
       "\n",
       "    .dataframe thead th {\n",
       "        text-align: right;\n",
       "    }\n",
       "</style>\n",
       "<table border=\"1\" class=\"dataframe\">\n",
       "  <thead>\n",
       "    <tr style=\"text-align: right;\">\n",
       "      <th></th>\n",
       "      <th>periodo</th>\n",
       "      <th>product_id</th>\n",
       "      <th>tn</th>\n",
       "      <th>y_pred</th>\n",
       "      <th>pred_085</th>\n",
       "      <th>error</th>\n",
       "      <th>error_relativo</th>\n",
       "    </tr>\n",
       "  </thead>\n",
       "  <tbody>\n",
       "    <tr>\n",
       "      <th>0</th>\n",
       "      <td>201912</td>\n",
       "      <td>20001</td>\n",
       "      <td>1504.68856</td>\n",
       "      <td>1055.826788</td>\n",
       "      <td>897.452770</td>\n",
       "      <td>448.861772</td>\n",
       "      <td>0.298309</td>\n",
       "    </tr>\n",
       "    <tr>\n",
       "      <th>1</th>\n",
       "      <td>201912</td>\n",
       "      <td>20002</td>\n",
       "      <td>1087.30855</td>\n",
       "      <td>1514.364690</td>\n",
       "      <td>1287.209986</td>\n",
       "      <td>427.056140</td>\n",
       "      <td>0.392764</td>\n",
       "    </tr>\n",
       "    <tr>\n",
       "      <th>5</th>\n",
       "      <td>201912</td>\n",
       "      <td>20006</td>\n",
       "      <td>417.23228</td>\n",
       "      <td>843.885093</td>\n",
       "      <td>717.302329</td>\n",
       "      <td>426.652813</td>\n",
       "      <td>1.022579</td>\n",
       "    </tr>\n",
       "    <tr>\n",
       "      <th>31</th>\n",
       "      <td>201912</td>\n",
       "      <td>20032</td>\n",
       "      <td>527.79811</td>\n",
       "      <td>112.620974</td>\n",
       "      <td>95.727828</td>\n",
       "      <td>415.177136</td>\n",
       "      <td>0.786621</td>\n",
       "    </tr>\n",
       "    <tr>\n",
       "      <th>7</th>\n",
       "      <td>201912</td>\n",
       "      <td>20008</td>\n",
       "      <td>195.36854</td>\n",
       "      <td>574.710667</td>\n",
       "      <td>488.504067</td>\n",
       "      <td>379.342127</td>\n",
       "      <td>1.941675</td>\n",
       "    </tr>\n",
       "    <tr>\n",
       "      <th>...</th>\n",
       "      <td>...</td>\n",
       "      <td>...</td>\n",
       "      <td>...</td>\n",
       "      <td>...</td>\n",
       "      <td>...</td>\n",
       "      <td>...</td>\n",
       "      <td>...</td>\n",
       "    </tr>\n",
       "    <tr>\n",
       "      <th>912</th>\n",
       "      <td>201912</td>\n",
       "      <td>21247</td>\n",
       "      <td>0.14544</td>\n",
       "      <td>NaN</td>\n",
       "      <td>NaN</td>\n",
       "      <td>NaN</td>\n",
       "      <td>NaN</td>\n",
       "    </tr>\n",
       "    <tr>\n",
       "      <th>915</th>\n",
       "      <td>201912</td>\n",
       "      <td>21255</td>\n",
       "      <td>0.00328</td>\n",
       "      <td>NaN</td>\n",
       "      <td>NaN</td>\n",
       "      <td>NaN</td>\n",
       "      <td>NaN</td>\n",
       "    </tr>\n",
       "    <tr>\n",
       "      <th>917</th>\n",
       "      <td>201912</td>\n",
       "      <td>21257</td>\n",
       "      <td>0.01158</td>\n",
       "      <td>NaN</td>\n",
       "      <td>NaN</td>\n",
       "      <td>NaN</td>\n",
       "      <td>NaN</td>\n",
       "    </tr>\n",
       "    <tr>\n",
       "      <th>921</th>\n",
       "      <td>201912</td>\n",
       "      <td>21264</td>\n",
       "      <td>0.00890</td>\n",
       "      <td>NaN</td>\n",
       "      <td>NaN</td>\n",
       "      <td>NaN</td>\n",
       "      <td>NaN</td>\n",
       "    </tr>\n",
       "    <tr>\n",
       "      <th>925</th>\n",
       "      <td>201912</td>\n",
       "      <td>21271</td>\n",
       "      <td>0.00298</td>\n",
       "      <td>NaN</td>\n",
       "      <td>NaN</td>\n",
       "      <td>NaN</td>\n",
       "      <td>NaN</td>\n",
       "    </tr>\n",
       "  </tbody>\n",
       "</table>\n",
       "<p>927 rows × 7 columns</p>\n",
       "</div>"
      ],
      "text/plain": [
       "     periodo  product_id          tn       y_pred     pred_085       error  \\\n",
       "0     201912       20001  1504.68856  1055.826788   897.452770  448.861772   \n",
       "1     201912       20002  1087.30855  1514.364690  1287.209986  427.056140   \n",
       "5     201912       20006   417.23228   843.885093   717.302329  426.652813   \n",
       "31    201912       20032   527.79811   112.620974    95.727828  415.177136   \n",
       "7     201912       20008   195.36854   574.710667   488.504067  379.342127   \n",
       "..       ...         ...         ...          ...          ...         ...   \n",
       "912   201912       21247     0.14544          NaN          NaN         NaN   \n",
       "915   201912       21255     0.00328          NaN          NaN         NaN   \n",
       "917   201912       21257     0.01158          NaN          NaN         NaN   \n",
       "921   201912       21264     0.00890          NaN          NaN         NaN   \n",
       "925   201912       21271     0.00298          NaN          NaN         NaN   \n",
       "\n",
       "     error_relativo  \n",
       "0          0.298309  \n",
       "1          0.392764  \n",
       "5          1.022579  \n",
       "31         0.786621  \n",
       "7          1.941675  \n",
       "..              ...  \n",
       "912             NaN  \n",
       "915             NaN  \n",
       "917             NaN  \n",
       "921             NaN  \n",
       "925             NaN  \n",
       "\n",
       "[927 rows x 7 columns]"
      ]
     },
     "execution_count": 33,
     "metadata": {},
     "output_type": "execute_result"
    }
   ],
   "source": [
    "df_final"
   ]
  },
  {
   "cell_type": "code",
   "execution_count": null,
   "id": "b2d06967",
   "metadata": {},
   "outputs": [],
   "source": []
  },
  {
   "cell_type": "code",
   "execution_count": null,
   "id": "fb3188e0",
   "metadata": {},
   "outputs": [],
   "source": []
  }
 ],
 "metadata": {
  "kernelspec": {
   "display_name": "py311",
   "language": "python",
   "name": "python3"
  },
  "language_info": {
   "codemirror_mode": {
    "name": "ipython",
    "version": 3
   },
   "file_extension": ".py",
   "mimetype": "text/x-python",
   "name": "python",
   "nbconvert_exporter": "python",
   "pygments_lexer": "ipython3",
   "version": "3.11.13"
  }
 },
 "nbformat": 4,
 "nbformat_minor": 5
}
