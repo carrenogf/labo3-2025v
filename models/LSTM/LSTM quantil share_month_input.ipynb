{
 "cells": [
  {
   "cell_type": "code",
   "execution_count": 20,
   "id": "5ee82db2",
   "metadata": {},
   "outputs": [],
   "source": [
    "import pandas as pd\n",
    "import gc\n",
    "import numpy as np\n",
    "from sklearn.preprocessing import StandardScaler, RobustScaler\n",
    "\n",
    "import tensorflow as tf"
   ]
  },
  {
   "cell_type": "code",
   "execution_count": 21,
   "id": "4b3b1e01",
   "metadata": {},
   "outputs": [],
   "source": [
    "config = {\n",
    "        # Arquitectura\n",
    "        \"result_name\": \"lstm_5q_share_withmonth\",\n",
    "        \"lstm_units_1\": 64,\n",
    "        \"lstm_units_2\": 32,\n",
    "        \"dense_units\": 16,\n",
    "        \"dropout_rate\": 0.3,\n",
    "        \"seed\": 42,  # Para reproducibilidad\n",
    "        # Entrenamiento\n",
    "        \"epochs\": 150,\n",
    "        \"batch_size\": 64,\n",
    "        \"early_stopping_patience\": 30,\n",
    "        \"learning_rate\": None,  # Si querés usar Adam con tasa específica\n",
    "\n",
    "        # Regularización\n",
    "        \"l2_lambda\": 0.001,\n",
    "\n",
    "        # Optimizador\n",
    "        \"optimizer\": \"rmsprop\",  # adam, sgd, rmsprop, etc.\n",
    "\n",
    "        # Preprocesamiento\n",
    "        \"scaler_name\": \"robust\",  # standard o robust\n",
    "\n",
    "        # Ventana temporal\n",
    "        \"window_size\": 6,\n",
    "        \"feature_cols\" : ['tn', \n",
    "                          \n",
    "                          #'tn_lag1', \n",
    "                          #'tn_lag6', \n",
    "                          #'tn_lag12', \n",
    "                          #'tn_diff1', \n",
    "                          #'tn_diff6',\n",
    "                        #'rolling_mean6', \n",
    "                        #'rolling_std6', \n",
    "                        # 'rolling_max3', \n",
    "                        # 'rolling_min3',\n",
    "                        # 'rolling_max6',\n",
    "                        # 'rolling_min6',\n",
    "                        #\"size\"\n",
    "                        #\"quantil_std\",\n",
    "                        #\"sin_mes\",\n",
    "                        #\"quarter\",\n",
    "                        ],\n",
    "        \"products_to_train\": None,  # Filtrar productos entre 50 y 150\n",
    "    }\n"
   ]
  },
  {
   "cell_type": "code",
   "execution_count": 22,
   "id": "f0ae8ad0",
   "metadata": {},
   "outputs": [],
   "source": [
    "df = pd.read_csv(\"../datasets/sell-in.txt.gz\", sep=\"\\t\")\n",
    "\n",
    "productos_ok = pd.read_csv(\"https://storage.googleapis.com/open-courses/austral2025-af91/labo3v/product_id_apredecir201912.txt\", sep=\"\\t\")\n",
    "\n",
    "df = df[df[\"product_id\"].isin(productos_ok[\"product_id\"])]\n",
    "\n",
    "periodos = df[\"periodo\"].unique()\n",
    "ultimos_6_meses = list(periodos[-6:])\n",
    "std6 = df.query(\"periodo in @ultimos_6_meses\").groupby(\"product_id\")[\"tn\"].std().reset_index().fillna(0)\n",
    "std6.columns = [\"product_id\", \"std6\"]\n",
    "std6.sort_values(by=\"std6\", ascending=False, inplace=True)\n",
    "std6[\"grupo\"] = pd.qcut(std6[\"std6\"], 5, labels=False)\n",
    "productos = list(df[\"product_id\"].unique())\n",
    "productos.sort()\n",
    "# Filtrar productos entre 50 y 150\n",
    "max_std = std6[\"grupo\"].max()\n",
    "#std6.loc[std6[\"product_id\"].isin(productos[:50]), \"grupo\"] = max_std + 1  # Asegurar que los productos filtrados tengan un quantil distinto\n",
    "grupo_dict = {int(r.product_id): int(r.grupo) for i, r in std6.iterrows()}\n",
    "\n"
   ]
  },
  {
   "cell_type": "code",
   "execution_count": 23,
   "id": "355de40c",
   "metadata": {},
   "outputs": [],
   "source": [
    "# import pandas as pd\n",
    "\n",
    "# df = pd.read_csv(\"../datasets/sell-in.txt.gz\", sep=\"\\t\")\n",
    "\n",
    "# # Seleccionar los últimos 6 meses (ajusté a 6 como en el nombre de la variable, aunque tu lista tenía 12)\n",
    "# periodos = df[\"periodo\"].unique()\n",
    "# ultimos_6_meses = list(periodos[-6:])  # Cambiado a 6 para coincidir con el nombre\n",
    "\n",
    "# # Calcular media y desviación estándar para cada producto\n",
    "# stats_6 = df.query(\"periodo in @ultimos_6_meses\").groupby(\"product_id\")[\"tn\"].agg(['std', 'mean']).reset_index().fillna(0)\n",
    "\n",
    "# # Calcular coeficiente de variación (en porcentaje)\n",
    "# stats_6['cv'] = (stats_6['std'] / stats_6['mean']) * 100\n",
    "# # Manejar casos donde la media es 0 (cv infinito)\n",
    "# stats_6['cv'] = stats_6['cv'].replace([float('inf'), -float('inf')], 0)\n",
    "\n",
    "# # Ordenar por CV\n",
    "# stats_6.sort_values(by=\"cv\", ascending=False, inplace=True)\n",
    "\n",
    "# # Crear quantiles basados en el CV\n",
    "# stats_6[\"quantil_cv\"] = pd.qcut(stats_6[\"cv\"], 5, labels=False) \n",
    "\n",
    "# # Crear el diccionario final\n",
    "# cv_dict = {int(r.product_id): int(r.quantil_cv) for i, r in stats_6.iterrows()}"
   ]
  },
  {
   "cell_type": "code",
   "execution_count": 24,
   "id": "57176c07",
   "metadata": {},
   "outputs": [],
   "source": [
    "# Cargar de nuevo por claridad\n",
    "\n",
    "# Agrupar y sumar las toneladas por producto y período\n",
    "df_grouped = df.groupby([\"product_id\", \"periodo\"]).agg({\"tn\": \"sum\"}).reset_index()\n",
    "\n",
    "# Calcular el total de toneladas por período\n",
    "total_por_periodo = df_grouped.groupby(\"periodo\")[\"tn\"].transform(\"sum\")\n",
    "\n",
    "# Calcular la ponderación (porcentaje) de cada producto respecto al total de su período\n",
    "df_grouped[\"tn\"] = (df_grouped[\"tn\"] / total_por_periodo) * 100\n",
    "\n",
    "# Opcional: redondear los resultados para mejor presentación\n",
    "df_grouped[\"tn\"] = df_grouped[\"tn\"].round(2)\n",
    "\n",
    "\n",
    "# Encontrar el primer período para cada producto\n",
    "min_periods = df_grouped.groupby(\"product_id\")[\"periodo\"].min().reset_index()\n",
    "\n",
    "# Crear todas las combinaciones relevantes\n",
    "all_periods = df_grouped[\"periodo\"].unique()\n",
    "all_periods.sort()\n",
    "\n",
    "# Usar un merge cartesiano con filtro posterior\n",
    "df = (\n",
    "    min_periods.merge(pd.DataFrame({\"periodo\": all_periods}), how=\"cross\")\n",
    "    .query(\"periodo_y >= periodo_x\")\n",
    "    .drop(columns=\"periodo_x\")\n",
    "    .rename(columns={\"periodo_y\": \"periodo\"})\n",
    "    .merge(df_grouped, on=[\"product_id\", \"periodo\"], how=\"left\")\n",
    "    .fillna(0)\n",
    "    .sort_values([\"product_id\", \"periodo\"])\n",
    "    .reset_index(drop=True)\n",
    ")"
   ]
  },
  {
   "cell_type": "code",
   "execution_count": 25,
   "id": "6f76caaa",
   "metadata": {},
   "outputs": [
    {
     "name": "stdout",
     "output_type": "stream",
     "text": [
      "(22375, 11)\n"
     ]
    }
   ],
   "source": [
    "\n",
    "\n",
    "# Agregación mensual por producto\n",
    "# df = df.groupby([\"product_id\", \"periodo\"]).agg({\"tn\": \"sum\"}).sort_values([\"product_id\", \"periodo\"]).reset_index()\n",
    "df[\"periodo\"] = pd.to_datetime(df[\"periodo\"], format=\"%Y%m\")\n",
    "\n",
    "# Crear características por producto\n",
    "def agregar_features(df):\n",
    "    df = df.copy()\n",
    "    df = df.sort_values([\"product_id\", \"periodo\"])\n",
    "    # quantil de la desviación estándar de los últimos 6 meses\n",
    "    df[\"grupo\"] = df.product_id.map(grupo_dict).fillna(0)\n",
    "    df[\"grupo\"] = df[\"grupo\"].astype(int)\n",
    "    # Crear features con groupby + transform\n",
    "    df[\"tn_lag1\"] = df.groupby(\"product_id\")[\"tn\"].shift(1)\n",
    "    #df[\"tn_lag6\"] = df.groupby(\"product_id\")[\"tn\"].shift(6)\n",
    "    #df[\"tn_lag12\"] = df.groupby(\"product_id\")[\"tn\"].shift(12)\n",
    "\n",
    "    df[\"tn_diff1\"] = df[\"tn\"] - df[\"tn_lag1\"]\n",
    "    #df[\"tn_diff6\"] = df[\"tn\"] - df[\"tn_lag6\"]\n",
    "    #df[\"size\"] = df.groupby(\"product_id\")[\"tn\"].transform(\"size\")\n",
    "    \n",
    "    df[\"sin_mes\"] = df[\"periodo\"].dt.month.apply(lambda x: np.sin(2 * np.pi * x / 12))\n",
    "    df[\"quarter\"] = df[\"periodo\"].dt.quarter\n",
    "    df[\"month\"] = df[\"periodo\"].dt.month\n",
    "\n",
    "    df[\"rolling_mean6\"] = df.groupby(\"product_id\")[\"tn\"].transform(lambda x: x.shift(1).rolling(6).mean())\n",
    "    df[\"rolling_std6\"] = df.groupby(\"product_id\")[\"tn\"].transform(lambda x: x.shift(1).rolling(6).std())\n",
    "    \n",
    "    # df[\"rolling_max3\"] = df.groupby(\"product_id\")[\"tn\"].transform(lambda x: x.shift(1).rolling(3).max())\n",
    "    # df[\"rolling_min3\"] = df.groupby(\"product_id\")[\"tn\"].transform(lambda x: x.shift(1).rolling(3).min())\n",
    "    # df[\"rolling_max6\"] = df.groupby(\"product_id\")[\"tn\"].transform(lambda x: x.shift(1).rolling(6).max())\n",
    "    # df[\"rolling_min6\"] = df.groupby(\"product_id\")[\"tn\"].transform(lambda x: x.shift(1).rolling(6).min())\n",
    "\n",
    "    return df\n",
    "\n",
    "df_features = agregar_features(df).fillna(0)\n",
    "df = df_features.copy()\n",
    "print(df_features.shape)"
   ]
  },
  {
   "cell_type": "code",
   "execution_count": 26,
   "id": "6f4cac10",
   "metadata": {},
   "outputs": [
    {
     "data": {
      "application/vnd.microsoft.datawrangler.viewer.v0+json": {
       "columns": [
        {
         "name": "index",
         "rawType": "int64",
         "type": "integer"
        },
        {
         "name": "product_id",
         "rawType": "int64",
         "type": "integer"
        },
        {
         "name": "periodo",
         "rawType": "datetime64[ns]",
         "type": "datetime"
        },
        {
         "name": "tn",
         "rawType": "float64",
         "type": "float"
        },
        {
         "name": "grupo",
         "rawType": "int32",
         "type": "integer"
        },
        {
         "name": "tn_lag1",
         "rawType": "float64",
         "type": "float"
        },
        {
         "name": "tn_diff1",
         "rawType": "float64",
         "type": "float"
        },
        {
         "name": "sin_mes",
         "rawType": "float64",
         "type": "float"
        },
        {
         "name": "quarter",
         "rawType": "int32",
         "type": "integer"
        },
        {
         "name": "month",
         "rawType": "int32",
         "type": "integer"
        },
        {
         "name": "rolling_mean6",
         "rawType": "float64",
         "type": "float"
        },
        {
         "name": "rolling_std6",
         "rawType": "float64",
         "type": "float"
        }
       ],
       "ref": "34118932-8b1c-4273-8b9a-f93456a37c41",
       "rows": [
        [
         "0",
         "20001",
         "2017-01-01 00:00:00",
         "3.44",
         "4",
         "0.0",
         "0.0",
         "0.49999999999999994",
         "1",
         "1",
         "0.0",
         "0.0"
        ],
        [
         "1",
         "20001",
         "2017-02-01 00:00:00",
         "2.92",
         "4",
         "3.44",
         "-0.52",
         "0.8660254037844386",
         "1",
         "2",
         "0.0",
         "0.0"
        ],
        [
         "2",
         "20001",
         "2017-03-01 00:00:00",
         "3.56",
         "4",
         "2.92",
         "0.6400000000000001",
         "1.0",
         "1",
         "3",
         "0.0",
         "0.0"
        ],
        [
         "3",
         "20001",
         "2017-04-01 00:00:00",
         "3.44",
         "4",
         "3.56",
         "-0.1200000000000001",
         "0.8660254037844387",
         "2",
         "4",
         "0.0",
         "0.0"
        ],
        [
         "4",
         "20001",
         "2017-05-01 00:00:00",
         "4.2",
         "4",
         "3.44",
         "0.7600000000000002",
         "0.49999999999999994",
         "2",
         "5",
         "0.0",
         "0.0"
        ],
        [
         "5",
         "20001",
         "2017-06-01 00:00:00",
         "4.31",
         "4",
         "4.2",
         "0.10999999999999943",
         "1.2246467991473532e-16",
         "2",
         "6",
         "0.0",
         "0.0"
        ],
        [
         "6",
         "20001",
         "2017-07-01 00:00:00",
         "3.5",
         "4",
         "4.31",
         "-0.8099999999999996",
         "-0.4999999999999997",
         "3",
         "7",
         "3.645",
         "0.5229053451629654"
        ],
        [
         "7",
         "20001",
         "2017-08-01 00:00:00",
         "3.92",
         "4",
         "3.5",
         "0.41999999999999993",
         "-0.8660254037844385",
         "3",
         "8",
         "3.655",
         "0.5187581324663739"
        ],
        [
         "8",
         "20001",
         "2017-09-01 00:00:00",
         "3.35",
         "4",
         "3.92",
         "-0.5699999999999998",
         "-1.0",
         "3",
         "9",
         "3.8216666666666668",
         "0.376532424455938"
        ],
        [
         "9",
         "20001",
         "2017-10-01 00:00:00",
         "3.53",
         "4",
         "3.35",
         "0.17999999999999972",
         "-0.8660254037844386",
         "4",
         "10",
         "3.7866666666666666",
         "0.4136504160117171"
        ],
        [
         "10",
         "20001",
         "2017-11-01 00:00:00",
         "4.43",
         "4",
         "3.53",
         "0.8999999999999999",
         "-0.5000000000000004",
         "4",
         "11",
         "3.801666666666667",
         "0.3999708322698877"
        ],
        [
         "11",
         "20001",
         "2017-12-01 00:00:00",
         "3.53",
         "4",
         "4.43",
         "-0.8999999999999999",
         "-2.4492935982947064e-16",
         "4",
         "12",
         "3.84",
         "0.45325489517488937"
        ],
        [
         "12",
         "20001",
         "2018-01-01 00:00:00",
         "4.7",
         "4",
         "3.53",
         "1.1700000000000004",
         "0.49999999999999994",
         "1",
         "1",
         "3.7099999999999995",
         "0.40024992192378983"
        ],
        [
         "13",
         "20001",
         "2018-02-01 00:00:00",
         "3.7",
         "4",
         "4.7",
         "-1.0",
         "0.8660254037844386",
         "1",
         "2",
         "3.91",
         "0.5471745608121783"
        ],
        [
         "14",
         "20001",
         "2018-03-01 00:00:00",
         "4.63",
         "4",
         "3.7",
         "0.9299999999999997",
         "1.0",
         "1",
         "3",
         "3.8733333333333335",
         "0.5537026879713217"
        ],
        [
         "15",
         "20001",
         "2018-04-01 00:00:00",
         "4.07",
         "4",
         "4.63",
         "-0.5599999999999996",
         "0.8660254037844387",
         "2",
         "4",
         "4.086666666666667",
         "0.5583069645514617"
        ],
        [
         "16",
         "20001",
         "2018-05-01 00:00:00",
         "3.78",
         "4",
         "4.07",
         "-0.2900000000000005",
         "0.49999999999999994",
         "2",
         "5",
         "4.176666666666667",
         "0.4899659852139403"
        ],
        [
         "17",
         "20001",
         "2018-06-01 00:00:00",
         "3.83",
         "4",
         "3.78",
         "0.050000000000000266",
         "1.2246467991473532e-16",
         "2",
         "6",
         "4.068333333333334",
         "0.494587370104279"
        ],
        [
         "18",
         "20001",
         "2018-07-01 00:00:00",
         "5.19",
         "4",
         "3.83",
         "1.3600000000000003",
         "-0.4999999999999997",
         "3",
         "7",
         "4.118333333333333",
         "0.4416069141970799"
        ],
        [
         "19",
         "20001",
         "2018-08-01 00:00:00",
         "5.66",
         "4",
         "5.19",
         "0.46999999999999975",
         "-0.8660254037844385",
         "3",
         "8",
         "4.2",
         "0.5907960731081416"
        ],
        [
         "20",
         "20001",
         "2018-09-01 00:00:00",
         "5.01",
         "4",
         "5.66",
         "-0.6500000000000004",
         "-1.0",
         "3",
         "9",
         "4.526666666666666",
         "0.7728561746319093"
        ],
        [
         "21",
         "20001",
         "2018-10-01 00:00:00",
         "7.15",
         "4",
         "5.01",
         "2.1400000000000006",
         "-0.8660254037844386",
         "4",
         "10",
         "4.59",
         "0.7981729135970487"
        ],
        [
         "22",
         "20001",
         "2018-11-01 00:00:00",
         "6.01",
         "4",
         "7.15",
         "-1.1400000000000006",
         "-0.5000000000000004",
         "4",
         "11",
         "5.1033333333333335",
         "1.2559883226633397"
        ],
        [
         "23",
         "20001",
         "2018-12-01 00:00:00",
         "6.19",
         "4",
         "6.01",
         "0.1800000000000006",
         "-2.4492935982947064e-16",
         "4",
         "12",
         "5.4750000000000005",
         "1.1072082008366824"
        ],
        [
         "24",
         "20001",
         "2019-01-01 00:00:00",
         "4.83",
         "4",
         "6.19",
         "-1.3600000000000003",
         "0.49999999999999994",
         "1",
         "1",
         "5.868333333333333",
         "0.7754332122540732"
        ],
        [
         "25",
         "20001",
         "2019-02-01 00:00:00",
         "4.63",
         "4",
         "4.83",
         "-0.20000000000000018",
         "0.8660254037844386",
         "1",
         "2",
         "5.808333333333334",
         "0.8488678735036864"
        ],
        [
         "26",
         "20001",
         "2019-03-01 00:00:00",
         "4.6",
         "4",
         "4.63",
         "-0.03000000000000025",
         "1.0",
         "1",
         "3",
         "5.636666666666667",
         "0.9790335370489973"
        ],
        [
         "27",
         "20001",
         "2019-04-01 00:00:00",
         "5.33",
         "4",
         "4.6",
         "0.7300000000000004",
         "0.8660254037844387",
         "2",
         "4",
         "5.568333333333334",
         "1.0436937609599235"
        ],
        [
         "28",
         "20001",
         "2019-05-01 00:00:00",
         "5.26",
         "4",
         "5.33",
         "-0.07000000000000028",
         "0.49999999999999994",
         "2",
         "5",
         "5.265",
         "0.69993571133355"
        ],
        [
         "29",
         "20001",
         "2019-06-01 00:00:00",
         "3.61",
         "4",
         "5.26",
         "-1.65",
         "1.2246467991473532e-16",
         "2",
         "6",
         "5.14",
         "0.6001333185218117"
        ],
        [
         "30",
         "20001",
         "2019-07-01 00:00:00",
         "5.32",
         "4",
         "3.61",
         "1.7100000000000004",
         "-0.4999999999999997",
         "3",
         "7",
         "4.71",
         "0.6212567907073541"
        ],
        [
         "31",
         "20001",
         "2019-08-01 00:00:00",
         "5.26",
         "4",
         "5.32",
         "-0.0600000000000005",
         "-0.8660254037844385",
         "3",
         "8",
         "4.791666666666667",
         "0.6704451257684465"
        ],
        [
         "32",
         "20001",
         "2019-09-01 00:00:00",
         "5.08",
         "4",
         "5.26",
         "-0.17999999999999972",
         "-1.0",
         "3",
         "9",
         "4.8966666666666665",
         "0.6891347231613483"
        ],
        [
         "33",
         "20001",
         "2019-10-01 00:00:00",
         "4.47",
         "4",
         "5.08",
         "-0.6100000000000003",
         "-0.8660254037844386",
         "4",
         "10",
         "4.976666666666667",
         "0.675534356392529"
        ],
        [
         "34",
         "20001",
         "2019-11-01 00:00:00",
         "4.35",
         "4",
         "4.47",
         "-0.1200000000000001",
         "-0.5000000000000004",
         "4",
         "11",
         "4.833333333333333",
         "0.6768062253456805"
        ],
        [
         "35",
         "20001",
         "2019-12-01 00:00:00",
         "5.98",
         "4",
         "4.35",
         "1.6300000000000008",
         "-2.4492935982947064e-16",
         "4",
         "12",
         "4.681666666666667",
         "0.6639101344810664"
        ],
        [
         "36",
         "20002",
         "2017-01-01 00:00:00",
         "2.02",
         "4",
         "0.0",
         "0.0",
         "0.49999999999999994",
         "1",
         "1",
         "0.0",
         "0.0"
        ],
        [
         "37",
         "20002",
         "2017-02-01 00:00:00",
         "1.85",
         "4",
         "2.02",
         "-0.16999999999999993",
         "0.8660254037844386",
         "1",
         "2",
         "0.0",
         "0.0"
        ],
        [
         "38",
         "20002",
         "2017-03-01 00:00:00",
         "2.28",
         "4",
         "1.85",
         "0.4299999999999997",
         "1.0",
         "1",
         "3",
         "0.0",
         "0.0"
        ],
        [
         "39",
         "20002",
         "2017-04-01 00:00:00",
         "1.68",
         "4",
         "2.28",
         "-0.5999999999999999",
         "0.8660254037844387",
         "2",
         "4",
         "0.0",
         "0.0"
        ],
        [
         "40",
         "20002",
         "2017-05-01 00:00:00",
         "2.36",
         "4",
         "1.68",
         "0.6799999999999999",
         "0.49999999999999994",
         "2",
         "5",
         "0.0",
         "0.0"
        ],
        [
         "41",
         "20002",
         "2017-06-01 00:00:00",
         "2.74",
         "4",
         "2.36",
         "0.38000000000000034",
         "1.2246467991473532e-16",
         "2",
         "6",
         "0.0",
         "0.0"
        ],
        [
         "42",
         "20002",
         "2017-07-01 00:00:00",
         "2.87",
         "4",
         "2.74",
         "0.1299999999999999",
         "-0.4999999999999997",
         "3",
         "7",
         "2.155",
         "0.3838619543533848"
        ],
        [
         "43",
         "20002",
         "2017-08-01 00:00:00",
         "1.92",
         "4",
         "2.87",
         "-0.9500000000000002",
         "-0.8660254037844385",
         "3",
         "8",
         "2.296666666666667",
         "0.471027246204152"
        ],
        [
         "44",
         "20002",
         "2017-09-01 00:00:00",
         "2.71",
         "4",
         "1.92",
         "0.79",
         "-1.0",
         "3",
         "9",
         "2.308333333333333",
         "0.4584502881083911"
        ],
        [
         "45",
         "20002",
         "2017-10-01 00:00:00",
         "2.1",
         "4",
         "2.71",
         "-0.6099999999999999",
         "-0.8660254037844386",
         "4",
         "10",
         "2.38",
         "0.48592180440889876"
        ],
        [
         "46",
         "20002",
         "2017-11-01 00:00:00",
         "2.1",
         "4",
         "2.1",
         "0.0",
         "-0.5000000000000004",
         "4",
         "11",
         "2.4499999999999997",
         "0.38460369212996376"
        ],
        [
         "47",
         "20002",
         "2017-12-01 00:00:00",
         "2.76",
         "4",
         "2.1",
         "0.6599999999999997",
         "-2.4492935982947064e-16",
         "4",
         "12",
         "2.4066666666666667",
         "0.41054435407963735"
        ],
        [
         "48",
         "20002",
         "2018-01-01 00:00:00",
         "3.96",
         "4",
         "2.76",
         "1.2000000000000002",
         "0.49999999999999994",
         "1",
         "1",
         "2.41",
         "0.4138598796694359"
        ],
        [
         "49",
         "20002",
         "2018-02-01 00:00:00",
         "2.53",
         "4",
         "3.96",
         "-1.4300000000000002",
         "0.8660254037844386",
         "1",
         "2",
         "2.5916666666666663",
         "0.7548885127399053"
        ]
       ],
       "shape": {
        "columns": 11,
        "rows": 22375
       }
      },
      "text/html": [
       "<div>\n",
       "<style scoped>\n",
       "    .dataframe tbody tr th:only-of-type {\n",
       "        vertical-align: middle;\n",
       "    }\n",
       "\n",
       "    .dataframe tbody tr th {\n",
       "        vertical-align: top;\n",
       "    }\n",
       "\n",
       "    .dataframe thead th {\n",
       "        text-align: right;\n",
       "    }\n",
       "</style>\n",
       "<table border=\"1\" class=\"dataframe\">\n",
       "  <thead>\n",
       "    <tr style=\"text-align: right;\">\n",
       "      <th></th>\n",
       "      <th>product_id</th>\n",
       "      <th>periodo</th>\n",
       "      <th>tn</th>\n",
       "      <th>grupo</th>\n",
       "      <th>tn_lag1</th>\n",
       "      <th>tn_diff1</th>\n",
       "      <th>sin_mes</th>\n",
       "      <th>quarter</th>\n",
       "      <th>month</th>\n",
       "      <th>rolling_mean6</th>\n",
       "      <th>rolling_std6</th>\n",
       "    </tr>\n",
       "  </thead>\n",
       "  <tbody>\n",
       "    <tr>\n",
       "      <th>0</th>\n",
       "      <td>20001</td>\n",
       "      <td>2017-01-01</td>\n",
       "      <td>3.44</td>\n",
       "      <td>4</td>\n",
       "      <td>0.00</td>\n",
       "      <td>0.00</td>\n",
       "      <td>5.000000e-01</td>\n",
       "      <td>1</td>\n",
       "      <td>1</td>\n",
       "      <td>0.0</td>\n",
       "      <td>0.0</td>\n",
       "    </tr>\n",
       "    <tr>\n",
       "      <th>1</th>\n",
       "      <td>20001</td>\n",
       "      <td>2017-02-01</td>\n",
       "      <td>2.92</td>\n",
       "      <td>4</td>\n",
       "      <td>3.44</td>\n",
       "      <td>-0.52</td>\n",
       "      <td>8.660254e-01</td>\n",
       "      <td>1</td>\n",
       "      <td>2</td>\n",
       "      <td>0.0</td>\n",
       "      <td>0.0</td>\n",
       "    </tr>\n",
       "    <tr>\n",
       "      <th>2</th>\n",
       "      <td>20001</td>\n",
       "      <td>2017-03-01</td>\n",
       "      <td>3.56</td>\n",
       "      <td>4</td>\n",
       "      <td>2.92</td>\n",
       "      <td>0.64</td>\n",
       "      <td>1.000000e+00</td>\n",
       "      <td>1</td>\n",
       "      <td>3</td>\n",
       "      <td>0.0</td>\n",
       "      <td>0.0</td>\n",
       "    </tr>\n",
       "    <tr>\n",
       "      <th>3</th>\n",
       "      <td>20001</td>\n",
       "      <td>2017-04-01</td>\n",
       "      <td>3.44</td>\n",
       "      <td>4</td>\n",
       "      <td>3.56</td>\n",
       "      <td>-0.12</td>\n",
       "      <td>8.660254e-01</td>\n",
       "      <td>2</td>\n",
       "      <td>4</td>\n",
       "      <td>0.0</td>\n",
       "      <td>0.0</td>\n",
       "    </tr>\n",
       "    <tr>\n",
       "      <th>4</th>\n",
       "      <td>20001</td>\n",
       "      <td>2017-05-01</td>\n",
       "      <td>4.20</td>\n",
       "      <td>4</td>\n",
       "      <td>3.44</td>\n",
       "      <td>0.76</td>\n",
       "      <td>5.000000e-01</td>\n",
       "      <td>2</td>\n",
       "      <td>5</td>\n",
       "      <td>0.0</td>\n",
       "      <td>0.0</td>\n",
       "    </tr>\n",
       "    <tr>\n",
       "      <th>...</th>\n",
       "      <td>...</td>\n",
       "      <td>...</td>\n",
       "      <td>...</td>\n",
       "      <td>...</td>\n",
       "      <td>...</td>\n",
       "      <td>...</td>\n",
       "      <td>...</td>\n",
       "      <td>...</td>\n",
       "      <td>...</td>\n",
       "      <td>...</td>\n",
       "      <td>...</td>\n",
       "    </tr>\n",
       "    <tr>\n",
       "      <th>22370</th>\n",
       "      <td>21276</td>\n",
       "      <td>2019-08-01</td>\n",
       "      <td>0.00</td>\n",
       "      <td>0</td>\n",
       "      <td>0.00</td>\n",
       "      <td>0.00</td>\n",
       "      <td>-8.660254e-01</td>\n",
       "      <td>3</td>\n",
       "      <td>8</td>\n",
       "      <td>0.0</td>\n",
       "      <td>0.0</td>\n",
       "    </tr>\n",
       "    <tr>\n",
       "      <th>22371</th>\n",
       "      <td>21276</td>\n",
       "      <td>2019-09-01</td>\n",
       "      <td>0.00</td>\n",
       "      <td>0</td>\n",
       "      <td>0.00</td>\n",
       "      <td>0.00</td>\n",
       "      <td>-1.000000e+00</td>\n",
       "      <td>3</td>\n",
       "      <td>9</td>\n",
       "      <td>0.0</td>\n",
       "      <td>0.0</td>\n",
       "    </tr>\n",
       "    <tr>\n",
       "      <th>22372</th>\n",
       "      <td>21276</td>\n",
       "      <td>2019-10-01</td>\n",
       "      <td>0.00</td>\n",
       "      <td>0</td>\n",
       "      <td>0.00</td>\n",
       "      <td>0.00</td>\n",
       "      <td>-8.660254e-01</td>\n",
       "      <td>4</td>\n",
       "      <td>10</td>\n",
       "      <td>0.0</td>\n",
       "      <td>0.0</td>\n",
       "    </tr>\n",
       "    <tr>\n",
       "      <th>22373</th>\n",
       "      <td>21276</td>\n",
       "      <td>2019-11-01</td>\n",
       "      <td>0.00</td>\n",
       "      <td>0</td>\n",
       "      <td>0.00</td>\n",
       "      <td>0.00</td>\n",
       "      <td>-5.000000e-01</td>\n",
       "      <td>4</td>\n",
       "      <td>11</td>\n",
       "      <td>0.0</td>\n",
       "      <td>0.0</td>\n",
       "    </tr>\n",
       "    <tr>\n",
       "      <th>22374</th>\n",
       "      <td>21276</td>\n",
       "      <td>2019-12-01</td>\n",
       "      <td>0.00</td>\n",
       "      <td>0</td>\n",
       "      <td>0.00</td>\n",
       "      <td>0.00</td>\n",
       "      <td>-2.449294e-16</td>\n",
       "      <td>4</td>\n",
       "      <td>12</td>\n",
       "      <td>0.0</td>\n",
       "      <td>0.0</td>\n",
       "    </tr>\n",
       "  </tbody>\n",
       "</table>\n",
       "<p>22375 rows × 11 columns</p>\n",
       "</div>"
      ],
      "text/plain": [
       "       product_id    periodo    tn  grupo  tn_lag1  tn_diff1       sin_mes  \\\n",
       "0           20001 2017-01-01  3.44      4     0.00      0.00  5.000000e-01   \n",
       "1           20001 2017-02-01  2.92      4     3.44     -0.52  8.660254e-01   \n",
       "2           20001 2017-03-01  3.56      4     2.92      0.64  1.000000e+00   \n",
       "3           20001 2017-04-01  3.44      4     3.56     -0.12  8.660254e-01   \n",
       "4           20001 2017-05-01  4.20      4     3.44      0.76  5.000000e-01   \n",
       "...           ...        ...   ...    ...      ...       ...           ...   \n",
       "22370       21276 2019-08-01  0.00      0     0.00      0.00 -8.660254e-01   \n",
       "22371       21276 2019-09-01  0.00      0     0.00      0.00 -1.000000e+00   \n",
       "22372       21276 2019-10-01  0.00      0     0.00      0.00 -8.660254e-01   \n",
       "22373       21276 2019-11-01  0.00      0     0.00      0.00 -5.000000e-01   \n",
       "22374       21276 2019-12-01  0.00      0     0.00      0.00 -2.449294e-16   \n",
       "\n",
       "       quarter  month  rolling_mean6  rolling_std6  \n",
       "0            1      1            0.0           0.0  \n",
       "1            1      2            0.0           0.0  \n",
       "2            1      3            0.0           0.0  \n",
       "3            2      4            0.0           0.0  \n",
       "4            2      5            0.0           0.0  \n",
       "...        ...    ...            ...           ...  \n",
       "22370        3      8            0.0           0.0  \n",
       "22371        3      9            0.0           0.0  \n",
       "22372        4     10            0.0           0.0  \n",
       "22373        4     11            0.0           0.0  \n",
       "22374        4     12            0.0           0.0  \n",
       "\n",
       "[22375 rows x 11 columns]"
      ]
     },
     "execution_count": 26,
     "metadata": {},
     "output_type": "execute_result"
    }
   ],
   "source": [
    "df_features"
   ]
  },
  {
   "cell_type": "code",
   "execution_count": 27,
   "id": "d921303a",
   "metadata": {},
   "outputs": [
    {
     "name": "stdout",
     "output_type": "stream",
     "text": [
      "(16548, 11)\n"
     ]
    }
   ],
   "source": [
    "# Último período disponible\n",
    "ultimo_mes = df_features[\"periodo\"].max()\n",
    "\n",
    "# Definir los 3 meses anteriores\n",
    "ultimos_3_meses = pd.date_range(end=ultimo_mes - pd.DateOffset(months=1), periods=3, freq='MS')\n",
    "\n",
    "# Filtrar productos con datos en al menos 3 de esos meses\n",
    "df_filtrado = df_features[df_features[\"periodo\"].isin(ultimos_3_meses)]\n",
    "\n",
    "# Contar cuántos meses tiene cada producto\n",
    "conteo_por_producto = df_filtrado[df_filtrado[\"tn\"] > 0].groupby(\"product_id\").size()\n",
    "\n",
    "# Seleccionar productos válidos\n",
    "productos_validos = conteo_por_producto[conteo_por_producto >= 3].index\n",
    "\n",
    "# Filtrar el dataframe original\n",
    "df_features = df_features[df_features[\"product_id\"].isin(productos_validos)].copy()\n",
    "print(df_features.shape)"
   ]
  },
  {
   "cell_type": "code",
   "execution_count": 28,
   "id": "5382a179",
   "metadata": {},
   "outputs": [
    {
     "data": {
      "application/vnd.microsoft.datawrangler.viewer.v0+json": {
       "columns": [
        {
         "name": "index",
         "rawType": "int64",
         "type": "integer"
        },
        {
         "name": "product_id",
         "rawType": "int64",
         "type": "integer"
        },
        {
         "name": "periodo",
         "rawType": "datetime64[ns]",
         "type": "datetime"
        },
        {
         "name": "tn",
         "rawType": "float64",
         "type": "float"
        },
        {
         "name": "grupo",
         "rawType": "int32",
         "type": "integer"
        },
        {
         "name": "tn_lag1",
         "rawType": "float64",
         "type": "float"
        },
        {
         "name": "tn_diff1",
         "rawType": "float64",
         "type": "float"
        },
        {
         "name": "sin_mes",
         "rawType": "float64",
         "type": "float"
        },
        {
         "name": "quarter",
         "rawType": "int32",
         "type": "integer"
        },
        {
         "name": "month",
         "rawType": "int32",
         "type": "integer"
        },
        {
         "name": "rolling_mean6",
         "rawType": "float64",
         "type": "float"
        },
        {
         "name": "rolling_std6",
         "rawType": "float64",
         "type": "float"
        }
       ],
       "ref": "5cc58182-2a52-4263-aacf-52da79927d9b",
       "rows": [
        [
         "34",
         "20001",
         "2019-11-01 00:00:00",
         "4.35",
         "4",
         "4.47",
         "-0.1200000000000001",
         "-0.5000000000000004",
         "4",
         "11",
         "4.833333333333333",
         "0.6768062253456805"
        ],
        [
         "35",
         "20001",
         "2019-12-01 00:00:00",
         "5.98",
         "4",
         "4.35",
         "1.6300000000000008",
         "-2.4492935982947064e-16",
         "4",
         "12",
         "4.681666666666667",
         "0.6639101344810664"
        ],
        [
         "70",
         "20002",
         "2019-11-01 00:00:00",
         "4.43",
         "4",
         "5.67",
         "-1.2400000000000002",
         "-0.5000000000000004",
         "4",
         "11",
         "3.6899999999999995",
         "0.9799591828234466"
        ],
        [
         "71",
         "20002",
         "2019-12-01 00:00:00",
         "4.32",
         "4",
         "4.43",
         "-0.10999999999999943",
         "-2.4492935982947064e-16",
         "4",
         "12",
         "3.871666666666666",
         "1.0028642314225111"
        ],
        [
         "106",
         "20003",
         "2019-11-01 00:00:00",
         "2.95",
         "4",
         "3.1",
         "-0.1499999999999999",
         "-0.5000000000000004",
         "4",
         "11",
         "2.505",
         "0.475257824764624"
        ],
        [
         "107",
         "20003",
         "2019-12-01 00:00:00",
         "3.55",
         "4",
         "2.95",
         "0.5999999999999996",
         "-2.4492935982947064e-16",
         "4",
         "12",
         "2.6799999999999997",
         "0.3943602414037212"
        ],
        [
         "142",
         "20004",
         "2019-11-01 00:00:00",
         "2.25",
         "4",
         "3.05",
         "-0.7999999999999998",
         "-0.5000000000000004",
         "4",
         "11",
         "2.2049999999999996",
         "0.48256605765428584"
        ],
        [
         "143",
         "20004",
         "2019-12-01 00:00:00",
         "2.54",
         "4",
         "2.25",
         "0.29000000000000004",
         "-2.4492935982947064e-16",
         "4",
         "12",
         "2.255",
         "0.4661223015475654"
        ],
        [
         "178",
         "20005",
         "2019-11-01 00:00:00",
         "1.89",
         "4",
         "2.86",
         "-0.97",
         "-0.5000000000000004",
         "4",
         "11",
         "2.65",
         "0.2829840984931842"
        ],
        [
         "179",
         "20005",
         "2019-12-01 00:00:00",
         "2.36",
         "4",
         "1.89",
         "0.47",
         "-2.4492935982947064e-16",
         "4",
         "12",
         "2.4816666666666665",
         "0.3861303752188716"
        ],
        [
         "214",
         "20006",
         "2019-11-01 00:00:00",
         "1.24",
         "4",
         "1.51",
         "-0.27",
         "-0.5000000000000004",
         "4",
         "11",
         "1.3566666666666667",
         "0.24800537628580843"
        ],
        [
         "215",
         "20006",
         "2019-12-01 00:00:00",
         "1.66",
         "4",
         "1.24",
         "0.41999999999999993",
         "-2.4492935982947064e-16",
         "4",
         "12",
         "1.28",
         "0.18330302779822993"
        ],
        [
         "250",
         "20007",
         "2019-11-01 00:00:00",
         "1.11",
         "4",
         "1.28",
         "-0.16999999999999993",
         "-0.5000000000000004",
         "4",
         "11",
         "1.42",
         "0.28572714256786774"
        ],
        [
         "251",
         "20007",
         "2019-12-01 00:00:00",
         "1.55",
         "4",
         "1.11",
         "0.43999999999999995",
         "-2.4492935982947064e-16",
         "4",
         "12",
         "1.3933333333333333",
         "0.30904152903237003"
        ],
        [
         "286",
         "20008",
         "2019-11-01 00:00:00",
         "1.23",
         "4",
         "1.3",
         "-0.07000000000000006",
         "-0.5000000000000004",
         "4",
         "11",
         "1.3916666666666666",
         "0.3568426357186976"
        ],
        [
         "287",
         "20008",
         "2019-12-01 00:00:00",
         "0.78",
         "4",
         "1.23",
         "-0.44999999999999996",
         "-2.4492935982947064e-16",
         "4",
         "12",
         "1.335",
         "0.34978564864785483"
        ],
        [
         "322",
         "20009",
         "2019-11-01 00:00:00",
         "2.21",
         "4",
         "1.59",
         "0.6199999999999999",
         "-0.5000000000000004",
         "4",
         "11",
         "1.9316666666666666",
         "0.26202417191294713"
        ],
        [
         "323",
         "20009",
         "2019-12-01 00:00:00",
         "1.97",
         "4",
         "2.21",
         "-0.24",
         "-2.4492935982947064e-16",
         "4",
         "12",
         "1.9883333333333333",
         "0.28202245773460244"
        ],
        [
         "358",
         "20010",
         "2019-11-01 00:00:00",
         "1.47",
         "4",
         "1.29",
         "0.17999999999999994",
         "-0.5000000000000004",
         "4",
         "11",
         "1.4116666666666664",
         "0.3725810873711466"
        ],
        [
         "359",
         "20010",
         "2019-12-01 00:00:00",
         "1.43",
         "4",
         "1.47",
         "-0.040000000000000036",
         "-2.4492935982947064e-16",
         "4",
         "12",
         "1.4366666666666665",
         "0.3702251567177276"
        ],
        [
         "394",
         "20011",
         "2019-11-01 00:00:00",
         "0.92",
         "4",
         "1.21",
         "-0.2899999999999999",
         "-0.5000000000000004",
         "4",
         "11",
         "1.2333333333333334",
         "0.1820622604129323"
        ],
        [
         "395",
         "20011",
         "2019-12-01 00:00:00",
         "1.56",
         "4",
         "0.92",
         "0.64",
         "-2.4492935982947064e-16",
         "4",
         "12",
         "1.2316666666666667",
         "0.18540945678866105"
        ],
        [
         "430",
         "20012",
         "2019-11-01 00:00:00",
         "1.11",
         "4",
         "0.81",
         "0.30000000000000004",
         "-0.5000000000000004",
         "4",
         "11",
         "1.0566666666666666",
         "0.22060522810365765"
        ],
        [
         "431",
         "20012",
         "2019-12-01 00:00:00",
         "0.69",
         "4",
         "1.11",
         "-0.42000000000000015",
         "-2.4492935982947064e-16",
         "4",
         "12",
         "1.065",
         "0.22169799277395402"
        ],
        [
         "466",
         "20013",
         "2019-11-01 00:00:00",
         "1.05",
         "4",
         "1.51",
         "-0.45999999999999996",
         "-0.5000000000000004",
         "4",
         "11",
         "1.3800000000000001",
         "0.3489412558010301"
        ],
        [
         "467",
         "20013",
         "2019-12-01 00:00:00",
         "1.27",
         "4",
         "1.05",
         "0.21999999999999997",
         "-2.4492935982947064e-16",
         "4",
         "12",
         "1.33",
         "0.37464650005038064"
        ],
        [
         "502",
         "20014",
         "2019-11-01 00:00:00",
         "1.29",
         "4",
         "1.47",
         "-0.17999999999999994",
         "-0.5000000000000004",
         "4",
         "11",
         "1.4416666666666667",
         "0.19198090182793406"
        ],
        [
         "503",
         "20014",
         "2019-12-01 00:00:00",
         "1.08",
         "4",
         "1.29",
         "-0.20999999999999996",
         "-2.4492935982947064e-16",
         "4",
         "12",
         "1.4216666666666666",
         "0.20193233190023555"
        ],
        [
         "538",
         "20015",
         "2019-11-01 00:00:00",
         "1.0",
         "4",
         "1.35",
         "-0.3500000000000001",
         "-0.5000000000000004",
         "4",
         "11",
         "1.295",
         "0.19685019685029512"
        ],
        [
         "539",
         "20015",
         "2019-12-01 00:00:00",
         "1.18",
         "4",
         "1.0",
         "0.17999999999999994",
         "-2.4492935982947064e-16",
         "4",
         "12",
         "1.2933333333333332",
         "0.19976653039652714"
        ],
        [
         "574",
         "20016",
         "2019-11-01 00:00:00",
         "0.94",
         "4",
         "0.77",
         "0.16999999999999993",
         "-0.5000000000000004",
         "4",
         "11",
         "0.9433333333333334",
         "0.1441758185919763"
        ],
        [
         "575",
         "20016",
         "2019-12-01 00:00:00",
         "1.09",
         "4",
         "0.94",
         "0.15000000000000013",
         "-2.4492935982947064e-16",
         "4",
         "12",
         "0.9400000000000001",
         "0.14394443372357194"
        ],
        [
         "610",
         "20017",
         "2019-11-01 00:00:00",
         "0.67",
         "4",
         "0.87",
         "-0.19999999999999996",
         "-0.5000000000000004",
         "4",
         "11",
         "0.8933333333333332",
         "0.2615084447329892"
        ],
        [
         "611",
         "20017",
         "2019-12-01 00:00:00",
         "0.86",
         "4",
         "0.67",
         "0.18999999999999995",
         "-2.4492935982947064e-16",
         "4",
         "12",
         "0.77",
         "0.08197560612767825"
        ],
        [
         "646",
         "20018",
         "2019-11-01 00:00:00",
         "0.79",
         "4",
         "0.8",
         "-0.010000000000000009",
         "-0.5000000000000004",
         "4",
         "11",
         "0.8166666666666668",
         "0.22624470527874518"
        ],
        [
         "647",
         "20018",
         "2019-12-01 00:00:00",
         "0.56",
         "4",
         "0.79",
         "-0.22999999999999998",
         "-2.4492935982947064e-16",
         "4",
         "12",
         "0.75",
         "0.13461054936370906"
        ],
        [
         "682",
         "20019",
         "2019-11-01 00:00:00",
         "1.17",
         "4",
         "1.31",
         "-0.14000000000000012",
         "-0.5000000000000004",
         "4",
         "11",
         "0.9416666666666668",
         "0.2278961751909557"
        ],
        [
         "683",
         "20019",
         "2019-12-01 00:00:00",
         "1.4",
         "4",
         "1.17",
         "0.22999999999999998",
         "-2.4492935982947064e-16",
         "4",
         "12",
         "1.0216666666666667",
         "0.2049796737890534"
        ],
        [
         "718",
         "20020",
         "2019-11-01 00:00:00",
         "1.0",
         "4",
         "0.69",
         "0.31000000000000005",
         "-0.5000000000000004",
         "4",
         "11",
         "0.8733333333333334",
         "0.1355974434370582"
        ],
        [
         "719",
         "20020",
         "2019-12-01 00:00:00",
         "1.06",
         "4",
         "1.0",
         "0.06000000000000005",
         "-2.4492935982947064e-16",
         "4",
         "12",
         "0.9066666666666666",
         "0.1385159437273061"
        ],
        [
         "754",
         "20021",
         "2019-11-01 00:00:00",
         "0.88",
         "4",
         "0.71",
         "0.17000000000000004",
         "-0.5000000000000004",
         "4",
         "11",
         "0.8916666666666666",
         "0.20370730636544895"
        ],
        [
         "755",
         "20021",
         "2019-12-01 00:00:00",
         "0.81",
         "4",
         "0.88",
         "-0.06999999999999995",
         "-2.4492935982947064e-16",
         "4",
         "12",
         "0.8783333333333333",
         "0.20093946020298473"
        ],
        [
         "790",
         "20022",
         "2019-11-01 00:00:00",
         "1.08",
         "4",
         "0.48",
         "0.6000000000000001",
         "-0.5000000000000004",
         "4",
         "11",
         "1.0016666666666667",
         "0.28477476479959896"
        ],
        [
         "791",
         "20022",
         "2019-12-01 00:00:00",
         "0.84",
         "4",
         "1.08",
         "-0.2400000000000001",
         "-2.4492935982947064e-16",
         "4",
         "12",
         "0.9649999999999999",
         "0.2508186595929422"
        ],
        [
         "826",
         "20023",
         "2019-11-01 00:00:00",
         "0.86",
         "4",
         "1.11",
         "-0.2500000000000001",
         "-0.5000000000000004",
         "4",
         "11",
         "0.9900000000000001",
         "0.13740451229854142"
        ],
        [
         "827",
         "20023",
         "2019-12-01 00:00:00",
         "0.72",
         "4",
         "0.86",
         "-0.14",
         "-2.4492935982947064e-16",
         "4",
         "12",
         "0.9916666666666667",
         "0.1354129486669081"
        ],
        [
         "862",
         "20024",
         "2019-11-01 00:00:00",
         "0.49",
         "4",
         "0.58",
         "-0.08999999999999997",
         "-0.5000000000000004",
         "4",
         "11",
         "0.7233333333333333",
         "0.12404300329590082"
        ],
        [
         "863",
         "20024",
         "2019-12-01 00:00:00",
         "1.08",
         "4",
         "0.49",
         "0.5900000000000001",
         "-2.4492935982947064e-16",
         "4",
         "12",
         "0.705",
         "0.15109599597606885"
        ],
        [
         "898",
         "20025",
         "2019-11-01 00:00:00",
         "0.76",
         "4",
         "0.41",
         "0.35000000000000003",
         "-0.5000000000000004",
         "4",
         "11",
         "0.7050000000000001",
         "0.21049940617493437"
        ],
        [
         "899",
         "20025",
         "2019-12-01 00:00:00",
         "0.96",
         "4",
         "0.76",
         "0.19999999999999996",
         "-2.4492935982947064e-16",
         "4",
         "12",
         "0.7516666666666666",
         "0.179378556875304"
        ]
       ],
       "shape": {
        "columns": 11,
        "rows": 1116
       }
      },
      "text/html": [
       "<div>\n",
       "<style scoped>\n",
       "    .dataframe tbody tr th:only-of-type {\n",
       "        vertical-align: middle;\n",
       "    }\n",
       "\n",
       "    .dataframe tbody tr th {\n",
       "        vertical-align: top;\n",
       "    }\n",
       "\n",
       "    .dataframe thead th {\n",
       "        text-align: right;\n",
       "    }\n",
       "</style>\n",
       "<table border=\"1\" class=\"dataframe\">\n",
       "  <thead>\n",
       "    <tr style=\"text-align: right;\">\n",
       "      <th></th>\n",
       "      <th>product_id</th>\n",
       "      <th>periodo</th>\n",
       "      <th>tn</th>\n",
       "      <th>grupo</th>\n",
       "      <th>tn_lag1</th>\n",
       "      <th>tn_diff1</th>\n",
       "      <th>sin_mes</th>\n",
       "      <th>quarter</th>\n",
       "      <th>month</th>\n",
       "      <th>rolling_mean6</th>\n",
       "      <th>rolling_std6</th>\n",
       "    </tr>\n",
       "  </thead>\n",
       "  <tbody>\n",
       "    <tr>\n",
       "      <th>34</th>\n",
       "      <td>20001</td>\n",
       "      <td>2019-11-01</td>\n",
       "      <td>4.35</td>\n",
       "      <td>4</td>\n",
       "      <td>4.47</td>\n",
       "      <td>-0.12</td>\n",
       "      <td>-5.000000e-01</td>\n",
       "      <td>4</td>\n",
       "      <td>11</td>\n",
       "      <td>4.833333</td>\n",
       "      <td>0.676806</td>\n",
       "    </tr>\n",
       "    <tr>\n",
       "      <th>35</th>\n",
       "      <td>20001</td>\n",
       "      <td>2019-12-01</td>\n",
       "      <td>5.98</td>\n",
       "      <td>4</td>\n",
       "      <td>4.35</td>\n",
       "      <td>1.63</td>\n",
       "      <td>-2.449294e-16</td>\n",
       "      <td>4</td>\n",
       "      <td>12</td>\n",
       "      <td>4.681667</td>\n",
       "      <td>0.663910</td>\n",
       "    </tr>\n",
       "    <tr>\n",
       "      <th>70</th>\n",
       "      <td>20002</td>\n",
       "      <td>2019-11-01</td>\n",
       "      <td>4.43</td>\n",
       "      <td>4</td>\n",
       "      <td>5.67</td>\n",
       "      <td>-1.24</td>\n",
       "      <td>-5.000000e-01</td>\n",
       "      <td>4</td>\n",
       "      <td>11</td>\n",
       "      <td>3.690000</td>\n",
       "      <td>0.979959</td>\n",
       "    </tr>\n",
       "    <tr>\n",
       "      <th>71</th>\n",
       "      <td>20002</td>\n",
       "      <td>2019-12-01</td>\n",
       "      <td>4.32</td>\n",
       "      <td>4</td>\n",
       "      <td>4.43</td>\n",
       "      <td>-0.11</td>\n",
       "      <td>-2.449294e-16</td>\n",
       "      <td>4</td>\n",
       "      <td>12</td>\n",
       "      <td>3.871667</td>\n",
       "      <td>1.002864</td>\n",
       "    </tr>\n",
       "    <tr>\n",
       "      <th>106</th>\n",
       "      <td>20003</td>\n",
       "      <td>2019-11-01</td>\n",
       "      <td>2.95</td>\n",
       "      <td>4</td>\n",
       "      <td>3.10</td>\n",
       "      <td>-0.15</td>\n",
       "      <td>-5.000000e-01</td>\n",
       "      <td>4</td>\n",
       "      <td>11</td>\n",
       "      <td>2.505000</td>\n",
       "      <td>0.475258</td>\n",
       "    </tr>\n",
       "    <tr>\n",
       "      <th>...</th>\n",
       "      <td>...</td>\n",
       "      <td>...</td>\n",
       "      <td>...</td>\n",
       "      <td>...</td>\n",
       "      <td>...</td>\n",
       "      <td>...</td>\n",
       "      <td>...</td>\n",
       "      <td>...</td>\n",
       "      <td>...</td>\n",
       "      <td>...</td>\n",
       "      <td>...</td>\n",
       "    </tr>\n",
       "    <tr>\n",
       "      <th>20405</th>\n",
       "      <td>20995</td>\n",
       "      <td>2019-12-01</td>\n",
       "      <td>0.01</td>\n",
       "      <td>1</td>\n",
       "      <td>0.01</td>\n",
       "      <td>0.00</td>\n",
       "      <td>-2.449294e-16</td>\n",
       "      <td>4</td>\n",
       "      <td>12</td>\n",
       "      <td>0.000000</td>\n",
       "      <td>0.000000</td>\n",
       "    </tr>\n",
       "    <tr>\n",
       "      <th>20508</th>\n",
       "      <td>21007</td>\n",
       "      <td>2019-11-01</td>\n",
       "      <td>0.01</td>\n",
       "      <td>1</td>\n",
       "      <td>0.01</td>\n",
       "      <td>0.00</td>\n",
       "      <td>-5.000000e-01</td>\n",
       "      <td>4</td>\n",
       "      <td>11</td>\n",
       "      <td>0.000000</td>\n",
       "      <td>0.000000</td>\n",
       "    </tr>\n",
       "    <tr>\n",
       "      <th>20509</th>\n",
       "      <td>21007</td>\n",
       "      <td>2019-12-01</td>\n",
       "      <td>0.01</td>\n",
       "      <td>1</td>\n",
       "      <td>0.01</td>\n",
       "      <td>0.00</td>\n",
       "      <td>-2.449294e-16</td>\n",
       "      <td>4</td>\n",
       "      <td>12</td>\n",
       "      <td>0.008333</td>\n",
       "      <td>0.004082</td>\n",
       "    </tr>\n",
       "    <tr>\n",
       "      <th>20805</th>\n",
       "      <td>21035</td>\n",
       "      <td>2019-11-01</td>\n",
       "      <td>0.01</td>\n",
       "      <td>0</td>\n",
       "      <td>0.01</td>\n",
       "      <td>0.00</td>\n",
       "      <td>-5.000000e-01</td>\n",
       "      <td>4</td>\n",
       "      <td>11</td>\n",
       "      <td>0.000000</td>\n",
       "      <td>0.000000</td>\n",
       "    </tr>\n",
       "    <tr>\n",
       "      <th>20806</th>\n",
       "      <td>21035</td>\n",
       "      <td>2019-12-01</td>\n",
       "      <td>0.01</td>\n",
       "      <td>0</td>\n",
       "      <td>0.01</td>\n",
       "      <td>0.00</td>\n",
       "      <td>-2.449294e-16</td>\n",
       "      <td>4</td>\n",
       "      <td>12</td>\n",
       "      <td>0.000000</td>\n",
       "      <td>0.000000</td>\n",
       "    </tr>\n",
       "  </tbody>\n",
       "</table>\n",
       "<p>1116 rows × 11 columns</p>\n",
       "</div>"
      ],
      "text/plain": [
       "       product_id    periodo    tn  grupo  tn_lag1  tn_diff1       sin_mes  \\\n",
       "34          20001 2019-11-01  4.35      4     4.47     -0.12 -5.000000e-01   \n",
       "35          20001 2019-12-01  5.98      4     4.35      1.63 -2.449294e-16   \n",
       "70          20002 2019-11-01  4.43      4     5.67     -1.24 -5.000000e-01   \n",
       "71          20002 2019-12-01  4.32      4     4.43     -0.11 -2.449294e-16   \n",
       "106         20003 2019-11-01  2.95      4     3.10     -0.15 -5.000000e-01   \n",
       "...           ...        ...   ...    ...      ...       ...           ...   \n",
       "20405       20995 2019-12-01  0.01      1     0.01      0.00 -2.449294e-16   \n",
       "20508       21007 2019-11-01  0.01      1     0.01      0.00 -5.000000e-01   \n",
       "20509       21007 2019-12-01  0.01      1     0.01      0.00 -2.449294e-16   \n",
       "20805       21035 2019-11-01  0.01      0     0.01      0.00 -5.000000e-01   \n",
       "20806       21035 2019-12-01  0.01      0     0.01      0.00 -2.449294e-16   \n",
       "\n",
       "       quarter  month  rolling_mean6  rolling_std6  \n",
       "34           4     11       4.833333      0.676806  \n",
       "35           4     12       4.681667      0.663910  \n",
       "70           4     11       3.690000      0.979959  \n",
       "71           4     12       3.871667      1.002864  \n",
       "106          4     11       2.505000      0.475258  \n",
       "...        ...    ...            ...           ...  \n",
       "20405        4     12       0.000000      0.000000  \n",
       "20508        4     11       0.000000      0.000000  \n",
       "20509        4     12       0.008333      0.004082  \n",
       "20805        4     11       0.000000      0.000000  \n",
       "20806        4     12       0.000000      0.000000  \n",
       "\n",
       "[1116 rows x 11 columns]"
      ]
     },
     "execution_count": 28,
     "metadata": {},
     "output_type": "execute_result"
    }
   ],
   "source": [
    "df_test = df_features[df_features[\"periodo\"] == pd.to_datetime(201912, format=\"%Y%m\")].copy()\n",
    "df_features[df_features[\"periodo\"].isin(pd.to_datetime([201911, 201912], format=\"%Y%m\")) ]"
   ]
  },
  {
   "cell_type": "code",
   "execution_count": 29,
   "id": "384dbeff",
   "metadata": {},
   "outputs": [],
   "source": [
    "# ================================\n",
    "# 2. SCALING Y VENTANAS TEMPORALES\n",
    "# ================================\n",
    "\n",
    "window_size = config[\"window_size\"]\n",
    "\n",
    "def get_window_size(q):\n",
    "  window_size = 3 if q >= 3 else 6\n",
    "  return window_size\n",
    "\n",
    "scaler_name = config[\"scaler_name\"]\n",
    "\n",
    "feature_cols = config[\"feature_cols\"]\n",
    "\n",
    "# Agrupar por producto\n",
    "productos = df_features[\"product_id\"].unique()\n",
    "productos = list(productos)\n",
    "scalers = {}  # Guardamos los scalers por producto\n"
   ]
  },
  {
   "cell_type": "code",
   "execution_count": 30,
   "id": "d46a0c19",
   "metadata": {},
   "outputs": [
    {
     "name": "stdout",
     "output_type": "stream",
     "text": [
      "grupo 0: 16 productos, 347 muestras de entrenamiento, 15 muestras de test\n",
      "grupo 1: 96 productos, 1708 muestras de entrenamiento, 77 muestras de test\n",
      "grupo 2: 140 productos, 2418 muestras de entrenamiento, 116 muestras de test\n",
      "grupo 3: 152 productos, 3307 muestras de entrenamiento, 146 muestras de test\n",
      "grupo 4: 154 productos, 3749 muestras de entrenamiento, 146 muestras de test\n"
     ]
    }
   ],
   "source": [
    "\n",
    "# ================================\n",
    "# 3. TRAIN / TEST SPLIT\n",
    "# ================================\n",
    "from sklearn.model_selection import train_test_split\n",
    "grupos = df_features[\"grupo\"].unique()\n",
    "grupos.sort()\n",
    "sets = {}\n",
    "modelos = {}\n",
    "metricas = {}\n",
    "seed = config.get(\"seed\", 42)\n",
    "for grupo in grupos:\n",
    "    window_size = get_window_size(grupo)\n",
    "    df_grupo = df_features[df_features[\"grupo\"] == grupo].copy()\n",
    "    sets[grupo] = {}\n",
    "    X, y, productos_list = [], [], []\n",
    "    periodos = []\n",
    "    productos_train = df_grupo[\"product_id\"].unique()\n",
    "    \n",
    "    for producto in productos_train:\n",
    "        df_prod = df_features[df_features[\"product_id\"] == producto].copy()\n",
    "        df_prod = df_prod.sort_values('periodo')\n",
    "        if len(df_prod) < window_size + 2:\n",
    "            continue\n",
    "\n",
    "        scaler = StandardScaler() if scaler_name == \"standard\" else RobustScaler()\n",
    "        scaled_features = scaler.fit_transform(df_prod[feature_cols])\n",
    "        scalers[producto] = scaler\n",
    "\n",
    "        for i in range(window_size, len(df_prod) - 2):\n",
    "            X_window = scaled_features[i - window_size:i]\n",
    "            y_target = scaled_features[i][0]  # TN target\n",
    "            mes_ultimo_valor = df_prod.iloc[i - 1][\"month\"]  # el último mes dentro de la ventana\n",
    "            quarter_ultimo_valor = df_prod.iloc[i - 1][\"quarter\"]\n",
    "            mes_scaled = (mes_ultimo_valor - 1) / 11  # Normalizado a [0, 1]\n",
    "            \n",
    "            quarter_scaled = (quarter_ultimo_valor - 1) / 3  # quarter ∈ [0, 3]\n",
    "            \n",
    "                # Crear una feature adicional repetida en la ventana\n",
    "            mes_feature = np.full((window_size, 1), mes_scaled)\n",
    "            quarter_feature = np.full((window_size, 1), quarter_scaled)\n",
    "            \n",
    "            X_with_extra = np.concatenate([X_window, mes_feature, quarter_feature], axis=1)\n",
    "            \n",
    "            X.append(X_with_extra)\n",
    "            y.append(y_target)\n",
    "            productos_list.append(producto)\n",
    "            periodo_target = df_prod.iloc[i + 2][\"periodo\"]\n",
    "            periodos.append(periodo_target)\n",
    "    \n",
    "\n",
    "    \n",
    "    \n",
    "    X = np.array(X)\n",
    "    y = np.array(y).reshape(-1, 1)\n",
    "    productos_list = np.array(productos_list)\n",
    "    periodos = np.array(periodos)\n",
    "\n",
    "    # Ahora sí, aplicá las máscaras\n",
    "    train_mask = periodos <= pd.to_datetime(\"2019-09-30\")\n",
    "    test_mask = periodos == pd.to_datetime(\"2019-10-01\")\n",
    "\n",
    "    X_train, X_test = X[train_mask], X[test_mask]\n",
    "    y_train, y_test = y[train_mask], y[test_mask]\n",
    "    productos_test = productos_list[test_mask]\n",
    "    \n",
    "    sets[grupo][\"X\"] = X\n",
    "    sets[grupo][\"y\"] = y\n",
    "    sets[grupo][\"X_train\"] = X_train\n",
    "    sets[grupo][\"X_test\"] = X_test\n",
    "    sets[grupo][\"y_train\"] = y_train\n",
    "    sets[grupo][\"y_test\"] = y_test\n",
    "    sets[grupo][\"productos_train\"] = productos_train\n",
    "    print(f\"grupo {grupo}: {len(productos_train)} productos, {len(X_train)} muestras de entrenamiento, {len(X_test)} muestras de test\")\n",
    "    \n",
    "    \n",
    "    \n",
    "# ================================\n"
   ]
  },
  {
   "cell_type": "code",
   "execution_count": 31,
   "id": "e8dbdc91",
   "metadata": {},
   "outputs": [
    {
     "name": "stdout",
     "output_type": "stream",
     "text": [
      "Epoch 1/150\n",
      "6/6 [==============================] - 7s 329ms/step - loss: 1.0713 - custom_mape_loss: 1.0405 - val_loss: 1.0478 - val_custom_mape_loss: 1.0168 - lr: 0.0010\n",
      "Epoch 2/150\n",
      "6/6 [==============================] - 0s 43ms/step - loss: 1.0434 - custom_mape_loss: 1.0144 - val_loss: 1.0321 - val_custom_mape_loss: 1.0020 - lr: 0.0010\n",
      "Epoch 3/150\n",
      "6/6 [==============================] - 0s 42ms/step - loss: 1.0374 - custom_mape_loss: 1.0079 - val_loss: 1.0383 - val_custom_mape_loss: 1.0090 - lr: 0.0010\n",
      "Epoch 4/150\n",
      "6/6 [==============================] - 0s 41ms/step - loss: 1.0481 - custom_mape_loss: 1.0172 - val_loss: 1.0302 - val_custom_mape_loss: 1.0016 - lr: 0.0010\n",
      "Epoch 5/150\n",
      "6/6 [==============================] - 0s 34ms/step - loss: 1.0410 - custom_mape_loss: 1.0189 - val_loss: 1.0736 - val_custom_mape_loss: 1.0458 - lr: 0.0010\n",
      "Epoch 6/150\n",
      "6/6 [==============================] - 0s 31ms/step - loss: 1.0518 - custom_mape_loss: 1.0223 - val_loss: 1.0285 - val_custom_mape_loss: 1.0014 - lr: 0.0010\n",
      "Epoch 7/150\n",
      "6/6 [==============================] - 0s 31ms/step - loss: 1.0329 - custom_mape_loss: 1.0069 - val_loss: 1.0277 - val_custom_mape_loss: 1.0013 - lr: 0.0010\n",
      "Epoch 8/150\n",
      "6/6 [==============================] - 0s 31ms/step - loss: 1.0324 - custom_mape_loss: 1.0071 - val_loss: 1.0501 - val_custom_mape_loss: 1.0244 - lr: 0.0010\n",
      "Epoch 9/150\n",
      "6/6 [==============================] - 0s 31ms/step - loss: 1.0353 - custom_mape_loss: 1.0110 - val_loss: 1.0399 - val_custom_mape_loss: 1.0151 - lr: 0.0010\n",
      "Epoch 10/150\n",
      "6/6 [==============================] - 0s 32ms/step - loss: 1.0364 - custom_mape_loss: 1.0110 - val_loss: 1.0261 - val_custom_mape_loss: 1.0020 - lr: 0.0010\n",
      "Epoch 11/150\n",
      "6/6 [==============================] - 0s 32ms/step - loss: 1.0349 - custom_mape_loss: 1.0102 - val_loss: 1.0238 - val_custom_mape_loss: 1.0006 - lr: 0.0010\n",
      "Epoch 12/150\n",
      "6/6 [==============================] - 0s 32ms/step - loss: 1.0312 - custom_mape_loss: 1.0099 - val_loss: 1.0365 - val_custom_mape_loss: 1.0141 - lr: 0.0010\n",
      "Epoch 13/150\n",
      "6/6 [==============================] - 0s 31ms/step - loss: 1.0302 - custom_mape_loss: 1.0077 - val_loss: 1.0328 - val_custom_mape_loss: 1.0112 - lr: 0.0010\n",
      "Epoch 14/150\n",
      "6/6 [==============================] - 0s 32ms/step - loss: 1.0269 - custom_mape_loss: 1.0053 - val_loss: 1.0222 - val_custom_mape_loss: 1.0014 - lr: 0.0010\n",
      "Epoch 15/150\n",
      "6/6 [==============================] - 0s 36ms/step - loss: 1.0286 - custom_mape_loss: 1.0083 - val_loss: 1.0221 - val_custom_mape_loss: 1.0021 - lr: 0.0010\n",
      "Epoch 16/150\n",
      "6/6 [==============================] - 0s 30ms/step - loss: 1.0279 - custom_mape_loss: 1.0080 - val_loss: 1.0290 - val_custom_mape_loss: 1.0098 - lr: 0.0010\n",
      "Epoch 17/150\n",
      "6/6 [==============================] - 0s 29ms/step - loss: 1.0263 - custom_mape_loss: 1.0074 - val_loss: 1.0355 - val_custom_mape_loss: 1.0170 - lr: 0.0010\n",
      "Epoch 18/150\n",
      "6/6 [==============================] - 0s 31ms/step - loss: 1.0284 - custom_mape_loss: 1.0105 - val_loss: 1.0262 - val_custom_mape_loss: 1.0084 - lr: 0.0010\n",
      "Epoch 19/150\n",
      "6/6 [==============================] - 0s 31ms/step - loss: 1.0231 - custom_mape_loss: 1.0055 - val_loss: 1.0282 - val_custom_mape_loss: 1.0109 - lr: 0.0010\n",
      "Epoch 20/150\n",
      "6/6 [==============================] - 0s 31ms/step - loss: 1.0236 - custom_mape_loss: 1.0067 - val_loss: 1.0169 - val_custom_mape_loss: 1.0003 - lr: 0.0010\n",
      "Epoch 21/150\n",
      "6/6 [==============================] - 0s 31ms/step - loss: 1.0199 - custom_mape_loss: 1.0036 - val_loss: 1.0218 - val_custom_mape_loss: 1.0058 - lr: 0.0010\n",
      "Epoch 22/150\n",
      "6/6 [==============================] - 0s 30ms/step - loss: 1.0227 - custom_mape_loss: 1.0063 - val_loss: 1.0183 - val_custom_mape_loss: 1.0029 - lr: 0.0010\n",
      "Epoch 23/150\n",
      "6/6 [==============================] - 0s 32ms/step - loss: 1.0205 - custom_mape_loss: 1.0051 - val_loss: 1.0250 - val_custom_mape_loss: 1.0102 - lr: 0.0010\n",
      "Epoch 24/150\n",
      "6/6 [==============================] - 0s 30ms/step - loss: 1.0206 - custom_mape_loss: 1.0062 - val_loss: 1.0163 - val_custom_mape_loss: 1.0022 - lr: 0.0010\n",
      "Epoch 25/150\n",
      "6/6 [==============================] - 0s 31ms/step - loss: 1.0180 - custom_mape_loss: 1.0039 - val_loss: 1.0145 - val_custom_mape_loss: 1.0010 - lr: 0.0010\n",
      "Epoch 26/150\n",
      "6/6 [==============================] - 0s 30ms/step - loss: 1.0161 - custom_mape_loss: 1.0028 - val_loss: 1.0153 - val_custom_mape_loss: 1.0024 - lr: 0.0010\n",
      "Epoch 27/150\n",
      "6/6 [==============================] - 0s 30ms/step - loss: 1.0150 - custom_mape_loss: 1.0024 - val_loss: 1.0153 - val_custom_mape_loss: 1.0030 - lr: 0.0010\n",
      "Epoch 28/150\n",
      "6/6 [==============================] - 0s 30ms/step - loss: 1.0145 - custom_mape_loss: 1.0027 - val_loss: 1.0121 - val_custom_mape_loss: 1.0004 - lr: 0.0010\n",
      "Epoch 29/150\n",
      "6/6 [==============================] - 0s 33ms/step - loss: 1.0134 - custom_mape_loss: 1.0028 - val_loss: 1.0171 - val_custom_mape_loss: 1.0060 - lr: 0.0010\n",
      "Epoch 30/150\n",
      "6/6 [==============================] - 0s 33ms/step - loss: 1.0158 - custom_mape_loss: 1.0045 - val_loss: 1.0106 - val_custom_mape_loss: 1.0002 - lr: 0.0010\n",
      "Epoch 31/150\n",
      "6/6 [==============================] - 0s 30ms/step - loss: 1.0125 - custom_mape_loss: 1.0021 - val_loss: 1.0115 - val_custom_mape_loss: 1.0018 - lr: 0.0010\n",
      "Epoch 32/150\n",
      "6/6 [==============================] - 0s 31ms/step - loss: 1.0115 - custom_mape_loss: 1.0020 - val_loss: 1.0140 - val_custom_mape_loss: 1.0049 - lr: 0.0010\n",
      "Epoch 33/150\n",
      "6/6 [==============================] - 0s 31ms/step - loss: 1.0116 - custom_mape_loss: 1.0026 - val_loss: 1.0127 - val_custom_mape_loss: 1.0042 - lr: 0.0010\n",
      "Epoch 34/150\n",
      "6/6 [==============================] - 0s 32ms/step - loss: 1.0115 - custom_mape_loss: 1.0030 - val_loss: 1.0086 - val_custom_mape_loss: 1.0006 - lr: 0.0010\n",
      "Epoch 35/150\n",
      "6/6 [==============================] - 0s 31ms/step - loss: 1.0098 - custom_mape_loss: 1.0019 - val_loss: 1.0097 - val_custom_mape_loss: 1.0023 - lr: 0.0010\n",
      "Epoch 36/150\n",
      "6/6 [==============================] - 0s 32ms/step - loss: 1.0088 - custom_mape_loss: 1.0020 - val_loss: 1.0072 - val_custom_mape_loss: 1.0004 - lr: 0.0010\n",
      "Epoch 37/150\n",
      "6/6 [==============================] - 0s 31ms/step - loss: 1.0086 - custom_mape_loss: 1.0019 - val_loss: 1.0074 - val_custom_mape_loss: 1.0012 - lr: 0.0010\n",
      "Epoch 38/150\n",
      "6/6 [==============================] - 0s 31ms/step - loss: 1.0080 - custom_mape_loss: 1.0023 - val_loss: 1.0077 - val_custom_mape_loss: 1.0019 - lr: 0.0010\n",
      "Epoch 39/150\n",
      "6/6 [==============================] - 0s 30ms/step - loss: 1.0086 - custom_mape_loss: 1.0030 - val_loss: 1.0074 - val_custom_mape_loss: 1.0021 - lr: 0.0010\n",
      "Epoch 40/150\n",
      "6/6 [==============================] - 0s 37ms/step - loss: 1.0071 - custom_mape_loss: 1.0019 - val_loss: 1.0059 - val_custom_mape_loss: 1.0011 - lr: 0.0010\n",
      "Epoch 41/150\n",
      "6/6 [==============================] - 0s 31ms/step - loss: 1.0066 - custom_mape_loss: 1.0023 - val_loss: 1.0059 - val_custom_mape_loss: 1.0016 - lr: 0.0010\n",
      "Epoch 42/150\n",
      "6/6 [==============================] - 0s 32ms/step - loss: 1.0061 - custom_mape_loss: 1.0019 - val_loss: 1.0050 - val_custom_mape_loss: 1.0011 - lr: 0.0010\n",
      "Epoch 43/150\n",
      "6/6 [==============================] - 0s 31ms/step - loss: 1.0083 - custom_mape_loss: 1.0046 - val_loss: 1.0069 - val_custom_mape_loss: 1.0033 - lr: 0.0010\n",
      "Epoch 44/150\n",
      "6/6 [==============================] - 0s 39ms/step - loss: 1.0068 - custom_mape_loss: 1.0039 - val_loss: 1.0040 - val_custom_mape_loss: 1.0006 - lr: 0.0010\n",
      "Epoch 45/150\n",
      "6/6 [==============================] - 0s 30ms/step - loss: 1.0043 - custom_mape_loss: 1.0010 - val_loss: 1.0060 - val_custom_mape_loss: 1.0029 - lr: 0.0010\n",
      "Epoch 46/150\n",
      "6/6 [==============================] - 0s 30ms/step - loss: 1.0051 - custom_mape_loss: 1.0020 - val_loss: 1.0060 - val_custom_mape_loss: 1.0031 - lr: 0.0010\n",
      "Epoch 47/150\n",
      "6/6 [==============================] - 0s 31ms/step - loss: 1.0049 - custom_mape_loss: 1.0024 - val_loss: 1.0030 - val_custom_mape_loss: 1.0003 - lr: 0.0010\n",
      "Epoch 48/150\n",
      "6/6 [==============================] - 0s 31ms/step - loss: 1.0039 - custom_mape_loss: 1.0013 - val_loss: 1.0036 - val_custom_mape_loss: 1.0011 - lr: 0.0010\n",
      "Epoch 49/150\n",
      "6/6 [==============================] - 0s 31ms/step - loss: 1.0051 - custom_mape_loss: 1.0025 - val_loss: 1.0048 - val_custom_mape_loss: 1.0025 - lr: 0.0010\n",
      "Epoch 50/150\n",
      "6/6 [==============================] - 0s 32ms/step - loss: 1.0062 - custom_mape_loss: 1.0037 - val_loss: 1.0039 - val_custom_mape_loss: 1.0018 - lr: 0.0010\n",
      "Epoch 51/150\n",
      "6/6 [==============================] - 0s 30ms/step - loss: 1.0032 - custom_mape_loss: 1.0013 - val_loss: 1.0078 - val_custom_mape_loss: 1.0059 - lr: 0.0010\n",
      "Epoch 52/150\n",
      "6/6 [==============================] - 0s 30ms/step - loss: 1.0055 - custom_mape_loss: 1.0048 - val_loss: 1.0098 - val_custom_mape_loss: 1.0081 - lr: 0.0010\n",
      "Epoch 53/150\n",
      "6/6 [==============================] - 0s 30ms/step - loss: 1.0061 - custom_mape_loss: 1.0046 - val_loss: 1.0026 - val_custom_mape_loss: 1.0009 - lr: 0.0010\n",
      "Epoch 54/150\n",
      "6/6 [==============================] - 0s 30ms/step - loss: 1.0040 - custom_mape_loss: 1.0026 - val_loss: 1.0038 - val_custom_mape_loss: 1.0023 - lr: 0.0010\n",
      "Epoch 55/150\n",
      "6/6 [==============================] - 0s 30ms/step - loss: 1.0038 - custom_mape_loss: 1.0024 - val_loss: 1.0051 - val_custom_mape_loss: 1.0037 - lr: 0.0010\n",
      "Epoch 56/150\n",
      "6/6 [==============================] - 0s 32ms/step - loss: 1.0043 - custom_mape_loss: 1.0028 - val_loss: 1.0023 - val_custom_mape_loss: 1.0010 - lr: 0.0010\n",
      "Epoch 57/150\n",
      "6/6 [==============================] - 0s 30ms/step - loss: 1.0033 - custom_mape_loss: 1.0019 - val_loss: 1.0026 - val_custom_mape_loss: 1.0015 - lr: 0.0010\n",
      "Epoch 58/150\n",
      "6/6 [==============================] - 0s 30ms/step - loss: 1.0047 - custom_mape_loss: 1.0053 - val_loss: 1.0039 - val_custom_mape_loss: 1.0028 - lr: 0.0010\n",
      "Epoch 59/150\n",
      "6/6 [==============================] - 0s 29ms/step - loss: 1.0049 - custom_mape_loss: 1.0037 - val_loss: 1.0032 - val_custom_mape_loss: 1.0022 - lr: 0.0010\n",
      "Epoch 60/150\n",
      "6/6 [==============================] - 0s 31ms/step - loss: 1.0026 - custom_mape_loss: 1.0016 - val_loss: 1.0019 - val_custom_mape_loss: 1.0011 - lr: 0.0010\n",
      "Epoch 61/150\n",
      "6/6 [==============================] - 0s 29ms/step - loss: 1.0036 - custom_mape_loss: 1.0025 - val_loss: 1.0022 - val_custom_mape_loss: 1.0014 - lr: 0.0010\n",
      "Epoch 62/150\n",
      "6/6 [==============================] - 0s 30ms/step - loss: 1.0027 - custom_mape_loss: 1.0018 - val_loss: 1.0011 - val_custom_mape_loss: 1.0004 - lr: 0.0010\n",
      "Epoch 63/150\n",
      "6/6 [==============================] - 0s 31ms/step - loss: 1.0026 - custom_mape_loss: 1.0021 - val_loss: 1.0010 - val_custom_mape_loss: 1.0003 - lr: 0.0010\n",
      "Epoch 64/150\n",
      "6/6 [==============================] - 0s 31ms/step - loss: 1.0037 - custom_mape_loss: 1.0030 - val_loss: 1.0021 - val_custom_mape_loss: 1.0015 - lr: 0.0010\n",
      "Epoch 65/150\n",
      "6/6 [==============================] - 0s 29ms/step - loss: 1.0024 - custom_mape_loss: 1.0021 - val_loss: 1.0019 - val_custom_mape_loss: 1.0014 - lr: 0.0010\n",
      "Epoch 66/150\n",
      "6/6 [==============================] - 0s 30ms/step - loss: 1.0029 - custom_mape_loss: 1.0031 - val_loss: 1.0040 - val_custom_mape_loss: 1.0035 - lr: 0.0010\n",
      "Epoch 67/150\n",
      "6/6 [==============================] - 0s 31ms/step - loss: 1.0028 - custom_mape_loss: 1.0023 - val_loss: 1.0006 - val_custom_mape_loss: 1.0001 - lr: 0.0010\n",
      "Epoch 68/150\n",
      "6/6 [==============================] - 0s 28ms/step - loss: 1.0025 - custom_mape_loss: 1.0023 - val_loss: 1.0069 - val_custom_mape_loss: 1.0065 - lr: 0.0010\n",
      "Epoch 69/150\n",
      "6/6 [==============================] - 0s 30ms/step - loss: 1.0035 - custom_mape_loss: 1.0029 - val_loss: 1.0024 - val_custom_mape_loss: 1.0020 - lr: 0.0010\n",
      "Epoch 70/150\n",
      "6/6 [==============================] - 0s 30ms/step - loss: 1.0018 - custom_mape_loss: 1.0017 - val_loss: 1.0076 - val_custom_mape_loss: 1.0072 - lr: 0.0010\n",
      "Epoch 71/150\n",
      "6/6 [==============================] - 0s 33ms/step - loss: 1.0046 - custom_mape_loss: 1.0040 - val_loss: 1.0025 - val_custom_mape_loss: 1.0021 - lr: 0.0010\n",
      "Epoch 72/150\n",
      "6/6 [==============================] - 0s 29ms/step - loss: 1.0024 - custom_mape_loss: 1.0019 - val_loss: 1.0007 - val_custom_mape_loss: 1.0003 - lr: 0.0010\n",
      "Epoch 73/150\n",
      "6/6 [==============================] - 0s 29ms/step - loss: 1.0020 - custom_mape_loss: 1.0016 - val_loss: 1.0092 - val_custom_mape_loss: 1.0089 - lr: 0.0010\n",
      "Epoch 74/150\n",
      "6/6 [==============================] - 0s 30ms/step - loss: 1.0041 - custom_mape_loss: 1.0036 - val_loss: 1.0004 - val_custom_mape_loss: 1.0001 - lr: 0.0010\n",
      "Epoch 75/150\n",
      "6/6 [==============================] - 0s 29ms/step - loss: 1.0029 - custom_mape_loss: 1.0023 - val_loss: 1.0027 - val_custom_mape_loss: 1.0024 - lr: 0.0010\n",
      "Epoch 76/150\n",
      "6/6 [==============================] - 0s 28ms/step - loss: 1.0020 - custom_mape_loss: 1.0017 - val_loss: 1.0040 - val_custom_mape_loss: 1.0037 - lr: 0.0010\n",
      "Epoch 77/150\n",
      "6/6 [==============================] - 0s 29ms/step - loss: 1.0027 - custom_mape_loss: 1.0023 - val_loss: 1.0007 - val_custom_mape_loss: 1.0004 - lr: 0.0010\n",
      "Epoch 78/150\n",
      "6/6 [==============================] - 0s 28ms/step - loss: 1.0019 - custom_mape_loss: 1.0016 - val_loss: 1.0023 - val_custom_mape_loss: 1.0021 - lr: 0.0010\n",
      "Epoch 79/150\n",
      "6/6 [==============================] - 0s 30ms/step - loss: 1.0032 - custom_mape_loss: 1.0027 - val_loss: 1.0010 - val_custom_mape_loss: 1.0008 - lr: 0.0010\n",
      "Epoch 80/150\n",
      "6/6 [==============================] - 0s 29ms/step - loss: 1.0024 - custom_mape_loss: 1.0021 - val_loss: 1.0037 - val_custom_mape_loss: 1.0034 - lr: 0.0010\n",
      "Epoch 81/150\n",
      "6/6 [==============================] - 0s 29ms/step - loss: 1.0022 - custom_mape_loss: 1.0024 - val_loss: 1.0024 - val_custom_mape_loss: 1.0022 - lr: 0.0010\n",
      "Epoch 82/150\n",
      "6/6 [==============================] - 0s 33ms/step - loss: 1.0023 - custom_mape_loss: 1.0030 - val_loss: 1.0036 - val_custom_mape_loss: 1.0034 - lr: 0.0010\n",
      "Epoch 83/150\n",
      "6/6 [==============================] - 0s 30ms/step - loss: 1.0020 - custom_mape_loss: 1.0019 - val_loss: 1.0009 - val_custom_mape_loss: 1.0006 - lr: 0.0010\n",
      "Epoch 84/150\n",
      "6/6 [==============================] - 0s 30ms/step - loss: 1.0044 - custom_mape_loss: 1.0038 - val_loss: 1.0004 - val_custom_mape_loss: 1.0002 - lr: 0.0010\n",
      "Epoch 85/150\n",
      "6/6 [==============================] - 0s 29ms/step - loss: 1.0013 - custom_mape_loss: 1.0014 - val_loss: 1.0025 - val_custom_mape_loss: 1.0023 - lr: 0.0010\n",
      "Epoch 86/150\n",
      "6/6 [==============================] - 0s 29ms/step - loss: 1.0019 - custom_mape_loss: 1.0017 - val_loss: 1.0004 - val_custom_mape_loss: 1.0003 - lr: 0.0010\n",
      "Epoch 87/150\n",
      "6/6 [==============================] - 0s 30ms/step - loss: 1.0020 - custom_mape_loss: 1.0017 - val_loss: 1.0020 - val_custom_mape_loss: 1.0018 - lr: 0.0010\n",
      "Epoch 88/150\n",
      "6/6 [==============================] - 0s 29ms/step - loss: 1.0032 - custom_mape_loss: 1.0028 - val_loss: 1.0016 - val_custom_mape_loss: 1.0014 - lr: 0.0010\n",
      "Epoch 89/150\n",
      "6/6 [==============================] - 0s 29ms/step - loss: 1.0017 - custom_mape_loss: 1.0015 - val_loss: 1.0019 - val_custom_mape_loss: 1.0017 - lr: 0.0010\n",
      "Epoch 90/150\n",
      "6/6 [==============================] - 0s 31ms/step - loss: 1.0013 - custom_mape_loss: 1.0010 - val_loss: 1.0003 - val_custom_mape_loss: 1.0002 - lr: 1.0000e-04\n",
      "Epoch 91/150\n",
      "6/6 [==============================] - 0s 29ms/step - loss: 1.0004 - custom_mape_loss: 1.0002 - val_loss: 1.0003 - val_custom_mape_loss: 1.0002 - lr: 1.0000e-04\n",
      "Epoch 92/150\n",
      "6/6 [==============================] - 0s 31ms/step - loss: 1.0004 - custom_mape_loss: 1.0002 - val_loss: 1.0003 - val_custom_mape_loss: 1.0001 - lr: 1.0000e-04\n",
      "Epoch 93/150\n",
      "6/6 [==============================] - 0s 31ms/step - loss: 1.0005 - custom_mape_loss: 1.0003 - val_loss: 1.0004 - val_custom_mape_loss: 1.0003 - lr: 1.0000e-04\n",
      "Epoch 94/150\n",
      "6/6 [==============================] - 0s 38ms/step - loss: 1.0005 - custom_mape_loss: 1.0003 - val_loss: 1.0004 - val_custom_mape_loss: 1.0003 - lr: 1.0000e-04\n",
      "Epoch 95/150\n",
      "6/6 [==============================] - 0s 32ms/step - loss: 1.0004 - custom_mape_loss: 1.0003 - val_loss: 1.0003 - val_custom_mape_loss: 1.0001 - lr: 1.0000e-04\n",
      "Epoch 96/150\n",
      "6/6 [==============================] - 0s 29ms/step - loss: 1.0005 - custom_mape_loss: 1.0005 - val_loss: 1.0008 - val_custom_mape_loss: 1.0006 - lr: 1.0000e-04\n",
      "Epoch 97/150\n",
      "6/6 [==============================] - 0s 30ms/step - loss: 1.0007 - custom_mape_loss: 1.0005 - val_loss: 1.0003 - val_custom_mape_loss: 1.0002 - lr: 1.0000e-04\n",
      "Epoch 98/150\n",
      "6/6 [==============================] - 0s 31ms/step - loss: 1.0003 - custom_mape_loss: 1.0001 - val_loss: 1.0002 - val_custom_mape_loss: 1.0001 - lr: 1.0000e-04\n",
      "Epoch 99/150\n",
      "6/6 [==============================] - 0s 29ms/step - loss: 1.0003 - custom_mape_loss: 1.0001 - val_loss: 1.0002 - val_custom_mape_loss: 1.0001 - lr: 1.0000e-04\n",
      "Epoch 100/150\n",
      "6/6 [==============================] - 0s 31ms/step - loss: 1.0004 - custom_mape_loss: 1.0002 - val_loss: 1.0002 - val_custom_mape_loss: 1.0000 - lr: 1.0000e-04\n",
      "Epoch 101/150\n",
      "6/6 [==============================] - 0s 29ms/step - loss: 1.0003 - custom_mape_loss: 1.0002 - val_loss: 1.0002 - val_custom_mape_loss: 1.0001 - lr: 1.0000e-04\n",
      "Epoch 102/150\n",
      "6/6 [==============================] - 0s 29ms/step - loss: 1.0003 - custom_mape_loss: 1.0002 - val_loss: 1.0003 - val_custom_mape_loss: 1.0001 - lr: 1.0000e-04\n",
      "Epoch 103/150\n",
      "6/6 [==============================] - 0s 30ms/step - loss: 1.0005 - custom_mape_loss: 1.0003 - val_loss: 1.0002 - val_custom_mape_loss: 1.0001 - lr: 1.0000e-04\n",
      "Epoch 104/150\n",
      "6/6 [==============================] - 0s 30ms/step - loss: 1.0003 - custom_mape_loss: 1.0003 - val_loss: 1.0005 - val_custom_mape_loss: 1.0003 - lr: 1.0000e-04\n",
      "Epoch 105/150\n",
      "6/6 [==============================] - 0s 29ms/step - loss: 1.0004 - custom_mape_loss: 1.0003 - val_loss: 1.0004 - val_custom_mape_loss: 1.0002 - lr: 1.0000e-04\n",
      "Epoch 106/150\n",
      "6/6 [==============================] - 0s 34ms/step - loss: 1.0005 - custom_mape_loss: 1.0003 - val_loss: 1.0002 - val_custom_mape_loss: 1.0001 - lr: 1.0000e-04\n",
      "Epoch 107/150\n",
      "6/6 [==============================] - 0s 29ms/step - loss: 1.0003 - custom_mape_loss: 1.0001 - val_loss: 1.0002 - val_custom_mape_loss: 1.0001 - lr: 1.0000e-04\n",
      "Epoch 108/150\n",
      "6/6 [==============================] - 0s 30ms/step - loss: 1.0003 - custom_mape_loss: 1.0001 - val_loss: 1.0002 - val_custom_mape_loss: 1.0000 - lr: 1.0000e-05\n",
      "Epoch 109/150\n",
      "6/6 [==============================] - 0s 29ms/step - loss: 1.0002 - custom_mape_loss: 1.0001 - val_loss: 1.0002 - val_custom_mape_loss: 1.0000 - lr: 1.0000e-05\n",
      "Epoch 110/150\n",
      "6/6 [==============================] - 0s 30ms/step - loss: 1.0002 - custom_mape_loss: 1.0000 - val_loss: 1.0002 - val_custom_mape_loss: 1.0000 - lr: 1.0000e-05\n",
      "Epoch 111/150\n",
      "6/6 [==============================] - 0s 30ms/step - loss: 1.0002 - custom_mape_loss: 1.0001 - val_loss: 1.0002 - val_custom_mape_loss: 1.0000 - lr: 1.0000e-05\n",
      "Epoch 112/150\n",
      "6/6 [==============================] - 0s 29ms/step - loss: 1.0002 - custom_mape_loss: 1.0000 - val_loss: 1.0002 - val_custom_mape_loss: 1.0000 - lr: 1.0000e-05\n",
      "Epoch 113/150\n",
      "6/6 [==============================] - 0s 29ms/step - loss: 1.0002 - custom_mape_loss: 1.0000 - val_loss: 1.0002 - val_custom_mape_loss: 1.0000 - lr: 1.0000e-05\n",
      "Epoch 114/150\n",
      "6/6 [==============================] - 0s 31ms/step - loss: 1.0002 - custom_mape_loss: 1.0000 - val_loss: 1.0002 - val_custom_mape_loss: 1.0000 - lr: 1.0000e-05\n",
      "Epoch 115/150\n",
      "6/6 [==============================] - 0s 29ms/step - loss: 1.0002 - custom_mape_loss: 1.0000 - val_loss: 1.0002 - val_custom_mape_loss: 1.0000 - lr: 1.0000e-05\n",
      "Epoch 116/150\n",
      "6/6 [==============================] - 0s 32ms/step - loss: 1.0002 - custom_mape_loss: 1.0000 - val_loss: 1.0002 - val_custom_mape_loss: 1.0000 - lr: 1.0000e-05\n",
      "Epoch 117/150\n",
      "6/6 [==============================] - 0s 34ms/step - loss: 1.0002 - custom_mape_loss: 1.0001 - val_loss: 1.0002 - val_custom_mape_loss: 1.0000 - lr: 1.0000e-05\n",
      "Epoch 118/150\n",
      "6/6 [==============================] - 0s 30ms/step - loss: 1.0002 - custom_mape_loss: 1.0000 - val_loss: 1.0002 - val_custom_mape_loss: 1.0000 - lr: 1.0000e-05\n",
      "Epoch 119/150\n",
      "6/6 [==============================] - 0s 30ms/step - loss: 1.0002 - custom_mape_loss: 1.0000 - val_loss: 1.0002 - val_custom_mape_loss: 1.0000 - lr: 1.0000e-05\n",
      "Epoch 120/150\n",
      "6/6 [==============================] - 0s 30ms/step - loss: 1.0002 - custom_mape_loss: 1.0000 - val_loss: 1.0002 - val_custom_mape_loss: 1.0000 - lr: 1.0000e-05\n",
      "Epoch 121/150\n",
      "6/6 [==============================] - 0s 29ms/step - loss: 1.0002 - custom_mape_loss: 1.0000 - val_loss: 1.0002 - val_custom_mape_loss: 1.0000 - lr: 1.0000e-05\n",
      "Epoch 122/150\n",
      "6/6 [==============================] - 0s 29ms/step - loss: 1.0002 - custom_mape_loss: 1.0000 - val_loss: 1.0002 - val_custom_mape_loss: 1.0000 - lr: 1.0000e-05\n",
      "Epoch 123/150\n",
      "6/6 [==============================] - 0s 29ms/step - loss: 1.0002 - custom_mape_loss: 1.0000 - val_loss: 1.0002 - val_custom_mape_loss: 1.0000 - lr: 1.0000e-06\n",
      "Epoch 124/150\n",
      "6/6 [==============================] - 0s 30ms/step - loss: 1.0002 - custom_mape_loss: 1.0000 - val_loss: 1.0002 - val_custom_mape_loss: 1.0000 - lr: 1.0000e-06\n",
      "Epoch 125/150\n",
      "6/6 [==============================] - 0s 30ms/step - loss: 1.0002 - custom_mape_loss: 1.0000 - val_loss: 1.0002 - val_custom_mape_loss: 1.0000 - lr: 1.0000e-06\n",
      "Epoch 126/150\n",
      "6/6 [==============================] - 0s 28ms/step - loss: 1.0002 - custom_mape_loss: 1.0000 - val_loss: 1.0002 - val_custom_mape_loss: 1.0000 - lr: 1.0000e-06\n",
      "Epoch 127/150\n",
      "6/6 [==============================] - 0s 29ms/step - loss: 1.0002 - custom_mape_loss: 1.0000 - val_loss: 1.0002 - val_custom_mape_loss: 1.0000 - lr: 1.0000e-06\n",
      "Epoch 128/150\n",
      "6/6 [==============================] - 0s 34ms/step - loss: 1.0002 - custom_mape_loss: 1.0001 - val_loss: 1.0002 - val_custom_mape_loss: 1.0000 - lr: 1.0000e-06\n",
      "Epoch 129/150\n",
      "6/6 [==============================] - 0s 30ms/step - loss: 1.0002 - custom_mape_loss: 1.0000 - val_loss: 1.0002 - val_custom_mape_loss: 1.0000 - lr: 1.0000e-06\n",
      "Epoch 130/150\n",
      "6/6 [==============================] - 0s 29ms/step - loss: 1.0002 - custom_mape_loss: 1.0000 - val_loss: 1.0002 - val_custom_mape_loss: 1.0000 - lr: 1.0000e-06\n",
      "Epoch 131/150\n",
      "6/6 [==============================] - 0s 29ms/step - loss: 1.0002 - custom_mape_loss: 1.0000 - val_loss: 1.0002 - val_custom_mape_loss: 1.0000 - lr: 1.0000e-06\n",
      "Epoch 132/150\n",
      "6/6 [==============================] - 0s 29ms/step - loss: 1.0002 - custom_mape_loss: 1.0000 - val_loss: 1.0002 - val_custom_mape_loss: 1.0000 - lr: 1.0000e-06\n",
      "Epoch 133/150\n",
      "6/6 [==============================] - 0s 37ms/step - loss: 1.0002 - custom_mape_loss: 1.0000 - val_loss: 1.0002 - val_custom_mape_loss: 1.0000 - lr: 1.0000e-06\n",
      "Epoch 134/150\n",
      "6/6 [==============================] - 0s 30ms/step - loss: 1.0002 - custom_mape_loss: 1.0000 - val_loss: 1.0002 - val_custom_mape_loss: 1.0000 - lr: 1.0000e-06\n",
      "Epoch 135/150\n",
      "6/6 [==============================] - 0s 30ms/step - loss: 1.0002 - custom_mape_loss: 1.0000 - val_loss: 1.0002 - val_custom_mape_loss: 1.0000 - lr: 1.0000e-06\n",
      "Epoch 136/150\n",
      "6/6 [==============================] - 0s 31ms/step - loss: 1.0002 - custom_mape_loss: 1.0001 - val_loss: 1.0002 - val_custom_mape_loss: 1.0000 - lr: 1.0000e-06\n",
      "Epoch 137/150\n",
      "6/6 [==============================] - 0s 29ms/step - loss: 1.0002 - custom_mape_loss: 1.0002 - val_loss: 1.0002 - val_custom_mape_loss: 1.0000 - lr: 1.0000e-06\n",
      "Epoch 138/150\n",
      "6/6 [==============================] - 0s 29ms/step - loss: 1.0002 - custom_mape_loss: 1.0000 - val_loss: 1.0002 - val_custom_mape_loss: 1.0000 - lr: 1.0000e-06\n",
      "Epoch 139/150\n",
      "6/6 [==============================] - 0s 34ms/step - loss: 1.0002 - custom_mape_loss: 1.0000 - val_loss: 1.0002 - val_custom_mape_loss: 1.0000 - lr: 1.0000e-06\n",
      "Epoch 140/150\n",
      "6/6 [==============================] - 0s 30ms/step - loss: 1.0002 - custom_mape_loss: 1.0000 - val_loss: 1.0002 - val_custom_mape_loss: 1.0000 - lr: 1.0000e-06\n",
      "Epoch 141/150\n",
      "6/6 [==============================] - 0s 30ms/step - loss: 1.0002 - custom_mape_loss: 1.0001 - val_loss: 1.0002 - val_custom_mape_loss: 1.0000 - lr: 1.0000e-06\n",
      "Epoch 142/150\n",
      "6/6 [==============================] - 0s 30ms/step - loss: 1.0002 - custom_mape_loss: 1.0000 - val_loss: 1.0002 - val_custom_mape_loss: 1.0000 - lr: 1.0000e-06\n",
      "Epoch 143/150\n",
      "6/6 [==============================] - 0s 30ms/step - loss: 1.0002 - custom_mape_loss: 1.0000 - val_loss: 1.0002 - val_custom_mape_loss: 1.0000 - lr: 1.0000e-07\n",
      "Epoch 144/150\n",
      "6/6 [==============================] - 0s 29ms/step - loss: 1.0002 - custom_mape_loss: 1.0000 - val_loss: 1.0002 - val_custom_mape_loss: 1.0000 - lr: 1.0000e-07\n",
      "Epoch 145/150\n",
      "6/6 [==============================] - 0s 29ms/step - loss: 1.0002 - custom_mape_loss: 1.0000 - val_loss: 1.0002 - val_custom_mape_loss: 1.0000 - lr: 1.0000e-07\n",
      "Epoch 146/150\n",
      "6/6 [==============================] - 0s 30ms/step - loss: 1.0002 - custom_mape_loss: 1.0001 - val_loss: 1.0002 - val_custom_mape_loss: 1.0000 - lr: 1.0000e-07\n",
      "Epoch 147/150\n",
      "6/6 [==============================] - 0s 30ms/step - loss: 1.0002 - custom_mape_loss: 1.0000 - val_loss: 1.0002 - val_custom_mape_loss: 1.0000 - lr: 1.0000e-07\n",
      "Epoch 148/150\n",
      "6/6 [==============================] - 0s 30ms/step - loss: 1.0002 - custom_mape_loss: 1.0000 - val_loss: 1.0002 - val_custom_mape_loss: 1.0000 - lr: 1.0000e-07\n",
      "Epoch 149/150\n",
      "6/6 [==============================] - 0s 31ms/step - loss: 1.0002 - custom_mape_loss: 1.0000 - val_loss: 1.0002 - val_custom_mape_loss: 1.0000 - lr: 1.0000e-07\n",
      "Epoch 150/150\n",
      "6/6 [==============================] - 0s 32ms/step - loss: 1.0002 - custom_mape_loss: 1.0001 - val_loss: 1.0002 - val_custom_mape_loss: 1.0000 - lr: 1.0000e-07\n",
      "Epoch 1/150\n",
      "27/27 [==============================] - 7s 76ms/step - loss: 1.0329 - custom_mape_loss: 1.0048 - val_loss: 11626.0020 - val_custom_mape_loss: 34428.8164 - lr: 0.0010\n",
      "Epoch 2/150\n",
      "27/27 [==============================] - 1s 24ms/step - loss: 1.0233 - custom_mape_loss: 1.0008 - val_loss: 21145.7266 - val_custom_mape_loss: 62621.8555 - lr: 0.0010\n",
      "Epoch 3/150\n",
      "27/27 [==============================] - 1s 23ms/step - loss: 1.0181 - custom_mape_loss: 1.0008 - val_loss: 2265.9971 - val_custom_mape_loss: 6708.8311 - lr: 0.0010\n",
      "Epoch 4/150\n",
      "27/27 [==============================] - 1s 24ms/step - loss: 1.0136 - custom_mape_loss: 1.0008 - val_loss: 9791.5576 - val_custom_mape_loss: 28996.0781 - lr: 0.0010\n",
      "Epoch 5/150\n",
      "27/27 [==============================] - 1s 23ms/step - loss: 1.0098 - custom_mape_loss: 1.0006 - val_loss: 13080.4600 - val_custom_mape_loss: 38736.3008 - lr: 0.0010\n",
      "Epoch 6/150\n",
      "27/27 [==============================] - 1s 23ms/step - loss: 1.0071 - custom_mape_loss: 1.0009 - val_loss: 2836.6599 - val_custom_mape_loss: 8398.9004 - lr: 0.0010\n",
      "Epoch 7/150\n",
      "27/27 [==============================] - 1s 24ms/step - loss: 1.0049 - custom_mape_loss: 1.0008 - val_loss: 4019.1169 - val_custom_mape_loss: 11900.7969 - lr: 0.0010\n",
      "Epoch 8/150\n",
      "27/27 [==============================] - 1s 23ms/step - loss: 1.0031 - custom_mape_loss: 1.0006 - val_loss: 5383.0352 - val_custom_mape_loss: 15940.0977 - lr: 0.0010\n",
      "Epoch 9/150\n",
      "27/27 [==============================] - 1s 23ms/step - loss: 1.0021 - custom_mape_loss: 1.0006 - val_loss: 3339.3264 - val_custom_mape_loss: 9887.5791 - lr: 0.0010\n",
      "Epoch 10/150\n",
      "27/27 [==============================] - 1s 23ms/step - loss: 1.0014 - custom_mape_loss: 1.0007 - val_loss: 15.4409 - val_custom_mape_loss: 43.7662 - lr: 0.0010\n",
      "Epoch 11/150\n",
      "27/27 [==============================] - 1s 23ms/step - loss: 1.0009 - custom_mape_loss: 1.0006 - val_loss: 1363.6215 - val_custom_mape_loss: 4036.4556 - lr: 0.0010\n",
      "Epoch 12/150\n",
      "27/27 [==============================] - 1s 23ms/step - loss: 1.0007 - custom_mape_loss: 1.0006 - val_loss: 22296.9434 - val_custom_mape_loss: 66031.2891 - lr: 0.0010\n",
      "Epoch 13/150\n",
      "27/27 [==============================] - 1s 23ms/step - loss: 1.0007 - custom_mape_loss: 1.0006 - val_loss: 5641.6450 - val_custom_mape_loss: 16705.9863 - lr: 0.0010\n",
      "Epoch 14/150\n",
      "27/27 [==============================] - 1s 23ms/step - loss: 1.0007 - custom_mape_loss: 1.0007 - val_loss: 6686.2144 - val_custom_mape_loss: 19799.5195 - lr: 0.0010\n",
      "Epoch 15/150\n",
      "27/27 [==============================] - 1s 24ms/step - loss: 1.0006 - custom_mape_loss: 1.0006 - val_loss: 27465.1016 - val_custom_mape_loss: 81336.9766 - lr: 0.0010\n",
      "Epoch 16/150\n",
      "27/27 [==============================] - 1s 23ms/step - loss: 1.0006 - custom_mape_loss: 1.0006 - val_loss: 12151.0635 - val_custom_mape_loss: 35983.8789 - lr: 0.0010\n",
      "Epoch 17/150\n",
      "27/27 [==============================] - 1s 23ms/step - loss: 1.0007 - custom_mape_loss: 1.0007 - val_loss: 9089.3564 - val_custom_mape_loss: 26916.5176 - lr: 0.0010\n",
      "Epoch 18/150\n",
      "27/27 [==============================] - 1s 23ms/step - loss: 1.0006 - custom_mape_loss: 1.0006 - val_loss: 9880.1445 - val_custom_mape_loss: 29258.4648 - lr: 0.0010\n",
      "Epoch 19/150\n",
      "27/27 [==============================] - 1s 23ms/step - loss: 1.0006 - custom_mape_loss: 1.0006 - val_loss: 5157.9180 - val_custom_mape_loss: 15273.4102 - lr: 0.0010\n",
      "Epoch 20/150\n",
      "27/27 [==============================] - 1s 24ms/step - loss: 1.0007 - custom_mape_loss: 1.0006 - val_loss: 18920.4023 - val_custom_mape_loss: 56031.5391 - lr: 0.0010\n",
      "Epoch 21/150\n",
      "27/27 [==============================] - 1s 24ms/step - loss: 1.0006 - custom_mape_loss: 1.0006 - val_loss: 17590.0684 - val_custom_mape_loss: 52091.6992 - lr: 0.0010\n",
      "Epoch 22/150\n",
      "27/27 [==============================] - 1s 23ms/step - loss: 1.0006 - custom_mape_loss: 1.0007 - val_loss: 13559.3818 - val_custom_mape_loss: 40154.6680 - lr: 0.0010\n",
      "Epoch 23/150\n",
      "27/27 [==============================] - 1s 23ms/step - loss: 1.0006 - custom_mape_loss: 1.0006 - val_loss: 6862.4844 - val_custom_mape_loss: 20321.5488 - lr: 0.0010\n",
      "Epoch 24/150\n",
      "27/27 [==============================] - 1s 23ms/step - loss: 1.0006 - custom_mape_loss: 1.0006 - val_loss: 16741.0605 - val_custom_mape_loss: 49577.3320 - lr: 0.0010\n",
      "Epoch 25/150\n",
      "27/27 [==============================] - 1s 24ms/step - loss: 1.0007 - custom_mape_loss: 1.0007 - val_loss: 12059.0439 - val_custom_mape_loss: 35711.3594 - lr: 0.0010\n",
      "Epoch 26/150\n",
      "27/27 [==============================] - 1s 23ms/step - loss: 1.0001 - custom_mape_loss: 1.0001 - val_loss: 1718.0751 - val_custom_mape_loss: 5086.1841 - lr: 1.0000e-04\n",
      "Epoch 27/150\n",
      "27/27 [==============================] - 1s 23ms/step - loss: 1.0001 - custom_mape_loss: 1.0001 - val_loss: 720.7718 - val_custom_mape_loss: 2132.6316 - lr: 1.0000e-04\n",
      "Epoch 28/150\n",
      "27/27 [==============================] - 1s 24ms/step - loss: 1.0001 - custom_mape_loss: 1.0001 - val_loss: 991.3414 - val_custom_mape_loss: 2933.9343 - lr: 1.0000e-04\n",
      "Epoch 29/150\n",
      "27/27 [==============================] - 1s 23ms/step - loss: 1.0001 - custom_mape_loss: 1.0001 - val_loss: 424.1205 - val_custom_mape_loss: 1254.0878 - lr: 1.0000e-04\n",
      "Epoch 30/150\n",
      "27/27 [==============================] - 1s 24ms/step - loss: 1.0001 - custom_mape_loss: 1.0001 - val_loss: 1458.1279 - val_custom_mape_loss: 4316.3403 - lr: 1.0000e-04\n",
      "Epoch 31/150\n",
      "27/27 [==============================] - 1s 23ms/step - loss: 1.0001 - custom_mape_loss: 1.0001 - val_loss: 3072.9578 - val_custom_mape_loss: 9098.7207 - lr: 1.0000e-04\n",
      "Epoch 32/150\n",
      "27/27 [==============================] - 1s 23ms/step - loss: 1.0001 - custom_mape_loss: 1.0001 - val_loss: 893.4277 - val_custom_mape_loss: 2643.9590 - lr: 1.0000e-04\n",
      "Epoch 33/150\n",
      "27/27 [==============================] - 1s 23ms/step - loss: 1.0001 - custom_mape_loss: 1.0001 - val_loss: 800.2520 - val_custom_mape_loss: 2368.0154 - lr: 1.0000e-04\n",
      "Epoch 34/150\n",
      "27/27 [==============================] - 1s 25ms/step - loss: 1.0001 - custom_mape_loss: 1.0001 - val_loss: 989.3203 - val_custom_mape_loss: 2927.9482 - lr: 1.0000e-04\n",
      "Epoch 35/150\n",
      "27/27 [==============================] - 1s 24ms/step - loss: 1.0001 - custom_mape_loss: 1.0001 - val_loss: 856.7864 - val_custom_mape_loss: 2535.4441 - lr: 1.0000e-04\n",
      "Epoch 36/150\n",
      "27/27 [==============================] - 1s 23ms/step - loss: 1.0001 - custom_mape_loss: 1.0001 - val_loss: 2185.7874 - val_custom_mape_loss: 6471.3315 - lr: 1.0000e-04\n",
      "Epoch 37/150\n",
      "27/27 [==============================] - 1s 23ms/step - loss: 1.0001 - custom_mape_loss: 1.0001 - val_loss: 1386.7085 - val_custom_mape_loss: 4104.8291 - lr: 1.0000e-04\n",
      "Epoch 38/150\n",
      "27/27 [==============================] - 1s 23ms/step - loss: 1.0001 - custom_mape_loss: 1.0001 - val_loss: 948.4020 - val_custom_mape_loss: 2806.7673 - lr: 1.0000e-04\n",
      "Epoch 39/150\n",
      "27/27 [==============================] - 1s 23ms/step - loss: 1.0001 - custom_mape_loss: 1.0001 - val_loss: 24.7002 - val_custom_mape_loss: 71.1890 - lr: 1.0000e-04\n",
      "Epoch 40/150\n",
      "27/27 [==============================] - 1s 25ms/step - loss: 1.0001 - custom_mape_loss: 1.0001 - val_loss: 1336.2568 - val_custom_mape_loss: 3955.4141 - lr: 1.0000e-04\n",
      "Epoch 1/150\n",
      "38/38 [==============================] - 8s 60ms/step - loss: 1.0320 - custom_mape_loss: 1.0033 - val_loss: 1.0278 - val_custom_mape_loss: 1.0030 - lr: 0.0010\n",
      "Epoch 2/150\n",
      "38/38 [==============================] - 1s 25ms/step - loss: 1.0228 - custom_mape_loss: 1.0012 - val_loss: 1.0199 - val_custom_mape_loss: 1.0016 - lr: 0.0010\n",
      "Epoch 3/150\n",
      "38/38 [==============================] - 1s 23ms/step - loss: 1.0164 - custom_mape_loss: 1.0009 - val_loss: 1.0129 - val_custom_mape_loss: 1.0004 - lr: 0.0010\n",
      "Epoch 4/150\n",
      "38/38 [==============================] - 1s 23ms/step - loss: 1.0107 - custom_mape_loss: 1.0005 - val_loss: 1.0085 - val_custom_mape_loss: 1.0009 - lr: 0.0010\n",
      "Epoch 5/150\n",
      "38/38 [==============================] - 1s 23ms/step - loss: 1.0066 - custom_mape_loss: 1.0003 - val_loss: 1.0052 - val_custom_mape_loss: 1.0008 - lr: 0.0010\n",
      "Epoch 6/150\n",
      "38/38 [==============================] - 1s 23ms/step - loss: 1.0039 - custom_mape_loss: 1.0003 - val_loss: 1.0029 - val_custom_mape_loss: 1.0004 - lr: 0.0010\n",
      "Epoch 7/150\n",
      "38/38 [==============================] - 1s 23ms/step - loss: 1.0023 - custom_mape_loss: 1.0003 - val_loss: 1.0017 - val_custom_mape_loss: 1.0003 - lr: 0.0010\n",
      "Epoch 8/150\n",
      "38/38 [==============================] - 1s 24ms/step - loss: 1.0011 - custom_mape_loss: 0.9999 - val_loss: 1.0011 - val_custom_mape_loss: 1.0001 - lr: 0.0010\n",
      "Epoch 9/150\n",
      "38/38 [==============================] - 1s 23ms/step - loss: 0.9994 - custom_mape_loss: 0.9985 - val_loss: 1.0018 - val_custom_mape_loss: 1.0008 - lr: 0.0010\n",
      "Epoch 10/150\n",
      "38/38 [==============================] - 1s 22ms/step - loss: 0.9965 - custom_mape_loss: 0.9956 - val_loss: 1.0014 - val_custom_mape_loss: 1.0005 - lr: 0.0010\n",
      "Epoch 11/150\n",
      "38/38 [==============================] - 1s 23ms/step - loss: 0.9948 - custom_mape_loss: 0.9940 - val_loss: 1.0019 - val_custom_mape_loss: 1.0010 - lr: 0.0010\n",
      "Epoch 12/150\n",
      "38/38 [==============================] - 1s 23ms/step - loss: 0.9933 - custom_mape_loss: 0.9924 - val_loss: 1.0009 - val_custom_mape_loss: 1.0001 - lr: 0.0010\n",
      "Epoch 13/150\n",
      "38/38 [==============================] - 1s 22ms/step - loss: 0.9924 - custom_mape_loss: 0.9915 - val_loss: 1.0015 - val_custom_mape_loss: 1.0006 - lr: 0.0010\n",
      "Epoch 14/150\n",
      "38/38 [==============================] - 1s 25ms/step - loss: 0.9904 - custom_mape_loss: 0.9897 - val_loss: 1.0008 - val_custom_mape_loss: 1.0000 - lr: 0.0010\n",
      "Epoch 15/150\n",
      "38/38 [==============================] - 1s 23ms/step - loss: 0.9911 - custom_mape_loss: 0.9903 - val_loss: 1.0010 - val_custom_mape_loss: 1.0003 - lr: 0.0010\n",
      "Epoch 16/150\n",
      "38/38 [==============================] - 1s 22ms/step - loss: 0.9911 - custom_mape_loss: 0.9905 - val_loss: 1.0007 - val_custom_mape_loss: 1.0000 - lr: 0.0010\n",
      "Epoch 17/150\n",
      "38/38 [==============================] - 1s 22ms/step - loss: 0.9922 - custom_mape_loss: 0.9916 - val_loss: 1.0008 - val_custom_mape_loss: 1.0002 - lr: 0.0010\n",
      "Epoch 18/150\n",
      "38/38 [==============================] - 1s 23ms/step - loss: 0.9877 - custom_mape_loss: 0.9871 - val_loss: 1.0007 - val_custom_mape_loss: 1.0000 - lr: 0.0010\n",
      "Epoch 19/150\n",
      "38/38 [==============================] - 1s 23ms/step - loss: 0.9889 - custom_mape_loss: 0.9884 - val_loss: 1.0008 - val_custom_mape_loss: 1.0002 - lr: 0.0010\n",
      "Epoch 20/150\n",
      "38/38 [==============================] - 1s 22ms/step - loss: 0.9899 - custom_mape_loss: 0.9893 - val_loss: 1.0008 - val_custom_mape_loss: 1.0002 - lr: 0.0010\n",
      "Epoch 21/150\n",
      "38/38 [==============================] - 1s 23ms/step - loss: 0.9888 - custom_mape_loss: 0.9881 - val_loss: 1.0014 - val_custom_mape_loss: 1.0008 - lr: 0.0010\n",
      "Epoch 22/150\n",
      "38/38 [==============================] - 1s 22ms/step - loss: 0.9881 - custom_mape_loss: 0.9875 - val_loss: 1.0006 - val_custom_mape_loss: 1.0000 - lr: 0.0010\n",
      "Epoch 23/150\n",
      "38/38 [==============================] - 1s 22ms/step - loss: 0.9878 - custom_mape_loss: 0.9876 - val_loss: 1.0015 - val_custom_mape_loss: 1.0009 - lr: 0.0010\n",
      "Epoch 24/150\n",
      "38/38 [==============================] - 1s 23ms/step - loss: 0.9856 - custom_mape_loss: 0.9852 - val_loss: 1.0019 - val_custom_mape_loss: 1.0013 - lr: 0.0010\n",
      "Epoch 25/150\n",
      "38/38 [==============================] - 1s 23ms/step - loss: 0.9877 - custom_mape_loss: 0.9871 - val_loss: 1.0011 - val_custom_mape_loss: 1.0005 - lr: 0.0010\n",
      "Epoch 26/150\n",
      "38/38 [==============================] - 1s 23ms/step - loss: 0.9860 - custom_mape_loss: 0.9855 - val_loss: 1.0007 - val_custom_mape_loss: 1.0002 - lr: 0.0010\n",
      "Epoch 27/150\n",
      "38/38 [==============================] - 1s 22ms/step - loss: 0.9875 - custom_mape_loss: 0.9868 - val_loss: 1.0007 - val_custom_mape_loss: 1.0002 - lr: 0.0010\n",
      "Epoch 28/150\n",
      "38/38 [==============================] - 1s 24ms/step - loss: 0.9868 - custom_mape_loss: 0.9861 - val_loss: 1.0007 - val_custom_mape_loss: 1.0001 - lr: 0.0010\n",
      "Epoch 29/150\n",
      "38/38 [==============================] - 1s 23ms/step - loss: 0.9874 - custom_mape_loss: 0.9867 - val_loss: 1.0007 - val_custom_mape_loss: 1.0002 - lr: 0.0010\n",
      "Epoch 30/150\n",
      "38/38 [==============================] - 1s 23ms/step - loss: 0.9849 - custom_mape_loss: 0.9846 - val_loss: 1.0011 - val_custom_mape_loss: 1.0006 - lr: 0.0010\n",
      "Epoch 31/150\n",
      "38/38 [==============================] - 1s 22ms/step - loss: 0.9846 - custom_mape_loss: 0.9838 - val_loss: 1.0006 - val_custom_mape_loss: 1.0001 - lr: 0.0010\n",
      "Epoch 32/150\n",
      "38/38 [==============================] - 1s 22ms/step - loss: 0.9847 - custom_mape_loss: 0.9843 - val_loss: 1.0008 - val_custom_mape_loss: 1.0004 - lr: 0.0010\n",
      "Epoch 33/150\n",
      "38/38 [==============================] - 1s 22ms/step - loss: 0.9834 - custom_mape_loss: 0.9830 - val_loss: 1.0007 - val_custom_mape_loss: 1.0003 - lr: 0.0010\n",
      "Epoch 34/150\n",
      "38/38 [==============================] - 1s 23ms/step - loss: 0.9844 - custom_mape_loss: 0.9841 - val_loss: 1.0019 - val_custom_mape_loss: 1.0013 - lr: 0.0010\n",
      "Epoch 35/150\n",
      "38/38 [==============================] - 1s 23ms/step - loss: 0.9830 - custom_mape_loss: 0.9826 - val_loss: 1.0012 - val_custom_mape_loss: 1.0007 - lr: 0.0010\n",
      "Epoch 36/150\n",
      "38/38 [==============================] - 1s 23ms/step - loss: 0.9839 - custom_mape_loss: 0.9834 - val_loss: 1.0006 - val_custom_mape_loss: 1.0001 - lr: 0.0010\n",
      "Epoch 37/150\n",
      "38/38 [==============================] - 1s 22ms/step - loss: 0.9847 - custom_mape_loss: 0.9842 - val_loss: 1.0013 - val_custom_mape_loss: 1.0008 - lr: 0.0010\n",
      "Epoch 38/150\n",
      "38/38 [==============================] - 1s 23ms/step - loss: 0.9809 - custom_mape_loss: 0.9803 - val_loss: 1.0006 - val_custom_mape_loss: 1.0001 - lr: 1.0000e-04\n",
      "Epoch 39/150\n",
      "38/38 [==============================] - 1s 24ms/step - loss: 0.9809 - custom_mape_loss: 0.9804 - val_loss: 1.0005 - val_custom_mape_loss: 1.0000 - lr: 1.0000e-04\n",
      "Epoch 40/150\n",
      "38/38 [==============================] - 1s 23ms/step - loss: 0.9814 - custom_mape_loss: 0.9811 - val_loss: 1.0005 - val_custom_mape_loss: 1.0000 - lr: 1.0000e-04\n",
      "Epoch 41/150\n",
      "38/38 [==============================] - 1s 23ms/step - loss: 0.9820 - custom_mape_loss: 0.9816 - val_loss: 1.0005 - val_custom_mape_loss: 1.0000 - lr: 1.0000e-04\n",
      "Epoch 42/150\n",
      "38/38 [==============================] - 1s 23ms/step - loss: 0.9798 - custom_mape_loss: 0.9791 - val_loss: 1.0005 - val_custom_mape_loss: 1.0000 - lr: 1.0000e-04\n",
      "Epoch 43/150\n",
      "38/38 [==============================] - 1s 22ms/step - loss: 0.9800 - custom_mape_loss: 0.9795 - val_loss: 1.0005 - val_custom_mape_loss: 1.0000 - lr: 1.0000e-04\n",
      "Epoch 44/150\n",
      "38/38 [==============================] - 1s 22ms/step - loss: 0.9799 - custom_mape_loss: 0.9796 - val_loss: 1.0005 - val_custom_mape_loss: 1.0001 - lr: 1.0000e-04\n",
      "Epoch 45/150\n",
      "38/38 [==============================] - 1s 23ms/step - loss: 0.9783 - custom_mape_loss: 0.9780 - val_loss: 1.0005 - val_custom_mape_loss: 1.0000 - lr: 1.0000e-04\n",
      "Epoch 46/150\n",
      "38/38 [==============================] - 1s 23ms/step - loss: 0.9808 - custom_mape_loss: 0.9803 - val_loss: 1.0006 - val_custom_mape_loss: 1.0001 - lr: 1.0000e-04\n",
      "Epoch 47/150\n",
      "38/38 [==============================] - 1s 24ms/step - loss: 0.9805 - custom_mape_loss: 0.9801 - val_loss: 1.0005 - val_custom_mape_loss: 1.0000 - lr: 1.0000e-04\n",
      "Epoch 48/150\n",
      "38/38 [==============================] - 1s 22ms/step - loss: 0.9797 - custom_mape_loss: 0.9789 - val_loss: 1.0005 - val_custom_mape_loss: 1.0001 - lr: 1.0000e-04\n",
      "Epoch 49/150\n",
      "38/38 [==============================] - 1s 22ms/step - loss: 0.9793 - custom_mape_loss: 0.9785 - val_loss: 1.0005 - val_custom_mape_loss: 1.0000 - lr: 1.0000e-04\n",
      "Epoch 50/150\n",
      "38/38 [==============================] - 1s 23ms/step - loss: 0.9790 - custom_mape_loss: 0.9784 - val_loss: 1.0005 - val_custom_mape_loss: 1.0000 - lr: 1.0000e-04\n",
      "Epoch 51/150\n",
      "38/38 [==============================] - 1s 22ms/step - loss: 0.9797 - custom_mape_loss: 0.9791 - val_loss: 1.0005 - val_custom_mape_loss: 1.0000 - lr: 1.0000e-04\n",
      "Epoch 52/150\n",
      "38/38 [==============================] - 1s 22ms/step - loss: 0.9791 - custom_mape_loss: 0.9787 - val_loss: 1.0005 - val_custom_mape_loss: 1.0000 - lr: 1.0000e-04\n",
      "Epoch 53/150\n",
      "38/38 [==============================] - 1s 24ms/step - loss: 0.9777 - custom_mape_loss: 0.9775 - val_loss: 1.0005 - val_custom_mape_loss: 1.0000 - lr: 1.0000e-04\n",
      "Epoch 54/150\n",
      "38/38 [==============================] - 1s 23ms/step - loss: 0.9791 - custom_mape_loss: 0.9784 - val_loss: 1.0005 - val_custom_mape_loss: 1.0000 - lr: 1.0000e-04\n",
      "Epoch 55/150\n",
      "38/38 [==============================] - 1s 23ms/step - loss: 0.9781 - custom_mape_loss: 0.9775 - val_loss: 1.0005 - val_custom_mape_loss: 1.0000 - lr: 1.0000e-05\n",
      "Epoch 56/150\n",
      "38/38 [==============================] - 1s 23ms/step - loss: 0.9779 - custom_mape_loss: 0.9771 - val_loss: 1.0005 - val_custom_mape_loss: 1.0000 - lr: 1.0000e-05\n",
      "Epoch 57/150\n",
      "38/38 [==============================] - 1s 22ms/step - loss: 0.9792 - custom_mape_loss: 0.9789 - val_loss: 1.0005 - val_custom_mape_loss: 1.0000 - lr: 1.0000e-05\n",
      "Epoch 58/150\n",
      "38/38 [==============================] - 1s 22ms/step - loss: 0.9787 - custom_mape_loss: 0.9780 - val_loss: 1.0005 - val_custom_mape_loss: 1.0000 - lr: 1.0000e-05\n",
      "Epoch 59/150\n",
      "38/38 [==============================] - 1s 23ms/step - loss: 0.9790 - custom_mape_loss: 0.9785 - val_loss: 1.0005 - val_custom_mape_loss: 1.0000 - lr: 1.0000e-05\n",
      "Epoch 60/150\n",
      "38/38 [==============================] - 1s 22ms/step - loss: 0.9775 - custom_mape_loss: 0.9768 - val_loss: 1.0005 - val_custom_mape_loss: 1.0000 - lr: 1.0000e-05\n",
      "Epoch 61/150\n",
      "38/38 [==============================] - 1s 23ms/step - loss: 0.9797 - custom_mape_loss: 0.9792 - val_loss: 1.0005 - val_custom_mape_loss: 1.0000 - lr: 1.0000e-05\n",
      "Epoch 62/150\n",
      "38/38 [==============================] - 1s 22ms/step - loss: 0.9776 - custom_mape_loss: 0.9771 - val_loss: 1.0005 - val_custom_mape_loss: 1.0000 - lr: 1.0000e-05\n",
      "Epoch 63/150\n",
      "38/38 [==============================] - 1s 22ms/step - loss: 0.9790 - custom_mape_loss: 0.9787 - val_loss: 1.0005 - val_custom_mape_loss: 1.0000 - lr: 1.0000e-05\n",
      "Epoch 64/150\n",
      "38/38 [==============================] - 1s 24ms/step - loss: 0.9782 - custom_mape_loss: 0.9778 - val_loss: 1.0005 - val_custom_mape_loss: 1.0000 - lr: 1.0000e-05\n",
      "Epoch 65/150\n",
      "38/38 [==============================] - 1s 23ms/step - loss: 0.9800 - custom_mape_loss: 0.9795 - val_loss: 1.0005 - val_custom_mape_loss: 1.0000 - lr: 1.0000e-05\n",
      "Epoch 66/150\n",
      "38/38 [==============================] - 1s 23ms/step - loss: 0.9785 - custom_mape_loss: 0.9778 - val_loss: 1.0005 - val_custom_mape_loss: 1.0000 - lr: 1.0000e-05\n",
      "Epoch 67/150\n",
      "38/38 [==============================] - 1s 22ms/step - loss: 0.9787 - custom_mape_loss: 0.9783 - val_loss: 1.0005 - val_custom_mape_loss: 1.0000 - lr: 1.0000e-05\n",
      "Epoch 68/150\n",
      "38/38 [==============================] - 1s 22ms/step - loss: 0.9783 - custom_mape_loss: 0.9777 - val_loss: 1.0005 - val_custom_mape_loss: 1.0000 - lr: 1.0000e-05\n",
      "Epoch 69/150\n",
      "38/38 [==============================] - 1s 22ms/step - loss: 0.9780 - custom_mape_loss: 0.9776 - val_loss: 1.0005 - val_custom_mape_loss: 1.0000 - lr: 1.0000e-05\n",
      "Epoch 70/150\n",
      "38/38 [==============================] - 1s 24ms/step - loss: 0.9790 - custom_mape_loss: 0.9784 - val_loss: 1.0005 - val_custom_mape_loss: 1.0000 - lr: 1.0000e-06\n",
      "Epoch 71/150\n",
      "38/38 [==============================] - 1s 23ms/step - loss: 0.9799 - custom_mape_loss: 0.9792 - val_loss: 1.0005 - val_custom_mape_loss: 1.0000 - lr: 1.0000e-06\n",
      "Epoch 72/150\n",
      "38/38 [==============================] - 1s 22ms/step - loss: 0.9794 - custom_mape_loss: 0.9790 - val_loss: 1.0005 - val_custom_mape_loss: 1.0000 - lr: 1.0000e-06\n",
      "Epoch 73/150\n",
      "38/38 [==============================] - 1s 22ms/step - loss: 0.9791 - custom_mape_loss: 0.9787 - val_loss: 1.0005 - val_custom_mape_loss: 1.0000 - lr: 1.0000e-06\n",
      "Epoch 74/150\n",
      "38/38 [==============================] - 1s 22ms/step - loss: 0.9774 - custom_mape_loss: 0.9767 - val_loss: 1.0005 - val_custom_mape_loss: 1.0000 - lr: 1.0000e-06\n",
      "Epoch 75/150\n",
      "38/38 [==============================] - 1s 23ms/step - loss: 0.9799 - custom_mape_loss: 0.9797 - val_loss: 1.0005 - val_custom_mape_loss: 1.0000 - lr: 1.0000e-06\n",
      "Epoch 76/150\n",
      "38/38 [==============================] - 1s 25ms/step - loss: 0.9769 - custom_mape_loss: 0.9766 - val_loss: 1.0005 - val_custom_mape_loss: 1.0000 - lr: 1.0000e-06\n",
      "Epoch 77/150\n",
      "38/38 [==============================] - 1s 23ms/step - loss: 0.9793 - custom_mape_loss: 0.9788 - val_loss: 1.0005 - val_custom_mape_loss: 1.0000 - lr: 1.0000e-06\n",
      "Epoch 78/150\n",
      "38/38 [==============================] - 1s 22ms/step - loss: 0.9800 - custom_mape_loss: 0.9800 - val_loss: 1.0005 - val_custom_mape_loss: 1.0000 - lr: 1.0000e-06\n",
      "Epoch 79/150\n",
      "38/38 [==============================] - 1s 22ms/step - loss: 0.9782 - custom_mape_loss: 0.9777 - val_loss: 1.0005 - val_custom_mape_loss: 1.0000 - lr: 1.0000e-06\n",
      "Epoch 80/150\n",
      "38/38 [==============================] - 1s 23ms/step - loss: 0.9778 - custom_mape_loss: 0.9770 - val_loss: 1.0005 - val_custom_mape_loss: 1.0000 - lr: 1.0000e-06\n",
      "Epoch 1/150\n",
      "52/52 [==============================] - 8s 54ms/step - loss: 1.0251 - custom_mape_loss: 1.0005 - val_loss: 1.0214 - val_custom_mape_loss: 1.0032 - lr: 0.0010\n",
      "Epoch 2/150\n",
      "52/52 [==============================] - 1s 22ms/step - loss: 1.0136 - custom_mape_loss: 0.9985 - val_loss: 1.0186 - val_custom_mape_loss: 1.0082 - lr: 0.0010\n",
      "Epoch 3/150\n",
      "52/52 [==============================] - 1s 21ms/step - loss: 1.0012 - custom_mape_loss: 0.9913 - val_loss: 1.0583 - val_custom_mape_loss: 1.0560 - lr: 0.0010\n",
      "Epoch 4/150\n",
      "52/52 [==============================] - 1s 21ms/step - loss: 0.9891 - custom_mape_loss: 0.9817 - val_loss: 1.0286 - val_custom_mape_loss: 1.0174 - lr: 0.0010\n",
      "Epoch 5/150\n",
      "52/52 [==============================] - 1s 21ms/step - loss: 0.9841 - custom_mape_loss: 0.9780 - val_loss: 1.0099 - val_custom_mape_loss: 1.0017 - lr: 0.0010\n",
      "Epoch 6/150\n",
      "52/52 [==============================] - 1s 21ms/step - loss: 0.9830 - custom_mape_loss: 0.9782 - val_loss: 1.0098 - val_custom_mape_loss: 1.0018 - lr: 0.0010\n",
      "Epoch 7/150\n",
      "52/52 [==============================] - 1s 21ms/step - loss: 0.9814 - custom_mape_loss: 0.9765 - val_loss: 1.0349 - val_custom_mape_loss: 1.0182 - lr: 0.0010\n",
      "Epoch 8/150\n",
      "52/52 [==============================] - 1s 21ms/step - loss: 0.9809 - custom_mape_loss: 0.9765 - val_loss: 1.0193 - val_custom_mape_loss: 1.0064 - lr: 0.0010\n",
      "Epoch 9/150\n",
      "52/52 [==============================] - 1s 23ms/step - loss: 0.9775 - custom_mape_loss: 0.9735 - val_loss: 1.0138 - val_custom_mape_loss: 1.0156 - lr: 0.0010\n",
      "Epoch 10/150\n",
      "52/52 [==============================] - 1s 22ms/step - loss: 0.9794 - custom_mape_loss: 0.9758 - val_loss: 1.0387 - val_custom_mape_loss: 1.0283 - lr: 0.0010\n",
      "Epoch 11/150\n",
      "52/52 [==============================] - 1s 22ms/step - loss: 0.9777 - custom_mape_loss: 0.9742 - val_loss: 1.0218 - val_custom_mape_loss: 1.0085 - lr: 0.0010\n",
      "Epoch 12/150\n",
      "52/52 [==============================] - 1s 23ms/step - loss: 0.9773 - custom_mape_loss: 0.9741 - val_loss: 1.0207 - val_custom_mape_loss: 1.0106 - lr: 0.0010\n",
      "Epoch 13/150\n",
      "52/52 [==============================] - 1s 22ms/step - loss: 0.9772 - custom_mape_loss: 0.9734 - val_loss: 1.0398 - val_custom_mape_loss: 1.0258 - lr: 0.0010\n",
      "Epoch 14/150\n",
      "52/52 [==============================] - 1s 22ms/step - loss: 0.9729 - custom_mape_loss: 0.9696 - val_loss: 1.0441 - val_custom_mape_loss: 1.0251 - lr: 0.0010\n",
      "Epoch 15/150\n",
      "52/52 [==============================] - 1s 23ms/step - loss: 0.9707 - custom_mape_loss: 0.9674 - val_loss: 1.0325 - val_custom_mape_loss: 1.0290 - lr: 0.0010\n",
      "Epoch 16/150\n",
      "52/52 [==============================] - 1s 21ms/step - loss: 0.9697 - custom_mape_loss: 0.9669 - val_loss: 1.0332 - val_custom_mape_loss: 1.0254 - lr: 0.0010\n",
      "Epoch 17/150\n",
      "52/52 [==============================] - 1s 21ms/step - loss: 0.9719 - custom_mape_loss: 0.9689 - val_loss: 1.0495 - val_custom_mape_loss: 1.0315 - lr: 0.0010\n",
      "Epoch 18/150\n",
      "52/52 [==============================] - 1s 21ms/step - loss: 0.9714 - custom_mape_loss: 0.9692 - val_loss: 1.0307 - val_custom_mape_loss: 1.0209 - lr: 0.0010\n",
      "Epoch 19/150\n",
      "52/52 [==============================] - 1s 22ms/step - loss: 0.9714 - custom_mape_loss: 0.9686 - val_loss: 1.0309 - val_custom_mape_loss: 1.0238 - lr: 0.0010\n",
      "Epoch 20/150\n",
      "52/52 [==============================] - 1s 21ms/step - loss: 0.9668 - custom_mape_loss: 0.9643 - val_loss: 1.0245 - val_custom_mape_loss: 1.0167 - lr: 0.0010\n",
      "Epoch 21/150\n",
      "52/52 [==============================] - 1s 21ms/step - loss: 0.9653 - custom_mape_loss: 0.9629 - val_loss: 1.0310 - val_custom_mape_loss: 1.0228 - lr: 1.0000e-04\n",
      "Epoch 22/150\n",
      "52/52 [==============================] - 1s 22ms/step - loss: 0.9635 - custom_mape_loss: 0.9613 - val_loss: 1.0408 - val_custom_mape_loss: 1.0315 - lr: 1.0000e-04\n",
      "Epoch 23/150\n",
      "52/52 [==============================] - 1s 21ms/step - loss: 0.9647 - custom_mape_loss: 0.9623 - val_loss: 1.0441 - val_custom_mape_loss: 1.0345 - lr: 1.0000e-04\n",
      "Epoch 24/150\n",
      "52/52 [==============================] - 1s 21ms/step - loss: 0.9633 - custom_mape_loss: 0.9608 - val_loss: 1.0449 - val_custom_mape_loss: 1.0356 - lr: 1.0000e-04\n",
      "Epoch 25/150\n",
      "52/52 [==============================] - 1s 22ms/step - loss: 0.9647 - custom_mape_loss: 0.9624 - val_loss: 1.0454 - val_custom_mape_loss: 1.0362 - lr: 1.0000e-04\n",
      "Epoch 26/150\n",
      "52/52 [==============================] - 1s 21ms/step - loss: 0.9635 - custom_mape_loss: 0.9614 - val_loss: 1.0425 - val_custom_mape_loss: 1.0335 - lr: 1.0000e-04\n",
      "Epoch 27/150\n",
      "52/52 [==============================] - 1s 21ms/step - loss: 0.9629 - custom_mape_loss: 0.9596 - val_loss: 1.0463 - val_custom_mape_loss: 1.0368 - lr: 1.0000e-04\n",
      "Epoch 28/150\n",
      "52/52 [==============================] - 1s 21ms/step - loss: 0.9633 - custom_mape_loss: 0.9606 - val_loss: 1.0452 - val_custom_mape_loss: 1.0360 - lr: 1.0000e-04\n",
      "Epoch 29/150\n",
      "52/52 [==============================] - 1s 22ms/step - loss: 0.9623 - custom_mape_loss: 0.9595 - val_loss: 1.0436 - val_custom_mape_loss: 1.0348 - lr: 1.0000e-04\n",
      "Epoch 30/150\n",
      "52/52 [==============================] - 1s 21ms/step - loss: 0.9607 - custom_mape_loss: 0.9587 - val_loss: 1.0442 - val_custom_mape_loss: 1.0354 - lr: 1.0000e-04\n",
      "Epoch 31/150\n",
      "52/52 [==============================] - 1s 21ms/step - loss: 0.9654 - custom_mape_loss: 0.9624 - val_loss: 1.0454 - val_custom_mape_loss: 1.0367 - lr: 1.0000e-04\n",
      "Epoch 32/150\n",
      "52/52 [==============================] - 1s 21ms/step - loss: 0.9633 - custom_mape_loss: 0.9608 - val_loss: 1.0455 - val_custom_mape_loss: 1.0374 - lr: 1.0000e-04\n",
      "Epoch 33/150\n",
      "52/52 [==============================] - 1s 22ms/step - loss: 0.9617 - custom_mape_loss: 0.9592 - val_loss: 1.0450 - val_custom_mape_loss: 1.0367 - lr: 1.0000e-04\n",
      "Epoch 34/150\n",
      "52/52 [==============================] - 1s 21ms/step - loss: 0.9618 - custom_mape_loss: 0.9595 - val_loss: 1.0473 - val_custom_mape_loss: 1.0386 - lr: 1.0000e-04\n",
      "Epoch 35/150\n",
      "52/52 [==============================] - 1s 21ms/step - loss: 0.9621 - custom_mape_loss: 0.9592 - val_loss: 1.0466 - val_custom_mape_loss: 1.0383 - lr: 1.0000e-04\n",
      "Epoch 36/150\n",
      "52/52 [==============================] - 1s 22ms/step - loss: 0.9584 - custom_mape_loss: 0.9559 - val_loss: 1.0467 - val_custom_mape_loss: 1.0384 - lr: 1.0000e-05\n",
      "Epoch 1/150\n",
      "59/59 [==============================] - 8s 48ms/step - loss: 0.9976 - custom_mape_loss: 0.9732 - val_loss: 1.0210 - val_custom_mape_loss: 0.9926 - lr: 0.0010\n",
      "Epoch 2/150\n",
      "59/59 [==============================] - 1s 23ms/step - loss: 0.9799 - custom_mape_loss: 0.9630 - val_loss: 0.9837 - val_custom_mape_loss: 0.9816 - lr: 0.0010\n",
      "Epoch 3/150\n",
      "59/59 [==============================] - 1s 23ms/step - loss: 0.9699 - custom_mape_loss: 0.9576 - val_loss: 0.9750 - val_custom_mape_loss: 0.9741 - lr: 0.0010\n",
      "Epoch 4/150\n",
      "59/59 [==============================] - 1s 23ms/step - loss: 0.9637 - custom_mape_loss: 0.9537 - val_loss: 0.9563 - val_custom_mape_loss: 0.9698 - lr: 0.0010\n",
      "Epoch 5/150\n",
      "59/59 [==============================] - 1s 23ms/step - loss: 0.9597 - custom_mape_loss: 0.9514 - val_loss: 0.9589 - val_custom_mape_loss: 0.9668 - lr: 0.0010\n",
      "Epoch 6/150\n",
      "59/59 [==============================] - 1s 22ms/step - loss: 0.9580 - custom_mape_loss: 0.9500 - val_loss: 0.9572 - val_custom_mape_loss: 0.9686 - lr: 0.0010\n",
      "Epoch 7/150\n",
      "59/59 [==============================] - 1s 22ms/step - loss: 0.9587 - custom_mape_loss: 0.9518 - val_loss: 0.9494 - val_custom_mape_loss: 0.9739 - lr: 0.0010\n",
      "Epoch 8/150\n",
      "59/59 [==============================] - 1s 22ms/step - loss: 0.9560 - custom_mape_loss: 0.9492 - val_loss: 0.9495 - val_custom_mape_loss: 0.9647 - lr: 0.0010\n",
      "Epoch 9/150\n",
      "59/59 [==============================] - 1s 22ms/step - loss: 0.9567 - custom_mape_loss: 0.9508 - val_loss: 0.9502 - val_custom_mape_loss: 0.9712 - lr: 0.0010\n",
      "Epoch 10/150\n",
      "59/59 [==============================] - 1s 22ms/step - loss: 0.9558 - custom_mape_loss: 0.9506 - val_loss: 0.9486 - val_custom_mape_loss: 0.9702 - lr: 0.0010\n",
      "Epoch 11/150\n",
      "59/59 [==============================] - 1s 22ms/step - loss: 0.9539 - custom_mape_loss: 0.9494 - val_loss: 0.9562 - val_custom_mape_loss: 0.9722 - lr: 0.0010\n",
      "Epoch 12/150\n",
      "59/59 [==============================] - 1s 22ms/step - loss: 0.9525 - custom_mape_loss: 0.9480 - val_loss: 0.9576 - val_custom_mape_loss: 0.9749 - lr: 0.0010\n",
      "Epoch 13/150\n",
      "59/59 [==============================] - 1s 22ms/step - loss: 0.9506 - custom_mape_loss: 0.9465 - val_loss: 0.9435 - val_custom_mape_loss: 0.9588 - lr: 0.0010\n",
      "Epoch 14/150\n",
      "59/59 [==============================] - 1s 23ms/step - loss: 0.9515 - custom_mape_loss: 0.9468 - val_loss: 0.9494 - val_custom_mape_loss: 0.9697 - lr: 0.0010\n",
      "Epoch 15/150\n",
      "59/59 [==============================] - 1s 23ms/step - loss: 0.9482 - custom_mape_loss: 0.9443 - val_loss: 0.9492 - val_custom_mape_loss: 0.9668 - lr: 0.0010\n",
      "Epoch 16/150\n",
      "59/59 [==============================] - 1s 22ms/step - loss: 0.9507 - custom_mape_loss: 0.9473 - val_loss: 0.9450 - val_custom_mape_loss: 0.9731 - lr: 0.0010\n",
      "Epoch 17/150\n",
      "59/59 [==============================] - 1s 23ms/step - loss: 0.9509 - custom_mape_loss: 0.9469 - val_loss: 0.9476 - val_custom_mape_loss: 0.9717 - lr: 0.0010\n",
      "Epoch 18/150\n",
      "59/59 [==============================] - 1s 23ms/step - loss: 0.9483 - custom_mape_loss: 0.9451 - val_loss: 0.9460 - val_custom_mape_loss: 0.9673 - lr: 0.0010\n",
      "Epoch 19/150\n",
      "59/59 [==============================] - 1s 22ms/step - loss: 0.9491 - custom_mape_loss: 0.9456 - val_loss: 0.9423 - val_custom_mape_loss: 0.9682 - lr: 0.0010\n",
      "Epoch 20/150\n",
      "59/59 [==============================] - 1s 23ms/step - loss: 0.9482 - custom_mape_loss: 0.9458 - val_loss: 0.9489 - val_custom_mape_loss: 0.9717 - lr: 0.0010\n",
      "Epoch 21/150\n",
      "59/59 [==============================] - 1s 22ms/step - loss: 0.9480 - custom_mape_loss: 0.9456 - val_loss: 0.9516 - val_custom_mape_loss: 0.9665 - lr: 0.0010\n",
      "Epoch 22/150\n",
      "59/59 [==============================] - 1s 22ms/step - loss: 0.9476 - custom_mape_loss: 0.9451 - val_loss: 0.9459 - val_custom_mape_loss: 0.9715 - lr: 0.0010\n",
      "Epoch 23/150\n",
      "59/59 [==============================] - 1s 23ms/step - loss: 0.9482 - custom_mape_loss: 0.9456 - val_loss: 0.9404 - val_custom_mape_loss: 0.9614 - lr: 0.0010\n",
      "Epoch 24/150\n",
      "59/59 [==============================] - 1s 22ms/step - loss: 0.9453 - custom_mape_loss: 0.9437 - val_loss: 0.9352 - val_custom_mape_loss: 0.9591 - lr: 0.0010\n",
      "Epoch 25/150\n",
      "59/59 [==============================] - 1s 22ms/step - loss: 0.9468 - custom_mape_loss: 0.9441 - val_loss: 0.9422 - val_custom_mape_loss: 0.9651 - lr: 0.0010\n",
      "Epoch 26/150\n",
      "59/59 [==============================] - 1s 23ms/step - loss: 0.9459 - custom_mape_loss: 0.9441 - val_loss: 0.9407 - val_custom_mape_loss: 0.9646 - lr: 0.0010\n",
      "Epoch 27/150\n",
      "59/59 [==============================] - 1s 22ms/step - loss: 0.9447 - custom_mape_loss: 0.9425 - val_loss: 0.9453 - val_custom_mape_loss: 0.9678 - lr: 0.0010\n",
      "Epoch 28/150\n",
      "59/59 [==============================] - 1s 22ms/step - loss: 0.9442 - custom_mape_loss: 0.9417 - val_loss: 0.9461 - val_custom_mape_loss: 0.9784 - lr: 0.0010\n",
      "Epoch 29/150\n",
      "59/59 [==============================] - 1s 23ms/step - loss: 0.9448 - custom_mape_loss: 0.9424 - val_loss: 0.9389 - val_custom_mape_loss: 0.9660 - lr: 0.0010\n",
      "Epoch 30/150\n",
      "59/59 [==============================] - 1s 22ms/step - loss: 0.9438 - custom_mape_loss: 0.9416 - val_loss: 0.9411 - val_custom_mape_loss: 0.9630 - lr: 0.0010\n",
      "Epoch 31/150\n",
      "59/59 [==============================] - 1s 22ms/step - loss: 0.9440 - custom_mape_loss: 0.9419 - val_loss: 0.9414 - val_custom_mape_loss: 0.9660 - lr: 0.0010\n",
      "Epoch 32/150\n",
      "59/59 [==============================] - 1s 22ms/step - loss: 0.9431 - custom_mape_loss: 0.9419 - val_loss: 0.9381 - val_custom_mape_loss: 0.9586 - lr: 0.0010\n",
      "Epoch 33/150\n",
      "59/59 [==============================] - 1s 22ms/step - loss: 0.9437 - custom_mape_loss: 0.9420 - val_loss: 0.9415 - val_custom_mape_loss: 0.9672 - lr: 0.0010\n",
      "Epoch 34/150\n",
      "59/59 [==============================] - 1s 22ms/step - loss: 0.9416 - custom_mape_loss: 0.9392 - val_loss: 0.9422 - val_custom_mape_loss: 0.9584 - lr: 0.0010\n",
      "Epoch 35/150\n",
      "59/59 [==============================] - 1s 22ms/step - loss: 0.9426 - custom_mape_loss: 0.9408 - val_loss: 0.9413 - val_custom_mape_loss: 0.9742 - lr: 0.0010\n",
      "Epoch 36/150\n",
      "59/59 [==============================] - 1s 22ms/step - loss: 0.9407 - custom_mape_loss: 0.9386 - val_loss: 0.9423 - val_custom_mape_loss: 0.9687 - lr: 0.0010\n",
      "Epoch 37/150\n",
      "59/59 [==============================] - 1s 22ms/step - loss: 0.9416 - custom_mape_loss: 0.9403 - val_loss: 0.9413 - val_custom_mape_loss: 0.9702 - lr: 0.0010\n",
      "Epoch 38/150\n",
      "59/59 [==============================] - 1s 22ms/step - loss: 0.9410 - custom_mape_loss: 0.9389 - val_loss: 0.9392 - val_custom_mape_loss: 0.9633 - lr: 0.0010\n",
      "Epoch 39/150\n",
      "59/59 [==============================] - 1s 22ms/step - loss: 0.9445 - custom_mape_loss: 0.9428 - val_loss: 0.9450 - val_custom_mape_loss: 0.9701 - lr: 0.0010\n",
      "Epoch 40/150\n",
      "59/59 [==============================] - 1s 22ms/step - loss: 0.9382 - custom_mape_loss: 0.9367 - val_loss: 0.9430 - val_custom_mape_loss: 0.9675 - lr: 1.0000e-04\n",
      "Epoch 41/150\n",
      "59/59 [==============================] - 1s 22ms/step - loss: 0.9380 - custom_mape_loss: 0.9364 - val_loss: 0.9424 - val_custom_mape_loss: 0.9679 - lr: 1.0000e-04\n",
      "Epoch 42/150\n",
      "59/59 [==============================] - 1s 21ms/step - loss: 0.9377 - custom_mape_loss: 0.9366 - val_loss: 0.9419 - val_custom_mape_loss: 0.9675 - lr: 1.0000e-04\n",
      "Epoch 43/150\n",
      "59/59 [==============================] - 1s 22ms/step - loss: 0.9366 - custom_mape_loss: 0.9351 - val_loss: 0.9410 - val_custom_mape_loss: 0.9659 - lr: 1.0000e-04\n",
      "Epoch 44/150\n",
      "59/59 [==============================] - 1s 23ms/step - loss: 0.9380 - custom_mape_loss: 0.9355 - val_loss: 0.9412 - val_custom_mape_loss: 0.9678 - lr: 1.0000e-04\n",
      "Epoch 45/150\n",
      "59/59 [==============================] - 1s 22ms/step - loss: 0.9357 - custom_mape_loss: 0.9344 - val_loss: 0.9405 - val_custom_mape_loss: 0.9662 - lr: 1.0000e-04\n",
      "Epoch 46/150\n",
      "59/59 [==============================] - 1s 22ms/step - loss: 0.9375 - custom_mape_loss: 0.9362 - val_loss: 0.9399 - val_custom_mape_loss: 0.9664 - lr: 1.0000e-04\n",
      "Epoch 47/150\n",
      "59/59 [==============================] - 1s 23ms/step - loss: 0.9350 - custom_mape_loss: 0.9335 - val_loss: 0.9395 - val_custom_mape_loss: 0.9664 - lr: 1.0000e-04\n",
      "Epoch 48/150\n",
      "59/59 [==============================] - 1s 22ms/step - loss: 0.9358 - custom_mape_loss: 0.9347 - val_loss: 0.9396 - val_custom_mape_loss: 0.9669 - lr: 1.0000e-04\n",
      "Epoch 49/150\n",
      "59/59 [==============================] - 1s 23ms/step - loss: 0.9357 - custom_mape_loss: 0.9339 - val_loss: 0.9396 - val_custom_mape_loss: 0.9669 - lr: 1.0000e-04\n",
      "Epoch 50/150\n",
      "59/59 [==============================] - 1s 22ms/step - loss: 0.9354 - custom_mape_loss: 0.9333 - val_loss: 0.9393 - val_custom_mape_loss: 0.9664 - lr: 1.0000e-04\n",
      "Epoch 51/150\n",
      "59/59 [==============================] - 1s 22ms/step - loss: 0.9362 - custom_mape_loss: 0.9353 - val_loss: 0.9399 - val_custom_mape_loss: 0.9676 - lr: 1.0000e-04\n",
      "Epoch 52/150\n",
      "59/59 [==============================] - 1s 22ms/step - loss: 0.9359 - custom_mape_loss: 0.9346 - val_loss: 0.9404 - val_custom_mape_loss: 0.9684 - lr: 1.0000e-04\n",
      "Epoch 53/150\n",
      "59/59 [==============================] - 1s 22ms/step - loss: 0.9366 - custom_mape_loss: 0.9353 - val_loss: 0.9403 - val_custom_mape_loss: 0.9674 - lr: 1.0000e-04\n",
      "Epoch 54/150\n",
      "59/59 [==============================] - 1s 24ms/step - loss: 0.9346 - custom_mape_loss: 0.9329 - val_loss: 0.9398 - val_custom_mape_loss: 0.9673 - lr: 1.0000e-04\n"
     ]
    }
   ],
   "source": [
    "\n",
    "# ================================\n",
    "# 4. MODELO LSTM\n",
    "# ================================\n",
    "from tensorflow.keras.models import Sequential\n",
    "from tensorflow.keras.layers import LSTM, Dense, Dropout\n",
    "from tensorflow.keras.regularizers import l2\n",
    "from tensorflow.keras.callbacks import EarlyStopping, ReduceLROnPlateau\n",
    "\n",
    "tf.random.set_seed(seed)\n",
    "\n",
    "def custom_mape_loss(y_true, y_pred):\n",
    "    \"\"\"\n",
    "    Pérdida personalizada: Mean Absolute Percentage Error (MAPE) modificado\n",
    "    donde el denominador es la suma total de los valores reales.\n",
    "    \"\"\"\n",
    "    numerator = tf.reduce_sum(tf.abs(y_true - y_pred))\n",
    "    denominator = tf.reduce_sum(tf.abs(y_true))\n",
    "    return numerator / (denominator + tf.keras.backend.epsilon())  # Evita división por cero\n",
    "\n",
    "for grupo in sets:\n",
    "    window_size = get_window_size(grupo)\n",
    "    set_data = sets[grupo]\n",
    "    X_train = set_data[\"X_train\"]\n",
    "    y_train = set_data[\"y_train\"]\n",
    "    X_test = set_data[\"X_test\"]\n",
    "    y_test = set_data[\"y_test\"]\n",
    "    \n",
    "    \n",
    "    \n",
    "    l2_lambda = config[\"l2_lambda\"]\n",
    "    optimizer = config[\"optimizer\"]\n",
    "    epochs = config[\"epochs\"]\n",
    "    batch_size = config[\"batch_size\"]\n",
    "    early_stopping_patience = config[\"early_stopping_patience\"]\n",
    "\n",
    "    def get_reg(l2_lambda):\n",
    "        return l2(l2_lambda) if l2_lambda > 0 else None\n",
    "\n",
    "    n_features = X_train.shape[2] \n",
    "    model = Sequential([\n",
    "        LSTM(128, activation='tanh', return_sequences=True, input_shape=(window_size, n_features)),\n",
    "        Dropout(0.3),\n",
    "        LSTM(64, return_sequences=True),\n",
    "        LSTM(32),\n",
    "        Dense(32, activation='relu', kernel_regularizer=get_reg(l2_lambda)),\n",
    "        Dense(1)\n",
    "    ])\n",
    "\n",
    "    model.compile(optimizer=optimizer, loss=custom_mape_loss, metrics=custom_mape_loss)\n",
    "\n",
    "    callbacks = [\n",
    "         EarlyStopping(patience=early_stopping_patience, restore_best_weights=True),\n",
    "        ReduceLROnPlateau(factor=0.1, patience=15)\n",
    "    ]\n",
    "\n",
    "    model.fit(\n",
    "        X_train, y_train,\n",
    "        epochs=epochs,\n",
    "        batch_size=batch_size,\n",
    "        validation_data=(X_test, y_test),\n",
    "        callbacks=callbacks,\n",
    "        verbose=1,\n",
    "    )\n",
    "    modelos[grupo] = model\n",
    "    # Evaluar el modelo\n",
    "    \n",
    "    loss, mae = model.evaluate(X_test, y_test, verbose=0)\n",
    "    metricas[grupo] = {\n",
    "        \"loss\": loss,\n",
    "        \"mae\": mae\n",
    "    }"
   ]
  },
  {
   "cell_type": "code",
   "execution_count": 32,
   "id": "6c8495f9",
   "metadata": {},
   "outputs": [],
   "source": [
    "def predecir_todos_t2(df_features_full, scalers, feature_cols):\n",
    "    \"\"\"\n",
    "    Predice tn en t+2 para todos los productos que tengan suficientes datos.\n",
    "\n",
    "    Args:\n",
    "        df_features_full (pd.DataFrame): dataframe completo con features\n",
    "        model: modelo LSTM ya entrenado\n",
    "        scalers (dict): diccionario con los StandardScaler por producto\n",
    "        feature_cols (list): lista de columnas de features\n",
    "        window_size (int): tamaño de la ventana temporal\n",
    "\n",
    "    Returns:\n",
    "        pd.DataFrame: dataframe con columnas [\"product_id\", \"tn_t2_pred\"]\n",
    "    \"\"\"\n",
    "    productos = df_features_full[\"product_id\"].unique()\n",
    "    resultados = []\n",
    "    errores = []\n",
    "    for pid in productos:\n",
    "        y_pred = None\n",
    "        df_prod = df_features_full[df_features_full[\"product_id\"] == pid]\n",
    "        grupo = df_prod[\"grupo\"].iloc[0] if not df_prod.empty else 0\n",
    "        window_size = get_window_size(grupo)\n",
    "        if len(df_prod) < window_size:\n",
    "            y_pred = np.mean(df_prod[\"tn\"][-12:])  # Valor por defecto si falla la predicción\n",
    "            resultados.append({\"product_id\": pid, \"tn_t2_pred\": y_pred})\n",
    "            continue  # no hay suficientes datos\n",
    "\n",
    "        try:\n",
    "            ultimos = df_prod[feature_cols].iloc[-window_size:]\n",
    "            scaler = scalers[pid]\n",
    "            ultimos_scaled = scaler.transform(ultimos)\n",
    "\n",
    "            # Agregar la feature extra\n",
    "            mes_ultimo_valor = df_prod.iloc[-1][\"month\"]\n",
    "            quarter_ultimo_valor = df_prod.iloc[-1][\"quarter\"]\n",
    "            \n",
    "            mes_scaled = (mes_ultimo_valor - 1) / 11\n",
    "            quarter_scaled = (quarter_ultimo_valor - 1) / 3\n",
    "\n",
    "\n",
    "            mes_feature = np.full((window_size, 1), mes_scaled)\n",
    "            quarter_feature = np.full((window_size, 1), quarter_scaled)\n",
    "\n",
    "            X_new = np.concatenate([ultimos_scaled, mes_feature, quarter_feature], axis=1).reshape(1, window_size, -1)\n",
    "            model = modelos[int(df_prod[\"grupo\"].iloc[0])]  # Obtener el modelo según el quantil\n",
    "            y_pred_scaled = model.predict(X_new, verbose=0)\n",
    "\n",
    "            # Desescalar\n",
    "            tn_mean = scaler.center_[0]\n",
    "            tn_std = scaler.scale_[0]\n",
    "            y_pred = y_pred_scaled[0][0] * tn_std + tn_mean\n",
    "\n",
    "            \n",
    "\n",
    "        except Exception as e:\n",
    "            errores.append(pid)\n",
    "            #print(f\"Error al predecir producto {pid}: {e}\")\n",
    "            \n",
    "        if y_pred is None or y_pred < 0:\n",
    "            y_pred = np.mean(df_prod[\"tn\"][-12:])  # Valor por defecto si falla la predicción\n",
    "\n",
    "            \n",
    "        resultados.append({\"product_id\": pid, \"tn_t2_pred\": y_pred})\n",
    "\n",
    "    print(f\"Errores en predicciones: {errores} de {len(productos)} productos\")\n",
    "    return pd.DataFrame(resultados), errores\n",
    "\n",
    "\n",
    "\n"
   ]
  },
  {
   "cell_type": "code",
   "execution_count": 33,
   "id": "ba8a4591",
   "metadata": {},
   "outputs": [
    {
     "name": "stdout",
     "output_type": "stream",
     "text": [
      "Errores en predicciones: [20127, 20210, 20621, 20662, 20673, 20711, 20720, 20732, 20774, 20827, 20904, 20910, 20912, 20927, 20933, 21007, 21035] de 558 productos\n",
      "Errores: 17 de 558 productos\n",
      "   product_id  tn_t2_pred\n",
      "0       20001    5.110179\n",
      "1       20002    3.965106\n",
      "2       20003    3.221689\n",
      "3       20004    2.321459\n",
      "4       20005    2.196004\n"
     ]
    }
   ],
   "source": [
    "df_preds_t2, errores = predecir_todos_t2(\n",
    "    df_features_full=df_features,\n",
    "    scalers=scalers,\n",
    "    feature_cols=feature_cols,\n",
    "    #window_size=window_size\n",
    ")\n",
    "print(f\"Errores: {len(errores)} de {len(df_features['product_id'].unique())} productos\")\n",
    "print(df_preds_t2.head())"
   ]
  },
  {
   "cell_type": "code",
   "execution_count": 34,
   "id": "fac38ee6",
   "metadata": {},
   "outputs": [
    {
     "data": {
      "application/vnd.microsoft.datawrangler.viewer.v0+json": {
       "columns": [
        {
         "name": "index",
         "rawType": "int64",
         "type": "integer"
        },
        {
         "name": "product_id",
         "rawType": "int64",
         "type": "integer"
        },
        {
         "name": "tn_t2_pred",
         "rawType": "float64",
         "type": "float"
        }
       ],
       "ref": "11f6cf16-5421-4350-8675-78a0001bf73d",
       "rows": [
        [
         "0",
         "20001",
         "5.1101788854598995"
        ],
        [
         "1",
         "20002",
         "3.9651057422161102"
        ],
        [
         "2",
         "20003",
         "3.221689233109355"
        ],
        [
         "3",
         "20004",
         "2.3214588981866835"
        ],
        [
         "4",
         "20005",
         "2.1960037295520305"
        ],
        [
         "5",
         "20006",
         "1.7606313084438443"
        ],
        [
         "6",
         "20007",
         "1.7760576002299788"
        ],
        [
         "7",
         "20008",
         "1.535029017031193"
        ],
        [
         "8",
         "20009",
         "1.863651081621647"
        ],
        [
         "9",
         "20010",
         "1.561433253288269"
        ],
        [
         "10",
         "20011",
         "1.4232067397376522"
        ],
        [
         "11",
         "20012",
         "1.3299742282927036"
        ],
        [
         "12",
         "20013",
         "1.3768037736415863"
        ],
        [
         "13",
         "20014",
         "1.2956451192498206"
        ],
        [
         "14",
         "20015",
         "1.2238100202381612"
        ],
        [
         "15",
         "20016",
         "1.203318430930376"
        ],
        [
         "16",
         "20017",
         "1.0756870655715467"
        ],
        [
         "17",
         "20018",
         "0.9870512074232102"
        ],
        [
         "18",
         "20019",
         "1.3320501913130283"
        ],
        [
         "19",
         "20020",
         "1.0728100927174091"
        ],
        [
         "20",
         "20021",
         "0.9443671992048622"
        ],
        [
         "21",
         "20022",
         "1.0067363951541486"
        ],
        [
         "22",
         "20023",
         "0.8350719145685435"
        ],
        [
         "23",
         "20024",
         "0.9162366375233978"
        ],
        [
         "24",
         "20025",
         "0.8712548431381583"
        ],
        [
         "25",
         "20026",
         "0.905563300549984"
        ],
        [
         "26",
         "20027",
         "0.7280031996220351"
        ],
        [
         "27",
         "20028",
         "0.7697837030142546"
        ],
        [
         "28",
         "20029",
         "0.7156589918583631"
        ],
        [
         "29",
         "20030",
         "0.6154763644188642"
        ],
        [
         "30",
         "20031",
         "0.712301854621619"
        ],
        [
         "31",
         "20032",
         "2.117693712413311"
        ],
        [
         "32",
         "20033",
         "0.5761896478384733"
        ],
        [
         "33",
         "20035",
         "0.6724142017960548"
        ],
        [
         "34",
         "20037",
         "0.39031727887690065"
        ],
        [
         "35",
         "20038",
         "0.6115402876213193"
        ],
        [
         "36",
         "20039",
         "0.5464649916812777"
        ],
        [
         "37",
         "20041",
         "0.513610353320837"
        ],
        [
         "38",
         "20042",
         "0.5339324687235057"
        ],
        [
         "39",
         "20043",
         "0.48494062915444375"
        ],
        [
         "40",
         "20044",
         "0.5148112094402313"
        ],
        [
         "41",
         "20045",
         "0.5585504187457264"
        ],
        [
         "42",
         "20046",
         "0.5695733588933946"
        ],
        [
         "43",
         "20047",
         "0.5479569001682103"
        ],
        [
         "44",
         "20049",
         "0.6235780769586563"
        ],
        [
         "45",
         "20050",
         "0.5142992253601552"
        ],
        [
         "46",
         "20051",
         "0.5305776551365853"
        ],
        [
         "47",
         "20052",
         "0.47093627594411375"
        ],
        [
         "48",
         "20053",
         "0.5453733628988267"
        ],
        [
         "49",
         "20054",
         "0.48020428836345674"
        ]
       ],
       "shape": {
        "columns": 2,
        "rows": 558
       }
      },
      "text/html": [
       "<div>\n",
       "<style scoped>\n",
       "    .dataframe tbody tr th:only-of-type {\n",
       "        vertical-align: middle;\n",
       "    }\n",
       "\n",
       "    .dataframe tbody tr th {\n",
       "        vertical-align: top;\n",
       "    }\n",
       "\n",
       "    .dataframe thead th {\n",
       "        text-align: right;\n",
       "    }\n",
       "</style>\n",
       "<table border=\"1\" class=\"dataframe\">\n",
       "  <thead>\n",
       "    <tr style=\"text-align: right;\">\n",
       "      <th></th>\n",
       "      <th>product_id</th>\n",
       "      <th>tn_t2_pred</th>\n",
       "    </tr>\n",
       "  </thead>\n",
       "  <tbody>\n",
       "    <tr>\n",
       "      <th>0</th>\n",
       "      <td>20001</td>\n",
       "      <td>5.110179</td>\n",
       "    </tr>\n",
       "    <tr>\n",
       "      <th>1</th>\n",
       "      <td>20002</td>\n",
       "      <td>3.965106</td>\n",
       "    </tr>\n",
       "    <tr>\n",
       "      <th>2</th>\n",
       "      <td>20003</td>\n",
       "      <td>3.221689</td>\n",
       "    </tr>\n",
       "    <tr>\n",
       "      <th>3</th>\n",
       "      <td>20004</td>\n",
       "      <td>2.321459</td>\n",
       "    </tr>\n",
       "    <tr>\n",
       "      <th>4</th>\n",
       "      <td>20005</td>\n",
       "      <td>2.196004</td>\n",
       "    </tr>\n",
       "    <tr>\n",
       "      <th>...</th>\n",
       "      <td>...</td>\n",
       "      <td>...</td>\n",
       "    </tr>\n",
       "    <tr>\n",
       "      <th>553</th>\n",
       "      <td>20968</td>\n",
       "      <td>0.010000</td>\n",
       "    </tr>\n",
       "    <tr>\n",
       "      <th>554</th>\n",
       "      <td>20975</td>\n",
       "      <td>0.012500</td>\n",
       "    </tr>\n",
       "    <tr>\n",
       "      <th>555</th>\n",
       "      <td>20995</td>\n",
       "      <td>0.012500</td>\n",
       "    </tr>\n",
       "    <tr>\n",
       "      <th>556</th>\n",
       "      <td>21007</td>\n",
       "      <td>0.008571</td>\n",
       "    </tr>\n",
       "    <tr>\n",
       "      <th>557</th>\n",
       "      <td>21035</td>\n",
       "      <td>0.008333</td>\n",
       "    </tr>\n",
       "  </tbody>\n",
       "</table>\n",
       "<p>558 rows × 2 columns</p>\n",
       "</div>"
      ],
      "text/plain": [
       "     product_id  tn_t2_pred\n",
       "0         20001    5.110179\n",
       "1         20002    3.965106\n",
       "2         20003    3.221689\n",
       "3         20004    2.321459\n",
       "4         20005    2.196004\n",
       "..          ...         ...\n",
       "553       20968    0.010000\n",
       "554       20975    0.012500\n",
       "555       20995    0.012500\n",
       "556       21007    0.008571\n",
       "557       21035    0.008333\n",
       "\n",
       "[558 rows x 2 columns]"
      ]
     },
     "execution_count": 34,
     "metadata": {},
     "output_type": "execute_result"
    }
   ],
   "source": [
    "df_preds_t2"
   ]
  },
  {
   "cell_type": "code",
   "execution_count": 35,
   "id": "54a1ea64",
   "metadata": {},
   "outputs": [],
   "source": [
    "dforig = pd.read_csv(\"../datasets/sell-in.txt.gz\", sep=\"\\t\")\n",
    "total_diciembre = dforig.query(\"periodo == 201912\")[\"tn\"].sum()\n",
    "df_preds_t2[\"tn_t2_pred\"] = df_preds_t2[\"tn_t2_pred\"]"
   ]
  },
  {
   "cell_type": "code",
   "execution_count": 36,
   "id": "8f1d8260",
   "metadata": {},
   "outputs": [
    {
     "data": {
      "application/vnd.microsoft.datawrangler.viewer.v0+json": {
       "columns": [
        {
         "name": "index",
         "rawType": "int64",
         "type": "integer"
        },
        {
         "name": "product_id",
         "rawType": "int64",
         "type": "integer"
        },
        {
         "name": "periodo",
         "rawType": "datetime64[ns]",
         "type": "datetime"
        },
        {
         "name": "tn",
         "rawType": "float64",
         "type": "float"
        },
        {
         "name": "grupo",
         "rawType": "int32",
         "type": "integer"
        },
        {
         "name": "tn_lag1",
         "rawType": "float64",
         "type": "float"
        },
        {
         "name": "tn_diff1",
         "rawType": "float64",
         "type": "float"
        },
        {
         "name": "sin_mes",
         "rawType": "float64",
         "type": "float"
        },
        {
         "name": "quarter",
         "rawType": "int32",
         "type": "integer"
        },
        {
         "name": "month",
         "rawType": "int32",
         "type": "integer"
        },
        {
         "name": "rolling_mean6",
         "rawType": "float64",
         "type": "float"
        },
        {
         "name": "rolling_std6",
         "rawType": "float64",
         "type": "float"
        },
        {
         "name": "tn_t2_pred",
         "rawType": "float64",
         "type": "float"
        }
       ],
       "ref": "4ef90720-f14a-463d-8b26-d25058d9a3c6",
       "rows": [
        [
         "0",
         "20001",
         "2019-12-01 00:00:00",
         "5.98",
         "4",
         "4.35",
         "1.6300000000000008",
         "-2.4492935982947064e-16",
         "4",
         "12",
         "4.681666666666667",
         "0.6639101344810664",
         "5.1101788854598995"
        ],
        [
         "1",
         "20002",
         "2019-12-01 00:00:00",
         "4.32",
         "4",
         "4.43",
         "-0.10999999999999943",
         "-2.4492935982947064e-16",
         "4",
         "12",
         "3.871666666666666",
         "1.0028642314225111",
         "3.9651057422161102"
        ],
        [
         "2",
         "20003",
         "2019-12-01 00:00:00",
         "3.55",
         "4",
         "2.95",
         "0.5999999999999996",
         "-2.4492935982947064e-16",
         "4",
         "12",
         "2.6799999999999997",
         "0.3943602414037212",
         "3.221689233109355"
        ],
        [
         "3",
         "20004",
         "2019-12-01 00:00:00",
         "2.54",
         "4",
         "2.25",
         "0.29000000000000004",
         "-2.4492935982947064e-16",
         "4",
         "12",
         "2.255",
         "0.4661223015475654",
         "2.3214588981866835"
        ],
        [
         "4",
         "20005",
         "2019-12-01 00:00:00",
         "2.36",
         "4",
         "1.89",
         "0.47",
         "-2.4492935982947064e-16",
         "4",
         "12",
         "2.4816666666666665",
         "0.3861303752188716",
         "2.1960037295520305"
        ],
        [
         "5",
         "20006",
         "2019-12-01 00:00:00",
         "1.66",
         "4",
         "1.24",
         "0.41999999999999993",
         "-2.4492935982947064e-16",
         "4",
         "12",
         "1.28",
         "0.18330302779822993",
         "1.7606313084438443"
        ],
        [
         "6",
         "20007",
         "2019-12-01 00:00:00",
         "1.55",
         "4",
         "1.11",
         "0.43999999999999995",
         "-2.4492935982947064e-16",
         "4",
         "12",
         "1.3933333333333333",
         "0.30904152903237003",
         "1.7760576002299788"
        ],
        [
         "7",
         "20008",
         "2019-12-01 00:00:00",
         "0.78",
         "4",
         "1.23",
         "-0.44999999999999996",
         "-2.4492935982947064e-16",
         "4",
         "12",
         "1.335",
         "0.34978564864785483",
         "1.535029017031193"
        ],
        [
         "8",
         "20009",
         "2019-12-01 00:00:00",
         "1.97",
         "4",
         "2.21",
         "-0.24",
         "-2.4492935982947064e-16",
         "4",
         "12",
         "1.9883333333333333",
         "0.28202245773460244",
         "1.863651081621647"
        ],
        [
         "9",
         "20010",
         "2019-12-01 00:00:00",
         "1.43",
         "4",
         "1.47",
         "-0.040000000000000036",
         "-2.4492935982947064e-16",
         "4",
         "12",
         "1.4366666666666665",
         "0.3702251567177276",
         "1.561433253288269"
        ],
        [
         "10",
         "20011",
         "2019-12-01 00:00:00",
         "1.56",
         "4",
         "0.92",
         "0.64",
         "-2.4492935982947064e-16",
         "4",
         "12",
         "1.2316666666666667",
         "0.18540945678866105",
         "1.4232067397376522"
        ],
        [
         "11",
         "20012",
         "2019-12-01 00:00:00",
         "0.69",
         "4",
         "1.11",
         "-0.42000000000000015",
         "-2.4492935982947064e-16",
         "4",
         "12",
         "1.065",
         "0.22169799277395402",
         "1.3299742282927036"
        ],
        [
         "12",
         "20013",
         "2019-12-01 00:00:00",
         "1.27",
         "4",
         "1.05",
         "0.21999999999999997",
         "-2.4492935982947064e-16",
         "4",
         "12",
         "1.33",
         "0.37464650005038064",
         "1.3768037736415863"
        ],
        [
         "13",
         "20014",
         "2019-12-01 00:00:00",
         "1.08",
         "4",
         "1.29",
         "-0.20999999999999996",
         "-2.4492935982947064e-16",
         "4",
         "12",
         "1.4216666666666666",
         "0.20193233190023555",
         "1.2956451192498206"
        ],
        [
         "14",
         "20015",
         "2019-12-01 00:00:00",
         "1.18",
         "4",
         "1.0",
         "0.17999999999999994",
         "-2.4492935982947064e-16",
         "4",
         "12",
         "1.2933333333333332",
         "0.19976653039652714",
         "1.2238100202381612"
        ],
        [
         "15",
         "20016",
         "2019-12-01 00:00:00",
         "1.09",
         "4",
         "0.94",
         "0.15000000000000013",
         "-2.4492935982947064e-16",
         "4",
         "12",
         "0.9400000000000001",
         "0.14394443372357194",
         "1.203318430930376"
        ],
        [
         "16",
         "20017",
         "2019-12-01 00:00:00",
         "0.86",
         "4",
         "0.67",
         "0.18999999999999995",
         "-2.4492935982947064e-16",
         "4",
         "12",
         "0.77",
         "0.08197560612767825",
         "1.0756870655715467"
        ],
        [
         "17",
         "20018",
         "2019-12-01 00:00:00",
         "0.56",
         "4",
         "0.79",
         "-0.22999999999999998",
         "-2.4492935982947064e-16",
         "4",
         "12",
         "0.75",
         "0.13461054936370906",
         "0.9870512074232102"
        ],
        [
         "18",
         "20019",
         "2019-12-01 00:00:00",
         "1.4",
         "4",
         "1.17",
         "0.22999999999999998",
         "-2.4492935982947064e-16",
         "4",
         "12",
         "1.0216666666666667",
         "0.2049796737890534",
         "1.3320501913130283"
        ],
        [
         "19",
         "20020",
         "2019-12-01 00:00:00",
         "1.06",
         "4",
         "1.0",
         "0.06000000000000005",
         "-2.4492935982947064e-16",
         "4",
         "12",
         "0.9066666666666666",
         "0.1385159437273061",
         "1.0728100927174091"
        ],
        [
         "20",
         "20021",
         "2019-12-01 00:00:00",
         "0.81",
         "4",
         "0.88",
         "-0.06999999999999995",
         "-2.4492935982947064e-16",
         "4",
         "12",
         "0.8783333333333333",
         "0.20093946020298473",
         "0.9443671992048622"
        ],
        [
         "21",
         "20022",
         "2019-12-01 00:00:00",
         "0.84",
         "4",
         "1.08",
         "-0.2400000000000001",
         "-2.4492935982947064e-16",
         "4",
         "12",
         "0.9649999999999999",
         "0.2508186595929422",
         "1.0067363951541486"
        ],
        [
         "22",
         "20023",
         "2019-12-01 00:00:00",
         "0.72",
         "4",
         "0.86",
         "-0.14",
         "-2.4492935982947064e-16",
         "4",
         "12",
         "0.9916666666666667",
         "0.1354129486669081",
         "0.8350719145685435"
        ],
        [
         "23",
         "20024",
         "2019-12-01 00:00:00",
         "1.08",
         "4",
         "0.49",
         "0.5900000000000001",
         "-2.4492935982947064e-16",
         "4",
         "12",
         "0.705",
         "0.15109599597606885",
         "0.9162366375233978"
        ],
        [
         "24",
         "20025",
         "2019-12-01 00:00:00",
         "0.96",
         "4",
         "0.76",
         "0.19999999999999996",
         "-2.4492935982947064e-16",
         "4",
         "12",
         "0.7516666666666666",
         "0.179378556875304",
         "0.8712548431381583"
        ],
        [
         "25",
         "20026",
         "2019-12-01 00:00:00",
         "0.93",
         "4",
         "0.97",
         "-0.039999999999999925",
         "-2.4492935982947064e-16",
         "4",
         "12",
         "0.7833333333333333",
         "0.21011108173217946",
         "0.905563300549984"
        ],
        [
         "26",
         "20027",
         "2019-12-01 00:00:00",
         "0.62",
         "4",
         "0.87",
         "-0.25",
         "-2.4492935982947064e-16",
         "4",
         "12",
         "0.75",
         "0.11781341180018522",
         "0.7280031996220351"
        ],
        [
         "27",
         "20028",
         "2019-12-01 00:00:00",
         "0.44",
         "4",
         "1.0",
         "-0.56",
         "-2.4492935982947064e-16",
         "4",
         "12",
         "0.6516666666666666",
         "0.3268893798621588",
         "0.7697837030142546"
        ],
        [
         "28",
         "20029",
         "2019-12-01 00:00:00",
         "0.6",
         "4",
         "0.5",
         "0.09999999999999998",
         "-2.4492935982947064e-16",
         "4",
         "12",
         "0.48333333333333334",
         "0.07201851613763575",
         "0.7156589918583631"
        ],
        [
         "29",
         "20030",
         "2019-12-01 00:00:00",
         "0.41",
         "4",
         "0.3",
         "0.10999999999999999",
         "-2.4492935982947064e-16",
         "4",
         "12",
         "0.40499999999999997",
         "0.10709808588391935",
         "0.6154763644188642"
        ],
        [
         "30",
         "20031",
         "2019-12-01 00:00:00",
         "0.56",
         "4",
         "1.09",
         "-0.53",
         "-2.4492935982947064e-16",
         "4",
         "12",
         "0.625",
         "0.2559492137124083",
         "0.712301854621619"
        ],
        [
         "31",
         "20032",
         "2019-12-01 00:00:00",
         "2.1",
         "4",
         "2.82",
         "-0.7199999999999998",
         "-2.4492935982947064e-16",
         "4",
         "12",
         "2.3349999999999995",
         "0.4327470392735233",
         "2.117693712413311"
        ],
        [
         "32",
         "20033",
         "2019-12-01 00:00:00",
         "0.38",
         "4",
         "0.57",
         "-0.18999999999999995",
         "-2.4492935982947064e-16",
         "4",
         "12",
         "0.7016666666666667",
         "0.16857243744653724",
         "0.5761896478384733"
        ],
        [
         "33",
         "20035",
         "2019-12-01 00:00:00",
         "0.72",
         "4",
         "0.59",
         "0.13",
         "-2.4492935982947064e-16",
         "4",
         "12",
         "0.5466666666666667",
         "0.11604596790352804",
         "0.6724142017960548"
        ],
        [
         "34",
         "20037",
         "2019-12-01 00:00:00",
         "0.25",
         "4",
         "0.29",
         "-0.03999999999999998",
         "-2.4492935982947064e-16",
         "4",
         "12",
         "0.5",
         "0.20099751242241773",
         "0.39031727887690065"
        ],
        [
         "35",
         "20038",
         "2019-12-01 00:00:00",
         "0.63",
         "4",
         "0.42",
         "0.21000000000000002",
         "-2.4492935982947064e-16",
         "4",
         "12",
         "0.5166666666666667",
         "0.0898146239020498",
         "0.6115402876213193"
        ],
        [
         "36",
         "20039",
         "2019-12-01 00:00:00",
         "0.51",
         "4",
         "0.35",
         "0.16000000000000003",
         "-2.4492935982947064e-16",
         "4",
         "12",
         "0.45166666666666666",
         "0.10303721010715874",
         "0.5464649916812777"
        ],
        [
         "37",
         "20041",
         "2019-12-01 00:00:00",
         "0.45",
         "4",
         "0.3",
         "0.15000000000000002",
         "-2.4492935982947064e-16",
         "4",
         "12",
         "0.48333333333333334",
         "0.12628011192055008",
         "0.513610353320837"
        ],
        [
         "38",
         "20042",
         "2019-12-01 00:00:00",
         "0.49",
         "4",
         "0.64",
         "-0.15000000000000002",
         "-2.4492935982947064e-16",
         "4",
         "12",
         "0.5833333333333334",
         "0.11129540272026826",
         "0.5339324687235057"
        ],
        [
         "39",
         "20043",
         "2019-12-01 00:00:00",
         "0.37",
         "4",
         "0.47",
         "-0.09999999999999998",
         "-2.4492935982947064e-16",
         "4",
         "12",
         "0.4416666666666667",
         "0.058109092805400143",
         "0.48494062915444375"
        ],
        [
         "40",
         "20044",
         "2019-12-01 00:00:00",
         "0.24",
         "4",
         "0.71",
         "-0.47",
         "-2.4492935982947064e-16",
         "4",
         "12",
         "0.5499999999999999",
         "0.14818906842274165",
         "0.5148112094402313"
        ],
        [
         "41",
         "20045",
         "2019-12-01 00:00:00",
         "0.6",
         "4",
         "0.43",
         "0.16999999999999998",
         "-2.4492935982947064e-16",
         "4",
         "12",
         "0.45999999999999996",
         "0.09695359714832626",
         "0.5585504187457264"
        ],
        [
         "42",
         "20046",
         "2019-12-01 00:00:00",
         "0.6",
         "4",
         "0.45",
         "0.14999999999999997",
         "-2.4492935982947064e-16",
         "4",
         "12",
         "0.5216666666666666",
         "0.15791347841988232",
         "0.5695733588933946"
        ],
        [
         "43",
         "20047",
         "2019-12-01 00:00:00",
         "0.28",
         "4",
         "0.78",
         "-0.5",
         "-2.4492935982947064e-16",
         "4",
         "12",
         "0.525",
         "0.15681198933755022",
         "0.5479569001682103"
        ],
        [
         "44",
         "20049",
         "2019-12-01 00:00:00",
         "0.5",
         "4",
         "0.48",
         "0.020000000000000018",
         "-2.4492935982947064e-16",
         "4",
         "12",
         "0.7200000000000001",
         "0.13579396157414372",
         "0.6235780769586563"
        ],
        [
         "45",
         "20050",
         "2019-12-01 00:00:00",
         "0.47",
         "4",
         "0.45",
         "0.019999999999999962",
         "-2.4492935982947064e-16",
         "4",
         "12",
         "0.435",
         "0.03331666249791557",
         "0.5142992253601552"
        ],
        [
         "46",
         "20051",
         "2019-12-01 00:00:00",
         "0.53",
         "4",
         "0.33",
         "0.2",
         "-2.4492935982947064e-16",
         "4",
         "12",
         "0.47000000000000003",
         "0.08809086218218112",
         "0.5305776551365853"
        ],
        [
         "47",
         "20052",
         "2019-12-01 00:00:00",
         "0.38",
         "4",
         "0.25",
         "0.13",
         "-2.4492935982947064e-16",
         "4",
         "12",
         "0.395",
         "0.09049861877399132",
         "0.47093627594411375"
        ],
        [
         "48",
         "20053",
         "2019-12-01 00:00:00",
         "0.58",
         "4",
         "0.54",
         "0.039999999999999925",
         "-2.4492935982947064e-16",
         "4",
         "12",
         "0.465",
         "0.10540398474441094",
         "0.5453733628988267"
        ],
        [
         "49",
         "20054",
         "2019-12-01 00:00:00",
         "0.48",
         "4",
         "0.53",
         "-0.050000000000000044",
         "-2.4492935982947064e-16",
         "4",
         "12",
         "0.44",
         "0.09838699100999095",
         "0.48020428836345674"
        ]
       ],
       "shape": {
        "columns": 12,
        "rows": 558
       }
      },
      "text/html": [
       "<div>\n",
       "<style scoped>\n",
       "    .dataframe tbody tr th:only-of-type {\n",
       "        vertical-align: middle;\n",
       "    }\n",
       "\n",
       "    .dataframe tbody tr th {\n",
       "        vertical-align: top;\n",
       "    }\n",
       "\n",
       "    .dataframe thead th {\n",
       "        text-align: right;\n",
       "    }\n",
       "</style>\n",
       "<table border=\"1\" class=\"dataframe\">\n",
       "  <thead>\n",
       "    <tr style=\"text-align: right;\">\n",
       "      <th></th>\n",
       "      <th>product_id</th>\n",
       "      <th>periodo</th>\n",
       "      <th>tn</th>\n",
       "      <th>grupo</th>\n",
       "      <th>tn_lag1</th>\n",
       "      <th>tn_diff1</th>\n",
       "      <th>sin_mes</th>\n",
       "      <th>quarter</th>\n",
       "      <th>month</th>\n",
       "      <th>rolling_mean6</th>\n",
       "      <th>rolling_std6</th>\n",
       "      <th>tn_t2_pred</th>\n",
       "    </tr>\n",
       "  </thead>\n",
       "  <tbody>\n",
       "    <tr>\n",
       "      <th>0</th>\n",
       "      <td>20001</td>\n",
       "      <td>2019-12-01</td>\n",
       "      <td>5.98</td>\n",
       "      <td>4</td>\n",
       "      <td>4.35</td>\n",
       "      <td>1.63</td>\n",
       "      <td>-2.449294e-16</td>\n",
       "      <td>4</td>\n",
       "      <td>12</td>\n",
       "      <td>4.681667</td>\n",
       "      <td>0.663910</td>\n",
       "      <td>5.110179</td>\n",
       "    </tr>\n",
       "    <tr>\n",
       "      <th>1</th>\n",
       "      <td>20002</td>\n",
       "      <td>2019-12-01</td>\n",
       "      <td>4.32</td>\n",
       "      <td>4</td>\n",
       "      <td>4.43</td>\n",
       "      <td>-0.11</td>\n",
       "      <td>-2.449294e-16</td>\n",
       "      <td>4</td>\n",
       "      <td>12</td>\n",
       "      <td>3.871667</td>\n",
       "      <td>1.002864</td>\n",
       "      <td>3.965106</td>\n",
       "    </tr>\n",
       "    <tr>\n",
       "      <th>2</th>\n",
       "      <td>20003</td>\n",
       "      <td>2019-12-01</td>\n",
       "      <td>3.55</td>\n",
       "      <td>4</td>\n",
       "      <td>2.95</td>\n",
       "      <td>0.60</td>\n",
       "      <td>-2.449294e-16</td>\n",
       "      <td>4</td>\n",
       "      <td>12</td>\n",
       "      <td>2.680000</td>\n",
       "      <td>0.394360</td>\n",
       "      <td>3.221689</td>\n",
       "    </tr>\n",
       "    <tr>\n",
       "      <th>3</th>\n",
       "      <td>20004</td>\n",
       "      <td>2019-12-01</td>\n",
       "      <td>2.54</td>\n",
       "      <td>4</td>\n",
       "      <td>2.25</td>\n",
       "      <td>0.29</td>\n",
       "      <td>-2.449294e-16</td>\n",
       "      <td>4</td>\n",
       "      <td>12</td>\n",
       "      <td>2.255000</td>\n",
       "      <td>0.466122</td>\n",
       "      <td>2.321459</td>\n",
       "    </tr>\n",
       "    <tr>\n",
       "      <th>4</th>\n",
       "      <td>20005</td>\n",
       "      <td>2019-12-01</td>\n",
       "      <td>2.36</td>\n",
       "      <td>4</td>\n",
       "      <td>1.89</td>\n",
       "      <td>0.47</td>\n",
       "      <td>-2.449294e-16</td>\n",
       "      <td>4</td>\n",
       "      <td>12</td>\n",
       "      <td>2.481667</td>\n",
       "      <td>0.386130</td>\n",
       "      <td>2.196004</td>\n",
       "    </tr>\n",
       "    <tr>\n",
       "      <th>...</th>\n",
       "      <td>...</td>\n",
       "      <td>...</td>\n",
       "      <td>...</td>\n",
       "      <td>...</td>\n",
       "      <td>...</td>\n",
       "      <td>...</td>\n",
       "      <td>...</td>\n",
       "      <td>...</td>\n",
       "      <td>...</td>\n",
       "      <td>...</td>\n",
       "      <td>...</td>\n",
       "      <td>...</td>\n",
       "    </tr>\n",
       "    <tr>\n",
       "      <th>553</th>\n",
       "      <td>20968</td>\n",
       "      <td>2019-12-01</td>\n",
       "      <td>0.01</td>\n",
       "      <td>1</td>\n",
       "      <td>0.01</td>\n",
       "      <td>0.00</td>\n",
       "      <td>-2.449294e-16</td>\n",
       "      <td>4</td>\n",
       "      <td>12</td>\n",
       "      <td>0.000000</td>\n",
       "      <td>0.000000</td>\n",
       "      <td>0.010000</td>\n",
       "    </tr>\n",
       "    <tr>\n",
       "      <th>554</th>\n",
       "      <td>20975</td>\n",
       "      <td>2019-12-01</td>\n",
       "      <td>0.01</td>\n",
       "      <td>1</td>\n",
       "      <td>0.01</td>\n",
       "      <td>0.00</td>\n",
       "      <td>-2.449294e-16</td>\n",
       "      <td>4</td>\n",
       "      <td>12</td>\n",
       "      <td>0.000000</td>\n",
       "      <td>0.000000</td>\n",
       "      <td>0.012500</td>\n",
       "    </tr>\n",
       "    <tr>\n",
       "      <th>555</th>\n",
       "      <td>20995</td>\n",
       "      <td>2019-12-01</td>\n",
       "      <td>0.01</td>\n",
       "      <td>1</td>\n",
       "      <td>0.01</td>\n",
       "      <td>0.00</td>\n",
       "      <td>-2.449294e-16</td>\n",
       "      <td>4</td>\n",
       "      <td>12</td>\n",
       "      <td>0.000000</td>\n",
       "      <td>0.000000</td>\n",
       "      <td>0.012500</td>\n",
       "    </tr>\n",
       "    <tr>\n",
       "      <th>556</th>\n",
       "      <td>21007</td>\n",
       "      <td>2019-12-01</td>\n",
       "      <td>0.01</td>\n",
       "      <td>1</td>\n",
       "      <td>0.01</td>\n",
       "      <td>0.00</td>\n",
       "      <td>-2.449294e-16</td>\n",
       "      <td>4</td>\n",
       "      <td>12</td>\n",
       "      <td>0.008333</td>\n",
       "      <td>0.004082</td>\n",
       "      <td>0.008571</td>\n",
       "    </tr>\n",
       "    <tr>\n",
       "      <th>557</th>\n",
       "      <td>21035</td>\n",
       "      <td>2019-12-01</td>\n",
       "      <td>0.01</td>\n",
       "      <td>0</td>\n",
       "      <td>0.01</td>\n",
       "      <td>0.00</td>\n",
       "      <td>-2.449294e-16</td>\n",
       "      <td>4</td>\n",
       "      <td>12</td>\n",
       "      <td>0.000000</td>\n",
       "      <td>0.000000</td>\n",
       "      <td>0.008333</td>\n",
       "    </tr>\n",
       "  </tbody>\n",
       "</table>\n",
       "<p>558 rows × 12 columns</p>\n",
       "</div>"
      ],
      "text/plain": [
       "     product_id    periodo    tn  grupo  tn_lag1  tn_diff1       sin_mes  \\\n",
       "0         20001 2019-12-01  5.98      4     4.35      1.63 -2.449294e-16   \n",
       "1         20002 2019-12-01  4.32      4     4.43     -0.11 -2.449294e-16   \n",
       "2         20003 2019-12-01  3.55      4     2.95      0.60 -2.449294e-16   \n",
       "3         20004 2019-12-01  2.54      4     2.25      0.29 -2.449294e-16   \n",
       "4         20005 2019-12-01  2.36      4     1.89      0.47 -2.449294e-16   \n",
       "..          ...        ...   ...    ...      ...       ...           ...   \n",
       "553       20968 2019-12-01  0.01      1     0.01      0.00 -2.449294e-16   \n",
       "554       20975 2019-12-01  0.01      1     0.01      0.00 -2.449294e-16   \n",
       "555       20995 2019-12-01  0.01      1     0.01      0.00 -2.449294e-16   \n",
       "556       21007 2019-12-01  0.01      1     0.01      0.00 -2.449294e-16   \n",
       "557       21035 2019-12-01  0.01      0     0.01      0.00 -2.449294e-16   \n",
       "\n",
       "     quarter  month  rolling_mean6  rolling_std6  tn_t2_pred  \n",
       "0          4     12       4.681667      0.663910    5.110179  \n",
       "1          4     12       3.871667      1.002864    3.965106  \n",
       "2          4     12       2.680000      0.394360    3.221689  \n",
       "3          4     12       2.255000      0.466122    2.321459  \n",
       "4          4     12       2.481667      0.386130    2.196004  \n",
       "..       ...    ...            ...           ...         ...  \n",
       "553        4     12       0.000000      0.000000    0.010000  \n",
       "554        4     12       0.000000      0.000000    0.012500  \n",
       "555        4     12       0.000000      0.000000    0.012500  \n",
       "556        4     12       0.008333      0.004082    0.008571  \n",
       "557        4     12       0.000000      0.000000    0.008333  \n",
       "\n",
       "[558 rows x 12 columns]"
      ]
     },
     "execution_count": 36,
     "metadata": {},
     "output_type": "execute_result"
    }
   ],
   "source": [
    "df_final = df_test.merge(df_preds_t2, on=\"product_id\", how=\"left\")\n",
    "df_final"
   ]
  },
  {
   "cell_type": "code",
   "execution_count": 37,
   "id": "2ba72dab",
   "metadata": {},
   "outputs": [
    {
     "data": {
      "text/plain": [
       "0.18440516445913807"
      ]
     },
     "execution_count": 37,
     "metadata": {},
     "output_type": "execute_result"
    }
   ],
   "source": [
    "numerador = (df_final[\"tn\"]- df_final[\"tn_t2_pred\"]).abs().sum()\n",
    "denominador = df_final[\"tn\"].sum()\n",
    "porcentaje_error = (numerador / denominador)\n",
    "porcentaje_error"
   ]
  },
  {
   "cell_type": "code",
   "execution_count": 38,
   "id": "83438dba",
   "metadata": {},
   "outputs": [
    {
     "data": {
      "image/png": "[encoded data removed]",
      "text/plain": [
       "<Figure size 640x480 with 1 Axes>"
      ]
     },
     "metadata": {},
     "output_type": "display_data"
    }
   ],
   "source": [
    "import matplotlib.pyplot as plt\n",
    "df_final.plot(kind=\"scatter\", x=\"tn\", y=\"tn_t2_pred\", title=\"Predicciones vs TN\")\n",
    "plt.plot([0, 6], [0, 6], 'r--')\n",
    "plt.show()"
   ]
  },
  {
   "cell_type": "code",
   "execution_count": 39,
   "id": "8efe03d7",
   "metadata": {},
   "outputs": [
    {
     "data": {
      "application/vnd.plotly.v1+json": {
       "config": {
        "plotlyServerURL": "https://plot.ly"
       },
       "data": [
        {
         "customdata": {
          "bdata": "IU4iTiNOJE4lTiZOJ04oTilOKk4rTixOLU4uTi9OME4xTjJOM040TjVONk43TjhOOU46TjtOPE49Tj5OP05ATkFOQ05FTkZOR05JTkpOS05MTk1OTk5PTlFOUk5TTlROVU5WTldOWE5ZTlpOW05dTl5OX05hTmJOY05kTmVOZk5nTmhOaU5qTmtObE5tTm9OcE5xTnJOdE51TnZOd055TnpOe058Tn1Ofk5/ToBOgU6DToROhU6GTodOik6LToxOjU6PTpBOkk6UTpVOlk6XTphOmU6aTptOnE6dTp5On06hTqJOpE6lTqZOp06pTqpOq06sTq5Or06wTrFOsk60TrZOt064TrlOu069Tr5Ov07ATsFOwk7ETsZOx07ITspOzk7PTtBO0U7TTtRO1U7WTtdO2E7bTtxO3U7gTuFO5E7lTuZO6E7pTupO607tTu5O707wTvFO8k7zTvRO9U73TvhO+k77TvxO/k4ATwFPAk8DTwRPBk8HTwhPCU8KTwtPDE8NTw5PD08QTxFPEk8UTxZPGU8bTxxPHU8eTx9PIE8hTyNPJU8mTydPKE8pTypPK08sTy1PLk8vTzBPMU8zTzRPNU82TzhPOU86TztPPE89Tz5PQE9BT0JPQ09ET0dPSE9JT0pPS09MT01PTk9PT1BPUk9TT1VPVk9XT1lPWk9bT1xPXU9fT2BPYU9iT2NPZE9lT2ZPZ09oT2lPak9sT25Pb09wT3FPck90T3VPdk93T3hPek98T31Pfk9/T4BPgU+CT4NPhE+FT4ZPh0+JT4pPjE+NT45Pj0+QT5RPl0+ZT5pPm0+cT51Pnk+fT6BPoU+iT6NPpE+lT6ZPq0+sT7BPsU+yT7NPtE+2T7dPuE+5T7pPu0++T79PwU/DT8VPyE/QT9FP0k/WT9hP2k/bT99P4k/lT+hP6k/rT+xP70/wT/FP8k/1T/ZP+U/6T/xP/U/+T/9PAFABUAJQA1AEUAhQC1APUBBQEVAUUBZQF1AZUBxQHlAhUCJQJVAoUClQKlArUCxQLVAuUC9QMlAzUDRQOFA5UDpQO1A8UD1QPlBAUENQRFBFUEdQSFBJUEtQTlBPUFBQVVBXUFhQWVBaUFtQXFBeUF9QYFBhUGJQY1BkUGdQaVBtUHBQcVB0UHdQeFB6UHtQfFB9UH5QgVCDUIRQhlCHUIlQjFCNUI5Qj1CQUJNQlFCVUJhQmVCdUJ5Qn1CgUKFQolCkUKZQqVCrUKxQrVCuUK9QslCzULVQtlC6ULtQwFDBUMJQxVDHUMhQyVDKUM5Q0VDTUNVQ1lDYUNlQ3FDdUN5Q31DkUOVQ51DqUO9Q8FD8UP1Q/1ABUQNRCFEKUQ1RDlESURVRFlEXURlRGlEkUSZRJ1EpUS9RMVE5UTtRQVFHUUlRS1FPUVRRVlFXUVtRX1FgUXVRe1F+UaNRplGoUatRrFGuUbBRtVG4UbxRv1HEUcVR0VHSUddR4lHoUe9RA1IPUitS",
          "dtype": "i2"
         },
         "hovertemplate": "<b>TN Real</b>: %{x}<br><b>TN Predicho</b>: %{y}<br><b>Product ID</b>: %{customdata}<br><extra></extra>",
         "marker": {
          "opacity": 0.7,
          "size": 8
         },
         "mode": "markers",
         "name": "Datos",
         "type": "scatter",
         "x": {
          "bdata": "7FG4HoXrF0BI4XoUrkcRQGZmZmZmZgxAUrgehetRBEDhehSuR+ECQI/C9Shcj/o/zczMzMzM+D/2KFyPwvXoP4XrUbgehf8/4XoUrkfh9j/2KFyPwvX4PxSuR+F6FOY/UrgehetR9D9I4XoUrkfxP+F6FK5H4fI/cT0K16Nw8T+F61G4HoXrP+xRuB6F6+E/ZmZmZmZm9j/2KFyPwvXwP+xRuB6F6+k/4XoUrkfh6j8K16NwPQrnP0jhehSuR/E/uB6F61G47j/D9Shcj8LtP9ejcD0K1+M/KVyPwvUo3D8zMzMzMzPjPz0K16NwPdo/7FG4HoXr4T/NzMzMzMwAQFK4HoXrUdg/CtejcD0K5z8AAAAAAADQPylcj8L1KOQ/UrgehetR4D/NzMzMzMzcP1yPwvUoXN8/rkfhehSu1z+4HoXrUbjOPzMzMzMzM+M/MzMzMzMz4z/sUbgehevRPwAAAAAAAOA/FK5H4XoU3j/2KFyPwvXgP1K4HoXrUdg/j8L1KFyP4j+4HoXrUbjeP6RwPQrXo9A/AAAAAAAA0D/sUbgehevhPxSuR+F6FN4/KVyPwvUo3D/hehSuR+HaPwrXo3A9Ctc/PQrXo3A92j/Xo3A9CtfTPxSuR+F6FN4/ZmZmZmZm1j+uR+F6FK7XP0jhehSuR+E/SOF6FK5H0T/hehSuR+HaP6RwPQrXo8A/XI/C9Shc3z/2KFyPwvXYP+F6FK5H4do/SOF6FK5H0T/sUbgehevBPylcj8L1KLw/exSuR+F6pD+uR+F6FK7XP9ejcD0K19M/UrgehetR2D8pXI/C9SjsP8P1KFyPwsU/CtejcD0K1z89CtejcD3aP+xRuB6F68E/rkfhehSu1z9SuB6F61HIP4/C9Shcj9I/uB6F61G4zj8pXI/C9Si8PwrXo3A9Csc/KVyPwvUozD9xPQrXo3DNP3sUrkfheoQ/j8L1KFyP0j97FK5H4Xq0PwAAAAAAANA/MzMzMzMz0z/D9Shcj8LVP3E9CtejcM0/AAAAAAAA0D+uR+F6FK7XP4XrUbgehds/CtejcD0Kxz8UrkfhehTeP+xRuB6F68E/uB6F61G4zj/sUbgehevBP4/C9Shcj9I/16NwPQrX0z+kcD0K16PQP7gehetRuM4/MzMzMzMzwz9SuB6F61HIP1K4HoXrUdg/w/UoXI/C5T/hehSuR+HKPx+F61G4HtU/exSuR+F6xD+4HoXrUbi+P5qZmZmZmck/mpmZmZmZ2T8zMzMzMzPDPylcj8L1KLw/4XoUrkfhyj9xPQrXo3DNP+xRuB6F68E/uB6F61G4vj97FK5H4XrEP6RwPQrXo9A/uB6F61G4vj9xPQrXo3DNP5qZmZmZmck/CtejcD0Kxz+amZmZmZm5P1K4HoXrUcg/uB6F61G4zj8pXI/C9SjMPylcj8L1KMw/AAAAAAAA0D/D9Shcj8LFP+xRuB6F68E/mpmZmZmZyT/sUbgehevRP6RwPQrXo8A/w/UoXI/CxT+4HoXrUbiuP6RwPQrXo9A/CtejcD0K1z97FK5H4Xq0PwrXo3A9Crc/mpmZmZmZuT97FK5H4XrEPzMzMzMzM8M/pHA9CtejwD97FK5H4Xq0P3sUrkfherQ/mpmZmZmZuT97FK5H4Xq0PwrXo3A9Crc/pHA9CtejwD8K16NwPQq3P5qZmZmZmbk/7FG4HoXrwT8pXI/C9Si8PwrXo3A9Crc/exSuR+F6tD+amZmZmZm5P5qZmZmZmbk/KVyPwvUozD+4HoXrUbi+PwrXo3A9Crc/7FG4HoXrsT97FK5H4Xq0P7gehetRuK4/cT0K16NwzT+4HoXrUbiuPwrXo3A9Crc/cT0K16NwzT8K16NwPQq3P3sUrkfheqQ/uB6F61G4vj8K16NwPQq3P3sUrkfherQ/exSuR+F6tD97FK5H4Xq0P+xRuB6F67E/mpmZmZmZqT8zMzMzMzPDP3sUrkfhepQ/7FG4HoXrsT97FK5H4Xq0Pylcj8L1KLw/7FG4HoXrwT97FK5H4XqUP6RwPQrXo8A/7FG4HoXrwT+4HoXrUbi+P+xRuB6F67E/exSuR+F6tD97FK5H4Xq0P5qZmZmZmak/exSuR+F6lD8pXI/C9Si8P5qZmZmZmbk/uB6F61G4nj+4HoXrUbiuP5qZmZmZmak/uB6F61G4rj/sUbgeheuxP5qZmZmZmak/7FG4HoXrsT/hehSuR+HKP5qZmZmZmak/w/UoXI/CxT+amZmZmZm5P3sUrkfherQ/7FG4HoXrsT97FK5H4XqUP5qZmZmZmck/7FG4HoXrsT+amZmZmZmpP3sUrkfherQ/uB6F61G4nj+4HoXrUbieP5qZmZmZmak/mpmZmZmZqT+4HoXrUbiuP+xRuB6F67E/exSuR+F6pD97FK5H4XqUP+xRuB6F67E/exSuR+F6pD+amZmZmZmpP5qZmZmZmak/mpmZmZmZqT97FK5H4XqUP5qZmZmZmck/exSuR+F6tD97FK5H4XqkPwrXo3A9Crc/exSuR+F6pD97FK5H4XqkP3sUrkfhepQ/7FG4HoXrsT/sUbgehevBP3sUrkfheqQ/exSuR+F6pD/sUbgeheuxP7gehetRuJ4/exSuR+F6hD/sUbgeheuxP3sUrkfhepQ/pHA9CtejwD+amZmZmZmpP7gehetRuJ4/exSuR+F6pD/sUbgeheuxPylcj8L1KLw/7FG4HoXrsT/sUbgeheuxPylcj8L1KLw/uB6F61G4rj+amZmZmZmpP5qZmZmZmak/KVyPwvUovD97FK5H4XqUP5qZmZmZmbk/exSuR+F6pD97FK5H4XqUP7gehetRuK4/mpmZmZmZqT97FK5H4XqkP3sUrkfheqQ/mpmZmZmZqT+amZmZmZmpPwAAAAAAAAAAmpmZmZmZqT+4HoXrUbieP5qZmZmZmak/uB6F61G4nj+4HoXrUbieP7gehetRuJ4/mpmZmZmZqT+amZmZmZmpP7gehetRuK4/uB6F61G4rj+amZmZmZmpP+xRuB6F67E/AAAAAAAAAAC4HoXrUbiuP+xRuB6F67E/uB6F61G4nj+amZmZmZmpP5qZmZmZmbk/mpmZmZmZqT/sUbgeheuxP3sUrkfheqQ/uB6F61G4rj+amZmZmZmpP7gehetRuJ4/uB6F61G4vj97FK5H4XqkP3sUrkfheqQ/exSuR+F6pD97FK5H4XqkP3sUrkfhepQ/exSuR+F6lD+4HoXrUbieP7gehetRuJ4/uB6F61G4nj+4HoXrUbiuP+xRuB6F67E/exSuR+F6pD+4HoXrUbieP7gehetRuJ4/uB6F61G4nj97FK5H4XqkP7gehetRuJ4/uB6F61G4nj/sUbgehevBP3sUrkfheqQ/KVyPwvUovD97FK5H4XqUP3sUrkfheqQ/exSuR+F6pD+4HoXrUbiuP3sUrkfheqQ/exSuR+F6pD97FK5H4XqkP7gehetRuJ4/mpmZmZmZqT97FK5H4XqEP3sUrkfheqQ/exSuR+F6pD8pXI/C9Si8P3sUrkfhepQ/uB6F61G4nj+amZmZmZmpP5qZmZmZmak/exSuR+F6lD97FK5H4XqUP7gehetRuK4/uB6F61G4nj+4HoXrUbiuP+xRuB6F68E/CtejcD0Ktz+4HoXrUbieP7gehetRuJ4/exSuR+F6lD+4HoXrUbiuP3sUrkfhepQ/CtejcD0Ktz+4HoXrUbiuP3sUrkfheqQ/exSuR+F6pD97FK5H4XqEP3sUrkfheoQ/uB6F61G4nj+4HoXrUbieP7gehetRuJ4/uB6F61G4nj97FK5H4XqkP3sUrkfherQ/exSuR+F6lD97FK5H4XqUP7gehetRuJ4/exSuR+F6lD+4HoXrUbieP3sUrkfhepQ/uB6F61G4nj97FK5H4XqEP7gehetRuJ4/mpmZmZmZqT+amZmZmZmpP7gehetRuJ4/exSuR+F6lD+4HoXrUbieP3sUrkfhepQ/AAAAAAAAAAB7FK5H4XqEP3sUrkfhepQ/exSuR+F6pD+amZmZmZmpP3sUrkfhepQ/exSuR+F6lD+4HoXrUbieP3sUrkfheqQ/mpmZmZmZqT+4HoXrUbieP3sUrkfheoQ/uB6F61G4rj+amZmZmZmpP7gehetRuJ4/exSuR+F6hD+amZmZmZmpP7gehetRuJ4/exSuR+F6lD+amZmZmZmpP3sUrkfhepQ/exSuR+F6lD+4HoXrUbieP7gehetRuJ4/uB6F61G4nj+4HoXrUbieP5qZmZmZmak/mpmZmZmZqT97FK5H4XqUP3sUrkfhepQ/exSuR+F6hD+4HoXrUbieP3sUrkfheoQ/exSuR+F6hD+4HoXrUbieP3sUrkfhepQ/exSuR+F6lD+4HoXrUbieP3sUrkfheoQ/mpmZmZmZqT+4HoXrUbieP7gehetRuJ4/exSuR+F6lD97FK5H4XqEP3sUrkfheqQ/mpmZmZmZqT+4HoXrUbieP3sUrkfheoQ/exSuR+F6hD+4HoXrUbiuP3sUrkfheoQ/uB6F61G4nj+4HoXrUbieP5qZmZmZmak/uB6F61G4nj97FK5H4XqUP3sUrkfhepQ/exSuR+F6hD97FK5H4XqEP7gehetRuJ4/mpmZmZmZqT+4HoXrUbieP3sUrkfheoQ/AAAAAAAAAAB7FK5H4XqkP3sUrkfhepQ/exSuR+F6hD+4HoXrUbiuP3sUrkfheoQ/uB6F61G4nj+4HoXrUbieP3sUrkfhepQ/exSuR+F6pD97FK5H4XqUP3sUrkfheqQ/exSuR+F6hD97FK5H4XqEP3sUrkfheoQ/uB6F61G4nj97FK5H4XqUP7gehetRuJ4/exSuR+F6lD97FK5H4XqEP3sUrkfheoQ/exSuR+F6hD97FK5H4XqEP3sUrkfhepQ/uB6F61G4rj97FK5H4XqEP3sUrkfheoQ/exSuR+F6hD97FK5H4XqUP3sUrkfheoQ/exSuR+F6hD+4HoXrUbieP3sUrkfheoQ/mpmZmZmZqT97FK5H4XqEP3sUrkfheoQ/exSuR+F6hD97FK5H4XqkP7gehetRuJ4/exSuR+F6hD97FK5H4XqkP3sUrkfhepQ/exSuR+F6pD97FK5H4XqUP3sUrkfheqQ/exSuR+F6hD+4HoXrUbieP3sUrkfheoQ/exSuR+F6pD97FK5H4XqUP3sUrkfheoQ/exSuR+F6hD97FK5H4XqEP3sUrkfheoQ/exSuR+F6pD97FK5H4XqUP7gehetRuJ4/uB6F61G4nj97FK5H4XqUP7gehetRuJ4/exSuR+F6pD97FK5H4XqUPwAAAAAAAAAAexSuR+F6hD97FK5H4XqEP3sUrkfheoQ/exSuR+F6lD97FK5H4XqUP3sUrkfheoQ/exSuR+F6hD+4HoXrUbieP3sUrkfheoQ/exSuR+F6lD97FK5H4XqEP3sUrkfheoQ/uB6F61G4nj97FK5H4XqEP3sUrkfhepQ/exSuR+F6hD97FK5H4XqEP3sUrkfheoQ/exSuR+F6hD97FK5H4XqEP3sUrkfheoQ/exSuR+F6hD97FK5H4XqEP3sUrkfheoQ/exSuR+F6hD+4HoXrUbieP3sUrkfheoQ/exSuR+F6lD97FK5H4XqEP3sUrkfheoQ/exSuR+F6hD8AAAAAAAAAAHsUrkfheoQ/exSuR+F6hD97FK5H4XqEP3sUrkfheoQ/exSuR+F6hD97FK5H4XqUP3sUrkfheoQ/exSuR+F6hD97FK5H4XqUP3sUrkfheoQ/exSuR+F6hD97FK5H4XqEP3sUrkfheoQ/exSuR+F6hD97FK5H4XqEP3sUrkfheoQ/AAAAAAAAAAB7FK5H4XqEPwAAAAAAAAAAexSuR+F6hD97FK5H4XqEP3sUrkfheoQ/exSuR+F6hD97FK5H4XqEP3sUrkfheoQ/",
          "dtype": "f8"
         },
         "y": {
          "bdata": "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",
          "dtype": "f8"
         }
        },
        {
         "line": {
          "color": "red",
          "dash": "dash"
         },
         "mode": "lines",
         "name": "y = x",
         "type": "scatter",
         "x": [
          0,
          1400
         ],
         "y": [
          0,
          1400
         ]
        }
       ],
       "layout": {
        "height": 600,
        "showlegend": true,
        "template": {
         "data": {
          "bar": [
           {
            "error_x": {
             "color": "#2a3f5f"
            },
            "error_y": {
             "color": "#2a3f5f"
            },
            "marker": {
             "line": {
              "color": "#E5ECF6",
              "width": 0.5
             },
             "pattern": {
              "fillmode": "overlay",
              "size": 10,
              "solidity": 0.2
             }
            },
            "type": "bar"
           }
          ],
          "barpolar": [
           {
            "marker": {
             "line": {
              "color": "#E5ECF6",
              "width": 0.5
             },
             "pattern": {
              "fillmode": "overlay",
              "size": 10,
              "solidity": 0.2
             }
            },
            "type": "barpolar"
           }
          ],
          "carpet": [
           {
            "aaxis": {
             "endlinecolor": "#2a3f5f",
             "gridcolor": "white",
             "linecolor": "white",
             "minorgridcolor": "white",
             "startlinecolor": "#2a3f5f"
            },
            "baxis": {
             "endlinecolor": "#2a3f5f",
             "gridcolor": "white",
             "linecolor": "white",
             "minorgridcolor": "white",
             "startlinecolor": "#2a3f5f"
            },
            "type": "carpet"
           }
          ],
          "choropleth": [
           {
            "colorbar": {
             "outlinewidth": 0,
             "ticks": ""
            },
            "type": "choropleth"
           }
          ],
          "contour": [
           {
            "colorbar": {
             "outlinewidth": 0,
             "ticks": ""
            },
            "colorscale": [
             [
              0,
              "#0d0887"
             ],
             [
              0.1111111111111111,
              "#46039f"
             ],
             [
              0.2222222222222222,
              "#7201a8"
             ],
             [
              0.3333333333333333,
              "#9c179e"
             ],
             [
              0.4444444444444444,
              "#bd3786"
             ],
             [
              0.5555555555555556,
              "#d8576b"
             ],
             [
              0.6666666666666666,
              "#ed7953"
             ],
             [
              0.7777777777777778,
              "#fb9f3a"
             ],
             [
              0.8888888888888888,
              "#fdca26"
             ],
             [
              1,
              "#f0f921"
             ]
            ],
            "type": "contour"
           }
          ],
          "contourcarpet": [
           {
            "colorbar": {
             "outlinewidth": 0,
             "ticks": ""
            },
            "type": "contourcarpet"
           }
          ],
          "heatmap": [
           {
            "colorbar": {
             "outlinewidth": 0,
             "ticks": ""
            },
            "colorscale": [
             [
              0,
              "#0d0887"
             ],
             [
              0.1111111111111111,
              "#46039f"
             ],
             [
              0.2222222222222222,
              "#7201a8"
             ],
             [
              0.3333333333333333,
              "#9c179e"
             ],
             [
              0.4444444444444444,
              "#bd3786"
             ],
             [
              0.5555555555555556,
              "#d8576b"
             ],
             [
              0.6666666666666666,
              "#ed7953"
             ],
             [
              0.7777777777777778,
              "#fb9f3a"
             ],
             [
              0.8888888888888888,
              "#fdca26"
             ],
             [
              1,
              "#f0f921"
             ]
            ],
            "type": "heatmap"
           }
          ],
          "histogram": [
           {
            "marker": {
             "pattern": {
              "fillmode": "overlay",
              "size": 10,
              "solidity": 0.2
             }
            },
            "type": "histogram"
           }
          ],
          "histogram2d": [
           {
            "colorbar": {
             "outlinewidth": 0,
             "ticks": ""
            },
            "colorscale": [
             [
              0,
              "#0d0887"
             ],
             [
              0.1111111111111111,
              "#46039f"
             ],
             [
              0.2222222222222222,
              "#7201a8"
             ],
             [
              0.3333333333333333,
              "#9c179e"
             ],
             [
              0.4444444444444444,
              "#bd3786"
             ],
             [
              0.5555555555555556,
              "#d8576b"
             ],
             [
              0.6666666666666666,
              "#ed7953"
             ],
             [
              0.7777777777777778,
              "#fb9f3a"
             ],
             [
              0.8888888888888888,
              "#fdca26"
             ],
             [
              1,
              "#f0f921"
             ]
            ],
            "type": "histogram2d"
           }
          ],
          "histogram2dcontour": [
           {
            "colorbar": {
             "outlinewidth": 0,
             "ticks": ""
            },
            "colorscale": [
             [
              0,
              "#0d0887"
             ],
             [
              0.1111111111111111,
              "#46039f"
             ],
             [
              0.2222222222222222,
              "#7201a8"
             ],
             [
              0.3333333333333333,
              "#9c179e"
             ],
             [
              0.4444444444444444,
              "#bd3786"
             ],
             [
              0.5555555555555556,
              "#d8576b"
             ],
             [
              0.6666666666666666,
              "#ed7953"
             ],
             [
              0.7777777777777778,
              "#fb9f3a"
             ],
             [
              0.8888888888888888,
              "#fdca26"
             ],
             [
              1,
              "#f0f921"
             ]
            ],
            "type": "histogram2dcontour"
           }
          ],
          "mesh3d": [
           {
            "colorbar": {
             "outlinewidth": 0,
             "ticks": ""
            },
            "type": "mesh3d"
           }
          ],
          "parcoords": [
           {
            "line": {
             "colorbar": {
              "outlinewidth": 0,
              "ticks": ""
             }
            },
            "type": "parcoords"
           }
          ],
          "pie": [
           {
            "automargin": true,
            "type": "pie"
           }
          ],
          "scatter": [
           {
            "fillpattern": {
             "fillmode": "overlay",
             "size": 10,
             "solidity": 0.2
            },
            "type": "scatter"
           }
          ],
          "scatter3d": [
           {
            "line": {
             "colorbar": {
              "outlinewidth": 0,
              "ticks": ""
             }
            },
            "marker": {
             "colorbar": {
              "outlinewidth": 0,
              "ticks": ""
             }
            },
            "type": "scatter3d"
           }
          ],
          "scattercarpet": [
           {
            "marker": {
             "colorbar": {
              "outlinewidth": 0,
              "ticks": ""
             }
            },
            "type": "scattercarpet"
           }
          ],
          "scattergeo": [
           {
            "marker": {
             "colorbar": {
              "outlinewidth": 0,
              "ticks": ""
             }
            },
            "type": "scattergeo"
           }
          ],
          "scattergl": [
           {
            "marker": {
             "colorbar": {
              "outlinewidth": 0,
              "ticks": ""
             }
            },
            "type": "scattergl"
           }
          ],
          "scattermap": [
           {
            "marker": {
             "colorbar": {
              "outlinewidth": 0,
              "ticks": ""
             }
            },
            "type": "scattermap"
           }
          ],
          "scattermapbox": [
           {
            "marker": {
             "colorbar": {
              "outlinewidth": 0,
              "ticks": ""
             }
            },
            "type": "scattermapbox"
           }
          ],
          "scatterpolar": [
           {
            "marker": {
             "colorbar": {
              "outlinewidth": 0,
              "ticks": ""
             }
            },
            "type": "scatterpolar"
           }
          ],
          "scatterpolargl": [
           {
            "marker": {
             "colorbar": {
              "outlinewidth": 0,
              "ticks": ""
             }
            },
            "type": "scatterpolargl"
           }
          ],
          "scatterternary": [
           {
            "marker": {
             "colorbar": {
              "outlinewidth": 0,
              "ticks": ""
             }
            },
            "type": "scatterternary"
           }
          ],
          "surface": [
           {
            "colorbar": {
             "outlinewidth": 0,
             "ticks": ""
            },
            "colorscale": [
             [
              0,
              "#0d0887"
             ],
             [
              0.1111111111111111,
              "#46039f"
             ],
             [
              0.2222222222222222,
              "#7201a8"
             ],
             [
              0.3333333333333333,
              "#9c179e"
             ],
             [
              0.4444444444444444,
              "#bd3786"
             ],
             [
              0.5555555555555556,
              "#d8576b"
             ],
             [
              0.6666666666666666,
              "#ed7953"
             ],
             [
              0.7777777777777778,
              "#fb9f3a"
             ],
             [
              0.8888888888888888,
              "#fdca26"
             ],
             [
              1,
              "#f0f921"
             ]
            ],
            "type": "surface"
           }
          ],
          "table": [
           {
            "cells": {
             "fill": {
              "color": "#EBF0F8"
             },
             "line": {
              "color": "white"
             }
            },
            "header": {
             "fill": {
              "color": "#C8D4E3"
             },
             "line": {
              "color": "white"
             }
            },
            "type": "table"
           }
          ]
         },
         "layout": {
          "annotationdefaults": {
           "arrowcolor": "#2a3f5f",
           "arrowhead": 0,
           "arrowwidth": 1
          },
          "autotypenumbers": "strict",
          "coloraxis": {
           "colorbar": {
            "outlinewidth": 0,
            "ticks": ""
           }
          },
          "colorscale": {
           "diverging": [
            [
             0,
             "#8e0152"
            ],
            [
             0.1,
             "#c51b7d"
            ],
            [
             0.2,
             "#de77ae"
            ],
            [
             0.3,
             "#f1b6da"
            ],
            [
             0.4,
             "#fde0ef"
            ],
            [
             0.5,
             "#f7f7f7"
            ],
            [
             0.6,
             "#e6f5d0"
            ],
            [
             0.7,
             "#b8e186"
            ],
            [
             0.8,
             "#7fbc41"
            ],
            [
             0.9,
             "#4d9221"
            ],
            [
             1,
             "#276419"
            ]
           ],
           "sequential": [
            [
             0,
             "#0d0887"
            ],
            [
             0.1111111111111111,
             "#46039f"
            ],
            [
             0.2222222222222222,
             "#7201a8"
            ],
            [
             0.3333333333333333,
             "#9c179e"
            ],
            [
             0.4444444444444444,
             "#bd3786"
            ],
            [
             0.5555555555555556,
             "#d8576b"
            ],
            [
             0.6666666666666666,
             "#ed7953"
            ],
            [
             0.7777777777777778,
             "#fb9f3a"
            ],
            [
             0.8888888888888888,
             "#fdca26"
            ],
            [
             1,
             "#f0f921"
            ]
           ],
           "sequentialminus": [
            [
             0,
             "#0d0887"
            ],
            [
             0.1111111111111111,
             "#46039f"
            ],
            [
             0.2222222222222222,
             "#7201a8"
            ],
            [
             0.3333333333333333,
             "#9c179e"
            ],
            [
             0.4444444444444444,
             "#bd3786"
            ],
            [
             0.5555555555555556,
             "#d8576b"
            ],
            [
             0.6666666666666666,
             "#ed7953"
            ],
            [
             0.7777777777777778,
             "#fb9f3a"
            ],
            [
             0.8888888888888888,
             "#fdca26"
            ],
            [
             1,
             "#f0f921"
            ]
           ]
          },
          "colorway": [
           "#636efa",
           "#EF553B",
           "#00cc96",
           "#ab63fa",
           "#FFA15A",
           "#19d3f3",
           "#FF6692",
           "#B6E880",
           "#FF97FF",
           "#FECB52"
          ],
          "font": {
           "color": "#2a3f5f"
          },
          "geo": {
           "bgcolor": "white",
           "lakecolor": "white",
           "landcolor": "#E5ECF6",
           "showlakes": true,
           "showland": true,
           "subunitcolor": "white"
          },
          "hoverlabel": {
           "align": "left"
          },
          "hovermode": "closest",
          "mapbox": {
           "style": "light"
          },
          "paper_bgcolor": "white",
          "plot_bgcolor": "#E5ECF6",
          "polar": {
           "angularaxis": {
            "gridcolor": "white",
            "linecolor": "white",
            "ticks": ""
           },
           "bgcolor": "#E5ECF6",
           "radialaxis": {
            "gridcolor": "white",
            "linecolor": "white",
            "ticks": ""
           }
          },
          "scene": {
           "xaxis": {
            "backgroundcolor": "#E5ECF6",
            "gridcolor": "white",
            "gridwidth": 2,
            "linecolor": "white",
            "showbackground": true,
            "ticks": "",
            "zerolinecolor": "white"
           },
           "yaxis": {
            "backgroundcolor": "#E5ECF6",
            "gridcolor": "white",
            "gridwidth": 2,
            "linecolor": "white",
            "showbackground": true,
            "ticks": "",
            "zerolinecolor": "white"
           },
           "zaxis": {
            "backgroundcolor": "#E5ECF6",
            "gridcolor": "white",
            "gridwidth": 2,
            "linecolor": "white",
            "showbackground": true,
            "ticks": "",
            "zerolinecolor": "white"
           }
          },
          "shapedefaults": {
           "line": {
            "color": "#2a3f5f"
           }
          },
          "ternary": {
           "aaxis": {
            "gridcolor": "white",
            "linecolor": "white",
            "ticks": ""
           },
           "baxis": {
            "gridcolor": "white",
            "linecolor": "white",
            "ticks": ""
           },
           "bgcolor": "#E5ECF6",
           "caxis": {
            "gridcolor": "white",
            "linecolor": "white",
            "ticks": ""
           }
          },
          "title": {
           "x": 0.05
          },
          "xaxis": {
           "automargin": true,
           "gridcolor": "white",
           "linecolor": "white",
           "ticks": "",
           "title": {
            "standoff": 15
           },
           "zerolinecolor": "white",
           "zerolinewidth": 2
          },
          "yaxis": {
           "automargin": true,
           "gridcolor": "white",
           "linecolor": "white",
           "ticks": "",
           "title": {
            "standoff": 15
           },
           "zerolinecolor": "white",
           "zerolinewidth": 2
          }
         }
        },
        "title": {
         "text": "Predicciones vs TN"
        },
        "width": 600,
        "xaxis": {
         "range": [
          0,
          7
         ],
         "scaleanchor": "y",
         "scaleratio": 1,
         "title": {
          "text": "TN Real"
         }
        },
        "yaxis": {
         "range": [
          0,
          7
         ],
         "scaleanchor": "x",
         "scaleratio": 1,
         "title": {
          "text": "TN Predicho"
         }
        }
       }
      }
     },
     "metadata": {},
     "output_type": "display_data"
    }
   ],
   "source": [
    "import plotly.graph_objects as go\n",
    "\n",
    "# Crear el gráfico de dispersión\n",
    "fig = go.Figure()\n",
    "\n",
    "# Añadir los puntos de dispersión con el product_id en el hover\n",
    "fig.add_trace(go.Scatter(\n",
    "    x=df_final[\"tn\"],\n",
    "    y=df_final[\"tn_t2_pred\"],\n",
    "    mode='markers',\n",
    "    name='Datos',\n",
    "    customdata=df_final[\"product_id\"],  # Pasamos el product_id como dato adicional\n",
    "    hovertemplate=(\n",
    "        \"<b>TN Real</b>: %{x}<br>\"\n",
    "        \"<b>TN Predicho</b>: %{y}<br>\"\n",
    "        \"<b>Product ID</b>: %{customdata}<br>\"\n",
    "        \"<extra></extra>\"  # Elimina información adicional automática\n",
    "    ),\n",
    "    marker=dict(size=8, opacity=0.7)  # Opcional: ajustar tamaño y transparencia\n",
    "))\n",
    "\n",
    "# Añadir la línea de referencia y=x\n",
    "fig.add_trace(go.Scatter(\n",
    "    x=[0, 1400],\n",
    "    y=[0, 1400],\n",
    "    mode='lines',\n",
    "    name='y = x',\n",
    "    line=dict(color='red', dash='dash')\n",
    "))\n",
    "\n",
    "# Configurar el diseño del gráfico para que sea cuadrado\n",
    "fig.update_layout(\n",
    "    title='Predicciones vs TN',\n",
    "    xaxis_title='TN Real',\n",
    "    yaxis_title='TN Predicho',\n",
    "    showlegend=True,\n",
    "    # Forzar misma escala en ejes X e Y\n",
    "    xaxis=dict(scaleanchor=\"y\", scaleratio=1),\n",
    "    yaxis=dict(scaleanchor=\"x\", scaleratio=1),\n",
    "    # Tamaño cuadrado (opcional)\n",
    "    width=600,\n",
    "    height=600,\n",
    "    # Rango fijo para ambos ejes (opcional)\n",
    "    xaxis_range=[0, 7],\n",
    "    yaxis_range=[0, 7]\n",
    ")\n",
    "\n",
    "# Mostrar el gráfico\n",
    "fig.show()"
   ]
  },
  {
   "cell_type": "code",
   "execution_count": 40,
   "id": "84871a94",
   "metadata": {},
   "outputs": [
    {
     "name": "stdout",
     "output_type": "stream",
     "text": [
      "106.15647943436855 | 99.19\n"
     ]
    }
   ],
   "source": [
    "print(df_final[\"tn_t2_pred\"].sum(),\"|\",df_final[\"tn\"].sum())"
   ]
  },
  {
   "cell_type": "code",
   "execution_count": 41,
   "id": "4750dc95",
   "metadata": {},
   "outputs": [
    {
     "data": {
      "application/vnd.microsoft.datawrangler.viewer.v0+json": {
       "columns": [
        {
         "name": "index",
         "rawType": "int64",
         "type": "integer"
        },
        {
         "name": "product_id",
         "rawType": "int64",
         "type": "integer"
        },
        {
         "name": "tn",
         "rawType": "float64",
         "type": "float"
        },
        {
         "name": "tn_t2_pred",
         "rawType": "float64",
         "type": "float"
        },
        {
         "name": "error",
         "rawType": "float64",
         "type": "float"
        },
        {
         "name": "error_relativo",
         "rawType": "float64",
         "type": "float"
        }
       ],
       "ref": "39c98157-5218-478d-8ad9-6b298add6bb0",
       "rows": [
        [
         "0",
         "20001",
         "5.98",
         "5.1101788854598995",
         "0.8698211145401009",
         "0.14545503587627104"
        ],
        [
         "7",
         "20008",
         "0.78",
         "1.535029017031193",
         "0.7550290170311931",
         "0.9679859192707603"
        ],
        [
         "11",
         "20012",
         "0.69",
         "1.3299742282927036",
         "0.6399742282927037",
         "0.9274988815836286"
        ],
        [
         "17",
         "20018",
         "0.56",
         "0.9870512074232102",
         "0.4270512074232101",
         "0.7625914418271609"
        ],
        [
         "1",
         "20002",
         "4.32",
         "3.9651057422161102",
         "0.35489425778389005",
         "0.08215144856108565"
        ],
        [
         "27",
         "20028",
         "0.44",
         "0.7697837030142546",
         "0.3297837030142546",
         "0.7495084159414876"
        ],
        [
         "2",
         "20003",
         "3.55",
         "3.221689233109355",
         "0.32831076689064487",
         "0.09248190616637884"
        ],
        [
         "40",
         "20044",
         "0.24",
         "0.5148112094402313",
         "0.2748112094402313",
         "1.1450467060009637"
        ],
        [
         "43",
         "20047",
         "0.28",
         "0.5479569001682103",
         "0.2679569001682103",
         "0.9569889291721795"
        ],
        [
         "72",
         "20080",
         "0.04",
         "0.2929436841607093",
         "0.25294368416070934",
         "6.323592104017734"
        ],
        [
         "89",
         "20100",
         "0.01",
         "0.2602882623672485",
         "0.2502882623672485",
         "25.02882623672485"
        ],
        [
         "6",
         "20007",
         "1.55",
         "1.7760576002299788",
         "0.22605760022997878",
         "0.1458436130515992"
        ],
        [
         "123",
         "20143",
         "0.12",
         "0.34074092127382755",
         "0.22074092127382755",
         "1.8395076772818963"
        ],
        [
         "3",
         "20004",
         "2.54",
         "2.3214588981866835",
         "0.21854110181331654",
         "0.08603980386351044"
        ],
        [
         "16",
         "20017",
         "0.86",
         "1.0756870655715467",
         "0.2156870655715467",
         "0.2507989134552869"
        ],
        [
         "13",
         "20014",
         "1.08",
         "1.2956451192498206",
         "0.21564511924982055",
         "0.1996714067127968"
        ],
        [
         "29",
         "20030",
         "0.41",
         "0.6154763644188642",
         "0.20547636441886424",
         "0.5011618644362543"
        ],
        [
         "32",
         "20033",
         "0.38",
         "0.5761896478384733",
         "0.19618964783847326",
         "0.5162885469433507"
        ],
        [
         "65",
         "20072",
         "0.13",
         "0.32432319253683095",
         "0.19432319253683095",
         "1.4947937887448535"
        ],
        [
         "71",
         "20079",
         "0.11",
         "0.29657476805150507",
         "0.18657476805150508",
         "1.6961342550136826"
        ]
       ],
       "shape": {
        "columns": 5,
        "rows": 20
       }
      },
      "text/html": [
       "<div>\n",
       "<style scoped>\n",
       "    .dataframe tbody tr th:only-of-type {\n",
       "        vertical-align: middle;\n",
       "    }\n",
       "\n",
       "    .dataframe tbody tr th {\n",
       "        vertical-align: top;\n",
       "    }\n",
       "\n",
       "    .dataframe thead th {\n",
       "        text-align: right;\n",
       "    }\n",
       "</style>\n",
       "<table border=\"1\" class=\"dataframe\">\n",
       "  <thead>\n",
       "    <tr style=\"text-align: right;\">\n",
       "      <th></th>\n",
       "      <th>product_id</th>\n",
       "      <th>tn</th>\n",
       "      <th>tn_t2_pred</th>\n",
       "      <th>error</th>\n",
       "      <th>error_relativo</th>\n",
       "    </tr>\n",
       "  </thead>\n",
       "  <tbody>\n",
       "    <tr>\n",
       "      <th>0</th>\n",
       "      <td>20001</td>\n",
       "      <td>5.98</td>\n",
       "      <td>5.110179</td>\n",
       "      <td>0.869821</td>\n",
       "      <td>0.145455</td>\n",
       "    </tr>\n",
       "    <tr>\n",
       "      <th>7</th>\n",
       "      <td>20008</td>\n",
       "      <td>0.78</td>\n",
       "      <td>1.535029</td>\n",
       "      <td>0.755029</td>\n",
       "      <td>0.967986</td>\n",
       "    </tr>\n",
       "    <tr>\n",
       "      <th>11</th>\n",
       "      <td>20012</td>\n",
       "      <td>0.69</td>\n",
       "      <td>1.329974</td>\n",
       "      <td>0.639974</td>\n",
       "      <td>0.927499</td>\n",
       "    </tr>\n",
       "    <tr>\n",
       "      <th>17</th>\n",
       "      <td>20018</td>\n",
       "      <td>0.56</td>\n",
       "      <td>0.987051</td>\n",
       "      <td>0.427051</td>\n",
       "      <td>0.762591</td>\n",
       "    </tr>\n",
       "    <tr>\n",
       "      <th>1</th>\n",
       "      <td>20002</td>\n",
       "      <td>4.32</td>\n",
       "      <td>3.965106</td>\n",
       "      <td>0.354894</td>\n",
       "      <td>0.082151</td>\n",
       "    </tr>\n",
       "    <tr>\n",
       "      <th>27</th>\n",
       "      <td>20028</td>\n",
       "      <td>0.44</td>\n",
       "      <td>0.769784</td>\n",
       "      <td>0.329784</td>\n",
       "      <td>0.749508</td>\n",
       "    </tr>\n",
       "    <tr>\n",
       "      <th>2</th>\n",
       "      <td>20003</td>\n",
       "      <td>3.55</td>\n",
       "      <td>3.221689</td>\n",
       "      <td>0.328311</td>\n",
       "      <td>0.092482</td>\n",
       "    </tr>\n",
       "    <tr>\n",
       "      <th>40</th>\n",
       "      <td>20044</td>\n",
       "      <td>0.24</td>\n",
       "      <td>0.514811</td>\n",
       "      <td>0.274811</td>\n",
       "      <td>1.145047</td>\n",
       "    </tr>\n",
       "    <tr>\n",
       "      <th>43</th>\n",
       "      <td>20047</td>\n",
       "      <td>0.28</td>\n",
       "      <td>0.547957</td>\n",
       "      <td>0.267957</td>\n",
       "      <td>0.956989</td>\n",
       "    </tr>\n",
       "    <tr>\n",
       "      <th>72</th>\n",
       "      <td>20080</td>\n",
       "      <td>0.04</td>\n",
       "      <td>0.292944</td>\n",
       "      <td>0.252944</td>\n",
       "      <td>6.323592</td>\n",
       "    </tr>\n",
       "    <tr>\n",
       "      <th>89</th>\n",
       "      <td>20100</td>\n",
       "      <td>0.01</td>\n",
       "      <td>0.260288</td>\n",
       "      <td>0.250288</td>\n",
       "      <td>25.028826</td>\n",
       "    </tr>\n",
       "    <tr>\n",
       "      <th>6</th>\n",
       "      <td>20007</td>\n",
       "      <td>1.55</td>\n",
       "      <td>1.776058</td>\n",
       "      <td>0.226058</td>\n",
       "      <td>0.145844</td>\n",
       "    </tr>\n",
       "    <tr>\n",
       "      <th>123</th>\n",
       "      <td>20143</td>\n",
       "      <td>0.12</td>\n",
       "      <td>0.340741</td>\n",
       "      <td>0.220741</td>\n",
       "      <td>1.839508</td>\n",
       "    </tr>\n",
       "    <tr>\n",
       "      <th>3</th>\n",
       "      <td>20004</td>\n",
       "      <td>2.54</td>\n",
       "      <td>2.321459</td>\n",
       "      <td>0.218541</td>\n",
       "      <td>0.086040</td>\n",
       "    </tr>\n",
       "    <tr>\n",
       "      <th>16</th>\n",
       "      <td>20017</td>\n",
       "      <td>0.86</td>\n",
       "      <td>1.075687</td>\n",
       "      <td>0.215687</td>\n",
       "      <td>0.250799</td>\n",
       "    </tr>\n",
       "    <tr>\n",
       "      <th>13</th>\n",
       "      <td>20014</td>\n",
       "      <td>1.08</td>\n",
       "      <td>1.295645</td>\n",
       "      <td>0.215645</td>\n",
       "      <td>0.199671</td>\n",
       "    </tr>\n",
       "    <tr>\n",
       "      <th>29</th>\n",
       "      <td>20030</td>\n",
       "      <td>0.41</td>\n",
       "      <td>0.615476</td>\n",
       "      <td>0.205476</td>\n",
       "      <td>0.501162</td>\n",
       "    </tr>\n",
       "    <tr>\n",
       "      <th>32</th>\n",
       "      <td>20033</td>\n",
       "      <td>0.38</td>\n",
       "      <td>0.576190</td>\n",
       "      <td>0.196190</td>\n",
       "      <td>0.516289</td>\n",
       "    </tr>\n",
       "    <tr>\n",
       "      <th>65</th>\n",
       "      <td>20072</td>\n",
       "      <td>0.13</td>\n",
       "      <td>0.324323</td>\n",
       "      <td>0.194323</td>\n",
       "      <td>1.494794</td>\n",
       "    </tr>\n",
       "    <tr>\n",
       "      <th>71</th>\n",
       "      <td>20079</td>\n",
       "      <td>0.11</td>\n",
       "      <td>0.296575</td>\n",
       "      <td>0.186575</td>\n",
       "      <td>1.696134</td>\n",
       "    </tr>\n",
       "  </tbody>\n",
       "</table>\n",
       "</div>"
      ],
      "text/plain": [
       "     product_id    tn  tn_t2_pred     error  error_relativo\n",
       "0         20001  5.98    5.110179  0.869821        0.145455\n",
       "7         20008  0.78    1.535029  0.755029        0.967986\n",
       "11        20012  0.69    1.329974  0.639974        0.927499\n",
       "17        20018  0.56    0.987051  0.427051        0.762591\n",
       "1         20002  4.32    3.965106  0.354894        0.082151\n",
       "27        20028  0.44    0.769784  0.329784        0.749508\n",
       "2         20003  3.55    3.221689  0.328311        0.092482\n",
       "40        20044  0.24    0.514811  0.274811        1.145047\n",
       "43        20047  0.28    0.547957  0.267957        0.956989\n",
       "72        20080  0.04    0.292944  0.252944        6.323592\n",
       "89        20100  0.01    0.260288  0.250288       25.028826\n",
       "6         20007  1.55    1.776058  0.226058        0.145844\n",
       "123       20143  0.12    0.340741  0.220741        1.839508\n",
       "3         20004  2.54    2.321459  0.218541        0.086040\n",
       "16        20017  0.86    1.075687  0.215687        0.250799\n",
       "13        20014  1.08    1.295645  0.215645        0.199671\n",
       "29        20030  0.41    0.615476  0.205476        0.501162\n",
       "32        20033  0.38    0.576190  0.196190        0.516289\n",
       "65        20072  0.13    0.324323  0.194323        1.494794\n",
       "71        20079  0.11    0.296575  0.186575        1.696134"
      ]
     },
     "execution_count": 41,
     "metadata": {},
     "output_type": "execute_result"
    }
   ],
   "source": [
    "df_final[\"error\"] = (df_final[\"tn\"] - df_final[\"tn_t2_pred\"]).abs()\n",
    "df_final[\"error_relativo\"] = df_final[\"error\"] / df_final[\"tn\"]\n",
    "df_final.sort_values(by=\"error\", ascending=False, inplace=True)\n",
    "df_final[[\"product_id\" ,\"tn\", \"tn_t2_pred\", \"error\", \"error_relativo\"]].head(20)\n"
   ]
  },
  {
   "cell_type": "code",
   "execution_count": 42,
   "id": "7f3a5e1f",
   "metadata": {},
   "outputs": [],
   "source": [
    "sellin = pd.read_csv(\"../datasets/sell-in.txt.gz\", sep=\"\\t\")"
   ]
  },
  {
   "cell_type": "code",
   "execution_count": 43,
   "id": "44148a78",
   "metadata": {},
   "outputs": [],
   "source": [
    "\n",
    "# prod = 20995\n",
    "# prod_s = sellin[sellin[\"product_id\"] == prod]\n",
    "# prod_s[\"periodo\"] = pd.to_datetime(prod_s[\"periodo\"], format='%Y%m')\n",
    "# prod_s = prod_s.groupby(\"periodo\").agg({\"tn\": \"sum\"}).reset_index()\n",
    "# #prod_s.plot(kind=\"line\", x=\"periodo\", y=\"tn\", title=\"TN por periodo para producto 20002\")\n",
    "\n",
    "# import matplotlib.pyplot as plt\n",
    "\n",
    "# ax = plt.gca()\n",
    "# prod_s.plot(kind=\"line\", x=\"periodo\", y=\"tn\", title=f\"TN por periodo para producto {prod}\", ax=ax)\n",
    "# #plt.axhline(y=813.82, color='red', linestyle='--', label='predict')\n",
    "# prediccion = df_final[df_final[\"product_id\"] == prod][\"tn_t2_pred\"].values[0]\n",
    "# plt.scatter(prod_s[\"periodo\"].iloc[-1], prediccion, color='red', label='prediccion')\n",
    "# plt.legend()\n",
    "# plt.show()"
   ]
  },
  {
   "cell_type": "code",
   "execution_count": 44,
   "id": "99387317",
   "metadata": {},
   "outputs": [],
   "source": [
    "df_final[\"volumen_cuartil\"] = pd.qcut(df_final[\"tn\"], q=10, labels=False)\n"
   ]
  },
  {
   "cell_type": "code",
   "execution_count": 45,
   "id": "96bf2943",
   "metadata": {},
   "outputs": [
    {
     "name": "stdout",
     "output_type": "stream",
     "text": [
      "                    error\n",
      "volumen_cuartil          \n",
      "0                0.851431\n",
      "1                0.747292\n",
      "2                0.726492\n",
      "3                0.657297\n",
      "4                0.380835\n",
      "5                0.557732\n",
      "6                1.299090\n",
      "7                2.192357\n",
      "8                3.011904\n",
      "9                7.866719\n"
     ]
    }
   ],
   "source": [
    "print(df_final.groupby(\"volumen_cuartil\")[[\"error\"]].sum())"
   ]
  },
  {
   "cell_type": "code",
   "execution_count": 46,
   "id": "37239e0b",
   "metadata": {},
   "outputs": [
    {
     "data": {
      "text/plain": [
       "{0: {'loss': 1.0001556873321533, 'mae': 1.0000083446502686},\n",
       " 1: {'loss': 15.44094467163086, 'mae': 29.510793685913086},\n",
       " 2: {'loss': 1.000465750694275, 'mae': 1.0000011920928955},\n",
       " 3: {'loss': 1.0065045356750488, 'mae': 1.0008535385131836},\n",
       " 4: {'loss': 0.9345793128013611, 'mae': 0.9418708682060242}}"
      ]
     },
     "execution_count": 46,
     "metadata": {},
     "output_type": "execute_result"
    }
   ],
   "source": [
    "metricas"
   ]
  },
  {
   "cell_type": "code",
   "execution_count": 47,
   "id": "230e5ee0",
   "metadata": {},
   "outputs": [
    {
     "name": "stdout",
     "output_type": "stream",
     "text": [
      "Errores en predicciones: [20127, 20210, 20305, 20398, 20416, 20418, 20422, 20426, 20428, 20429, 20449, 20490, 20509, 20561, 20563, 20586, 20588, 20597, 20601, 20621, 20636, 20647, 20657, 20660, 20662, 20663, 20664, 20670, 20673, 20676, 20678, 20684, 20685, 20699, 20705, 20706, 20711, 20713, 20715, 20720, 20721, 20724, 20729, 20730, 20732, 20741, 20742, 20743, 20745, 20751, 20756, 20765, 20768, 20771, 20773, 20774, 20781, 20786, 20788, 20789, 20800, 20802, 20803, 20810, 20812, 20817, 20818, 20824, 20826, 20827, 20828, 20830, 20835, 20838, 20840, 20843, 20845, 20846, 20847, 20849, 20852, 20855, 20863, 20864, 20865, 20870, 20877, 20878, 20879, 20882, 20883, 20885, 20886, 20892, 20894, 20901, 20904, 20906, 20910, 20912, 20913, 20914, 20919, 20922, 20925, 20927, 20928, 20931, 20933, 20936, 20937, 20941, 20947, 20948, 20949, 20953, 20956, 20957, 20961, 20965, 20966, 20967, 20970, 20976, 20982, 20985, 20986, 20987, 20990, 20991, 20994, 20996, 20997, 21001, 21003, 21006, 21007, 21008, 21014, 21016, 21022, 21024, 21027, 21028, 21032, 21033, 21034, 21035, 21037, 21038, 21039, 21040, 21042, 21044, 21048, 21049, 21055, 21056, 21057, 21064, 21065, 21073, 21074, 21077, 21079, 21080, 21084, 21086, 21088, 21092, 21093, 21099, 21105, 21109, 21111, 21112, 21114, 21118, 21119, 21126, 21131, 21135, 21140, 21142, 21153, 21155, 21157, 21159, 21163, 21164, 21167, 21168, 21170, 21171, 21176, 21179, 21180, 21182, 21184, 21190, 21191, 21192, 21194, 21196, 21200, 21201, 21202, 21207, 21209, 21212, 21218, 21222, 21224, 21226, 21227, 21233, 21244, 21245, 21246, 21248, 21252, 21256, 21259, 21262, 21263, 21265, 21266, 21267, 21276] de 780 productos\n"
     ]
    }
   ],
   "source": [
    "df_preds_t2, errores = predecir_todos_t2(\n",
    "    df_features_full=df,\n",
    "    scalers=scalers,\n",
    "    feature_cols=feature_cols,\n",
    "    #window_size=window_size\n",
    ")"
   ]
  },
  {
   "cell_type": "code",
   "execution_count": 48,
   "id": "19d30b6f",
   "metadata": {},
   "outputs": [],
   "source": [
    "total_diciembre = sellin.query(\"periodo == 201912\")[\"tn\"].sum()"
   ]
  },
  {
   "cell_type": "code",
   "execution_count": 51,
   "id": "ec11390c",
   "metadata": {},
   "outputs": [],
   "source": [
    "productos_ok = pd.read_csv(\"https://storage.googleapis.com/open-courses/austral2025-af91/labo3v/product_id_apredecir201912.txt\", sep=\"\\t\")\n",
    "\n",
    "pred = pd.DataFrame({\"product_id\": df_preds_t2[\"product_id\"],  \"tn\": df_preds_t2[\"tn_t2_pred\"]})\n",
    "pred[\"tn\"] = pred[\"tn\"] * total_diciembre/100 *0.9\n",
    "pred = pred[pred[\"product_id\"].isin(productos_ok[\"product_id\"])]\n",
    "result_name = config[\"result_name\"]\n",
    "pred.to_csv(f\"{result_name}_090.csv\", sep=\",\", index=False)"
   ]
  },
  {
   "cell_type": "code",
   "execution_count": 32,
   "id": "b71080c2",
   "metadata": {},
   "outputs": [
    {
     "data": {
      "application/vnd.microsoft.datawrangler.viewer.v0+json": {
       "columns": [
        {
         "name": "index",
         "rawType": "int64",
         "type": "integer"
        },
        {
         "name": "product_id",
         "rawType": "int64",
         "type": "integer"
        },
        {
         "name": "tn",
         "rawType": "float64",
         "type": "float"
        }
       ],
       "ref": "4ddcb0cf-0e89-4f50-8cf8-1360a1d1a7a3",
       "rows": [
        [
         "0",
         "20001",
         "1335.3404964512372"
        ],
        [
         "1",
         "20002",
         "951.7207796820815"
        ],
        [
         "2",
         "20003",
         "841.3599066952776"
        ],
        [
         "3",
         "20004",
         "553.1844674722194"
        ],
        [
         "4",
         "20005",
         "514.3569082047992"
        ],
        [
         "5",
         "20006",
         "451.0066671443147"
        ],
        [
         "6",
         "20007",
         "454.6829412012703"
        ],
        [
         "7",
         "20008",
         "410.05951149422486"
        ],
        [
         "8",
         "20009",
         "490.0558995661926"
        ],
        [
         "9",
         "20010",
         "424.9995884254606"
        ],
        [
         "10",
         "20011",
         "353.41863735587157"
        ],
        [
         "11",
         "20012",
         "377.2078087293718"
        ],
        [
         "12",
         "20013",
         "362.46542239912384"
        ],
        [
         "13",
         "20014",
         "366.182071657534"
        ],
        [
         "14",
         "20015",
         "323.6968756138051"
        ],
        [
         "15",
         "20016",
         "311.8340296552245"
        ],
        [
         "16",
         "20017",
         "278.79703367371934"
        ],
        [
         "17",
         "20018",
         "269.7860782425079"
        ],
        [
         "18",
         "20019",
         "334.8153990786982"
        ],
        [
         "19",
         "20020",
         "276.0943075212997"
        ],
        [
         "20",
         "20021",
         "262.69209103619613"
        ],
        [
         "21",
         "20022",
         "279.22080595751527"
        ],
        [
         "22",
         "20023",
         "235.41696231198955"
        ],
        [
         "23",
         "20024",
         "221.51687724000928"
        ],
        [
         "24",
         "20025",
         "214.79101297174125"
        ],
        [
         "25",
         "20026",
         "219.2859365081139"
        ],
        [
         "26",
         "20027",
         "200.4013048380493"
        ],
        [
         "27",
         "20028",
         "215.2346303409488"
        ],
        [
         "28",
         "20029",
         "186.43753877677503"
        ],
        [
         "29",
         "20030",
         "167.01105924443135"
        ],
        [
         "30",
         "20031",
         "193.81914696329753"
        ],
        [
         "31",
         "20032",
         "537.7751234430755"
        ],
        [
         "32",
         "20033",
         "165.8952448932919"
        ],
        [
         "33",
         "20035",
         "167.6185153526271"
        ],
        [
         "34",
         "20037",
         "116.18937880114025"
        ],
        [
         "35",
         "20038",
         "153.78412206411517"
        ],
        [
         "36",
         "20039",
         "141.08460686312995"
        ],
        [
         "37",
         "20041",
         "136.1558439445331"
        ],
        [
         "38",
         "20042",
         "143.03111965023982"
        ],
        [
         "39",
         "20043",
         "138.67202007274744"
        ],
        [
         "40",
         "20044",
         "148.12697984857175"
        ],
        [
         "41",
         "20045",
         "142.65887475230747"
        ],
        [
         "42",
         "20046",
         "141.52695112918136"
        ],
        [
         "43",
         "20047",
         "145.28302405913357"
        ],
        [
         "44",
         "20049",
         "160.85132497561392"
        ],
        [
         "45",
         "20050",
         "135.38852970740783"
        ],
        [
         "46",
         "20051",
         "135.09697254487617"
        ],
        [
         "47",
         "20052",
         "122.30993887936376"
        ],
        [
         "48",
         "20053",
         "142.29977722101864"
        ],
        [
         "49",
         "20054",
         "120.1874469250039"
        ]
       ],
       "shape": {
        "columns": 2,
        "rows": 780
       }
      },
      "text/html": [
       "<div>\n",
       "<style scoped>\n",
       "    .dataframe tbody tr th:only-of-type {\n",
       "        vertical-align: middle;\n",
       "    }\n",
       "\n",
       "    .dataframe tbody tr th {\n",
       "        vertical-align: top;\n",
       "    }\n",
       "\n",
       "    .dataframe thead th {\n",
       "        text-align: right;\n",
       "    }\n",
       "</style>\n",
       "<table border=\"1\" class=\"dataframe\">\n",
       "  <thead>\n",
       "    <tr style=\"text-align: right;\">\n",
       "      <th></th>\n",
       "      <th>product_id</th>\n",
       "      <th>tn</th>\n",
       "    </tr>\n",
       "  </thead>\n",
       "  <tbody>\n",
       "    <tr>\n",
       "      <th>0</th>\n",
       "      <td>20001</td>\n",
       "      <td>1335.340496</td>\n",
       "    </tr>\n",
       "    <tr>\n",
       "      <th>1</th>\n",
       "      <td>20002</td>\n",
       "      <td>951.720780</td>\n",
       "    </tr>\n",
       "    <tr>\n",
       "      <th>2</th>\n",
       "      <td>20003</td>\n",
       "      <td>841.359907</td>\n",
       "    </tr>\n",
       "    <tr>\n",
       "      <th>3</th>\n",
       "      <td>20004</td>\n",
       "      <td>553.184467</td>\n",
       "    </tr>\n",
       "    <tr>\n",
       "      <th>4</th>\n",
       "      <td>20005</td>\n",
       "      <td>514.356908</td>\n",
       "    </tr>\n",
       "    <tr>\n",
       "      <th>...</th>\n",
       "      <td>...</td>\n",
       "      <td>...</td>\n",
       "    </tr>\n",
       "    <tr>\n",
       "      <th>775</th>\n",
       "      <td>21263</td>\n",
       "      <td>0.000000</td>\n",
       "    </tr>\n",
       "    <tr>\n",
       "      <th>776</th>\n",
       "      <td>21265</td>\n",
       "      <td>0.000000</td>\n",
       "    </tr>\n",
       "    <tr>\n",
       "      <th>777</th>\n",
       "      <td>21266</td>\n",
       "      <td>0.000000</td>\n",
       "    </tr>\n",
       "    <tr>\n",
       "      <th>778</th>\n",
       "      <td>21267</td>\n",
       "      <td>0.000000</td>\n",
       "    </tr>\n",
       "    <tr>\n",
       "      <th>779</th>\n",
       "      <td>21276</td>\n",
       "      <td>0.000000</td>\n",
       "    </tr>\n",
       "  </tbody>\n",
       "</table>\n",
       "<p>780 rows × 2 columns</p>\n",
       "</div>"
      ],
      "text/plain": [
       "     product_id           tn\n",
       "0         20001  1335.340496\n",
       "1         20002   951.720780\n",
       "2         20003   841.359907\n",
       "3         20004   553.184467\n",
       "4         20005   514.356908\n",
       "..          ...          ...\n",
       "775       21263     0.000000\n",
       "776       21265     0.000000\n",
       "777       21266     0.000000\n",
       "778       21267     0.000000\n",
       "779       21276     0.000000\n",
       "\n",
       "[780 rows x 2 columns]"
      ]
     },
     "execution_count": 32,
     "metadata": {},
     "output_type": "execute_result"
    }
   ],
   "source": [
    "pred"
   ]
  },
  {
   "cell_type": "code",
   "execution_count": 246,
   "id": "38827deb",
   "metadata": {},
   "outputs": [
    {
     "data": {
      "text/plain": [
       "780"
      ]
     },
     "execution_count": 246,
     "metadata": {},
     "output_type": "execute_result"
    }
   ],
   "source": [
    "df_preds_t2[df_preds_t2[\"product_id\"].isin(productos_ok[\"product_id\"])].product_id.nunique()"
   ]
  },
  {
   "cell_type": "code",
   "execution_count": 247,
   "id": "461d2c70",
   "metadata": {},
   "outputs": [],
   "source": [
    "pred.drop_duplicates(subset=[\"product_id\"], inplace=True)"
   ]
  },
  {
   "cell_type": "code",
   "execution_count": 248,
   "id": "5cf04764",
   "metadata": {},
   "outputs": [
    {
     "data": {
      "application/vnd.microsoft.datawrangler.viewer.v0+json": {
       "columns": [
        {
         "name": "index",
         "rawType": "int64",
         "type": "integer"
        },
        {
         "name": "product_id",
         "rawType": "int64",
         "type": "integer"
        },
        {
         "name": "tn",
         "rawType": "float64",
         "type": "float"
        }
       ],
       "ref": "237b39eb-c6db-4b90-a915-631fd9d54895",
       "rows": [
        [
         "0",
         "20001",
         "1271.242494861746"
        ],
        [
         "1",
         "20002",
         "944.6600382417898"
        ],
        [
         "2",
         "20003",
         "706.079340977396"
        ],
        [
         "3",
         "20004",
         "495.4782342372567"
        ],
        [
         "4",
         "20005",
         "450.4617498217275"
        ],
        [
         "5",
         "20006",
         "425.74755754556895"
        ],
        [
         "6",
         "20007",
         "406.12482092425785"
        ],
        [
         "7",
         "20008",
         "429.0126498722004"
        ],
        [
         "8",
         "20009",
         "434.96457447413314"
        ],
        [
         "9",
         "20010",
         "358.75709253506307"
        ],
        [
         "10",
         "20011",
         "309.8769550639424"
        ],
        [
         "11",
         "20012",
         "303.89035408765557"
        ],
        [
         "12",
         "20013",
         "363.6873560346495"
        ],
        [
         "13",
         "20014",
         "371.43883494277367"
        ],
        [
         "14",
         "20015",
         "352.2457402335698"
        ],
        [
         "15",
         "20016",
         "298.4576145883762"
        ],
        [
         "16",
         "20017",
         "254.65025542767347"
        ],
        [
         "17",
         "20018",
         "249.44429643796917"
        ],
        [
         "18",
         "20019",
         "282.0226241703549"
        ],
        [
         "19",
         "20020",
         "250.34741374226212"
        ],
        [
         "20",
         "20021",
         "210.94570540738954"
        ],
        [
         "21",
         "20022",
         "225.96418773647386"
        ],
        [
         "22",
         "20023",
         "216.95169007997987"
        ],
        [
         "23",
         "20024",
         "198.816898551102"
        ],
        [
         "24",
         "20025",
         "210.54914626454655"
        ],
        [
         "25",
         "20026",
         "212.24373651253802"
        ],
        [
         "26",
         "20027",
         "217.22367027472995"
        ],
        [
         "27",
         "20028",
         "224.83515710475956"
        ],
        [
         "28",
         "20029",
         "162.94414033169804"
        ],
        [
         "29",
         "20030",
         "121.42120639438632"
        ],
        [
         "30",
         "20031",
         "172.04554387640587"
        ],
        [
         "31",
         "20032",
         "580.0374649888703"
        ],
        [
         "32",
         "20033",
         "167.94111645482184"
        ],
        [
         "34",
         "20035",
         "168.25281715636103"
        ],
        [
         "36",
         "20037",
         "68.94595195881068"
        ],
        [
         "37",
         "20038",
         "143.2302702531521"
        ],
        [
         "38",
         "20039",
         "136.2661444639188"
        ],
        [
         "40",
         "20041",
         "123.21842639754414"
        ],
        [
         "41",
         "20042",
         "139.30881836192117"
        ],
        [
         "42",
         "20043",
         "133.11080308513448"
        ],
        [
         "43",
         "20044",
         "138.18734606890618"
        ],
        [
         "44",
         "20045",
         "141.81607146197211"
        ],
        [
         "45",
         "20046",
         "122.67918700878722"
        ],
        [
         "46",
         "20047",
         "149.20989086102782"
        ],
        [
         "48",
         "20049",
         "167.11041342299285"
        ],
        [
         "49",
         "20050",
         "130.79068936150014"
        ],
        [
         "50",
         "20051",
         "126.92335995300085"
        ],
        [
         "51",
         "20052",
         "117.68995877467842"
        ],
        [
         "52",
         "20053",
         "134.61611390249536"
        ],
        [
         "53",
         "20054",
         "117.9691793376994"
        ]
       ],
       "shape": {
        "columns": 2,
        "rows": 780
       }
      },
      "text/html": [
       "<div>\n",
       "<style scoped>\n",
       "    .dataframe tbody tr th:only-of-type {\n",
       "        vertical-align: middle;\n",
       "    }\n",
       "\n",
       "    .dataframe tbody tr th {\n",
       "        vertical-align: top;\n",
       "    }\n",
       "\n",
       "    .dataframe thead th {\n",
       "        text-align: right;\n",
       "    }\n",
       "</style>\n",
       "<table border=\"1\" class=\"dataframe\">\n",
       "  <thead>\n",
       "    <tr style=\"text-align: right;\">\n",
       "      <th></th>\n",
       "      <th>product_id</th>\n",
       "      <th>tn</th>\n",
       "    </tr>\n",
       "  </thead>\n",
       "  <tbody>\n",
       "    <tr>\n",
       "      <th>0</th>\n",
       "      <td>20001</td>\n",
       "      <td>1271.242495</td>\n",
       "    </tr>\n",
       "    <tr>\n",
       "      <th>1</th>\n",
       "      <td>20002</td>\n",
       "      <td>944.660038</td>\n",
       "    </tr>\n",
       "    <tr>\n",
       "      <th>2</th>\n",
       "      <td>20003</td>\n",
       "      <td>706.079341</td>\n",
       "    </tr>\n",
       "    <tr>\n",
       "      <th>3</th>\n",
       "      <td>20004</td>\n",
       "      <td>495.478234</td>\n",
       "    </tr>\n",
       "    <tr>\n",
       "      <th>4</th>\n",
       "      <td>20005</td>\n",
       "      <td>450.461750</td>\n",
       "    </tr>\n",
       "    <tr>\n",
       "      <th>...</th>\n",
       "      <td>...</td>\n",
       "      <td>...</td>\n",
       "    </tr>\n",
       "    <tr>\n",
       "      <th>1197</th>\n",
       "      <td>21263</td>\n",
       "      <td>0.014723</td>\n",
       "    </tr>\n",
       "    <tr>\n",
       "      <th>1199</th>\n",
       "      <td>21265</td>\n",
       "      <td>0.040548</td>\n",
       "    </tr>\n",
       "    <tr>\n",
       "      <th>1200</th>\n",
       "      <td>21266</td>\n",
       "      <td>0.044690</td>\n",
       "    </tr>\n",
       "    <tr>\n",
       "      <th>1201</th>\n",
       "      <td>21267</td>\n",
       "      <td>0.029089</td>\n",
       "    </tr>\n",
       "    <tr>\n",
       "      <th>1210</th>\n",
       "      <td>21276</td>\n",
       "      <td>0.003486</td>\n",
       "    </tr>\n",
       "  </tbody>\n",
       "</table>\n",
       "<p>780 rows × 2 columns</p>\n",
       "</div>"
      ],
      "text/plain": [
       "      product_id           tn\n",
       "0          20001  1271.242495\n",
       "1          20002   944.660038\n",
       "2          20003   706.079341\n",
       "3          20004   495.478234\n",
       "4          20005   450.461750\n",
       "...          ...          ...\n",
       "1197       21263     0.014723\n",
       "1199       21265     0.040548\n",
       "1200       21266     0.044690\n",
       "1201       21267     0.029089\n",
       "1210       21276     0.003486\n",
       "\n",
       "[780 rows x 2 columns]"
      ]
     },
     "execution_count": 248,
     "metadata": {},
     "output_type": "execute_result"
    }
   ],
   "source": [
    "pred"
   ]
  },
  {
   "cell_type": "code",
   "execution_count": null,
   "id": "f9a2ae52",
   "metadata": {},
   "outputs": [],
   "source": []
  }
 ],
 "metadata": {
  "kernelspec": {
   "display_name": "tf",
   "language": "python",
   "name": "python3"
  },
  "language_info": {
   "codemirror_mode": {
    "name": "ipython",
    "version": 3
   },
   "file_extension": ".py",
   "mimetype": "text/x-python",
   "name": "python",
   "nbconvert_exporter": "python",
   "pygments_lexer": "ipython3",
   "version": "3.10.18"
  }
 },
 "nbformat": 4,
 "nbformat_minor": 5
}
